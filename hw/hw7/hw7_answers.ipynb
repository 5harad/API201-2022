{
  "cells": [
    {
      "cell_type": "markdown",
      "id": "4839cd02-22e6-4e06-9617-eccba2b91eb8",
      "metadata": {
        "tags": [],
        "id": "4839cd02-22e6-4e06-9617-eccba2b91eb8"
      },
      "source": [
        "# API-201 ABC PROBLEM SET #7\n",
        "**Due on Wednesday, October 26, at 11:59 p.m.**"
      ]
    },
    {
      "cell_type": "markdown",
      "id": "55a12d42-ccc1-482f-b4c3-2d02e3286eda",
      "metadata": {
        "id": "55a12d42-ccc1-482f-b4c3-2d02e3286eda"
      },
      "source": [
        "**I - INSTRUCTIONS**  \n",
        "To successfully complete this problem set, please follow these steps:\n",
        "\n",
        "1. **Create a copy of this Jupyter notebook in your own drive by clicking `Copy to Drive` in the menubar (this is explained below in more detail below) - *if you do not do this your work will not be saved!***\n",
        "    1. Remember to save your work frequently by pressing `command-S` or clicking `File > Save` in the menubar.\n",
        "    1. We recommend completing this problem set in Google Chrome.\n",
        "2. **Insert all your answers into your copy of the document.** \n",
        "    1. Please include every portion of your submission in this document unless a separate electronic file is explicitly requested. \n",
        "    3. All numerical calculations should be done in the notebook itself, using R code. If you have to do calculations by hand, include a picture of your handwritten work.\n",
        "    2. To add an image of handwritten work, screenshots, or anything else, add a new text cell and click the small image icon in the menubar above the cell. After inserting an image, press the `esc` key to show the image. If you have trouble with this method, upload your image to [Freeimage.host](https://freeimage.host), copy a Markdown link, and paste it in a text cell.\n",
        "3. **Once your document is complete, please save and submit the notebook on Canvas as a PDF.** \n",
        "    1. Click `View > Expand sections` in the menubar to make sure all work is visible (if it is greyed out then it is already visible).\n",
        "    1. Click `Runtime > Run all` in the menubar to make sure all of your code is executed.\n",
        "    1. Click `File > Print` in the menubar and choose the `Save as PDF` option in Chrome to export your notebook as a PDF. \n",
        "    1. Check to make sure answers do not get cut off - when you go to print the PDF we recommend clicking on `More settings` and setting `Margins` to `None`.\n",
        "    1. Submit your file on Canvas.\n"
      ]
    },
    {
      "cell_type": "markdown",
      "id": "4ddbaaa5-6eeb-431a-8c4c-2786c0ebcae8",
      "metadata": {
        "id": "4ddbaaa5-6eeb-431a-8c4c-2786c0ebcae8"
      },
      "source": [
        "**II - IDENTIFICATION**\n",
        "1. **Your Full Name:** `     `  \n",
        "\n",
        "2. **Group Members (classmates with whom you worked on this problem set):**  \n",
        "    1. `     `\n",
        "    2. `     `\n",
        "    3. `     `\n",
        "    4. `     `\n",
        "    \n",
        "3. **Compliance with HKS Academic Code**  \n",
        "We abide by the Harvard Kennedy School Academic code for all aspects of the course. In terms of problem sets, unless explicitly written otherwise, the norms are the following: You are free (and encouraged) to discuss problem sets with your classmates. However, you must hand in your own unique written work and code in all cases. Any copy/paste of another’s work is plagiarism. In other words, you may work with your classmate(s), sitting side-by-side (physically or remotely!) and going through the problem set question by question, but you must each type your own answers and your own code. For more details, please see syllabus.\n",
        "\n",
        "    **I certify that my work in this problem set complies with the HKS Academic Code**\n",
        "    - [ ] Yes\n",
        "    - [ ] No\n",
        "\n",
        "---"
      ]
    },
    {
      "cell_type": "markdown",
      "id": "d5711e37-1060-49bc-99a6-d15b04756f16",
      "metadata": {
        "id": "d5711e37-1060-49bc-99a6-d15b04756f16"
      },
      "source": [
        "## Load `R` libraries and data\n",
        "\n",
        "The code cell below imports the R tidyverse and creates a dataframe that we will be using for Part II. Make sure to run it before starting the problem set!\n"
      ]
    },
    {
      "cell_type": "code",
      "execution_count": null,
      "id": "aa889d79-5ab9-42af-8590-30819c45124f",
      "metadata": {
        "tags": [],
        "id": "aa889d79-5ab9-42af-8590-30819c45124f"
      },
      "outputs": [],
      "source": [
        "library(tidyverse)\n",
        "set.seed(101)\n",
        "incdata <- tibble(\n",
        "    household = 1:5432,\n",
        "    income = round(8e4 * rf(5432, 10, 10), -3)\n",
        ")"
      ]
    },
    {
      "cell_type": "markdown",
      "id": "5fb55a91-f32e-4a7d-a9a1-f8158e2bdb22",
      "metadata": {
        "id": "5fb55a91-f32e-4a7d-a9a1-f8158e2bdb22"
      },
      "source": [
        "---"
      ]
    },
    {
      "cell_type": "markdown",
      "id": "684fb8be-21bf-496d-85a7-d3c8cec6e7ba",
      "metadata": {
        "id": "684fb8be-21bf-496d-85a7-d3c8cec6e7ba"
      },
      "source": [
        "# PART I: E-CIGARETTES"
      ]
    },
    {
      "cell_type": "markdown",
      "id": "7110bf0a-f67d-4466-9f6c-c2eea9971cec",
      "metadata": {
        "id": "7110bf0a-f67d-4466-9f6c-c2eea9971cec"
      },
      "source": [
        "E-cigarettes have been in the news lately.  Notably, the U.S. Centers for Disease Control and Prevention (CDC) have been tracking an outbreak of lung injuries associated with the use of e-cigarettes.  According to the CDC, “[a]s of October 15, 2019, 1,479 lung injury cases associated with the use of e-cigarette, or vaping, products have been reported to CDC from 49 states (all except Alaska), the District of Columbia, and 1 U.S. territory.”  \n",
        "\n",
        "A recent survey conducted by Politico and the Harvard T.H. Chan School of Public Health indicated that 47 percent of respondents believe that e-cigarettes are “very harmful” to people who use them.  Results were based on a random sample of 1,009 adults interviewed between July 16 and July 21, 2019."
      ]
    },
    {
      "cell_type": "markdown",
      "id": "17b8bd19-4b59-48b1-abf3-9b809f966de9",
      "metadata": {
        "id": "17b8bd19-4b59-48b1-abf3-9b809f966de9"
      },
      "source": [
        "**a. The Basics.  Define the following terms as they relate to the polling question described above: Population of interet, Sample, Estimate.**\n",
        "\n"
      ]
    },
    {
      "cell_type": "markdown",
      "id": "efe52565-fd48-4475-b514-cdfb80f8d6f2",
      "metadata": {
        "id": "efe52565-fd48-4475-b514-cdfb80f8d6f2"
      },
      "source": [
        "Your answer here!\n",
        "\n",
        "1. Population of interest:\n",
        "2. Sample:\n",
        "3. Estimate:\n",
        "\n",
        "##### START\n",
        "\n",
        "1. Population of interest: American adults \n",
        "2. Sample: 1,009 adults interviewed between July 16-21, 2019\n",
        "3. Estimate: the proportion of adults in our sample who considered e-cigarettes “very harmful” to people who use them= $\\hat{p}= 0.47$.\n",
        "\n",
        "##### END"
      ]
    },
    {
      "cell_type": "markdown",
      "id": "30094cbe-1a4d-4181-8917-689e703e8f4e",
      "metadata": {
        "id": "30094cbe-1a4d-4181-8917-689e703e8f4e"
      },
      "source": [
        "**b. Based on the fact that the survey found 47 percent of respondents think e-cigarettes are \"very harmful\", an e-cigarette proponent claims that less than a majority of Americans believe e-cigarettes are very harmful (since 47 percent is less than 50 percent). Using concepts from our most recent API-201 classes, explain to a health policy official why that claim is not necessarily true. You can assume that the health policy official is motivated to understand but not well versed in statistics and that the poll was well designed and conducted.**"
      ]
    },
    {
      "cell_type": "markdown",
      "id": "676339ca-898c-4f90-a632-cfdbdbdb6fd8",
      "metadata": {
        "id": "676339ca-898c-4f90-a632-cfdbdbdb6fd8"
      },
      "source": [
        "Your answer here!\n",
        "\n",
        "##### START\n",
        "\n",
        "To know the true proportion of Americans who believe that e-cigarettes are very harmful to people who use them, we would need to survey every single American. This proportion, out of the 300 million + people living in the United States, is the population parameter of interest. Because it would be very expensive (if even possible) to ask every single person, we ask a random sample of people instead. If we take samples that are sufficiently large, the estimate will be close to the population parameter with high probability. However, this is not true for each individual sample. In some cases, we will select a sample in which the result is higher than the true value in the overall population. In other cases, we will select a sample in which the result is lower than the true value in the population. These differences are called sampling fluctuations. Because of sampling fluctuations, there is uncertainty associated with our estimate, which we can calculate. In this case, it is possible that the true proportion of Americans might be higher than 50%, even though this particular estimate was 47%.\n",
        "\n",
        "##### END"
      ]
    },
    {
      "cell_type": "markdown",
      "id": "7d9dfe03-a657-44aa-b9cc-f9599625eab2",
      "metadata": {
        "id": "7d9dfe03-a657-44aa-b9cc-f9599625eab2"
      },
      "source": [
        "**c. Construct a 95% confidence interval for the percentage of people that believe that e-cigarettes are “very harmful.”**"
      ]
    },
    {
      "cell_type": "markdown",
      "source": [
        "Your answer here!"
      ],
      "metadata": {
        "id": "Pm3M5dBYJpk_"
      },
      "id": "Pm3M5dBYJpk_"
    },
    {
      "cell_type": "markdown",
      "source": [
        "**d. Why does sample size matter?  Explain intuitively why the size of the sample affects the width of the confidence interval, even if the results in a larger sample are exactly the same as the results in a smaller sample.  Use language that a policymaker who is curious but not well trained in statistics can understand. [One paragraph]**"
      ],
      "metadata": {
        "id": "RmeEsvIUJvWf"
      },
      "id": "RmeEsvIUJvWf"
    },
    {
      "cell_type": "markdown",
      "source": [
        "Your answer here!"
      ],
      "metadata": {
        "id": "sZgtjqc8JzH7"
      },
      "id": "sZgtjqc8JzH7"
    },
    {
      "cell_type": "markdown",
      "id": "efacdca3-264d-48f9-aa93-def66f25164a",
      "metadata": {
        "id": "efacdca3-264d-48f9-aa93-def66f25164a"
      },
      "source": [
        "---\n",
        "# PART II: SAMPLING INCOME"
      ]
    },
    {
      "cell_type": "markdown",
      "id": "90cc43f5-311e-4ddf-b69f-22c9929779ea",
      "metadata": {
        "id": "90cc43f5-311e-4ddf-b69f-22c9929779ea"
      },
      "source": [
        "The goal of this question is to help you develop a deeper understanding of three important concepts in statistical inference (population distribution, distribution of the sample, and sampling distribution) and of one of the most important theorems in statistics (the Central Limit Theorem). You will use a simulated dataset to take samples and see the CLT working in practice.\n",
        "\n",
        "The data frame `incdata` includes data on household income for every household in (the fictional city of) Hawkins, Indiana. The first column `household` indexes households while the second column `income` reports income rounded to the nearest $1000."
      ]
    },
    {
      "cell_type": "code",
      "execution_count": null,
      "id": "51241868-feb7-4e49-8aba-007166ac7314",
      "metadata": {
        "id": "51241868-feb7-4e49-8aba-007166ac7314"
      },
      "outputs": [],
      "source": [
        "head(incdata)"
      ]
    },
    {
      "cell_type": "markdown",
      "id": "070e3449-0514-46a0-ae67-85461b2b321b",
      "metadata": {
        "id": "070e3449-0514-46a0-ae67-85461b2b321b"
      },
      "source": [
        "Let’s start by analyzing the data from the population.  It’s useful to understand the data in the underlying population before we start sampling.  \n",
        "\n",
        "**a. Distribution of the population.** Report the average household income in the overall population as well as the standard deviation for the population. In addition, create a graph that represents the full population distribution. Title your graph “Income Distribution for Hawkins, Indiana”"
      ]
    },
    {
      "cell_type": "code",
      "execution_count": null,
      "id": "e0fa807b-6351-45fe-8496-53698be37bad",
      "metadata": {
        "id": "e0fa807b-6351-45fe-8496-53698be37bad"
      },
      "outputs": [],
      "source": [
        "# Your answer here!\n",
        "\n",
        "# START\n",
        "incdata %>%\n",
        "  summarize(mean = mean(income), sd = sd(income))\n",
        "\n",
        "ggplot(incdata, aes(x = income)) + geom_histogram()\n",
        "# END"
      ]
    },
    {
      "cell_type": "markdown",
      "id": "ecd1afd2-b77d-451a-863e-565a6d8c566e",
      "metadata": {
        "id": "ecd1afd2-b77d-451a-863e-565a6d8c566e"
      },
      "source": [
        "**b. What exactly do we mean by \"the population distribution?\"**  In a sentence or two, explain to someone who is curious but not trained in statistics what the graph you created in part (a) shows."
      ]
    },
    {
      "cell_type": "markdown",
      "id": "b93f0da9-f64b-4e1e-8375-829b77a6aa82",
      "metadata": {
        "id": "b93f0da9-f64b-4e1e-8375-829b77a6aa82"
      },
      "source": [
        "Your answer here!\n",
        "\n",
        "##### START\n",
        "\n",
        "The population distribution shows the number of households in the population by their level of income rounded to the nearest $1000. These are the number of households we would get if we asked a representative of each household their household's income.\n",
        "\n",
        "##### END"
      ]
    },
    {
      "cell_type": "markdown",
      "id": "dbea3652-9709-4bb3-a8b9-1d1a347e3ea2",
      "metadata": {
        "id": "dbea3652-9709-4bb3-a8b9-1d1a347e3ea2"
      },
      "source": [
        "**c. Results of survey 1.**  Report the average income of a simulated survey of five households (i.e., the results of a random sample of five households). To do this, use the `sample()` function to randomly choose 5 elements of the vector `incdata$income`. Then use the `mean` function to calculate the average income of the sample. Report the results for this particular sample in the box below."
      ]
    },
    {
      "cell_type": "code",
      "execution_count": null,
      "id": "7f43c8d6-1f4c-4000-82a7-cb042531d56c",
      "metadata": {
        "id": "7f43c8d6-1f4c-4000-82a7-cb042531d56c"
      },
      "outputs": [],
      "source": [
        "# Your answer here!\n",
        "set.seed(1)\n",
        "\n",
        "# START\n",
        "mean(sample(incdata$income, 5))\n",
        "# END"
      ]
    },
    {
      "cell_type": "markdown",
      "id": "42e80fca-943d-4c57-9b7e-d6bfe86822d4",
      "metadata": {
        "id": "42e80fca-943d-4c57-9b7e-d6bfe86822d4"
      },
      "source": [
        "**d. Results of surveys 1-500.**  Conduct 500 simulated surveys, each of five Hawkins households. In each sample of five households, calculate and store the sample average household income. Call this object of 500 simulated surveys `avg_income_n5`. \\[You do not need to report anything for this subpart\\]"
      ]
    },
    {
      "cell_type": "code",
      "execution_count": null,
      "id": "e89a3f57-1a68-40c1-8fbc-486e937c697d",
      "metadata": {
        "id": "e89a3f57-1a68-40c1-8fbc-486e937c697d"
      },
      "outputs": [],
      "source": [
        "# Your answer here!\n",
        "set.seed(1)\n",
        "\n",
        "# START\n",
        "avg_income_n5 <- replicate(500, mean(sample(incdata$income, 5)))\n",
        "# END"
      ]
    },
    {
      "cell_type": "markdown",
      "id": "57966d15-04d2-4579-9cdc-d3afcfc2d506",
      "metadata": {
        "id": "57966d15-04d2-4579-9cdc-d3afcfc2d506"
      },
      "source": [
        "**e. Distribution of small-sample estimates.** You now have 500 small-sample estimates of the average household income of Hawkins.  Calculate the mean and standard deviation of these 500 estimates.  Then create a histogram that represents the distribution of estimates. For the histogram, set the bin width to \\$5,000, set the limits of the x-axis to vary between \\$0 and \\$300,000, and title the x-axis \"Sample Average Household Income\".\n",
        "\n",
        "*Hint: `ggplot` requires that you provide a dataset, and the sample mean incomes you produced above is just a vector of numbers. You can use the line of code below to turn your object `avg_income_n5` into a dataset called `sim_n5` with variable `avg_income` corresponding to the average income for each simulated sample.*"
      ]
    },
    {
      "cell_type": "code",
      "execution_count": null,
      "id": "6ad36196-88ff-4d7d-9e31-8c44bb75f40a",
      "metadata": {
        "id": "6ad36196-88ff-4d7d-9e31-8c44bb75f40a"
      },
      "outputs": [],
      "source": [
        "# Your answer here!\n",
        "sim_n5 <- tibble(avg_income = avg_income_n5)\n",
        "\n",
        "# START\n",
        "sim_n5 %>%\n",
        "  summarize(mean = mean(avg_income), sd = sd(avg_income))\n",
        "\n",
        "sim_n5 %>%\n",
        "  ggplot(aes(x = avg_income)) + \n",
        "  geom_histogram(binwidth = 5000) +\n",
        "  lims(x = c(0, 300000)) + \n",
        "  labs(x = \"Sample Average Household Income\")\n",
        "# END"
      ]
    },
    {
      "cell_type": "markdown",
      "id": "d7479ed2-8930-4b93-b7d3-c5b1c5bbfa7b",
      "metadata": {
        "id": "d7479ed2-8930-4b93-b7d3-c5b1c5bbfa7b"
      },
      "source": [
        "**f. What exactly is the distribution that you just made?**  In a few sentences, explain to someone who is curious but not trained in statistics what the graph you created in part (e) shows."
      ]
    },
    {
      "cell_type": "markdown",
      "id": "7e893d7d-e8dd-426c-a677-bb48b4a070cc",
      "metadata": {
        "id": "7e893d7d-e8dd-426c-a677-bb48b4a070cc"
      },
      "source": [
        "Your answer here!\n",
        "\n",
        "##### START\n",
        "\n",
        "We took 500 samples of five households each and calculated their average income. This is the distribution of those average incomes.\n",
        "\n",
        "##### END"
      ]
    },
    {
      "cell_type": "markdown",
      "id": "db3ec779-100f-48ee-896d-74bc388b694e",
      "metadata": {
        "id": "db3ec779-100f-48ee-896d-74bc388b694e"
      },
      "source": [
        "**g. Results of Large Surveys 1-500.** Now conduct another 500 surveys, but this time sample 100 respondents in each survey instead of just 5. Calculate the sample average household income in each sample. Call this object of 500 simulated surveys `avg_income_n100`. \\[You do not need to report anything for this subpart.\\]"
      ]
    },
    {
      "cell_type": "code",
      "execution_count": null,
      "id": "b843f07a-24e2-4c24-88fb-00aa1336273f",
      "metadata": {
        "id": "b843f07a-24e2-4c24-88fb-00aa1336273f"
      },
      "outputs": [],
      "source": [
        "# Your answer here!\n",
        "set.seed(1)\n",
        "\n",
        "# START\n",
        "\n",
        "avg_income_n100 <- replicate(500, mean(sample(incdata$income, 100)))\n",
        "\n",
        "# END"
      ]
    },
    {
      "cell_type": "markdown",
      "id": "768c8a11-b2e8-47f1-a3d9-12dde65a7643",
      "metadata": {
        "id": "768c8a11-b2e8-47f1-a3d9-12dde65a7643"
      },
      "source": [
        "**h. Distribution of larger-sample estimates.** Calculate the mean and standard deviation of the 500 large-sample estimates, and create a histogram that represents the distribution of estimates. For the histogram, set the bin width to \\$5,000, set the limits of the x-axis to vary between \\$0 and \\$300,000, and title the x-axis \"Sample Average Household Income\".\n",
        "\n",
        "*Hint: Once again, you can use the line of code below to turn your object `avg_income_n100` into a dataset called `sim_n100` with variable `avg_income` corresponding to the average income for each simulated sample.*"
      ]
    },
    {
      "cell_type": "code",
      "execution_count": null,
      "id": "a91f2d40-1d10-4fd8-8ff4-111dbbe0846a",
      "metadata": {
        "id": "a91f2d40-1d10-4fd8-8ff4-111dbbe0846a"
      },
      "outputs": [],
      "source": [
        "# Your answer here!\n",
        "sim_n100 <- tibble(avg_income = avg_income_n100)\n",
        "\n",
        "# START\n",
        "sim_n100 %>%\n",
        "  ggplot(aes(x = avg_income)) + \n",
        "  geom_histogram(binwidth = 5000) +\n",
        "  lims(x = c(0, 300000)) + \n",
        "  labs(x = \"Sample Average Household Income\")\n",
        "# END"
      ]
    },
    {
      "cell_type": "markdown",
      "id": "7539ab35-3032-4faa-8b64-fa44eee1f483",
      "metadata": {
        "id": "7539ab35-3032-4faa-8b64-fa44eee1f483"
      },
      "source": [
        "**i. What exactly is the distribution you just made?**  In a few sentences, explain to someone who is curious but not well-trained in statistics what the graph you created in part (h) shows.\n"
      ]
    },
    {
      "cell_type": "markdown",
      "id": "42e20603-9879-4047-9677-13efea57b453",
      "metadata": {
        "id": "42e20603-9879-4047-9677-13efea57b453"
      },
      "source": [
        "Your answer here!\n",
        "\n",
        "##### START\n",
        "\n",
        "We took a sample of 100 households and calculated their average income. Then, we repeated this for 500 samples. The above graph shows the distribution of those sample averages and allows us to make conclusions about how often a given sample average is likely to occur.\n",
        "\n",
        "##### END\n",
        "\n"
      ]
    },
    {
      "cell_type": "markdown",
      "id": "5a7c7094-bc5a-489a-a04d-d99eba68d241",
      "metadata": {
        "id": "5a7c7094-bc5a-489a-a04d-d99eba68d241"
      },
      "source": [
        "**j. Comparing distributions.**  Compare and contrast the distributions you generated in parts (d) and (h).  In a short paragraph, explain to a friend (who, as usual, is curious but not trained in statistics) both (i) the common features of the two distributions (ii) the obvious differences between them.\n"
      ]
    },
    {
      "cell_type": "markdown",
      "id": "66964a57-1483-4e06-bee0-41eee7908d30",
      "metadata": {
        "id": "66964a57-1483-4e06-bee0-41eee7908d30"
      },
      "source": [
        "Your answer here!\n",
        "\n",
        "##### START\n",
        "\n",
        "The two distributions are more or less centered around the true population value of $99552. In both distributions, sample means that are further away from that outcome are less likely to occur. However, in the small surveys, very incorrect results are more likely. The large survey can still have outcomes that are far from the true value, but these are much less likely. Moreover, the large survey estimates are roughly normally distributed while the small survey estimates are not.\n",
        "\n",
        "##### END"
      ]
    },
    {
      "cell_type": "markdown",
      "source": [
        "Finally, it’s important to note that, in real-world situations, we typically do not have the underlying population data.  If we did, we wouldn’t need to sample!  Moreover, in real-world situations, we typically select and analyze just one sample, not 500 samples as we have done here.  Consider what the artificial exercise you have just completed teaches you about how to understand and interpret polling situations in the real world."
      ],
      "metadata": {
        "id": "8BRMDYVbVE-U"
      },
      "id": "8BRMDYVbVE-U"
    },
    {
      "cell_type": "markdown",
      "id": "637d4884-4966-4c0c-86b7-9d34ee0d3ef9",
      "metadata": {
        "id": "637d4884-4966-4c0c-86b7-9d34ee0d3ef9"
      },
      "source": [
        "**k. Major takeaway.** Suppose a new program in the state of Indiana is intended to provide aid to haunted towns such as Hawkins. In addition to being haunted by malevolent spirits, qualifying towns must have average household income below $150,000. The state commissions a poll of Hawkins to determine its eligibility for the latter criterion. The organization that is to conduct the poll is reputable in every way and the methodology used to conduct the poll appears to be sound. \n",
        "\n",
        "You read the fine print and see that the sample size was 100 households. Based on what you have observed by completing this question, and without making any additional calculations, briefly comment on how confident you should be that Hawkins will qualify for the program (assuming Hawkins truly is haunted)."
      ]
    },
    {
      "cell_type": "markdown",
      "id": "0dffecad-c53b-4b50-aa26-80941c8183cb",
      "metadata": {
        "id": "0dffecad-c53b-4b50-aa26-80941c8183cb"
      },
      "source": [
        "Your answer here!\n",
        "\n",
        "##### START\n",
        "\n",
        "When we had a sample size of 100, as we did above, none of the samples had average income of \\\\$150,000 or more. Knowing this, it seems very likely that Hawkins will fall below the \\\\$150,000 threshold and qualify for the program. If the sample size had instead been closer to 5, there is a non-negligible chance that sample fluctuations will lead to a sample that over-represents high-income households and thus precludes participation in the program.\n",
        "\n",
        "##### END"
      ]
    },
    {
      "cell_type": "markdown",
      "source": [
        "---\n",
        "# PART III: ENFORCING COMMUNITY GUIDELINES ON YOUTUBE\n",
        "\n",
        "*This question is based on Jonathan Borck's [work](https://www.analysisgroup.com/globalassets/insights/publishing/2021-youtube-vvr-methodology-a-statistical-assessment-arnold-barnett.pdf) with MIT professor Arnie Barnett.*\n",
        "\n",
        "Social media platforms are often interested in estimating the percentage of objectionable content on the platform that remains after the platform’s efforts to remove it. For example, YouTube estimates what it calls the “violative view rate” (“VVR”), which is the percentage of views of videos on YouTube that violate YouTube’s prohibitions against certain types of content ([more info on VVR here](https://blog.youtube/inside-youtube/building-greater-transparency-and-accountability/)).  \n",
        "\n",
        "YouTube recently estimated a VVR of approximately 0.2%.  This means that YouTube estimates that 20 out of every 10,000 views are of violative content.\n",
        "  \n",
        "YouTube estimates this percentage through sampling of views.  YouTube does not disclose its sample size or sampling methodology.  Let’s assume that YouTube selects a simple random sample of 1,000 views each day to evaluate the VVR.\n"
      ],
      "metadata": {
        "id": "nNUP5nyHRwMQ"
      },
      "id": "nNUP5nyHRwMQ"
    },
    {
      "cell_type": "markdown",
      "source": [
        "**a. YouTube estimates a VVR of 0.20%.  But what it really cares about is the true VVR for the entire platform.  Could the true VVR be less than 0.20%?  Could it be greater than 0.20%?  Explain.**"
      ],
      "metadata": {
        "id": "6WEmxnOBSQYQ"
      },
      "id": "6WEmxnOBSQYQ"
    },
    {
      "cell_type": "markdown",
      "source": [
        "Your answer here!\n",
        "\n",
        "##### START\n",
        "Yes, both are possible, 0.20% is only an estimate, true VVR could be higher or lower.\n",
        "##### END"
      ],
      "metadata": {
        "id": "k3LnMrXkSV1U"
      },
      "id": "k3LnMrXkSV1U"
    },
    {
      "cell_type": "markdown",
      "source": [
        "**b. Use the formulas we discussed in class to calculate a 95% confidence interval for YouTube’s VVR on a given day.  Assume a sample size of 1,000 and an estimate of $\\hat{p}$ of 0.20%.**"
      ],
      "metadata": {
        "id": "aghlw_HMSbYD"
      },
      "id": "aghlw_HMSbYD"
    },
    {
      "cell_type": "markdown",
      "source": [
        "Your answer here!\n",
        "\n",
        "##### START\n",
        "SE = 0.001413, 95% CI by CLT is [-0.00077, 0.004769] \n",
        "##### END"
      ],
      "metadata": {
        "id": "PFJLLmAZSiZX"
      },
      "id": "PFJLLmAZSiZX"
    },
    {
      "cell_type": "markdown",
      "source": [
        "**c. The 95% confidence interval you calculated in part (b) should go below zero. Is this sensible? Explain.**"
      ],
      "metadata": {
        "id": "In_CMHquSsay"
      },
      "id": "In_CMHquSsay"
    },
    {
      "cell_type": "markdown",
      "source": [
        "Your answer here!\n",
        "\n",
        "##### START\n",
        "No, proportion cannot be less than 0.\n",
        "##### END"
      ],
      "metadata": {
        "id": "WBqbY4I_Szfg"
      },
      "id": "WBqbY4I_Szfg"
    },
    {
      "cell_type": "markdown",
      "source": [
        "**d. True or False: “Zero (exactly 0.000000) should be in the confidence interval for the VVR estimate.”  Explain.**\n"
      ],
      "metadata": {
        "id": "fX34J8JHTAdC"
      },
      "id": "fX34J8JHTAdC"
    },
    {
      "cell_type": "markdown",
      "source": [
        "Select one:\n",
        "\n",
        "- [ ] TRUE\n",
        "- [ ] FALSE\n",
        "\n",
        "Your answer here!\n",
        "\n",
        "##### START\n",
        "Answer: False.  The CI is a range of plausible values for the truth.  If the truth were really zero, it would be impossible to get an estimate of 0.002.  Thus, zero cannot be in the confidence interval.\n",
        "##### END"
      ],
      "metadata": {
        "id": "26Q8JLHNTCpr"
      },
      "id": "26Q8JLHNTCpr"
    },
    {
      "cell_type": "markdown",
      "source": [
        "Constructing 95% confidence intervals for very rare events when the proportion is close to 0%  – such as views of bad videos on YouTube – is challenging.  Our formulas based on the Central Limit Theorem frequently cannot be used and lead to nonsensical results.  \n",
        "\n",
        "While we will not formally construct a 95% confidence interval for the VVR in this case, we will conduct a simulation that can help you start to think about it.\n",
        "\n",
        "Suppose the true VVR in the population is 1%.   (This is a hypothesis.  We do not know the true VVR, of course. If we did, we would not have to sample to estimate it.)  Assume a sample size of 1,000.  \n"
      ],
      "metadata": {
        "id": "_VKOvlJMS4Bv"
      },
      "id": "_VKOvlJMS4Bv"
    },
    {
      "cell_type": "markdown",
      "source": [
        "**e. Use R to conduct a simulation, generate the sampling distribution, and graph the sampling distribution in this scenario.**"
      ],
      "metadata": {
        "id": "JJmfwmKaS9Xb"
      },
      "id": "JJmfwmKaS9Xb"
    },
    {
      "cell_type": "code",
      "source": [
        "# Your answer here!\n",
        "\n",
        "# START\n",
        "estimates <- replicate(1e5, mean(rbernoulli(1000,0.01)))\n",
        "estimates_data <- tibble(estimates)\n",
        "ggplot(estimates_data, aes(x = estimates)) + geom_histogram(bins = 50)\n",
        "# END"
      ],
      "metadata": {
        "colab": {
          "base_uri": "https://localhost:8080/",
          "height": 437
        },
        "id": "me-nlsNOTcaP",
        "outputId": "7c4d77eb-1bcc-4e2c-e58e-906a373b3fe2"
      },
      "id": "me-nlsNOTcaP",
      "execution_count": 63,
      "outputs": [
        {
          "output_type": "display_data",
          "data": {
            "text/plain": [
              "plot without title"
            ],
            "image/png": "[encoded data removed]"
          },
          "metadata": {
            "image/png": {
              "width": 420,
              "height": 420
            }
          }
        }
      ]
    },
    {
      "cell_type": "markdown",
      "source": [
        "**f. Based on your results in (e), if it were the case that the true VVR were 1%, would you consider the estimated VVR that YouTube reported (0.2%) to be a plausible result to obtain from one sample, or an implausible result to obtain from one sample?  Explain.  Be sure to reference the sampling distribution you generated in (e).**"
      ],
      "metadata": {
        "id": "kkGMcAlCTcEC"
      },
      "id": "kkGMcAlCTcEC"
    },
    {
      "cell_type": "markdown",
      "source": [
        "Your answer here!"
      ],
      "metadata": {
        "id": "_cZWDfWkVAgd"
      },
      "id": "_cZWDfWkVAgd"
    }
  ],
  "metadata": {
    "kernelspec": {
      "display_name": "R",
      "language": "R",
      "name": "ir"
    },
    "language_info": {
      "codemirror_mode": "r",
      "file_extension": ".r",
      "mimetype": "text/x-r-source",
      "name": "R",
      "pygments_lexer": "r",
      "version": "4.2.0"
    },
    "colab": {
      "provenance": [],
      "collapsed_sections": []
    }
  },
  "nbformat": 4,
  "nbformat_minor": 5
}
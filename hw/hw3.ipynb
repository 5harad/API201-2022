{
 "cells": [
  {
   "cell_type": "markdown",
   "id": "503cabfb",
   "metadata": {
    "colab_type": "text",
    "id": "view-in-github"
   },
   "source": [
    "<a href=\"https://colab.research.google.com/github/5harad/API201-students/blob/main/hw/hw3.ipynb\" target=\"_parent\"><img src=\"https://colab.research.google.com/assets/colab-badge.svg\" alt=\"Open In Colab\"/></a>"
   ]
  },
  {
   "cell_type": "markdown",
   "id": "4839cd02-22e6-4e06-9617-eccba2b91eb8",
   "metadata": {
    "id": "4839cd02-22e6-4e06-9617-eccba2b91eb8"
   },
   "source": [
    "# API-201 ABC PROBLEM SET #3\n",
    "**Due on Wednesday, September 21, at 5:00 p.m.**"
   ]
  },
  {
   "cell_type": "markdown",
   "id": "55a12d42-ccc1-482f-b4c3-2d02e3286eda",
   "metadata": {
    "id": "55a12d42-ccc1-482f-b4c3-2d02e3286eda"
   },
   "source": [
    "**I - INSTRUCTIONS**  \n",
    "To successfully complete this problem set, please follow these steps:\n",
    "\n",
    "1. **Create a copy of this Jupyter notebook in your own drive by clicking `Copy to Drive` in the menubar (this is explained below in more detail below) - *if you do not do this your work will not be saved!***\n",
    "    1. Remember to save your work frequently by pressing `command-S` or clicking `File > Save` in the menubar.\n",
    "    1. We recommend completing this problem set in Google Chrome.\n",
    "2. **Insert all your answers into your copy of the document.** \n",
    "    1. Please include every portion of your submission in this document unless a separate electronic file is explicitly requested. \n",
    "    3. All numerical calculations should be done in the notebook itself, using R code. If you have to do calculations by hand, include a picture of your handwritten work.\n",
    "    2. To add an image of handwritten work, screenshots, or anything else, add a new text cell and click the small image icon in the menubar above the cell. After inserting an image, press the `esc` key to show the image. If you have trouble with this method, upload your image to [Freeimage.host](https://freeimage.host), copy a Markdown link, and paste it in a text cell.\n",
    "3. **Once your document is complete, please save and submit the notebook on Canvas as a PDF.** \n",
    "    1. Click `View > Expand sections` in the menubar to make sure all work is visible (if it is greyed out then it is already visible).\n",
    "    1. Click `Runtime > Run all` in the menubar to make sure all of your code is executed.\n",
    "    1. Click `File > Print` in the menubar and choosing the `Save as PDF` option in Chrome to export your notebook as a PDF, and submit it on Canvas.\n"
   ]
  },
  {
   "cell_type": "markdown",
   "id": "4ddbaaa5-6eeb-431a-8c4c-2786c0ebcae8",
   "metadata": {
    "id": "4ddbaaa5-6eeb-431a-8c4c-2786c0ebcae8"
   },
   "source": [
    "**II - IDENTIFICATION**\n",
    "1. **Your Full Name:** `     `  \n",
    "\n",
    "2. **Group Members (classmates with whom you worked on this problem set):**  \n",
    "    1. `     `\n",
    "    2. `     `\n",
    "    3. `     `\n",
    "    4. `     `\n",
    "    \n",
    "3. **Compliance with HKS Academic Code**  \n",
    "We abide by the Harvard Kennedy School Academic code for all aspects of the course. In terms of problem sets, unless explicitly written otherwise, the norms are the following: You are free (and encouraged) to discuss problem sets with your classmates. However, you must hand in your own unique written work and code in all cases. Any copy/paste of another’s work is plagiarism. In other words, you may work with your classmate(s), sitting side-by-side (physically or remotely!) and going through the problem set question by question, but you must each type your own answers and your own code. For more details, please see syllabus.\n",
    "\n",
    "    **I certify that my work in this problem set complies with the HKS Academic Code**\n",
    "    - [ ] Yes\n",
    "    - [ ] No\n",
    "\n",
    "---"
   ]
  },
  {
   "cell_type": "markdown",
   "id": "Lv_Se9zj6hK9",
   "metadata": {
    "id": "Lv_Se9zj6hK9"
   },
   "source": [
    "# A note on Jupyter notebooks and this Problem Set\n",
    "\n",
    "This will be the first problem set where we move from the FAS OnDemand service to [Google Colaboratory](https://colab.research.google.com/), a Google-hosted Jupyter notebooks service. All R code runs the same in these notebooks as they did on FAS OnDemand, but there are some subtle differences in the interface. Though we understand that there are costs associated with switching to this service, the OnDemand service has proven sufficiently unreliable to make these costs worth it.\n",
    "\n",
    "Throughout this problem set, we will include notes related to differences between this interface and the FAS OnDemand interface. Also, please do not hesitate to use the [#r channel on Slack](https://api-201-2022.slack.com/archives/C03Q35HVDNF) with additional questions related to using these notebooks as they arise.\n",
    "\n",
    "Again, we apologize for the frustration associated with these changes. To lessen the burden on you, we will be dropping your lowest *two* problem set grades instead of just one. We highly encourage you to complete all problem sets for your learning and to prepare for exams, we hope that this will ease some of the pressure that you are facing this semester.\n",
    "\n",
    "The API-201 Teaching Team"
   ]
  },
  {
   "cell_type": "markdown",
   "id": "xWTriBt68PPt",
   "metadata": {
    "id": "xWTriBt68PPt"
   },
   "source": [
    "## Saving this problem set\n",
    "\n",
    "First, we highly encourage you to use [Google Chrome](https://www.google.com/chrome/dr/download/) or another chromium-based browser such as [Brave](https://brave.com/)\n",
    "\n",
    "Similar to FAS OnDemand, The file you're currently looking at is \"read-only\" - you can't save edits to it since it's the file that all students have access to. So, you'll need to copy this file to your own Google Drive.\n",
    "\n",
    "You can do this by clicking the `Copy to Drive` button in the menubar. We suggest renaming the notebook using the following naming convention: \"`hw3-lastname-firstname`\". \n",
    "\n",
    "You're ready to get started!"
   ]
  },
  {
   "cell_type": "markdown",
   "id": "c76173ef-94ad-450d-9574-e0aa79c52318",
   "metadata": {
    "id": "c76173ef-94ad-450d-9574-e0aa79c52318"
   },
   "source": [
    "## Adding images\n",
    "\n",
    "The most cumbersome part of using Google Colab is uploading images, which you may end up doing a lot if you want to show pictures of your handwritten work. If you would like to insert an image of your handwriting to show your work, click on the `+ Text` button at the top of this window to create a new cell. Then click the small image icon in the text cell's menubar, and add your image. "
   ]
  },
  {
   "cell_type": "markdown",
   "id": "1R97iza6BZHY",
   "metadata": {
    "id": "1R97iza6BZHY"
   },
   "source": [
    "![Screen Shot 2022-09-01 at 5.18.48 PM.png](data:image/png;base64,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)"
   ]
  },
  {
   "cell_type": "markdown",
   "id": "EZ0bgLv0BeXx",
   "metadata": {
    "id": "EZ0bgLv0BeXx"
   },
   "source": [
    "When you do this, your text cell will become filled with a string of letters and numbers - don't panic! Just press the `esc` key on your keyboard to exit out of the cell and show the image (you can double click the image above to see what it will look like; press `esc` to exit out of it). We recommend creating a new text cell for each image you have to insert to make it easier to navigate your notebook (if you're interested in knowing what's happening, Google is actually encoding your image as text in [base64](https://www.keycdn.com/support/image-base64-encoding)).\n",
    "\n",
    "If your image file is large (> 1.5 MB or so), your browser tab may get stuck and reload itself. If you find yourself encountering this issue, you can go to website [Freeimage.host](https://freeimage.host/) and upload the image there. It will then provide you with some code to copy a link - copy the code for \"Markdown full linked\" and paste it into the text cell. Here's an example:\n",
    "\n",
    "[![PUZYEG.md.png](https://iili.io/PUZYEG.md.png)](https://freeimage.host/i/PUZYEG)"
   ]
  },
  {
   "cell_type": "markdown",
   "id": "d5711e37-1060-49bc-99a6-d15b04756f16",
   "metadata": {
    "id": "d5711e37-1060-49bc-99a6-d15b04756f16"
   },
   "source": [
    "## Load `R` libraries and data\n",
    "The code cell below imports the R tidyverse and creates a dataframe that we will be using for the first question. Make sure to run it before starting the problem set!\n",
    "\n",
    "*Note: Click the \"play\" button that appears when you hover over a cell to run it. The first time you do this you may receive an alert that this notebook was not authored by Google. If so, click \"Run anyway\" to proceed.*"
   ]
  },
  {
   "cell_type": "code",
   "execution_count": null,
   "id": "aa889d79-5ab9-42af-8590-30819c45124f",
   "metadata": {
    "id": "aa889d79-5ab9-42af-8590-30819c45124f",
    "tags": []
   },
   "outputs": [],
   "source": [
    "library(tidyverse)\n",
    "set.seed(1)\n",
    "telework_survey <- tibble(\n",
    "    Education = c(\n",
    "        rep('Less than a high school diploma', 201 + 8341),\n",
    "        rep('High school graduate, no college', 1515 + 31958),\n",
    "        rep('Some college or associate degree', 3239 + 30372),\n",
    "        rep('Bachelor\\'s degree only', 8141 + 27754),\n",
    "        rep('Advanced degree', 6558 + 15988)),\n",
    "    Teleworked = c(\n",
    "        c(rep(TRUE, 201), rep(FALSE, 8341),\n",
    "          rep(TRUE, 1515), rep(FALSE, 31958),\n",
    "          rep(TRUE, 3239), rep(FALSE, 30372),\n",
    "          rep(TRUE, 8141), rep(FALSE, 27754),\n",
    "          rep(TRUE, 6558), rep(FALSE, 15988)))\n",
    "    ) %>% \n",
    "    mutate(Education = fct_relevel(Education, unique(Education))) %>%\n",
    "    slice_sample(n=1e4)"
   ]
  },
  {
   "cell_type": "markdown",
   "id": "5fb55a91-f32e-4a7d-a9a1-f8158e2bdb22",
   "metadata": {
    "id": "5fb55a91-f32e-4a7d-a9a1-f8158e2bdb22"
   },
   "source": [
    "---"
   ]
  },
  {
   "cell_type": "markdown",
   "id": "71dca157",
   "metadata": {
    "id": "71dca157"
   },
   "source": [
    "# Table of Contents\n",
    "\n",
    "Now that we are using Google Colab, you can click the icon of a bulleted list on the top left of the window to see a live outline for the problem set that you can navigate:\n",
    "\n",
    "\n",
    "![Table of Contents button](data:image/png;base64,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)\n",
    "---"
   ]
  },
  {
   "cell_type": "markdown",
   "id": "1d63ba91-d94e-42fa-ab32-c6296ccde071",
   "metadata": {
    "id": "1d63ba91-d94e-42fa-ab32-c6296ccde071"
   },
   "source": [
    "# PART I: TELEWORK DURING THE PANDEMIC"
   ]
  },
  {
   "cell_type": "markdown",
   "id": "a76a0160-f7b4-4f13-aae3-06db377de7db",
   "metadata": {
    "id": "a76a0160-f7b4-4f13-aae3-06db377de7db"
   },
   "source": [
    "The U.S. Bureau of Labor Statistics (BLS), through the Current Population Survey (CPS), has recently been gathering supplement data on the effects of the coronavirus pandemic on the U.S. job market. \n",
    "\n",
    "BLS estimates that there were 134,068,000 employed persons at least 25 years old in the United States in August 2021. Imagine that we surveyed a random sample of 10,000 of these individuals, asking them their level of educational attainment, and if they \"teleworked or worked at home for pay at any time in the last 4 weeks because of the coronavirus pandemic.\"\n",
    "\n",
    "_Note: We will use the shorthand \"teleworked due to the pandemic\" to mean \"teleworked or worked at home for pay in the last 4 weeks because of the coronavirus pandemic.\" The hypothetical survey results are generated based on  BLS Table 1, August 2021, available [here](https://www.bls.gov/cps/covid19/covid19-table1-2020-08.xlsx)._\n",
    "\n"
   ]
  },
  {
   "cell_type": "markdown",
   "id": "bb48ee9b-564b-4642-b8ab-114bc39f0336",
   "metadata": {
    "id": "bb48ee9b-564b-4642-b8ab-114bc39f0336"
   },
   "source": [
    "#### Survey results\n",
    "Categorizing the 10,000 survey respondents by their educational level and telework behavior, we get the following results (run the cell below):"
   ]
  },
  {
   "cell_type": "code",
   "execution_count": null,
   "id": "ad4d1af6-7870-4780-96b7-51848ab7dd68",
   "metadata": {
    "colab": {
     "base_uri": "https://localhost:8080/",
     "height": 255
    },
    "id": "ad4d1af6-7870-4780-96b7-51848ab7dd68",
    "outputId": "d6d7a28a-126e-42b1-9d35-c81603d71aa7"
   },
   "outputs": [],
   "source": [
    "telework_survey %>%\n",
    "    group_by(Education) %>%\n",
    "    summarize(\n",
    "        `Did telework` = sum(Teleworked),\n",
    "        `Did not telework` = sum(!Teleworked)\n",
    "    )"
   ]
  },
  {
   "cell_type": "markdown",
   "id": "56bfd205-4ef0-4565-b346-bc341c4eddad",
   "metadata": {
    "id": "56bfd205-4ef0-4565-b346-bc341c4eddad"
   },
   "source": [
    "**a. Among the 10,000 people who answered the survey, suppose we select one of them at random.** "
   ]
  },
  {
   "cell_type": "markdown",
   "id": "sBf0DfEGsvQD",
   "metadata": {
    "id": "sBf0DfEGsvQD"
   },
   "source": [
    "*i. Use the table above to calculate the probability that the randomly selected person said that they teleworked due to the pandemic. Hint: use R as a calculator!*\n",
    "\n",
    "*Note: You can click on a code cell to edit it, and press command-enter to run it. Press the `esc` key to exit out of it.*"
   ]
  },
  {
   "cell_type": "code",
   "execution_count": null,
   "id": "fb5b02bf-d328-4973-b444-1f1ce4b69cae",
   "metadata": {
    "colab": {
     "base_uri": "https://localhost:8080/",
     "height": 34
    },
    "id": "fb5b02bf-d328-4973-b444-1f1ce4b69cae",
    "outputId": "8c97c770-d89b-464a-f89a-66a4fd86be4c"
   },
   "outputs": [],
   "source": [
    "# Your answer here!\n",
    "\n"
   ]
  },
  {
   "cell_type": "markdown",
   "id": "sU_FJOJEs2R4",
   "metadata": {
    "id": "sU_FJOJEs2R4"
   },
   "source": [
    "*ii. Is this a joint, marginal, or conditional probability?*\n",
    "\n",
    "*Note: You can double click on a text cell to edit it. When you do so you'll see a \"split screen\" - the box where you can edit text on the left, and a preview of how it will look on the right. Press the `esc` key to exit out of the cell.*"
   ]
  },
  {
   "cell_type": "markdown",
   "id": "3a50da68-b876-4cce-b3ae-2a64956d931f",
   "metadata": {
    "id": "3a50da68-b876-4cce-b3ae-2a64956d931f"
   },
   "source": [
    "`Your answer here!`\n",
    "\n"
   ]
  },
  {
   "cell_type": "markdown",
   "id": "3211d289-0ff4-4736-abc6-13670c7c6b7a",
   "metadata": {
    "id": "3211d289-0ff4-4736-abc6-13670c7c6b7a"
   },
   "source": [
    "**b. The individual survey responses are stored in `telework_survey` and have the following structure (run the cell below):**"
   ]
  },
  {
   "cell_type": "code",
   "execution_count": null,
   "id": "c281a2ff-b3df-4ce1-8474-6ada894091e8",
   "metadata": {
    "colab": {
     "base_uri": "https://localhost:8080/",
     "height": 412
    },
    "id": "c281a2ff-b3df-4ce1-8474-6ada894091e8",
    "outputId": "8218c567-5fbf-4c35-d413-9ca6d66b45a0"
   },
   "outputs": [],
   "source": [
    "head(telework_survey, 10)"
   ]
  },
  {
   "cell_type": "markdown",
   "id": "8b00479c-6d34-45cd-a849-f19b31d27d30",
   "metadata": {
    "id": "8b00479c-6d34-45cd-a849-f19b31d27d30"
   },
   "source": [
    "Repeat the calculation in part (a), but this time use the individual survey responses stored in `telework_survey`. \n",
    "\n",
    "_Hint: You can compute the proportion of `True` values in a column using the `mean` function. You should obtain the same result as in part (a)._"
   ]
  },
  {
   "cell_type": "code",
   "execution_count": null,
   "id": "73a3f2f5-1aab-48f6-8fbc-2b7b7aaa49b1",
   "metadata": {
    "colab": {
     "base_uri": "https://localhost:8080/",
     "height": 34
    },
    "id": "73a3f2f5-1aab-48f6-8fbc-2b7b7aaa49b1",
    "outputId": "c89fc612-e4dc-4e42-a042-046ae87f4429"
   },
   "outputs": [],
   "source": [
    "# Your answer here!\n",
    "\n"
   ]
  },
  {
   "cell_type": "markdown",
   "id": "65636e18-e8bf-459a-95f5-20cd3e5061f1",
   "metadata": {
    "id": "65636e18-e8bf-459a-95f5-20cd3e5061f1"
   },
   "source": [
    "**c. What is the probability that a randomly selected survey respondent has an advanced degree _and_ teleworked due to the pandemic? Compute this in two ways, first using the table above, and then directly using the individual-level survey responses. Is this a joint, marginal, or conditional probability?**\n",
    "\n",
    "_Hint: You can compute the proportion of `True` values in a column using the `mean` function. You should obtain the \n",
    "same result under both ways._"
   ]
  },
  {
   "cell_type": "markdown",
   "id": "5694926f",
   "metadata": {
    "id": "5694926f"
   },
   "source": [
    "*i. Calculation using the table*"
   ]
  },
  {
   "cell_type": "code",
   "execution_count": null,
   "id": "ff2a5b80",
   "metadata": {
    "colab": {
     "base_uri": "https://localhost:8080/",
     "height": 34
    },
    "id": "ff2a5b80",
    "outputId": "e01c3dbc-2842-4a9d-92a5-b0e3a504a93a"
   },
   "outputs": [],
   "source": [
    "# Your answer here!\n"
   ]
  },
  {
   "cell_type": "markdown",
   "id": "b56705d9",
   "metadata": {
    "id": "b56705d9"
   },
   "source": [
    "*ii. Calculation using the dataset*"
   ]
  },
  {
   "cell_type": "code",
   "execution_count": null,
   "id": "805ab511-020e-4e9a-838f-c86e606bfefd",
   "metadata": {
    "colab": {
     "base_uri": "https://localhost:8080/",
     "height": 34
    },
    "id": "805ab511-020e-4e9a-838f-c86e606bfefd",
    "outputId": "d171e51a-a31e-4bfe-a04d-761c65c4b869",
    "tags": []
   },
   "outputs": [],
   "source": [
    "# Your answer here!\n"
   ]
  },
  {
   "cell_type": "markdown",
   "id": "706c975f-7b49-4b60-b892-85429670bc66",
   "metadata": {
    "id": "706c975f-7b49-4b60-b892-85429670bc66"
   },
   "source": [
    "*iii. Is this a joint, marginal, or conditional probability?*"
   ]
  },
  {
   "cell_type": "markdown",
   "id": "355675ba",
   "metadata": {
    "id": "355675ba"
   },
   "source": [
    "`Your answer here!`\n",
    "\n"
   ]
  },
  {
   "cell_type": "markdown",
   "id": "65396f81-9db6-4fb0-969e-9cd176699395",
   "metadata": {
    "id": "65396f81-9db6-4fb0-969e-9cd176699395"
   },
   "source": [
    "**d. Suppose that the person you randomly selected did not attend college. What is the probability that the person teleworked due to the pandemic? Again compute this in two ways, first using the table above, and then directly using the individual level survey responses. Is this a joint, marginal, or conditional probability?**\n",
    "\n",
    "_Hint: When computing the answer directly using the survey responses, first `filter` to the subset of respondents who did not attend college, and then `summarize` the data to get the answer. You should obtain the same result under both ways._"
   ]
  },
  {
   "cell_type": "markdown",
   "id": "c9e7ec21",
   "metadata": {
    "id": "c9e7ec21"
   },
   "source": [
    "*i. Calculation using the table*"
   ]
  },
  {
   "cell_type": "code",
   "execution_count": null,
   "id": "51561d2a",
   "metadata": {
    "colab": {
     "base_uri": "https://localhost:8080/",
     "height": 34
    },
    "id": "51561d2a",
    "outputId": "b7848cec-e785-478e-9506-d40878202f13"
   },
   "outputs": [],
   "source": [
    "# Your answer here!\n",
    "\n"
   ]
  },
  {
   "cell_type": "markdown",
   "id": "7be8a477",
   "metadata": {
    "id": "7be8a477"
   },
   "source": [
    "*ii. Calculation using the dataset*"
   ]
  },
  {
   "cell_type": "code",
   "execution_count": null,
   "id": "8d8d226b",
   "metadata": {
    "colab": {
     "base_uri": "https://localhost:8080/",
     "height": 147
    },
    "id": "8d8d226b",
    "outputId": "100bde5e-8d3e-42ba-a3ad-c6c25ef95909"
   },
   "outputs": [],
   "source": [
    "# Your answer here!\n",
    "\n"
   ]
  },
  {
   "cell_type": "markdown",
   "id": "1f38ef55",
   "metadata": {
    "id": "1f38ef55"
   },
   "source": [
    "*iii. Is this a joint, marginal, or conditional probability?*"
   ]
  },
  {
   "cell_type": "markdown",
   "id": "de85d68a",
   "metadata": {
    "id": "de85d68a"
   },
   "source": [
    "`Your answer here!`\n",
    "\n"
   ]
  },
  {
   "cell_type": "markdown",
   "id": "ad87a347-74d1-4e23-86d9-c393271c972b",
   "metadata": {
    "id": "ad87a347-74d1-4e23-86d9-c393271c972b"
   },
   "source": [
    "**e. Suppose you and several colleagues are working for a policymaker who is interested in understanding patterns of telework due to the pandemic.  There is disagreement among your colleagues on the issue.  Two of your colleagues exclaim the following:**\n",
    "\n",
    "- Colleague 1: “More than half of the workers who teleworked due to the pandemic have a bachelor’s degree or more!”  \n",
    "- Colleague 2: “But less than half of workers with a bachelor’s degree or more teleworked due to the pandemic!”\n",
    "\n",
    "You recognize that both of your colleagues are correct.  But your supervisor (who did not take API-201) is confused by the apparent contradiction in these statements.\n",
    "\n",
    "Reconcile your two colleagues’ statements in language your statistics instructor would understand.  Please use probability notation as part of your explanation (2-3 sentences)."
   ]
  },
  {
   "cell_type": "markdown",
   "id": "5c1b30b2-32d5-4e31-b967-d879090ccf77",
   "metadata": {
    "id": "5c1b30b2-32d5-4e31-b967-d879090ccf77"
   },
   "source": [
    "`Your answer here!`\n",
    "\n"
   ]
  },
  {
   "cell_type": "markdown",
   "id": "48740ca7-8006-462e-893e-589c20d52b44",
   "metadata": {
    "id": "48740ca7-8006-462e-893e-589c20d52b44"
   },
   "source": [
    "**f. Reconcile your two colleagues’ statements in language your supervisor would understand. Please use plain language, not probability notation (2-3 sentences).**"
   ]
  },
  {
   "cell_type": "markdown",
   "id": "e8a0e554-3ae4-47f6-a772-93e6dafc7dd6",
   "metadata": {
    "id": "e8a0e554-3ae4-47f6-a772-93e6dafc7dd6"
   },
   "source": [
    "`Your answer here!`\n",
    "\n"
   ]
  },
  {
   "cell_type": "markdown",
   "id": "67e9236f-ce8e-445a-8b01-411138639cd8",
   "metadata": {
    "id": "67e9236f-ce8e-445a-8b01-411138639cd8"
   },
   "source": [
    "# PART II: TESTING FOR COVID-19"
   ]
  },
  {
   "cell_type": "markdown",
   "id": "99554427-4a1f-497f-8cce-d4f4326c6488",
   "metadata": {
    "id": "99554427-4a1f-497f-8cce-d4f4326c6488"
   },
   "source": [
    "The goal of this question is to help you develop your ability to use statistics (and specifically Bayes’ Rule) to better understand COVID-19 testing. First, a brief primer on COVID tests."
   ]
  },
  {
   "cell_type": "markdown",
   "id": "df990b3c-999f-4b8d-80de-163ae283be20",
   "metadata": {
    "id": "df990b3c-999f-4b8d-80de-163ae283be20"
   },
   "source": [
    "> **A primer on COVID tests**\n",
    ">\n",
    "> There are two types of tests: diagnostic tests and antibody tests. A diagnostic test aims at detecting whether the person currently has an active coronavirus infection. Currently there are two types of diagnostic tests that can detect the virus – molecular tests, such as RT-PCR tests, that detect the virus’s genetic material, and antigen tests that detect specific proteins on the surface of the virus. \n",
    ">\n",
    "> An antibody (serology) test aims at detecting whether the person had an infection, by assessing whether the person has developed antibodies against the virus. If test results show that the person has antibodies, it indicates that the person was likely infected with COVID-19 at some time in the past. \n",
    "> \n",
    "> *Sources: [FDA](https://www.fda.gov/consumers/consumer-updates/covid-19-test-basics), [Mayo clinic](https://www.mayoclinic.org/diseases-conditions/coronavirus/expert-answers/covid-antibody-tests/faq-20484429)*"
   ]
  },
  {
   "cell_type": "markdown",
   "id": "18865f84-22c8-4654-9284-2f3a41900532",
   "metadata": {
    "id": "18865f84-22c8-4654-9284-2f3a41900532"
   },
   "source": [
    "We will analyze antigen self-tests, which are diagnostic tests that can be administered quickly and provide rapid results. (Most if not all of you have probably taken them!) We will focus on one of the tests, Abbot’s BinaxNOW self-test, which was one of the first self-tests to be approved by the FDA and available for purchase in stores and online.\n",
    "\n",
    "When it launched the test, Abbott reported that the test had a specificity (P(Negative Test | No COVID)) of 98.5% and a sensitivity (P(Positive Test | COVID)) of 84.6% ([source](https://abbott.mediaroom.com/2021-03-31-Abbotts-BinaxNOW-TM-Rapid-Antigen-Self-Test-Receives-FDA-Emergency-Use-Authorization-for-Asymptomatic-Over-the-Counter-Non-Prescription-Multi-Test-Use)).  Assume that the prevalence of COVID-19 (i.e., the proportion of people who are currently infected) is 1% in your population of interest."
   ]
  },
  {
   "cell_type": "markdown",
   "id": "e7db078f",
   "metadata": {
    "id": "e7db078f"
   },
   "source": [
    "### 1. Calculating probabilities"
   ]
  },
  {
   "cell_type": "markdown",
   "id": "30033ab1-ae30-409b-877f-8d8b141ea6b2",
   "metadata": {
    "id": "30033ab1-ae30-409b-877f-8d8b141ea6b2"
   },
   "source": [
    "**a. Suppose that a random person from this population is tested (for example, as part of a universal testing program) and that the test is positive. Calculate the probability that the person is infected (i.e. P(COVID|+)). This number is sometimes called the “positive predictive value of the test.”  Note: For this question and all questions, please be sure to show your work (for example, in a table or using the Bayes’ Rule formula).**\n",
    "\n",
    "\n",
    "*Note: See the \"Adding Images\" note at the top of the problem set for guidance on uploading handwritten work.*\n"
   ]
  },
  {
   "cell_type": "markdown",
   "id": "25b84786-f544-4398-a8a3-1bb945c93a99",
   "metadata": {
    "id": "25b84786-f544-4398-a8a3-1bb945c93a99"
   },
   "source": [
    "`Your answer here!`\n",
    "\n"
   ]
  },
  {
   "cell_type": "markdown",
   "id": "5db9cdf2-326c-4da5-9588-44bd5de90c2d",
   "metadata": {
    "id": "5db9cdf2-326c-4da5-9588-44bd5de90c2d"
   },
   "source": [
    "**b. Is the result in (a) substantially different than the ones we got for mammograms in class? If so, explain why this is the case. If not, explain why not. [2-3 sentences]**"
   ]
  },
  {
   "cell_type": "markdown",
   "id": "1cb69e07-e5e2-4fba-b303-071345eeed9b",
   "metadata": {
    "id": "1cb69e07-e5e2-4fba-b303-071345eeed9b"
   },
   "source": [
    "`Your answer here!`\n",
    "\n"
   ]
  },
  {
   "cell_type": "markdown",
   "id": "f37627e6-c7b5-4b13-85d4-728d471f725a",
   "metadata": {
    "id": "f37627e6-c7b5-4b13-85d4-728d471f725a"
   },
   "source": [
    "**c. Suppose the test is negative.  Calculate the probability that the person is not infected (i.e. $P(COVID^C|-)$). This number is sometimes called the “negative predictive value of the test.**\n",
    "\n",
    "*Note: You can verify your results in (a) and (c) by using this nice [tool](https://graphics.wsj.com/dynamic-inset-iframer/?url=https://asset.wsj.net/wsjnewsgraphics/dice/antibody-test-reliability-calculator-433fb3e7-60e4-4bb9-aaa1-1f268cd14a0a/inset.json) that also illustrates the intuition of the test results.*"
   ]
  },
  {
   "cell_type": "markdown",
   "id": "4661d7b3-496a-4bc1-b5a2-3305cee8ae5a",
   "metadata": {
    "id": "4661d7b3-496a-4bc1-b5a2-3305cee8ae5a"
   },
   "source": [
    "`Your answer here!`\n",
    "\n"
   ]
  },
  {
   "cell_type": "markdown",
   "id": "dcdd1d53",
   "metadata": {
    "id": "dcdd1d53"
   },
   "source": [
    "### 2. Simulating probabilities"
   ]
  },
  {
   "cell_type": "markdown",
   "id": "8071709d-351d-40b7-8ef3-b442f1dc8cda",
   "metadata": {
    "id": "8071709d-351d-40b7-8ef3-b442f1dc8cda"
   },
   "source": [
    "**a. Instead of using math, we can answer Question 1a via simulation. We are going to break this question into several parts and then calculate conditional probabilities running simulations.**\n",
    "\n",
    "We want to: \n",
    "<br> i) Generate a dataframe with 1,000,000 rows. \n",
    "<br> ii) In column 1, randomly assign COVID status.\n",
    "<br> iii) In column 2, randomly assign test status given the COVID status from column 1."
   ]
  },
  {
   "cell_type": "markdown",
   "id": "5a082032",
   "metadata": {
    "id": "5a082032"
   },
   "source": [
    "Run the cell below, which assigns parameters that will be used to create the simulated data. In the subsequence steps, you can simply reference the variable instead of the number (for example, instead of typing `0.01` you can just type `covid_rate`)"
   ]
  },
  {
   "cell_type": "code",
   "execution_count": null,
   "id": "b1fe984c",
   "metadata": {
    "id": "b1fe984c"
   },
   "outputs": [],
   "source": [
    "set.seed(1)\n",
    "        \n",
    "# Parameters\n",
    "\n",
    "## Number of observations \n",
    "n <- 1e6\n",
    "\n",
    "## Prevalence of COVID\n",
    "covid_rate <- 0.01\n",
    "\n",
    "# Probability of testing positive given that the person is infected\n",
    "prob_testpos_given_covidpos <- 0.846\n",
    "\n",
    "# Probability of testing positive given that the person doesn't have COVID: 1-P(-|COVID^C)\n",
    "prob_testpos_given_covidneg <- 1 - 0.985"
   ]
  },
  {
   "cell_type": "markdown",
   "id": "6cb38fa2",
   "metadata": {
    "id": "6cb38fa2"
   },
   "source": [
    "*i. Step 1: Randomly assign covid status. Call this vector of covid statuses `covid_status`.*\n",
    "\n",
    "_Hint: You can use `rbernoulli` to randomly assign covid status based on the COVID rate. Syntax: rbernoulli( number of observations , proportion of COVID cases )._"
   ]
  },
  {
   "cell_type": "code",
   "execution_count": null,
   "id": "171e0ed6",
   "metadata": {
    "id": "171e0ed6"
   },
   "outputs": [],
   "source": [
    "# Your answer here!\n",
    "\n"
   ]
  },
  {
   "cell_type": "markdown",
   "id": "8a455836",
   "metadata": {
    "id": "8a455836"
   },
   "source": [
    "*ii. Step 2: Create a vector of probabilities of testing positive conditional on COVID status. Call this vector `test_status_p`.*\n",
    "\n",
    "_Hint: You can use `if_else` to assign probabilities of testing positive based on COVID status. Syntax: if_else( vector with covid status , probability of testing positive if the person has COVID, probability of testing positive if the person does not have COVID). For example, if we had 5 observations, we would assign probabilities in the following manner:_\n",
    "\n",
    "|  | COVID status | probability of testing positive\n",
    "| --- | --- | --- \n",
    "| 1 | TRUE |  0.846\n",
    "| 2 | TRUE |  0.846  \n",
    "| 3 | FALSE |  0.015\n",
    "| 4 | TRUE |  0.846 \n",
    "| 5 | FALSE |  0.015"
   ]
  },
  {
   "cell_type": "code",
   "execution_count": null,
   "id": "da1a3c71",
   "metadata": {
    "id": "da1a3c71"
   },
   "outputs": [],
   "source": [
    "# Your answer here!\n",
    "\n"
   ]
  },
  {
   "cell_type": "markdown",
   "id": "3102f4f5",
   "metadata": {
    "id": "3102f4f5"
   },
   "source": [
    "*iii. Step 3: Use the vector of probabilities to randomly assign test status. Call this assigned test status `test_status`.*\n",
    "\n",
    "_Hint: You can use `rbernoulli` to randomly assign test status based on the probability of testing positive. Syntax: rbernoulli( number of observations , probability vector )._"
   ]
  },
  {
   "cell_type": "code",
   "execution_count": null,
   "id": "21727ea3",
   "metadata": {
    "id": "21727ea3"
   },
   "outputs": [],
   "source": [
    "# Your answer here!\n",
    "\n"
   ]
  },
  {
   "cell_type": "markdown",
   "id": "3e92fa8c",
   "metadata": {
    "id": "3e92fa8c"
   },
   "source": [
    "Once you assign test status, use the code block below to create a dataset that includes both simulated COVID and test status:"
   ]
  },
  {
   "cell_type": "code",
   "execution_count": null,
   "id": "5b5c6ab2",
   "metadata": {
    "id": "5b5c6ab2"
   },
   "outputs": [],
   "source": [
    "# Create a dataset with the vectors of simulated COVID and test status:\n",
    "simulated_data <- tibble(covid_status,\n",
    "                          test_status)"
   ]
  },
  {
   "cell_type": "markdown",
   "id": "1c482d40-2d7e-453e-9a8d-72cb94e0fa7c",
   "metadata": {
    "id": "1c482d40-2d7e-453e-9a8d-72cb94e0fa7c"
   },
   "source": [
    "*iv. Step 4: Calculate the probability that the person is infected given that the test is positive (i.e. $P(COVID|+)$).*\n",
    "\n",
    "Your answer under simulation should be similar to the analytical result from part (a). \n",
    "\n",
    "_Hint: You can filter rows based on test status and compute the mean for that subset of data._"
   ]
  },
  {
   "cell_type": "code",
   "execution_count": null,
   "id": "6ae96453-f116-4364-98ba-ea6664d514e9",
   "metadata": {
    "colab": {
     "base_uri": "https://localhost:8080/",
     "height": 129
    },
    "id": "6ae96453-f116-4364-98ba-ea6664d514e9",
    "outputId": "a432729c-6b50-4ec0-dd3b-c810bf6d2eab"
   },
   "outputs": [],
   "source": [
    "# Your answer here!\n",
    "\n"
   ]
  },
  {
   "cell_type": "markdown",
   "id": "fac9d51d-c024-49a9-8c59-c560d4ac501d",
   "metadata": {
    "id": "fac9d51d-c024-49a9-8c59-c560d4ac501d"
   },
   "source": [
    "**b. Using the dataframe `simulated_data`, answer Question 1c via simulation instead of math. Is your answer under simulation should be similar to the analytical result that you calculated in Question 1c?**\n",
    "\n",
    "_Hint: One advantage of running simulations is that once we have the simulated data, all we have to do is apply the right filter to calculate the conditional probability._"
   ]
  },
  {
   "cell_type": "code",
   "execution_count": null,
   "id": "735d1be8-dc29-44f2-95e1-7d6b11183006",
   "metadata": {
    "colab": {
     "base_uri": "https://localhost:8080/",
     "height": 129
    },
    "id": "735d1be8-dc29-44f2-95e1-7d6b11183006",
    "outputId": "dd0bda78-a022-4a43-b744-6253c6f4597a",
    "tags": []
   },
   "outputs": [],
   "source": [
    "# Your answer here!\n",
    "\n"
   ]
  },
  {
   "cell_type": "markdown",
   "id": "0104ed6f",
   "metadata": {
    "id": "0104ed6f"
   },
   "source": [
    "### 3. The value of a negative test"
   ]
  },
  {
   "cell_type": "markdown",
   "id": "fc051345-459b-4138-a389-b603902c51e9",
   "metadata": {
    "id": "fc051345-459b-4138-a389-b603902c51e9"
   },
   "source": [
    "*Note: This question was inspired by [this article](https://www.newyorker.com/science/medical-dispatch/how-to-read-a-medical-test) and by our own experiences.*\n",
    "\n",
    "Let’s think further about the information provided by a negative test result. Consider a waiter at a local restaurant, who tests negative using the same antigen test described above after having a fever and a cough. He lives in a city in which COVID-19 cases are high.  Two other staff members at the restaurant recently tested positive for the coronavirus.  But his test comes back negative (surprisingly).  Explain how to interpret the negative test result (in contrast to the negative predictive value you calculated in the previous question) by:"
   ]
  },
  {
   "cell_type": "markdown",
   "id": "22bfc09d",
   "metadata": {
    "id": "22bfc09d"
   },
   "source": [
    "**a. Using words. Intuitively, what do you expect to happen to the negative predictive value of this test as compared to the previous question?**"
   ]
  },
  {
   "cell_type": "markdown",
   "id": "0dcdf3bf",
   "metadata": {
    "id": "0dcdf3bf"
   },
   "source": [
    "`Your answer here!`\n",
    "\n"
   ]
  },
  {
   "cell_type": "markdown",
   "id": "ce46009c",
   "metadata": {
    "id": "ce46009c"
   },
   "source": [
    "**b. Using math (Hint: You may want to assign a new community COVID prevalence to fit to this situation)**"
   ]
  },
  {
   "cell_type": "markdown",
   "id": "be62431d-ef47-4986-9834-6ec6e9f0f300",
   "metadata": {
    "id": "be62431d-ef47-4986-9834-6ec6e9f0f300"
   },
   "source": [
    "`Your answer here!`\n",
    "\n"
   ]
  },
  {
   "cell_type": "markdown",
   "id": "c98282e5",
   "metadata": {
    "id": "c98282e5"
   },
   "source": [
    "**c. In a short paragraph aimed at a policymaker who is smart but not well-versed in statistics, explain what this sequence of questions (Question 3a-3b) tells you about the meaning of negative COVID tests in different contexts.**"
   ]
  },
  {
   "cell_type": "markdown",
   "id": "fe92157e",
   "metadata": {
    "id": "fe92157e"
   },
   "source": [
    "`Your answer here!`\n",
    "\n"
   ]
  },
  {
   "cell_type": "markdown",
   "id": "d5bf398a-4a63-4e24-9138-75c717f499c6",
   "metadata": {
    "id": "d5bf398a-4a63-4e24-9138-75c717f499c6"
   },
   "source": [
    "**d.\tThe CDC has updated its guidance on whether one should follow an antigen test with additional (i.e., “confirmatory”) testing using a “gold standard” molecular test. The CDC now states that:**\n",
    "> “A negative antigen result for a symptomatic person may not need confirmatory testing if the person has a low likelihood of SARS-CoV-2 infection…” \n",
    "\n",
    "**while**\n",
    "\n",
    "> “A negative antigen test result (for an asymptomatic person) may need confirmatory testing if that asymptomatic person has a high likelihood of SARS-CoV-2 infection.”   \n",
    "\n",
    "**Do you agree with the CDC’s guidance?  Consider both elements of the guidance quoted here, and justify your answer using the principles behind Bayes’ Rule  *(two short paragraphs)*.**"
   ]
  },
  {
   "cell_type": "markdown",
   "id": "4e380d27-7637-4b17-bed5-44891a87b222",
   "metadata": {
    "id": "4e380d27-7637-4b17-bed5-44891a87b222"
   },
   "source": [
    "`Your answer here!`\n",
    "\n",
    "\n"
   ]
  },
  {
   "cell_type": "markdown",
   "id": "e49a8728-0212-4bc1-beb9-0c6cb9c0ba99",
   "metadata": {
    "id": "e49a8728-0212-4bc1-beb9-0c6cb9c0ba99",
    "tags": []
   },
   "source": [
    "# PART III: PCE ON DISTRIBUTIONS\n",
    "\n",
    "The goal of this problem set question is to help prepare you for the class on Distributions that will be held on Thursday (the day after this problem set is due), so we can use our time in the classroom most productively. We estimate that the time to engage with this online module is about 30-45 minutes.\n",
    "\n",
    "Throughout the module you will be asked some questions. We will look at the overall performance of the class to target the class better to your learning needs, but your individual performance on these questions will not count towards your grade. You will get full credit for answering the questions, independently of whether your answers are correct. \n",
    "\n",
    "**Important Note: This is a full online module with videos and practice problems, not just a quiz.  Your “To Do” list in Canvas will send you directly to the quiz without showing you the module, so please use the links below to access the module instead.**\n",
    "\n",
    "Remember that you get full credit for completing the required parts of the PCE - your responses will be registered in the system but will not count towards your grade in any way.\n",
    "\n",
    "__The module is available at the following sites:__\n",
    "\n",
    "* [Section A (Prof. Borck)](https://canvas.harvard.edu/courses/109219/modules/228850)\n",
    "\n",
    "* [Section B (Prof. Svoronos)](https://canvas.harvard.edu/courses/109220/modules/228851)\n",
    "\n",
    "* [Section C (Prof. Goel)](https://canvas.harvard.edu/courses/109221/modules/228849)"
   ]
  },
  {
   "cell_type": "markdown",
   "id": "e6ad1dd7-2d85-42ac-a700-f78e346fe387",
   "metadata": {
    "id": "e6ad1dd7-2d85-42ac-a700-f78e346fe387"
   },
   "source": [
    "**Completed the module**\n",
    "- [ ] Yes\n",
    "- [ ] No"
   ]
  },
  {
   "cell_type": "markdown",
   "id": "d8b0fa9a-6628-411c-947a-316855fa0638",
   "metadata": {
    "id": "d8b0fa9a-6628-411c-947a-316855fa0638"
   },
   "source": [
    "# PART IV: FINAL EXERCISE PREP\n",
    "\n",
    "As discussed in class, the Final Exercise for API-201 is an opportunity to apply some of the statistical tools learned in class to explore a policy-relevant question of interest to you using real data that you identify. Though the Final Exercise is not due until the end of the semester, over the next few weeks we ask that you assemble a group, brainstorm potential policy questions and data sources, and meet with your faculty member to discuss your plans. The project proposal itself is due on **September 30**.\n",
    "\n",
    "For this problem set, we ask that you do the following tasks:\n",
    "\n",
    "- **Assemble a group** of 3-4 people to work on your Final Exercise. If you have been working with a group of 5 on your problem sets, ask your instructor for permission to have a group of 5. Use [the first tab of this Final Exercise Google Sheet](https://docs.google.com/spreadsheets/d/1ahKcLnBbkL-RwJNfd5CeK7OF6JmfCoeFd7ZQAfToRaY/edit#gid=0) to share your interests, and contact one another to assemble a group!\n",
    "- **Decide on a policy question** of interest and identify one or more data sources that you will use to explore it. The [second tab of the Final Exercise Google Sheet](https://docs.google.com/spreadsheets/d/1ahKcLnBbkL-RwJNfd5CeK7OF6JmfCoeFd7ZQAfToRaY/edit#gid=199918) lists some places to find data sources relevant to your question. Please add data sources that you find to the sheet as well!\n",
    "- Before September 30, **book a 15 minute appointment** with your faculty member using Calendly to discuss your proposal. If your group members are across multiple sections, you just need to meet with one faculty member; try to prioritize the Section instructor that the most number of group members are a part of. You should come to that meeting with 2-3 potential policy questions and data sources. In addition, you should take a look at the [Project Proposal Form](https://docs.google.com/forms/d/e/1FAIpQLSeD8ZtB15_O_68GjUez7ep0e2FUDhrEfDbPcDZuJqor-rn_0A/viewform?usp=sf_link) and come with any questions that you have about other aspects of your proposal.\n",
    "    - [Prof. Borck (Section A)](https://calendly.com/jonathan_borck)\n",
    "    - [Prof. Svoronos (Section B)](https://calendly.com/tsvoronos)\n",
    "    - [Prof. Goel (Section C)](https://calendly.com/5harad)"
   ]
  },
  {
   "cell_type": "markdown",
   "id": "6555f977-bb47-462b-8220-0ceddbd4512a",
   "metadata": {
    "id": "6555f977-bb47-462b-8220-0ceddbd4512a"
   },
   "source": [
    "**Check the following boxes when you have completed these tasks:**\n",
    "\n",
    "- [ ] I have identified a Final Exercise group.\n",
    "- [ ] My Final Exercise group has discussed possible policy questions and data sources.\n",
    "- [ ] I have booked an appointment with a faculty member on Calendly to discuss our proposal before it is due (9/30)."
   ]
  },
  {
   "cell_type": "markdown",
   "id": "8ZRxGZZZ59V-",
   "metadata": {
    "id": "8ZRxGZZZ59V-"
   },
   "source": [
    "# PART V: SUBMITTING THIS PROBLEM SET\n",
    "\n",
    "Once you have completed this problem set, you're ready to submit it as a PDF. There are slightly different steps to do this using Google Colab:\n",
    "\n",
    "1. **Click `View > Expand Sections` to make sure all of the cells in the notebook are visible:** If this option is greyed out, that means that everything is all already expanded.\n",
    "1. **Run All Cells by clicking `Runtime > Run All`:** Whenever you do this it is recommend that you run all the cells in the notebook again to make sure that the teaching team can see all of the output that you were able to produce. If you do this and you see an error in the output, or that a cell will not run, make sure you resolve this before continuing.\n",
    "2. **Export as a PDF by clicking `File > Print` and choosing the `Save as PDF` option in Chrome:** Review the PDF that is produced to make sure everything looks right.\n",
    "3. **Submit your PDF on Canvas:** Return to the assignment page for this problem set on Canvas, and submit the PDF that you have created."
   ]
  }
 ],
 "metadata": {
  "colab": {
   "collapsed_sections": [],
   "include_colab_link": true,
   "name": "hw/hw3.ipynb",
   "provenance": []
  },
  "kernelspec": {
   "display_name": "R",
   "language": "R",
   "name": "ir"
  },
  "language_info": {
   "codemirror_mode": "r",
   "file_extension": ".r",
   "mimetype": "text/x-r-source",
   "name": "R",
   "pygments_lexer": "r",
   "version": "4.2.1"
  }
 },
 "nbformat": 4,
 "nbformat_minor": 5
}

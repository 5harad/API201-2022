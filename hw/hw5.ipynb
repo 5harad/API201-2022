{
  "cells": [
    {
      "cell_type": "markdown",
      "metadata": {
        "id": "view-in-github",
        "colab_type": "text"
      },
      "source": [
        "<a href=\"https://colab.research.google.com/github/5harad/API201-students/blob/main/hw/hw5.ipynb\" target=\"_parent\"><img src=\"https://colab.research.google.com/assets/colab-badge.svg\" alt=\"Open In Colab\"/></a>"
      ]
    },
    {
      "cell_type": "markdown",
      "metadata": {
        "id": "llzlIZkjYwoE"
      },
      "source": [
        "# API-201 ABC PROBLEM SET #5\n",
        "**Due on Wednesday, October 5, at 11:59 p.m.**"
      ]
    },
    {
      "cell_type": "markdown",
      "metadata": {
        "id": "XDBPOFCGY65Y"
      },
      "source": [
        "**I - INSTRUCTIONS**  \n",
        "To successfully complete this problem set, please follow these steps:\n",
        "\n",
        "1. **Create a copy of this Jupyter notebook in your own drive by clicking `Copy to Drive` in the menubar (this is explained below in more detail below) - *if you do not do this your work will not be saved!***\n",
        "    1. Remember to save your work frequently by pressing `command-S` or clicking `File > Save` in the menubar.\n",
        "    1. We recommend completing this problem set in Google Chrome.\n",
        "2. **Insert all your answers into your copy of the document.** \n",
        "    1. Please include every portion of your submission in this document unless a separate electronic file is explicitly requested. \n",
        "    3. All numerical calculations should be done in the notebook itself, using R code. If you have to do calculations by hand, include a picture of your handwritten work.\n",
        "    2. To add an image of handwritten work, screenshots, or anything else, add a new text cell and click the small image icon in the menubar above the cell. After inserting an image, press the `esc` key to show the image. If you have trouble with this method, upload your image to [Freeimage.host](https://freeimage.host), copy a Markdown link, and paste it in a text cell.\n",
        "3. **Once your document is complete, please save and submit the notebook on Canvas as a PDF.** \n",
        "    1. Click `View > Expand sections` in the menubar to make sure all work is visible (if it is greyed out then it is already visible).\n",
        "    1. Click `Runtime > Run all` in the menubar to make sure all of your code is executed.\n",
        "    1. Click `File > Print` in the menubar and choose the `Save as PDF` option in Chrome to export your notebook as a PDF. \n",
        "    1. Check to make sure answers do not get cut off - when you go to print the PDF we recommend clicking on `More settings` and setting `Margins` to `None`.\n",
        "    1. Submit your file on Canvas.\n"
      ]
    },
    {
      "cell_type": "markdown",
      "metadata": {
        "id": "SQcwWI_VY9bx"
      },
      "source": [
        "**II - IDENTIFICATION**\n",
        "1. **Your Full Name:** `     `  \n",
        "\n",
        "2. **Group Members (classmates with whom you worked on this problem set):**  \n",
        "    1. `     `\n",
        "    2. `     `\n",
        "    3. `     `\n",
        "    4. `     `\n",
        "    \n",
        "3. **Compliance with HKS Academic Code**  \n",
        "We abide by the Harvard Kennedy School Academic code for all aspects of the course. In terms of problem sets, unless explicitly written otherwise, the norms are the following: You are free (and encouraged) to discuss problem sets with your classmates. However, you must hand in your own unique written work and code in all cases. Any copy/paste of another’s work is plagiarism. In other words, you may work with your classmate(s), sitting side-by-side (physically or remotely!) and going through the problem set question by question, but you must each type your own answers and your own code. For more details, please see syllabus.\n",
        "\n",
        "    **I certify that my work in this problem set complies with the HKS Academic Code**\n",
        "    - [ ] Yes\n",
        "    - [ ] No\n",
        "\n",
        "---"
      ]
    },
    {
      "cell_type": "markdown",
      "metadata": {
        "id": "1IZGsCYDY_YR"
      },
      "source": [
        "# PART I: SAFETY FEATURES ON DELIVERY DRONES\n",
        "\n",
        "As companies such as Amazon and Google continue to develop drones capable of delivering packages to the doorsteps of customers, the Federal Aviation Administration (FAA) has begun to grapple with the regulatory implications of this new technology. As delivery drones will necessarily enter densely populated commercial and residential areas, the proximity of drones to people creates potentially dangerous situations. Additionally, package-bearing drones will be heavier, increasing the likelihood of serious injury when accidents do occur.\n",
        "\n",
        "Suppose you are working for the FAA, with the responsibility to design a new set of regulations concerning drone safety technology. The FAA is considering an approach to limit the potential for a drone to hit someone on the ground and thereby prevent serious injuries. (You can read more about these developments [here](https://www.seattletimes.com/business/boeing-aerospace/what-is-safe-enough-for-drone-deliveries/).) You are currently charged with analyzing two approaches:\n",
        "\n",
        "1. Mandating a parachute-recovery system on all delivery drones\n",
        "2. Mandating the parachute-recovery system and an advanced system of radar and other sensors designed to prevent collisions\n",
        "\n",
        "Note that neither approach will entirely remove the possibility of an accident.  As discussed below, there is a chance that either safety feature will fail, leading to injury.\n",
        "\n",
        "Safety systems are costly, of course.  Mandating a parachute-recovery system on all delivery drones is a relatively inexpensive approach, with a cost of \\$20 per drone. Estimates indicate that a delivery drone with only the parachute-recovery system has a 1.5 percent chance of a serious accident in its lifespan of use.\n",
        "\n",
        "The FAA’s second approach would be more expensive.  Mandating both the parachute-recovery system and the sensor system will cost a total of \\$80 per drone (\\$20 for the parachute-recovery system plus \\$60 for the sensor system). The upside is that the two safety features bundled together make the drone safer to operate: estimates indicate a drone with both features has only a 0.2 percent chance of a serious accident in its lifespan.\n",
        "\n",
        "The FAA estimates the average cost of a serious accident at \\$5,000, including potential medical costs to the injured party. If a drone is in a serious accident, it is subsequently decommissioned (and therefore a drone can only be in a maximum of one accident in its lifespan).\n",
        "\n",
        "You have been asked to evaluate whether the FAA should mandate only the parachute-recovery system (Approach 1), or both the parachute-recovery system and the sensor system (Approach 2)."
      ]
    },
    {
      "cell_type": "markdown",
      "metadata": {
        "id": "OGxVDzxhY_YS"
      },
      "source": [
        "**a. Draw the relevant decision tree. If the goal is to minimize the total expected cost (which includes the cost of the safety system(s) plus the cost of an accident should it occur), should the FAA mandate drones to feature only the parachute-recovery system (Approach 1) or both systems (Approach 2)?**\n",
        "\n",
        "*Note: See guidance in last week's problem set and at the start of this problem set about inserting images. If your image is too large, it may crash your browser in which case you'll have to upload it to a separate site and copy the link.*"
      ]
    },
    {
      "cell_type": "markdown",
      "metadata": {
        "id": "5509K-DRY_YU"
      },
      "source": [
        "Your answer here!\n",
        "\n"
      ]
    },
    {
      "cell_type": "markdown",
      "metadata": {
        "id": "EFwCFj5SY_YT"
      },
      "source": [
        "**b. What would the added cost of the sensor system have to be for you to be indifferent between mandating just the parachute system (Approach 1) and mandating both systems (Approach 2)?**"
      ]
    },
    {
      "cell_type": "markdown",
      "metadata": {
        "id": "zKa0ucOXY_YT"
      },
      "source": [
        "Your answer here!\n",
        "\n"
      ]
    },
    {
      "cell_type": "markdown",
      "metadata": {
        "id": "c5obECNAY_YV"
      },
      "source": [
        "**c.  We calculated the 0.2 percent accident rate for drones with both safety features under the assumption that the two safety features operate independently, and therefore that failure of either safety system is unrelated to a failure of the other system.  Suppose that you learn that the systems do not in fact operate independently, and instead that the potential failure of the systems is positively correlated.  How might this change your decision in part (a), and why?  Explain your reasoning to someone who is smart but unfamiliar with concepts in decision analysis such as “expected cost” and “decision tree.”  \\[one paragraph\\]**"
      ]
    },
    {
      "cell_type": "markdown",
      "metadata": {
        "id": "m3qzMBIqY_YW"
      },
      "source": [
        "Your answer here!\n",
        "\n"
      ]
    },
    {
      "cell_type": "markdown",
      "metadata": {
        "id": "1l0J3aLxY_YW"
      },
      "source": [
        "**d. The likelihood of accident varies substantially between densely populated urban areas and sparsely populated rural areas. How could this information impact your recommended policy proposal, if at all? \\[one paragraph\\]**"
      ]
    },
    {
      "cell_type": "markdown",
      "metadata": {
        "id": "A_B338JpY_YV"
      },
      "source": [
        "Your answer here!\n",
        "\n"
      ]
    },
    {
      "cell_type": "markdown",
      "metadata": {
        "id": "Y_epEIv-Y_YW"
      },
      "source": [
        "---\n",
        "# PART II: WATER IN MERCED\n",
        "\n",
        "Consider the decision problem of the mayor of Merced, California, a medium-size city in the agricultural belt of the California Central Valley.  Each spring, the town receives water through canals fed by the run-off from snowfall in the nearby Sierra Nevada mountain range.  As a result, the town has plenty of water in the spring.  But once the summer comes, the town may run low on water if there is drought and the run-off is less than expected.\n",
        "\n",
        "The amount of water that the Merced will receive through normal canals is measured in the number of acre-feet, the amount of water needed to cover one acre of land one foot deep. Based on historical trends, the mayor believes that the amount of water available to the town from the canals is distributed normally, with a mean of 100,000 acre-feet and a standard deviation of 20,000 acre-feet.  If the town has less than 80,000 acre-feet available – in other words, there is drought – it will cost the town \\$2 million during the summer to pump water into the town from alternative canals.\n",
        "\n",
        "The mayor has the option to institute water conservation measures during the spring, before it is known whether there will be drought.  These conservation measures save enough water so that the town has an additional 20,000 acre-feet than it would otherwise.  However, it will cost the town \\$250,000 due to reduced water availability throughout the spring.\n"
      ]
    },
    {
      "cell_type": "markdown",
      "metadata": {
        "id": "sRa2FkLMY_YX"
      },
      "source": [
        "**a. What is the probability that the town will experience drought if the mayor does not institute special conservation measures?**"
      ]
    },
    {
      "cell_type": "markdown",
      "metadata": {
        "id": "yb9yY2KaY_YX"
      },
      "source": [
        "Your answer here!"
      ]
    },
    {
      "cell_type": "markdown",
      "metadata": {
        "id": "j8DYzlJUY_YX"
      },
      "source": [
        "**b. Draw a decision tree and then determine whether the mayor should institute early conservation measures.  You may assume that the mayor cares only about the expected cost to the town.**"
      ]
    },
    {
      "cell_type": "markdown",
      "metadata": {
        "id": "0rBTD7bJY_YY"
      },
      "source": [
        "Your answer here!\n",
        "\n"
      ]
    },
    {
      "cell_type": "markdown",
      "metadata": {
        "id": "gvJRKU22Y_YY"
      },
      "source": [
        "**c. Would the decision in (b) change if the mayor were risk averse rather than risk neutral?**"
      ]
    },
    {
      "cell_type": "markdown",
      "metadata": {
        "id": "HaTgSiXLY_YY"
      },
      "source": [
        "Your answer here!\n",
        "\n"
      ]
    },
    {
      "cell_type": "markdown",
      "metadata": {
        "id": "4gMvgaTcY_YY"
      },
      "source": [
        "----\n",
        "# PART III: THE BIRTHDAY PROBLEM, REDUX [OPTIONAL] "
      ]
    },
    {
      "cell_type": "markdown",
      "metadata": {
        "id": "7cGQ7QBuY_YY"
      },
      "source": [
        "*Note: This question is on expected values and the notation surrounding them, which are and will continue to be an important concept in the course. However, given that next Friday is the midterm, we are making this an optional challenge problem.*\n",
        "\n",
        "In the 2012 presidential election, 141 ballots were cast by a \"John Smith\" born in 1970. Among these ballots, 27 pairs of ballots had the exact same birthday, which appears to suggest there was rampant double voting.\n",
        "\n",
        "In this exercise, we'll investigate this pattern by computing the number of birthday matches that we expect by chance alone. Note that this problem is intended to be completed entirely by hand, using notation and numbers - not R!\n",
        "\n",
        "To do so, suppose we have 141 unrelated people in a room. Let $X_{i,j}$ be a discrete random variable that indicates whether the i-th person and the j-th person in the room share the same birthday. For example, $X_{1,2}$ indicates whether the first and second people in the room share the same birthday. If they do share the same birthday, the variable equals 1; if they do not, it equals 0. Assume that everyone in the room is equally likely to be born on any of the 365 days in the year. "
      ]
    },
    {
      "cell_type": "markdown",
      "metadata": {
        "id": "SSwOcsS7Y_YZ"
      },
      "source": [
        "**a. Let's begin by mapping out the variable $X_{i,j}$. What are the values that this variable can take, and what are the probabilities of each?**"
      ]
    },
    {
      "cell_type": "markdown",
      "metadata": {
        "id": "cDrgPoc2Y_YZ"
      },
      "source": [
        "Your answer here!\n",
        "\n"
      ]
    },
    {
      "cell_type": "markdown",
      "metadata": {
        "id": "oKS9dqHzY_YZ"
      },
      "source": [
        "**b. What is the value of $E[X_{i,j}]$? Show your work.**"
      ]
    },
    {
      "cell_type": "markdown",
      "metadata": {
        "id": "SREyQFdhY_YZ"
      },
      "source": [
        "Your answer here!\n",
        "\n"
      ]
    },
    {
      "cell_type": "markdown",
      "metadata": {
        "id": "qG48hIX3Y_YZ"
      },
      "source": [
        "**c. Let $T$ be the total number of pairs of birthday matches among the 141 people in the room. Express $T$ in terms of the $X_{i,j}$ discrete random variables (you can use \"…\" instead of writing out every possible combination). Describe how you interpret that expression.**\n",
        "\n",
        "*Note: The material from Class 8 may prove helpful here.*"
      ]
    },
    {
      "cell_type": "markdown",
      "metadata": {
        "id": "lujOam7mY_YZ"
      },
      "source": [
        "Your answer here!\n",
        "\n"
      ]
    },
    {
      "cell_type": "markdown",
      "metadata": {
        "id": "XJpAkRVnY_YZ"
      },
      "source": [
        "**d. What is the value of $E[T]$? To calculate this value, you may use the fact that in a room full of 141 people, there are 9,870 distinct pairs of people.**"
      ]
    },
    {
      "cell_type": "markdown",
      "metadata": {
        "id": "pV2PxGVlY_Ya"
      },
      "source": [
        "Your answer here!\n",
        "\n"
      ]
    },
    {
      "cell_type": "markdown",
      "metadata": {
        "id": "vjiNfb_eY_Ya"
      },
      "source": [
        "**e. Based on your calculations above, do you think the 27 birthday matches among the \"John Smiths\" suggests widespread double voting?**"
      ]
    },
    {
      "cell_type": "markdown",
      "metadata": {
        "id": "q9ZkfEMfY_Ya"
      },
      "source": [
        "Your answer here!\n",
        "\n"
      ]
    },
    {
      "cell_type": "markdown",
      "metadata": {
        "id": "m1aWpWExY_Ya"
      },
      "source": [
        "---\n",
        "# PART IV: PRACTICE EXAM\n",
        "\n",
        "On the course website (on the home page, see the “Old Exams and Suggested Solutions” link in the row corresponding to the midterm), you will find past midterm exams (with and without solutions) for the last three years. The goal of this question is to help you prepare for the midterm exam and reflect on what your plan should be to prepare.\n",
        "\n",
        "**a.\tYou will be allowed to use one double-sided cheat sheet during the exam. Prepare a draft double-sided cheat sheet that has all the formulas and things you would like to have with you in the exam.**\n",
        "\n",
        "*Note: If you'd like, you're free to use the [R Cheat Sheet](https://docs.google.com/spreadsheets/d/1qNGOm4xKvL6d5u_OHUM27aP0dq3BUsfJ-ddPrs_MVzI/edit#gid=0) produced by the API-201 Teaching Team for R-specific notes.*"
      ]
    },
    {
      "cell_type": "markdown",
      "metadata": {
        "id": "exRxMDRuY_Ya"
      },
      "source": [
        "I made my cheat sheet: \n",
        "\n",
        "- [ ] Yes\n",
        "- [ ] No"
      ]
    },
    {
      "cell_type": "markdown",
      "metadata": {
        "id": "fllAg-cwY_Ya"
      },
      "source": [
        "**b. Take one of the midterm exams in exam-like conditions, i.e. sit down and do the exam in 90 minutes.**"
      ]
    },
    {
      "cell_type": "markdown",
      "metadata": {
        "id": "-g3CczVjY_Ya"
      },
      "source": [
        "I took an old midterm exam in exam-like conditions:\n",
        "\n",
        "- [ ] Yes\n",
        "- [ ] No"
      ]
    },
    {
      "cell_type": "markdown",
      "metadata": {
        "id": "OYbZm6h5Y_Ya"
      },
      "source": [
        "**c. Once you are done taking the exam, compare your answers to the suggested solutions.**"
      ]
    },
    {
      "cell_type": "markdown",
      "metadata": {
        "id": "lTvmGIjFY_Yb"
      },
      "source": [
        "I compared my answers to the suggested solutions:\n",
        "\n",
        "- [ ] Yes\n",
        "- [ ] No"
      ]
    },
    {
      "cell_type": "markdown",
      "metadata": {
        "id": "WmENEcBZY_Yb"
      },
      "source": [
        "**d. What lessons did you learn from reviewing the solutions (part c)? \\[1 short paragraph\\]**"
      ]
    },
    {
      "cell_type": "markdown",
      "metadata": {
        "id": "y9LxDXqKY_Yb"
      },
      "source": [
        "Your answer here!"
      ]
    },
    {
      "cell_type": "markdown",
      "metadata": {
        "id": "FJriL9QOY_Yb"
      },
      "source": [
        "---\n",
        "# PART V: PCE ON BAYESIAN UPDATING\n",
        "\n",
        "For this pre-class exercise, think of a time in your personal or professional life in which you over-updated your priors, and a time in which you under-updated your priors. Note that your examples can be quantitative (that is, involving probabilities or other numbers) or qualitative (that is, not involving numbers but rather descriptions).  As we will discuss, the concept of \"thinking like a Bayesian\" is applicable in many types of situations, not just those in which you can use Bayes' rule. For the sake of diversity, please give examples that do not relate to medical testing.\n",
        "\n",
        "We expect this PCE to take you no more than five minutes!\n",
        "\n",
        "__The module is available at the following sites:__\n",
        " \n",
        "- [Section A (Prof. Borck)](https://canvas.harvard.edu/courses/109219/assignments/605677)\n",
        "- [Section B (Prof. Svoronos)](https://canvas.harvard.edu/courses/109220/assignments/605678)\n",
        "- [Section C (Prof. Goel)](https://canvas.harvard.edu/courses/109221/assignments/605673)"
      ]
    },
    {
      "cell_type": "markdown",
      "metadata": {
        "id": "-wHwPGFigFMT"
      },
      "source": [
        "**Completed the module**\n",
        "- [ ] Yes\n",
        "- [ ] No"
      ]
    }
  ],
  "metadata": {
    "colab": {
      "collapsed_sections": [],
      "name": "hw/hw5.ipynb",
      "provenance": [],
      "toc_visible": true,
      "include_colab_link": true
    },
    "kernelspec": {
      "display_name": "R",
      "language": "R",
      "name": "ir"
    },
    "language_info": {
      "codemirror_mode": "r",
      "file_extension": ".r",
      "mimetype": "text/x-r-source",
      "name": "R",
      "pygments_lexer": "r",
      "version": "4.2.1"
    }
  },
  "nbformat": 4,
  "nbformat_minor": 0
}
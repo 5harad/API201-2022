{
  "cells": [
    {
      "cell_type": "markdown",
      "metadata": {
        "id": "BrkAGSiokGB-"
      },
      "source": [
        "# API-201 ABC PROBLEM SET #6\n",
        "**Due on Wednesday, October 19, at 11:59 p.m.**"
      ]
    },
    {
      "cell_type": "markdown",
      "metadata": {
        "id": "erB702CckNQf"
      },
      "source": [
        "**I - INSTRUCTIONS**  \n",
        "To successfully complete this problem set, please follow these steps:\n",
        "\n",
        "1. **Create a copy of this Jupyter notebook in your own drive by clicking `Copy to Drive` in the menubar (this is explained below in more detail below) - *if you do not do this your work will not be saved!***\n",
        "    1. Remember to save your work frequently by pressing `command-S` or clicking `File > Save` in the menubar.\n",
        "    1. We recommend completing this problem set in Google Chrome.\n",
        "2. **Insert all your answers into your copy of the document.** \n",
        "    1. Please include every portion of your submission in this document unless a separate electronic file is explicitly requested. \n",
        "    3. All numerical calculations should be done in the notebook itself, using R code. If you have to do calculations by hand, include a picture of your handwritten work.\n",
        "    2. To add an image of handwritten work, screenshots, or anything else, add a new text cell and click the small image icon in the menubar above the cell. After inserting an image, press the `esc` key to show the image. If you have trouble with this method, upload your image to [Freeimage.host](https://freeimage.host), copy a Markdown link, and paste it in a text cell.\n",
        "3. **Once your document is complete, please save and submit the notebook on Canvas as a PDF.** \n",
        "    1. Click `View > Expand sections` in the menubar to make sure all work is visible (if it is greyed out then it is already visible).\n",
        "    1. Click `Runtime > Run all` in the menubar to make sure all of your code is executed.\n",
        "    1. Click `File > Print` in the menubar and choose the `Save as PDF` option in Chrome to export your notebook as a PDF. \n",
        "    1. Check to make sure answers do not get cut off - when you go to print the PDF we recommend clicking on `More settings` and setting `Margins` to `None`.\n",
        "    1. Submit your file on Canvas.\n"
      ]
    },
    {
      "cell_type": "markdown",
      "metadata": {
        "id": "XczwLgBfkPYI"
      },
      "source": [
        "**II - IDENTIFICATION**\n",
        "1. **Your Full Name:** `     `  \n",
        "\n",
        "2. **Group Members (classmates with whom you worked on this problem set):**  \n",
        "    1. `     `\n",
        "    2. `     `\n",
        "    3. `     `\n",
        "    4. `     `\n",
        "    \n",
        "3. **Compliance with HKS Academic Code**  \n",
        "We abide by the Harvard Kennedy School Academic code for all aspects of the course. In terms of problem sets, unless explicitly written otherwise, the norms are the following: You are free (and encouraged) to discuss problem sets with your classmates. However, you must hand in your own unique written work and code in all cases. Any copy/paste of another’s work is plagiarism. In other words, you may work with your classmate(s), sitting side-by-side (physically or remotely!) and going through the problem set question by question, but you must each type your own answers and your own code. For more details, please see syllabus.\n",
        "\n",
        "    **I certify that my work in this problem set complies with the HKS Academic Code**\n",
        "    - [ ] Yes\n",
        "    - [ ] No\n",
        "\n",
        "---"
      ]
    },
    {
      "cell_type": "markdown",
      "metadata": {
        "id": "NoK-VBq0kikh"
      },
      "source": [
        "# PART I: FINAL EXERCISE\n",
        "\n",
        "**Note: This part of the problem set is designed to be completed with your Final Exercise team. As opposed to other problem set questions where you are asked to write your answers in your own words, *all team members may submit identical answers for this question*. But please submit answers individually (as part of the problem set you submit) to facilitate grading.**\n",
        "\n",
        "Now that you have submitted your Final Exercise proposal and laid out the rationale for the policy question you aim to answer, we would like you to spend your API-201 related time this week making progress on your analysis.\n",
        "\n",
        "In Tuesday's class, we outlined a five step process for conducting an empirical analysis:\n",
        "\n",
        "1. Understand your dataset(s)\n",
        "1. Identify key variables\n",
        "1. Summarize your key variables\n",
        "1. Analyze\n",
        "1. Draw appropriate conclusions\n",
        "\n",
        "This week, we would like you to focus on Parts 1-3 of this process."
      ]
    },
    {
      "cell_type": "markdown",
      "metadata": {
        "id": "EmGRcZ6Xlc3z"
      },
      "source": [
        "## 1. Understand your dataset(s)\n",
        "\n",
        "In each of your proposals, you identified at least one dataset that you intend to use to help answer your policy question. For this part, we would like you to select the primary dataset that you intend to use and describe it along the lines of our exercise on Nambia in Tuesday. \n",
        "\n",
        "**a. Answer the following questions for your primary dataset:**\n",
        "\n",
        "- What is the unit of observation?\n",
        "- How were the data collected?\n",
        "- How many observations?\n",
        "- Over what time period?\n",
        " \n",
        "Don't forget to consult supplementary materials surrounding your dataset, such as the codebook.\n"
      ]
    },
    {
      "cell_type": "markdown",
      "metadata": {
        "id": "p-4DCHS1mb3M"
      },
      "source": [
        "Your answer here!"
      ]
    },
    {
      "cell_type": "markdown",
      "metadata": {
        "id": "2mdvjAAOmu7e"
      },
      "source": [
        "----\n",
        "## 2. Identify key variables\n",
        "\n",
        "Next, identify some key variables that you intend to explore related to your analysis. This should include your **primary outcome variable** of interest, but also consider what additional variables you might be interested in:\n",
        "\n",
        "- Secondary outcome variables to supplement your primary outcome variable;\n",
        "- Variables that you can use to define subgroups for comparisons;\n",
        "- Variables that will help the reader of your memo understand the context of your policy question;\n",
        "- *If you are pursuing a causal question*: variables that will help you rule out alternative explanations for the causal claim you intend to make (e.g., data from a comparison group, or a variable the trend of which will help you make your claim).\n",
        "\n",
        "While it is likely that not every group will need to use variables in each of these categories, take this time to think broadly about what data would be most useful to you."
      ]
    },
    {
      "cell_type": "markdown",
      "metadata": {
        "id": "HgqeAK7EoHU-"
      },
      "source": [
        "**a. What is your primary outcome variable of interest in this dataset? Does it capture the underlying idea or construct you are actually interested in? Why or why not?** "
      ]
    },
    {
      "cell_type": "markdown",
      "metadata": {
        "id": "_wnUVje4oURE"
      },
      "source": [
        "Your answer here!"
      ]
    },
    {
      "cell_type": "markdown",
      "metadata": {
        "id": "PXNT-qJZoWP4"
      },
      "source": [
        "**b. List 3-5 additional variables that are potentially of use to your analysis? How do you intend to use them in your analysis?**"
      ]
    },
    {
      "cell_type": "markdown",
      "metadata": {
        "id": "hXtUw7XooiVG"
      },
      "source": [
        "Your answer here!"
      ]
    },
    {
      "cell_type": "markdown",
      "metadata": {
        "id": "Ck7nQbxXolGZ"
      },
      "source": [
        "---\n",
        "## 3. Summarize your key variables\n",
        "\n",
        "Finally, we would like you to get your data into R. First you will need to create a Jupyter notebook that you can share with your group. Luckily, Google Colab allows you to add collaborators to a notebook in the same way that you can collaborate on a Google Doc. However, note that simultaneous editing does not work consistently, so its best to edit the notebook one at a time, or for each group member to save their own copy of the notebook to work on before combining everyone's work into the shared document.\n",
        "\n",
        "Before you import any data, set up your notebook:\n",
        "\n",
        "1. First, [click this link to create a new Jupyter notebook that uses the R kernel](https://colab.research.google.com/#create=true&language=r). Use this link instead of going to `File > New notebook`, which will use Python instead of R by default. \n",
        "2. Rename the notebook whatever you would like by clicking on the title on the top left of the screen.\n",
        "3. Next, click the Share button on the top right of the screen and add your group members to the notebook as collaborators.\n",
        "4. In the code cell at the top of your notebook, type the command `library(tidyverse)` and run the cell. This will ensure you can use all the commands that we have been using in the course. You may also want to add `library(readxl)` which will help you import Excel files into your notebook (more on that below).\n",
        "\n",
        "Finally, you are ready to load your data into R! Our TFs have produced a [handy guide for getting data into Google Colab](https://colab.research.google.com/github/5harad/API201-students/blob/main/review_sessions/review_5/review_5.ipynb) which should walk you through the process of getting an Excel file in. If you're having trouble getting your dataset into Colab, please come to TF or faculty office hours for guidance. You can also post a question on the `#r` channel of Slack, but be sure to include:\n",
        "\n",
        "1. The type of dataset that it is (e.g., csv, Stata, R)\n",
        "2. The command that you have tried to import it\n",
        "3. A screenshot of the error that you receive when you run that command"
      ]
    },
    {
      "cell_type": "markdown",
      "metadata": {
        "id": "neHzrMYsz8Ji"
      },
      "source": [
        "Once you have successfully imported your data, start your analysis by providing some summary statistics for one of your key variables. Drawn from our class on Tuesday, consider summarizing:\n",
        "\n",
        "- Measures of central tendency \\[ mean, median \\]\n",
        "- Proportion \\[ for a binary variable \\]\n",
        "- Range \\[ minimum to maximum \\]\n",
        "- Measures of spread \\[ standard deviation, percentiles \\]\n",
        "\n",
        "**a. Provide some preliminary summary statistics below. You should feel free to provide additional analyses, tables, or graphs if you would like!**"
      ]
    },
    {
      "cell_type": "code",
      "execution_count": null,
      "metadata": {
        "id": "CqXBI4yK0jXe"
      },
      "outputs": [],
      "source": [
        "# Your answer here!"
      ]
    },
    {
      "cell_type": "markdown",
      "metadata": {
        "id": "QODvCrsA0lD0"
      },
      "source": [
        "**b. Make a plan for your group's next steps. How will you continue your analysis? What visuals do you want to produce? What additional data might you need? How frequently will you meet going forward?**"
      ]
    },
    {
      "cell_type": "markdown",
      "metadata": {
        "id": "ctOGILSL1DE5"
      },
      "source": [
        "Your answer here!"
      ]
    }
  ],
  "metadata": {
    "colab": {
      "provenance": []
    },
    "kernelspec": {
      "display_name": "R",
      "language": "R",
      "name": "ir"
    },
    "language_info": {
      "codemirror_mode": "r",
      "file_extension": ".r",
      "mimetype": "text/x-r-source",
      "name": "R",
      "pygments_lexer": "r",
      "version": "4.2.1"
    }
  },
  "nbformat": 4,
  "nbformat_minor": 0
}
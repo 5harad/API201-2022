{
 "cells": [
  {
   "cell_type": "markdown",
   "id": "474c4cea-2d37-445e-88d9-fcbac42c6a4f",
   "metadata": {
    "tags": []
   },
   "source": [
    "# API-201 ABC PROBLEM SET #2\n",
    "**Due on Wednesday, September 14, at 5:00 p.m.**"
   ]
  },
  {
   "cell_type": "markdown",
   "id": "e327f767-95b2-4eaa-862b-3d0142814dbc",
   "metadata": {},
   "source": [
    "**I - INSTRUCTIONS**  \n",
    "To successfully complete this problem set, please follow these steps:\n",
    "\n",
    "1. **Create a copy in your own directory by clicking `File > Save as…` and choosing a location outside of the `shared_data` folder - if you do not do this your work will not be saved!**\n",
    "    1. Remember to save your work frequently by pressing `command-S` of clicking `File > Save and Checkpoint` in the menubar.\n",
    "2. **Insert all your answers into your copy of the document.** \n",
    "    1. Please include every portion of your submission in this document unless a separate electronic file is explicitly requested. \n",
    "    3. All numerical calculations should be done in the notebook itself, using R code. If you have to do calculations by hand, include a picture of your handwritten work.\n",
    "    2. Use `Edit > Insert Image` in the menubar to add an image of handwritten work, screenshots, or anything else.\n",
    "3. **Once your document is complete, please save and submit the notebook on Canvas as a PDF.** \n",
    "    1. Click `Cell > Run All` in the menubar to make sure all of your code is executed.\n",
    "    1. Click `File > Download as > PDF via HTML (.html)` in the menubar to export your notebook as a PDF, and submit it on Canvas.\n"
   ]
  },
  {
   "cell_type": "markdown",
   "id": "89f7b029-15e6-40e1-a6d5-2f9dc144da8b",
   "metadata": {},
   "source": [
    "**II - IDENTIFICATION**\n",
    "1. **Your Full Name:** `     `  \n",
    "\n",
    "2. **Group Members (classmates with whom you worked on this problem set):**  \n",
    "    1. `     `\n",
    "    2. `     `\n",
    "    3. `     `\n",
    "    4. `     `\n",
    "    \n",
    "3. **Compliance with HKS Academic Code**  \n",
    "We abide by the Harvard Kennedy School Academic code for all aspects of the course. In terms of problem sets, unless explicitly written otherwise, the norms are the following: You are free (and encouraged) to discuss problem sets with your classmates. However, you must hand in your own unique written work and code in all cases. Any copy/paste of another’s work is plagiarism. In other words, you may work with your classmate(s), sitting side-by-side (physically or remotely!) and going through the problem set question by question, but you must each type your own answers and your own code. For more details, please see syllabus.\n",
    "\n",
    "    **I certify that my work in this problem set complies with the HKS Academic Code**\n",
    "    - [ ] Yes\n",
    "    - [ ] No\n",
    "\n",
    "---"
   ]
  },
  {
   "cell_type": "markdown",
   "id": "46229d2e-8b8a-4c56-a5f4-0626c3eaba9f",
   "metadata": {},
   "source": [
    "#### Load `R` libraries and data\n",
    "The cell below will set up your notebook for the assignment - make sure you run it before beginning!\n",
    "\n",
    "In addition to loading the tidyverse, this code cell will import some data - an extract from the World Bank's World Development Indicators (WDI) dataset.\n",
    "\n",
    "*Note: If you look at the lines of code below, you may notice that we're importing an Excel sheet, whereas last problem set we imported an Rdata file. The `read_excel` command lets us do this, which comes in handy if the data that you have is an Excel file!*"
   ]
  },
  {
   "cell_type": "code",
   "execution_count": 0,
   "id": "fd4d1096-e7ce-452d-8033-f1f2fb43396f",
   "metadata": {
    "tags": []
   },
   "outputs": [],
   "source": [
    "library(tidyverse)\n",
    "library(readxl)\n",
    "\n",
    "wdi <- read_excel(\"~/shared_data/API201-students/data/WDI_PS2.xlsx\", \n",
    "                  sheet = 2)\n",
    "\n",
    "wdi_advars <- read_excel(\"~/shared_data/API201-students/data/WDI_PS2.xlsx\", \n",
    "                         sheet = 3)"
   ]
  },
  {
   "cell_type": "markdown",
   "id": "53b78914-aecb-443e-9a59-61728708c000",
   "metadata": {},
   "source": [
    "---"
   ]
  },
  {
   "cell_type": "markdown",
   "id": "a0883149",
   "metadata": {},
   "source": [
    "# Table of Contents\n",
    "\n",
    "1. [LEARNING ABOUT THE WORLD ECONOMY](#LEARNING-ABOUT-THE-WORLD-ECONOMY)\n",
    "2. [CORRELATIONS IN THE WORLD](#CORRELATIONS-IN-THE-WORLD)\n",
    "3. [CHOOSING THE RIGHT STATISTIC](#CHOOSING-THE-RIGHT-STATISTIC)\n",
    "5. [PCE: INTRODUCTION TO PROBABILITY](#PCE:-INTRODUCTION-TO-PROBABILITY)\n",
    "\n",
    "---"
   ]
  },
  {
   "cell_type": "markdown",
   "id": "44c63065-164e-463d-a543-db1acdabedf9",
   "metadata": {},
   "source": [
    "# LEARNING ABOUT THE WORLD ECONOMY\n",
    "\n",
    "The purpose of this question is threefold: (a) to help you learn about the world economy using a widely used dataset; (b) to ensure that you are comfortable with several R functions and operations that are commonly used to analyze data; and (c) to review the descriptive statistics we studied in Class 3. \n",
    "\n",
    "We will be using an extract from World Bank’s World Development Indicators (WDI) for this question. A table of variable definitions is provided below.\n",
    "\n",
    "Note that the WDI dataset reports GDP values in 2010 U.S. dollars, so that so you can directly compare values in different years.  Also note that GDP and population data are not available in some years.  For this problem set, use only those observations for which data are available.  (We ask specifically about the missing data in part 4.)\n",
    "\n",
    "| Code   | Indicator Name| Long definition |\n",
    "|:-:|:-:|:- |\n",
    "| GDP    | GDP (constant 2010 US$)       | GDP at purchaser's prices is the sum of gross value added by all resident producers in the economy plus any product taxes and minus any subsidies not included in the value of the products. It is calculated without making deductions for depreciation of fabricated assets or for depletion and degradation of natural resources. Data are in constant 2010 U.S. dollars. Dollar figures for GDP are converted from domestic currencies using 2010 official exchange rates. For a few countries where the official exchange rate does not reflect the rate effectively applied to actual foreign exchange transactions, an alternative conversion factor is used. |\n",
    "| POP    | Population, total| Total population is based on the de facto definition of population, which counts all residents regardless of legal status or citizenship. The values shown are midyear estimates.|\n",
    "| CO2    | CO2 emissions (metric tons per capita)| Carbon dioxide emissions are those stemming from the burning of fossil fuels and the manufacture of cement. They include carbon dioxide produced during consumption of solid, liquid, and gas fuels and gas flaring.|\n",
    "| IMRT   | Mortality rate, infant (per 1,000 live births)| Infant mortality rate is the number of infants dying before reaching one year of age, per 1,000 live births in a given year.|\n",
    "| CHE    | Current health expenditure (\\% of GDP) | Level of current health expenditure expressed as a percentage of GDP.  Estimates of current health expenditures include healthcare goods and services consumed during each year. This indicator does not include capital health expenditures such as buildings, machinery, IT and stocks of vaccines for emergency or outbreaks.     |\n",
    "| ALITRT | Literacy rate, adult total (\\% of people ages 15 and above)    | Adult literacy rate is the percentage of people ages 15 and above who can both read and write with understanding a short simple statement about their everyday life.|\n",
    "| PARL   | Proportion of seats held by women in national parliaments (\\%) | Women in parliaments are the percentage of parliamentary seats in a single or lower chamber held by women.  |"
   ]
  },
  {
   "cell_type": "markdown",
   "id": "e7343f7c-714f-4e3d-aa74-54d7c4719d7d",
   "metadata": {},
   "source": [
    "### 0. Preview the Data"
   ]
  },
  {
   "cell_type": "markdown",
   "id": "8abc871e-caf3-4726-be45-19052976e1ab",
   "metadata": {},
   "source": [
    "Run the cell below to view the first 10 rows of the data."
   ]
  },
  {
   "cell_type": "code",
   "execution_count": 0,
   "id": "5489a06d-b79b-4a56-a0d9-7d17b8851efc",
   "metadata": {},
   "outputs": [],
   "source": [
    "head(wdi, 10)"
   ]
  },
  {
   "cell_type": "markdown",
   "id": "da59cc47-6ad5-4764-9bd3-88ddedb8e41c",
   "metadata": {},
   "source": [
    "### 1. Totals: \n",
    "\n",
    "a. Calculate and report total world GDP and world population in 2019 using the `sum()` function and add the argument `na.rm = TRUE` to remove missing values.\n",
    "\n",
    "_Hints:_ \n",
    "\n",
    "* Recall that `sum()` takes a numerical vector as its first argument. You can extract a column from a data frame using `$` (e.g., `dataset$var1` will reference the `var1` column of your data frame `dataset`). \n",
    "* You can add an argument by putting a comma and the argument in parentheses (e.g., `fun(input, arg)` includes argument `arg` to function `fun(input)`)."
   ]
  },
  {
   "cell_type": "code",
   "execution_count": 0,
   "id": "6bf00fca-0bd7-4ea2-9ece-6bb50bb43b42",
   "metadata": {},
   "outputs": [],
   "source": [
    "# Your answer here!\n",
    "\n"
   ]
  },
  {
   "cell_type": "markdown",
   "id": "b6ffe349-e238-460e-bd38-4ed9557ee73e",
   "metadata": {},
   "source": [
    "b. Identify the five countries with the largest populations in 2019 and their respective populations in 2019 using `head()` and the tidyverse function `arrange()`. \n",
    "\n",
    "_Hints:_\n",
    "* Use pipes `%>%` to perform multiple sequential operations on the `wdi` dataset.\n",
    "* `arrange(data, desc(x))` sorts data in descending order of `x` rather than ascending order.\n",
    "* `head(data, n)` returns just the first `n` rows of data.\n",
    "* Make sure to use `head()` and `arrange()` in the correct order, otherwise you'll order only the first 5 countries in the dataset.\n"
   ]
  },
  {
   "cell_type": "code",
   "execution_count": 0,
   "id": "fc73769d-39ff-4415-b038-5e837d5017ac",
   "metadata": {},
   "outputs": [],
   "source": [
    "# Your answer here!\n",
    "\n"
   ]
  },
  {
   "cell_type": "markdown",
   "id": "1a8d4b52-6081-4356-8da1-87f63c1074cd",
   "metadata": {},
   "source": [
    "c. Identify the five countries with the largest GDPs in 2019 and their respective GDPs in 2019."
   ]
  },
  {
   "cell_type": "code",
   "execution_count": 0,
   "id": "bdd6bdc6-ff80-40f6-a4d0-b7129229f83c",
   "metadata": {},
   "outputs": [],
   "source": [
    "# Your answer here!\n",
    "\n"
   ]
  },
  {
   "cell_type": "markdown",
   "id": "e4f24eaf-c59b-4ec1-86d7-9c5f2ed2edc4",
   "metadata": {},
   "source": [
    "### 2. Central Tendencies:\n",
    "\n",
    "When the necessary data are available, calculate GDP per capita for each country in the database in both 1994 and 2019 by creating a new dataset called `wdi_percap` that includes two new columns called `gdp_percap_1994` and `gdp_percap_2019`, respectively.\n",
    "\n",
    "_HINT:_ Use `mutate()` to create the new columns.\n",
    "\n",
    "\n",
    "**a. What is the simple average of the country-level GDP per capita values in 1994 and 2019?**\n",
    "\n",
    "_HINT:_ You can remove missing values with `mean()` or `median()` just like with `sum()`!"
   ]
  },
  {
   "cell_type": "code",
   "execution_count": 0,
   "id": "eecde925-5512-4833-af43-5f153f9c2f10",
   "metadata": {},
   "outputs": [],
   "source": [
    "# Your answer here!\n",
    "\n"
   ]
  },
  {
   "cell_type": "markdown",
   "id": "28ccdf36-0195-4f8f-bc45-501d229f9386",
   "metadata": {},
   "source": [
    "**b. What is the median country-level GDP per capita in 1994 and 2019?**"
   ]
  },
  {
   "cell_type": "code",
   "execution_count": 0,
   "id": "8d5c0e8d-6352-4b0a-97ce-d895aebea3e7",
   "metadata": {},
   "outputs": [],
   "source": [
    "# Your answer here!\n",
    "\n"
   ]
  },
  {
   "cell_type": "markdown",
   "id": "6edd0db0-c45c-4944-8546-af498ebb7140",
   "metadata": {},
   "source": [
    "**c. What drives the differences between (a) and (b)?**"
   ]
  },
  {
   "cell_type": "markdown",
   "id": "caafb8d6-f2a3-45cf-8e27-560bb7f23b10",
   "metadata": {},
   "source": [
    "`Your answer here!`\n",
    "\n"
   ]
  },
  {
   "cell_type": "markdown",
   "id": "1a8520f1-0c38-464a-a318-472e8606de17",
   "metadata": {},
   "source": [
    "**d. Using data on 2019, What is the total population of all countries with GDP per capita below the world mean calculated in part (a)?  What fraction of the total world population does this number represent?**\n",
    "\n",
    "There are many possible ways to solve this question, so consider the following outline as a possible way to solve the problem, but not the only solution!\n",
    "1. Start by using `mutate()` to create 3 new columns: \n",
    "    a. Mean GDP per capita.\n",
    "    b. A binary variable that flags whether `gdp_percap_2019` is below mean GDP per capita.\n",
    "    c. A variable called `pop_below` that is equal to a country's population if its GDP per capita is below the mean and 0 otherwise.\n",
    "2. Use `summarize()` and `sum()` to sum total population and population of countries with GDP per capita below mean. \n",
    "3. use `mutate()` again to calculate the fraction of world population living in countries with below-mean GDP per capita."
   ]
  },
  {
   "cell_type": "code",
   "execution_count": 0,
   "id": "b05d1352-c247-4cea-b1db-7831be8e59d7",
   "metadata": {},
   "outputs": [],
   "source": [
    "# Your answer here!\n",
    "\n"
   ]
  },
  {
   "cell_type": "markdown",
   "id": "7e512987-c1c0-4308-9523-8ad6d2a311d1",
   "metadata": {},
   "source": [
    "**e. What is your answer to (d) telling you in terms of how appropriate mean world GDP per capita is in characterizing the economic well-being of the average person in the world? [2-3 sentences]**"
   ]
  },
  {
   "cell_type": "markdown",
   "id": "036f660d-52e1-426d-8c2e-c62f23123617",
   "metadata": {},
   "source": [
    "`Your answer here!`\n",
    "\n"
   ]
  },
  {
   "cell_type": "markdown",
   "id": "edac92b0-d49a-4874-81c4-f09c658a8c9b",
   "metadata": {},
   "source": [
    "### 3. Missing data:\n",
    "\n",
    "Missing data is, unfortunately, a fact of life, and we face it here.  While we cannot necessarily fix the problem of missing data, it is important to consider its effects.\n",
    "\n",
    "**a. The WDI database does not have a 2019 GDP figure for how many countries?**\n",
    "\n",
    "_HINT:_ The function `is.na()` returns `TRUE` for missing values and `FALSE` otherwise. You can calculate the total number of missing values in a vector `x` using `sum(is.na(x))`."
   ]
  },
  {
   "cell_type": "code",
   "execution_count": 0,
   "id": "195986a1-ccde-4b7e-b684-4374ea576ed1",
   "metadata": {},
   "outputs": [],
   "source": [
    "# Your answer here!\n",
    "\n"
   ]
  },
  {
   "cell_type": "markdown",
   "id": "d55ec94e-8b14-4f51-a7ec-782704d2ee1d",
   "metadata": {},
   "source": [
    "**b. The WDI database does not have a 2019 GDP figure for Iran. Describe two distinct ways in which \n",
    "you could approximate Iran’s GDP in 2019 (you do not need to implement your suggestions in R).**"
   ]
  },
  {
   "cell_type": "markdown",
   "id": "ee659dc2-37d8-4a91-af95-bf25117ad8d5",
   "metadata": {},
   "source": [
    "`Your answer here!`\n",
    "\n"
   ]
  },
  {
   "cell_type": "markdown",
   "id": "7effcd5b-3ed2-4fce-a344-2b5890b0f91a",
   "metadata": {},
   "source": [
    "**c. Based on your examination of the data, how would you expect the missing data for Iran in 2019 to affect your calculations of each of the following?  Please answer this question qualitatively (i.e., “The result I reported is likely too low because I do not have Iran’s 2019 GDP in the dataset.”). It is not necessary to do any additional calculations.**\n",
    "\n",
    "*i. The total world GDP that you reported in part (1).*"
   ]
  },
  {
   "cell_type": "markdown",
   "id": "54c29a2b-7b49-42f2-962c-3ebd5592ce49",
   "metadata": {},
   "source": [
    "`Your answer here!`\n",
    "\n"
   ]
  },
  {
   "cell_type": "markdown",
   "id": "8c76c812-94fe-49d8-8fc6-39eb1cb4472b",
   "metadata": {},
   "source": [
    "*ii. The central tendencies of GDP per capita that you reported in part (2).*"
   ]
  },
  {
   "cell_type": "markdown",
   "id": "b32c3062-bff0-4fe3-8719-b81c452cba1c",
   "metadata": {},
   "source": [
    "`Your answer here!`\n",
    "\n"
   ]
  },
  {
   "cell_type": "markdown",
   "id": "cbdfffe9",
   "metadata": {},
   "source": [
    "*iii. The variance of GDP per capita (Hint: reference the formula for variance from Class 3)*"
   ]
  },
  {
   "cell_type": "markdown",
   "id": "dc17c5cf",
   "metadata": {},
   "source": [
    "`Your answer here!`\n",
    "\n"
   ]
  },
  {
   "cell_type": "markdown",
   "id": "ffd8e96f-0279-4b52-9782-6957a7d68382",
   "metadata": {},
   "source": [
    "### 4. Putting it all together:\n",
    "\n",
    "Summarize your findings from your analyses above.\n",
    "\n",
    "**a. In one crisp paragraph:**"
   ]
  },
  {
   "cell_type": "markdown",
   "id": "8256ad20-2272-4052-958b-c7889b0afaa8",
   "metadata": {},
   "source": [
    "`Your answer here!`\n",
    "\n"
   ]
  },
  {
   "cell_type": "markdown",
   "id": "d7bcec94-a245-4792-9ee2-a49278becb43",
   "metadata": {},
   "source": [
    "**b. In one tweet-length statement (if you'd like, feel free to tweet it using `#api201`!):**"
   ]
  },
  {
   "cell_type": "markdown",
   "id": "b43d53de-6d8c-46bb-aa1c-8873649d260e",
   "metadata": {},
   "source": [
    "`Your answer here!`\n",
    "\n"
   ]
  },
  {
   "cell_type": "markdown",
   "id": "3e017066-cfd9-4c71-9da4-b36b05932da3",
   "metadata": {},
   "source": [
    "# CORRELATIONS IN THE WORLD\n",
    "\n",
    "The “Additional Variables” dataframe (`wdi_advars`) includes five other variables that we selected to cover a variety of topics of potential interest.  As indicated in the variable definition table from Q1, these variables are:\n",
    "\n",
    "* CO2 emissions (metric tons per capita)\n",
    "* Mortality rate, infant (per 1,000 live births)\n",
    "* Current health expenditure (% of GDP)\n",
    "* Literacy rate, adult total (% of people ages 15 and above)\n",
    "* Proportion of seats held by women in national parliaments (%) \n",
    "\n",
    "We have included the most recent available data for these variables, which in often from 2016, 2017, or 2018, not 2019. \n",
    "\n",
    "Run the block below to preview the data. When you do so, you'll be able to see which years we have additional variables for."
   ]
  },
  {
   "cell_type": "code",
   "execution_count": 0,
   "id": "42443974-abae-4ef3-a91c-ac5cb7c0692b",
   "metadata": {},
   "outputs": [],
   "source": [
    "head(wdi_advars, 10)"
   ]
  },
  {
   "cell_type": "markdown",
   "id": "ea60b81f-04bd-4ec8-95b9-7a99892b3841",
   "metadata": {},
   "source": [
    "Please choose two of the eight variables (possibly including GDP, population, and GDP per capita) that interest you and that you believe might be related.  Then:\n",
    "\n",
    "**a. Using `ggplot()`, create a scatterplot of the two variables you selected. Label the axes appropriately using `labs()`.**"
   ]
  },
  {
   "cell_type": "code",
   "execution_count": 0,
   "id": "9527f9f4-e1c7-4591-8797-f6214f8d1882",
   "metadata": {},
   "outputs": [],
   "source": [
    "# Your answer here!\n",
    "\n"
   ]
  },
  {
   "cell_type": "markdown",
   "id": "da7d05f1-e5d9-4cf8-b8db-b250b6c82aed",
   "metadata": {},
   "source": [
    "**b. Use the `cor()` function, calculate the correlation coefficient between the two variables you selected.**\n",
    "\n",
    "_HINT:_ By default, if any values of vectors `x` or `y` are missing, `cor(x, y)` will return `NA`. To calculate the correlation only using non-missing values, use `cor(x, y, use = \"complete.obs\")`."
   ]
  },
  {
   "cell_type": "code",
   "execution_count": 0,
   "id": "e73f0966-bab8-42cc-a50a-e26ea4935934",
   "metadata": {},
   "outputs": [],
   "source": [
    "# Your answer here!\n",
    "\n"
   ]
  },
  {
   "cell_type": "markdown",
   "id": "9102ce79-a222-4b80-8270-bda5eed479a3",
   "metadata": {},
   "source": [
    "**c. If you find that the two variables you chose to analyze are in fact correlated (either positively or negatively), suggest two distinct reasons that could explain the relationship you found between the variables.  Please be specific (i.e., explain how your two specific variables could be related, not just how two generic variables might be related).**"
   ]
  },
  {
   "cell_type": "markdown",
   "id": "4163441e-6a37-4f30-831b-9591a92f6f22",
   "metadata": {},
   "source": [
    "`Your answer here!`\n",
    "\n"
   ]
  },
  {
   "cell_type": "markdown",
   "id": "eb7bc64e-188e-4d93-a1f5-0caf74fafe0e",
   "metadata": {},
   "source": [
    "Generally in the world, we may find that two variables are highly correlated (either positively or negatively) but the two variables are not causally related.  The correlation may instead be driven by a third variable or may be entirely coincidental.  These situations are sometimes called “spurious correlations.” \n",
    "\n",
    "**d. Briefly describe a situation from your personal or professional life in which a spurious correlation led to a wrong interpretation or decision.  \\[3-4 sentences\\]**"
   ]
  },
  {
   "cell_type": "markdown",
   "id": "63d10dcc-7f1d-48bd-b4a3-bcc72aec3e23",
   "metadata": {},
   "source": [
    "`Your answer here!`\n",
    "\n"
   ]
  },
  {
   "cell_type": "markdown",
   "id": "4937a135-8d7c-474b-9eb5-ba360e2ef770",
   "metadata": {},
   "source": [
    "# CHOOSING THE RIGHT STATISTIC\n",
    "\n",
    "As we discussed in class, choosing the right statistic often depends on the problem we are trying to inform.  Different statistics have different strengths and weaknesses depending on the context. For each of the following policy problems, decide whether the mean alone is enough to inform the problem at hand. If it is, explain why. If it is not, suggest what other statistics you would like to have in addition to the mean."
   ]
  },
  {
   "cell_type": "markdown",
   "id": "6be3f0fa-2d48-427e-8334-9aeed887f5a0",
   "metadata": {},
   "source": [
    "**a. Earlier this spring, hospital administrators and public health officials spent considerable time planning for an expected surge in patients needing hospital care.  To help them plan, they use data available at the time to calculate the average number of COVID-positive patients who required ICU care and/or ventilator support in regions around the world.**\n",
    " "
   ]
  },
  {
   "cell_type": "markdown",
   "id": "08560acd-dd74-48e0-89d3-ced67d29f2ca",
   "metadata": {},
   "source": [
    "`Your answer here!`\n",
    "\n"
   ]
  },
  {
   "cell_type": "markdown",
   "id": "e959d42f-598a-44eb-b50c-54af6fe49972",
   "metadata": {},
   "source": [
    "**b. A city is setting its public transportation budget based on finely detailed traffic data. When there’s more traffic, more money is spent on increasing bus and train capacity. The city collects road speeds and traffic volume each day at rush hour and calculates the mean speed and volume during rush hour.**"
   ]
  },
  {
   "cell_type": "markdown",
   "id": "0c706e5d-6936-47f1-83a1-83a13b7d4abd",
   "metadata": {},
   "source": [
    "`Your answer here!`\n",
    "\n"
   ]
  },
  {
   "cell_type": "markdown",
   "id": "320253c0-5610-414b-b50c-320afaf2f0a9",
   "metadata": {},
   "source": [
    "**c. A town in New England is preparing its budget for snow removal this coming winter.  The town calculates mean spending on snow removal over the previous five years.**"
   ]
  },
  {
   "cell_type": "markdown",
   "id": "e467c5af-e843-43aa-9cf3-98f6a21cdb46",
   "metadata": {},
   "source": [
    "`Your answer here!`\n",
    "\n"
   ]
  },
  {
   "cell_type": "markdown",
   "id": "951e0688-dc45-46b2-9bba-df950c2f2572",
   "metadata": {},
   "source": [
    "# PCE: Bayes' Rule\n",
    "\n",
    "The goal of this problem set question is to help prepare you for the class on Bayes' Rule that will be held on Thursday (the day after this problem set is due). You will be asked to read two articles an important and controversial question: \"*Should women in their 40’s have annual mammograms?*\". After reading the articles, we ask that you answer one of three possible questions in the Canvas discussion forum. \n",
    "\n",
    "Additionally, the PCE has an optional opportunity to review probability rules. \n",
    "\n",
    "Remember that you get full credit for completing the required parts of the PCE - your responses will be registered in the system but will not count towards your grade in any way.\n",
    "\n",
    "__The module is available at the following sites:__\n",
    "\n",
    "* [Section A (Prof. Borck)](https://canvas.harvard.edu/courses/109219/modules/231151)\n",
    "\n",
    "* [Section B (Prof. Svoronos)](https://canvas.harvard.edu/courses/109220/modules/231149)\n",
    "\n",
    "* [Section C (Prof. Goel)](https://canvas.harvard.edu/courses/109221/modules/231138)"
   ]
  },
  {
   "cell_type": "markdown",
   "id": "20f5b6ac-5eb7-4828-9e5a-2772d99cae1c",
   "metadata": {},
   "source": [
    "**Completed the module**\n",
    "- [ ] Yes\n",
    "- [ ] No"
   ]
  }
 ],
 "metadata": {
  "kernelspec": {
   "display_name": "R",
   "language": "R",
   "name": "ir"
  },
  "language_info": {
   "codemirror_mode": "r",
   "file_extension": ".r",
   "mimetype": "text/x-r-source",
   "name": "R",
   "pygments_lexer": "r",
   "version": "4.1.3"
  }
 },
 "nbformat": 4,
 "nbformat_minor": 5
}

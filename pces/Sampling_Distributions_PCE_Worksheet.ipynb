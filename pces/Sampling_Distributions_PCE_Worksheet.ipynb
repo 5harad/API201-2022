{
  "nbformat": 4,
  "nbformat_minor": 0,
  "metadata": {
    "colab": {
      "provenance": []
    },
    "kernelspec": {
      "name": "ir",
      "display_name": "R"
    },
    "language_info": {
      "name": "R"
    }
  },
  "cells": [
    {
      "cell_type": "code",
      "execution_count": null,
      "metadata": {
        "id": "-re9dvAzF_oL"
      },
      "outputs": [],
      "source": [
        "# Run this first!\n",
        "\n",
        "library(tidyverse)\n",
        "data <- read_csv('https://github.com/5harad/API201-students/blob/main/data/SampleSize3.csv?raw=TRUE')"
      ]
    },
    {
      "cell_type": "code",
      "source": [
        "# The dataset consists of every possible sample of size 3 from the example.\n",
        "# Each row is a sample of three people's ages.\n",
        "\n",
        "head(data)"
      ],
      "metadata": {
        "id": "W1SuKpi-IXIB"
      },
      "execution_count": null,
      "outputs": []
    },
    {
      "cell_type": "code",
      "source": [
        "# Calculate the average age for each sample of size 3\n",
        "\n"
      ],
      "metadata": {
        "id": "iaVQXK9XGB_u"
      },
      "execution_count": null,
      "outputs": []
    },
    {
      "cell_type": "code",
      "source": [
        "# Calculate the frequency of each mean that you calculated (hint: you can use the count function)\n",
        "\n"
      ],
      "metadata": {
        "id": "TnR54JJOHAb5"
      },
      "execution_count": null,
      "outputs": []
    },
    {
      "cell_type": "code",
      "source": [
        "# Calculate how frequently each mean comes up\n"
      ],
      "metadata": {
        "id": "KTKs6_IIHvCv"
      },
      "execution_count": null,
      "outputs": []
    }
  ]
}
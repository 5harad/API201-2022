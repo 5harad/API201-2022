{
  "nbformat": 4,
  "nbformat_minor": 0,
  "metadata": {
    "colab": {
      "provenance": []
    },
    "kernelspec": {
      "name": "ir",
      "display_name": "R"
    },
    "language_info": {
      "name": "R"
    }
  },
  "cells": [
    {
      "cell_type": "code",
      "execution_count": 31,
      "metadata": {
        "colab": {
          "base_uri": "https://localhost:8080/"
        },
        "id": "-re9dvAzF_oL",
        "outputId": "305f72ab-d891-4757-f62e-1699c9eb0432"
      },
      "outputs": [
        {
          "output_type": "stream",
          "name": "stderr",
          "text": [
            "\u001b[1mRows: \u001b[22m\u001b[34m60\u001b[39m \u001b[1mColumns: \u001b[22m\u001b[34m3\u001b[39m\n",
            "\u001b[36m──\u001b[39m \u001b[1mColumn specification\u001b[22m \u001b[36m────────────────────────────────────────────────────────\u001b[39m\n",
            "\u001b[1mDelimiter:\u001b[22m \",\"\n",
            "\u001b[32mdbl\u001b[39m (3): draw1, draw2, draw3\n",
            "\n",
            "\u001b[36mℹ\u001b[39m Use `spec()` to retrieve the full column specification for this data.\n",
            "\u001b[36mℹ\u001b[39m Specify the column types or set `show_col_types = FALSE` to quiet this message.\n"
          ]
        }
      ],
      "source": [
        "# Run this first!\n",
        "\n",
        "library(tidyverse)\n",
        "data <- read_csv('https://github.com/5harad/API201-students/blob/main/data/SampleSize3.csv?raw=TRUE')"
      ]
    },
    {
      "cell_type": "code",
      "source": [
        "# The dataset consists of every possible sample of size 3 from the example.\n",
        "# Each row is a sample of three people's ages.\n",
        "\n",
        "head(data)"
      ],
      "metadata": {
        "colab": {
          "base_uri": "https://localhost:8080/",
          "height": 286
        },
        "id": "W1SuKpi-IXIB",
        "outputId": "f224a628-fc15-4178-e4a0-e3d62956c842"
      },
      "execution_count": 32,
      "outputs": [
        {
          "output_type": "display_data",
          "data": {
            "text/html": [
              "<table class=\"dataframe\">\n",
              "<caption>A tibble: 6 × 3</caption>\n",
              "<thead>\n",
              "\t<tr><th scope=col>draw1</th><th scope=col>draw2</th><th scope=col>draw3</th></tr>\n",
              "\t<tr><th scope=col>&lt;dbl&gt;</th><th scope=col>&lt;dbl&gt;</th><th scope=col>&lt;dbl&gt;</th></tr>\n",
              "</thead>\n",
              "<tbody>\n",
              "\t<tr><td>25</td><td>26</td><td>27</td></tr>\n",
              "\t<tr><td>25</td><td>26</td><td>28</td></tr>\n",
              "\t<tr><td>25</td><td>26</td><td>29</td></tr>\n",
              "\t<tr><td>25</td><td>27</td><td>28</td></tr>\n",
              "\t<tr><td>25</td><td>27</td><td>29</td></tr>\n",
              "\t<tr><td>25</td><td>28</td><td>29</td></tr>\n",
              "</tbody>\n",
              "</table>\n"
            ],
            "text/markdown": "\nA tibble: 6 × 3\n\n| draw1 &lt;dbl&gt; | draw2 &lt;dbl&gt; | draw3 &lt;dbl&gt; |\n|---|---|---|\n| 25 | 26 | 27 |\n| 25 | 26 | 28 |\n| 25 | 26 | 29 |\n| 25 | 27 | 28 |\n| 25 | 27 | 29 |\n| 25 | 28 | 29 |\n\n",
            "text/latex": "A tibble: 6 × 3\n\\begin{tabular}{lll}\n draw1 & draw2 & draw3\\\\\n <dbl> & <dbl> & <dbl>\\\\\n\\hline\n\t 25 & 26 & 27\\\\\n\t 25 & 26 & 28\\\\\n\t 25 & 26 & 29\\\\\n\t 25 & 27 & 28\\\\\n\t 25 & 27 & 29\\\\\n\t 25 & 28 & 29\\\\\n\\end{tabular}\n",
            "text/plain": [
              "  draw1 draw2 draw3\n",
              "1 25    26    27   \n",
              "2 25    26    28   \n",
              "3 25    26    29   \n",
              "4 25    27    28   \n",
              "5 25    27    29   \n",
              "6 25    28    29   "
            ]
          },
          "metadata": {}
        }
      ]
    },
    {
      "cell_type": "code",
      "source": [
        "# Calculate the average age for each sample of size 3\n",
        "\n",
        "data_mean <- data %>%\n",
        "                mutate(mean = (draw1 + draw2 + draw3)/3)"
      ],
      "metadata": {
        "id": "iaVQXK9XGB_u"
      },
      "execution_count": 34,
      "outputs": []
    },
    {
      "cell_type": "code",
      "source": [
        "# Calculate the frequency of each mean that you calculated using the count function:\n",
        "\n",
        "summary <- data_mean %>% count(mean)\n",
        "\n",
        "# Note: you can also use the group_by and summarize commands to do this:\n",
        "\n",
        "data_mean %>% \n",
        "  group_by(mean) %>%\n",
        "  summarize(count = n())"
      ],
      "metadata": {
        "colab": {
          "base_uri": "https://localhost:8080/",
          "height": 318
        },
        "id": "TnR54JJOHAb5",
        "outputId": "1a6175fe-1633-4a2f-addd-900bf7a697ab"
      },
      "execution_count": 35,
      "outputs": [
        {
          "output_type": "display_data",
          "data": {
            "text/html": [
              "<table class=\"dataframe\">\n",
              "<caption>A tibble: 7 × 2</caption>\n",
              "<thead>\n",
              "\t<tr><th scope=col>mean</th><th scope=col>count</th></tr>\n",
              "\t<tr><th scope=col>&lt;dbl&gt;</th><th scope=col>&lt;int&gt;</th></tr>\n",
              "</thead>\n",
              "<tbody>\n",
              "\t<tr><td>26.00000</td><td> 6</td></tr>\n",
              "\t<tr><td>26.33333</td><td> 6</td></tr>\n",
              "\t<tr><td>26.66667</td><td>12</td></tr>\n",
              "\t<tr><td>27.00000</td><td>12</td></tr>\n",
              "\t<tr><td>27.33333</td><td>12</td></tr>\n",
              "\t<tr><td>27.66667</td><td> 6</td></tr>\n",
              "\t<tr><td>28.00000</td><td> 6</td></tr>\n",
              "</tbody>\n",
              "</table>\n"
            ],
            "text/markdown": "\nA tibble: 7 × 2\n\n| mean &lt;dbl&gt; | count &lt;int&gt; |\n|---|---|\n| 26.00000 |  6 |\n| 26.33333 |  6 |\n| 26.66667 | 12 |\n| 27.00000 | 12 |\n| 27.33333 | 12 |\n| 27.66667 |  6 |\n| 28.00000 |  6 |\n\n",
            "text/latex": "A tibble: 7 × 2\n\\begin{tabular}{ll}\n mean & count\\\\\n <dbl> & <int>\\\\\n\\hline\n\t 26.00000 &  6\\\\\n\t 26.33333 &  6\\\\\n\t 26.66667 & 12\\\\\n\t 27.00000 & 12\\\\\n\t 27.33333 & 12\\\\\n\t 27.66667 &  6\\\\\n\t 28.00000 &  6\\\\\n\\end{tabular}\n",
            "text/plain": [
              "  mean     count\n",
              "1 26.00000  6   \n",
              "2 26.33333  6   \n",
              "3 26.66667 12   \n",
              "4 27.00000 12   \n",
              "5 27.33333 12   \n",
              "6 27.66667  6   \n",
              "7 28.00000  6   "
            ]
          },
          "metadata": {}
        }
      ]
    },
    {
      "cell_type": "code",
      "source": [
        "# Calculate how frequently each mean comes up\n",
        "\n",
        "summary %>% mutate(frequency = n/sum(n))\n",
        "\n",
        "# The likelihood of a sample mean of 28 or greater is 10%."
      ],
      "metadata": {
        "colab": {
          "base_uri": "https://localhost:8080/",
          "height": 318
        },
        "id": "KTKs6_IIHvCv",
        "outputId": "cc89f180-f162-4375-90fc-042a35f96179"
      },
      "execution_count": 36,
      "outputs": [
        {
          "output_type": "display_data",
          "data": {
            "text/html": [
              "<table class=\"dataframe\">\n",
              "<caption>A tibble: 7 × 3</caption>\n",
              "<thead>\n",
              "\t<tr><th scope=col>mean</th><th scope=col>n</th><th scope=col>frequency</th></tr>\n",
              "\t<tr><th scope=col>&lt;dbl&gt;</th><th scope=col>&lt;int&gt;</th><th scope=col>&lt;dbl&gt;</th></tr>\n",
              "</thead>\n",
              "<tbody>\n",
              "\t<tr><td>26.00000</td><td> 6</td><td>0.1</td></tr>\n",
              "\t<tr><td>26.33333</td><td> 6</td><td>0.1</td></tr>\n",
              "\t<tr><td>26.66667</td><td>12</td><td>0.2</td></tr>\n",
              "\t<tr><td>27.00000</td><td>12</td><td>0.2</td></tr>\n",
              "\t<tr><td>27.33333</td><td>12</td><td>0.2</td></tr>\n",
              "\t<tr><td>27.66667</td><td> 6</td><td>0.1</td></tr>\n",
              "\t<tr><td>28.00000</td><td> 6</td><td>0.1</td></tr>\n",
              "</tbody>\n",
              "</table>\n"
            ],
            "text/markdown": "\nA tibble: 7 × 3\n\n| mean &lt;dbl&gt; | n &lt;int&gt; | frequency &lt;dbl&gt; |\n|---|---|---|\n| 26.00000 |  6 | 0.1 |\n| 26.33333 |  6 | 0.1 |\n| 26.66667 | 12 | 0.2 |\n| 27.00000 | 12 | 0.2 |\n| 27.33333 | 12 | 0.2 |\n| 27.66667 |  6 | 0.1 |\n| 28.00000 |  6 | 0.1 |\n\n",
            "text/latex": "A tibble: 7 × 3\n\\begin{tabular}{lll}\n mean & n & frequency\\\\\n <dbl> & <int> & <dbl>\\\\\n\\hline\n\t 26.00000 &  6 & 0.1\\\\\n\t 26.33333 &  6 & 0.1\\\\\n\t 26.66667 & 12 & 0.2\\\\\n\t 27.00000 & 12 & 0.2\\\\\n\t 27.33333 & 12 & 0.2\\\\\n\t 27.66667 &  6 & 0.1\\\\\n\t 28.00000 &  6 & 0.1\\\\\n\\end{tabular}\n",
            "text/plain": [
              "  mean     n  frequency\n",
              "1 26.00000  6 0.1      \n",
              "2 26.33333  6 0.1      \n",
              "3 26.66667 12 0.2      \n",
              "4 27.00000 12 0.2      \n",
              "5 27.33333 12 0.2      \n",
              "6 27.66667  6 0.1      \n",
              "7 28.00000  6 0.1      "
            ]
          },
          "metadata": {}
        }
      ]
    }
  ]
}
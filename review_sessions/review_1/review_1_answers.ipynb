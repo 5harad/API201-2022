{
 "cells": [
  {
   "cell_type": "markdown",
   "id": "474c4cea-2d37-445e-88d9-fcbac42c6a4f",
   "metadata": {
    "tags": []
   },
   "source": [
    "### **SECTION #1**  \n",
    "#### September 9, 2022"
   ]
  },
  {
   "cell_type": "markdown",
   "id": "e327f767-95b2-4eaa-862b-3d0142814dbc",
   "metadata": {},
   "source": [
    "*Create a copy of this Jupyter notebook in your own folder.*"
   ]
  },
  {
   "cell_type": "markdown",
   "id": "5e268ad5",
   "metadata": {},
   "source": [
    "# Table of Contents\n",
    "1. [Lecture recap](#Lecture-recap)\n",
    "1. [Using R for data visualization](#Using-R-for-data-visualization)\n",
    "1. [Exercises](#Exercises)"
   ]
  },
  {
   "cell_type": "markdown",
   "id": "8886db91",
   "metadata": {},
   "source": [
    "## Lecture recap"
   ]
  },
  {
   "cell_type": "markdown",
   "id": "6eeffada",
   "metadata": {},
   "source": [
    "xx talk about 5 functions"
   ]
  },
  {
   "cell_type": "markdown",
   "id": "fb260315",
   "metadata": {},
   "source": [
    "xx talk about thursday's class"
   ]
  },
  {
   "cell_type": "markdown",
   "id": "c0af4295",
   "metadata": {},
   "source": [
    "## Using R for data visualization"
   ]
  },
  {
   "cell_type": "markdown",
   "id": "9c7e2926",
   "metadata": {},
   "source": [
    "xx show them how to plot class graphs"
   ]
  },
  {
   "cell_type": "markdown",
   "id": "d5b17951",
   "metadata": {},
   "source": [
    "## Exercises"
   ]
  },
  {
   "cell_type": "markdown",
   "id": "9e31faeb",
   "metadata": {},
   "source": [
    "### Exercise 1: The relationship between CO2 emissions and GDP"
   ]
  },
  {
   "cell_type": "markdown",
   "id": "e1409c39",
   "metadata": {},
   "source": [
    "Today we are going to use data from the World Bank’s World Development Indicators (WDI). `wdi` contains the GDP and population data for 1994 and 2019; and `wdi_advars` includes five other variables:\n",
    "\n",
    "* CO2: CO2 emissions (metric tons per capita)\n",
    "* CHE: Mortality rate, infant (per 1,000 live births)\n",
    "* ALITRT: Current health expenditure (% of GDP)\n",
    "* IMRT: Literacy rate, adult total (% of people ages 15 and above)\n",
    "* PARL: Proportion of seats held by women in national parliaments (%) "
   ]
  },
  {
   "cell_type": "raw",
   "id": "ad86bf23",
   "metadata": {},
   "source": [
    "0. Run the code below to load packages and datasets."
   ]
  },
  {
   "cell_type": "code",
   "execution_count": 57,
   "id": "fd4d1096-e7ce-452d-8033-f1f2fb43396f",
   "metadata": {
    "tags": []
   },
   "outputs": [],
   "source": [
    "library(tidyverse)\n",
    "library(readxl)\n",
    "\n",
    "wdi <- read_excel(\"WDI Data Extract.xlsx\", \n",
    "                  sheet = 2)\n",
    "\n",
    "wdi_advars <- read_excel(\"WDI Data Extract.xlsx\", \n",
    "                         sheet = 3)"
   ]
  },
  {
   "cell_type": "markdown",
   "id": "b8c14478",
   "metadata": {},
   "source": [
    "1. Sometimes we need to combine information from two different datasets. We can use the `merge` function to join two datasets by one or more common key variables. The syntax is: `merge(dataset1,dataset2,by=\"ID\")`. Merge `wdi` and `wdi_advars` using Country as the key variable."
   ]
  },
  {
   "cell_type": "code",
   "execution_count": 58,
   "id": "4c2e689d",
   "metadata": {},
   "outputs": [],
   "source": [
    "wdi_all <- merge(wdi,wdi_advars,by=\"Country\")"
   ]
  },
  {
   "cell_type": "markdown",
   "id": "05abb917",
   "metadata": {},
   "source": [
    "2. Examine the first 10 rows of the data."
   ]
  },
  {
   "cell_type": "code",
   "execution_count": 59,
   "id": "e984cf01",
   "metadata": {},
   "outputs": [
    {
     "data": {
      "text/html": [
       "<table class=\"dataframe\">\n",
       "<caption>A data.frame: 10 × 16</caption>\n",
       "<thead>\n",
       "\t<tr><th></th><th scope=col>Country</th><th scope=col>GDP_1994</th><th scope=col>GDP_2019</th><th scope=col>POP_1994</th><th scope=col>POP_2019</th><th scope=col>CO2_2016</th><th scope=col>CHE_2017</th><th scope=col>ALITRT_2018</th><th scope=col>IMRT_2018</th><th scope=col>PARL_2019</th><th scope=col>GDP_2016</th><th scope=col>GDP_2017</th><th scope=col>GDP_2018</th><th scope=col>POP_2016</th><th scope=col>POP_2017</th><th scope=col>POP_2018</th></tr>\n",
       "\t<tr><th></th><th scope=col>&lt;chr&gt;</th><th scope=col>&lt;dbl&gt;</th><th scope=col>&lt;dbl&gt;</th><th scope=col>&lt;dbl&gt;</th><th scope=col>&lt;dbl&gt;</th><th scope=col>&lt;dbl&gt;</th><th scope=col>&lt;dbl&gt;</th><th scope=col>&lt;dbl&gt;</th><th scope=col>&lt;dbl&gt;</th><th scope=col>&lt;dbl&gt;</th><th scope=col>&lt;dbl&gt;</th><th scope=col>&lt;dbl&gt;</th><th scope=col>&lt;dbl&gt;</th><th scope=col>&lt;dbl&gt;</th><th scope=col>&lt;dbl&gt;</th><th scope=col>&lt;dbl&gt;</th></tr>\n",
       "</thead>\n",
       "<tbody>\n",
       "\t<tr><th scope=row>1</th><td>Afghanistan        </td><td>          NA</td><td> 21739593382</td><td>17075727</td><td>38041754</td><td>0.2451014</td><td>11.777194</td><td>43.01972</td><td>47.9</td><td>27.86885</td><td> 20206376461</td><td> 20744935406</td><td> 21126660586</td><td>35383128</td><td>36296400</td><td>37172386</td></tr>\n",
       "\t<tr><th scope=row>2</th><td>Albania            </td><td>  4791372056</td><td> 14868516511</td><td> 3207536</td><td> 2854191</td><td>1.5771626</td><td>       NA</td><td>98.14115</td><td> 7.8</td><td>29.50820</td><td> 13465406060</td><td> 13977387391</td><td> 14546448944</td><td> 2876101</td><td> 2873457</td><td> 2866376</td></tr>\n",
       "\t<tr><th scope=row>3</th><td>Algeria            </td><td> 89791622831</td><td>202805017529</td><td>28213774</td><td>43053054</td><td>3.6991560</td><td> 6.374322</td><td>81.40784</td><td>20.1</td><td>25.75758</td><td>195871280745</td><td>198417607392</td><td>201195453898</td><td>40551404</td><td>41389198</td><td>42228429</td></tr>\n",
       "\t<tr><th scope=row>4</th><td>American Samoa     </td><td>          NA</td><td>          NA</td><td>   52095</td><td>   55312</td><td>       NA</td><td>       NA</td><td>      NA</td><td>  NA</td><td>      NA</td><td>   534555066</td><td>   503259912</td><td>   514255507</td><td>   55741</td><td>   55620</td><td>   55465</td></tr>\n",
       "\t<tr><th scope=row>5</th><td>Andorra            </td><td>  2024227689</td><td>  3539838261</td><td>   62677</td><td>   77142</td><td>6.0723702</td><td>10.320552</td><td>      NA</td><td> 2.7</td><td>46.42857</td><td>  3409412701</td><td>  3421211719</td><td>  3475566751</td><td>   77297</td><td>   77001</td><td>   77006</td></tr>\n",
       "\t<tr><th scope=row>6</th><td>Angola             </td><td> 23311735184</td><td> 98769677172</td><td>13503747</td><td>31825295</td><td>1.2028606</td><td> 2.791500</td><td>      NA</td><td>51.6</td><td>30.00000</td><td>101822893033</td><td>101673002180</td><td> 99635905543</td><td>28842484</td><td>29816748</td><td>30809762</td></tr>\n",
       "\t<tr><th scope=row>7</th><td>Antigua and Barbuda</td><td>   804286308</td><td>  1525046720</td><td>   67204</td><td>   97118</td><td>5.8965587</td><td> 4.533532</td><td>      NA</td><td> 5.0</td><td>11.11111</td><td>  1315622165</td><td>  1357005634</td><td>  1457277456</td><td>   94527</td><td>   95426</td><td>   96286</td></tr>\n",
       "\t<tr><th scope=row>8</th><td>Argentina          </td><td>274830720367</td><td>437215091207</td><td>34402672</td><td>44938712</td><td>4.6190855</td><td> 9.124315</td><td>99.00387</td><td> 8.8</td><td>40.15748</td><td>446342760088</td><td>458253820043</td><td>446880911358</td><td>43590368</td><td>44044811</td><td>44494502</td></tr>\n",
       "\t<tr><th scope=row>9</th><td>Armenia            </td><td>  3137842747</td><td> 13996188673</td><td> 3283667</td><td> 2957731</td><td>1.7559760</td><td>10.362705</td><td>      NA</td><td>11.0</td><td>23.48485</td><td> 11501998665</td><td> 12364648565</td><td> 13007610290</td><td> 2936146</td><td> 2944809</td><td> 2951776</td></tr>\n",
       "\t<tr><th scope=row>10</th><td>Aruba              </td><td>  2091786180</td><td>          NA</td><td>   76700</td><td>  106314</td><td>8.4269109</td><td>       NA</td><td>97.80742</td><td>  NA</td><td>      NA</td><td>  2750900230</td><td>  2805918210</td><td>          NA</td><td>  104872</td><td>  105366</td><td>  105845</td></tr>\n",
       "</tbody>\n",
       "</table>\n"
      ],
      "text/latex": [
       "A data.frame: 10 × 16\n",
       "\\begin{tabular}{r|llllllllllllllll}\n",
       "  & Country & GDP\\_1994 & GDP\\_2019 & POP\\_1994 & POP\\_2019 & CO2\\_2016 & CHE\\_2017 & ALITRT\\_2018 & IMRT\\_2018 & PARL\\_2019 & GDP\\_2016 & GDP\\_2017 & GDP\\_2018 & POP\\_2016 & POP\\_2017 & POP\\_2018\\\\\n",
       "  & <chr> & <dbl> & <dbl> & <dbl> & <dbl> & <dbl> & <dbl> & <dbl> & <dbl> & <dbl> & <dbl> & <dbl> & <dbl> & <dbl> & <dbl> & <dbl>\\\\\n",
       "\\hline\n",
       "\t1 & Afghanistan         &           NA &  21739593382 & 17075727 & 38041754 & 0.2451014 & 11.777194 & 43.01972 & 47.9 & 27.86885 &  20206376461 &  20744935406 &  21126660586 & 35383128 & 36296400 & 37172386\\\\\n",
       "\t2 & Albania             &   4791372056 &  14868516511 &  3207536 &  2854191 & 1.5771626 &        NA & 98.14115 &  7.8 & 29.50820 &  13465406060 &  13977387391 &  14546448944 &  2876101 &  2873457 &  2866376\\\\\n",
       "\t3 & Algeria             &  89791622831 & 202805017529 & 28213774 & 43053054 & 3.6991560 &  6.374322 & 81.40784 & 20.1 & 25.75758 & 195871280745 & 198417607392 & 201195453898 & 40551404 & 41389198 & 42228429\\\\\n",
       "\t4 & American Samoa      &           NA &           NA &    52095 &    55312 &        NA &        NA &       NA &   NA &       NA &    534555066 &    503259912 &    514255507 &    55741 &    55620 &    55465\\\\\n",
       "\t5 & Andorra             &   2024227689 &   3539838261 &    62677 &    77142 & 6.0723702 & 10.320552 &       NA &  2.7 & 46.42857 &   3409412701 &   3421211719 &   3475566751 &    77297 &    77001 &    77006\\\\\n",
       "\t6 & Angola              &  23311735184 &  98769677172 & 13503747 & 31825295 & 1.2028606 &  2.791500 &       NA & 51.6 & 30.00000 & 101822893033 & 101673002180 &  99635905543 & 28842484 & 29816748 & 30809762\\\\\n",
       "\t7 & Antigua and Barbuda &    804286308 &   1525046720 &    67204 &    97118 & 5.8965587 &  4.533532 &       NA &  5.0 & 11.11111 &   1315622165 &   1357005634 &   1457277456 &    94527 &    95426 &    96286\\\\\n",
       "\t8 & Argentina           & 274830720367 & 437215091207 & 34402672 & 44938712 & 4.6190855 &  9.124315 & 99.00387 &  8.8 & 40.15748 & 446342760088 & 458253820043 & 446880911358 & 43590368 & 44044811 & 44494502\\\\\n",
       "\t9 & Armenia             &   3137842747 &  13996188673 &  3283667 &  2957731 & 1.7559760 & 10.362705 &       NA & 11.0 & 23.48485 &  11501998665 &  12364648565 &  13007610290 &  2936146 &  2944809 &  2951776\\\\\n",
       "\t10 & Aruba               &   2091786180 &           NA &    76700 &   106314 & 8.4269109 &        NA & 97.80742 &   NA &       NA &   2750900230 &   2805918210 &           NA &   104872 &   105366 &   105845\\\\\n",
       "\\end{tabular}\n"
      ],
      "text/markdown": [
       "\n",
       "A data.frame: 10 × 16\n",
       "\n",
       "| <!--/--> | Country &lt;chr&gt; | GDP_1994 &lt;dbl&gt; | GDP_2019 &lt;dbl&gt; | POP_1994 &lt;dbl&gt; | POP_2019 &lt;dbl&gt; | CO2_2016 &lt;dbl&gt; | CHE_2017 &lt;dbl&gt; | ALITRT_2018 &lt;dbl&gt; | IMRT_2018 &lt;dbl&gt; | PARL_2019 &lt;dbl&gt; | GDP_2016 &lt;dbl&gt; | GDP_2017 &lt;dbl&gt; | GDP_2018 &lt;dbl&gt; | POP_2016 &lt;dbl&gt; | POP_2017 &lt;dbl&gt; | POP_2018 &lt;dbl&gt; |\n",
       "|---|---|---|---|---|---|---|---|---|---|---|---|---|---|---|---|---|\n",
       "| 1 | Afghanistan         |           NA |  21739593382 | 17075727 | 38041754 | 0.2451014 | 11.777194 | 43.01972 | 47.9 | 27.86885 |  20206376461 |  20744935406 |  21126660586 | 35383128 | 36296400 | 37172386 |\n",
       "| 2 | Albania             |   4791372056 |  14868516511 |  3207536 |  2854191 | 1.5771626 |        NA | 98.14115 |  7.8 | 29.50820 |  13465406060 |  13977387391 |  14546448944 |  2876101 |  2873457 |  2866376 |\n",
       "| 3 | Algeria             |  89791622831 | 202805017529 | 28213774 | 43053054 | 3.6991560 |  6.374322 | 81.40784 | 20.1 | 25.75758 | 195871280745 | 198417607392 | 201195453898 | 40551404 | 41389198 | 42228429 |\n",
       "| 4 | American Samoa      |           NA |           NA |    52095 |    55312 |        NA |        NA |       NA |   NA |       NA |    534555066 |    503259912 |    514255507 |    55741 |    55620 |    55465 |\n",
       "| 5 | Andorra             |   2024227689 |   3539838261 |    62677 |    77142 | 6.0723702 | 10.320552 |       NA |  2.7 | 46.42857 |   3409412701 |   3421211719 |   3475566751 |    77297 |    77001 |    77006 |\n",
       "| 6 | Angola              |  23311735184 |  98769677172 | 13503747 | 31825295 | 1.2028606 |  2.791500 |       NA | 51.6 | 30.00000 | 101822893033 | 101673002180 |  99635905543 | 28842484 | 29816748 | 30809762 |\n",
       "| 7 | Antigua and Barbuda |    804286308 |   1525046720 |    67204 |    97118 | 5.8965587 |  4.533532 |       NA |  5.0 | 11.11111 |   1315622165 |   1357005634 |   1457277456 |    94527 |    95426 |    96286 |\n",
       "| 8 | Argentina           | 274830720367 | 437215091207 | 34402672 | 44938712 | 4.6190855 |  9.124315 | 99.00387 |  8.8 | 40.15748 | 446342760088 | 458253820043 | 446880911358 | 43590368 | 44044811 | 44494502 |\n",
       "| 9 | Armenia             |   3137842747 |  13996188673 |  3283667 |  2957731 | 1.7559760 | 10.362705 |       NA | 11.0 | 23.48485 |  11501998665 |  12364648565 |  13007610290 |  2936146 |  2944809 |  2951776 |\n",
       "| 10 | Aruba               |   2091786180 |           NA |    76700 |   106314 | 8.4269109 |        NA | 97.80742 |   NA |       NA |   2750900230 |   2805918210 |           NA |   104872 |   105366 |   105845 |\n",
       "\n"
      ],
      "text/plain": [
       "   Country             GDP_1994     GDP_2019     POP_1994 POP_2019 CO2_2016 \n",
       "1  Afghanistan                   NA  21739593382 17075727 38041754 0.2451014\n",
       "2  Albania               4791372056  14868516511  3207536  2854191 1.5771626\n",
       "3  Algeria              89791622831 202805017529 28213774 43053054 3.6991560\n",
       "4  American Samoa                NA           NA    52095    55312        NA\n",
       "5  Andorra               2024227689   3539838261    62677    77142 6.0723702\n",
       "6  Angola               23311735184  98769677172 13503747 31825295 1.2028606\n",
       "7  Antigua and Barbuda    804286308   1525046720    67204    97118 5.8965587\n",
       "8  Argentina           274830720367 437215091207 34402672 44938712 4.6190855\n",
       "9  Armenia               3137842747  13996188673  3283667  2957731 1.7559760\n",
       "10 Aruba                 2091786180           NA    76700   106314 8.4269109\n",
       "   CHE_2017  ALITRT_2018 IMRT_2018 PARL_2019 GDP_2016     GDP_2017    \n",
       "1  11.777194 43.01972    47.9      27.86885   20206376461  20744935406\n",
       "2         NA 98.14115     7.8      29.50820   13465406060  13977387391\n",
       "3   6.374322 81.40784    20.1      25.75758  195871280745 198417607392\n",
       "4         NA       NA      NA            NA     534555066    503259912\n",
       "5  10.320552       NA     2.7      46.42857    3409412701   3421211719\n",
       "6   2.791500       NA    51.6      30.00000  101822893033 101673002180\n",
       "7   4.533532       NA     5.0      11.11111    1315622165   1357005634\n",
       "8   9.124315 99.00387     8.8      40.15748  446342760088 458253820043\n",
       "9  10.362705       NA    11.0      23.48485   11501998665  12364648565\n",
       "10        NA 97.80742      NA            NA    2750900230   2805918210\n",
       "   GDP_2018     POP_2016 POP_2017 POP_2018\n",
       "1   21126660586 35383128 36296400 37172386\n",
       "2   14546448944  2876101  2873457  2866376\n",
       "3  201195453898 40551404 41389198 42228429\n",
       "4     514255507    55741    55620    55465\n",
       "5    3475566751    77297    77001    77006\n",
       "6   99635905543 28842484 29816748 30809762\n",
       "7    1457277456    94527    95426    96286\n",
       "8  446880911358 43590368 44044811 44494502\n",
       "9   13007610290  2936146  2944809  2951776\n",
       "10           NA   104872   105366   105845"
      ]
     },
     "metadata": {},
     "output_type": "display_data"
    }
   ],
   "source": [
    "head(wdi_all, 10)"
   ]
  },
  {
   "cell_type": "markdown",
   "id": "906f04f7",
   "metadata": {},
   "source": [
    "3. CO2 emissions, per capita (metric tons) are measured as the total amount of carbon dioxide emitted by the country as a consequence of all relevant human (production and consumption) activities, divided by the population of the country. Suppose that we are interested in identifying the countries with the highest number of emissions. Use the `mutate` function to create a new variable with total number of CO2 emissions."
   ]
  },
  {
   "cell_type": "code",
   "execution_count": 60,
   "id": "b27c4578",
   "metadata": {},
   "outputs": [
    {
     "data": {
      "text/html": [
       "<table class=\"dataframe\">\n",
       "<caption>A data.frame: 6 × 17</caption>\n",
       "<thead>\n",
       "\t<tr><th></th><th scope=col>Country</th><th scope=col>GDP_1994</th><th scope=col>GDP_2019</th><th scope=col>POP_1994</th><th scope=col>POP_2019</th><th scope=col>CO2_2016</th><th scope=col>CHE_2017</th><th scope=col>ALITRT_2018</th><th scope=col>IMRT_2018</th><th scope=col>PARL_2019</th><th scope=col>GDP_2016</th><th scope=col>GDP_2017</th><th scope=col>GDP_2018</th><th scope=col>POP_2016</th><th scope=col>POP_2017</th><th scope=col>POP_2018</th><th scope=col>CO2_total_2016</th></tr>\n",
       "\t<tr><th></th><th scope=col>&lt;chr&gt;</th><th scope=col>&lt;dbl&gt;</th><th scope=col>&lt;dbl&gt;</th><th scope=col>&lt;dbl&gt;</th><th scope=col>&lt;dbl&gt;</th><th scope=col>&lt;dbl&gt;</th><th scope=col>&lt;dbl&gt;</th><th scope=col>&lt;dbl&gt;</th><th scope=col>&lt;dbl&gt;</th><th scope=col>&lt;dbl&gt;</th><th scope=col>&lt;dbl&gt;</th><th scope=col>&lt;dbl&gt;</th><th scope=col>&lt;dbl&gt;</th><th scope=col>&lt;dbl&gt;</th><th scope=col>&lt;dbl&gt;</th><th scope=col>&lt;dbl&gt;</th><th scope=col>&lt;dbl&gt;</th></tr>\n",
       "</thead>\n",
       "<tbody>\n",
       "\t<tr><th scope=row>1</th><td>Afghanistan   </td><td>         NA</td><td> 21739593382</td><td>17075727</td><td>38041754</td><td>0.2451014</td><td>11.777194</td><td>43.01972</td><td>47.9</td><td>27.86885</td><td> 20206376461</td><td> 20744935406</td><td> 21126660586</td><td>35383128</td><td>36296400</td><td>37172386</td><td>  8672455</td></tr>\n",
       "\t<tr><th scope=row>2</th><td>Albania       </td><td> 4791372056</td><td> 14868516511</td><td> 3207536</td><td> 2854191</td><td>1.5771626</td><td>       NA</td><td>98.14115</td><td> 7.8</td><td>29.50820</td><td> 13465406060</td><td> 13977387391</td><td> 14546448944</td><td> 2876101</td><td> 2873457</td><td> 2866376</td><td>  4536079</td></tr>\n",
       "\t<tr><th scope=row>3</th><td>Algeria       </td><td>89791622831</td><td>202805017529</td><td>28213774</td><td>43053054</td><td>3.6991560</td><td> 6.374322</td><td>81.40784</td><td>20.1</td><td>25.75758</td><td>195871280745</td><td>198417607392</td><td>201195453898</td><td>40551404</td><td>41389198</td><td>42228429</td><td>150005969</td></tr>\n",
       "\t<tr><th scope=row>4</th><td>American Samoa</td><td>         NA</td><td>          NA</td><td>   52095</td><td>   55312</td><td>       NA</td><td>       NA</td><td>      NA</td><td>  NA</td><td>      NA</td><td>   534555066</td><td>   503259912</td><td>   514255507</td><td>   55741</td><td>   55620</td><td>   55465</td><td>       NA</td></tr>\n",
       "\t<tr><th scope=row>5</th><td>Andorra       </td><td> 2024227689</td><td>  3539838261</td><td>   62677</td><td>   77142</td><td>6.0723702</td><td>10.320552</td><td>      NA</td><td> 2.7</td><td>46.42857</td><td>  3409412701</td><td>  3421211719</td><td>  3475566751</td><td>   77297</td><td>   77001</td><td>   77006</td><td>   469376</td></tr>\n",
       "\t<tr><th scope=row>6</th><td>Angola        </td><td>23311735184</td><td> 98769677172</td><td>13503747</td><td>31825295</td><td>1.2028606</td><td> 2.791500</td><td>      NA</td><td>51.6</td><td>30.00000</td><td>101822893033</td><td>101673002180</td><td> 99635905543</td><td>28842484</td><td>29816748</td><td>30809762</td><td> 34693487</td></tr>\n",
       "</tbody>\n",
       "</table>\n"
      ],
      "text/latex": [
       "A data.frame: 6 × 17\n",
       "\\begin{tabular}{r|lllllllllllllllll}\n",
       "  & Country & GDP\\_1994 & GDP\\_2019 & POP\\_1994 & POP\\_2019 & CO2\\_2016 & CHE\\_2017 & ALITRT\\_2018 & IMRT\\_2018 & PARL\\_2019 & GDP\\_2016 & GDP\\_2017 & GDP\\_2018 & POP\\_2016 & POP\\_2017 & POP\\_2018 & CO2\\_total\\_2016\\\\\n",
       "  & <chr> & <dbl> & <dbl> & <dbl> & <dbl> & <dbl> & <dbl> & <dbl> & <dbl> & <dbl> & <dbl> & <dbl> & <dbl> & <dbl> & <dbl> & <dbl> & <dbl>\\\\\n",
       "\\hline\n",
       "\t1 & Afghanistan    &          NA &  21739593382 & 17075727 & 38041754 & 0.2451014 & 11.777194 & 43.01972 & 47.9 & 27.86885 &  20206376461 &  20744935406 &  21126660586 & 35383128 & 36296400 & 37172386 &   8672455\\\\\n",
       "\t2 & Albania        &  4791372056 &  14868516511 &  3207536 &  2854191 & 1.5771626 &        NA & 98.14115 &  7.8 & 29.50820 &  13465406060 &  13977387391 &  14546448944 &  2876101 &  2873457 &  2866376 &   4536079\\\\\n",
       "\t3 & Algeria        & 89791622831 & 202805017529 & 28213774 & 43053054 & 3.6991560 &  6.374322 & 81.40784 & 20.1 & 25.75758 & 195871280745 & 198417607392 & 201195453898 & 40551404 & 41389198 & 42228429 & 150005969\\\\\n",
       "\t4 & American Samoa &          NA &           NA &    52095 &    55312 &        NA &        NA &       NA &   NA &       NA &    534555066 &    503259912 &    514255507 &    55741 &    55620 &    55465 &        NA\\\\\n",
       "\t5 & Andorra        &  2024227689 &   3539838261 &    62677 &    77142 & 6.0723702 & 10.320552 &       NA &  2.7 & 46.42857 &   3409412701 &   3421211719 &   3475566751 &    77297 &    77001 &    77006 &    469376\\\\\n",
       "\t6 & Angola         & 23311735184 &  98769677172 & 13503747 & 31825295 & 1.2028606 &  2.791500 &       NA & 51.6 & 30.00000 & 101822893033 & 101673002180 &  99635905543 & 28842484 & 29816748 & 30809762 &  34693487\\\\\n",
       "\\end{tabular}\n"
      ],
      "text/markdown": [
       "\n",
       "A data.frame: 6 × 17\n",
       "\n",
       "| <!--/--> | Country &lt;chr&gt; | GDP_1994 &lt;dbl&gt; | GDP_2019 &lt;dbl&gt; | POP_1994 &lt;dbl&gt; | POP_2019 &lt;dbl&gt; | CO2_2016 &lt;dbl&gt; | CHE_2017 &lt;dbl&gt; | ALITRT_2018 &lt;dbl&gt; | IMRT_2018 &lt;dbl&gt; | PARL_2019 &lt;dbl&gt; | GDP_2016 &lt;dbl&gt; | GDP_2017 &lt;dbl&gt; | GDP_2018 &lt;dbl&gt; | POP_2016 &lt;dbl&gt; | POP_2017 &lt;dbl&gt; | POP_2018 &lt;dbl&gt; | CO2_total_2016 &lt;dbl&gt; |\n",
       "|---|---|---|---|---|---|---|---|---|---|---|---|---|---|---|---|---|---|\n",
       "| 1 | Afghanistan    |          NA |  21739593382 | 17075727 | 38041754 | 0.2451014 | 11.777194 | 43.01972 | 47.9 | 27.86885 |  20206376461 |  20744935406 |  21126660586 | 35383128 | 36296400 | 37172386 |   8672455 |\n",
       "| 2 | Albania        |  4791372056 |  14868516511 |  3207536 |  2854191 | 1.5771626 |        NA | 98.14115 |  7.8 | 29.50820 |  13465406060 |  13977387391 |  14546448944 |  2876101 |  2873457 |  2866376 |   4536079 |\n",
       "| 3 | Algeria        | 89791622831 | 202805017529 | 28213774 | 43053054 | 3.6991560 |  6.374322 | 81.40784 | 20.1 | 25.75758 | 195871280745 | 198417607392 | 201195453898 | 40551404 | 41389198 | 42228429 | 150005969 |\n",
       "| 4 | American Samoa |          NA |           NA |    52095 |    55312 |        NA |        NA |       NA |   NA |       NA |    534555066 |    503259912 |    514255507 |    55741 |    55620 |    55465 |        NA |\n",
       "| 5 | Andorra        |  2024227689 |   3539838261 |    62677 |    77142 | 6.0723702 | 10.320552 |       NA |  2.7 | 46.42857 |   3409412701 |   3421211719 |   3475566751 |    77297 |    77001 |    77006 |    469376 |\n",
       "| 6 | Angola         | 23311735184 |  98769677172 | 13503747 | 31825295 | 1.2028606 |  2.791500 |       NA | 51.6 | 30.00000 | 101822893033 | 101673002180 |  99635905543 | 28842484 | 29816748 | 30809762 |  34693487 |\n",
       "\n"
      ],
      "text/plain": [
       "  Country        GDP_1994    GDP_2019     POP_1994 POP_2019 CO2_2016  CHE_2017 \n",
       "1 Afghanistan             NA  21739593382 17075727 38041754 0.2451014 11.777194\n",
       "2 Albania         4791372056  14868516511  3207536  2854191 1.5771626        NA\n",
       "3 Algeria        89791622831 202805017529 28213774 43053054 3.6991560  6.374322\n",
       "4 American Samoa          NA           NA    52095    55312        NA        NA\n",
       "5 Andorra         2024227689   3539838261    62677    77142 6.0723702 10.320552\n",
       "6 Angola         23311735184  98769677172 13503747 31825295 1.2028606  2.791500\n",
       "  ALITRT_2018 IMRT_2018 PARL_2019 GDP_2016     GDP_2017     GDP_2018    \n",
       "1 43.01972    47.9      27.86885   20206376461  20744935406  21126660586\n",
       "2 98.14115     7.8      29.50820   13465406060  13977387391  14546448944\n",
       "3 81.40784    20.1      25.75758  195871280745 198417607392 201195453898\n",
       "4       NA      NA            NA     534555066    503259912    514255507\n",
       "5       NA     2.7      46.42857    3409412701   3421211719   3475566751\n",
       "6       NA    51.6      30.00000  101822893033 101673002180  99635905543\n",
       "  POP_2016 POP_2017 POP_2018 CO2_total_2016\n",
       "1 35383128 36296400 37172386   8672455     \n",
       "2  2876101  2873457  2866376   4536079     \n",
       "3 40551404 41389198 42228429 150005969     \n",
       "4    55741    55620    55465        NA     \n",
       "5    77297    77001    77006    469376     \n",
       "6 28842484 29816748 30809762  34693487     "
      ]
     },
     "metadata": {},
     "output_type": "display_data"
    }
   ],
   "source": [
    "wdi_all <- wdi_all %>% \n",
    "    mutate(CO2_total_2016 = CO2_2016 * POP_2016)\n",
    "head(wdi_all)"
   ]
  },
  {
   "cell_type": "markdown",
   "id": "5be2c448",
   "metadata": {},
   "source": [
    "4. Identify the five countries with the largest CO2 emissions in 2016 and their respective levels of CO2 emissions in 2016 using `head` and the tidyverse function `arrange`."
   ]
  },
  {
   "cell_type": "code",
   "execution_count": 62,
   "id": "54179a81",
   "metadata": {},
   "outputs": [
    {
     "data": {
      "text/html": [
       "<table class=\"dataframe\">\n",
       "<caption>A data.frame: 5 × 2</caption>\n",
       "<thead>\n",
       "\t<tr><th></th><th scope=col>Country</th><th scope=col>CO2_total_2016</th></tr>\n",
       "\t<tr><th></th><th scope=col>&lt;chr&gt;</th><th scope=col>&lt;dbl&gt;</th></tr>\n",
       "</thead>\n",
       "<tbody>\n",
       "\t<tr><th scope=row>1</th><td>China             </td><td>9893037952</td></tr>\n",
       "\t<tr><th scope=row>2</th><td>United States     </td><td>5006302077</td></tr>\n",
       "\t<tr><th scope=row>3</th><td>India             </td><td>2407671526</td></tr>\n",
       "\t<tr><th scope=row>4</th><td>Russian Federation</td><td>1732026776</td></tr>\n",
       "\t<tr><th scope=row>5</th><td>Japan             </td><td>1135886253</td></tr>\n",
       "</tbody>\n",
       "</table>\n"
      ],
      "text/latex": [
       "A data.frame: 5 × 2\n",
       "\\begin{tabular}{r|ll}\n",
       "  & Country & CO2\\_total\\_2016\\\\\n",
       "  & <chr> & <dbl>\\\\\n",
       "\\hline\n",
       "\t1 & China              & 9893037952\\\\\n",
       "\t2 & United States      & 5006302077\\\\\n",
       "\t3 & India              & 2407671526\\\\\n",
       "\t4 & Russian Federation & 1732026776\\\\\n",
       "\t5 & Japan              & 1135886253\\\\\n",
       "\\end{tabular}\n"
      ],
      "text/markdown": [
       "\n",
       "A data.frame: 5 × 2\n",
       "\n",
       "| <!--/--> | Country &lt;chr&gt; | CO2_total_2016 &lt;dbl&gt; |\n",
       "|---|---|---|\n",
       "| 1 | China              | 9893037952 |\n",
       "| 2 | United States      | 5006302077 |\n",
       "| 3 | India              | 2407671526 |\n",
       "| 4 | Russian Federation | 1732026776 |\n",
       "| 5 | Japan              | 1135886253 |\n",
       "\n"
      ],
      "text/plain": [
       "  Country            CO2_total_2016\n",
       "1 China              9893037952    \n",
       "2 United States      5006302077    \n",
       "3 India              2407671526    \n",
       "4 Russian Federation 1732026776    \n",
       "5 Japan              1135886253    "
      ]
     },
     "metadata": {},
     "output_type": "display_data"
    }
   ],
   "source": [
    "wdi_all %>%\n",
    "    arrange(desc(CO2_total_2016)) %>%\n",
    "    select(Country, CO2_total_2016) %>%\n",
    "    head(5)"
   ]
  },
  {
   "cell_type": "markdown",
   "id": "3db410b3",
   "metadata": {},
   "source": [
    "5. Now identify the five countries with the largest GDP in 2016 and their respective GDP in 2016."
   ]
  },
  {
   "cell_type": "code",
   "execution_count": 96,
   "id": "04907ecc",
   "metadata": {},
   "outputs": [
    {
     "data": {
      "text/html": [
       "<table class=\"dataframe\">\n",
       "<caption>A data.frame: 5 × 2</caption>\n",
       "<thead>\n",
       "\t<tr><th></th><th scope=col>Country</th><th scope=col>GDP_2016</th></tr>\n",
       "\t<tr><th></th><th scope=col>&lt;chr&gt;</th><th scope=col>&lt;dbl&gt;</th></tr>\n",
       "</thead>\n",
       "<tbody>\n",
       "\t<tr><th scope=row>1</th><td>United States</td><td>1.697235e+13</td></tr>\n",
       "\t<tr><th scope=row>2</th><td>China        </td><td>9.523765e+12</td></tr>\n",
       "\t<tr><th scope=row>3</th><td>Japan        </td><td>6.019927e+12</td></tr>\n",
       "\t<tr><th scope=row>4</th><td>Germany      </td><td>3.784710e+12</td></tr>\n",
       "\t<tr><th scope=row>5</th><td>France       </td><td>2.811756e+12</td></tr>\n",
       "</tbody>\n",
       "</table>\n"
      ],
      "text/latex": [
       "A data.frame: 5 × 2\n",
       "\\begin{tabular}{r|ll}\n",
       "  & Country & GDP\\_2016\\\\\n",
       "  & <chr> & <dbl>\\\\\n",
       "\\hline\n",
       "\t1 & United States & 1.697235e+13\\\\\n",
       "\t2 & China         & 9.523765e+12\\\\\n",
       "\t3 & Japan         & 6.019927e+12\\\\\n",
       "\t4 & Germany       & 3.784710e+12\\\\\n",
       "\t5 & France        & 2.811756e+12\\\\\n",
       "\\end{tabular}\n"
      ],
      "text/markdown": [
       "\n",
       "A data.frame: 5 × 2\n",
       "\n",
       "| <!--/--> | Country &lt;chr&gt; | GDP_2016 &lt;dbl&gt; |\n",
       "|---|---|---|\n",
       "| 1 | United States | 1.697235e+13 |\n",
       "| 2 | China         | 9.523765e+12 |\n",
       "| 3 | Japan         | 6.019927e+12 |\n",
       "| 4 | Germany       | 3.784710e+12 |\n",
       "| 5 | France        | 2.811756e+12 |\n",
       "\n"
      ],
      "text/plain": [
       "  Country       GDP_2016    \n",
       "1 United States 1.697235e+13\n",
       "2 China         9.523765e+12\n",
       "3 Japan         6.019927e+12\n",
       "4 Germany       3.784710e+12\n",
       "5 France        2.811756e+12"
      ]
     },
     "metadata": {},
     "output_type": "display_data"
    }
   ],
   "source": [
    "wdi_all %>%\n",
    "    arrange(desc(GDP_2016)) %>%\n",
    "    select(Country, GDP_2016) %>%\n",
    "    head(5)"
   ]
  },
  {
   "cell_type": "markdown",
   "id": "1634af52",
   "metadata": {},
   "source": [
    "6. Use the `mean` function to calculate the average number of CO2 emissions per capita in 2016. What happened?"
   ]
  },
  {
   "cell_type": "code",
   "execution_count": 65,
   "id": "6d31fdae",
   "metadata": {},
   "outputs": [
    {
     "data": {
      "text/html": [
       "&lt;NA&gt;"
      ],
      "text/latex": [
       "<NA>"
      ],
      "text/markdown": [
       "&lt;NA&gt;"
      ],
      "text/plain": [
       "[1] NA"
      ]
     },
     "metadata": {},
     "output_type": "display_data"
    }
   ],
   "source": [
    "mean(wdi_all$CO2_2016)"
   ]
  },
  {
   "cell_type": "markdown",
   "id": "0b40e9de",
   "metadata": {},
   "source": [
    "7. Calculate the mean using the argument na.rm = TRUE to remove missing values."
   ]
  },
  {
   "cell_type": "code",
   "execution_count": 66,
   "id": "59c0b245",
   "metadata": {},
   "outputs": [
    {
     "data": {
      "text/html": [
       "4.79523394900822"
      ],
      "text/latex": [
       "4.79523394900822"
      ],
      "text/markdown": [
       "4.79523394900822"
      ],
      "text/plain": [
       "[1] 4.795234"
      ]
     },
     "metadata": {},
     "output_type": "display_data"
    }
   ],
   "source": [
    "mean(wdi_all$CO2_2016, na.rm = TRUE)"
   ]
  },
  {
   "cell_type": "markdown",
   "id": "d11af3d3",
   "metadata": {},
   "source": [
    "8. Calculate the median level of C02 emissions per capita in 2016. What drives the differences between your result for the mean and the median?"
   ]
  },
  {
   "cell_type": "code",
   "execution_count": 67,
   "id": "f0a651c5",
   "metadata": {},
   "outputs": [
    {
     "data": {
      "text/html": [
       "2.68565402683707"
      ],
      "text/latex": [
       "2.68565402683707"
      ],
      "text/markdown": [
       "2.68565402683707"
      ],
      "text/plain": [
       "[1] 2.685654"
      ]
     },
     "metadata": {},
     "output_type": "display_data"
    }
   ],
   "source": [
    "median(wdi_all$CO2_2016, na.rm = TRUE)"
   ]
  },
  {
   "cell_type": "markdown",
   "id": "20ff4266",
   "metadata": {},
   "source": [
    "9. What is the total GDP of all countries with C02 emissions per capita above the world median calculated in part (7)? What fraction of the total world GDP does this number represent? What does this result suggest?"
   ]
  },
  {
   "cell_type": "markdown",
   "id": "5e1f9ff6",
   "metadata": {},
   "source": [
    "We are going to do the following: <br>\n",
    "9.1. Use `mutate` to create 3 columns: (1) Median CO2 emissions per capita. (2) A binary variable that flags whether CO2_2016 is above median C02 emissions per capita. (3) A variable called gdp_above that is equal to a country's GDP if its number of C02 emissions per capita is above the median and 0 otherwise. <br>\n",
    "9.2. Use `summarize` and `sum` to sum total GDP and GDP of countries with CO2 per capita emissions above median. <br>\n",
    "9.3. Use `mutate` again to calculate the fraction of world GDP produced in countries with above-median C02 emissions per capita. <br>"
   ]
  },
  {
   "cell_type": "code",
   "execution_count": 89,
   "id": "38990a8d",
   "metadata": {},
   "outputs": [
    {
     "data": {
      "text/html": [
       "<table class=\"dataframe\">\n",
       "<caption>A data.frame: 1 × 3</caption>\n",
       "<thead>\n",
       "\t<tr><th scope=col>gdp_above</th><th scope=col>gdp_tot</th><th scope=col>share_above</th></tr>\n",
       "\t<tr><th scope=col>&lt;dbl&gt;</th><th scope=col>&lt;dbl&gt;</th><th scope=col>&lt;dbl&gt;</th></tr>\n",
       "</thead>\n",
       "<tbody>\n",
       "\t<tr><td>6.197767e+13</td><td>7.678461e+13</td><td>0.8071627</td></tr>\n",
       "</tbody>\n",
       "</table>\n"
      ],
      "text/latex": [
       "A data.frame: 1 × 3\n",
       "\\begin{tabular}{lll}\n",
       " gdp\\_above & gdp\\_tot & share\\_above\\\\\n",
       " <dbl> & <dbl> & <dbl>\\\\\n",
       "\\hline\n",
       "\t 6.197767e+13 & 7.678461e+13 & 0.8071627\\\\\n",
       "\\end{tabular}\n"
      ],
      "text/markdown": [
       "\n",
       "A data.frame: 1 × 3\n",
       "\n",
       "| gdp_above &lt;dbl&gt; | gdp_tot &lt;dbl&gt; | share_above &lt;dbl&gt; |\n",
       "|---|---|---|\n",
       "| 6.197767e+13 | 7.678461e+13 | 0.8071627 |\n",
       "\n"
      ],
      "text/plain": [
       "  gdp_above    gdp_tot      share_above\n",
       "1 6.197767e+13 7.678461e+13 0.8071627  "
      ]
     },
     "metadata": {},
     "output_type": "display_data"
    }
   ],
   "source": [
    "# Your answer here!\n",
    "\n",
    "# START\n",
    "\n",
    "wdi_all %>% \n",
    "    mutate(\n",
    "        # Calculate the median level of world CO2 emissions per capita\n",
    "        median_CO2 = median(CO2_2016, na.rm = TRUE),\n",
    "        # Flag countries above average world CO2 emissions per capita\n",
    "        above_world_median = CO2_2016 > median_CO2,\n",
    "        # Zero-out GDP of countries above median CO2 emissions per capita\n",
    "        gdp_above = ifelse(above_world_median, GDP_2016, 0)\n",
    "    ) %>%\n",
    "    summarize(\n",
    "        # Sum up GDP of countries above median CO2 emissions per capita\n",
    "        gdp_above = sum(gdp_above, na.rm = TRUE),\n",
    "        # Sum up entire world GDP\n",
    "        gdp_tot = sum(GDP_2016, na.rm = TRUE)) %>%\n",
    "    # Calculate share of GDP in countries above median CO2 emissions per capita\n",
    "    mutate(share_above = gdp_above / gdp_tot)\n",
    "\n",
    "# END"
   ]
  },
  {
   "cell_type": "markdown",
   "id": "8e0f48ad",
   "metadata": {},
   "source": [
    "10. Suppose that we are interested in understanding the relationship between GDP per capita and CO2 emissions per capita emissions. Use the `mutate` function to calculate the GDP per capita per country in 2016."
   ]
  },
  {
   "cell_type": "code",
   "execution_count": 91,
   "id": "8b19f7e6",
   "metadata": {},
   "outputs": [],
   "source": [
    "wdi_all <- wdi_all %>%\n",
    "    mutate(gdp_percap_2016 = GDP_2016 / POP_2016)"
   ]
  },
  {
   "cell_type": "markdown",
   "id": "09fccc6a",
   "metadata": {},
   "source": [
    "11. Use a graph to observe the association between GDP per capita (x axis) and C02 emissions per capita (y axis)."
   ]
  },
  {
   "cell_type": "code",
   "execution_count": 55,
   "id": "6fee6072",
   "metadata": {},
   "outputs": [
    {
     "name": "stderr",
     "output_type": "stream",
     "text": [
      "Warning message:\n",
      "“Removed 30 rows containing missing values (geom_point).”\n"
     ]
    },
    {
     "data": {
      "image/png": "[encoded data removed]",
      "text/plain": [
       "plot without title"
      ]
     },
     "metadata": {
      "image/png": {
       "height": 420,
       "width": 420
      }
     },
     "output_type": "display_data"
    }
   ],
   "source": [
    "ggplot(wdi_all)+\n",
    "geom_point(aes(x=gdp_percap_2016, y=CO2_2016))"
   ]
  },
  {
   "cell_type": "markdown",
   "id": "75520905",
   "metadata": {},
   "source": [
    "12. Use the `cor` function to compute the correlation between both variables. Remember to deal with the missing values."
   ]
  },
  {
   "cell_type": "code",
   "execution_count": 92,
   "id": "c7709e23",
   "metadata": {},
   "outputs": [
    {
     "data": {
      "text/html": [
       "0.565130882285116"
      ],
      "text/latex": [
       "0.565130882285116"
      ],
      "text/markdown": [
       "0.565130882285116"
      ],
      "text/plain": [
       "[1] 0.5651309"
      ]
     },
     "metadata": {},
     "output_type": "display_data"
    }
   ],
   "source": [
    "cor(wdi_all$gdp_percap_2016,\n",
    "    wdi_all$CO2_2016, \n",
    "    use = \"complete.obs\")"
   ]
  },
  {
   "cell_type": "markdown",
   "id": "8dbfd237",
   "metadata": {},
   "source": [
    "### Exercise 2: Measures of central tendency and dealing with missing values"
   ]
  },
  {
   "cell_type": "markdown",
   "id": "d11771af",
   "metadata": {},
   "source": [
    "1. Calculate the mean, variance, and standard deviation of 2016 GDP using the formulas we studied in class."
   ]
  },
  {
   "cell_type": "code",
   "execution_count": 100,
   "id": "39676406",
   "metadata": {},
   "outputs": [
    {
     "data": {
      "text/html": [
       "<style>\n",
       ".dl-inline {width: auto; margin:0; padding: 0}\n",
       ".dl-inline>dt, .dl-inline>dd {float: none; width: auto; display: inline-block}\n",
       ".dl-inline>dt::after {content: \":\\0020\"; padding-right: .5ex}\n",
       ".dl-inline>dt:not(:first-of-type) {padding-left: .5ex}\n",
       "</style><dl class=dl-inline><dt>variance</dt><dd>2.29785673317907e+24</dd><dt>sd</dt><dd>1515868309972.56</dd></dl>\n"
      ],
      "text/latex": [
       "\\begin{description*}\n",
       "\\item[variance] 2.29785673317907e+24\n",
       "\\item[sd] 1515868309972.56\n",
       "\\end{description*}\n"
      ],
      "text/markdown": [
       "variance\n",
       ":   2.29785673317907e+24sd\n",
       ":   1515868309972.56\n",
       "\n"
      ],
      "text/plain": [
       "    variance           sd \n",
       "2.297857e+24 1.515868e+12 "
      ]
     },
     "metadata": {},
     "output_type": "display_data"
    }
   ],
   "source": [
    "mean <- mean(wdi_all$GDP_2016, na.rm=TRUE)\n",
    "var <- sum((wdi_all$GDP_2016 - mean)^2, na.rm=TRUE) / 197\n",
    "sd <- sqrt(var)\n",
    "c(variance = var, sd = sd)"
   ]
  },
  {
   "cell_type": "markdown",
   "id": "2f31b262",
   "metadata": {},
   "source": [
    "2. Now use the functions sd() and var() to calculate the standard deviation and variance of GDP more easily. Do the results you obtain using these functions match your “manual” calculations?"
   ]
  },
  {
   "cell_type": "code",
   "execution_count": 104,
   "id": "3baa28da",
   "metadata": {},
   "outputs": [
    {
     "data": {
      "text/html": [
       "2.29785673317907e+24"
      ],
      "text/latex": [
       "2.29785673317907e+24"
      ],
      "text/markdown": [
       "2.29785673317907e+24"
      ],
      "text/plain": [
       "[1] 2.297857e+24"
      ]
     },
     "metadata": {},
     "output_type": "display_data"
    },
    {
     "data": {
      "text/html": [
       "1515868309972.56"
      ],
      "text/latex": [
       "1515868309972.56"
      ],
      "text/markdown": [
       "1515868309972.56"
      ],
      "text/plain": [
       "[1] 1.515868e+12"
      ]
     },
     "metadata": {},
     "output_type": "display_data"
    }
   ],
   "source": [
    "var(wdi_all$GDP_2016, na.rm=TRUE)\n",
    "sd(wdi_all$GDP_2016, na.rm=TRUE)"
   ]
  },
  {
   "cell_type": "markdown",
   "id": "edac92b0-d49a-4874-81c4-f09c658a8c9b",
   "metadata": {},
   "source": [
    "3. How many countries have missing values for 2016 GDP? Use the function `is.na()`."
   ]
  },
  {
   "cell_type": "code",
   "execution_count": 111,
   "id": "195986a1-ccde-4b7e-b684-4374ea576ed1",
   "metadata": {},
   "outputs": [
    {
     "data": {
      "text/html": [
       "19"
      ],
      "text/latex": [
       "19"
      ],
      "text/markdown": [
       "19"
      ],
      "text/plain": [
       "[1] 19"
      ]
     },
     "metadata": {},
     "output_type": "display_data"
    }
   ],
   "source": [
    "sum(is.na(wdi_all$GDP_2016))"
   ]
  },
  {
   "cell_type": "markdown",
   "id": "86e6aece",
   "metadata": {},
   "source": [
    "4. One of the countries with missing values is Bermuda. Imagine that you are told that new data has arrived and the value is 30. Create a new dataset that incorporates the updated value. How does this change the mean of GDP?"
   ]
  },
  {
   "cell_type": "code",
   "execution_count": 133,
   "id": "92918751-47b8-4f24-b5ab-188558790fd1",
   "metadata": {},
   "outputs": [
    {
     "data": {
      "text/html": [
       "<style>\n",
       ".list-inline {list-style: none; margin:0; padding: 0}\n",
       ".list-inline>li {display: inline-block}\n",
       ".list-inline>li:not(:last-child)::after {content: \"\\00b7\"; padding: 0 .5ex}\n",
       "</style>\n",
       "<ol class=list-inline><li>'Bermuda'</li><li>'British Virgin Islands'</li><li>'Channel Islands'</li><li>'Curacao'</li><li>'Djibouti'</li><li>'Eritrea'</li><li>'Faroe Islands'</li><li>'French Polynesia'</li><li>'Gibraltar'</li><li>'Korea, Dem. People‚Äôs Rep.'</li><li>'Liechtenstein'</li><li>'New Caledonia'</li><li>'Sint Maarten (Dutch part)'</li><li>'Somalia'</li><li>'South Sudan'</li><li>'St. Martin (French part)'</li><li>'Syrian Arab Republic'</li><li>'Turks and Caicos Islands'</li><li>'Venezuela, RB'</li></ol>\n"
      ],
      "text/latex": [
       "\\begin{enumerate*}\n",
       "\\item 'Bermuda'\n",
       "\\item 'British Virgin Islands'\n",
       "\\item 'Channel Islands'\n",
       "\\item 'Curacao'\n",
       "\\item 'Djibouti'\n",
       "\\item 'Eritrea'\n",
       "\\item 'Faroe Islands'\n",
       "\\item 'French Polynesia'\n",
       "\\item 'Gibraltar'\n",
       "\\item 'Korea, Dem. People‚Äôs Rep.'\n",
       "\\item 'Liechtenstein'\n",
       "\\item 'New Caledonia'\n",
       "\\item 'Sint Maarten (Dutch part)'\n",
       "\\item 'Somalia'\n",
       "\\item 'South Sudan'\n",
       "\\item 'St. Martin (French part)'\n",
       "\\item 'Syrian Arab Republic'\n",
       "\\item 'Turks and Caicos Islands'\n",
       "\\item 'Venezuela, RB'\n",
       "\\end{enumerate*}\n"
      ],
      "text/markdown": [
       "1. 'Bermuda'\n",
       "2. 'British Virgin Islands'\n",
       "3. 'Channel Islands'\n",
       "4. 'Curacao'\n",
       "5. 'Djibouti'\n",
       "6. 'Eritrea'\n",
       "7. 'Faroe Islands'\n",
       "8. 'French Polynesia'\n",
       "9. 'Gibraltar'\n",
       "10. 'Korea, Dem. People‚Äôs Rep.'\n",
       "11. 'Liechtenstein'\n",
       "12. 'New Caledonia'\n",
       "13. 'Sint Maarten (Dutch part)'\n",
       "14. 'Somalia'\n",
       "15. 'South Sudan'\n",
       "16. 'St. Martin (French part)'\n",
       "17. 'Syrian Arab Republic'\n",
       "18. 'Turks and Caicos Islands'\n",
       "19. 'Venezuela, RB'\n",
       "\n",
       "\n"
      ],
      "text/plain": [
       " [1] \"Bermuda\"                     \"British Virgin Islands\"     \n",
       " [3] \"Channel Islands\"             \"Curacao\"                    \n",
       " [5] \"Djibouti\"                    \"Eritrea\"                    \n",
       " [7] \"Faroe Islands\"               \"French Polynesia\"           \n",
       " [9] \"Gibraltar\"                   \"Korea, Dem. People‚Äôs Rep.\"\n",
       "[11] \"Liechtenstein\"               \"New Caledonia\"              \n",
       "[13] \"Sint Maarten (Dutch part)\"   \"Somalia\"                    \n",
       "[15] \"South Sudan\"                 \"St. Martin (French part)\"   \n",
       "[17] \"Syrian Arab Republic\"        \"Turks and Caicos Islands\"   \n",
       "[19] \"Venezuela, RB\"              "
      ]
     },
     "metadata": {},
     "output_type": "display_data"
    }
   ],
   "source": [
    "wdi_all[is.na(wdi_all$GDP_2016),1]\n",
    "wdi_all_updated <- mutate(wdi_all,\n",
    "                      GDP_2016_updated = ifelse(Country == \"Bermuda\", 30, GDP_2016))"
   ]
  },
  {
   "cell_type": "code",
   "execution_count": 136,
   "id": "88926158",
   "metadata": {},
   "outputs": [
    {
     "data": {
      "text/html": [
       "385852291797.885"
      ],
      "text/latex": [
       "385852291797.885"
      ],
      "text/markdown": [
       "385852291797.885"
      ],
      "text/plain": [
       "[1] 385852291798"
      ]
     },
     "metadata": {},
     "output_type": "display_data"
    }
   ],
   "source": [
    "mean(wdi_all_updated$GDP_2016_updated, na.rm=TRUE)"
   ]
  },
  {
   "cell_type": "code",
   "execution_count": 135,
   "id": "85926f15",
   "metadata": {},
   "outputs": [
    {
     "data": {
      "text/html": [
       "387801040746.208"
      ],
      "text/latex": [
       "387801040746.208"
      ],
      "text/markdown": [
       "387801040746.208"
      ],
      "text/plain": [
       "[1] 3.87801e+11"
      ]
     },
     "metadata": {},
     "output_type": "display_data"
    }
   ],
   "source": [
    "mean(wdi_all$GDP_2016, na.rm=TRUE)"
   ]
  }
 ],
 "metadata": {
  "kernelspec": {
   "display_name": "R",
   "language": "R",
   "name": "ir"
  },
  "language_info": {
   "codemirror_mode": "r",
   "file_extension": ".r",
   "mimetype": "text/x-r-source",
   "name": "R",
   "pygments_lexer": "r",
   "version": "4.1.2"
  }
 },
 "nbformat": 4,
 "nbformat_minor": 5
}

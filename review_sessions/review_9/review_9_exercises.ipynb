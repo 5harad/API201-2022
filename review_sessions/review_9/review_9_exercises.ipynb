{
 "cells": [
  {
   "cell_type": "markdown",
   "id": "4839cd02-22e6-4e06-9617-eccba2b91eb8",
   "metadata": {
    "id": "4839cd02-22e6-4e06-9617-eccba2b91eb8",
    "tags": []
   },
   "source": [
    "# API-201 ABC REVIEW SESSION #9\n",
    "\n",
    "**Friday, December 2**"
   ]
  },
  {
   "cell_type": "markdown",
   "id": "TpMW4e3jQarq",
   "metadata": {
    "id": "TpMW4e3jQarq"
   },
   "source": [
    "# Table of Contents\n",
    "1. [Exercise 1 - Dplyr functions](#Exercise1)\n",
    "2. [Exercise 2 - Bayes Rule](#Exercise2)\n",
    "3. [Exercise 3 - Discrete random variables](#Exercise3)\n",
    "4. [Exercise 4 - Continuous random variables + decision tree](#Exercise4)\n",
    "5. [Exercise 5 - Additional practice question](Exercise5)"
   ]
  },
  {
   "cell_type": "markdown",
   "id": "a42d278d-0afa-42a4-be08-1cc9febc7a2a",
   "metadata": {},
   "source": [
    "# Exercise 1 - Dplyr functions"
   ]
  },
  {
   "cell_type": "markdown",
   "id": "a2abb6d8-8fb8-4678-80a8-912f5eaa9dfc",
   "metadata": {},
   "source": [
    "[Download the data using this link.](https://docs.google.com/spreadsheets/d/1OaSj9w7Kg9FX4gsPZNH119EUaP_1Ndgy/edit?usp=sharing&ouid=114565474064234702477&rtpof=true&sd=true)"
   ]
  },
  {
   "cell_type": "markdown",
   "id": "b7b254e5-1ec7-4830-99ac-8df71007792e",
   "metadata": {},
   "source": [
    "**0. Upload the Excel file WEO-2018.xlsx to Google Colab and run the next lines of code to load the data and examine the first rows of the dataset.**"
   ]
  },
  {
   "cell_type": "code",
   "execution_count": null,
   "id": "c9385e26-c9b5-44cc-bf7e-dddc7f5930d4",
   "metadata": {},
   "outputs": [],
   "source": [
    "library(tidyverse)\n",
    "library(readxl)\n",
    "weo_data <- read_excel(path = \"WEO-2018.xlsx\", sheet = 1)\n",
    "head(weo_data)"
   ]
  },
  {
   "cell_type": "markdown",
   "id": "830ca18d-2688-401a-9007-d047dacd7262",
   "metadata": {},
   "source": [
    "**1. Imagine that you wanted to show the five countries with the highest GDP per capita in 2017. Which of the following code snippets would accomplish that?** \\\n",
    "a. weo_data %>% \\\n",
    "    mutate(rgdppc_2017=rgdp_2017/pop_2017) %>% \\\n",
    "    arrange(desc(rgdppc_2017)) %>% \\\n",
    "    filter(country,continent,rgdppc_2017) %>% \\\n",
    "    head(5) \\\n",
    "b. weo_data %>% \\\n",
    "    mutate(rgdppc_2017=rgdp_2017/pop_2017) %>% \\\n",
    "    arrange(desc(rgdppc_2017)) %>% \\\n",
    "    select(country,continent,rgdppc_2017) %>% \\\n",
    "    head(5) \\\n",
    "c. weo_data %>% \\\n",
    "    summarise(rgdppc_2017=rgdp_2017/pop_2017) %>% \\\n",
    "    arrange(desc(rgdppc_2017)) %>% \\\n",
    "    select(country,continent,rgdppc_2017) %>% \\\n",
    "    head(5) \\\n",
    "d. weo_data %>% \\\n",
    "    summarise(rgdppc_2017=rgdp_2017/pop_2017) %>% \\\n",
    "    select(desc(rgdppc_2017)) %>% \\\n",
    "    filter(country,continent,rgdppc_2017) %>% \\\n",
    "    head(5)"
   ]
  },
  {
   "cell_type": "code",
   "execution_count": null,
   "id": "9be5752a-9255-44b5-badd-f13489d55435",
   "metadata": {},
   "outputs": [],
   "source": [
    "# Your answer here!\n",
    "\n"
   ]
  },
  {
   "cell_type": "markdown",
   "id": "90fd1402-af34-4b62-a955-02b0a9fe6a59",
   "metadata": {},
   "source": [
    "**2. Suppose you want to calculate GDP growth between 2017 and 2018 and create a dataset called `growth_data` that includes the country, the continent, and the GDP growth rate. Which of the following code snippets would accomplish that?** \\\n",
    "a. weo_data %>% \\\n",
    "    summarise(rgdp_growth=rgdp_2018/rgdp_2017 - 1) %>% \\\n",
    "    select(country,continent,rgdp_growth) \\\n",
    "b. weo_data %>% \\\n",
    "    mutate(rgdp_growth=rgdp_2018/rgdp_2017 - 1) %>% \\\n",
    "    filter(country,continent,rgdp_growth) \\\n",
    "c. weo_data %>% \\\n",
    "    mutate(rgdp_growth=rgdp_2018/rgdp_2017 - 1) %>% \\\n",
    "    select(country,continent,rgdp_growth) \\\n",
    "d. growth_data <- weo_data %>% \\\n",
    "    mutate(rgdp_growth=rgdp_2018/rgdp_2017 - 1) %>% \\\n",
    "    select(country,continent,rgdp_growth) "
   ]
  },
  {
   "cell_type": "code",
   "execution_count": null,
   "id": "ef5ae098-ed07-41d0-92c4-e755468976ab",
   "metadata": {},
   "outputs": [],
   "source": [
    "# Your answer here!\n",
    "\n"
   ]
  },
  {
   "cell_type": "markdown",
   "id": "a7ef25f6-c03e-4d83-bfe0-0c2dca1d9639",
   "metadata": {},
   "source": [
    "**3. Suppose you want to show the five countries in Europe with highest GDP growth between 2017-2018. Which of the following snippets would accomplish that?**  \\\n",
    "a. growth_data %>% \\\n",
    "    select(continent == \"Europe\") %>% \\\n",
    "    arrange(desc(rgdp_growth)) %>% \\\n",
    "    head(5) \\\n",
    "b. growth_data %>% \\\n",
    "    filter(continent == \"Europe\") %>% \\\n",
    "    arrange(desc(rgdp_growth)) %>% \\\n",
    "    head(5) \\\n",
    "c. growth_data %>% \\\n",
    "    filter(\"Europe\") %>% \\\n",
    "    arrange(desc(rgdp_growth)) %>% \\\n",
    "    head(5) \\\n",
    "d. growth_data %>% \\\n",
    "    select(\"Europe\") %>% \\\n",
    "    arrange(desc(rgdp_growth)) %>% \\\n",
    "    head(5)"
   ]
  },
  {
   "cell_type": "code",
   "execution_count": null,
   "id": "ff8369b4-c195-401e-85c8-5aa4398bae97",
   "metadata": {},
   "outputs": [],
   "source": [
    "# Your answer here!\n",
    "\n"
   ]
  },
  {
   "cell_type": "markdown",
   "id": "4e95e283-4ed8-477f-8c5e-3837d7d9d3a7",
   "metadata": {},
   "source": [
    "**4. Suppose you want to use this new dataset to compute the average growth rate by continent and then sort the continents in descending order. Which of the following code snippets would accomplish that?** \\\n",
    "a. growth_data %>% \\\n",
    "    select(continent) %>% \\\n",
    "    summarise(av_growth = mean(rgdp_growth)) %>% \\\n",
    "    arrange(desc(av_growth)) \\\n",
    "b. growth_data %>% \\\n",
    "    summarise(av_growth = mean(rgdp_growth)) %>% \\\n",
    "    arrange(desc(av_growth)) \\\n",
    "c. growth_data %>% \\\n",
    "    group_by(continent) %>% \\\n",
    "    summarise(av_growth = mean(rgdp_growth)) %>% \\\n",
    "    arrange(desc(av_growth)) \\\n",
    "d. growth_data %>% \\\n",
    "    group_by(continent) %>% \\\n",
    "    mutate(av_growth = mean(rgdp_growth)) %>% \\\n",
    "    arrange(desc(av_growth))"
   ]
  },
  {
   "cell_type": "code",
   "execution_count": null,
   "id": "6e61aeff-7a19-499d-95d0-4af12118acb7",
   "metadata": {},
   "outputs": [],
   "source": [
    "# Your answer here!\n",
    "\n"
   ]
  },
  {
   "cell_type": "markdown",
   "id": "6474e08f-d1c8-48a2-946f-301e26d450ed",
   "metadata": {},
   "source": [
    "# Exercise 2: Bayes rule"
   ]
  },
  {
   "cell_type": "markdown",
   "id": "6236f275-5571-47e7-9676-962ec991eb27",
   "metadata": {},
   "source": [
    "Suppose that your team is interested in testing the performance of a new spam filter. This filter analyzes incoming emails and quarantines those that are assessed as potential spam. Emails can either be spam (S) or not spam (NS), and the filter can either move emails to a separate folder for quarantine (Q) or leave them in the main inbox folder (NQ). The team is excited to announce that 80% of spam emails are placed in quarantine. However, they also find that 10% of not spam emails are held in quarantine. Suppose that the typical proportion of email that is spam is 5%. "
   ]
  },
  {
   "cell_type": "markdown",
   "id": "6d98d64c-60e3-456e-b6a9-8b16650e1f91",
   "metadata": {},
   "source": [
    "**a. Somone in your team says: given that such high proportion of spam emails are held in quarantine, most emails moved to quarantine have to be spam. Do you agree with this claim?**"
   ]
  },
  {
   "cell_type": "markdown",
   "id": "63190466-51af-4a60-a885-6dcb24d66904",
   "metadata": {},
   "source": [
    "`Your answer here!`\n",
    "\n"
   ]
  },
  {
   "cell_type": "markdown",
   "id": "4957b1af-5f48-4565-a47c-755eb0e00be4",
   "metadata": {},
   "source": [
    "**b. Calculate the probability that an email is not spam if the email was not placed in quarantine: P(NS|NQ).**"
   ]
  },
  {
   "cell_type": "markdown",
   "id": "f0de6e7e-abb7-4b2e-a479-c0ad44f5a339",
   "metadata": {},
   "source": [
    "`Your answer here!`\n",
    "\n"
   ]
  },
  {
   "cell_type": "markdown",
   "id": "d06ffcf4-79b6-476f-bfbd-0a8884efad53",
   "metadata": {},
   "source": [
    "# Exercise 3: Discrete random variables"
   ]
  },
  {
   "cell_type": "markdown",
   "id": "d2a8e0b7-515e-436f-b6c3-4498a449e313",
   "metadata": {},
   "source": [
    "The number of tornadoes in a year is a random variable with the probability distribution given below."
   ]
  },
  {
   "cell_type": "markdown",
   "id": "473adcd4-4f3e-43e9-81b0-e49562867043",
   "metadata": {},
   "source": [
    "| Number of tornadoes | Probability\n",
    "| --- | ---\n",
    "| 0 | 0.850\n",
    "| 1 | 0.100\n",
    "| 2 | 0.030\n",
    "| 3 | 0.015\n",
    "| 4 | 0.005\n",
    "| 5 or more | 0\n"
   ]
  },
  {
   "cell_type": "markdown",
   "id": "a10d075f-b3e9-476e-8108-644c92ac96bd",
   "metadata": {},
   "source": [
    "**1. Calculate the expected number of tornadoes in a year.**"
   ]
  },
  {
   "cell_type": "markdown",
   "id": "6725da6a-9168-4cb8-b275-a58899120854",
   "metadata": {},
   "source": [
    "`Your answer here!`\n",
    "\n"
   ]
  },
  {
   "cell_type": "markdown",
   "id": "96769cd4-1171-4350-a123-6259f98bd70c",
   "metadata": {},
   "source": [
    "**2. What is the expected number of tornadoes in 10 years?**"
   ]
  },
  {
   "cell_type": "markdown",
   "id": "ce8474ea-f157-4de9-a5ef-0546558871ba",
   "metadata": {},
   "source": [
    "`Your answer here!`\n",
    "\n"
   ]
  },
  {
   "cell_type": "markdown",
   "id": "f5a27353-7ddf-4c9a-8178-555d66076bef",
   "metadata": {},
   "source": [
    "**3. What is the probability of being affected by at least one tornado in 10 years?**"
   ]
  },
  {
   "cell_type": "markdown",
   "id": "eba66da7-15a8-45e7-a8a8-44e20dbfaaec",
   "metadata": {},
   "source": [
    "#### Your answer here!\n",
    "\n"
   ]
  },
  {
   "cell_type": "markdown",
   "id": "3b0589d7-677a-4855-add5-c4157782b355",
   "metadata": {},
   "source": [
    "**4. These calculations can also be obtained in R through simulation. Read the code below.**"
   ]
  },
  {
   "cell_type": "code",
   "execution_count": null,
   "id": "4e1fd9f4-ab11-43cb-9d2e-b87bb2ea4de6",
   "metadata": {},
   "outputs": [],
   "source": [
    "# Expected number of tornadoes in ayera\n",
    "num_tornadoes <- c(0, 1, 2, 3, 4, 5)\n",
    "p <- c(.85, .1, .03, .015, .005, 0)\n",
    "sum(num_tornadoes*p)"
   ]
  },
  {
   "cell_type": "code",
   "execution_count": null,
   "id": "6e570f7e-d82a-404d-b09d-38efe6bca7ba",
   "metadata": {},
   "outputs": [],
   "source": [
    "# Expected number of tornadoes in a year (simulation)\n",
    "mean(sample(num_tornadoes,10000, prob = p, replace = TRUE))"
   ]
  },
  {
   "cell_type": "code",
   "execution_count": null,
   "id": "729bb30d-1440-4e83-b0a0-356a0a1f0b57",
   "metadata": {},
   "outputs": [],
   "source": [
    "# Expected number of tornadoes in 10 years (simulation)\n",
    "mean(replicate(10000,sum(sample(num_tornadoes,10, prob = p, replace = TRUE))))"
   ]
  },
  {
   "cell_type": "code",
   "execution_count": null,
   "id": "5826ec98-13ea-4105-82b9-47d3e831334b",
   "metadata": {},
   "outputs": [],
   "source": [
    "# Prob at least one tornado in 10 years\n",
    "mean(replicate(10000,sum(sample(num_tornadoes,10, prob = p, replace = TRUE)))>0)"
   ]
  },
  {
   "cell_type": "markdown",
   "id": "4f52c81a-c5f1-4346-a5c2-47c0e00cd0f3",
   "metadata": {},
   "source": [
    "# Exercise 4: Normal distribution + decision tree"
   ]
  },
  {
   "cell_type": "markdown",
   "id": "b55a4a8c-9edc-45fe-8366-99030faeada6",
   "metadata": {},
   "source": [
    "Suppose a risk-neutral farmer is considering insuring against rainfall conditions. Rainfall is normally distributed with mean 500mm and standard deviation 50mm. If rainfall is less than 450mm or greater than 550mm, the farmer's crop will fail."
   ]
  },
  {
   "cell_type": "markdown",
   "id": "a987a808-c107-4c67-ad16-5449fad051d8",
   "metadata": {},
   "source": [
    "**a. What is the probability the farmer's crop will fail?**\n",
    "\n",
    "Hint: Approximately 68% of the area under the normal distribution curve falls within 1 standard deviation of the mean."
   ]
  },
  {
   "cell_type": "markdown",
   "id": "13ca27bf-9ead-40ce-9a9b-85db80101a75",
   "metadata": {},
   "source": [
    "#### Your answer here!\n",
    "\n"
   ]
  },
  {
   "cell_type": "markdown",
   "id": "d4c6721e-d602-4183-b960-7338153b6e8c",
   "metadata": {},
   "source": [
    "**b. Now suppose the cost of crop failure is \\\\$300,000. Insurance costs \\\\$100,000 to buy. If crops fail, the farmer is reimbursed the entire cost of crop failure. Draw out a decision tree. Should she buy insurance?**"
   ]
  },
  {
   "cell_type": "markdown",
   "id": "8c901537-a06a-4fe3-a074-68364a9d017e",
   "metadata": {},
   "source": [
    "#### Your answer here!\n",
    "\n"
   ]
  },
  {
   "cell_type": "markdown",
   "id": "e7d83c74-e29a-4e8e-b114-b55eecb48d4f",
   "metadata": {
    "jp-MarkdownHeadingCollapsed": true,
    "tags": []
   },
   "source": [
    "**c. What is the highest price the farmer would be willing to pay for insurance?**\n",
    "\n",
    "#### Your answer here!\n"
   ]
  },
  {
   "cell_type": "markdown",
   "id": "0c531312-5397-4b40-941d-bbc7a2c6f84b",
   "metadata": {
    "id": "G7rWjus2gvIV",
    "tags": []
   },
   "source": [
    "# Exercise 5 - Dplyr functions (optional)"
   ]
  },
  {
   "cell_type": "markdown",
   "id": "94895d84-4508-4ab6-954d-5f7f1e0ad461",
   "metadata": {},
   "source": [
    "Just like we did in the R primers, for this exercise we are going to use full baby name data provided by the SSA. This includes all names with at least 5 uses. `babynames` is a data frame with five variables: `year`, `sex`, `name`, `n` and `prop` (n divided by total number of applicants in that year, which means proportions are of people of that sex with that name born in that year)."
   ]
  },
  {
   "cell_type": "code",
   "execution_count": null,
   "id": "eed51f7d-338e-4610-bffa-f023ab8d8481",
   "metadata": {},
   "outputs": [],
   "source": [
    "# install.packages(\"babynames\")\n",
    "library(tidyverse)\n",
    "library(babynames)"
   ]
  },
  {
   "cell_type": "markdown",
   "id": "9e806ece-fb44-445d-8454-40f6203e6515",
   "metadata": {},
   "source": [
    "**1. Examine the first ten rows of data. What is the unit of analysis of this dataset?**"
   ]
  },
  {
   "cell_type": "code",
   "execution_count": null,
   "id": "56ecdf88-9a74-4eb3-a871-269aee18e0d8",
   "metadata": {},
   "outputs": [],
   "source": [
    "# Your answer here!\n",
    "\n"
   ]
  },
  {
   "cell_type": "markdown",
   "id": "932309d4-9de3-4737-bdc6-a535662fa81a",
   "metadata": {},
   "source": [
    "**2. What were the five most popular girl names in 2000? Report the number of babies.** \\\n",
    "*Hint: these are the steps to follow: \\\n",
    "a. Filter babynames to just girls born in 2000. \\\n",
    "b. Select the name and n columns from the result. \\\n",
    "c. Arrange those columns so that the most popular names appear near the top.*"
   ]
  },
  {
   "cell_type": "code",
   "execution_count": null,
   "id": "d5a66a94-aa16-4e1d-8068-22cc56fefa36",
   "metadata": {},
   "outputs": [],
   "source": [
    "# Your answer here!\n",
    "\n"
   ]
  },
  {
   "cell_type": "markdown",
   "id": "ac76118b-e475-4050-83fd-411e8ac6ca92",
   "metadata": {},
   "source": [
    "**3. What were the five most popular boy names in 2017? Report the proportions.**"
   ]
  },
  {
   "cell_type": "code",
   "execution_count": null,
   "id": "3838239f-b48c-4de4-bfe0-8640781d93e6",
   "metadata": {},
   "outputs": [],
   "source": [
    "# Your answer here!\n",
    "\n"
   ]
  },
  {
   "cell_type": "markdown",
   "id": "83b8aa8e-a0da-41b0-87dc-dcd16c8901e7",
   "metadata": {},
   "source": [
    "**4. Plot the evolution of the popularity of the name *Arya*.**"
   ]
  },
  {
   "cell_type": "code",
   "execution_count": null,
   "id": "b0657552-8468-488a-8311-a40c6c9f025e",
   "metadata": {},
   "outputs": [],
   "source": [
    "# Your answer here!\n",
    "\n"
   ]
  },
  {
   "cell_type": "markdown",
   "id": "9c1b5cf7-011b-49a7-8761-329ea6caa195",
   "metadata": {},
   "source": [
    "**5. Calculate for your name: (1) The total number of children that had your name, (2) The maximum number of kids with that name in a single year, (3) The mean number of kids named that per year, and (4) The first time a kid was named that in this dataset.**"
   ]
  },
  {
   "cell_type": "code",
   "execution_count": null,
   "id": "af31ce80-b120-4216-b954-3768e7a74ac6",
   "metadata": {},
   "outputs": [],
   "source": [
    "# Your answer here!\n",
    "\n"
   ]
  },
  {
   "cell_type": "markdown",
   "id": "3baa11e6-9615-4fb7-bc74-934a241b19ac",
   "metadata": {},
   "source": [
    "**6. Our first measure of *popularity* is the total number of children of a single gender given a name. Display the ten more popular names and the proportion of times a kid received that name.**"
   ]
  },
  {
   "cell_type": "code",
   "execution_count": null,
   "id": "106fd6a2-e4c6-4b2c-ab6a-5db0574d6ae4",
   "metadata": {},
   "outputs": [],
   "source": [
    "# Your answer here!\n",
    "\n"
   ]
  },
  {
   "cell_type": "markdown",
   "id": "c3791ea2-ed0b-41c8-8b4e-171269bfa7fa",
   "metadata": {},
   "source": [
    "**7. Under the second definition, a name is *popular* if it consistently ranks among the top names from year to year. Display the ten most popular names.**"
   ]
  },
  {
   "cell_type": "code",
   "execution_count": null,
   "id": "f1fbf4e3-7e83-4f9c-b993-84ca966c937a",
   "metadata": {
    "tags": []
   },
   "outputs": [],
   "source": [
    "# Your answer here!\n",
    "\n"
   ]
  }
 ],
 "metadata": {
  "colab": {
   "collapsed_sections": [],
   "name": "review_9_exercises.ipynb",
   "provenance": []
  },
  "kernelspec": {
   "display_name": "R",
   "language": "R",
   "name": "ir"
  },
  "language_info": {
   "codemirror_mode": "r",
   "file_extension": ".r",
   "mimetype": "text/x-r-source",
   "name": "R",
   "pygments_lexer": "r",
   "version": "4.2.1"
  }
 },
 "nbformat": 4,
 "nbformat_minor": 5
}

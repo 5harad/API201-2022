{
 "cells": [
  {
   "cell_type": "markdown",
   "id": "4839cd02-22e6-4e06-9617-eccba2b91eb8",
   "metadata": {
    "id": "4839cd02-22e6-4e06-9617-eccba2b91eb8",
    "tags": []
   },
   "source": [
    "# API-201 ABC REVIEW SESSION #9\n",
    "\n",
    "**Friday, December 2**"
   ]
  },
  {
   "cell_type": "markdown",
   "id": "TpMW4e3jQarq",
   "metadata": {
    "id": "TpMW4e3jQarq"
   },
   "source": [
    "# Table of Contents\n",
    "1. [Exercise 1 - Dplyr functions](#Exercise1)\n",
    "2. [Exercise 2 - Dplyr functions](#Exercise5)\n",
    "3. [Exercise 3 - Bayes Rule](#Exercise2)\n",
    "4. [Exercise 4 - Discrete random variables](#Exercise3)\n",
    "5. [Exercise 5 - Continuous random variables](#Exercise4)\n",
    "6. [Exercise 6 - Decision tree](#Exercise6)"
   ]
  },
  {
   "cell_type": "markdown",
   "id": "G7rWjus2gvIV",
   "metadata": {
    "id": "G7rWjus2gvIV"
   },
   "source": [
    "# Exercise 1 - Dplyr functions"
   ]
  },
  {
   "cell_type": "markdown",
   "id": "1ff6e7b5-d1bb-4794-9721-33e6d3043388",
   "metadata": {},
   "source": [
    "Just like we did in the R primers, for this exercise we are going to use full baby name data provided by the SSA. This includes all names with at least 5 uses. `babynames` is a data frame with five variables: `year`, `sex`, `name`, `n` and `prop` (n divided by total number of applicants in that year, which means proportions are of people of that sex with that name born in that year)."
   ]
  },
  {
   "cell_type": "code",
   "execution_count": 59,
   "id": "eed51f7d-338e-4610-bffa-f023ab8d8481",
   "metadata": {},
   "outputs": [
    {
     "name": "stderr",
     "output_type": "stream",
     "text": [
      "── \u001b[1mAttaching packages\u001b[22m ─────────────────────────────────────── tidyverse 1.3.1 ──\n",
      "\n",
      "\u001b[32m✔\u001b[39m \u001b[34mggplot2\u001b[39m 3.3.6     \u001b[32m✔\u001b[39m \u001b[34mpurrr  \u001b[39m 0.3.4\n",
      "\u001b[32m✔\u001b[39m \u001b[34mtibble \u001b[39m 3.1.7     \u001b[32m✔\u001b[39m \u001b[34mdplyr  \u001b[39m 1.0.9\n",
      "\u001b[32m✔\u001b[39m \u001b[34mtidyr  \u001b[39m 1.2.0     \u001b[32m✔\u001b[39m \u001b[34mstringr\u001b[39m 1.4.0\n",
      "\u001b[32m✔\u001b[39m \u001b[34mreadr  \u001b[39m 2.1.2     \u001b[32m✔\u001b[39m \u001b[34mforcats\u001b[39m 0.5.1\n",
      "\n",
      "── \u001b[1mConflicts\u001b[22m ────────────────────────────────────────── tidyverse_conflicts() ──\n",
      "\u001b[31m✖\u001b[39m \u001b[34mdplyr\u001b[39m::\u001b[32mfilter()\u001b[39m masks \u001b[34mstats\u001b[39m::filter()\n",
      "\u001b[31m✖\u001b[39m \u001b[34mdplyr\u001b[39m::\u001b[32mlag()\u001b[39m    masks \u001b[34mstats\u001b[39m::lag()\n",
      "\n"
     ]
    }
   ],
   "source": [
    "# install.packages(\"babynames\")\n",
    "library(tidyverse)\n",
    "library(babynames)"
   ]
  },
  {
   "cell_type": "markdown",
   "id": "d3c72407-dd82-437f-9473-b6b4463ddceb",
   "metadata": {},
   "source": [
    "**1. Examine the first ten rows of data. What is the unit of analysis of this dataset?**"
   ]
  },
  {
   "cell_type": "code",
   "execution_count": 21,
   "id": "56ecdf88-9a74-4eb3-a871-269aee18e0d8",
   "metadata": {},
   "outputs": [
    {
     "data": {
      "text/html": [
       "<table class=\"dataframe\">\n",
       "<caption>A tibble: 10 × 5</caption>\n",
       "<thead>\n",
       "\t<tr><th scope=col>year</th><th scope=col>sex</th><th scope=col>name</th><th scope=col>n</th><th scope=col>prop</th></tr>\n",
       "\t<tr><th scope=col>&lt;dbl&gt;</th><th scope=col>&lt;chr&gt;</th><th scope=col>&lt;chr&gt;</th><th scope=col>&lt;int&gt;</th><th scope=col>&lt;dbl&gt;</th></tr>\n",
       "</thead>\n",
       "<tbody>\n",
       "\t<tr><td>1880</td><td>F</td><td>Mary     </td><td>7065</td><td>0.07238359</td></tr>\n",
       "\t<tr><td>1880</td><td>F</td><td>Anna     </td><td>2604</td><td>0.02667896</td></tr>\n",
       "\t<tr><td>1880</td><td>F</td><td>Emma     </td><td>2003</td><td>0.02052149</td></tr>\n",
       "\t<tr><td>1880</td><td>F</td><td>Elizabeth</td><td>1939</td><td>0.01986579</td></tr>\n",
       "\t<tr><td>1880</td><td>F</td><td>Minnie   </td><td>1746</td><td>0.01788843</td></tr>\n",
       "\t<tr><td>1880</td><td>F</td><td>Margaret </td><td>1578</td><td>0.01616720</td></tr>\n",
       "\t<tr><td>1880</td><td>F</td><td>Ida      </td><td>1472</td><td>0.01508119</td></tr>\n",
       "\t<tr><td>1880</td><td>F</td><td>Alice    </td><td>1414</td><td>0.01448696</td></tr>\n",
       "\t<tr><td>1880</td><td>F</td><td>Bertha   </td><td>1320</td><td>0.01352390</td></tr>\n",
       "\t<tr><td>1880</td><td>F</td><td>Sarah    </td><td>1288</td><td>0.01319605</td></tr>\n",
       "</tbody>\n",
       "</table>\n"
      ],
      "text/latex": [
       "A tibble: 10 × 5\n",
       "\\begin{tabular}{lllll}\n",
       " year & sex & name & n & prop\\\\\n",
       " <dbl> & <chr> & <chr> & <int> & <dbl>\\\\\n",
       "\\hline\n",
       "\t 1880 & F & Mary      & 7065 & 0.07238359\\\\\n",
       "\t 1880 & F & Anna      & 2604 & 0.02667896\\\\\n",
       "\t 1880 & F & Emma      & 2003 & 0.02052149\\\\\n",
       "\t 1880 & F & Elizabeth & 1939 & 0.01986579\\\\\n",
       "\t 1880 & F & Minnie    & 1746 & 0.01788843\\\\\n",
       "\t 1880 & F & Margaret  & 1578 & 0.01616720\\\\\n",
       "\t 1880 & F & Ida       & 1472 & 0.01508119\\\\\n",
       "\t 1880 & F & Alice     & 1414 & 0.01448696\\\\\n",
       "\t 1880 & F & Bertha    & 1320 & 0.01352390\\\\\n",
       "\t 1880 & F & Sarah     & 1288 & 0.01319605\\\\\n",
       "\\end{tabular}\n"
      ],
      "text/markdown": [
       "\n",
       "A tibble: 10 × 5\n",
       "\n",
       "| year &lt;dbl&gt; | sex &lt;chr&gt; | name &lt;chr&gt; | n &lt;int&gt; | prop &lt;dbl&gt; |\n",
       "|---|---|---|---|---|\n",
       "| 1880 | F | Mary      | 7065 | 0.07238359 |\n",
       "| 1880 | F | Anna      | 2604 | 0.02667896 |\n",
       "| 1880 | F | Emma      | 2003 | 0.02052149 |\n",
       "| 1880 | F | Elizabeth | 1939 | 0.01986579 |\n",
       "| 1880 | F | Minnie    | 1746 | 0.01788843 |\n",
       "| 1880 | F | Margaret  | 1578 | 0.01616720 |\n",
       "| 1880 | F | Ida       | 1472 | 0.01508119 |\n",
       "| 1880 | F | Alice     | 1414 | 0.01448696 |\n",
       "| 1880 | F | Bertha    | 1320 | 0.01352390 |\n",
       "| 1880 | F | Sarah     | 1288 | 0.01319605 |\n",
       "\n"
      ],
      "text/plain": [
       "   year sex name      n    prop      \n",
       "1  1880 F   Mary      7065 0.07238359\n",
       "2  1880 F   Anna      2604 0.02667896\n",
       "3  1880 F   Emma      2003 0.02052149\n",
       "4  1880 F   Elizabeth 1939 0.01986579\n",
       "5  1880 F   Minnie    1746 0.01788843\n",
       "6  1880 F   Margaret  1578 0.01616720\n",
       "7  1880 F   Ida       1472 0.01508119\n",
       "8  1880 F   Alice     1414 0.01448696\n",
       "9  1880 F   Bertha    1320 0.01352390\n",
       "10 1880 F   Sarah     1288 0.01319605"
      ]
     },
     "metadata": {},
     "output_type": "display_data"
    }
   ],
   "source": [
    "# Your answer here!\n",
    "\n",
    "# START\n",
    "\n",
    "head(babynames, 10)\n",
    "\n",
    "# END"
   ]
  },
  {
   "cell_type": "markdown",
   "id": "206b2a88-4f83-4005-bc5f-71991f0c8fcb",
   "metadata": {},
   "source": [
    "**2. What were the five most popular girl names in 2000? Report the number of babies.** \\\n",
    "*Hint: these are the steps to follow: \\\n",
    "a. Filter babynames to just girls born in 2000. \\\n",
    "b. Select the name and n columns from the result. \\\n",
    "c. Arrange those columns so that the most popular names appear near the top.*"
   ]
  },
  {
   "cell_type": "code",
   "execution_count": 28,
   "id": "d5a66a94-aa16-4e1d-8068-22cc56fefa36",
   "metadata": {},
   "outputs": [
    {
     "data": {
      "text/html": [
       "<table class=\"dataframe\">\n",
       "<caption>A tibble: 5 × 2</caption>\n",
       "<thead>\n",
       "\t<tr><th scope=col>name</th><th scope=col>n</th></tr>\n",
       "\t<tr><th scope=col>&lt;chr&gt;</th><th scope=col>&lt;int&gt;</th></tr>\n",
       "</thead>\n",
       "<tbody>\n",
       "\t<tr><td>Emily  </td><td>25953</td></tr>\n",
       "\t<tr><td>Hannah </td><td>23080</td></tr>\n",
       "\t<tr><td>Madison</td><td>19967</td></tr>\n",
       "\t<tr><td>Ashley </td><td>17997</td></tr>\n",
       "\t<tr><td>Sarah  </td><td>17697</td></tr>\n",
       "</tbody>\n",
       "</table>\n"
      ],
      "text/latex": [
       "A tibble: 5 × 2\n",
       "\\begin{tabular}{ll}\n",
       " name & n\\\\\n",
       " <chr> & <int>\\\\\n",
       "\\hline\n",
       "\t Emily   & 25953\\\\\n",
       "\t Hannah  & 23080\\\\\n",
       "\t Madison & 19967\\\\\n",
       "\t Ashley  & 17997\\\\\n",
       "\t Sarah   & 17697\\\\\n",
       "\\end{tabular}\n"
      ],
      "text/markdown": [
       "\n",
       "A tibble: 5 × 2\n",
       "\n",
       "| name &lt;chr&gt; | n &lt;int&gt; |\n",
       "|---|---|\n",
       "| Emily   | 25953 |\n",
       "| Hannah  | 23080 |\n",
       "| Madison | 19967 |\n",
       "| Ashley  | 17997 |\n",
       "| Sarah   | 17697 |\n",
       "\n"
      ],
      "text/plain": [
       "  name    n    \n",
       "1 Emily   25953\n",
       "2 Hannah  23080\n",
       "3 Madison 19967\n",
       "4 Ashley  17997\n",
       "5 Sarah   17697"
      ]
     },
     "metadata": {},
     "output_type": "display_data"
    }
   ],
   "source": [
    "# Your answer here!\n",
    "\n",
    "# START\n",
    "\n",
    "babynames %>%\n",
    "    filter(year == 2000 & sex == \"F\") %>%\n",
    "    select(name, n) %>%\n",
    "    arrange(desc(n)) %>%\n",
    "    head(5)\n",
    "\n",
    "# END "
   ]
  },
  {
   "cell_type": "markdown",
   "id": "83cdfbe2-c058-4e4e-8041-a12bacbd14b8",
   "metadata": {},
   "source": [
    "**3. What were the five most popular boy names in 2017? Report the proportions.**"
   ]
  },
  {
   "cell_type": "code",
   "execution_count": 110,
   "id": "3838239f-b48c-4de4-bfe0-8640781d93e6",
   "metadata": {},
   "outputs": [
    {
     "data": {
      "text/html": [
       "<table class=\"dataframe\">\n",
       "<caption>A tibble: 5 × 2</caption>\n",
       "<thead>\n",
       "\t<tr><th scope=col>name</th><th scope=col>prop</th></tr>\n",
       "\t<tr><th scope=col>&lt;chr&gt;</th><th scope=col>&lt;dbl&gt;</th></tr>\n",
       "</thead>\n",
       "<tbody>\n",
       "\t<tr><td>Liam   </td><td>0.00953909</td></tr>\n",
       "\t<tr><td>Noah   </td><td>0.00933433</td></tr>\n",
       "\t<tr><td>William</td><td>0.00759134</td></tr>\n",
       "\t<tr><td>James  </td><td>0.00724906</td></tr>\n",
       "\t<tr><td>Logan  </td><td>0.00711764</td></tr>\n",
       "</tbody>\n",
       "</table>\n"
      ],
      "text/latex": [
       "A tibble: 5 × 2\n",
       "\\begin{tabular}{ll}\n",
       " name & prop\\\\\n",
       " <chr> & <dbl>\\\\\n",
       "\\hline\n",
       "\t Liam    & 0.00953909\\\\\n",
       "\t Noah    & 0.00933433\\\\\n",
       "\t William & 0.00759134\\\\\n",
       "\t James   & 0.00724906\\\\\n",
       "\t Logan   & 0.00711764\\\\\n",
       "\\end{tabular}\n"
      ],
      "text/markdown": [
       "\n",
       "A tibble: 5 × 2\n",
       "\n",
       "| name &lt;chr&gt; | prop &lt;dbl&gt; |\n",
       "|---|---|\n",
       "| Liam    | 0.00953909 |\n",
       "| Noah    | 0.00933433 |\n",
       "| William | 0.00759134 |\n",
       "| James   | 0.00724906 |\n",
       "| Logan   | 0.00711764 |\n",
       "\n"
      ],
      "text/plain": [
       "  name    prop      \n",
       "1 Liam    0.00953909\n",
       "2 Noah    0.00933433\n",
       "3 William 0.00759134\n",
       "4 James   0.00724906\n",
       "5 Logan   0.00711764"
      ]
     },
     "metadata": {},
     "output_type": "display_data"
    }
   ],
   "source": [
    "# Your answer here!\n",
    "\n",
    "# START\n",
    "\n",
    "babynames %>%\n",
    "    filter(year == 2017 & sex == \"M\") %>%\n",
    "    select(name, prop) %>%\n",
    "    arrange(desc(prop)) %>%\n",
    "    head(5)\n",
    "\n",
    "# END "
   ]
  },
  {
   "cell_type": "markdown",
   "id": "75e9759f-305c-4ad0-92bc-e14a8fc4fffa",
   "metadata": {},
   "source": [
    "**4. Plot the evolution of the popularity of the name *Arya*.**"
   ]
  },
  {
   "cell_type": "code",
   "execution_count": 51,
   "id": "b0657552-8468-488a-8311-a40c6c9f025e",
   "metadata": {},
   "outputs": [
    {
     "data": {
      "image/png": "[encoded data removed]",
      "text/plain": [
       "plot without title"
      ]
     },
     "metadata": {
      "image/png": {
       "height": 420,
       "width": 420
      }
     },
     "output_type": "display_data"
    }
   ],
   "source": [
    "# Your answer here!\n",
    "\n",
    "# START\n",
    "\n",
    "arya_name <- babynames %>% \n",
    "  filter(name == \"Arya\", sex == \"F\") %>% \n",
    "  select(year, prop) \n",
    "\n",
    "ggplot(arya_name) +\n",
    "    geom_line(aes(x = year, y = prop)) +\n",
    "    labs(title = \"Popularity of the name Arya\")\n",
    "\n",
    "# END"
   ]
  },
  {
   "cell_type": "markdown",
   "id": "2746dd00-3561-4d9d-953f-6d0be4adae44",
   "metadata": {},
   "source": [
    "**5. Calculate for your name: (1) The total number of children that had your name, (2) The maximum number of kids with that name in a single year, (3) The mean number of kids named that per year, and (4) The first time a kid was named that in this dataset.**"
   ]
  },
  {
   "cell_type": "code",
   "execution_count": 111,
   "id": "af31ce80-b120-4216-b954-3768e7a74ac6",
   "metadata": {},
   "outputs": [
    {
     "data": {
      "text/html": [
       "<table class=\"dataframe\">\n",
       "<caption>A tibble: 1 × 4</caption>\n",
       "<thead>\n",
       "\t<tr><th scope=col>total</th><th scope=col>max</th><th scope=col>mean</th><th scope=col>year</th></tr>\n",
       "\t<tr><th scope=col>&lt;int&gt;</th><th scope=col>&lt;int&gt;</th><th scope=col>&lt;dbl&gt;</th><th scope=col>&lt;dbl&gt;</th></tr>\n",
       "</thead>\n",
       "<tbody>\n",
       "\t<tr><td>29698</td><td>693</td><td>253.8291</td><td>1885</td></tr>\n",
       "</tbody>\n",
       "</table>\n"
      ],
      "text/latex": [
       "A tibble: 1 × 4\n",
       "\\begin{tabular}{llll}\n",
       " total & max & mean & year\\\\\n",
       " <int> & <int> & <dbl> & <dbl>\\\\\n",
       "\\hline\n",
       "\t 29698 & 693 & 253.8291 & 1885\\\\\n",
       "\\end{tabular}\n"
      ],
      "text/markdown": [
       "\n",
       "A tibble: 1 × 4\n",
       "\n",
       "| total &lt;int&gt; | max &lt;int&gt; | mean &lt;dbl&gt; | year &lt;dbl&gt; |\n",
       "|---|---|---|---|\n",
       "| 29698 | 693 | 253.8291 | 1885 |\n",
       "\n"
      ],
      "text/plain": [
       "  total max mean     year\n",
       "1 29698 693 253.8291 1885"
      ]
     },
     "metadata": {},
     "output_type": "display_data"
    }
   ],
   "source": [
    "# Your answer here!\n",
    "\n",
    "# START\n",
    "\n",
    "babynames %>% \n",
    "  filter(name == \"Guillermo\", sex == \"M\") %>% \n",
    "  summarise(total = sum(n), max=max(n), mean=mean(n), year=first(year))\n",
    "\n",
    "#END"
   ]
  },
  {
   "cell_type": "markdown",
   "id": "801e0505-a0c6-49eb-aec8-19137c10efc0",
   "metadata": {},
   "source": [
    "**6. Our first measure of *popularity* is the total number of children of a single gender given a name. Display the ten more popular names and the proportion of times a kid received that name.**"
   ]
  },
  {
   "cell_type": "code",
   "execution_count": 114,
   "id": "106fd6a2-e4c6-4b2c-ab6a-5db0574d6ae4",
   "metadata": {},
   "outputs": [
    {
     "name": "stderr",
     "output_type": "stream",
     "text": [
      "\u001b[1m\u001b[22m`summarise()` has grouped output by 'sex'. You can override using the `.groups`\n",
      "argument.\n"
     ]
    },
    {
     "data": {
      "text/html": [
       "<table class=\"dataframe\">\n",
       "<caption>A grouped_df: 10 × 4</caption>\n",
       "<thead>\n",
       "\t<tr><th scope=col>sex</th><th scope=col>name</th><th scope=col>total</th><th scope=col>prop</th></tr>\n",
       "\t<tr><th scope=col>&lt;chr&gt;</th><th scope=col>&lt;chr&gt;</th><th scope=col>&lt;int&gt;</th><th scope=col>&lt;dbl&gt;</th></tr>\n",
       "</thead>\n",
       "<tbody>\n",
       "\t<tr><td>M</td><td>James  </td><td>5150472</td><td>0.02930577</td></tr>\n",
       "\t<tr><td>M</td><td>John   </td><td>5115466</td><td>0.02910659</td></tr>\n",
       "\t<tr><td>M</td><td>Robert </td><td>4814815</td><td>0.02739591</td></tr>\n",
       "\t<tr><td>M</td><td>Michael</td><td>4350824</td><td>0.02475583</td></tr>\n",
       "\t<tr><td>F</td><td>Mary   </td><td>4123200</td><td>0.02392049</td></tr>\n",
       "\t<tr><td>M</td><td>William</td><td>4102604</td><td>0.02334348</td></tr>\n",
       "\t<tr><td>M</td><td>David  </td><td>3611329</td><td>0.02054817</td></tr>\n",
       "\t<tr><td>M</td><td>Joseph </td><td>2603445</td><td>0.01481339</td></tr>\n",
       "\t<tr><td>M</td><td>Richard</td><td>2563082</td><td>0.01458373</td></tr>\n",
       "\t<tr><td>M</td><td>Charles</td><td>2386048</td><td>0.01357642</td></tr>\n",
       "</tbody>\n",
       "</table>\n"
      ],
      "text/latex": [
       "A grouped\\_df: 10 × 4\n",
       "\\begin{tabular}{llll}\n",
       " sex & name & total & prop\\\\\n",
       " <chr> & <chr> & <int> & <dbl>\\\\\n",
       "\\hline\n",
       "\t M & James   & 5150472 & 0.02930577\\\\\n",
       "\t M & John    & 5115466 & 0.02910659\\\\\n",
       "\t M & Robert  & 4814815 & 0.02739591\\\\\n",
       "\t M & Michael & 4350824 & 0.02475583\\\\\n",
       "\t F & Mary    & 4123200 & 0.02392049\\\\\n",
       "\t M & William & 4102604 & 0.02334348\\\\\n",
       "\t M & David   & 3611329 & 0.02054817\\\\\n",
       "\t M & Joseph  & 2603445 & 0.01481339\\\\\n",
       "\t M & Richard & 2563082 & 0.01458373\\\\\n",
       "\t M & Charles & 2386048 & 0.01357642\\\\\n",
       "\\end{tabular}\n"
      ],
      "text/markdown": [
       "\n",
       "A grouped_df: 10 × 4\n",
       "\n",
       "| sex &lt;chr&gt; | name &lt;chr&gt; | total &lt;int&gt; | prop &lt;dbl&gt; |\n",
       "|---|---|---|---|\n",
       "| M | James   | 5150472 | 0.02930577 |\n",
       "| M | John    | 5115466 | 0.02910659 |\n",
       "| M | Robert  | 4814815 | 0.02739591 |\n",
       "| M | Michael | 4350824 | 0.02475583 |\n",
       "| F | Mary    | 4123200 | 0.02392049 |\n",
       "| M | William | 4102604 | 0.02334348 |\n",
       "| M | David   | 3611329 | 0.02054817 |\n",
       "| M | Joseph  | 2603445 | 0.01481339 |\n",
       "| M | Richard | 2563082 | 0.01458373 |\n",
       "| M | Charles | 2386048 | 0.01357642 |\n",
       "\n"
      ],
      "text/plain": [
       "   sex name    total   prop      \n",
       "1  M   James   5150472 0.02930577\n",
       "2  M   John    5115466 0.02910659\n",
       "3  M   Robert  4814815 0.02739591\n",
       "4  M   Michael 4350824 0.02475583\n",
       "5  F   Mary    4123200 0.02392049\n",
       "6  M   William 4102604 0.02334348\n",
       "7  M   David   3611329 0.02054817\n",
       "8  M   Joseph  2603445 0.01481339\n",
       "9  M   Richard 2563082 0.01458373\n",
       "10 M   Charles 2386048 0.01357642"
      ]
     },
     "metadata": {},
     "output_type": "display_data"
    }
   ],
   "source": [
    "# Your answer here!\n",
    "\n",
    "# START\n",
    "\n",
    "babynames %>%\n",
    "    group_by(sex,name) %>%\n",
    "    summarise(total = sum(n)) %>%\n",
    "    mutate(prop=total/sum(total)) %>%\n",
    "    arrange(desc(total)) %>%\n",
    "    head(10)\n",
    "\n",
    "#END"
   ]
  },
  {
   "cell_type": "markdown",
   "id": "bba79118-cd1e-44e6-982f-c8b08a7a469d",
   "metadata": {},
   "source": [
    "**7. Under the second definition, a name is *popular* if it consistently ranks among the top names from year to year. Display the ten most popular names.**"
   ]
  },
  {
   "cell_type": "code",
   "execution_count": 112,
   "id": "f1fbf4e3-7e83-4f9c-b993-84ca966c937a",
   "metadata": {},
   "outputs": [
    {
     "name": "stderr",
     "output_type": "stream",
     "text": [
      "\u001b[1m\u001b[22m`summarise()` has grouped output by 'name'. You can override using the\n",
      "`.groups` argument.\n"
     ]
    },
    {
     "data": {
      "text/html": [
       "<table class=\"dataframe\">\n",
       "<caption>A grouped_df: 10 × 3</caption>\n",
       "<thead>\n",
       "\t<tr><th scope=col>name</th><th scope=col>sex</th><th scope=col>score</th></tr>\n",
       "\t<tr><th scope=col>&lt;chr&gt;</th><th scope=col>&lt;chr&gt;</th><th scope=col>&lt;dbl&gt;</th></tr>\n",
       "</thead>\n",
       "<tbody>\n",
       "\t<tr><td>Mary     </td><td>F</td><td> 1.0</td></tr>\n",
       "\t<tr><td>James    </td><td>M</td><td> 3.0</td></tr>\n",
       "\t<tr><td>John     </td><td>M</td><td> 3.0</td></tr>\n",
       "\t<tr><td>William  </td><td>M</td><td> 4.0</td></tr>\n",
       "\t<tr><td>Robert   </td><td>M</td><td> 6.0</td></tr>\n",
       "\t<tr><td>Michael  </td><td>M</td><td> 7.5</td></tr>\n",
       "\t<tr><td>Charles  </td><td>M</td><td> 9.0</td></tr>\n",
       "\t<tr><td>Elizabeth</td><td>F</td><td>10.0</td></tr>\n",
       "\t<tr><td>Joseph   </td><td>M</td><td>10.0</td></tr>\n",
       "\t<tr><td>Thomas   </td><td>M</td><td>11.0</td></tr>\n",
       "</tbody>\n",
       "</table>\n"
      ],
      "text/latex": [
       "A grouped\\_df: 10 × 3\n",
       "\\begin{tabular}{lll}\n",
       " name & sex & score\\\\\n",
       " <chr> & <chr> & <dbl>\\\\\n",
       "\\hline\n",
       "\t Mary      & F &  1.0\\\\\n",
       "\t James     & M &  3.0\\\\\n",
       "\t John      & M &  3.0\\\\\n",
       "\t William   & M &  4.0\\\\\n",
       "\t Robert    & M &  6.0\\\\\n",
       "\t Michael   & M &  7.5\\\\\n",
       "\t Charles   & M &  9.0\\\\\n",
       "\t Elizabeth & F & 10.0\\\\\n",
       "\t Joseph    & M & 10.0\\\\\n",
       "\t Thomas    & M & 11.0\\\\\n",
       "\\end{tabular}\n"
      ],
      "text/markdown": [
       "\n",
       "A grouped_df: 10 × 3\n",
       "\n",
       "| name &lt;chr&gt; | sex &lt;chr&gt; | score &lt;dbl&gt; |\n",
       "|---|---|---|\n",
       "| Mary      | F |  1.0 |\n",
       "| James     | M |  3.0 |\n",
       "| John      | M |  3.0 |\n",
       "| William   | M |  4.0 |\n",
       "| Robert    | M |  6.0 |\n",
       "| Michael   | M |  7.5 |\n",
       "| Charles   | M |  9.0 |\n",
       "| Elizabeth | F | 10.0 |\n",
       "| Joseph    | M | 10.0 |\n",
       "| Thomas    | M | 11.0 |\n",
       "\n"
      ],
      "text/plain": [
       "   name      sex score\n",
       "1  Mary      F    1.0 \n",
       "2  James     M    3.0 \n",
       "3  John      M    3.0 \n",
       "4  William   M    4.0 \n",
       "5  Robert    M    6.0 \n",
       "6  Michael   M    7.5 \n",
       "7  Charles   M    9.0 \n",
       "8  Elizabeth F   10.0 \n",
       "9  Joseph    M   10.0 \n",
       "10 Thomas    M   11.0 "
      ]
     },
     "metadata": {},
     "output_type": "display_data"
    }
   ],
   "source": [
    "# Your answer here!\n",
    "\n",
    "# START\n",
    "\n",
    "babynames %>% \n",
    "    group_by(year, sex) %>% \n",
    "    mutate(rank = min_rank(desc(prop))) %>%\n",
    "    group_by(name, sex) %>%\n",
    "    summarise(score = median(rank)) %>% \n",
    "    arrange(score) %>%\n",
    "    head(10)\n",
    "\n",
    "# END"
   ]
  },
  {
   "cell_type": "markdown",
   "id": "a42d278d-0afa-42a4-be08-1cc9febc7a2a",
   "metadata": {},
   "source": [
    "# Exercise 2 - Dplyr functions"
   ]
  },
  {
   "cell_type": "markdown",
   "id": "a2abb6d8-8fb8-4678-80a8-912f5eaa9dfc",
   "metadata": {},
   "source": [
    "[Download the data using this link.](https://docs.google.com/spreadsheets/d/1OaSj9w7Kg9FX4gsPZNH119EUaP_1Ndgy/edit?usp=sharing&ouid=114565474064234702477&rtpof=true&sd=true)"
   ]
  },
  {
   "cell_type": "markdown",
   "id": "b7b254e5-1ec7-4830-99ac-8df71007792e",
   "metadata": {},
   "source": [
    "**0. Upload the Excel file WEO-2018.xlsx to Google Colab and use read_excel to read its first worksheet as a new table called weo_data. Examine the first 10 rows of the data.**"
   ]
  },
  {
   "cell_type": "code",
   "execution_count": 1,
   "id": "c9385e26-c9b5-44cc-bf7e-dddc7f5930d4",
   "metadata": {},
   "outputs": [
    {
     "name": "stderr",
     "output_type": "stream",
     "text": [
      "── \u001b[1mAttaching packages\u001b[22m ─────────────────────────────────────── tidyverse 1.3.1 ──\n",
      "\n",
      "\u001b[32m✔\u001b[39m \u001b[34mggplot2\u001b[39m 3.3.6     \u001b[32m✔\u001b[39m \u001b[34mpurrr  \u001b[39m 0.3.4\n",
      "\u001b[32m✔\u001b[39m \u001b[34mtibble \u001b[39m 3.1.7     \u001b[32m✔\u001b[39m \u001b[34mdplyr  \u001b[39m 1.0.9\n",
      "\u001b[32m✔\u001b[39m \u001b[34mtidyr  \u001b[39m 1.2.0     \u001b[32m✔\u001b[39m \u001b[34mstringr\u001b[39m 1.4.0\n",
      "\u001b[32m✔\u001b[39m \u001b[34mreadr  \u001b[39m 2.1.2     \u001b[32m✔\u001b[39m \u001b[34mforcats\u001b[39m 0.5.1\n",
      "\n",
      "── \u001b[1mConflicts\u001b[22m ────────────────────────────────────────── tidyverse_conflicts() ──\n",
      "\u001b[31m✖\u001b[39m \u001b[34mdplyr\u001b[39m::\u001b[32mfilter()\u001b[39m masks \u001b[34mstats\u001b[39m::filter()\n",
      "\u001b[31m✖\u001b[39m \u001b[34mdplyr\u001b[39m::\u001b[32mlag()\u001b[39m    masks \u001b[34mstats\u001b[39m::lag()\n",
      "\n"
     ]
    },
    {
     "data": {
      "text/html": [
       "<table class=\"dataframe\">\n",
       "<caption>A tibble: 10 × 66</caption>\n",
       "<thead>\n",
       "\t<tr><th scope=col>country</th><th scope=col>continent</th><th scope=col>pop_1992</th><th scope=col>pop_1993</th><th scope=col>pop_1994</th><th scope=col>pop_1995</th><th scope=col>pop_1996</th><th scope=col>pop_1997</th><th scope=col>pop_1998</th><th scope=col>pop_1999</th><th scope=col>⋯</th><th scope=col>rgdp_2014</th><th scope=col>rgdp_2015</th><th scope=col>rgdp_2016</th><th scope=col>rgdp_2017</th><th scope=col>rgdp_2018</th><th scope=col>rgdp_2019</th><th scope=col>rgdp_2020</th><th scope=col>rgdp_2021</th><th scope=col>rgdp_2022</th><th scope=col>rgdp_2023</th></tr>\n",
       "\t<tr><th scope=col>&lt;chr&gt;</th><th scope=col>&lt;chr&gt;</th><th scope=col>&lt;dbl&gt;</th><th scope=col>&lt;dbl&gt;</th><th scope=col>&lt;dbl&gt;</th><th scope=col>&lt;dbl&gt;</th><th scope=col>&lt;dbl&gt;</th><th scope=col>&lt;dbl&gt;</th><th scope=col>&lt;dbl&gt;</th><th scope=col>&lt;dbl&gt;</th><th scope=col>⋯</th><th scope=col>&lt;dbl&gt;</th><th scope=col>&lt;dbl&gt;</th><th scope=col>&lt;dbl&gt;</th><th scope=col>&lt;dbl&gt;</th><th scope=col>&lt;dbl&gt;</th><th scope=col>&lt;dbl&gt;</th><th scope=col>&lt;dbl&gt;</th><th scope=col>&lt;dbl&gt;</th><th scope=col>&lt;dbl&gt;</th><th scope=col>&lt;dbl&gt;</th></tr>\n",
       "</thead>\n",
       "<tbody>\n",
       "\t<tr><td>Afghanistan        </td><td>Asia         </td><td>    NA</td><td>    NA</td><td>    NA</td><td>    NA</td><td>    NA</td><td>    NA</td><td>    NA</td><td>    NA</td><td>⋯</td><td>  59596.317</td><td>  60376.08</td><td>  61804.471</td><td>  63353.223</td><td>  64937.072</td><td>  66873.761</td><td>  69202.210</td><td>  71958.867</td><td>  75185.01</td><td>  78933.867</td></tr>\n",
       "\t<tr><td>Albania            </td><td>Europe       </td><td> 3.217</td><td> 3.201</td><td> 3.137</td><td> 3.141</td><td> 3.168</td><td> 3.148</td><td> 3.129</td><td> 3.109</td><td>⋯</td><td>  29830.976</td><td>  30500.45</td><td>  31522.827</td><td>  32763.064</td><td>  33977.362</td><td>  35265.949</td><td>  36628.799</td><td>  38064.609</td><td>  39562.10</td><td>  41118.684</td></tr>\n",
       "\t<tr><td>Algeria            </td><td>Africa       </td><td>26.271</td><td>26.894</td><td>27.496</td><td>28.060</td><td>28.566</td><td>29.045</td><td>29.507</td><td>29.965</td><td>⋯</td><td> 527682.945</td><td> 547207.20</td><td> 565261.451</td><td> 576494.308</td><td> 594015.951</td><td> 610220.917</td><td> 621442.475</td><td> 628288.457</td><td> 632470.09</td><td> 635419.898</td></tr>\n",
       "\t<tr><td>Angola             </td><td>Africa       </td><td>13.459</td><td>13.863</td><td>14.279</td><td>14.707</td><td>15.148</td><td>15.603</td><td>16.071</td><td>16.553</td><td>⋯</td><td> 168445.315</td><td> 173500.40</td><td> 172089.667</td><td> 173326.726</td><td> 177077.960</td><td> 181350.897</td><td> 187947.539</td><td> 195907.567</td><td> 205214.15</td><td> 215197.671</td></tr>\n",
       "\t<tr><td>Antigua and Barbuda</td><td>North America</td><td> 0.062</td><td> 0.063</td><td> 0.065</td><td> 0.067</td><td> 0.068</td><td> 0.070</td><td> 0.072</td><td> 0.074</td><td>⋯</td><td>   1927.521</td><td>   2006.99</td><td>   2115.322</td><td>   2174.303</td><td>   2250.925</td><td>   2318.715</td><td>   2376.677</td><td>   2423.931</td><td>   2471.85</td><td>   2520.443</td></tr>\n",
       "\t<tr><td>Argentina          </td><td>South America</td><td>33.420</td><td>33.917</td><td>34.353</td><td>34.779</td><td>35.196</td><td>35.604</td><td>36.005</td><td>36.399</td><td>⋯</td><td> 807956.578</td><td> 830014.09</td><td> 814885.003</td><td> 838220.552</td><td> 854593.203</td><td> 882072.338</td><td> 909620.490</td><td> 938666.874</td><td> 969221.80</td><td>1001203.869</td></tr>\n",
       "\t<tr><td>Armenia            </td><td>Asia         </td><td> 3.450</td><td> 3.370</td><td> 3.290</td><td> 3.220</td><td> 3.170</td><td> 3.140</td><td> 3.110</td><td> 3.090</td><td>⋯</td><td>  23151.200</td><td>  23902.74</td><td>  23971.259</td><td>  25761.791</td><td>  26635.561</td><td>  27565.600</td><td>  28537.651</td><td>  29591.179</td><td>  30772.36</td><td>  32000.697</td></tr>\n",
       "\t<tr><td>Australia          </td><td>Oceania      </td><td>17.557</td><td>17.719</td><td>17.893</td><td>18.120</td><td>18.330</td><td>18.510</td><td>18.706</td><td>18.919</td><td>⋯</td><td>1055467.357</td><td>1081552.36</td><td>1110171.577</td><td>1135362.364</td><td>1168997.672</td><td>1205032.610</td><td>1239882.125</td><td>1272710.104</td><td>1305889.54</td><td>1339640.053</td></tr>\n",
       "\t<tr><td>Austria            </td><td>Europe       </td><td> 7.799</td><td> 7.883</td><td> 7.929</td><td> 7.948</td><td> 7.959</td><td> 7.968</td><td> 7.977</td><td> 7.992</td><td>⋯</td><td> 379399.644</td><td> 383560.32</td><td> 389112.448</td><td> 400410.321</td><td> 410984.382</td><td> 418965.064</td><td> 425281.137</td><td> 431655.080</td><td> 438135.27</td><td> 444685.649</td></tr>\n",
       "\t<tr><td>Azerbaijan         </td><td>Asia         </td><td> 7.459</td><td> 7.487</td><td> 7.597</td><td> 7.644</td><td> 7.726</td><td> 7.800</td><td> 7.877</td><td> 7.953</td><td>⋯</td><td> 160353.029</td><td> 161394.24</td><td> 156397.466</td><td> 156495.959</td><td> 159669.948</td><td> 165830.894</td><td> 171843.704</td><td> 176553.698</td><td> 181340.34</td><td> 186065.988</td></tr>\n",
       "</tbody>\n",
       "</table>\n"
      ],
      "text/latex": [
       "A tibble: 10 × 66\n",
       "\\begin{tabular}{lllllllllllllllllllll}\n",
       " country & continent & pop\\_1992 & pop\\_1993 & pop\\_1994 & pop\\_1995 & pop\\_1996 & pop\\_1997 & pop\\_1998 & pop\\_1999 & ⋯ & rgdp\\_2014 & rgdp\\_2015 & rgdp\\_2016 & rgdp\\_2017 & rgdp\\_2018 & rgdp\\_2019 & rgdp\\_2020 & rgdp\\_2021 & rgdp\\_2022 & rgdp\\_2023\\\\\n",
       " <chr> & <chr> & <dbl> & <dbl> & <dbl> & <dbl> & <dbl> & <dbl> & <dbl> & <dbl> & ⋯ & <dbl> & <dbl> & <dbl> & <dbl> & <dbl> & <dbl> & <dbl> & <dbl> & <dbl> & <dbl>\\\\\n",
       "\\hline\n",
       "\t Afghanistan         & Asia          &     NA &     NA &     NA &     NA &     NA &     NA &     NA &     NA & ⋯ &   59596.317 &   60376.08 &   61804.471 &   63353.223 &   64937.072 &   66873.761 &   69202.210 &   71958.867 &   75185.01 &   78933.867\\\\\n",
       "\t Albania             & Europe        &  3.217 &  3.201 &  3.137 &  3.141 &  3.168 &  3.148 &  3.129 &  3.109 & ⋯ &   29830.976 &   30500.45 &   31522.827 &   32763.064 &   33977.362 &   35265.949 &   36628.799 &   38064.609 &   39562.10 &   41118.684\\\\\n",
       "\t Algeria             & Africa        & 26.271 & 26.894 & 27.496 & 28.060 & 28.566 & 29.045 & 29.507 & 29.965 & ⋯ &  527682.945 &  547207.20 &  565261.451 &  576494.308 &  594015.951 &  610220.917 &  621442.475 &  628288.457 &  632470.09 &  635419.898\\\\\n",
       "\t Angola              & Africa        & 13.459 & 13.863 & 14.279 & 14.707 & 15.148 & 15.603 & 16.071 & 16.553 & ⋯ &  168445.315 &  173500.40 &  172089.667 &  173326.726 &  177077.960 &  181350.897 &  187947.539 &  195907.567 &  205214.15 &  215197.671\\\\\n",
       "\t Antigua and Barbuda & North America &  0.062 &  0.063 &  0.065 &  0.067 &  0.068 &  0.070 &  0.072 &  0.074 & ⋯ &    1927.521 &    2006.99 &    2115.322 &    2174.303 &    2250.925 &    2318.715 &    2376.677 &    2423.931 &    2471.85 &    2520.443\\\\\n",
       "\t Argentina           & South America & 33.420 & 33.917 & 34.353 & 34.779 & 35.196 & 35.604 & 36.005 & 36.399 & ⋯ &  807956.578 &  830014.09 &  814885.003 &  838220.552 &  854593.203 &  882072.338 &  909620.490 &  938666.874 &  969221.80 & 1001203.869\\\\\n",
       "\t Armenia             & Asia          &  3.450 &  3.370 &  3.290 &  3.220 &  3.170 &  3.140 &  3.110 &  3.090 & ⋯ &   23151.200 &   23902.74 &   23971.259 &   25761.791 &   26635.561 &   27565.600 &   28537.651 &   29591.179 &   30772.36 &   32000.697\\\\\n",
       "\t Australia           & Oceania       & 17.557 & 17.719 & 17.893 & 18.120 & 18.330 & 18.510 & 18.706 & 18.919 & ⋯ & 1055467.357 & 1081552.36 & 1110171.577 & 1135362.364 & 1168997.672 & 1205032.610 & 1239882.125 & 1272710.104 & 1305889.54 & 1339640.053\\\\\n",
       "\t Austria             & Europe        &  7.799 &  7.883 &  7.929 &  7.948 &  7.959 &  7.968 &  7.977 &  7.992 & ⋯ &  379399.644 &  383560.32 &  389112.448 &  400410.321 &  410984.382 &  418965.064 &  425281.137 &  431655.080 &  438135.27 &  444685.649\\\\\n",
       "\t Azerbaijan          & Asia          &  7.459 &  7.487 &  7.597 &  7.644 &  7.726 &  7.800 &  7.877 &  7.953 & ⋯ &  160353.029 &  161394.24 &  156397.466 &  156495.959 &  159669.948 &  165830.894 &  171843.704 &  176553.698 &  181340.34 &  186065.988\\\\\n",
       "\\end{tabular}\n"
      ],
      "text/markdown": [
       "\n",
       "A tibble: 10 × 66\n",
       "\n",
       "| country &lt;chr&gt; | continent &lt;chr&gt; | pop_1992 &lt;dbl&gt; | pop_1993 &lt;dbl&gt; | pop_1994 &lt;dbl&gt; | pop_1995 &lt;dbl&gt; | pop_1996 &lt;dbl&gt; | pop_1997 &lt;dbl&gt; | pop_1998 &lt;dbl&gt; | pop_1999 &lt;dbl&gt; | ⋯ ⋯ | rgdp_2014 &lt;dbl&gt; | rgdp_2015 &lt;dbl&gt; | rgdp_2016 &lt;dbl&gt; | rgdp_2017 &lt;dbl&gt; | rgdp_2018 &lt;dbl&gt; | rgdp_2019 &lt;dbl&gt; | rgdp_2020 &lt;dbl&gt; | rgdp_2021 &lt;dbl&gt; | rgdp_2022 &lt;dbl&gt; | rgdp_2023 &lt;dbl&gt; |\n",
       "|---|---|---|---|---|---|---|---|---|---|---|---|---|---|---|---|---|---|---|---|---|\n",
       "| Afghanistan         | Asia          |     NA |     NA |     NA |     NA |     NA |     NA |     NA |     NA | ⋯ |   59596.317 |   60376.08 |   61804.471 |   63353.223 |   64937.072 |   66873.761 |   69202.210 |   71958.867 |   75185.01 |   78933.867 |\n",
       "| Albania             | Europe        |  3.217 |  3.201 |  3.137 |  3.141 |  3.168 |  3.148 |  3.129 |  3.109 | ⋯ |   29830.976 |   30500.45 |   31522.827 |   32763.064 |   33977.362 |   35265.949 |   36628.799 |   38064.609 |   39562.10 |   41118.684 |\n",
       "| Algeria             | Africa        | 26.271 | 26.894 | 27.496 | 28.060 | 28.566 | 29.045 | 29.507 | 29.965 | ⋯ |  527682.945 |  547207.20 |  565261.451 |  576494.308 |  594015.951 |  610220.917 |  621442.475 |  628288.457 |  632470.09 |  635419.898 |\n",
       "| Angola              | Africa        | 13.459 | 13.863 | 14.279 | 14.707 | 15.148 | 15.603 | 16.071 | 16.553 | ⋯ |  168445.315 |  173500.40 |  172089.667 |  173326.726 |  177077.960 |  181350.897 |  187947.539 |  195907.567 |  205214.15 |  215197.671 |\n",
       "| Antigua and Barbuda | North America |  0.062 |  0.063 |  0.065 |  0.067 |  0.068 |  0.070 |  0.072 |  0.074 | ⋯ |    1927.521 |    2006.99 |    2115.322 |    2174.303 |    2250.925 |    2318.715 |    2376.677 |    2423.931 |    2471.85 |    2520.443 |\n",
       "| Argentina           | South America | 33.420 | 33.917 | 34.353 | 34.779 | 35.196 | 35.604 | 36.005 | 36.399 | ⋯ |  807956.578 |  830014.09 |  814885.003 |  838220.552 |  854593.203 |  882072.338 |  909620.490 |  938666.874 |  969221.80 | 1001203.869 |\n",
       "| Armenia             | Asia          |  3.450 |  3.370 |  3.290 |  3.220 |  3.170 |  3.140 |  3.110 |  3.090 | ⋯ |   23151.200 |   23902.74 |   23971.259 |   25761.791 |   26635.561 |   27565.600 |   28537.651 |   29591.179 |   30772.36 |   32000.697 |\n",
       "| Australia           | Oceania       | 17.557 | 17.719 | 17.893 | 18.120 | 18.330 | 18.510 | 18.706 | 18.919 | ⋯ | 1055467.357 | 1081552.36 | 1110171.577 | 1135362.364 | 1168997.672 | 1205032.610 | 1239882.125 | 1272710.104 | 1305889.54 | 1339640.053 |\n",
       "| Austria             | Europe        |  7.799 |  7.883 |  7.929 |  7.948 |  7.959 |  7.968 |  7.977 |  7.992 | ⋯ |  379399.644 |  383560.32 |  389112.448 |  400410.321 |  410984.382 |  418965.064 |  425281.137 |  431655.080 |  438135.27 |  444685.649 |\n",
       "| Azerbaijan          | Asia          |  7.459 |  7.487 |  7.597 |  7.644 |  7.726 |  7.800 |  7.877 |  7.953 | ⋯ |  160353.029 |  161394.24 |  156397.466 |  156495.959 |  159669.948 |  165830.894 |  171843.704 |  176553.698 |  181340.34 |  186065.988 |\n",
       "\n"
      ],
      "text/plain": [
       "   country             continent     pop_1992 pop_1993 pop_1994 pop_1995\n",
       "1  Afghanistan         Asia              NA       NA       NA       NA  \n",
       "2  Albania             Europe         3.217    3.201    3.137    3.141  \n",
       "3  Algeria             Africa        26.271   26.894   27.496   28.060  \n",
       "4  Angola              Africa        13.459   13.863   14.279   14.707  \n",
       "5  Antigua and Barbuda North America  0.062    0.063    0.065    0.067  \n",
       "6  Argentina           South America 33.420   33.917   34.353   34.779  \n",
       "7  Armenia             Asia           3.450    3.370    3.290    3.220  \n",
       "8  Australia           Oceania       17.557   17.719   17.893   18.120  \n",
       "9  Austria             Europe         7.799    7.883    7.929    7.948  \n",
       "10 Azerbaijan          Asia           7.459    7.487    7.597    7.644  \n",
       "   pop_1996 pop_1997 pop_1998 pop_1999 ⋯ rgdp_2014   rgdp_2015  rgdp_2016  \n",
       "1      NA       NA       NA       NA   ⋯   59596.317   60376.08   61804.471\n",
       "2   3.168    3.148    3.129    3.109   ⋯   29830.976   30500.45   31522.827\n",
       "3  28.566   29.045   29.507   29.965   ⋯  527682.945  547207.20  565261.451\n",
       "4  15.148   15.603   16.071   16.553   ⋯  168445.315  173500.40  172089.667\n",
       "5   0.068    0.070    0.072    0.074   ⋯    1927.521    2006.99    2115.322\n",
       "6  35.196   35.604   36.005   36.399   ⋯  807956.578  830014.09  814885.003\n",
       "7   3.170    3.140    3.110    3.090   ⋯   23151.200   23902.74   23971.259\n",
       "8  18.330   18.510   18.706   18.919   ⋯ 1055467.357 1081552.36 1110171.577\n",
       "9   7.959    7.968    7.977    7.992   ⋯  379399.644  383560.32  389112.448\n",
       "10  7.726    7.800    7.877    7.953   ⋯  160353.029  161394.24  156397.466\n",
       "   rgdp_2017   rgdp_2018   rgdp_2019   rgdp_2020   rgdp_2021   rgdp_2022 \n",
       "1    63353.223   64937.072   66873.761   69202.210   71958.867   75185.01\n",
       "2    32763.064   33977.362   35265.949   36628.799   38064.609   39562.10\n",
       "3   576494.308  594015.951  610220.917  621442.475  628288.457  632470.09\n",
       "4   173326.726  177077.960  181350.897  187947.539  195907.567  205214.15\n",
       "5     2174.303    2250.925    2318.715    2376.677    2423.931    2471.85\n",
       "6   838220.552  854593.203  882072.338  909620.490  938666.874  969221.80\n",
       "7    25761.791   26635.561   27565.600   28537.651   29591.179   30772.36\n",
       "8  1135362.364 1168997.672 1205032.610 1239882.125 1272710.104 1305889.54\n",
       "9   400410.321  410984.382  418965.064  425281.137  431655.080  438135.27\n",
       "10  156495.959  159669.948  165830.894  171843.704  176553.698  181340.34\n",
       "   rgdp_2023  \n",
       "1    78933.867\n",
       "2    41118.684\n",
       "3   635419.898\n",
       "4   215197.671\n",
       "5     2520.443\n",
       "6  1001203.869\n",
       "7    32000.697\n",
       "8  1339640.053\n",
       "9   444685.649\n",
       "10  186065.988"
      ]
     },
     "metadata": {},
     "output_type": "display_data"
    }
   ],
   "source": [
    "library(tidyverse)\n",
    "library(readxl)\n",
    "\n",
    "# Your answer here!\n",
    "\n",
    "# START\n",
    "weo_data <- read_excel(path = \"WEO-2018.xlsx\", sheet = 1)\n",
    "head(weo_data, 10)\n",
    "# END  "
   ]
  },
  {
   "cell_type": "code",
   "execution_count": null,
   "id": "e266d16c-251f-412f-992c-05749738390d",
   "metadata": {},
   "outputs": [],
   "source": [
    "xx"
   ]
  },
  {
   "cell_type": "markdown",
   "id": "6474e08f-d1c8-48a2-946f-301e26d450ed",
   "metadata": {},
   "source": [
    "# Exercise 3: Bayes rule"
   ]
  },
  {
   "cell_type": "markdown",
   "id": "6236f275-5571-47e7-9676-962ec991eb27",
   "metadata": {},
   "source": [
    "Suppose that you are interested in testing the performance of a new spam filter. This filter analyzes incoming emails and quarantines those that are assessed as potential spam. Emails can either be spam (S) or not spam (NS), and the filter can either move emails to a separate folder for quarantine (Q) or leave them in the main inbox folder (NQ). Assume that the test has a sensitivity (P(Q|S)) of 80% and a specificity (P(NQ|NS) of 95%, and suppose that the typical proportion of email that is spam is 10%. "
   ]
  },
  {
   "cell_type": "markdown",
   "id": "6d98d64c-60e3-456e-b6a9-8b16650e1f91",
   "metadata": {},
   "source": [
    "**a. Imagine that you are asked to evaluate the performance of the spam filter by calculating its *positive predictive value* (the probability that an email is spam given that the filter placed it in quarantine). Calculate P(S|Q).**"
   ]
  },
  {
   "cell_type": "markdown",
   "id": "63190466-51af-4a60-a885-6dcb24d66904",
   "metadata": {},
   "source": [
    "`Your answer here!`\n",
    "\n",
    "##### START\n",
    "\n",
    "Below is the information that we were given: \n",
    "\n",
    "\\begin{align*}\n",
    "P(Q|S) &= 0.8 \\\\\n",
    "P(NQ│S) &= 1-0.8=0.2 \\\\\n",
    "P(NQ│NS) &= 0.95 \\\\\n",
    "P(Q│NS) &= 1- 0.95 =0.05 \\\\\n",
    "P(S) &= 0.1 \\\\\n",
    "P(NS) &= 1-0.1 = 0.9\n",
    "\\end{align*}\n",
    "\n",
    "We will use two approaches to solve this question: the first one is filling a 2x2 probability table and the second one consists on applying the Bayes Rule formula. Let's start with approach 1. We want to fill the table below with joint probabilities:\n",
    "\n",
    "\n",
    "|  | Spam | Not Spam | Row sums\n",
    "| --- | --- | --- | --- \n",
    "| Q | P(Q \\& S)  |  P(Q \\& NS) | P(Q)\n",
    "| NQ | P(NQ \\& S) |  P(NQ \\& NS) | P(NQ)\n",
    "| Col sums | P(S) |  P(NS)  | 1 \n",
    "\n",
    "Let’s calculate all 4 joint probabilities and fill the table:\n",
    "\\begin{align*}\n",
    "P(Q \\& S) &= P(Q | S ) * P(S)=0.8 * 0.1 =0.08 \\\\\n",
    "P(Q \\& NS) &= P(Q | NS) * P(NS) = (1-0.95) * 0.9 = 0.045 \\\\\n",
    "P(NQ \\& S) &= P(NQ | S) * P(S) = (1-0.8) * 0.1 = 0.02 \\\\ \n",
    "P(NQ \\& NS) &= P(NQ | NS) * P(NS) = 0.95 * 0.9 =0.855\n",
    "\\end{align*}\n",
    "\n",
    "|  | Spam | Not Spam | Row sums\n",
    "| --- | --- | --- | --- \n",
    "| Q | 0.08  |  0.045 | 0.125\n",
    "| NQ | 0.02 |  0.855 | 0.875\n",
    "| Col sums | 0.10 |  0.90  | 1 \n",
    "\n",
    "The question tells us that the filter placed the email in quarantine, so we know this case falls in either the top left or top right quadrants of the table. Now we calculate the probability of spam, given that the filter put the email in quarantine: \n",
    "\\begin{align*}\n",
    "P(S |Q) &=  \\frac{P(Q \\& S)}{P(Q)}  \\\\\n",
    " &=  \\frac{\\text{top left quadrant}}{\\text{top left quadrant + top right quadrant}}  \\\\\n",
    " &=  \\frac{0.08}{0.08+0.045}  = 0.640\n",
    "\\end{align*}\n",
    "\n",
    "Alternatively, we can directly apply Bayes Rule (approach 2):\n",
    "\n",
    "\\begin{align*}\n",
    "P(S│Q) &= \\frac{P(Q \\& S)}{P(Q)} \\\\\n",
    "        &= \\frac{P(Q \\& S)}{P(Q \\& S)+P(Q \\& NS)} \\\\\n",
    "        &= \\frac{P(Q│S)*P(S)}{P(Q│S)*P(S)+P(Q│NS)*P(NS)} \\\\\n",
    "        &= \\frac{0.8 * 0.1}{0.8 * 0.1+(1-0.95) * 0.9}  = 0.640\n",
    "\\end{align*}\n",
    "\n",
    "##### END"
   ]
  },
  {
   "cell_type": "markdown",
   "id": "4957b1af-5f48-4565-a47c-755eb0e00be4",
   "metadata": {},
   "source": [
    "**b. Calculate the probability that an email is not spam if the email was not placed in quarantine: P(NS|NQ).**"
   ]
  },
  {
   "cell_type": "markdown",
   "id": "f0de6e7e-abb7-4b2e-a479-c0ad44f5a339",
   "metadata": {},
   "source": [
    "`Your answer here!`\n",
    "\n",
    "##### START\n",
    "\n",
    "Using the information from the table, we calculate: \n",
    "\n",
    "\\begin{align*}\n",
    "P(NS |NQ) &=  \\frac{P(NQ \\& NS)}{P(NQ)}  \\\\\n",
    " &=  \\frac{\\text{bottom right quadrant}}{\\text{bottom left quadrant + bottom right quadrant}}  \\\\\n",
    " &=  \\frac{0.855}{0.02+0.855}  = 0.977\n",
    "\\end{align*}\n",
    "\n",
    "##### END"
   ]
  },
  {
   "cell_type": "markdown",
   "id": "d06ffcf4-79b6-476f-bfbd-0a8884efad53",
   "metadata": {},
   "source": [
    "# Exercise 4: Discrete random variables"
   ]
  },
  {
   "cell_type": "markdown",
   "id": "d2a8e0b7-515e-436f-b6c3-4498a449e313",
   "metadata": {},
   "source": [
    "The number of tornadoes in a year is a random variable with the probability distribution given below."
   ]
  },
  {
   "cell_type": "markdown",
   "id": "473adcd4-4f3e-43e9-81b0-e49562867043",
   "metadata": {},
   "source": [
    "| Number of tornadoes | Probability\n",
    "| --- | ---\n",
    "| 0 | 0.850\n",
    "| 1 | 0.100\n",
    "| 2 | 0.030\n",
    "| 3 | 0.015\n",
    "| 4 | 0.005\n",
    "| 5 or more | 0\n"
   ]
  },
  {
   "cell_type": "markdown",
   "id": "a10d075f-b3e9-476e-8108-644c92ac96bd",
   "metadata": {},
   "source": [
    "**1. Calculate the expected number of tornadoes in a year.**"
   ]
  },
  {
   "cell_type": "markdown",
   "id": "6725da6a-9168-4cb8-b275-a58899120854",
   "metadata": {},
   "source": [
    "`Your answer here!`\n",
    "\n",
    "##### START\n",
    "\n",
    "For a discrete random variable $X$, its expected value can be calculated as $E[X] = \\sum x \\cdot p(x)$. In this case, the expected number of tornadoes in a year is equal to 0.225.\n",
    "\n",
    "##### END"
   ]
  },
  {
   "cell_type": "markdown",
   "id": "96769cd4-1171-4350-a123-6259f98bd70c",
   "metadata": {},
   "source": [
    "**2. What is the expected number of tornadoes in 10 years?**"
   ]
  },
  {
   "cell_type": "markdown",
   "id": "ce8474ea-f157-4de9-a5ef-0546558871ba",
   "metadata": {},
   "source": [
    "`Your answer here!`\n",
    "\n",
    "##### START\n",
    "\n",
    "Let $X_t$ be a discrete random variable for the number of tornadoes in year *t*. Then the number of tornadoes in 10 years is $Y = X_1 + X_2 + ... + X_{10}$. By **linearity of expectations**, the expectation of a sum is equal to the sum of expectations:\n",
    "\n",
    "\\begin{align*}\n",
    "E[Y] &= E[X_1 + X_2 + ... + X_{10}] \\\\\n",
    "     &= E[X_1] + E[X_2] + ... + E[X_{10}] \\\\\n",
    "     &= 10 \\times E[X_t] \\\\\n",
    "     &= 10 \\times 0.225 \\\\\n",
    "     &= 2.25\n",
    "\\end{align*}\n",
    "\n",
    "We would expect the city to be affected by 2.25 tornadoes in 10 years.\n",
    "\n",
    "##### END"
   ]
  },
  {
   "cell_type": "markdown",
   "id": "f5a27353-7ddf-4c9a-8178-555d66076bef",
   "metadata": {},
   "source": [
    "**3. What is the probability of being affected by at least one tornado in 10 years?**"
   ]
  },
  {
   "cell_type": "markdown",
   "id": "eba66da7-15a8-45e7-a8a8-44e20dbfaaec",
   "metadata": {},
   "source": [
    "#### Your answer here!\n",
    "\n",
    "##### START\n",
    "The probability of any tornadoes in 10 years is equal to 1 minus the probability of no tornadoes in 10 years, which is easier to calculate.\n",
    "\n",
    "$$\\Pr(\\mbox{Any Tornadoes}) = 1 - \\Pr(\\mbox{No Tornadoes})$$\n",
    "\n",
    "If we assume that tornado risk is independent across years (e.g. exposure to a tornado in year 1 is unrelated to exposure in year 2, 3, 4, ...) then we can write the probability of no tornadoes in 10 years as the following:\n",
    "\n",
    "$$\\Pr(\\mbox{No Tornadoes}) = 0.85^{10} = 0.197$$\n",
    "\n",
    "From the first equation, the answer is 80\\%:\n",
    "\n",
    "$$\\Pr(\\mbox{Any Tornadoes}) = 1 - 0.197 = 0.803$$\n",
    "##### END"
   ]
  },
  {
   "cell_type": "markdown",
   "id": "3b0589d7-677a-4855-add5-c4157782b355",
   "metadata": {},
   "source": [
    "**4. These calculations can also be obtained in R through simulation. Read the code below.**"
   ]
  },
  {
   "cell_type": "code",
   "execution_count": 105,
   "id": "4e1fd9f4-ab11-43cb-9d2e-b87bb2ea4de6",
   "metadata": {},
   "outputs": [
    {
     "data": {
      "text/html": [
       "0.225"
      ],
      "text/latex": [
       "0.225"
      ],
      "text/markdown": [
       "0.225"
      ],
      "text/plain": [
       "[1] 0.225"
      ]
     },
     "metadata": {},
     "output_type": "display_data"
    }
   ],
   "source": [
    "# Expected number of tornadoes in ayera\n",
    "num_tornadoes <- c(0, 1, 2, 3, 4, 5)\n",
    "p <- c(.85, .1, .03, .015, .005, 0)\n",
    "sum(num_tornadoes*p)"
   ]
  },
  {
   "cell_type": "code",
   "execution_count": 106,
   "id": "6e570f7e-d82a-404d-b09d-38efe6bca7ba",
   "metadata": {},
   "outputs": [
    {
     "data": {
      "text/html": [
       "0.2344"
      ],
      "text/latex": [
       "0.2344"
      ],
      "text/markdown": [
       "0.2344"
      ],
      "text/plain": [
       "[1] 0.2344"
      ]
     },
     "metadata": {},
     "output_type": "display_data"
    }
   ],
   "source": [
    "# Expected number of tornadoes in a year (simulation)\n",
    "mean(sample(num_tornadoes,10000, prob = p, replace = TRUE))"
   ]
  },
  {
   "cell_type": "code",
   "execution_count": 108,
   "id": "729bb30d-1440-4e83-b0a0-356a0a1f0b57",
   "metadata": {},
   "outputs": [
    {
     "data": {
      "text/html": [
       "2.2439"
      ],
      "text/latex": [
       "2.2439"
      ],
      "text/markdown": [
       "2.2439"
      ],
      "text/plain": [
       "[1] 2.2439"
      ]
     },
     "metadata": {},
     "output_type": "display_data"
    }
   ],
   "source": [
    "# Expected number of tornadoes in 10 years (simulation)\n",
    "mean(replicate(10000,sum(sample(num_tornadoes,10, prob = p, replace = TRUE))))"
   ]
  },
  {
   "cell_type": "code",
   "execution_count": 109,
   "id": "5826ec98-13ea-4105-82b9-47d3e831334b",
   "metadata": {},
   "outputs": [
    {
     "data": {
      "text/html": [
       "0.8008"
      ],
      "text/latex": [
       "0.8008"
      ],
      "text/markdown": [
       "0.8008"
      ],
      "text/plain": [
       "[1] 0.8008"
      ]
     },
     "metadata": {},
     "output_type": "display_data"
    }
   ],
   "source": [
    "# Prob at least one tornado in 10 years\n",
    "mean(replicate(10000,sum(sample(num_tornadoes,10, prob = p, replace = TRUE)))>0)"
   ]
  },
  {
   "cell_type": "markdown",
   "id": "4f52c81a-c5f1-4346-a5c2-47c0e00cd0f3",
   "metadata": {},
   "source": [
    "# Exercise 5: Continuous random variables + decision tree"
   ]
  },
  {
   "cell_type": "code",
   "execution_count": null,
   "id": "04b6f501-dcc3-4069-b5ce-657cb3ed6c0f",
   "metadata": {},
   "outputs": [],
   "source": [
    "xx rainfall, etc."
   ]
  }
 ],
 "metadata": {
  "colab": {
   "collapsed_sections": [],
   "provenance": []
  },
  "kernelspec": {
   "display_name": "R",
   "language": "R",
   "name": "ir"
  },
  "language_info": {
   "codemirror_mode": "r",
   "file_extension": ".r",
   "mimetype": "text/x-r-source",
   "name": "R",
   "pygments_lexer": "r",
   "version": "4.2.1"
  }
 },
 "nbformat": 4,
 "nbformat_minor": 5
}

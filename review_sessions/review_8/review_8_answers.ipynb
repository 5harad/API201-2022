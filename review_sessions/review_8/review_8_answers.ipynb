{
 "cells": [
  {
   "cell_type": "markdown",
   "id": "4839cd02-22e6-4e06-9617-eccba2b91eb8",
   "metadata": {
    "id": "4839cd02-22e6-4e06-9617-eccba2b91eb8",
    "tags": []
   },
   "source": [
    "# API-201 ABC REVIEW SESSION #8\n",
    "\n",
    "**Friday, November 4**"
   ]
  },
  {
   "cell_type": "markdown",
   "id": "TpMW4e3jQarq",
   "metadata": {
    "id": "TpMW4e3jQarq"
   },
   "source": [
    "# Table of Contents\n",
    "1. [Lecture Recap](#Lecture-Recap)\n",
    "2. [Exercise 1 - Applying Statistical Significance](#Exercise1)\n",
    "3. [Exercise 2 - Factors Associated with Infant Birth Weight](#Exercise2)"
   ]
  },
  {
   "cell_type": "markdown",
   "id": "G7rWjus2gvIV",
   "metadata": {
    "id": "G7rWjus2gvIV"
   },
   "source": [
    "# Lecture Recap <a class=\"anchor\" id=\"Lecture-Recap\"></a>"
   ]
  },
  {
   "cell_type": "markdown",
   "id": "fOfiNTWc2ya2",
   "metadata": {
    "id": "fOfiNTWc2ya2"
   },
   "source": [
    "## Statistical power \n",
    "\n",
    "* A **type 1 error** occurs when the null hypothesis is true, but the test incorrectly rejects it: **P(Reject|$H_0$ is true)**. \n",
    "    * Usually 5% because this corresponds to a rule of assuming the null hypothesis is true and rejecting it only if the results as extreme as observed would have occurred by chance 5% of the time if true.\n",
    "    \n",
    "* A **type 2 error** occurs when the null hypothesis is false, but the test fails to reject it: **P(Fail to reject|$H_0$ is false)**. \n",
    "\n",
    "* Type 2 error is related to power, as **Power = 1 – P(Fail to reject|$H_0$ is false).** Statistical power is the probability of detecting an effect when there is one.\n",
    "* A study is **under-powered** when a study does not have enough power to detect practically significant effects. If a study had no detectable impact of an outcome of interest, then either there is no effect or the study is under-powered.\n",
    "* Power increases with the size of the effect (in terms of absolute value) and with the sample size. \n",
    "    * A larger true effect size is further away from zero, and so the sampling distribution is centered around a number further from the null hypothesis. Therefore confidence intervals are less likely to include the null hypothesis of zero.\n",
    "    * When you increase the sample size, if there is a true effect, the sampling distribution will become tighter around the true effect, shrinking the width of confidence intervals and making it less likely to reject the null.\n",
    "\n"
   ]
  },
  {
   "cell_type": "markdown",
   "id": "aef0402e-8c6b-4810-9e47-e0059e0a89bb",
   "metadata": {},
   "source": [
    "### Power calculations in R"
   ]
  },
  {
   "cell_type": "markdown",
   "id": "06be1555-4335-499f-9b08-854ce025fb65",
   "metadata": {},
   "source": [
    "We can use the `pwr` package in R to perform power calculations. For calculating the power of a test of the difference of two proportions with the same sample size we can use the function `pwr.2p.test`. If we provide the sample size `n` and the true difference in proportions `h`, we can calculate the power: the probability a random sample will reject the null."
   ]
  },
  {
   "cell_type": "code",
   "execution_count": 58,
   "id": "e685cfcc-066c-4aa1-9246-c6ffcd058f6c",
   "metadata": {},
   "outputs": [
    {
     "data": {
      "text/plain": [
       "\n",
       "     Difference of proportion power calculation for binomial distribution (arcsine transformation) \n",
       "\n",
       "              h = 0.1\n",
       "              n = 1000\n",
       "      sig.level = 0.05\n",
       "          power = 0.6087795\n",
       "    alternative = two.sided\n",
       "\n",
       "NOTE: same sample sizes\n"
      ]
     },
     "metadata": {},
     "output_type": "display_data"
    }
   ],
   "source": [
    "library(pwr)\n",
    "\n",
    "# What is my power given effect size of 0.1 and sample size of 1000?\n",
    "pwr.2p.test(h = 0.1, n = 1000)"
   ]
  },
  {
   "cell_type": "markdown",
   "id": "4972558d-e2a2-46f2-ac45-1185ce146384",
   "metadata": {},
   "source": [
    "We can use the same function to calculate the necessary sample size to get a given power, given a true difference in means."
   ]
  },
  {
   "cell_type": "code",
   "execution_count": 59,
   "id": "5c9fbead-5551-42cd-a5f8-455ac5f1d05f",
   "metadata": {},
   "outputs": [
    {
     "data": {
      "text/plain": [
       "\n",
       "     Difference of proportion power calculation for binomial distribution (arcsine transformation) \n",
       "\n",
       "              h = 0.1\n",
       "              n = 1569.772\n",
       "      sig.level = 0.05\n",
       "          power = 0.8\n",
       "    alternative = two.sided\n",
       "\n",
       "NOTE: same sample sizes\n"
      ]
     },
     "metadata": {},
     "output_type": "display_data"
    }
   ],
   "source": [
    "# What sample size do I need to detect a significant difference in 80% of random samples \n",
    "# if the true difference is 10 percentage points?\n",
    "pwr.2p.test(h = 0.1, power = 0.80)"
   ]
  },
  {
   "cell_type": "markdown",
   "id": "9fce4b31-073c-4db9-8452-a3a4cfbb77ef",
   "metadata": {},
   "source": [
    "Lastly, we can calculate the true difference that we could detect given power and sample size. This is sometimes called the **minimum detectable effect**."
   ]
  },
  {
   "cell_type": "code",
   "execution_count": 60,
   "id": "cefa2b78-e1d9-4f54-9200-86ca2245f9eb",
   "metadata": {},
   "outputs": [
    {
     "data": {
      "text/plain": [
       "\n",
       "     Difference of proportion power calculation for binomial distribution (arcsine transformation) \n",
       "\n",
       "              h = 0.1252923\n",
       "              n = 1000\n",
       "      sig.level = 0.05\n",
       "          power = 0.8\n",
       "    alternative = two.sided\n",
       "\n",
       "NOTE: same sample sizes\n"
      ]
     },
     "metadata": {},
     "output_type": "display_data"
    }
   ],
   "source": [
    "# For what true difference will I have power of 0.8 given a sample size of 1000?\n",
    "pwr.2p.test(n = 1000, power = 0.80)"
   ]
  },
  {
   "cell_type": "markdown",
   "id": "fc07c8a6-a05e-4bbf-ace2-326b0900d32b",
   "metadata": {},
   "source": [
    "**When would each of these calculations be helpful?**\n",
    "\n",
    "Note, the `pwr` package also has other functions for calculating the power of many other tests, including a difference of proportions with different sample sizes."
   ]
  },
  {
   "cell_type": "markdown",
   "id": "4d55d0e1-c2fe-4843-b135-02eff977f881",
   "metadata": {
    "id": "4d55d0e1-c2fe-4843-b135-02eff977f881"
   },
   "source": [
    "# Exercise 1: Applying Statistical Significance <a class=\"anchor\" id=\"Exercise1\"></a>"
   ]
  },
  {
   "cell_type": "markdown",
   "id": "12428e90-54be-4b2f-8a04-19a91e1834cc",
   "metadata": {},
   "source": [
    "## Example 1\n",
    "**Despite following the same protocols, replications of published experiments frequently find effects of smaller magnitude or opposite sign than those in the initial studies. Provide one explanation for this fact.**\n",
    "\n",
    "##### START\n",
    "Journal editors and referees may be more likely to publish results that are statistically significant, that confirm some prior belief or, conversely, that are surprising. Researchers in turn face strong incentives to select which findings to write up and submit to journals based on the likelihood of ultimate publication. These behaviors lead to publication bias (Andrews and Kasy, 2019). \n",
    "\n",
    "This is related to **Principle 1**: *Consider what is being shown and what is not being shown.*\n",
    "##### END"
   ]
  },
  {
   "cell_type": "markdown",
   "id": "c6ce417d-cffa-4f80-bd6a-424dff88b310",
   "metadata": {},
   "source": [
    "## Example 2\n",
    "**When asked about health insurance coverage during the past 6 months, some people report whether they used health services in the last 6 months instead. Is this an example of measurement error? If so, do you think it is a systematic or random error?**\n",
    "\n",
    "##### START\n",
    "This is an example of measurement error. Poor households might be less familiar with insurance coverage, so they might be more likely to misreport their coverage status. If that’s the case, this is more likely a systematic error. \n",
    "\n",
    "This is related to **Principle 2**: *Understand where the data come from.*\n",
    "##### END\n"
   ]
  },
  {
   "cell_type": "markdown",
   "id": "4c1591d3-97a1-422d-a4ba-2724960961c7",
   "metadata": {},
   "source": [
    "## Example 3 \n",
    "\n",
    "*Inspired by https://www.scribbr.com/research-bias/attrition-bias/)*\n",
    "\n",
    "**You want to investigate whether an educational program can reduce the risk of drug abuse for college students. You have a treatment and control group, and will complete three waves of data collection to compare outcomes: a pre-test survey, one surveys during the program, and a post-test survey. Many students drop out over time, leading to a smaller sample at each point in time. We call this phenomenon *attrition*.**\n",
    "\n",
    "\n",
    "**1. While checking your study data, you find no statistically significant differences between students who leave and those who stay. Is attrition a concern in this case?**\n",
    "\n",
    "##### START\n",
    "When attrition is random we don’t have to worry about attrition bias. However, attrition can still be harmful because it reduces your statistical power. \n",
    "##### END\n",
    "\n",
    "**2. Now supposes that acording to the data, participants who leave report significantly higher levels of drug use than participants who stay. Is attrition a concern in this case?**\n",
    "\n",
    "##### START\n",
    "The study suffers from attrition bias, as participants who leave differ in specific ways from those who remain. They might drop out from the control group relative more often than from the treatment group, making the two groups less comparable. Ideally, we want both groups to be as similar as possible, differing only in terms of the intervention they receive.\n",
    "\n",
    "This is related to **Principle 2**: *Understand where the data come from.*\n",
    "##### END"
   ]
  },
  {
   "cell_type": "markdown",
   "id": "07b86331-1f52-4648-bc2b-a79a79b34a64",
   "metadata": {},
   "source": [
    "## Example 4\n",
    "**You suspect that female HKS students are more likely to have dogs than male HKS students. However your fellow student tells you they randomly surveyed 30 male students and 30 female students and calculated a p-value of 0.27 for the difference of proportions, so they say there is no difference. You obtain the data from your peer's study and find that 20% of female students have dogs and 10% of male students have dogs. The 95% confidence interval for the difference of proportions is [-0.08, 0.28]. Who is right?**"
   ]
  },
  {
   "cell_type": "markdown",
   "id": "e8b37cb1-5581-4c74-9183-b6db1d158660",
   "metadata": {},
   "source": [
    "##### START\n",
    "\n",
    "It is hard to say given the evidence. Your peer's under-powered study demonstrates a difference in the sample, but that difference may result from sampling fluctuations. If you are determined to know the truth, you should conduct your own study with a larger sample after calculating the sample size you need to achieve adequate power.\n",
    "\n",
    "##### END"
   ]
  },
  {
   "cell_type": "markdown",
   "id": "ed81cdbc-4ec7-441c-b1bf-cd0d96be7a32",
   "metadata": {},
   "source": [
    "## Example 5\n",
    "**A growing literature finds evidence of *racial concordance* in medicine, wherein black patients have better health outcomes if they have black doctors rather than doctors of another race. You are interested if black women are more likely to have a black doctor than black men, so you sample 500 black women and 500 black men. You present the following bar graph of the proportions with 95% confidence intervals.**"
   ]
  },
  {
   "cell_type": "markdown",
   "id": "7bfc1fab-9844-464b-b219-573877cfe039",
   "metadata": {},
   "source": [
    "![](concordance_plot.png)"
   ]
  },
  {
   "cell_type": "markdown",
   "id": "34580a86-27e3-4c89-95b9-72b72c804ede",
   "metadata": {},
   "source": [
    "**You test the null hypothesis $H_0: p_1 - p_2 = 0$ and obtain a p-value of 0.026; therefore, you reject the null hypothesis and state that there is a statistically significant difference between black men and women. Your classmate says that cannot be true because the 95% confidence intervals overlap. Who is right?**"
   ]
  },
  {
   "cell_type": "markdown",
   "id": "4da63265-e8b0-4a20-88c1-8f927a7349b5",
   "metadata": {},
   "source": [
    "##### START\n",
    "You are right! \n",
    "\n",
    "1. When confidence intervals for two groups don't overlap, then we know there is a statistically significant difference.\n",
    "2. When confidence intervals for two groups do overlap and contain the other groups' sample proportion, we know there is no significant difference.\n",
    "3. When confidence intervals for two groups overlap but don't contain the other groups' sample proportion, then we need to test the difference of proportions to know for sure.\n",
    "\n",
    "We are in case (3.), and the test indicates we should reject.\n",
    "##### END\n"
   ]
  },
  {
   "cell_type": "markdown",
   "id": "aa4767e4-fd1f-4aac-aaac-421f605ca9d2",
   "metadata": {},
   "source": [
    "## Example 6\n",
    "**You are put in charge of a new initiative to help women pay their medical expenses. Your organization is committed to addressing disparities between men and women, so you want your resources to go to groups with the largest difference in out-of-pocket medical costs between men and women. You compare estimates from two sources:**\n",
    "\n",
    "1. A random sample of 400 men and 400 women ages 18-64. In the sample, women pay $500 on health care more than men on average each year. The 95% confidence interval is [-100, 1100].\n",
    "\n",
    "2. A large administrative dataset on the health spending of Americans ages 65+. In the sample, women pay $50 more than men on average each year. The 95% confidence interval is [40, 60].\n",
    "\n",
    "**Based on these results, would you direct funds to women under 65 or over 65?**\n",
    "\n",
    "##### START\n",
    "\n",
    "The first study finds an economically large but statistically insignificant difference in health care spending between men and women below the age of 65. The second study finds an economically small but statistically significant difference in spending between men and women above the age of 65. \n",
    "\n",
    "From these estimates we can be nearly sure there is a difference in medical spending between men and women 65+. However, this difference appears to be fairly small. If your organization's funds are allocated only to reduce disparities you may be able to help a lot of women a little bit by giving them each $50 to cover their medical costs. \n",
    "\n",
    "The random sample of under 65's indicates that there may be an economically large difference between men and women, but there is substantial uncertainty in this estimate, meaning that donors who value evidence-based philanthropy may be skeptical of donating here without more evidence. Additional research to justify donating to this group or identifying high-need individuals within the group may be useful.\n",
    "\n",
    "##### END"
   ]
  },
  {
   "cell_type": "markdown",
   "id": "9a31508d-438f-4b45-b7ae-05c417981a91",
   "metadata": {},
   "source": [
    "## Example 7\n",
    "**After a long and storied career, you find yourself on an FDA panel that will decide whether the newest migraine drug will be approved. At question is a study that found no significant difference in migraine symptoms between two groups that randomly received either the drug or a placebo. The study *did find* a significant improvement in symptoms between women ages 18-29 who received the drug relative to placebo, but there was no improvement in any other gender or age group. The company developing the drug is seeking approval for use only by women ages 18-29. If there are no known safety concerns with the drug, would you approve it?**\n",
    "\n",
    "##### START\n",
    "\n",
    "Because we reject the null hypothesis 5% of the time when it is true, as researchers test more and more hypotheses, the probability of finding at least one significant difference increases towards 100%. While the effect of the drug may truly be positive for women ages 18-29, it is also quite possible that the statistically significant effect in this group is due to sampling fluctuations in combination with multiple hypothesis testing. The company developing the drug found no significant difference in the overall population and for all but one of the age-and-gender groups. The number of tests this involves means that finding at least one significant difference if there is truly no effect was far more likely than just 5%.\n",
    "\n",
    "##### END\n"
   ]
  },
  {
   "cell_type": "markdown",
   "id": "15d86ebc-9271-46e6-afd3-8627214ee605",
   "metadata": {
    "id": "4d55d0e1-c2fe-4843-b135-02eff977f881"
   },
   "source": [
    "# Exercise 2: Factors Associated with Infant Birth Weight <a class=\"anchor\" id=\"Exercise2\"></a>"
   ]
  },
  {
   "cell_type": "code",
   "execution_count": 73,
   "id": "wkttULQHcYYW",
   "metadata": {
    "colab": {
     "base_uri": "https://localhost:8080/"
    },
    "id": "wkttULQHcYYW",
    "outputId": "9e957f22-11b6-453e-d9b5-95bf072d32ad"
   },
   "outputs": [],
   "source": [
    "library(tidyverse)\n",
    "library(MASS)\n",
    "data(birthwt)"
   ]
  },
  {
   "cell_type": "markdown",
   "id": "fb85f192-e80a-4c97-a3fe-1a72973dd9a6",
   "metadata": {
    "id": "fb85f192-e80a-4c97-a3fe-1a72973dd9a6"
   },
   "source": [
    "For this exercise, we will identify factors associated with low infant birth weight using data on 189 births collected at the Baystate Medical Centre, Springfield, Massachusetts during 1986. The variables of interest are `bwt` (birth weight) and the binary variable `low` (low birth weight)."
   ]
  },
  {
   "cell_type": "markdown",
   "id": "ec71c973-faaa-40e6-8511-5c2bd4d206b2",
   "metadata": {
    "id": "ec71c973-faaa-40e6-8511-5c2bd4d206b2"
   },
   "source": [
    "## Data Dictionary\n",
    "\n",
    "* `low`: indicator of birth weight less than 2,500 grams\n",
    "* `age`: mother's age in years\n",
    "* `lwt`: mother's weight at last menstrual period\n",
    "* `race` : mother's race (1 = white, 2 = black, 3 = other).\n",
    "* `smoke` : smoking status during pregnancy.\n",
    "* `ptl` : number of previous premature labours.\n",
    "* `ht` : history of hypertension.\n",
    "* `ui` : presence of uterine irritability.\n",
    "* `ftv` : number of physician visits during the first trimester.\n",
    "* `bwt` : birth weight in grams."
   ]
  },
  {
   "cell_type": "markdown",
   "id": "7f2a8923-f4b9-4202-8069-f0ef3bd2932a",
   "metadata": {
    "id": "7f2a8923-f4b9-4202-8069-f0ef3bd2932a"
   },
   "source": [
    "**1. Examine the first 10 rows of the data. What are some relationships that you would be interested in exploring?**"
   ]
  },
  {
   "cell_type": "code",
   "execution_count": 62,
   "id": "X8bBnuyWE5EQ",
   "metadata": {
    "colab": {
     "base_uri": "https://localhost:8080/",
     "height": 283
    },
    "id": "X8bBnuyWE5EQ",
    "outputId": "035053bd-9dea-475f-ba87-aac4e5281af9"
   },
   "outputs": [
    {
     "data": {
      "text/html": [
       "<table class=\"dataframe\">\n",
       "<caption>A data.frame: 6 × 10</caption>\n",
       "<thead>\n",
       "\t<tr><th></th><th scope=col>low</th><th scope=col>age</th><th scope=col>lwt</th><th scope=col>race</th><th scope=col>smoke</th><th scope=col>ptl</th><th scope=col>ht</th><th scope=col>ui</th><th scope=col>ftv</th><th scope=col>bwt</th></tr>\n",
       "\t<tr><th></th><th scope=col>&lt;int&gt;</th><th scope=col>&lt;int&gt;</th><th scope=col>&lt;int&gt;</th><th scope=col>&lt;int&gt;</th><th scope=col>&lt;int&gt;</th><th scope=col>&lt;int&gt;</th><th scope=col>&lt;int&gt;</th><th scope=col>&lt;int&gt;</th><th scope=col>&lt;int&gt;</th><th scope=col>&lt;int&gt;</th></tr>\n",
       "</thead>\n",
       "<tbody>\n",
       "\t<tr><th scope=row>85</th><td>0</td><td>19</td><td>182</td><td>2</td><td>0</td><td>0</td><td>0</td><td>1</td><td>0</td><td>2523</td></tr>\n",
       "\t<tr><th scope=row>86</th><td>0</td><td>33</td><td>155</td><td>3</td><td>0</td><td>0</td><td>0</td><td>0</td><td>3</td><td>2551</td></tr>\n",
       "\t<tr><th scope=row>87</th><td>0</td><td>20</td><td>105</td><td>1</td><td>1</td><td>0</td><td>0</td><td>0</td><td>1</td><td>2557</td></tr>\n",
       "\t<tr><th scope=row>88</th><td>0</td><td>21</td><td>108</td><td>1</td><td>1</td><td>0</td><td>0</td><td>1</td><td>2</td><td>2594</td></tr>\n",
       "\t<tr><th scope=row>89</th><td>0</td><td>18</td><td>107</td><td>1</td><td>1</td><td>0</td><td>0</td><td>1</td><td>0</td><td>2600</td></tr>\n",
       "\t<tr><th scope=row>91</th><td>0</td><td>21</td><td>124</td><td>3</td><td>0</td><td>0</td><td>0</td><td>0</td><td>0</td><td>2622</td></tr>\n",
       "</tbody>\n",
       "</table>\n"
      ],
      "text/latex": [
       "A data.frame: 6 × 10\n",
       "\\begin{tabular}{r|llllllllll}\n",
       "  & low & age & lwt & race & smoke & ptl & ht & ui & ftv & bwt\\\\\n",
       "  & <int> & <int> & <int> & <int> & <int> & <int> & <int> & <int> & <int> & <int>\\\\\n",
       "\\hline\n",
       "\t85 & 0 & 19 & 182 & 2 & 0 & 0 & 0 & 1 & 0 & 2523\\\\\n",
       "\t86 & 0 & 33 & 155 & 3 & 0 & 0 & 0 & 0 & 3 & 2551\\\\\n",
       "\t87 & 0 & 20 & 105 & 1 & 1 & 0 & 0 & 0 & 1 & 2557\\\\\n",
       "\t88 & 0 & 21 & 108 & 1 & 1 & 0 & 0 & 1 & 2 & 2594\\\\\n",
       "\t89 & 0 & 18 & 107 & 1 & 1 & 0 & 0 & 1 & 0 & 2600\\\\\n",
       "\t91 & 0 & 21 & 124 & 3 & 0 & 0 & 0 & 0 & 0 & 2622\\\\\n",
       "\\end{tabular}\n"
      ],
      "text/markdown": [
       "\n",
       "A data.frame: 6 × 10\n",
       "\n",
       "| <!--/--> | low &lt;int&gt; | age &lt;int&gt; | lwt &lt;int&gt; | race &lt;int&gt; | smoke &lt;int&gt; | ptl &lt;int&gt; | ht &lt;int&gt; | ui &lt;int&gt; | ftv &lt;int&gt; | bwt &lt;int&gt; |\n",
       "|---|---|---|---|---|---|---|---|---|---|---|\n",
       "| 85 | 0 | 19 | 182 | 2 | 0 | 0 | 0 | 1 | 0 | 2523 |\n",
       "| 86 | 0 | 33 | 155 | 3 | 0 | 0 | 0 | 0 | 3 | 2551 |\n",
       "| 87 | 0 | 20 | 105 | 1 | 1 | 0 | 0 | 0 | 1 | 2557 |\n",
       "| 88 | 0 | 21 | 108 | 1 | 1 | 0 | 0 | 1 | 2 | 2594 |\n",
       "| 89 | 0 | 18 | 107 | 1 | 1 | 0 | 0 | 1 | 0 | 2600 |\n",
       "| 91 | 0 | 21 | 124 | 3 | 0 | 0 | 0 | 0 | 0 | 2622 |\n",
       "\n"
      ],
      "text/plain": [
       "   low age lwt race smoke ptl ht ui ftv bwt \n",
       "85 0   19  182 2    0     0   0  1  0   2523\n",
       "86 0   33  155 3    0     0   0  0  3   2551\n",
       "87 0   20  105 1    1     0   0  0  1   2557\n",
       "88 0   21  108 1    1     0   0  1  2   2594\n",
       "89 0   18  107 1    1     0   0  1  0   2600\n",
       "91 0   21  124 3    0     0   0  0  0   2622"
      ]
     },
     "metadata": {},
     "output_type": "display_data"
    }
   ],
   "source": [
    "head(birthwt)"
   ]
  },
  {
   "cell_type": "markdown",
   "id": "298df12a-1ae7-4255-84f4-0add994e2451",
   "metadata": {
    "id": "298df12a-1ae7-4255-84f4-0add994e2451"
   },
   "source": [
    "**2. A baby is considered to have a low birth weight when they weigh less than 2,500 grams. Using the variable `low`, calculate the number of observations and the proportion of kids with low birth weight by mother's smoking behavior.**\n"
   ]
  },
  {
   "cell_type": "code",
   "execution_count": 63,
   "id": "OERN8G10H6YB",
   "metadata": {
    "colab": {
     "base_uri": "https://localhost:8080/",
     "height": 159
    },
    "id": "OERN8G10H6YB",
    "outputId": "27527846-cee4-4fc3-b12e-13db56fb2c36"
   },
   "outputs": [
    {
     "data": {
      "text/html": [
       "<table class=\"dataframe\">\n",
       "<caption>A tibble: 2 × 3</caption>\n",
       "<thead>\n",
       "\t<tr><th scope=col>smoke</th><th scope=col>prop_low</th><th scope=col>n</th></tr>\n",
       "\t<tr><th scope=col>&lt;int&gt;</th><th scope=col>&lt;dbl&gt;</th><th scope=col>&lt;int&gt;</th></tr>\n",
       "</thead>\n",
       "<tbody>\n",
       "\t<tr><td>0</td><td>0.2521739</td><td>115</td></tr>\n",
       "\t<tr><td>1</td><td>0.4054054</td><td> 74</td></tr>\n",
       "</tbody>\n",
       "</table>\n"
      ],
      "text/latex": [
       "A tibble: 2 × 3\n",
       "\\begin{tabular}{lll}\n",
       " smoke & prop\\_low & n\\\\\n",
       " <int> & <dbl> & <int>\\\\\n",
       "\\hline\n",
       "\t 0 & 0.2521739 & 115\\\\\n",
       "\t 1 & 0.4054054 &  74\\\\\n",
       "\\end{tabular}\n"
      ],
      "text/markdown": [
       "\n",
       "A tibble: 2 × 3\n",
       "\n",
       "| smoke &lt;int&gt; | prop_low &lt;dbl&gt; | n &lt;int&gt; |\n",
       "|---|---|---|\n",
       "| 0 | 0.2521739 | 115 |\n",
       "| 1 | 0.4054054 |  74 |\n",
       "\n"
      ],
      "text/plain": [
       "  smoke prop_low  n  \n",
       "1 0     0.2521739 115\n",
       "2 1     0.4054054  74"
      ]
     },
     "metadata": {},
     "output_type": "display_data"
    }
   ],
   "source": [
    "# Your answer here!\n",
    "\n",
    "# START\n",
    "\n",
    "# Get p_NS and p_S\n",
    "birthwt %>%\n",
    "  group_by(smoke) %>%\n",
    "    summarize(prop_low = mean(low),\n",
    "              n = n())\n",
    "\n",
    "# END"
   ]
  },
  {
   "cell_type": "markdown",
   "id": "H76vPJk6Gd7Z",
   "metadata": {
    "id": "H76vPJk6Gd7Z"
   },
   "source": [
    "**3. Denote $\\hat{p_{DS}}$ as the sample proportion of kids with low birth weight in the non-smoking group and $\\hat{p_S}$ for the smoking group. Using your results from (2), calculate the difference in proportions and the standard error of $\\hat{p_{DS}} - \\hat{p_S}$.**"
   ]
  },
  {
   "cell_type": "code",
   "execution_count": 64,
   "id": "njfcTzBBHUiR",
   "metadata": {
    "colab": {
     "base_uri": "https://localhost:8080/",
     "height": 34
    },
    "id": "njfcTzBBHUiR",
    "outputId": "9318109c-dd70-4f64-9e8d-2310c50b0ccc"
   },
   "outputs": [
    {
     "data": {
      "text/html": [
       "<style>\n",
       ".dl-inline {width: auto; margin:0; padding: 0}\n",
       ".dl-inline>dt, .dl-inline>dd {float: none; width: auto; display: inline-block}\n",
       ".dl-inline>dt::after {content: \":\\0020\"; padding-right: .5ex}\n",
       ".dl-inline>dt:not(:first-of-type) {padding-left: .5ex}\n",
       "</style><dl class=dl-inline><dt>Mean of difference in proportions</dt><dd>-0.153</dd><dt>SE of difference in proportion</dt><dd>0.0699679538867104</dd></dl>\n"
      ],
      "text/latex": [
       "\\begin{description*}\n",
       "\\item[Mean of difference in proportions] -0.153\n",
       "\\item[SE of difference in proportion] 0.0699679538867104\n",
       "\\end{description*}\n"
      ],
      "text/markdown": [
       "Mean of difference in proportions\n",
       ":   -0.153SE of difference in proportion\n",
       ":   0.0699679538867104\n",
       "\n"
      ],
      "text/plain": [
       "Mean of difference in proportions    SE of difference in proportion \n",
       "                      -0.15300000                        0.06996795 "
      ]
     },
     "metadata": {},
     "output_type": "display_data"
    }
   ],
   "source": [
    "# Your answer here!\n",
    "\n",
    "# START\n",
    "\n",
    "# Get the difference in proportion and the standard deviation\n",
    "mean_diff <- (0.252-0.405)\n",
    "sd_diff <- sqrt(0.252*(1-0.252)/115+0.405*(1-0.405)/74)\n",
    "c(\"Mean of difference in proportions\" = mean_diff,\n",
    "\"SE of difference in proportion\" = sd_diff)\n",
    "\n",
    "# END"
   ]
  },
  {
   "cell_type": "markdown",
   "id": "OvW0QerWGd_u",
   "metadata": {
    "id": "OvW0QerWGd_u"
   },
   "source": [
    "**4. What is the 95% confidence interval of $p_{DS} - p_S$?**"
   ]
  },
  {
   "cell_type": "code",
   "execution_count": 65,
   "id": "ybYk14MaHVBK",
   "metadata": {
    "colab": {
     "base_uri": "https://localhost:8080/",
     "height": 34
    },
    "id": "ybYk14MaHVBK",
    "outputId": "e7342962-7baa-47f5-a9dc-fa322b4fe0bd"
   },
   "outputs": [
    {
     "data": {
      "text/html": [
       "<style>\n",
       ".dl-inline {width: auto; margin:0; padding: 0}\n",
       ".dl-inline>dt, .dl-inline>dd {float: none; width: auto; display: inline-block}\n",
       ".dl-inline>dt::after {content: \":\\0020\"; padding-right: .5ex}\n",
       ".dl-inline>dt:not(:first-of-type) {padding-left: .5ex}\n",
       "</style><dl class=dl-inline><dt>Lower bound</dt><dd>-0.292935907773421</dd><dt>Upper bound</dt><dd>-0.0130640922265792</dd></dl>\n"
      ],
      "text/latex": [
       "\\begin{description*}\n",
       "\\item[Lower bound] -0.292935907773421\n",
       "\\item[Upper bound] -0.0130640922265792\n",
       "\\end{description*}\n"
      ],
      "text/markdown": [
       "Lower bound\n",
       ":   -0.292935907773421Upper bound\n",
       ":   -0.0130640922265792\n",
       "\n"
      ],
      "text/plain": [
       "Lower bound Upper bound \n",
       "-0.29293591 -0.01306409 "
      ]
     },
     "metadata": {},
     "output_type": "display_data"
    }
   ],
   "source": [
    "# Your answer here!\n",
    "\n",
    "# START\n",
    "\n",
    "# Construct the CI\n",
    "lb <- mean_diff - 2 * sd_diff\n",
    "ub <- mean_diff + 2 * sd_diff\n",
    "c(\"Lower bound\" = lb, \"Upper bound\" = ub)\n",
    "\n",
    "# END"
   ]
  },
  {
   "cell_type": "markdown",
   "id": "03s7pyuQGeDj",
   "metadata": {
    "id": "03s7pyuQGeDj"
   },
   "source": [
    "**5. What is the Z-score corresponding to the null hypothesis $p_{DS} - p_{S} = 0$?**"
   ]
  },
  {
   "cell_type": "code",
   "execution_count": 71,
   "id": "TFqflGcSHhII",
   "metadata": {
    "colab": {
     "base_uri": "https://localhost:8080/",
     "height": 34
    },
    "id": "TFqflGcSHhII",
    "outputId": "0e9ec06b-6545-479d-fc5d-d8ed0d9ec674"
   },
   "outputs": [
    {
     "data": {
      "text/html": [
       "<strong>z-score:</strong> -2.18671536754858"
      ],
      "text/latex": [
       "\\textbf{z-score:} -2.18671536754858"
      ],
      "text/markdown": [
       "**z-score:** -2.18671536754858"
      ],
      "text/plain": [
       "  z-score \n",
       "-2.186715 "
      ]
     },
     "metadata": {},
     "output_type": "display_data"
    }
   ],
   "source": [
    "# Your answer here!\n",
    "\n",
    "# START\n",
    "\n",
    "# Get the z-score\n",
    "z_score <- (mean_diff - 0) / sd_diff\n",
    "c(\"z-score\" = z_score)\n",
    "\n",
    "# END"
   ]
  },
  {
   "cell_type": "markdown",
   "id": "Ibv-O6cDGeH1",
   "metadata": {
    "id": "Ibv-O6cDGeH1"
   },
   "source": [
    "**6. What is the p-value corresponding to the Z-score? Is the difference in means statistically significant?**"
   ]
  },
  {
   "cell_type": "code",
   "execution_count": 72,
   "id": "uF6KoLRnHjOR",
   "metadata": {
    "colab": {
     "base_uri": "https://localhost:8080/",
     "height": 34
    },
    "id": "uF6KoLRnHjOR",
    "outputId": "cc9a540e-abfd-4d77-ef9c-36bfca67308e"
   },
   "outputs": [
    {
     "data": {
      "text/html": [
       "<strong>p-value:</strong> 0.0287633090485663"
      ],
      "text/latex": [
       "\\textbf{p-value:} 0.0287633090485663"
      ],
      "text/markdown": [
       "**p-value:** 0.0287633090485663"
      ],
      "text/plain": [
       "   p-value \n",
       "0.02876331 "
      ]
     },
     "metadata": {},
     "output_type": "display_data"
    }
   ],
   "source": [
    "# Your answer here!\n",
    "\n",
    "# START\n",
    "\n",
    "# Calculate the pvalue\n",
    "p <- 2 * pnorm(-abs(z_score))\n",
    "c(\"p-value\" = p)\n",
    "\n",
    "# END"
   ]
  },
  {
   "cell_type": "markdown",
   "id": "3tMJIpcAHt1B",
   "metadata": {
    "id": "3tMJIpcAHt1B"
   },
   "source": [
    "**7. Suppose that you are interested in estimating the mean birth weight first for kids whose mother didn't smoke during pregnancy, and then for kids whose mother did. Compute a 95% confidence interval for each one. Report your mean values and confidence intervals below.**"
   ]
  },
  {
   "cell_type": "code",
   "execution_count": 68,
   "id": "qe5kWsmKHvb4",
   "metadata": {
    "colab": {
     "base_uri": "https://localhost:8080/",
     "height": 159
    },
    "id": "qe5kWsmKHvb4",
    "outputId": "5ed880e2-69b5-4a92-b7df-aad5879c4592"
   },
   "outputs": [
    {
     "data": {
      "text/html": [
       "<table class=\"dataframe\">\n",
       "<caption>A tibble: 2 × 6</caption>\n",
       "<thead>\n",
       "\t<tr><th scope=col>smoke</th><th scope=col>bwt_mean</th><th scope=col>bwt_sd</th><th scope=col>n</th><th scope=col>bwt_lb</th><th scope=col>bwt_ub</th></tr>\n",
       "\t<tr><th scope=col>&lt;int&gt;</th><th scope=col>&lt;dbl&gt;</th><th scope=col>&lt;dbl&gt;</th><th scope=col>&lt;int&gt;</th><th scope=col>&lt;dbl&gt;</th><th scope=col>&lt;dbl&gt;</th></tr>\n",
       "</thead>\n",
       "<tbody>\n",
       "\t<tr><td>0</td><td>3055.696</td><td>752.6566</td><td>115</td><td>2915.324</td><td>3196.067</td></tr>\n",
       "\t<tr><td>1</td><td>2771.919</td><td>659.6349</td><td> 74</td><td>2618.557</td><td>2925.281</td></tr>\n",
       "</tbody>\n",
       "</table>\n"
      ],
      "text/latex": [
       "A tibble: 2 × 6\n",
       "\\begin{tabular}{llllll}\n",
       " smoke & bwt\\_mean & bwt\\_sd & n & bwt\\_lb & bwt\\_ub\\\\\n",
       " <int> & <dbl> & <dbl> & <int> & <dbl> & <dbl>\\\\\n",
       "\\hline\n",
       "\t 0 & 3055.696 & 752.6566 & 115 & 2915.324 & 3196.067\\\\\n",
       "\t 1 & 2771.919 & 659.6349 &  74 & 2618.557 & 2925.281\\\\\n",
       "\\end{tabular}\n"
      ],
      "text/markdown": [
       "\n",
       "A tibble: 2 × 6\n",
       "\n",
       "| smoke &lt;int&gt; | bwt_mean &lt;dbl&gt; | bwt_sd &lt;dbl&gt; | n &lt;int&gt; | bwt_lb &lt;dbl&gt; | bwt_ub &lt;dbl&gt; |\n",
       "|---|---|---|---|---|---|\n",
       "| 0 | 3055.696 | 752.6566 | 115 | 2915.324 | 3196.067 |\n",
       "| 1 | 2771.919 | 659.6349 |  74 | 2618.557 | 2925.281 |\n",
       "\n"
      ],
      "text/plain": [
       "  smoke bwt_mean bwt_sd   n   bwt_lb   bwt_ub  \n",
       "1 0     3055.696 752.6566 115 2915.324 3196.067\n",
       "2 1     2771.919 659.6349  74 2618.557 2925.281"
      ]
     },
     "metadata": {},
     "output_type": "display_data"
    }
   ],
   "source": [
    "# Your answer here!\n",
    "\n",
    "# START\n",
    "data_by_group <- birthwt %>%\n",
    "    group_by(smoke) %>%\n",
    "    summarize(bwt_mean = mean(bwt), \n",
    "              bwt_sd = sd(bwt),\n",
    "              n = n()) %>%\n",
    "    mutate(bwt_lb = bwt_mean - 2 * bwt_sd / sqrt(n),\n",
    "           bwt_ub = bwt_mean + 2 * bwt_sd / sqrt(n))\n",
    "data_by_group\n",
    "\n",
    "# END"
   ]
  },
  {
   "cell_type": "markdown",
   "id": "kj-gksy5Jhyk",
   "metadata": {
    "id": "kj-gksy5Jhyk"
   },
   "source": [
    "**8. Plot your estimates from (7) and add error bars for the 95% confidence interval. Is the difference in mean statistically significant?**"
   ]
  },
  {
   "cell_type": "code",
   "execution_count": 69,
   "id": "j_4pV00ZJ1Yv",
   "metadata": {
    "colab": {
     "base_uri": "https://localhost:8080/",
     "height": 437
    },
    "id": "j_4pV00ZJ1Yv",
    "outputId": "d4e29fd6-d729-4725-8cfb-cddda4b517d4"
   },
   "outputs": [
    {
     "data": {
      "image/png": "[encoded data removed]",
      "text/plain": [
       "plot without title"
      ]
     },
     "metadata": {
      "image/png": {
       "height": 420,
       "width": 420
      }
     },
     "output_type": "display_data"
    }
   ],
   "source": [
    "# Your answer here!\n",
    "\n",
    "# START\n",
    "ggplot(data_by_group, aes(x = factor(smoke), y = bwt_mean)) +\n",
    "  geom_col() +\n",
    "  geom_errorbar(aes(ymin = bwt_lb, ymax = bwt_ub),\n",
    "                color = \"red\", width = .1) +\n",
    "  scale_x_discrete(labels = c(\"Didn't smoke\", \"Smoked\")) +\n",
    "  labs(x = \"Smoking status\", y = \"Birth weight\") +\n",
    "  coord_cartesian(ylim = c(2000, 3200)) +\n",
    "  theme(axis.text = element_text(size = 14),\n",
    "        axis.title = element_text(size = 14))\n",
    "\n",
    "# END"
   ]
  },
  {
   "cell_type": "markdown",
   "id": "TyLy27cvarHE",
   "metadata": {
    "id": "TyLy27cvarHE"
   },
   "source": [
    "The two individual confidence intervals overlap, so it could go either way. We need to conduct a more careful analysis to determine whether or not there is a statistically significant difference between the\n",
    "two parameters (i.e., need to construct the confidence interval for the difference in means to be sure)."
   ]
  },
  {
   "cell_type": "markdown",
   "id": "ahjjT4kfKM_r",
   "metadata": {
    "id": "ahjjT4kfKM_r"
   },
   "source": [
    "**9. Is there a positive association between mother's weight at last menstrual period and infant birth weight? Plot both variables and calculate the correlation coefficient.**"
   ]
  },
  {
   "cell_type": "code",
   "execution_count": 70,
   "id": "ybH5SWBAKN_3",
   "metadata": {
    "colab": {
     "base_uri": "https://localhost:8080/",
     "height": 34
    },
    "id": "ybH5SWBAKN_3",
    "outputId": "3bb9d018-e943-49a7-a52b-d64555da6af9"
   },
   "outputs": [
    {
     "data": {
      "text/html": [
       "0.185733284449099"
      ],
      "text/latex": [
       "0.185733284449099"
      ],
      "text/markdown": [
       "0.185733284449099"
      ],
      "text/plain": [
       "[1] 0.1857333"
      ]
     },
     "metadata": {},
     "output_type": "display_data"
    },
    {
     "data": {
      "image/png": "[encoded data removed]",
      "text/plain": [
       "plot without title"
      ]
     },
     "metadata": {
      "image/png": {
       "height": 420,
       "width": 420
      }
     },
     "output_type": "display_data"
    }
   ],
   "source": [
    "ggplot(birthwt)+\n",
    "  geom_point(aes(x = lwt, y = bwt))\n",
    "\n",
    "cor(birthwt$lwt, birthwt$bwt)"
   ]
  }
 ],
 "metadata": {
  "colab": {
   "collapsed_sections": [],
   "provenance": []
  },
  "kernelspec": {
   "display_name": "R",
   "language": "R",
   "name": "ir"
  },
  "language_info": {
   "codemirror_mode": "r",
   "file_extension": ".r",
   "mimetype": "text/x-r-source",
   "name": "R",
   "pygments_lexer": "r",
   "version": "4.2.1"
  }
 },
 "nbformat": 4,
 "nbformat_minor": 5
}

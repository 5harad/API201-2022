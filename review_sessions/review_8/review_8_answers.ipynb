{
  "cells": [
    {
      "cell_type": "markdown",
      "id": "4839cd02-22e6-4e06-9617-eccba2b91eb8",
      "metadata": {
        "id": "4839cd02-22e6-4e06-9617-eccba2b91eb8",
        "tags": []
      },
      "source": [
        "# API-201 ABC REVIEW SESSION #8\n",
        "\n",
        "**Friday, November 4**"
      ]
    },
    {
      "cell_type": "markdown",
      "id": "TpMW4e3jQarq",
      "metadata": {
        "id": "TpMW4e3jQarq"
      },
      "source": [
        "# Table of Contents\n",
        "1. [Lecture Recap](#Lecture-Recap)\n",
        "2. [Exercise - Factors Associated with Infant Birth Weight](#Exercises)"
      ]
    },
    {
      "cell_type": "markdown",
      "id": "G7rWjus2gvIV",
      "metadata": {
        "id": "G7rWjus2gvIV"
      },
      "source": [
        "# Lecture Recap <a class=\"anchor\" id=\"Lecture-Recap\"></a>"
      ]
    },
    {
      "cell_type": "markdown",
      "id": "554ba634-f799-4bab-86d0-d28d30522613",
      "metadata": {
        "id": "554ba634-f799-4bab-86d0-d28d30522613"
      },
      "source": [
        "## Constructing confidence intervals"
      ]
    },
    {
      "cell_type": "markdown",
      "id": "8056e1b9-63b0-44a7-832a-82a136d33b73",
      "metadata": {
        "id": "8056e1b9-63b0-44a7-832a-82a136d33b73"
      },
      "source": [
        "An **estimate** is our best guess of the true value of the population parameter. There are multiple types of parameters that we could be interested in estimating. For example:\n",
        "1. Proportion: Proportion of vaccinated people that got Covid.\n",
        "2. Mean: Average consumption for people that had access to a microfinance program in India.\n",
        "3. Difference in proportions: Difference in Covid infection rates between those who got vaccinated and those who didn’t.\n",
        "4. Difference in means: Difference in average consumption between treatment\n",
        "and control groups of a microfinance program in India.\n",
        "\n",
        "We can use the sampling distribution of our estimator to tell us how confident we are in our estimate. The table below contains the information we need to construct a confidence interval for each of these parameters:\n",
        "\n",
        "|  Population parameter | Sample parameter | Mean of sampling distribution | Standard deviation of sampling distribution\n",
        "| --- | --- | --- | --- \n",
        "| $p$ | $\\hat{p}$  |  $E(\\hat{p})= p$ | $\\sqrt{\\frac{p(1-p)}{n}}$\n",
        "| $\\mu$ | $\\hat{\\mu}$ |  $E(\\hat{\\mu})= \\mu$ | $\\frac{\\sigma}{\\sqrt{n}}$\n",
        "| $p_1 - p_2$ | $\\hat{p_1} - \\hat{p_2}$ |  $E(\\hat{p_1} - \\hat{p_2})= p_1 - p_2$  | $\\sqrt{\\frac{p_1(1-p_1)}{n_1} + \\frac{p_2(1-p_2)}{n_2}}$\n",
        "| $\\mu_1 - \\mu_2$ | $\\hat{\\mu_1} - \\hat{\\mu_2}$ |  $E(\\hat{\\mu_1} - \\hat{\\mu_2})= \\mu_1 - \\mu_2$  | $\\sqrt{\\frac{\\sigma^2_1}{n_1} + \\frac{\\sigma^2_2}{n_2}}$"
      ]
    },
    {
      "cell_type": "markdown",
      "id": "c0a59ed0-8385-492f-aef8-06e5c4410919",
      "metadata": {
        "id": "c0a59ed0-8385-492f-aef8-06e5c4410919"
      },
      "source": [
        "For example, if we wanted to estimate the difference in proportions, the 95% confidence interval has the same form as before:\n",
        "\\begin{align*}\n",
        "CI = \\hat{p_1} - \\hat{p_2} \\pm 2 SD(\\hat{p_1} - \\hat{p_2})\n",
        "\\end{align*}\n",
        "\n",
        "Plugging in the standard deviation of the difference in proportions, we get:\n",
        "\n",
        "\\begin{align*}\n",
        "CI = \\hat{p_1} - \\hat{p_2} \\pm 2 \\sqrt{\\frac{\\hat{p_1}(1-\\hat{p_1})}{n_1} + \\frac{\\hat{p_2}(1-\\hat{p_2})}{n_2}}\n",
        "\\end{align*}"
      ]
    },
    {
      "cell_type": "markdown",
      "id": "9b9b2c8c-bc96-446f-8523-fd76dcb448ef",
      "metadata": {
        "id": "9b9b2c8c-bc96-446f-8523-fd76dcb448ef"
      },
      "source": [
        "## Statistical significance"
      ]
    },
    {
      "cell_type": "markdown",
      "id": "34353223-a6e1-468e-910b-fb3a1d253e9b",
      "metadata": {
        "id": "34353223-a6e1-468e-910b-fb3a1d253e9b"
      },
      "source": [
        "**Hypothesis testing** consists in posing a hypothesis concerning the value of a population parameter, drawing a sample from the population _under the assumption this hypothesis is true_, and then\n",
        "assessing the estimate with respect to the hypothesis posed. The observed value is **statistically significant** if it is unlikely under the null hypothesis. \n",
        "\n",
        "There are three different ways to compute statistical significance:\n",
        "\n",
        "**1. Checking whether our point estimate was in the feasible region under the null hypothesis.**\n",
        "\n",
        "We compute the range of likely values for the estimate if the null hypothesis were true and then check whether the actually observed value is likely under the null hypothesis. If it is unlikely (in other words, it doesn’t fall within the middle 95% of the null sampling distribution), then we reject the null hypothesis and say that our result is statistically significant. \n",
        "\n",
        "**2. Checking whether our confidence interval contained the null hypothesis.**\n",
        "\n",
        "An estimate is statistically significant if it is at least two standard deviations away from the null hypothesis, so that we reject only the most extreme 5 percent of values. \n",
        "\n",
        "The confidence interval consists of those points within two standard deviations of the estimate. So an estimate is statistically significant if its confidence interval does not contain the null hypothesis.\n",
        "\n",
        "**3. Computing a p-value.**\n",
        "\n",
        "The **p-value** is the probability of obtaining an estimate as extreme or more extreme than the one we obtained assuming our null hypothesis is true. A result is statistically significant if the p-value is less than 0.05. In other words, if the null hypothesis were true, we are unlikely to have obtained our result. \n",
        "\n",
        "We compute p-values using z-scores. The z-score tells us how many standard deviations our estimate is from the null hypothesis:\n",
        "\\begin{align*}\n",
        "z = \\frac{x-\\mu_0}{s}\n",
        "\\end{align*}\n",
        "\n",
        "where $\\mu_0$ is the null hypothesis and $s$ is the standard error.\n",
        "\n",
        "We convert z-scores to p-values with the **pnorm** function in R. For any number z, pnorm(z) returns the probability that the normal random variable is less than z standard deviations below its mean. In order to get both of the \"tails\" on the extremes of our estimate, we need to make sure we use a negative Z-score and double the value to account for both tails. So if our z-score is z, we can calculate the p-value as `2 * pnorm(-abs(z))`."
      ]
    },
    {
      "cell_type": "markdown",
      "source": [
        "## Example\n",
        "\n",
        "Suppose the Scranton branch of a large paper company wants to test that its outgoing shipment of letter-sized paper is 8.5 inches wide on average. The company randomly samples 100 pieces of paper and finds that the average width is 8.45 inches with a standard deviation of 0.1 inches. \n",
        "\n",
        "* The null hypothesis is $\\mu = 8.5$. \n",
        "* $n = 100$\n",
        "* $\\hat\\mu = 8.45$\n",
        "* $\\hat\\sigma = 0.1$.\n",
        "\n",
        "The standard error of the mean is $\\frac{\\hat\\sigma}{\\sqrt{n}} = \\frac{0.1}{\\sqrt{100}} = 0.01$ Therefore the 95% confidence interval is $[8.43, 8.47]$.\n",
        "\n",
        "The branch found that the mean width in the sample is less than 8.5, but this could just be the result of sample fluctuations. They want to know whether we have enough evidence to reject the null hypothesis that $\\mu = 8.5$, so they ask: \"if the average size truly is 8.5 inches, how unlikely is it to observe this sample mean?\"\n",
        "\n",
        "The confidence interval does not contain 8.5, so the branch **rejects this null hypothesis.** If instead the confidence interval was wide enough to include 8.5, they would **fail to reject the null hypothesis**. This could either be because the null hypothesis is true, or because the sample size is not large enough to reject it. For example, if the true mean was $\\mu = 8.4999$, the null hypothesis is technically false but because the mean is so similar, we would need to have a very large sample size to reject the null hypothesis with regularity. \n",
        "\n",
        "Alternatively, we could compute the z-score and find the p-value associated with it."
      ],
      "metadata": {
        "id": "81OWcHZ4bCap"
      },
      "id": "81OWcHZ4bCap"
    },
    {
      "cell_type": "code",
      "source": [
        "# z-score\n",
        "z_score <- (8.45-8.5)/0.01\n",
        "c(\"Z-score\" = z_score)"
      ],
      "metadata": {
        "colab": {
          "base_uri": "https://localhost:8080/",
          "height": 34
        },
        "id": "KGWoY9Sv-bCM",
        "outputId": "1aa3b67d-895a-4aa9-a0d3-d7527c106522"
      },
      "id": "KGWoY9Sv-bCM",
      "execution_count": null,
      "outputs": [
        {
          "output_type": "display_data",
          "data": {
            "text/html": [
              "<strong>Z-score:</strong> -5.00000000000007"
            ],
            "text/markdown": "**Z-score:** -5.00000000000007",
            "text/latex": "\\textbf{Z-score:} -5.00000000000007",
            "text/plain": [
              "Z-score \n",
              "     -5 "
            ]
          },
          "metadata": {}
        }
      ]
    },
    {
      "cell_type": "code",
      "source": [
        "# p-value\n",
        "p <- 2 * pnorm(-abs(z_score))\n",
        "c(\"p-value\" = p)"
      ],
      "metadata": {
        "colab": {
          "base_uri": "https://localhost:8080/",
          "height": 34
        },
        "id": "WHKbcc9f-qxS",
        "outputId": "74488719-74d0-40bb-a441-5f56bb44416c"
      },
      "id": "WHKbcc9f-qxS",
      "execution_count": null,
      "outputs": [
        {
          "output_type": "display_data",
          "data": {
            "text/html": [
              "<strong>p-value:</strong> 5.73303143758177e-07"
            ],
            "text/markdown": "**p-value:** 5.73303143758177e-07",
            "text/latex": "\\textbf{p-value:} 5.73303143758177e-07",
            "text/plain": [
              "     p-value \n",
              "5.733031e-07 "
            ]
          },
          "metadata": {}
        }
      ]
    },
    {
      "cell_type": "markdown",
      "source": [
        "XX placeholder for thursday's lecture"
      ],
      "metadata": {
        "id": "fOfiNTWc2ya2"
      },
      "id": "fOfiNTWc2ya2"
    },
    {
      "cell_type": "markdown",
      "id": "4d55d0e1-c2fe-4843-b135-02eff977f881",
      "metadata": {
        "id": "4d55d0e1-c2fe-4843-b135-02eff977f881"
      },
      "source": [
        "# Exercise: Factors Associated with Infant Birth Weight"
      ]
    },
    {
      "cell_type": "code",
      "execution_count": null,
      "id": "wkttULQHcYYW",
      "metadata": {
        "colab": {
          "base_uri": "https://localhost:8080/"
        },
        "id": "wkttULQHcYYW",
        "outputId": "9e957f22-11b6-453e-d9b5-95bf072d32ad"
      },
      "outputs": [
        {
          "output_type": "stream",
          "name": "stderr",
          "text": [
            "Installing package into ‘/usr/local/lib/R/site-library’\n",
            "(as ‘lib’ is unspecified)\n",
            "\n",
            "Warning message in system(\"timedatectl\", intern = TRUE):\n",
            "“running command 'timedatectl' had status 1”\n",
            "── \u001b[1mAttaching packages\u001b[22m ─────────────────────────────────────── tidyverse 1.3.1 ──\n",
            "\n",
            "\u001b[32m✔\u001b[39m \u001b[34mggplot2\u001b[39m 3.3.6      \u001b[32m✔\u001b[39m \u001b[34mpurrr  \u001b[39m 0.3.5 \n",
            "\u001b[32m✔\u001b[39m \u001b[34mtibble \u001b[39m 3.1.7      \u001b[32m✔\u001b[39m \u001b[34mdplyr  \u001b[39m 1.0.10\n",
            "\u001b[32m✔\u001b[39m \u001b[34mtidyr  \u001b[39m 1.2.1      \u001b[32m✔\u001b[39m \u001b[34mstringr\u001b[39m 1.4.1 \n",
            "\u001b[32m✔\u001b[39m \u001b[34mreadr  \u001b[39m 2.1.3      \u001b[32m✔\u001b[39m \u001b[34mforcats\u001b[39m 0.5.2 \n",
            "\n",
            "── \u001b[1mConflicts\u001b[22m ────────────────────────────────────────── tidyverse_conflicts() ──\n",
            "\u001b[31m✖\u001b[39m \u001b[34mdplyr\u001b[39m::\u001b[32mfilter()\u001b[39m masks \u001b[34mstats\u001b[39m::filter()\n",
            "\u001b[31m✖\u001b[39m \u001b[34mdplyr\u001b[39m::\u001b[32mlag()\u001b[39m    masks \u001b[34mstats\u001b[39m::lag()\n",
            "\u001b[31m✖\u001b[39m \u001b[34mdplyr\u001b[39m::\u001b[32mselect()\u001b[39m masks \u001b[34mMASS\u001b[39m::select()\n",
            "\n"
          ]
        }
      ],
      "source": [
        "install.packages(\"MASS\")\n",
        "library(MASS)\n",
        "library(tidyverse)\n",
        "data <- birthwt"
      ]
    },
    {
      "cell_type": "markdown",
      "id": "fb85f192-e80a-4c97-a3fe-1a72973dd9a6",
      "metadata": {
        "id": "fb85f192-e80a-4c97-a3fe-1a72973dd9a6"
      },
      "source": [
        "For this exercise, we will identify factors associated with low infant birth weight using data on 189 births collected at the Baystate Medical Centre, Springfield, Massachusetts during 1986. The variables of interest are `bwt` (birth weight) and the binary variable `low` (low birth weight)."
      ]
    },
    {
      "cell_type": "markdown",
      "id": "ec71c973-faaa-40e6-8511-5c2bd4d206b2",
      "metadata": {
        "id": "ec71c973-faaa-40e6-8511-5c2bd4d206b2"
      },
      "source": [
        "## Data Dictionary\n",
        "\n",
        "* `low`: indicator of birth weight less than 2,500 grams\n",
        "* `age`: mother's age in years\n",
        "* `lwt`: mother's weight at last menstrual period\n",
        "* `race` : mother's race (1 = white, 2 = black, 3 = other).\n",
        "* `smoke` : smoking status during pregnancy.\n",
        "* `ptl` : number of previous premature labours.\n",
        "* `ht` : history of hypertension.\n",
        "* `ui` : presence of uterine irritability.\n",
        "* `ftv` : number of physician visits during the first trimester.\n",
        "* `bwt` : birth weight in grams."
      ]
    },
    {
      "cell_type": "markdown",
      "id": "7f2a8923-f4b9-4202-8069-f0ef3bd2932a",
      "metadata": {
        "id": "7f2a8923-f4b9-4202-8069-f0ef3bd2932a"
      },
      "source": [
        "**1. Examine the first 10 rows of the data. What are some relationships that you would be interested in exploring?**"
      ]
    },
    {
      "cell_type": "code",
      "source": [
        "head(data)"
      ],
      "metadata": {
        "colab": {
          "base_uri": "https://localhost:8080/",
          "height": 283
        },
        "id": "X8bBnuyWE5EQ",
        "outputId": "035053bd-9dea-475f-ba87-aac4e5281af9"
      },
      "id": "X8bBnuyWE5EQ",
      "execution_count": null,
      "outputs": [
        {
          "output_type": "display_data",
          "data": {
            "text/html": [
              "<table class=\"dataframe\">\n",
              "<caption>A data.frame: 6 × 10</caption>\n",
              "<thead>\n",
              "\t<tr><th></th><th scope=col>low</th><th scope=col>age</th><th scope=col>lwt</th><th scope=col>race</th><th scope=col>smoke</th><th scope=col>ptl</th><th scope=col>ht</th><th scope=col>ui</th><th scope=col>ftv</th><th scope=col>bwt</th></tr>\n",
              "\t<tr><th></th><th scope=col>&lt;int&gt;</th><th scope=col>&lt;int&gt;</th><th scope=col>&lt;int&gt;</th><th scope=col>&lt;int&gt;</th><th scope=col>&lt;int&gt;</th><th scope=col>&lt;int&gt;</th><th scope=col>&lt;int&gt;</th><th scope=col>&lt;int&gt;</th><th scope=col>&lt;int&gt;</th><th scope=col>&lt;int&gt;</th></tr>\n",
              "</thead>\n",
              "<tbody>\n",
              "\t<tr><th scope=row>85</th><td>0</td><td>19</td><td>182</td><td>2</td><td>0</td><td>0</td><td>0</td><td>1</td><td>0</td><td>2523</td></tr>\n",
              "\t<tr><th scope=row>86</th><td>0</td><td>33</td><td>155</td><td>3</td><td>0</td><td>0</td><td>0</td><td>0</td><td>3</td><td>2551</td></tr>\n",
              "\t<tr><th scope=row>87</th><td>0</td><td>20</td><td>105</td><td>1</td><td>1</td><td>0</td><td>0</td><td>0</td><td>1</td><td>2557</td></tr>\n",
              "\t<tr><th scope=row>88</th><td>0</td><td>21</td><td>108</td><td>1</td><td>1</td><td>0</td><td>0</td><td>1</td><td>2</td><td>2594</td></tr>\n",
              "\t<tr><th scope=row>89</th><td>0</td><td>18</td><td>107</td><td>1</td><td>1</td><td>0</td><td>0</td><td>1</td><td>0</td><td>2600</td></tr>\n",
              "\t<tr><th scope=row>91</th><td>0</td><td>21</td><td>124</td><td>3</td><td>0</td><td>0</td><td>0</td><td>0</td><td>0</td><td>2622</td></tr>\n",
              "</tbody>\n",
              "</table>\n"
            ],
            "text/markdown": "\nA data.frame: 6 × 10\n\n| <!--/--> | low &lt;int&gt; | age &lt;int&gt; | lwt &lt;int&gt; | race &lt;int&gt; | smoke &lt;int&gt; | ptl &lt;int&gt; | ht &lt;int&gt; | ui &lt;int&gt; | ftv &lt;int&gt; | bwt &lt;int&gt; |\n|---|---|---|---|---|---|---|---|---|---|---|\n| 85 | 0 | 19 | 182 | 2 | 0 | 0 | 0 | 1 | 0 | 2523 |\n| 86 | 0 | 33 | 155 | 3 | 0 | 0 | 0 | 0 | 3 | 2551 |\n| 87 | 0 | 20 | 105 | 1 | 1 | 0 | 0 | 0 | 1 | 2557 |\n| 88 | 0 | 21 | 108 | 1 | 1 | 0 | 0 | 1 | 2 | 2594 |\n| 89 | 0 | 18 | 107 | 1 | 1 | 0 | 0 | 1 | 0 | 2600 |\n| 91 | 0 | 21 | 124 | 3 | 0 | 0 | 0 | 0 | 0 | 2622 |\n\n",
            "text/latex": "A data.frame: 6 × 10\n\\begin{tabular}{r|llllllllll}\n  & low & age & lwt & race & smoke & ptl & ht & ui & ftv & bwt\\\\\n  & <int> & <int> & <int> & <int> & <int> & <int> & <int> & <int> & <int> & <int>\\\\\n\\hline\n\t85 & 0 & 19 & 182 & 2 & 0 & 0 & 0 & 1 & 0 & 2523\\\\\n\t86 & 0 & 33 & 155 & 3 & 0 & 0 & 0 & 0 & 3 & 2551\\\\\n\t87 & 0 & 20 & 105 & 1 & 1 & 0 & 0 & 0 & 1 & 2557\\\\\n\t88 & 0 & 21 & 108 & 1 & 1 & 0 & 0 & 1 & 2 & 2594\\\\\n\t89 & 0 & 18 & 107 & 1 & 1 & 0 & 0 & 1 & 0 & 2600\\\\\n\t91 & 0 & 21 & 124 & 3 & 0 & 0 & 0 & 0 & 0 & 2622\\\\\n\\end{tabular}\n",
            "text/plain": [
              "   low age lwt race smoke ptl ht ui ftv bwt \n",
              "85 0   19  182 2    0     0   0  1  0   2523\n",
              "86 0   33  155 3    0     0   0  0  3   2551\n",
              "87 0   20  105 1    1     0   0  0  1   2557\n",
              "88 0   21  108 1    1     0   0  1  2   2594\n",
              "89 0   18  107 1    1     0   0  1  0   2600\n",
              "91 0   21  124 3    0     0   0  0  0   2622"
            ]
          },
          "metadata": {}
        }
      ]
    },
    {
      "cell_type": "markdown",
      "id": "298df12a-1ae7-4255-84f4-0add994e2451",
      "metadata": {
        "id": "298df12a-1ae7-4255-84f4-0add994e2451"
      },
      "source": [
        "**2. A baby is considered to have a low birth weight when they weigh less than 2,500 grams. Using the variable `low`, calculate the number of observations and the proportion of kids with low birth weight by mother's smoking behavior.**\n"
      ]
    },
    {
      "cell_type": "code",
      "source": [
        "# Your answer here!\n",
        "\n",
        "# START\n",
        "\n",
        "# Get p_NS and p_S\n",
        "data %>%\n",
        "  group_by(smoke) %>%\n",
        "    summarize(prop_low = mean(low),\n",
        "              n = n())\n",
        "\n",
        "# END"
      ],
      "metadata": {
        "colab": {
          "base_uri": "https://localhost:8080/",
          "height": 159
        },
        "id": "OERN8G10H6YB",
        "outputId": "27527846-cee4-4fc3-b12e-13db56fb2c36"
      },
      "id": "OERN8G10H6YB",
      "execution_count": null,
      "outputs": [
        {
          "output_type": "display_data",
          "data": {
            "text/html": [
              "<table class=\"dataframe\">\n",
              "<caption>A tibble: 2 × 3</caption>\n",
              "<thead>\n",
              "\t<tr><th scope=col>smoke</th><th scope=col>prop_low</th><th scope=col>n</th></tr>\n",
              "\t<tr><th scope=col>&lt;int&gt;</th><th scope=col>&lt;dbl&gt;</th><th scope=col>&lt;int&gt;</th></tr>\n",
              "</thead>\n",
              "<tbody>\n",
              "\t<tr><td>0</td><td>0.2521739</td><td>115</td></tr>\n",
              "\t<tr><td>1</td><td>0.4054054</td><td> 74</td></tr>\n",
              "</tbody>\n",
              "</table>\n"
            ],
            "text/markdown": "\nA tibble: 2 × 3\n\n| smoke &lt;int&gt; | prop_low &lt;dbl&gt; | n &lt;int&gt; |\n|---|---|---|\n| 0 | 0.2521739 | 115 |\n| 1 | 0.4054054 |  74 |\n\n",
            "text/latex": "A tibble: 2 × 3\n\\begin{tabular}{lll}\n smoke & prop\\_low & n\\\\\n <int> & <dbl> & <int>\\\\\n\\hline\n\t 0 & 0.2521739 & 115\\\\\n\t 1 & 0.4054054 &  74\\\\\n\\end{tabular}\n",
            "text/plain": [
              "  smoke prop_low  n  \n",
              "1 0     0.2521739 115\n",
              "2 1     0.4054054  74"
            ]
          },
          "metadata": {}
        }
      ]
    },
    {
      "cell_type": "markdown",
      "source": [
        "**3. Denote $\\hat{p_{NS}}$ as the sample proportion of kids with low birth weight in the non-smoking group and $\\hat{p_S}$ for the smoking group. Using your results from (2), calculate the difference in proportions and the standard error of $\\hat{p_{NS}} - \\hat{p_S}$.**"
      ],
      "metadata": {
        "id": "H76vPJk6Gd7Z"
      },
      "id": "H76vPJk6Gd7Z"
    },
    {
      "cell_type": "code",
      "source": [
        "# Your answer here!\n",
        "\n",
        "# START\n",
        "\n",
        "# Get the difference in proportion and the standard deviation\n",
        "mean_diff <- (0.252-0.405)\n",
        "sd_diff <- sqrt(0.252*(1-0.252)/115+0.405*(1-0.405)/74)\n",
        "c(\"Mean of difference in proportions\" = mean_diff,\n",
        "\"SE of difference in proportion\" = sd_diff)\n",
        "\n",
        "# END"
      ],
      "metadata": {
        "colab": {
          "base_uri": "https://localhost:8080/",
          "height": 34
        },
        "id": "njfcTzBBHUiR",
        "outputId": "9318109c-dd70-4f64-9e8d-2310c50b0ccc"
      },
      "id": "njfcTzBBHUiR",
      "execution_count": null,
      "outputs": [
        {
          "output_type": "display_data",
          "data": {
            "text/html": [
              "<style>\n",
              ".dl-inline {width: auto; margin:0; padding: 0}\n",
              ".dl-inline>dt, .dl-inline>dd {float: none; width: auto; display: inline-block}\n",
              ".dl-inline>dt::after {content: \":\\0020\"; padding-right: .5ex}\n",
              ".dl-inline>dt:not(:first-of-type) {padding-left: .5ex}\n",
              "</style><dl class=dl-inline><dt>Mean of difference in proportions</dt><dd>-0.153</dd><dt>SE of difference in proportion</dt><dd>0.0699679538867104</dd></dl>\n"
            ],
            "text/markdown": "Mean of difference in proportions\n:   -0.153SE of difference in proportion\n:   0.0699679538867104\n\n",
            "text/latex": "\\begin{description*}\n\\item[Mean of difference in proportions] -0.153\n\\item[SE of difference in proportion] 0.0699679538867104\n\\end{description*}\n",
            "text/plain": [
              "Mean of difference in proportions    SE of difference in proportion \n",
              "                      -0.15300000                        0.06996795 "
            ]
          },
          "metadata": {}
        }
      ]
    },
    {
      "cell_type": "markdown",
      "source": [
        "**4. What is the 95% confidence interval of $p_{NS} - p_S$?**"
      ],
      "metadata": {
        "id": "OvW0QerWGd_u"
      },
      "id": "OvW0QerWGd_u"
    },
    {
      "cell_type": "code",
      "source": [
        "# Your answer here!\n",
        "\n",
        "# START\n",
        "\n",
        "# Construct the CI\n",
        "lb <- mean_diff - 2 * sd_diff\n",
        "ub <- mean_diff + 2 * sd_diff\n",
        "c(\"Lower bound\" = lb, \"Upper bound\" = ub)\n",
        "\n",
        "# END"
      ],
      "metadata": {
        "colab": {
          "base_uri": "https://localhost:8080/",
          "height": 34
        },
        "id": "ybYk14MaHVBK",
        "outputId": "e7342962-7baa-47f5-a9dc-fa322b4fe0bd"
      },
      "id": "ybYk14MaHVBK",
      "execution_count": null,
      "outputs": [
        {
          "output_type": "display_data",
          "data": {
            "text/html": [
              "<style>\n",
              ".dl-inline {width: auto; margin:0; padding: 0}\n",
              ".dl-inline>dt, .dl-inline>dd {float: none; width: auto; display: inline-block}\n",
              ".dl-inline>dt::after {content: \":\\0020\"; padding-right: .5ex}\n",
              ".dl-inline>dt:not(:first-of-type) {padding-left: .5ex}\n",
              "</style><dl class=dl-inline><dt>Lower bound</dt><dd>-0.292935907773421</dd><dt>Upper bound</dt><dd>-0.0130640922265792</dd></dl>\n"
            ],
            "text/markdown": "Lower bound\n:   -0.292935907773421Upper bound\n:   -0.0130640922265792\n\n",
            "text/latex": "\\begin{description*}\n\\item[Lower bound] -0.292935907773421\n\\item[Upper bound] -0.0130640922265792\n\\end{description*}\n",
            "text/plain": [
              "Lower bound Upper bound \n",
              "-0.29293591 -0.01306409 "
            ]
          },
          "metadata": {}
        }
      ]
    },
    {
      "cell_type": "markdown",
      "source": [
        "**5. What is the Z-score corresponding to the null hypothesis $p_{NS} - p_{S} = 0$?**"
      ],
      "metadata": {
        "id": "03s7pyuQGeDj"
      },
      "id": "03s7pyuQGeDj"
    },
    {
      "cell_type": "code",
      "source": [
        "# Your answer here!\n",
        "\n",
        "# START\n",
        "\n",
        "# Get the z-score\n",
        "z_score <- (mean_diff - 0) / sd_diff\n",
        "c(\"z-score\" = z_score)\n",
        "\n",
        "# END"
      ],
      "metadata": {
        "colab": {
          "base_uri": "https://localhost:8080/",
          "height": 34
        },
        "id": "TFqflGcSHhII",
        "outputId": "0e9ec06b-6545-479d-fc5d-d8ed0d9ec674"
      },
      "id": "TFqflGcSHhII",
      "execution_count": null,
      "outputs": [
        {
          "output_type": "display_data",
          "data": {
            "text/html": [
              "<strong>z-score:</strong> -2.18671536754858"
            ],
            "text/markdown": "**z-score:** -2.18671536754858",
            "text/latex": "\\textbf{z-score:} -2.18671536754858",
            "text/plain": [
              "  z-score \n",
              "-2.186715 "
            ]
          },
          "metadata": {}
        }
      ]
    },
    {
      "cell_type": "markdown",
      "source": [
        "**6. What is the p-value corresponding to the Z-score? Is the difference in means statistically significant?**"
      ],
      "metadata": {
        "id": "Ibv-O6cDGeH1"
      },
      "id": "Ibv-O6cDGeH1"
    },
    {
      "cell_type": "code",
      "source": [
        "# Your answer here!\n",
        "\n",
        "# START\n",
        "\n",
        "# Calculate the pvalue\n",
        "p <- 2*pnorm(-abs(z_score))\n",
        "c(\"p-value\" = p)\n",
        "\n",
        "# END"
      ],
      "metadata": {
        "colab": {
          "base_uri": "https://localhost:8080/",
          "height": 34
        },
        "id": "uF6KoLRnHjOR",
        "outputId": "cc9a540e-abfd-4d77-ef9c-36bfca67308e"
      },
      "id": "uF6KoLRnHjOR",
      "execution_count": null,
      "outputs": [
        {
          "output_type": "display_data",
          "data": {
            "text/html": [
              "<strong>p-value:</strong> 0.0287633090485663"
            ],
            "text/markdown": "**p-value:** 0.0287633090485663",
            "text/latex": "\\textbf{p-value:} 0.0287633090485663",
            "text/plain": [
              "   p-value \n",
              "0.02876331 "
            ]
          },
          "metadata": {}
        }
      ]
    },
    {
      "cell_type": "markdown",
      "source": [
        "**7. Suppose that you are interested in estimating the mean birth weight first for kids whose mother didn't smoke during pregnancy, and then for kids whose mother did. Compute a 95% confidence interval for each one. Report your mean values and confidence intervals below.**"
      ],
      "metadata": {
        "id": "3tMJIpcAHt1B"
      },
      "id": "3tMJIpcAHt1B"
    },
    {
      "cell_type": "code",
      "source": [
        "# Your answer here!\n",
        "\n",
        "# START\n",
        "data_by_group <- data %>%\n",
        "    group_by(smoke) %>%\n",
        "    summarize(bwt_mean = mean(bwt), \n",
        "              bwt_sd = sd(bwt),\n",
        "              n = n()) %>%\n",
        "    mutate(bwt_lb = bwt_mean - 2 * bwt_sd / sqrt(n),\n",
        "           bwt_ub = bwt_mean + 2 * bwt_sd / sqrt(n))\n",
        "data_by_group\n",
        "\n",
        "# END"
      ],
      "metadata": {
        "colab": {
          "base_uri": "https://localhost:8080/",
          "height": 159
        },
        "id": "qe5kWsmKHvb4",
        "outputId": "5ed880e2-69b5-4a92-b7df-aad5879c4592"
      },
      "id": "qe5kWsmKHvb4",
      "execution_count": null,
      "outputs": [
        {
          "output_type": "display_data",
          "data": {
            "text/html": [
              "<table class=\"dataframe\">\n",
              "<caption>A tibble: 2 × 6</caption>\n",
              "<thead>\n",
              "\t<tr><th scope=col>smoke</th><th scope=col>bwt_mean</th><th scope=col>bwt_sd</th><th scope=col>n</th><th scope=col>bwt_lb</th><th scope=col>bwt_ub</th></tr>\n",
              "\t<tr><th scope=col>&lt;int&gt;</th><th scope=col>&lt;dbl&gt;</th><th scope=col>&lt;dbl&gt;</th><th scope=col>&lt;int&gt;</th><th scope=col>&lt;dbl&gt;</th><th scope=col>&lt;dbl&gt;</th></tr>\n",
              "</thead>\n",
              "<tbody>\n",
              "\t<tr><td>0</td><td>3055.696</td><td>752.6566</td><td>115</td><td>2915.324</td><td>3196.067</td></tr>\n",
              "\t<tr><td>1</td><td>2771.919</td><td>659.6349</td><td> 74</td><td>2618.557</td><td>2925.281</td></tr>\n",
              "</tbody>\n",
              "</table>\n"
            ],
            "text/markdown": "\nA tibble: 2 × 6\n\n| smoke &lt;int&gt; | bwt_mean &lt;dbl&gt; | bwt_sd &lt;dbl&gt; | n &lt;int&gt; | bwt_lb &lt;dbl&gt; | bwt_ub &lt;dbl&gt; |\n|---|---|---|---|---|---|\n| 0 | 3055.696 | 752.6566 | 115 | 2915.324 | 3196.067 |\n| 1 | 2771.919 | 659.6349 |  74 | 2618.557 | 2925.281 |\n\n",
            "text/latex": "A tibble: 2 × 6\n\\begin{tabular}{llllll}\n smoke & bwt\\_mean & bwt\\_sd & n & bwt\\_lb & bwt\\_ub\\\\\n <int> & <dbl> & <dbl> & <int> & <dbl> & <dbl>\\\\\n\\hline\n\t 0 & 3055.696 & 752.6566 & 115 & 2915.324 & 3196.067\\\\\n\t 1 & 2771.919 & 659.6349 &  74 & 2618.557 & 2925.281\\\\\n\\end{tabular}\n",
            "text/plain": [
              "  smoke bwt_mean bwt_sd   n   bwt_lb   bwt_ub  \n",
              "1 0     3055.696 752.6566 115 2915.324 3196.067\n",
              "2 1     2771.919 659.6349  74 2618.557 2925.281"
            ]
          },
          "metadata": {}
        }
      ]
    },
    {
      "cell_type": "markdown",
      "source": [
        "**8. Plot your estimates from (7) and add error bars for the 95% confidence interval. Is the difference in mean statistically significant?**"
      ],
      "metadata": {
        "id": "kj-gksy5Jhyk"
      },
      "id": "kj-gksy5Jhyk"
    },
    {
      "cell_type": "code",
      "source": [
        "# Your answer here!\n",
        "\n",
        "# START\n",
        "ggplot(data_by_group) +\n",
        "  geom_col(aes(x = smoke, y = bwt_mean)) +\n",
        "  geom_errorbar(aes(x = smoke, ymin = bwt_lb, ymax = bwt_ub),\n",
        "                color = \"red\", width = .1) +\n",
        "  scale_x_discrete(labels = c(\"Didn't smoke\", \"Smoked\")) +\n",
        "  labs(x = \"Smoking status\", y = \"Birth weight\") +\n",
        "  coord_cartesian(ylim = c(2000, 3200)) +\n",
        "  theme(axis.text = element_text(size = 14),\n",
        "        axis.title = element_text(size = 14))\n",
        "\n",
        "# END"
      ],
      "metadata": {
        "colab": {
          "base_uri": "https://localhost:8080/",
          "height": 437
        },
        "id": "j_4pV00ZJ1Yv",
        "outputId": "d4e29fd6-d729-4725-8cfb-cddda4b517d4"
      },
      "id": "j_4pV00ZJ1Yv",
      "execution_count": null,
      "outputs": [
        {
          "output_type": "display_data",
          "data": {
            "text/plain": [
              "plot without title"
            ],
            "image/png": "[encoded data removed]"
          },
          "metadata": {
            "image/png": {
              "width": 420,
              "height": 420
            }
          }
        }
      ]
    },
    {
      "cell_type": "markdown",
      "source": [
        "The two individual confidence intervals overlap, so it could go either way. We need to conduct a more careful analysis to determine whether or not there is a statistically significant difference between the\n",
        "two parameters (i.e., need to construct the confidence interval for the difference in means to be sure)."
      ],
      "metadata": {
        "id": "TyLy27cvarHE"
      },
      "id": "TyLy27cvarHE"
    },
    {
      "cell_type": "markdown",
      "source": [
        "**9. Is there a positive association between mother's weight at last menstrual period and infant birth weight? Plot both variables and calculate the correlation coefficient.**"
      ],
      "metadata": {
        "id": "ahjjT4kfKM_r"
      },
      "id": "ahjjT4kfKM_r"
    },
    {
      "cell_type": "code",
      "source": [
        "ggplot(data)+\n",
        "  geom_point(aes(x=lwt,y=bwt))\n",
        "\n",
        "cor(data$lwt,data$bwt)"
      ],
      "metadata": {
        "colab": {
          "base_uri": "https://localhost:8080/",
          "height": 34
        },
        "id": "ybH5SWBAKN_3",
        "outputId": "3bb9d018-e943-49a7-a52b-d64555da6af9"
      },
      "id": "ybH5SWBAKN_3",
      "execution_count": 31,
      "outputs": [
        {
          "output_type": "display_data",
          "data": {
            "text/html": [
              "0.185733284449099"
            ],
            "text/markdown": "0.185733284449099",
            "text/latex": "0.185733284449099",
            "text/plain": [
              "[1] 0.1857333"
            ]
          },
          "metadata": {}
        }
      ]
    }
  ],
  "metadata": {
    "colab": {
      "collapsed_sections": [],
      "provenance": []
    },
    "kernelspec": {
      "display_name": "R",
      "language": "R",
      "name": "ir"
    },
    "language_info": {
      "codemirror_mode": "r",
      "file_extension": ".r",
      "mimetype": "text/x-r-source",
      "name": "R",
      "pygments_lexer": "r",
      "version": "4.1.2"
    }
  },
  "nbformat": 4,
  "nbformat_minor": 5
}
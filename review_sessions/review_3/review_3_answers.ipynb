{
 "cells": [
  {
   "cell_type": "markdown",
   "id": "4839cd02-22e6-4e06-9617-eccba2b91eb8",
   "metadata": {
    "id": "4839cd02-22e6-4e06-9617-eccba2b91eb8"
   },
   "source": [
    "# API-201 ABC REVIEW SESSION #3\n",
    "**Friday, September 23**"
   ]
  },
  {
   "cell_type": "markdown",
   "id": "-6f4j5MrJr6P",
   "metadata": {
    "id": "-6f4j5MrJr6P"
   },
   "source": [
    "# Table of Contents\n",
    "1. [Lecture Recap](#Lecture-Recap)\n",
    "2. [Exercises](#Exercises)"
   ]
  },
  {
   "cell_type": "markdown",
   "id": "3742b085-c737-4654-9f1c-52c605f4d679",
   "metadata": {},
   "source": [
    "# Lecture Recap"
   ]
  },
  {
   "cell_type": "markdown",
   "id": "fe825602-3126-4744-8bff-92674113323a",
   "metadata": {},
   "source": [
    "A __random variable__ is a mathematical object that takes values at random according to some __distribution__. \n",
    "\n",
    "* Example 1: Let $Y$ be a random variable that represents the result of a fair coin flip, it equals 0 with probability 0.5 and 1 with probability 0.5.\n",
    "* Example 2: Let $Y$ be a random variable that represents the number of tornadoes in Oklahoma City next year (see table from class)."
   ]
  },
  {
   "cell_type": "code",
   "execution_count": 1,
   "id": "2c4abcfe-bb0c-4ddb-8608-850165e83868",
   "metadata": {},
   "outputs": [
    {
     "data": {
      "text/html": [
       "2"
      ],
      "text/latex": [
       "2"
      ],
      "text/markdown": [
       "2"
      ],
      "text/plain": [
       "[1] 2"
      ]
     },
     "metadata": {},
     "output_type": "display_data"
    }
   ],
   "source": [
    "# Simulate one tornado\n",
    "num_tornadoes <- c(0, 1, 2, 3, 4, 5)\n",
    "p <- c(.1, .15, .4, .2, .1, .05)\n",
    "\n",
    "sample(num_tornadoes, 1, prob = p)"
   ]
  },
  {
   "cell_type": "code",
   "execution_count": 2,
   "id": "710f3e9a-2c6e-463e-a41b-365be4c66b13",
   "metadata": {},
   "outputs": [
    {
     "data": {
      "text/html": [
       "<style>\n",
       ".list-inline {list-style: none; margin:0; padding: 0}\n",
       ".list-inline>li {display: inline-block}\n",
       ".list-inline>li:not(:last-child)::after {content: \"\\00b7\"; padding: 0 .5ex}\n",
       "</style>\n",
       "<ol class=list-inline><li>2</li><li>2</li><li>2</li><li>2</li><li>2</li><li>2</li><li>5</li><li>2</li><li>0</li><li>4</li></ol>\n"
      ],
      "text/latex": [
       "\\begin{enumerate*}\n",
       "\\item 2\n",
       "\\item 2\n",
       "\\item 2\n",
       "\\item 2\n",
       "\\item 2\n",
       "\\item 2\n",
       "\\item 5\n",
       "\\item 2\n",
       "\\item 0\n",
       "\\item 4\n",
       "\\end{enumerate*}\n"
      ],
      "text/markdown": [
       "1. 2\n",
       "2. 2\n",
       "3. 2\n",
       "4. 2\n",
       "5. 2\n",
       "6. 2\n",
       "7. 5\n",
       "8. 2\n",
       "9. 0\n",
       "10. 4\n",
       "\n",
       "\n"
      ],
      "text/plain": [
       " [1] 2 2 2 2 2 2 5 2 0 4"
      ]
     },
     "metadata": {},
     "output_type": "display_data"
    }
   ],
   "source": [
    "# Simulate many tornadoes\n",
    "sample(num_tornadoes, 10, prob = p, replace = TRUE)"
   ]
  },
  {
   "cell_type": "markdown",
   "id": "d7b1a933-fe7b-4b5f-8e62-d08f43ec4671",
   "metadata": {},
   "source": [
    "The _distribution_ links each value to a probability that value occurs.  What is the probability of drawing a 4? Will we ever draw a 7?\n",
    "\n",
    "The first two examples are __discrete random variables__ because there are a countable number of values mapped to a countable number of probabilities. We say these random variables have __discrete probability distribution__.\n",
    "\n",
    "A __continuous random variable__ takes on an uncountable number of values and has a __continuous probability distribution__. For example, the exact amount of time between two tornadoes has a continuous probability distribution.\n",
    "\n",
    "____________________\n",
    "\n",
    "The __expected value__ is the average value of a random variable over a very large number of realizations.\n",
    "\n",
    "For a discrete random variable $X$, its expected value can be calculated as $E[X] = \\sum x \\cdot p(x)$. (For a continuous random variable you need to use the evil $\\int$ from calculus to calculate its expected value.)\n",
    "\n",
    "We can also calculate the expectation by simulation! Simulate values of $X$ in R and calculate their averages. \n",
    "\n",
    "____________________\n",
    "\n",
    "A __joint distribution__ maps probabilities to values of multiple variables. For example, if $PIQ$ represents parent's income quintile and $CIQ$ represents child's income quintile, then the joint distribution $f(PIQ, CIQ)$ represents the probability that a parent falls in a particular quintile and their child falls in a particular quintile. For example, $f(5, 1)$ is the probability that a parent is in the 5th quintile and their child falls in the 1st quintile.\n",
    "\n",
    "A __conditional distribution__ describes probabilities of particular values conditional on an outcome. For example $f(CIQ | PIQ = 5)$ gives the probability of a child being in a particular quintile given their parent is in the top quintile. \n",
    "\n",
    "Random variables are __dependent__ if knowing information about the outcome of one is informative about the outcome of another. Otherwise they are __independent__. Are parent and child income quintiles independent?\n"
   ]
  },
  {
   "cell_type": "markdown",
   "id": "d5711e37-1060-49bc-99a6-d15b04756f16",
   "metadata": {
    "id": "d5711e37-1060-49bc-99a6-d15b04756f16"
   },
   "source": [
    "# Exercises"
   ]
  },
  {
   "cell_type": "markdown",
   "id": "67e9236f-ce8e-445a-8b01-411138639cd8",
   "metadata": {
    "id": "67e9236f-ce8e-445a-8b01-411138639cd8"
   },
   "source": [
    "## Exercise 1: Wildfire simulation"
   ]
  },
  {
   "cell_type": "markdown",
   "id": "af1d97ba-27c6-4c6b-ad12-3533547f3523",
   "metadata": {},
   "source": [
    "From Wang et al. (2020):\n",
    "> Recent increases in the frequency and scale of wildfires worldwide have raised concerns about the influence of climate change and associated socioeconomic costs. In the western United States, the hazard of wildfire has been increasing for decades . . . wildfire damages in 2018 totalled $148.5 (126.1–192.9) billion . . . \n",
    "\n",
    "Concerns about the future livability of the western United States have become a great concern as studies have shown that anthropogenic (human-caused) climate change has significantly contributed to fueling wildfires (Abatzoglou and Williams 2016). As the climate warms further and the air becomes dryer, it is anticipated that wildfires will further worsen, increasing health and economic costs to the residents of the western US.\n",
    "\n",
    "Much of the cost of wildfires comes from the property damage they cause. Suppose you are interested in calculating the probability that a home in California is affected by a wildfire within the next 30 years to evaluate one of the myriad economic costs of climate change."
   ]
  },
  {
   "cell_type": "markdown",
   "id": "c3eaf4b4-2cbe-4890-aca3-ed8c983b0cd8",
   "metadata": {},
   "source": [
    "**a. Suppose the annual probability of a home being affected by a wildfire in California is fixed at 0.0003 (0.03%). What is the probability of being affected by at least one wildfire in 30 years?**"
   ]
  },
  {
   "cell_type": "markdown",
   "id": "0c9f1de3-0fc6-422e-8431-1d0b03522f8c",
   "metadata": {},
   "source": [
    "#### Your answer here!\n",
    "\n",
    "##### START\n",
    "The probability of any fires in 30 years is equal to 1 minus the probability of no fires in 30 years, which is easier to calculate.\n",
    "\n",
    "$$\\Pr(\\mbox{Any Fires}) = 1 - \\Pr(\\mbox{No Fires})$$\n",
    "\n",
    "If we assume that wildfire risk is independent across years (e.g. exposure to a wildfire in year 1 is unrelated to exposure in year 2, 3, 4, ...) then we can write the probability of no fires in 30 years as the following:\n",
    "\n",
    "$$\\Pr(\\mbox{No Fires}) = (1 - 0.0003)^{30} = 0.991$$\n",
    "\n",
    "From the first equation, the answer is 0.9%.\n",
    "\n",
    "$$\\Pr(\\mbox{Any Fires}) = 1 - 0.991 = 0.009$$\n",
    "##### END\n",
    "\n",
    "\n"
   ]
  },
  {
   "cell_type": "markdown",
   "id": "a39b7493-8c3e-4abd-963e-2d20b923befe",
   "metadata": {
    "id": "d0f2e4d3-519d-4cfd-849b-f73578dfb145"
   },
   "source": [
    "One way in which R can help us gain an intuitive feel for probabilities is through simulation.  In general, simulation is an analytical methodology that allows us to “simulate” how the world might evolve in the presence of uncertainty.  Simulations are typically run hundreds if not thousands of times.  We can then examine the results, individually and in the aggregate over the runs of the simulation, to better understand the role that uncertainty plays in the outcomes."
   ]
  },
  {
   "cell_type": "markdown",
   "id": "cb2e157e-751b-4604-a881-8c841971a282",
   "metadata": {
    "id": "10ac8ddf-cb0f-4de2-835d-b13909b7b88a"
   },
   "source": [
    "**b. Let’s simulate the possibility of wildfire affecting a home in a particular area.**"
   ]
  },
  {
   "cell_type": "code",
   "execution_count": 3,
   "id": "c8b39d1c-1ef9-4032-99fd-adeba57f81ac",
   "metadata": {},
   "outputs": [
    {
     "name": "stderr",
     "output_type": "stream",
     "text": [
      "── \u001b[1mAttaching packages\u001b[22m ──────────────────────────────────────────────────── tidyverse 1.3.1 ──\n",
      "\n",
      "\u001b[32m✔\u001b[39m \u001b[34mggplot2\u001b[39m 3.3.6     \u001b[32m✔\u001b[39m \u001b[34mpurrr  \u001b[39m 0.3.4\n",
      "\u001b[32m✔\u001b[39m \u001b[34mtibble \u001b[39m 3.1.8     \u001b[32m✔\u001b[39m \u001b[34mdplyr  \u001b[39m 1.0.9\n",
      "\u001b[32m✔\u001b[39m \u001b[34mtidyr  \u001b[39m 1.2.0     \u001b[32m✔\u001b[39m \u001b[34mstringr\u001b[39m 1.4.1\n",
      "\u001b[32m✔\u001b[39m \u001b[34mreadr  \u001b[39m 2.1.1     \u001b[32m✔\u001b[39m \u001b[34mforcats\u001b[39m 0.5.2\n",
      "\n",
      "── \u001b[1mConflicts\u001b[22m ─────────────────────────────────────────────────────── tidyverse_conflicts() ──\n",
      "\u001b[31m✖\u001b[39m \u001b[34mdplyr\u001b[39m::\u001b[32mfilter()\u001b[39m masks \u001b[34mstats\u001b[39m::filter()\n",
      "\u001b[31m✖\u001b[39m \u001b[34mdplyr\u001b[39m::\u001b[32mlag()\u001b[39m    masks \u001b[34mstats\u001b[39m::lag()\n",
      "\n",
      "Thanks for running me! Now you're good to go.\n",
      "\n"
     ]
    }
   ],
   "source": [
    "# SETUP - Run me first!\n",
    "library(tidyverse)\n",
    "message(read_lines(\"secret_message.txt\"))"
   ]
  },
  {
   "cell_type": "markdown",
   "id": "8beb6a54-6be8-48ab-80d9-cd9463dcae98",
   "metadata": {},
   "source": [
    "*i. Let’s first focus on developing a line of code that will provide us with the number of fires one would expect in 30 years, if there is a 0.03% chance of being affected by wildfire each year (and again, assuming that we cannot have more than one fire per year).*\n",
    "\n",
    "1. In one line, use the `rbernoulli` function to generate 30 `TRUE` or `FALSE` outcomes, one for each year, and sum them together to see how many fires you would see. We provide a few objects to get you started. (Recall syntax for simulation: `rbernoulli(n, prob)`.\n",
    "\n",
    "2. Every time you run the line of code that you produce, you're simulating a 30-year period and showing how many fires one might see. If you run it many times, you'll see the number of fires fluctuate due to chance."
   ]
  },
  {
   "cell_type": "code",
   "execution_count": 4,
   "id": "ef30330b-7222-4968-b5db-756f011285d5",
   "metadata": {},
   "outputs": [
    {
     "data": {
      "text/html": [
       "0"
      ],
      "text/latex": [
       "0"
      ],
      "text/markdown": [
       "0"
      ],
      "text/plain": [
       "[1] 0"
      ]
     },
     "metadata": {},
     "output_type": "display_data"
    }
   ],
   "source": [
    "years <- 30\n",
    "p_fire <- 0.0003\n",
    "\n",
    "# Your answer here!\n",
    "\n",
    "# START\n",
    "sum(rbernoulli(years, p_fire))\n",
    "# END"
   ]
  },
  {
   "cell_type": "markdown",
   "id": "636822ce-4b28-48e7-a8ad-3fef5688b81d",
   "metadata": {},
   "source": [
    "*ii. Instead of manually running the line of code that you produced 100,000 times, let's use the `replicate` function to do so.*\n",
    "\n",
    "*The replicate command is of the form `replicate(number of simulations, code to run each simulation)`. Using the line of code you produced in the prior question and the `num_sims` object below, create a line of code that simulates how many fires we would see in 30 years 100,000 times. Your output should be 100,000 numbers, each corresponding to the number of fires in that particular simulation. Name this object of simulations `sims`.*\n",
    "\n",
    "*Note: copy and paste the entire line of code from the previous question (i.e., if you created an object corresponding to one sim in the previous question, don't just reference that object). `replicate` needs to actually run the code each time! Also, we use the `set.seed(1)` command to make sure that R produces the sames set of results each time we run the command.*"
   ]
  },
  {
   "cell_type": "code",
   "execution_count": 5,
   "id": "48e97824-4161-485a-80bb-8e9c75af7d82",
   "metadata": {},
   "outputs": [
    {
     "data": {
      "text/plain": [
       "sims\n",
       "    0     1     2 \n",
       "99141   857     2 "
      ]
     },
     "metadata": {},
     "output_type": "display_data"
    }
   ],
   "source": [
    "set.seed(1)\n",
    "num_sims <- 100000\n",
    "\n",
    "# Your answer here!\n",
    "\n",
    "# START\n",
    "sims <- replicate(num_sims, sum(rbernoulli(years, p_fire)))\n",
    "table(sims)\n",
    "# END"
   ]
  },
  {
   "cell_type": "markdown",
   "id": "bd12bd7a-218f-4be3-9ab2-a455870e96e6",
   "metadata": {},
   "source": [
    "**c. What is the average number of fires in a 30 year period from your 100,000 simulations?**"
   ]
  },
  {
   "cell_type": "code",
   "execution_count": 6,
   "id": "8e075563-f751-4108-b96a-a778d501e50a",
   "metadata": {},
   "outputs": [
    {
     "data": {
      "text/html": [
       "0.00861"
      ],
      "text/latex": [
       "0.00861"
      ],
      "text/markdown": [
       "0.00861"
      ],
      "text/plain": [
       "[1] 0.00861"
      ]
     },
     "metadata": {},
     "output_type": "display_data"
    }
   ],
   "source": [
    "# Your answer here!\n",
    "\n",
    "# START\n",
    "mean(sims)\n",
    "# END"
   ]
  },
  {
   "cell_type": "markdown",
   "id": "9df61136-2d4d-4ffe-b0fe-437d3a1a9e3e",
   "metadata": {
    "id": "301707ea-b864-4255-b31a-05785aeb080b"
   },
   "source": [
    "**d. Generate a histogram of the number of fires over 30 years based on your simulation.  Specifically, your histogram should show the number of simulation runs (out of 100,000) in which there were zero fires, one fire, two fires, etc.**\n",
    "\n",
    "*Hint: `ggplot` requires that you provide a dataset, and the simulations you produced above is just a vector of numbers. You can use the line of code below to turn your object `sims` into a dataset called `fire_simulation` with variable `n_fires` corresponding to the number of floods in each simulation.*"
   ]
  },
  {
   "cell_type": "code",
   "execution_count": 7,
   "id": "3c159c69-d58a-4ed9-8255-09b40e099de9",
   "metadata": {
    "id": "fe10fc34-fdd8-411b-981e-d47a16a331c1",
    "outputId": "7f53eee3-8dd1-4644-97b9-97ff27b766bc"
   },
   "outputs": [
    {
     "data": {
      "image/png": "[encoded data removed]",
      "text/plain": [
       "plot without title"
      ]
     },
     "metadata": {
      "image/png": {
       "height": 420,
       "width": 420
      }
     },
     "output_type": "display_data"
    }
   ],
   "source": [
    "fire_simulation <- tibble(n_fires = sims)\n",
    "\n",
    "# Your answer here!\n",
    "\n",
    "# START\n",
    "ggplot(data = fire_simulation, aes(x = n_fires)) + geom_histogram(binwidth = 1)\n",
    "# END"
   ]
  },
  {
   "cell_type": "markdown",
   "id": "f3ce3252-cf9f-4ff1-bc8c-4a864167298c",
   "metadata": {},
   "source": [
    "**e. In how many simulation runs was there at least one fire in 30 years?**"
   ]
  },
  {
   "cell_type": "code",
   "execution_count": 8,
   "id": "46a49900-d533-41b7-8bff-2bc56e00886d",
   "metadata": {},
   "outputs": [
    {
     "data": {
      "text/html": [
       "859"
      ],
      "text/latex": [
       "859"
      ],
      "text/markdown": [
       "859"
      ],
      "text/plain": [
       "[1] 859"
      ]
     },
     "metadata": {},
     "output_type": "display_data"
    },
    {
     "data": {
      "text/html": [
       "859"
      ],
      "text/latex": [
       "859"
      ],
      "text/markdown": [
       "859"
      ],
      "text/plain": [
       "[1] 859"
      ]
     },
     "metadata": {},
     "output_type": "display_data"
    },
    {
     "data": {
      "text/html": [
       "<table class=\"dataframe\">\n",
       "<caption>A tibble: 1 × 1</caption>\n",
       "<thead>\n",
       "\t<tr><th scope=col>atleastone</th></tr>\n",
       "\t<tr><th scope=col>&lt;int&gt;</th></tr>\n",
       "</thead>\n",
       "<tbody>\n",
       "\t<tr><td>859</td></tr>\n",
       "</tbody>\n",
       "</table>\n"
      ],
      "text/latex": [
       "A tibble: 1 × 1\n",
       "\\begin{tabular}{l}\n",
       " atleastone\\\\\n",
       " <int>\\\\\n",
       "\\hline\n",
       "\t 859\\\\\n",
       "\\end{tabular}\n"
      ],
      "text/markdown": [
       "\n",
       "A tibble: 1 × 1\n",
       "\n",
       "| atleastone &lt;int&gt; |\n",
       "|---|\n",
       "| 859 |\n",
       "\n"
      ],
      "text/plain": [
       "  atleastone\n",
       "1 859       "
      ]
     },
     "metadata": {},
     "output_type": "display_data"
    }
   ],
   "source": [
    "# Your answer here!\n",
    "\n",
    "# START\n",
    "# Here are three ways to get the same answer:\n",
    "\n",
    "sum(sims >= 1)\n",
    "\n",
    "sum(fire_simulation$n_fires >= 1)\n",
    "\n",
    "summarize(fire_simulation, atleastone = sum(n_fires >= 1))\n",
    "\n",
    "# END"
   ]
  },
  {
   "cell_type": "markdown",
   "id": "b5c688db-bab6-4f3b-bb92-cfc8d26241ae",
   "metadata": {},
   "source": [
    "**f. Suppose that due to climate change, the annual fire probability increases by 0.00001 (one in one-thousandth of a percentage point) each year, starting from 0.00031 in year 1, so that the probability is expected to roughly double by year 30. Now, in how many simulation runs was there at least one fire in 30 years? Compare this to the case when the annual probability is fixed at 0.0003**\n",
    "\n",
    "HINT: You can create a vector of years 1 through 30 using `1:years`."
   ]
  },
  {
   "cell_type": "code",
   "execution_count": 9,
   "id": "fe61c065-398f-4004-afb4-a626c48cc9c5",
   "metadata": {},
   "outputs": [
    {
     "data": {
      "text/html": [
       "<style>\n",
       ".list-inline {list-style: none; margin:0; padding: 0}\n",
       ".list-inline>li {display: inline-block}\n",
       ".list-inline>li:not(:last-child)::after {content: \"\\00b7\"; padding: 0 .5ex}\n",
       "</style>\n",
       "<ol class=list-inline><li>0.00031</li><li>0.00032</li><li>0.00033</li><li>0.00034</li><li>0.00035</li><li>0.00036</li></ol>\n"
      ],
      "text/latex": [
       "\\begin{enumerate*}\n",
       "\\item 0.00031\n",
       "\\item 0.00032\n",
       "\\item 0.00033\n",
       "\\item 0.00034\n",
       "\\item 0.00035\n",
       "\\item 0.00036\n",
       "\\end{enumerate*}\n"
      ],
      "text/markdown": [
       "1. 0.00031\n",
       "2. 0.00032\n",
       "3. 0.00033\n",
       "4. 0.00034\n",
       "5. 0.00035\n",
       "6. 0.00036\n",
       "\n",
       "\n"
      ],
      "text/plain": [
       "[1] 0.00031 0.00032 0.00033 0.00034 0.00035 0.00036"
      ]
     },
     "metadata": {},
     "output_type": "display_data"
    },
    {
     "data": {
      "text/html": [
       "1248"
      ],
      "text/latex": [
       "1248"
      ],
      "text/markdown": [
       "1248"
      ],
      "text/plain": [
       "[1] 1248"
      ]
     },
     "metadata": {},
     "output_type": "display_data"
    }
   ],
   "source": [
    "set.seed(1) \n",
    "\n",
    "# Your answer here!\n",
    "\n",
    "# START\n",
    "\n",
    "# Define annual fire probability\n",
    "p_fire_increasing <- .0003 + .00001 * 1:years \n",
    "head(p_fire_increasing)\n",
    "\n",
    "# Simulate fires given increasing probability\n",
    "sims_2 <- replicate(num_sims, sum(rbernoulli(years, p_fire_increasing)))\n",
    "\n",
    "# Count simulations with 1 or more fires\n",
    "sum(sims_2 >= 1)\n",
    "\n",
    "# END"
   ]
  },
  {
   "cell_type": "markdown",
   "id": "964e7cff-787a-465b-a701-0d057bf9b314",
   "metadata": {},
   "source": [
    "**g. Calculate the expected number of fires using the simulated fires.**"
   ]
  },
  {
   "cell_type": "code",
   "execution_count": 10,
   "id": "01ebecaa-8503-4760-a955-02bfc07bc388",
   "metadata": {},
   "outputs": [
    {
     "data": {
      "text/html": [
       "0.01257"
      ],
      "text/latex": [
       "0.01257"
      ],
      "text/markdown": [
       "0.01257"
      ],
      "text/plain": [
       "[1] 0.01257"
      ]
     },
     "metadata": {},
     "output_type": "display_data"
    }
   ],
   "source": [
    "# Your answer here!\n",
    "\n",
    "# START\n",
    "\n",
    "mean(sims_2)\n",
    "\n",
    "# END"
   ]
  },
  {
   "cell_type": "markdown",
   "id": "34d1c36f-a36e-47eb-84de-68ac77cc884d",
   "metadata": {},
   "source": [
    "We can calculate the number of fires over 30 years through simulation by taking the mean of simulated number of fires. As the number of simulations increases, this will come closer and closer to the true expectation."
   ]
  },
  {
   "cell_type": "markdown",
   "id": "e84b2e54-e688-45f1-89d2-7f9a62a40154",
   "metadata": {},
   "source": [
    "## Exercise 2: Household Income Inequality"
   ]
  },
  {
   "cell_type": "markdown",
   "id": "3c72c284-ea3b-410c-bffa-0bd20f201a9b",
   "metadata": {},
   "source": [
    "The data below comes from the US Census Current Population Survey and describes the income distribution of US households in 2021. It counts US households in thousands within each of 5 quintiles. Each quintile comprises 20% of households ranked by income. Therefore quintile 1 is the bottom 20% of US households by income, quintile 2 is the next lowest 20%, and 5 comprises households with the top 20% of incomes. \n",
    "\n",
    "* `pop_tot`: total households in quintile (thousands)\n",
    "* `pop_white`: white households in quintile (thousands)\n",
    "* `pop_black`: black households in quintile (thousands)\n",
    "\n",
    "Notice `pop_tot` is constant across quintiles because each quintile has the same total number of households. "
   ]
  },
  {
   "cell_type": "code",
   "execution_count": 11,
   "id": "658e597c-1e67-409f-9f5e-218450cbf610",
   "metadata": {},
   "outputs": [
    {
     "data": {
      "text/html": [
       "<table class=\"dataframe\">\n",
       "<caption>A tibble: 5 × 4</caption>\n",
       "<thead>\n",
       "\t<tr><th scope=col>income_quintile</th><th scope=col>pop_tot</th><th scope=col>pop_white</th><th scope=col>pop_black</th></tr>\n",
       "\t<tr><th scope=col>&lt;dbl&gt;</th><th scope=col>&lt;dbl&gt;</th><th scope=col>&lt;dbl&gt;</th><th scope=col>&lt;dbl&gt;</th></tr>\n",
       "</thead>\n",
       "<tbody>\n",
       "\t<tr><td>1</td><td>26240</td><td>18624</td><td>5490</td></tr>\n",
       "\t<tr><td>2</td><td>26240</td><td>20056</td><td>4291</td></tr>\n",
       "\t<tr><td>3</td><td>26240</td><td>20717</td><td>3493</td></tr>\n",
       "\t<tr><td>4</td><td>26240</td><td>21293</td><td>2592</td></tr>\n",
       "\t<tr><td>5</td><td>26240</td><td>21367</td><td>1832</td></tr>\n",
       "</tbody>\n",
       "</table>\n"
      ],
      "text/latex": [
       "A tibble: 5 × 4\n",
       "\\begin{tabular}{llll}\n",
       " income\\_quintile & pop\\_tot & pop\\_white & pop\\_black\\\\\n",
       " <dbl> & <dbl> & <dbl> & <dbl>\\\\\n",
       "\\hline\n",
       "\t 1 & 26240 & 18624 & 5490\\\\\n",
       "\t 2 & 26240 & 20056 & 4291\\\\\n",
       "\t 3 & 26240 & 20717 & 3493\\\\\n",
       "\t 4 & 26240 & 21293 & 2592\\\\\n",
       "\t 5 & 26240 & 21367 & 1832\\\\\n",
       "\\end{tabular}\n"
      ],
      "text/markdown": [
       "\n",
       "A tibble: 5 × 4\n",
       "\n",
       "| income_quintile &lt;dbl&gt; | pop_tot &lt;dbl&gt; | pop_white &lt;dbl&gt; | pop_black &lt;dbl&gt; |\n",
       "|---|---|---|---|\n",
       "| 1 | 26240 | 18624 | 5490 |\n",
       "| 2 | 26240 | 20056 | 4291 |\n",
       "| 3 | 26240 | 20717 | 3493 |\n",
       "| 4 | 26240 | 21293 | 2592 |\n",
       "| 5 | 26240 | 21367 | 1832 |\n",
       "\n"
      ],
      "text/plain": [
       "  income_quintile pop_tot pop_white pop_black\n",
       "1 1               26240   18624     5490     \n",
       "2 2               26240   20056     4291     \n",
       "3 3               26240   20717     3493     \n",
       "4 4               26240   21293     2592     \n",
       "5 5               26240   21367     1832     "
      ]
     },
     "metadata": {},
     "output_type": "display_data"
    }
   ],
   "source": [
    "# SETUP\n",
    "income_distribution <- tribble(\n",
    "    ~income_quintile, ~pop_tot, ~pop_white, ~pop_black,\n",
    "    1,                26240,    18624,      5490,    \n",
    "    2,                26240,    20056,      4291,\n",
    "    3,                26240,    20717,      3493,\n",
    "    4,                26240,    21293,      2592,\n",
    "    5,                26240,    21367,      1832  \n",
    ")\n",
    "\n",
    "income_distribution"
   ]
  },
  {
   "cell_type": "markdown",
   "id": "8cee5cc4-4a1e-448f-8269-b73228b43d00",
   "metadata": {},
   "source": [
    "**a. What is the most likely income quintile for a white household to be in? A black household?**"
   ]
  },
  {
   "cell_type": "markdown",
   "id": "72a32d3a-8579-4997-82e6-ef70a1400ba0",
   "metadata": {},
   "source": [
    "#### Your answer here!\n",
    "\n",
    "##### START\n",
    "\n",
    "White households are most likely to be in quintile 5, the top 20% of the income distribution, although not much more likely than any of the other quintiles. \n",
    "\n",
    "Black households are most likely to be in quintile 1, the bottom 20% of the income distribution, and are almost three times more likely to be in this quintile than they are to be in quintile 5.\n",
    "\n",
    "##### END"
   ]
  },
  {
   "cell_type": "markdown",
   "id": "d2398eeb-4d85-43f0-9a68-d24bd378f963",
   "metadata": {},
   "source": [
    "**b. What is the probability of a white household falling in the top 40 percent of the income distribution (quintiles 4 or 5)? What about a black household?**"
   ]
  },
  {
   "cell_type": "code",
   "execution_count": 12,
   "id": "ef7b5839-bb3a-4a4b-ac73-4de03b03941c",
   "metadata": {},
   "outputs": [
    {
     "data": {
      "text/html": [
       "<table class=\"dataframe\">\n",
       "<caption>A tibble: 1 × 2</caption>\n",
       "<thead>\n",
       "\t<tr><th scope=col>Prob. Top 40% if White</th><th scope=col>Prob. Top 40% if Black</th></tr>\n",
       "\t<tr><th scope=col>&lt;dbl&gt;</th><th scope=col>&lt;dbl&gt;</th></tr>\n",
       "</thead>\n",
       "<tbody>\n",
       "\t<tr><td>0.4180017</td><td>0.2499717</td></tr>\n",
       "</tbody>\n",
       "</table>\n"
      ],
      "text/latex": [
       "A tibble: 1 × 2\n",
       "\\begin{tabular}{ll}\n",
       " Prob. Top 40\\% if White & Prob. Top 40\\% if Black\\\\\n",
       " <dbl> & <dbl>\\\\\n",
       "\\hline\n",
       "\t 0.4180017 & 0.2499717\\\\\n",
       "\\end{tabular}\n"
      ],
      "text/markdown": [
       "\n",
       "A tibble: 1 × 2\n",
       "\n",
       "| Prob. Top 40% if White &lt;dbl&gt; | Prob. Top 40% if Black &lt;dbl&gt; |\n",
       "|---|---|\n",
       "| 0.4180017 | 0.2499717 |\n",
       "\n"
      ],
      "text/plain": [
       "  Prob. Top 40% if White Prob. Top 40% if Black\n",
       "1 0.4180017              0.2499717             "
      ]
     },
     "metadata": {},
     "output_type": "display_data"
    }
   ],
   "source": [
    "# Your answer here!\n",
    "\n",
    "# START\n",
    "# Calculate conditional probabilities for each race\n",
    "income_distribution_probs <- income_distribution %>% \n",
    "    mutate(pr_quint_white = pop_white / sum(pop_white),\n",
    "           pr_quint_black = pop_black / sum(pop_black)) \n",
    "\n",
    "# Sum the conditional probabilities of the top two quintiles \n",
    "income_distribution_probs %>%\n",
    "    filter(income_quintile >= 4) %>%\n",
    "    summarize(`Prob. Top 40% if White` = sum(pr_quint_white), \n",
    "              `Prob. Top 40% if Black` = sum(pr_quint_black))\n",
    "# END\n"
   ]
  },
  {
   "cell_type": "markdown",
   "id": "b6a05abd-1830-4efc-9e73-816d863feff4",
   "metadata": {},
   "source": [
    "**c. What are the expected income quintiles of white and black households?**"
   ]
  },
  {
   "cell_type": "code",
   "execution_count": null,
   "id": "05da7fd7-825f-4ed1-83c9-70158c6425b3",
   "metadata": {},
   "outputs": [],
   "source": [
    "# Your answer here!\n",
    "\n",
    "# START\n",
    "summarize(income_distribution_probs,\n",
    "          `Expectation if White` = sum(income_quintile * pr_quint_white),\n",
    "          `Expectation if Black` = sum(income_quintile * pr_quint_black))\n",
    "# END"
   ]
  }
 ],
 "metadata": {
  "colab": {
   "collapsed_sections": [],
   "provenance": []
  },
  "kernelspec": {
   "display_name": "R",
   "language": "R",
   "name": "ir"
  },
  "language_info": {
   "codemirror_mode": "r",
   "file_extension": ".r",
   "mimetype": "text/x-r-source",
   "name": "R",
   "pygments_lexer": "r",
   "version": "4.1.2"
  }
 },
 "nbformat": 4,
 "nbformat_minor": 5
}

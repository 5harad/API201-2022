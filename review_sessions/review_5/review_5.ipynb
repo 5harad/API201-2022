{
 "cells": [
  {
   "cell_type": "markdown",
   "id": "4839cd02-22e6-4e06-9617-eccba2b91eb8",
   "metadata": {
    "id": "4839cd02-22e6-4e06-9617-eccba2b91eb8"
   },
   "source": [
    "# API-201 ABC REVIEW SESSION #5: Final Exercise Data Wrangling\n",
    "**October 14, 2022**"
   ]
  },
  {
   "cell_type": "markdown",
   "id": "lJ3mcKVB_T-O",
   "metadata": {
    "id": "lJ3mcKVB_T-O"
   },
   "source": [
    "## Accompanying screencast\n",
    "\n",
    "This document will walk you through the process of importing data into Google Colab for your analysis. **We highly recommend [watching this screencast](https://harvard.hosted.panopto.com/Panopto/Pages/Viewer.aspx?id=3c956e51-e85d-4ec7-ba7f-af2d00025e39) as you follow along in this document to make the most use of it.**"
   ]
  },
  {
   "cell_type": "markdown",
   "id": "ee1786f6-465d-4322-8924-1d87c8617c0c",
   "metadata": {
    "id": "ee1786f6-465d-4322-8924-1d87c8617c0c"
   },
   "source": [
    "## Recommended workflow:\n",
    "1. Download original (raw) data files and __don't modify them directly__.\n",
    "2. Prepare data for analysis by cleaning your data and saving it in a single Excel workbook (possibly with several sheets).\n",
    "3. Upload cleaned data either directly to Google Colab or to Google Drive.\n",
    "4. Create your Jupyter notebook on Colab."
   ]
  },
  {
   "cell_type": "markdown",
   "id": "12665e91-b27d-4606-a6ad-a5cb8773007b",
   "metadata": {
    "id": "12665e91-b27d-4606-a6ad-a5cb8773007b"
   },
   "source": [
    "## Raw data\n",
    "\n",
    "Raw data is the original form of your data. It might be a dataset you downloaded from the internet, received from a partner, or came out of a survey.\n",
    "\n",
    "Your raw data will likely be a _tabular_ dataset with rows each corresponding to an observation and columns each corresponding to a variable. \n",
    "\n",
    "You are likely already familiar with Excel files (`.xls` or `.xlsx`) as a way to structure tabular data. Another popular tabular data format is `.csv` (short for comma-separated values). Unlike Excel files, `.csv` does not allow formatting, equations, or multiple sheets. However, `.csv` files take up less space for a given amount of data and have no size limit. Excel can read `.csv` files, but if you want to format the dataset (e.g. set column widths) you'll need to \"Save As\" an `.xlsx` file from within Excel.\n",
    "\n",
    "__If you are having issues wrangling your data, please reach out to faculty or TFs in office hours or on Slack.__"
   ]
  },
  {
   "cell_type": "markdown",
   "id": "0c567153-1a3b-46b1-849d-fbd67e8e4b5c",
   "metadata": {
    "id": "0c567153-1a3b-46b1-849d-fbd67e8e4b5c"
   },
   "source": [
    "## Cleaning and structuring your data in Excel\n",
    "\n",
    "Once you have downloaded raw data, you'll want to prepare it to be read into R. __For this exercise, we recommend saving all of your data in one Excel file.__ If your analyses use different units of observation, you will likely want to save them in different sheets within that file.\n",
    "\n",
    "For example, if one analysis of unemployment rates has states as units of observations and anonther analysis has counties as units of observation, we can create an Excel file `unemployment.xlsx` and paste state data into a sheet called `States` and county data into a sheet called `Counties`.\n",
    "\n",
    "### Tips\n",
    "1. First row should only include variable names.\n",
    "    + Variable names should start with a letter and can contain numbers, letters, underscores, and periods.\n",
    "2. Each other row should contain one observation that corresponds to your unit of analysis.\n",
    "3. If there are variables from the raw data that you will not use in any of your analyses, you can remove them from \n",
    "3. Excel formatting can't be read by R."
   ]
  },
  {
   "cell_type": "markdown",
   "id": "0bcb4903-ea7d-4cbb-8c9c-03c0c2b35743",
   "metadata": {
    "id": "0bcb4903-ea7d-4cbb-8c9c-03c0c2b35743"
   },
   "source": [
    "## Getting Data on Colab – Option 1: Uploading data directly to Colab\n",
    "\n",
    "1. Create a new notebook on Colab.\n",
    "2. Connect to an R runtime on Colab.\n",
    "3. Click the file browser logo on the left. It looks like a little folder.\n",
    "4. Click the button to \"Upload to session storage.\" It looks like a sheet of paper with an up arrow. Upload your data file to Colab.\n",
    "\n",
    "__Whenever you disconnect from Colab's R runtime, your data will be removed from Colab. You'll have to re-upload it when you next start an R session on Colab.__\n"
   ]
  },
  {
   "cell_type": "markdown",
   "id": "2df6bbd4-df6f-47c9-8556-ae0158fa7e4d",
   "metadata": {},
   "source": [
    "## Getting Data on Colab – Option 2: Uploading data to Google Drive\n",
    "\n",
    "1. Create a new notebook on Colab.\n",
    "2. Upload data to Google Drive.\n",
    "3. In Drive, right click on the file and choose \"Get Link.\"\n",
    "4. Change access to \"Anyone with the link\" and copy the link.\n",
    "5. Go to [this page](https://sites.google.com/site/gdocs2direct/) and create a direct download link by entering the link from Google Drive. Save this link. You will be able to use it to load your data into R from Google Drive.\n",
    "\n",
    "__Unlike uploading directly to Colab, you will be able to access the data using the direct link as long as the file is on Google Drive.__\n"
   ]
  },
  {
   "cell_type": "markdown",
   "id": "a7612fcd-00b3-4d39-b216-410873da9ed0",
   "metadata": {},
   "source": [
    "## Loading data into R\n"
   ]
  },
  {
   "cell_type": "markdown",
   "id": "8c4cee77-6c1a-4aa3-bc12-11daf921f1e3",
   "metadata": {
    "id": "8c4cee77-6c1a-4aa3-bc12-11daf921f1e3"
   },
   "source": [
    "\n",
    "Until now, we've been giving you all the code to load datasets into R in a setup cell. That cell always contained `library(tidyverse)` to load tidyverse functions like `filter`, `mutate`, etc. \n",
    "\n",
    "Occasionally it also contained `library(readxl)` which loads the function `read_excel` which you can use to read Excel files into R. Run the cell below so you can use `read_excel`. \n",
    "\n"
   ]
  },
  {
   "cell_type": "code",
   "execution_count": 22,
   "id": "b0f4e05c-6c82-4928-a39d-1de6055e6d7c",
   "metadata": {
    "id": "b0f4e05c-6c82-4928-a39d-1de6055e6d7c"
   },
   "outputs": [],
   "source": [
    "# SETUP - Run this first!\n",
    "library(tidyverse) # imports tidyverse functions you've been using\n",
    "library(readxl) # imports read_excel()"
   ]
  },
  {
   "cell_type": "markdown",
   "id": "91a9c25d-667c-4444-bc07-6e1b38b8b7b4",
   "metadata": {},
   "source": [
    "If you went with Option 2 and uploaded your data to Google Drive, you will need to download that file to Colab to access it in your R session. Use the `download.file()` function. For the `url` argument, supply the direct link you created in the last step of Option 2. For the `destfile` argument, choose a name for the file."
   ]
  },
  {
   "cell_type": "code",
   "execution_count": 26,
   "id": "b7abe49d-394f-4ca1-a37e-7e5b7ecb6c3d",
   "metadata": {},
   "outputs": [],
   "source": [
    "# Download file from Colab if not manually uploaded from your personal computer\n",
    "download.file(url = \"https://drive.google.com/uc?export=download&id=1L4td7tkeU4Qm9SAc6Wh-qEsRf17e1FPj\", \n",
    "              destfile = \"bigmac_analysis.xlsx\")"
   ]
  },
  {
   "cell_type": "markdown",
   "id": "38af383a-702b-47d2-810e-b09762c2cd84",
   "metadata": {},
   "source": [
    "\n",
    "\n",
    "\n",
    "\n",
    "Once you've imported the data file into Colab, that file is accessible to R. We want to tell R to read that file into its memory as a data frame.\n"
   ]
  },
  {
   "cell_type": "markdown",
   "id": "9e0bef05-3cb1-459e-ab74-853d6c7c73d6",
   "metadata": {
    "id": "9e0bef05-3cb1-459e-ab74-853d6c7c73d6"
   },
   "source": [
    "Now we are going to load data from the first sheet of `bigmac_analysis.xlsx`. `read_excel` requires a `path` argument, which specifies the name of the Excel file. You can also provide a `sheet` argument which indicates the name or number of the sheet within the Excel file. To load the first sheet, specify `sheet = 1`. You could instead omit the `sheet` argument in this case because `read_excel` reads the first sheet of the file by default.\n",
    "\n",
    "In the cell below, we load the first sheet and name the dataset `bigmac_wide`. "
   ]
  },
  {
   "cell_type": "code",
   "execution_count": null,
   "id": "4261605c-9128-4d8a-ae25-bbc3ed48e3ea",
   "metadata": {
    "id": "4261605c-9128-4d8a-ae25-bbc3ed48e3ea",
    "outputId": "11356496-5561-4b67-8cc6-c1bc6fa01e93"
   },
   "outputs": [
    {
     "ename": "ERROR",
     "evalue": "Error: `path` does not exist: ‘bigmac_analysis.xlsx’\n",
     "output_type": "error",
     "traceback": [
      "Error: `path` does not exist: ‘bigmac_analysis.xlsx’\nTraceback:\n",
      "1. read_excel(path = \"bigmac_analysis.xlsx\", sheet = 1)",
      "2. check_file(path)",
      "3. stop(\"`path` does not exist: \", sQuote(path), call. = FALSE)"
     ]
    }
   ],
   "source": [
    "# Load data - specify you want to load the first sheet (same as default)\n",
    "bigmac_wide <- read_excel(path = \"bigmac_analysis.xlsx\", sheet = 1)\n",
    "head(bigmac_wide)"
   ]
  },
  {
   "cell_type": "markdown",
   "id": "46152078-82bb-40db-b86f-05d11daa8819",
   "metadata": {
    "id": "46152078-82bb-40db-b86f-05d11daa8819"
   },
   "source": [
    "To load the second sheet of the file, you can specify `sheet = 2`. \n",
    "\n",
    "In the cell below, we load the second sheet and name the dataset `bigmac_long`. "
   ]
  },
  {
   "cell_type": "code",
   "execution_count": null,
   "id": "db800006-d8e5-4b5f-bf7c-8c95089c8a9e",
   "metadata": {
    "id": "db800006-d8e5-4b5f-bf7c-8c95089c8a9e"
   },
   "outputs": [],
   "source": [
    "# Load data - specify you want to load the second sheet\n",
    "bigmac_long <- read_excel(path = \"bigmac_analysis.xlsx\", sheet = 2)\n",
    "head(bigmac_long)"
   ]
  },
  {
   "cell_type": "markdown",
   "id": "08f060a2-c80b-44a1-a43b-689a6d0d2d71",
   "metadata": {
    "id": "08f060a2-c80b-44a1-a43b-689a6d0d2d71"
   },
   "source": [
    "Alternatively, we can specify the name of the sheet rather than its number. If you are frequently reordering the sheets in your Excel file, you may prefer to load data this way.\n",
    "\n",
    "In the cell below, we load the sheet named long and again name the dataset `bigmac_long`. "
   ]
  },
  {
   "cell_type": "code",
   "execution_count": null,
   "id": "adc2664b-fae9-4797-80df-0032cbe1f3a3",
   "metadata": {
    "id": "adc2664b-fae9-4797-80df-0032cbe1f3a3"
   },
   "outputs": [],
   "source": [
    "# Load data - specify you want to load sheet named \"long\"\n",
    "bigmac_long <- read_excel(path = \"bigmac_analysis.xlsx\", sheet = \"long\")\n",
    "head(bigmac_long)"
   ]
  }
 ],
 "metadata": {
  "colab": {
   "collapsed_sections": [],
   "provenance": []
  },
  "kernelspec": {
   "display_name": "R",
   "language": "R",
   "name": "ir"
  },
  "language_info": {
   "codemirror_mode": "r",
   "file_extension": ".r",
   "mimetype": "text/x-r-source",
   "name": "R",
   "pygments_lexer": "r",
   "version": "4.1.2"
  }
 },
 "nbformat": 4,
 "nbformat_minor": 5
}

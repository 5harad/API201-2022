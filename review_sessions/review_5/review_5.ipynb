{
 "cells": [
  {
   "cell_type": "markdown",
   "id": "4839cd02-22e6-4e06-9617-eccba2b91eb8",
   "metadata": {
    "id": "4839cd02-22e6-4e06-9617-eccba2b91eb8"
   },
   "source": [
    "# API-201 ABC REVIEW SESSION #5\n",
    "**October 14, 2022**"
   ]
  },
  {
   "cell_type": "markdown",
   "id": "ee1786f6-465d-4322-8924-1d87c8617c0c",
   "metadata": {},
   "source": [
    "## Recommended workflow:\n",
    "1. Download original (raw) data files and __don't modify them directly__.\n",
    "2. Prepare data for analysis by creating cleaned versions of your data.\n",
    "3. Upload cleaned data to Google Colab.\n",
    "4. Create your Jupyter notebook on Colab."
   ]
  },
  {
   "cell_type": "markdown",
   "id": "bfc54465-6e2e-45f0-bd5c-cb3c98c7475e",
   "metadata": {},
   "source": [
    "## Structuring your data in Excel"
   ]
  },
  {
   "cell_type": "markdown",
   "id": "0c567153-1a3b-46b1-849d-fbd67e8e4b5c",
   "metadata": {},
   "source": [
    "\n",
    "1. First row should be variable names.\n",
    "    + Variable names should start with a letter and can contain numbers, letters, underscores, and periods.\n",
    "2. Each other row should contain one observation that corresponds to your unit of analysis.\n",
    "3. Put all data in one Excel file, possibly across several sheets.\n",
    "4. Excel formatting can't be read by R."
   ]
  },
  {
   "cell_type": "markdown",
   "id": "b821c6ef-f31a-4d96-bef0-6fe8f35a6321",
   "metadata": {},
   "source": [
    "## Uploading data to Colab"
   ]
  },
  {
   "cell_type": "markdown",
   "id": "0bcb4903-ea7d-4cbb-8c9c-03c0c2b35743",
   "metadata": {},
   "source": [
    "1. Create a new notebook on Colab.\n",
    "2. Connect to an R runtime on Colab.\n",
    "3. Click the file browser logo on the left.\n",
    "4. Click the button to \"Upload to session storage.\" Upload your data file to Colab.\n",
    "\n",
    "__Whenever you disconnect from Colab's R runtime, your data will be removed from Colab. You'll have to re-upload it when you next start an R session on Colab.__\n"
   ]
  },
  {
   "cell_type": "markdown",
   "id": "8de2165c-f2d4-4fb0-be7d-9f41985c42c6",
   "metadata": {},
   "source": [
    "## Loading data into R\n",
    "\n"
   ]
  },
  {
   "cell_type": "markdown",
   "id": "8c4cee77-6c1a-4aa3-bc12-11daf921f1e3",
   "metadata": {},
   "source": [
    "Once you've uploaded the data file to Colab, that file is accessible to R. We want to tell R to read that file into its memory as a data frame.\n",
    "\n",
    "Until now, we've been giving you all the code to load datasets into R in a setup cell. That cell always contained `library(tidyverse)` to load tidyverse functions like `filter`, `mutate`, etc. \n",
    "\n",
    "Occasionally it also contained `library(readxl)` which loads the function `read_excel` which you can use to read Excel files into R. Run the cell below so you can use `read_excel`. \n",
    "\n"
   ]
  },
  {
   "cell_type": "code",
   "execution_count": 1,
   "id": "b0f4e05c-6c82-4928-a39d-1de6055e6d7c",
   "metadata": {},
   "outputs": [
    {
     "name": "stderr",
     "output_type": "stream",
     "text": [
      "── \u001b[1mAttaching packages\u001b[22m ──────────────────────────────────────────────────── tidyverse 1.3.1 ──\n",
      "\n",
      "\u001b[32m✔\u001b[39m \u001b[34mggplot2\u001b[39m 3.3.6     \u001b[32m✔\u001b[39m \u001b[34mpurrr  \u001b[39m 0.3.4\n",
      "\u001b[32m✔\u001b[39m \u001b[34mtibble \u001b[39m 3.1.8     \u001b[32m✔\u001b[39m \u001b[34mdplyr  \u001b[39m 1.0.9\n",
      "\u001b[32m✔\u001b[39m \u001b[34mtidyr  \u001b[39m 1.2.0     \u001b[32m✔\u001b[39m \u001b[34mstringr\u001b[39m 1.4.1\n",
      "\u001b[32m✔\u001b[39m \u001b[34mreadr  \u001b[39m 2.1.1     \u001b[32m✔\u001b[39m \u001b[34mforcats\u001b[39m 0.5.2\n",
      "\n",
      "── \u001b[1mConflicts\u001b[22m ─────────────────────────────────────────────────────── tidyverse_conflicts() ──\n",
      "\u001b[31m✖\u001b[39m \u001b[34mdplyr\u001b[39m::\u001b[32mfilter()\u001b[39m masks \u001b[34mstats\u001b[39m::filter()\n",
      "\u001b[31m✖\u001b[39m \u001b[34mdplyr\u001b[39m::\u001b[32mlag()\u001b[39m    masks \u001b[34mstats\u001b[39m::lag()\n",
      "\n"
     ]
    }
   ],
   "source": [
    "# SETUP - Run this first!\n",
    "library(tidyverse) # imports tidyverse functions you've been using\n",
    "library(readxl) # imports read_excel()"
   ]
  },
  {
   "cell_type": "markdown",
   "id": "9e0bef05-3cb1-459e-ab74-853d6c7c73d6",
   "metadata": {},
   "source": [
    "Now we are going to load data from the first sheet of `bigmac_analysis.xlsx`. `read_excel` requires a `path` argument, which specifies the name of the Excel file. You can also provide a `sheet` argument which indicates the name or number of the sheet within the Excel file. To load the first sheet, specify `sheet = 1`. You could instead omit the `sheet` argument in this case because `read_excel` reads the first sheet of the file by default.\n",
    "\n",
    "In the cell below, we load the first sheet and name the dataset `bigmac_wide`. "
   ]
  },
  {
   "cell_type": "code",
   "execution_count": 2,
   "id": "4261605c-9128-4d8a-ae25-bbc3ed48e3ea",
   "metadata": {},
   "outputs": [
    {
     "data": {
      "text/html": [
       "<table class=\"dataframe\">\n",
       "<caption>A tibble: 6 × 5</caption>\n",
       "<thead>\n",
       "\t<tr><th scope=col>country_name</th><th scope=col>country_code</th><th scope=col>dollar_price_jan2020</th><th scope=col>dollar_price_jan2021</th><th scope=col>dollar_price_jan2022</th></tr>\n",
       "\t<tr><th scope=col>&lt;chr&gt;</th><th scope=col>&lt;chr&gt;</th><th scope=col>&lt;dbl&gt;</th><th scope=col>&lt;dbl&gt;</th><th scope=col>&lt;dbl&gt;</th></tr>\n",
       "</thead>\n",
       "<tbody>\n",
       "\t<tr><td>United Arab Emirates</td><td>ARE</td><td>4.015627</td><td>4.015627</td><td>4.628306</td></tr>\n",
       "\t<tr><td>Argentina           </td><td>ARG</td><td>2.846887</td><td>3.748231</td><td>4.285041</td></tr>\n",
       "\t<tr><td>Australia           </td><td>AUS</td><td>4.451145</td><td>4.984740</td><td>4.509120</td></tr>\n",
       "\t<tr><td>Azerbaijan          </td><td>AZE</td><td>2.328323</td><td>2.324897</td><td>2.648617</td></tr>\n",
       "\t<tr><td>Bahrain             </td><td>BHR</td><td>3.713528</td><td>3.978780</td><td>3.978780</td></tr>\n",
       "\t<tr><td>Brazil              </td><td>BRA</td><td>4.804558</td><td>3.978491</td><td>4.312618</td></tr>\n",
       "</tbody>\n",
       "</table>\n"
      ],
      "text/latex": [
       "A tibble: 6 × 5\n",
       "\\begin{tabular}{lllll}\n",
       " country\\_name & country\\_code & dollar\\_price\\_jan2020 & dollar\\_price\\_jan2021 & dollar\\_price\\_jan2022\\\\\n",
       " <chr> & <chr> & <dbl> & <dbl> & <dbl>\\\\\n",
       "\\hline\n",
       "\t United Arab Emirates & ARE & 4.015627 & 4.015627 & 4.628306\\\\\n",
       "\t Argentina            & ARG & 2.846887 & 3.748231 & 4.285041\\\\\n",
       "\t Australia            & AUS & 4.451145 & 4.984740 & 4.509120\\\\\n",
       "\t Azerbaijan           & AZE & 2.328323 & 2.324897 & 2.648617\\\\\n",
       "\t Bahrain              & BHR & 3.713528 & 3.978780 & 3.978780\\\\\n",
       "\t Brazil               & BRA & 4.804558 & 3.978491 & 4.312618\\\\\n",
       "\\end{tabular}\n"
      ],
      "text/markdown": [
       "\n",
       "A tibble: 6 × 5\n",
       "\n",
       "| country_name &lt;chr&gt; | country_code &lt;chr&gt; | dollar_price_jan2020 &lt;dbl&gt; | dollar_price_jan2021 &lt;dbl&gt; | dollar_price_jan2022 &lt;dbl&gt; |\n",
       "|---|---|---|---|---|\n",
       "| United Arab Emirates | ARE | 4.015627 | 4.015627 | 4.628306 |\n",
       "| Argentina            | ARG | 2.846887 | 3.748231 | 4.285041 |\n",
       "| Australia            | AUS | 4.451145 | 4.984740 | 4.509120 |\n",
       "| Azerbaijan           | AZE | 2.328323 | 2.324897 | 2.648617 |\n",
       "| Bahrain              | BHR | 3.713528 | 3.978780 | 3.978780 |\n",
       "| Brazil               | BRA | 4.804558 | 3.978491 | 4.312618 |\n",
       "\n"
      ],
      "text/plain": [
       "  country_name         country_code dollar_price_jan2020 dollar_price_jan2021\n",
       "1 United Arab Emirates ARE          4.015627             4.015627            \n",
       "2 Argentina            ARG          2.846887             3.748231            \n",
       "3 Australia            AUS          4.451145             4.984740            \n",
       "4 Azerbaijan           AZE          2.328323             2.324897            \n",
       "5 Bahrain              BHR          3.713528             3.978780            \n",
       "6 Brazil               BRA          4.804558             3.978491            \n",
       "  dollar_price_jan2022\n",
       "1 4.628306            \n",
       "2 4.285041            \n",
       "3 4.509120            \n",
       "4 2.648617            \n",
       "5 3.978780            \n",
       "6 4.312618            "
      ]
     },
     "metadata": {},
     "output_type": "display_data"
    }
   ],
   "source": [
    "# Load data - specify you want to load the first sheet (same as default)\n",
    "bigmac_wide <- read_excel(path = \"bigmac_analysis.xlsx\", sheet = 1)\n",
    "head(bigmac_wide)"
   ]
  },
  {
   "cell_type": "markdown",
   "id": "46152078-82bb-40db-b86f-05d11daa8819",
   "metadata": {},
   "source": [
    "To load the second sheet of the file, you can specify `sheet = 2`. \n",
    "\n",
    "In the cell below, we load the second sheet and name the dataset `bigmac_long`. "
   ]
  },
  {
   "cell_type": "code",
   "execution_count": 3,
   "id": "db800006-d8e5-4b5f-bf7c-8c95089c8a9e",
   "metadata": {},
   "outputs": [
    {
     "data": {
      "text/html": [
       "<table class=\"dataframe\">\n",
       "<caption>A tibble: 6 × 4</caption>\n",
       "<thead>\n",
       "\t<tr><th scope=col>country_name</th><th scope=col>country_code</th><th scope=col>year</th><th scope=col>dollar_price</th></tr>\n",
       "\t<tr><th scope=col>&lt;chr&gt;</th><th scope=col>&lt;chr&gt;</th><th scope=col>&lt;dbl&gt;</th><th scope=col>&lt;dbl&gt;</th></tr>\n",
       "</thead>\n",
       "<tbody>\n",
       "\t<tr><td>United Arab Emirates</td><td>ARE</td><td>2022</td><td>4.628306</td></tr>\n",
       "\t<tr><td>Argentina           </td><td>ARG</td><td>2022</td><td>4.285041</td></tr>\n",
       "\t<tr><td>Australia           </td><td>AUS</td><td>2022</td><td>4.509120</td></tr>\n",
       "\t<tr><td>Azerbaijan          </td><td>AZE</td><td>2022</td><td>2.648617</td></tr>\n",
       "\t<tr><td>Bahrain             </td><td>BHR</td><td>2022</td><td>3.978780</td></tr>\n",
       "\t<tr><td>Brazil              </td><td>BRA</td><td>2022</td><td>4.312618</td></tr>\n",
       "</tbody>\n",
       "</table>\n"
      ],
      "text/latex": [
       "A tibble: 6 × 4\n",
       "\\begin{tabular}{llll}\n",
       " country\\_name & country\\_code & year & dollar\\_price\\\\\n",
       " <chr> & <chr> & <dbl> & <dbl>\\\\\n",
       "\\hline\n",
       "\t United Arab Emirates & ARE & 2022 & 4.628306\\\\\n",
       "\t Argentina            & ARG & 2022 & 4.285041\\\\\n",
       "\t Australia            & AUS & 2022 & 4.509120\\\\\n",
       "\t Azerbaijan           & AZE & 2022 & 2.648617\\\\\n",
       "\t Bahrain              & BHR & 2022 & 3.978780\\\\\n",
       "\t Brazil               & BRA & 2022 & 4.312618\\\\\n",
       "\\end{tabular}\n"
      ],
      "text/markdown": [
       "\n",
       "A tibble: 6 × 4\n",
       "\n",
       "| country_name &lt;chr&gt; | country_code &lt;chr&gt; | year &lt;dbl&gt; | dollar_price &lt;dbl&gt; |\n",
       "|---|---|---|---|\n",
       "| United Arab Emirates | ARE | 2022 | 4.628306 |\n",
       "| Argentina            | ARG | 2022 | 4.285041 |\n",
       "| Australia            | AUS | 2022 | 4.509120 |\n",
       "| Azerbaijan           | AZE | 2022 | 2.648617 |\n",
       "| Bahrain              | BHR | 2022 | 3.978780 |\n",
       "| Brazil               | BRA | 2022 | 4.312618 |\n",
       "\n"
      ],
      "text/plain": [
       "  country_name         country_code year dollar_price\n",
       "1 United Arab Emirates ARE          2022 4.628306    \n",
       "2 Argentina            ARG          2022 4.285041    \n",
       "3 Australia            AUS          2022 4.509120    \n",
       "4 Azerbaijan           AZE          2022 2.648617    \n",
       "5 Bahrain              BHR          2022 3.978780    \n",
       "6 Brazil               BRA          2022 4.312618    "
      ]
     },
     "metadata": {},
     "output_type": "display_data"
    }
   ],
   "source": [
    "# Load data - specify you want to load the second sheet\n",
    "bigmac_long <- read_excel(path = \"bigmac_analysis.xlsx\", sheet = 2)\n",
    "head(bigmac_long)"
   ]
  },
  {
   "cell_type": "markdown",
   "id": "08f060a2-c80b-44a1-a43b-689a6d0d2d71",
   "metadata": {},
   "source": [
    "Alternatively, we can specify the name of the sheet rather than its number. If you are frequently reordering the sheets in your Excel file, you may prefer to load data this way.\n",
    "\n",
    "In the cell below, we load the sheet named long and again name the dataset `bigmac_long`. "
   ]
  },
  {
   "cell_type": "code",
   "execution_count": 4,
   "id": "adc2664b-fae9-4797-80df-0032cbe1f3a3",
   "metadata": {},
   "outputs": [
    {
     "data": {
      "text/html": [
       "<table class=\"dataframe\">\n",
       "<caption>A tibble: 6 × 4</caption>\n",
       "<thead>\n",
       "\t<tr><th scope=col>country_name</th><th scope=col>country_code</th><th scope=col>year</th><th scope=col>dollar_price</th></tr>\n",
       "\t<tr><th scope=col>&lt;chr&gt;</th><th scope=col>&lt;chr&gt;</th><th scope=col>&lt;dbl&gt;</th><th scope=col>&lt;dbl&gt;</th></tr>\n",
       "</thead>\n",
       "<tbody>\n",
       "\t<tr><td>United Arab Emirates</td><td>ARE</td><td>2022</td><td>4.628306</td></tr>\n",
       "\t<tr><td>Argentina           </td><td>ARG</td><td>2022</td><td>4.285041</td></tr>\n",
       "\t<tr><td>Australia           </td><td>AUS</td><td>2022</td><td>4.509120</td></tr>\n",
       "\t<tr><td>Azerbaijan          </td><td>AZE</td><td>2022</td><td>2.648617</td></tr>\n",
       "\t<tr><td>Bahrain             </td><td>BHR</td><td>2022</td><td>3.978780</td></tr>\n",
       "\t<tr><td>Brazil              </td><td>BRA</td><td>2022</td><td>4.312618</td></tr>\n",
       "</tbody>\n",
       "</table>\n"
      ],
      "text/latex": [
       "A tibble: 6 × 4\n",
       "\\begin{tabular}{llll}\n",
       " country\\_name & country\\_code & year & dollar\\_price\\\\\n",
       " <chr> & <chr> & <dbl> & <dbl>\\\\\n",
       "\\hline\n",
       "\t United Arab Emirates & ARE & 2022 & 4.628306\\\\\n",
       "\t Argentina            & ARG & 2022 & 4.285041\\\\\n",
       "\t Australia            & AUS & 2022 & 4.509120\\\\\n",
       "\t Azerbaijan           & AZE & 2022 & 2.648617\\\\\n",
       "\t Bahrain              & BHR & 2022 & 3.978780\\\\\n",
       "\t Brazil               & BRA & 2022 & 4.312618\\\\\n",
       "\\end{tabular}\n"
      ],
      "text/markdown": [
       "\n",
       "A tibble: 6 × 4\n",
       "\n",
       "| country_name &lt;chr&gt; | country_code &lt;chr&gt; | year &lt;dbl&gt; | dollar_price &lt;dbl&gt; |\n",
       "|---|---|---|---|\n",
       "| United Arab Emirates | ARE | 2022 | 4.628306 |\n",
       "| Argentina            | ARG | 2022 | 4.285041 |\n",
       "| Australia            | AUS | 2022 | 4.509120 |\n",
       "| Azerbaijan           | AZE | 2022 | 2.648617 |\n",
       "| Bahrain              | BHR | 2022 | 3.978780 |\n",
       "| Brazil               | BRA | 2022 | 4.312618 |\n",
       "\n"
      ],
      "text/plain": [
       "  country_name         country_code year dollar_price\n",
       "1 United Arab Emirates ARE          2022 4.628306    \n",
       "2 Argentina            ARG          2022 4.285041    \n",
       "3 Australia            AUS          2022 4.509120    \n",
       "4 Azerbaijan           AZE          2022 2.648617    \n",
       "5 Bahrain              BHR          2022 3.978780    \n",
       "6 Brazil               BRA          2022 4.312618    "
      ]
     },
     "metadata": {},
     "output_type": "display_data"
    }
   ],
   "source": [
    "# Load data - specify you want to load sheet named \"long\"\n",
    "bigmac_long <- read_excel(path = \"bigmac_analysis.xlsx\", sheet = \"long\")\n",
    "head(bigmac_long)"
   ]
  }
 ],
 "metadata": {
  "colab": {
   "collapsed_sections": [],
   "provenance": []
  },
  "kernelspec": {
   "display_name": "R",
   "language": "R",
   "name": "ir"
  },
  "language_info": {
   "codemirror_mode": "r",
   "file_extension": ".r",
   "mimetype": "text/x-r-source",
   "name": "R",
   "pygments_lexer": "r",
   "version": "4.1.2"
  }
 },
 "nbformat": 4,
 "nbformat_minor": 5
}

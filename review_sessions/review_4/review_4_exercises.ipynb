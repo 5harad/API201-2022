{
 "cells": [
  {
   "cell_type": "markdown",
   "id": "4839cd02-22e6-4e06-9617-eccba2b91eb8",
   "metadata": {
    "id": "4839cd02-22e6-4e06-9617-eccba2b91eb8"
   },
   "source": [
    "# API-201 ABC REVIEW SESSION #4\n",
    "**Friday, September 30**"
   ]
  },
  {
   "cell_type": "markdown",
   "id": "-6f4j5MrJr6P",
   "metadata": {
    "id": "-6f4j5MrJr6P"
   },
   "source": [
    "# Table of Contents\n",
    "1. [Lecture Recap](#Lecture-Recap)\n",
    "2. [Exercises](#Exercises)"
   ]
  },
  {
   "cell_type": "markdown",
   "id": "3742b085-c737-4654-9f1c-52c605f4d679",
   "metadata": {},
   "source": [
    "# Lecture Recap"
   ]
  },
  {
   "cell_type": "markdown",
   "id": "9d26910e-4328-4789-bcd4-476a0ba24d1e",
   "metadata": {},
   "source": [
    "## Normal Distribution"
   ]
  },
  {
   "cell_type": "markdown",
   "id": "04ed64bb-4604-4f3c-9444-f24c3ca3b6b8",
   "metadata": {},
   "source": [
    "The normal distribution is one of many different continuous distributions. There are _many_ different continuous distributions which are useful for modeling different phenomena: e.g. uniform, Student's t, chi-squared, pareto, F, beta, gamma, lognormal, truncated normal, exponential...\n",
    "\n",
    "But normal is an especially important distribution as you will see when we discuss the Central Limit Theorem, which makes much of statistics possible.\n",
    "\n",
    "With continuous distributions like the normal, we don't focus on the probability of a particular value happening, but rather a _range of values_. For example, we may be interested in the probability that rainfall is between 650mm and 675mm or the probability the Red Line train takes more than 10 minutes to arrive during rush hour. \n",
    "\n",
    "Given a continuous distribution's __density__ and a range of values, we calculate the probability that a randomly chosen value falls in that range by totalling the area under the density function. From class, 68% of the area falls within 1 standard deviation of the mean, 95% of the area falls within 2 standard deviations of the mean, and 99.7% of the area falls within 3 standard deviations of the mean. More generally, you can calculate areas under the curve in R using the `pnorm()` function.\n",
    "\n",
    "Normal distributions are usually parameterized with a mean (often denoted $\\mu$) and a standard deviation (often denoted $\\sigma$). A standard normal distribution has mean 0 and standard deviation 1. We can transform any normal distribution into a standard normal by subtracting each value by $\\mu$ and dividing by $\\sigma$. Doing so translates values into Z-scores, which provide a standardized measure of how far values diverge from the average:\n",
    "\n",
    "$$z = \\frac{x - \\mu}{\\sigma}.$$\n",
    "\n",
    "For example, if rainfall follows a normal distribution with $\\mu = 600$ and $\\sigma = 50$, the Z-score of 700mm is 2, and thus this outcome is 2 standard deviations away from the mean. 95 percent of the area under the curve is within 2 standard deviation of the mean, so only 5 percent of values are at least as extreme as 700mm."
   ]
  },
  {
   "cell_type": "markdown",
   "id": "9e86534a-0006-432a-8ed0-a9c29b19defb",
   "metadata": {},
   "source": [
    "### Normal probabilities in R"
   ]
  },
  {
   "cell_type": "code",
   "execution_count": null,
   "id": "d2b4418b-d329-4ece-b7ee-5fe2b91f0ec9",
   "metadata": {},
   "outputs": [],
   "source": [
    "# Plot a standard normal distribution\n",
    "data <- tibble(x = seq(-4, 4, .05), dens = dnorm(x))\n",
    "ggplot(data, aes(x = x, y = dens)) + \n",
    "    geom_line() +\n",
    "    geom_area(data = filter(data, x <= 1.5), alpha = .5)"
   ]
  },
  {
   "cell_type": "code",
   "execution_count": null,
   "id": "d86bc1ba-f8d2-4eb8-8513-06e8fc34e305",
   "metadata": {},
   "outputs": [],
   "source": [
    "# What is the probability X is less than 1.5?\n",
    "pnorm(1.5)\n",
    "\n",
    "# What is the probability X is greater than 0.5? \n",
    "1 - pnorm(0.5)\n",
    "\n",
    "# What is the probability X is less than 1.5 AND greater than 0.5? \n",
    "pnorm(1.5) - pnorm(0.5)\n",
    "\n",
    "# What if the distribution isn't standard normal?\n",
    "# Calculate Z score first\n",
    "pnorm((675 - 600) / 50)\n",
    "\n",
    "# Or provide mean/sd arguments\n",
    "pnorm(675, mean = 600, sd = 50)\n"
   ]
  },
  {
   "cell_type": "markdown",
   "id": "a02e6a63-39fc-445c-81b1-3cf236365a02",
   "metadata": {},
   "source": [
    "## Linearity of Expectations\n",
    "\n",
    "On Tuesday we showed that expectations are __linear__. What does this mean?\n",
    "\n",
    "The expectation of a sum is equal to the sum of expectations: $E[X_1 + X_2] = E[X_1] + E[X_2]$. This holds regardless of whether $X_1$ and $X_2$ are independent. For example, let $X_t$ be the amount of rainfall in year $t$. Then the expected amount of rainfall in 2023, 2024, and 2025 altogether is equal to sum of the expectations in each of those years: $E[X_{23} + X_{24} + X_{25}] = E[X_{23}] + E[X_{24}] + E[X_{25}]$.\n",
    "\n",
    "Suppose $E[X_t] = 600$ for all years. Then $E[X_{23} + X_{24} + X_{25}] = 600 + 600 + 600 = 1800$. So, we would expect 1800mm of rainfall total in those 3 years. This is true even if the amount of rainfall in 2023 affects the amount of rainfall in 2024 and 2025!"
   ]
  },
  {
   "cell_type": "markdown",
   "id": "d5711e37-1060-49bc-99a6-d15b04756f16",
   "metadata": {
    "id": "d5711e37-1060-49bc-99a6-d15b04756f16"
   },
   "source": [
    "# Exercises"
   ]
  },
  {
   "cell_type": "markdown",
   "id": "67e9236f-ce8e-445a-8b01-411138639cd8",
   "metadata": {
    "id": "67e9236f-ce8e-445a-8b01-411138639cd8"
   },
   "source": [
    "## Exercise 1: Wildfire expectations"
   ]
  },
  {
   "cell_type": "markdown",
   "id": "b99f201f-3bc5-46c8-b63b-7f029c68792a",
   "metadata": {},
   "source": [
    "Suppose the annual probability of a property being affected by a wildfire in California is fixed at 0.0003 (0.03%) and is independent across years."
   ]
  },
  {
   "cell_type": "markdown",
   "id": "c3eaf4b4-2cbe-4890-aca3-ed8c983b0cd8",
   "metadata": {},
   "source": [
    "**a. What is the expected number of fires that property would be affected by in 30 years?**"
   ]
  },
  {
   "cell_type": "markdown",
   "id": "f14260fd-ebfe-4e8b-ad8d-cdb8069cf898",
   "metadata": {},
   "source": [
    "Hint: Let $X_t$ be a Bernoulli random variable that equals 1 with probability 0.0003 and 0 otherwise. Then the number of fires in 30 years is $Y = X_1 + X_2 + ... + X_{30}$.\n"
   ]
  },
  {
   "cell_type": "markdown",
   "id": "0c9f1de3-0fc6-422e-8431-1d0b03522f8c",
   "metadata": {},
   "source": [
    "#### Your answer here!\n",
    "\n",
    "\n",
    "\n"
   ]
  },
  {
   "cell_type": "markdown",
   "id": "9cec9ee5-1bf5-4eb9-ae28-0534363b1f75",
   "metadata": {},
   "source": [
    "**b. Suppose the probability of being affected by a fire increases in each year. Can we still calculate the expected number of fires in 30 years by adding the probability of fire in each year?**\n",
    "\n",
    "#### Your answer here!\n",
    "\n"
   ]
  },
  {
   "cell_type": "markdown",
   "id": "348e5533-9fd3-4fe4-9476-62e81715b339",
   "metadata": {},
   "source": [
    "**c. You consult a wildfire expert and it turns out that after a wildfire impacts a property, it is much less likely that another wildfire will affect that property for the next 5 years. What does that mean about the independence of wildfires over time? Does this impact how we calculate the expectation of the number of wildfires in 30 years?**\n",
    "\n",
    "#### Your answer here!\n",
    "\n"
   ]
  },
  {
   "cell_type": "markdown",
   "id": "2c63e15b-cda5-435b-ae41-5289307403b7",
   "metadata": {},
   "source": [
    "## Exercise 2: Stock returns and the normal distribution"
   ]
  },
  {
   "cell_type": "markdown",
   "id": "4eeb2acc-1c1b-4dfb-80e4-dace3584f18b",
   "metadata": {},
   "source": [
    "Imagine that an investor is deciding whether to buy stocks from company A or company B. Historical data indicates that the average annual return of the stocks has been approximately 8% and 6% respectively, and the standard deviation of the returns has been 12% and 7% respectively."
   ]
  },
  {
   "cell_type": "code",
   "execution_count": null,
   "id": "ad83f4b2-4b4b-4d78-ac5a-c9f9e566191f",
   "metadata": {},
   "outputs": [],
   "source": [
    "# Setup. Run me!\n",
    "\n",
    "# Load tidyverse\n",
    "library(tidyverse)\n",
    "\n",
    "# Mean of annual return \n",
    "mean_return_a <- 0.08\n",
    "mean_return_b <- 0.06\n",
    "\n",
    "# Standard deviation of annual return\n",
    "sd_return_a <- 0.12\n",
    "sd_return_b <- 0.07"
   ]
  },
  {
   "cell_type": "markdown",
   "id": "ba2f11d8-bcc3-416d-a7b5-2d58c7db0f1d",
   "metadata": {},
   "source": [
    "**a. Using simulations, model the stock return of each company next year as a normal distribution using the parameters below. Plot both distributions.**"
   ]
  },
  {
   "cell_type": "code",
   "execution_count": null,
   "id": "7a425497-38c6-4f82-9ca8-cd9f73c95ecf",
   "metadata": {},
   "outputs": [],
   "source": [
    "# Your answer here!\n",
    "set.seed(1)\n",
    "num_sims <- 1e5\n",
    "\n"
   ]
  },
  {
   "cell_type": "markdown",
   "id": "b556f082-3eee-4f47-839e-8fc93f4d5e9e",
   "metadata": {},
   "source": [
    "**b. Which stock has a higher probability of yielding positive returns next year?**"
   ]
  },
  {
   "cell_type": "code",
   "execution_count": null,
   "id": "7c1d1072-e1f8-452b-bd4c-28230beb30f1",
   "metadata": {},
   "outputs": [],
   "source": [
    "# Your answer here!\n",
    "\n"
   ]
  },
  {
   "cell_type": "markdown",
   "id": "0c9daeaf-a018-4202-bcb1-b2030e243db9",
   "metadata": {},
   "source": [
    "**c. After a positive year for both companies, stock's A return was 10% and stock's B was 9%. Calculate the z-score and discuss which stock performed better relative to past years.**"
   ]
  },
  {
   "cell_type": "code",
   "execution_count": null,
   "id": "3a76b184-3927-49aa-8a8f-94bdac4bda39",
   "metadata": {},
   "outputs": [],
   "source": [
    "# Your answer here!\n",
    "\n"
   ]
  },
  {
   "cell_type": "markdown",
   "id": "4e1e68e4-bd79-4b74-a6a6-434b411ea1ba",
   "metadata": {},
   "source": [
    "**d. Suppose that the investor decides to buy stock from company B. Out of the next 10 years, how many years should they expect to receive positive returns on average?**"
   ]
  },
  {
   "cell_type": "markdown",
   "id": "2d3758cb-b06f-4f2a-b83d-35bcd08bdd1d",
   "metadata": {},
   "source": [
    "#### Your answer here!\n",
    "\n"
   ]
  },
  {
   "cell_type": "markdown",
   "id": "49d19629-2ef9-40b1-b7ad-e335cd03cc40",
   "metadata": {},
   "source": [
    "## Exercise 3: Insuring for rainfall"
   ]
  },
  {
   "cell_type": "markdown",
   "id": "6286e9a0-cc35-4e83-a266-d0c87c91e626",
   "metadata": {},
   "source": [
    "Suppose a risk-neutral farmer is considering insuring against rainfall conditions. Rainfall is normally distributed with mean 600mm and standard deviation 50mm. If rainfall is less than 500mm or greater than 700mm, the farmer's crop will fail."
   ]
  },
  {
   "cell_type": "markdown",
   "id": "cba810e1-97db-459e-ac03-3b2ca5e465dd",
   "metadata": {},
   "source": [
    "**a. What is the probability the farmer's crop will fail?**\n",
    "\n",
    "Hint: Approximately 95% of the area under the normal distribution curve falls within 2 standard deviations of the mean."
   ]
  },
  {
   "cell_type": "markdown",
   "id": "a636c089-b6aa-45f1-bdbc-76410ab050f1",
   "metadata": {},
   "source": [
    "#### Your answer here!\n",
    "\n"
   ]
  },
  {
   "cell_type": "markdown",
   "id": "8266eca2-59df-4bf6-8dea-28941df06c74",
   "metadata": {},
   "source": [
    "**b. Now suppose the cost of crop failure is \\\\$2 million. Insurance costs \\\\$150,000 to buy. If crops fail, the farmer is reimbursed the entire cost of crop failure. Draw out a decision tree. Should she buy insurance?**"
   ]
  },
  {
   "cell_type": "markdown",
   "id": "b1fff83d-88bf-405a-926b-c9da233e3ada",
   "metadata": {},
   "source": [
    "#### Your answer here!\n",
    "\n"
   ]
  },
  {
   "cell_type": "markdown",
   "id": "a6f36aae-9c21-4601-9ff0-8f0407801050",
   "metadata": {},
   "source": [
    "**c. Above what probability should the farmer buy insurance?**\n",
    "\n",
    "#### Your answer here!\n"
   ]
  }
 ],
 "metadata": {
  "colab": {
   "collapsed_sections": [],
   "name": "review_sessions/review_4/review_4_exercises.ipynb",
   "provenance": []
  },
  "kernelspec": {
   "display_name": "R",
   "language": "R",
   "name": "ir"
  },
  "language_info": {
   "codemirror_mode": "r",
   "file_extension": ".r",
   "mimetype": "text/x-r-source",
   "name": "R",
   "pygments_lexer": "r",
   "version": "4.1.2"
  }
 },
 "nbformat": 4,
 "nbformat_minor": 5
}

{
 "cells": [
  {
   "cell_type": "markdown",
   "id": "4839cd02-22e6-4e06-9617-eccba2b91eb8",
   "metadata": {
    "id": "4839cd02-22e6-4e06-9617-eccba2b91eb8"
   },
   "source": [
    "# API-201 ABC REVIEW SESSION #4\n",
    "**Friday, September 30**"
   ]
  },
  {
   "cell_type": "markdown",
   "id": "-6f4j5MrJr6P",
   "metadata": {
    "id": "-6f4j5MrJr6P"
   },
   "source": [
    "# Table of Contents\n",
    "1. [Lecture Recap](#Lecture-Recap)\n",
    "2. [Exercises](#Exercises)"
   ]
  },
  {
   "cell_type": "markdown",
   "id": "3742b085-c737-4654-9f1c-52c605f4d679",
   "metadata": {},
   "source": [
    "# Lecture Recap"
   ]
  },
  {
   "cell_type": "markdown",
   "id": "d5711e37-1060-49bc-99a6-d15b04756f16",
   "metadata": {
    "id": "d5711e37-1060-49bc-99a6-d15b04756f16"
   },
   "source": [
    "# Exercises"
   ]
  },
  {
   "cell_type": "markdown",
   "id": "67e9236f-ce8e-445a-8b01-411138639cd8",
   "metadata": {
    "id": "67e9236f-ce8e-445a-8b01-411138639cd8"
   },
   "source": [
    "## Exercise 1: Wildfire expectations"
   ]
  },
  {
   "cell_type": "markdown",
   "id": "b99f201f-3bc5-46c8-b63b-7f029c68792a",
   "metadata": {},
   "source": [
    "Suppose the annual probability of a property being affected by a wildfire in California is fixed at 0.0003 (0.03%) and is independent across years."
   ]
  },
  {
   "cell_type": "markdown",
   "id": "c3eaf4b4-2cbe-4890-aca3-ed8c983b0cd8",
   "metadata": {},
   "source": [
    "**a. What is the expected number of fires that property would be affected by in 30 years?**"
   ]
  },
  {
   "cell_type": "markdown",
   "id": "f14260fd-ebfe-4e8b-ad8d-cdb8069cf898",
   "metadata": {},
   "source": [
    "Hint: Let $X_t$ be a Bernoulli random variable that equals 1 with probability 0.0003 and 0 otherwise. Then the number of fires in 30 years is $Y = X_1 + X_2 + ... + X_{30}$.\n"
   ]
  },
  {
   "cell_type": "markdown",
   "id": "0c9f1de3-0fc6-422e-8431-1d0b03522f8c",
   "metadata": {},
   "source": [
    "#### Your answer here!\n",
    "\n",
    "##### START\n",
    "\n",
    "\\begin{align*}\n",
    "E[Y] &= E[X_1 + X_2 + ... + X_{30}] \\\\\n",
    "     &= E[X_1] + E[X_2] + ... + E[X_{30}] \\\\\n",
    "     &= 30 \\times E[X_t] \\\\\n",
    "     &= 30 \\times 0.0003 \\\\\n",
    "     &= 0.009\n",
    "\\end{align*}\n",
    "\n",
    "We would expect a property to be affected by 0.009 fires in 30 years.\n",
    "\n",
    "##### END\n",
    "\n",
    "\n"
   ]
  },
  {
   "cell_type": "markdown",
   "id": "0c2d42f7-8794-45fa-9212-2bedf767d2af",
   "metadata": {},
   "source": [
    "**b. What is the standard deviation of the number of fires in 30 years?**\n",
    "\n",
    "Hint: $Var(X_t) = 0.0003 \\times (1 - 0.0003) \\approx 0.0003$."
   ]
  },
  {
   "cell_type": "markdown",
   "id": "d3cbeaef-6349-4825-8cf5-3bed05675d65",
   "metadata": {},
   "source": [
    "#### Your answer here!\n",
    "\n",
    "##### START\n",
    "\n",
    "Because we are told to suppose that wildfires are independent across years, we can express the variance of the number of wildfires affecting a property as the sum of variances for each year:\n",
    "\n",
    "\\begin{align*}\n",
    "Var(Y) &= Var(X_1 + X_2 + ... + X_{30}) \\\\\n",
    "     &= Var(X_1) + Var(X_2) + ... + Var(X_{30}) \\mbox{ (by independence)} \\\\\n",
    "     &= 30 \\times Var(X_t) \\\\\n",
    "     &= 30 \\times 0.0003 \\\\\n",
    "     &= 0.009\n",
    "\\end{align*}\n",
    "\n",
    "$SD(Y) = \\sqrt{Var(Y)} = \\sqrt{0.009} = 0.095$\n",
    "\n",
    "##### END\n",
    "\n",
    "\n"
   ]
  },
  {
   "cell_type": "markdown",
   "id": "9cec9ee5-1bf5-4eb9-ae28-0534363b1f75",
   "metadata": {},
   "source": [
    "**c. Suppose the probability of being affected by a fire increases in each year.**\n",
    "\n",
    "* (i.) Can we still calculate the expected number of fires in 30 years by adding the probability of fire in each year?\n",
    "\n",
    "#### Your answer here!\n",
    "\n",
    "##### START\n",
    "\n",
    "Yes! Instead of multiplying a single probability times the number of years, we would now need to add up 30 different probabilities.\n",
    "\n",
    "##### END\n",
    "\n",
    "\n",
    "* (ii.) Can we still calculate the variance in number of fires in 30 years by adding the variance of fire in each year?\n",
    "\n",
    "#### Your answer here!\n",
    "\n",
    "##### START\n",
    "\n",
    "Yes! While the probability of fire is increasing with time, whether there is fire in a particular year is still independent of fires in other years. For example, the lack of a fire in the first year doesn't increase the probability of a fire in the next year, even if the probability of fire tends to increase with time.\n",
    "\n",
    "##### END\n",
    "\n"
   ]
  },
  {
   "cell_type": "markdown",
   "id": "348e5533-9fd3-4fe4-9476-62e81715b339",
   "metadata": {},
   "source": [
    "**d. You consult a wildfire expert and it turns out that after a wildfire impacts a property, it is much less likely that another wildfire will affect that property for the next 5 years. What does that mean about the independence of wildfires over time? Does this impact how we calculate the expectation or variance of the number of wildfires in 30 years?**\n",
    "\n",
    "#### Your answer here!\n",
    "\n",
    "##### START\n",
    "\n",
    "This means that being affected by a wildfire in a given year is dependent on whether your property was affected by a wildfire in another year. Because the expectation of a sum is always exqual to the sum of expectations (linearity of expectations) this doesn't impact how we calculate the expected number of wildfires in 30 years. However, the variance of a sum is only equal to a sum of variances if the data is independent. Therefore, we cannot simply add annual variances to calculate the variance of the total number of wildfires in 30 years.\n",
    "\n",
    "##### END\n"
   ]
  }
 ],
 "metadata": {
  "colab": {
   "collapsed_sections": [],
   "provenance": []
  },
  "kernelspec": {
   "display_name": "R",
   "language": "R",
   "name": "ir"
  },
  "language_info": {
   "codemirror_mode": "r",
   "file_extension": ".r",
   "mimetype": "text/x-r-source",
   "name": "R",
   "pygments_lexer": "r",
   "version": "4.1.2"
  }
 },
 "nbformat": 4,
 "nbformat_minor": 5
}

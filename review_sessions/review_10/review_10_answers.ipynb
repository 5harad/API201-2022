{
 "cells": [
  {
   "cell_type": "markdown",
   "id": "4839cd02-22e6-4e06-9617-eccba2b91eb8",
   "metadata": {
    "id": "4839cd02-22e6-4e06-9617-eccba2b91eb8",
    "tags": []
   },
   "source": [
    "# API-201 ABC REVIEW SESSION #10\n",
    "\n",
    "**Friday, December 9**"
   ]
  },
  {
   "cell_type": "markdown",
   "id": "a42d278d-0afa-42a4-be08-1cc9febc7a2a",
   "metadata": {},
   "source": [
    "# Statistical Inference and the Minimum Wage"
   ]
  },
  {
   "cell_type": "markdown",
   "id": "1c2c0024-d9f5-4bf4-b92b-7471fcb32b5b",
   "metadata": {},
   "source": [
    "Card and Krueger surveyed fast food restaurants before and after the minimum wage change. Suppose you are working on a congressional campaign in the state of Michigan. The candidate you are working for is deciding whether they should come out in support of a $15 minimum wage. There are many factors that will influence the decision, but at the forefront of your candidate's mind are JOBS JOBS JOBS. Your candidate would like for their policies to increase wages, but to them this is much less important than keeping unemployment low. \n",
    "\n",
    "You remember from Econ 101 that in the classical model of labor supply and demand a minimum wage will create surplus labor AKA unemployment. However, there are other economic models under which minimum wage changes may actually increase employment! In these models, if firms have a lot of market power they set wages low which reduces employment because people don't want to work for those low wages. \n",
    "\n",
    "Card and Krueger tested how these models fared when faced with real world data by evaluating how a minimum wage change in New Jersey actually affected employment. They compared the change in employment at fast food restaurants in New Jersey — which increased its state minimum wage from \\\\$4.25 to \\\\$5.05 — to the change in Eastern Pennsylvania — which didn't change its minimum wage. "
   ]
  },
  {
   "cell_type": "markdown",
   "id": "8d4539f7-abc1-424b-9555-457454107222",
   "metadata": {},
   "source": [
    "Card and Krueger surveyed fast food restaurants in New Jersey and Pennsylvania before and after the minimum wage change and assessed the **difference in the change in number of of full-time-equivalent workers those restaurants employed.** (For example, if 20 workers each worked 20 hours each, this is 10 full-time-equivalent workers.) **What does this accomplish?**"
   ]
  },
  {
   "cell_type": "markdown",
   "id": "9d73822c-413e-40ee-8af5-483110043467",
   "metadata": {},
   "source": [
    "![](distribution_plots.png)"
   ]
  },
  {
   "cell_type": "markdown",
   "id": "c00d3fe7-3cf7-44c2-bf71-5dd93691c112",
   "metadata": {},
   "source": [
    "Let's first focus on the change in full-time-equivalent workers (FTE) in New Jersey. Among all fast food restaurants in New Jersey there is an unknown **population distribution** of the change in FTE. _We do not know what the population distribution is._ We don't even know its mean or standard deviation, but we can call them $\\mu$ and $\\sigma$. By using statistics, we attempt to learn something about the population using a **sample**. \n",
    "\n",
    "The sample distribution of the change in FTE among New Jersey fast food restaurants is depicted in the middle plot above. There is wide dispersion in the change across restaurants. We can calculate a sample average $\\hat\\mu$ and a sample standard deviation $\\hat\\sigma$ to describe this sample distribution. \n",
    "\n",
    "The Central Limit Theorem allows us to learn about the population from just our sample. If the sample is representative and sufficiently large, the CLT tells us that $\\hat\\mu$ is normally-distributed with mean $\\mu$ and standard deviation $\\dfrac{\\sigma}{\\sqrt{n}}$. If we approximate the standard deviation using $\\hat\\sigma$, we know how much variation in the sample mean that there is around the population mean, and therefore we know what a range of reasonable values for $\\mu$ is!"
   ]
  },
  {
   "cell_type": "markdown",
   "id": "a10d075f-b3e9-476e-8108-644c92ac96bd",
   "metadata": {},
   "source": [
    "**0. Download the Card and Krueger data.**"
   ]
  },
  {
   "cell_type": "code",
   "execution_count": 1,
   "id": "6b4af17b-13d8-4b18-8395-2a76ce75fd0e",
   "metadata": {},
   "outputs": [],
   "source": [
    "# Download data\n",
    "download.file(\"https://github.com/5harad/API201-students/raw/main/review_sessions/review_10/fastfood.dta\", \n",
    "              \"fastfood.dta\")"
   ]
  },
  {
   "cell_type": "markdown",
   "id": "648a8d2c-300a-4ad6-81b4-a28fb96ae9a0",
   "metadata": {},
   "source": [
    "**1. In 1992, Card and Krueger attempted to contact 473 Burger King, KFC, Wendy's, and Roy Rogers chains in New Jersey and Eastern Pennsylvania for initial interviews.**"
   ]
  },
  {
   "cell_type": "markdown",
   "id": "e38e5218-98ea-4ad2-8f3c-aa3d6bbd6401",
   "metadata": {},
   "source": [
    "**a. What are the relevant populations considered in this study?**\n",
    "\n",
    "##### START\n",
    "\n",
    "1. Burger King, KFC, Wendy's, and Roy Rogers chains in New Jersey\n",
    "2. Burger King, KFC, Wendy's, and Roy Rogers chains in Eastern Pennsylvania\n",
    "\n",
    "##### END"
   ]
  },
  {
   "cell_type": "markdown",
   "id": "7a66f265-ad20-424d-9bb6-cbb4b0595554",
   "metadata": {},
   "source": [
    "**b. Card and Krueger were only able to complete initial interviews with 410 restaurants. If busier stores were less likely to complete interviews is the sample still representative? If not, how might this bias the estimate?** \n",
    "\n",
    "##### START\n",
    "\n",
    "By using only data from restaurants that responded to the interview, Card and Krueger estimate employment only conditional on taking an interview, even though they are interested in average employment across all stores. Restaurants with managers that are able to take a phone interviews may also not have staffing issues and so they are flexible enough to cut back hours when the minimum wage increases. \n",
    "\n",
    "##### END"
   ]
  },
  {
   "cell_type": "markdown",
   "id": "ac7861dd-2376-4d4f-a310-22b45ed66489",
   "metadata": {},
   "source": [
    "Card and Krueger managed to re-interview most of the 410 restaurants after the minimum wage change (the rest were closed, under renovation, or refused to be re-interviewed). When all was said and done, there were 309 restaurants in New Jersey and 75 in Pennsylvania that were interviewed both before and after the minimum wage change. They then calculated the change in full-time-equivalent workers (FTE) at each restaurant. \n",
    "\n",
    "**c. Let $\\mu_s$ be the average change in FTE at restaurants in state $s$ and $\\sigma_s$ be the standard deviation of the change in FTE at restaurants in that state. Then, what is the sampling distribution of $\\hat{\\mu}_{NJ} - \\hat{\\mu}_{PA}$?**\n",
    "\n",
    "##### START\n",
    "By the Central Limit Theorem, the distribution is Normal with mean $\\mu_{NJ} - \\mu_{PA}$ and standard deviation $\\sqrt{\\dfrac{\\sigma_{NJ}^2}{309} + \\dfrac{\\sigma_{PA}^2}{75}}$. In practice, we don't know $\\sigma_s$, so we estimate the standard deviation as $\\sqrt{\\dfrac{\\hat{\\sigma}_{NJ}^2}{309} + \\dfrac{\\hat{\\sigma}_{PA}^2}{75}}$.\n",
    "\n",
    "##### END"
   ]
  },
  {
   "cell_type": "markdown",
   "id": "f216657e-6209-42d9-87d7-2ac2f068bd41",
   "metadata": {},
   "source": [
    "**d. Because a pilot study found that McDonald's restaurants had poor response rates, Card and Krueger did not survey any McDonald's. Suppose you uncover McDonald's secret human resources archive — second in secrecy only to their Big Mac sauce recipe. You use it to determine store employment in New Jersey and Pennsylvania prior to and after the minimum wage change. You supplement Card and Krueger's data by including employment in McDonald's restaurants. How does this affect the following:**\n",
    "\n",
    "- **i. The populations of interest**\n",
    "##### START\n",
    "The populations are now Burger King, KFC, Wendy's, Roy Rogers, **and McDonald's** stores in New Jersey and Pennsylvania, respectively. \n",
    "##### END\n",
    "\n",
    "- **ii. The population difference in means**\n",
    "##### START\n",
    "The true difference in average changes in full-time equivalent workers will be different from before because the population now includes McDonald's restaurants. For example, McDonald's restaurants may respond more negatively to the minimum wage change and tend to decrease workers more than other stores.\n",
    "##### END\n",
    "\n",
    "- **iii. Statistical power**\n",
    "##### START\n",
    "Statistical power — the probability of rejecting the null hypothesis if it is false – increases with the sample size and the true difference in means. \n",
    "Adding McDonald's restaurants will definitely increase the sample size, as there are more restaurants in the sample. \n",
    "The change in the true difference in means will depend on how McDonald's changed employment in Pennslyvania relative to New Jersey. As we will see, other restaurants actually increased employment in New Jersey relative to Pennsylvania. If McDonald's increased employment by even more, including these restaurants will definitely increase power. If they increased employment by less or decreased employment, the change in power is ambiguous: it will depend on the relative importance of the increase in sample size to the decrease in effect size.\n",
    "##### END"
   ]
  },
  {
   "cell_type": "code",
   "execution_count": 20,
   "id": "35fc7ecb-2874-4f62-a3b1-92381214fba1",
   "metadata": {},
   "outputs": [
    {
     "data": {
      "text/html": [
       "<table class=\"dataframe\">\n",
       "<caption>A tibble: 6 × 4</caption>\n",
       "<thead>\n",
       "\t<tr><th scope=col>restaurant_id</th><th scope=col>state</th><th scope=col>fte_pre</th><th scope=col>fte_post</th></tr>\n",
       "\t<tr><th scope=col>&lt;dbl&gt;</th><th scope=col>&lt;chr&gt;</th><th scope=col>&lt;dbl&gt;</th><th scope=col>&lt;dbl&gt;</th></tr>\n",
       "</thead>\n",
       "<tbody>\n",
       "\t<tr><td>1</td><td>PA</td><td>40.50</td><td>24.0</td></tr>\n",
       "\t<tr><td>2</td><td>PA</td><td>13.75</td><td>11.5</td></tr>\n",
       "\t<tr><td>3</td><td>PA</td><td> 8.50</td><td>10.5</td></tr>\n",
       "\t<tr><td>4</td><td>PA</td><td>34.00</td><td>20.0</td></tr>\n",
       "\t<tr><td>5</td><td>PA</td><td>24.00</td><td>35.5</td></tr>\n",
       "\t<tr><td>6</td><td>PA</td><td>20.50</td><td>  NA</td></tr>\n",
       "</tbody>\n",
       "</table>\n"
      ],
      "text/latex": [
       "A tibble: 6 × 4\n",
       "\\begin{tabular}{llll}\n",
       " restaurant\\_id & state & fte\\_pre & fte\\_post\\\\\n",
       " <dbl> & <chr> & <dbl> & <dbl>\\\\\n",
       "\\hline\n",
       "\t 1 & PA & 40.50 & 24.0\\\\\n",
       "\t 2 & PA & 13.75 & 11.5\\\\\n",
       "\t 3 & PA &  8.50 & 10.5\\\\\n",
       "\t 4 & PA & 34.00 & 20.0\\\\\n",
       "\t 5 & PA & 24.00 & 35.5\\\\\n",
       "\t 6 & PA & 20.50 &   NA\\\\\n",
       "\\end{tabular}\n"
      ],
      "text/markdown": [
       "\n",
       "A tibble: 6 × 4\n",
       "\n",
       "| restaurant_id &lt;dbl&gt; | state &lt;chr&gt; | fte_pre &lt;dbl&gt; | fte_post &lt;dbl&gt; |\n",
       "|---|---|---|---|\n",
       "| 1 | PA | 40.50 | 24.0 |\n",
       "| 2 | PA | 13.75 | 11.5 |\n",
       "| 3 | PA |  8.50 | 10.5 |\n",
       "| 4 | PA | 34.00 | 20.0 |\n",
       "| 5 | PA | 24.00 | 35.5 |\n",
       "| 6 | PA | 20.50 |   NA |\n",
       "\n"
      ],
      "text/plain": [
       "  restaurant_id state fte_pre fte_post\n",
       "1 1             PA    40.50   24.0    \n",
       "2 2             PA    13.75   11.5    \n",
       "3 3             PA     8.50   10.5    \n",
       "4 4             PA    34.00   20.0    \n",
       "5 5             PA    24.00   35.5    \n",
       "6 6             PA    20.50     NA    "
      ]
     },
     "metadata": {},
     "output_type": "display_data"
    }
   ],
   "source": [
    "# Load packages\n",
    "library(tidyverse)\n",
    "library(haven)\n",
    "\n",
    "# Read data\n",
    "fastfood <- read_dta(\"fastfood.dta\")\n",
    "\n",
    "head(fastfood)"
   ]
  },
  {
   "cell_type": "markdown",
   "id": "352adec4-c872-460e-9c64-aed6a456ff93",
   "metadata": {},
   "source": [
    "**Data Dictionary**\n",
    "* `restaurant_id` - a numerical identifier for each restaurant\n",
    "* `state` - which state the restaurant is located in (PA or NJ)\n",
    "* `fte_pre` - full-time-equivalent workers prior to the minimum wage increase in NJ\n",
    "* `fte_post` - full-time-equivalent workers after the minimum wage increase in NJ"
   ]
  },
  {
   "cell_type": "markdown",
   "id": "5b27fc34-e61b-4d08-9ee6-6edcdb3953fe",
   "metadata": {},
   "source": [
    "**2. Consider the code chunk and output below:**"
   ]
  },
  {
   "cell_type": "code",
   "execution_count": 51,
   "id": "bf5f0fbf-7b80-4dc1-96bb-d926001514fb",
   "metadata": {},
   "outputs": [
    {
     "data": {
      "text/html": [
       "<table class=\"dataframe\">\n",
       "<caption>A tibble: 2 × 4</caption>\n",
       "<thead>\n",
       "\t<tr><th scope=col>state</th><th scope=col>n</th><th scope=col>mean_fte_change</th><th scope=col>sd_fte_change</th></tr>\n",
       "\t<tr><th scope=col>&lt;chr&gt;</th><th scope=col>&lt;int&gt;</th><th scope=col>&lt;dbl&gt;</th><th scope=col>&lt;dbl&gt;</th></tr>\n",
       "</thead>\n",
       "<tbody>\n",
       "\t<tr><td>NJ</td><td>309</td><td> 0.4666667</td><td> 8.452195</td></tr>\n",
       "\t<tr><td>PA</td><td> 75</td><td>-2.2833333</td><td>10.853628</td></tr>\n",
       "</tbody>\n",
       "</table>\n"
      ],
      "text/latex": [
       "A tibble: 2 × 4\n",
       "\\begin{tabular}{llll}\n",
       " state & n & mean\\_fte\\_change & sd\\_fte\\_change\\\\\n",
       " <chr> & <int> & <dbl> & <dbl>\\\\\n",
       "\\hline\n",
       "\t NJ & 309 &  0.4666667 &  8.452195\\\\\n",
       "\t PA &  75 & -2.2833333 & 10.853628\\\\\n",
       "\\end{tabular}\n"
      ],
      "text/markdown": [
       "\n",
       "A tibble: 2 × 4\n",
       "\n",
       "| state &lt;chr&gt; | n &lt;int&gt; | mean_fte_change &lt;dbl&gt; | sd_fte_change &lt;dbl&gt; |\n",
       "|---|---|---|---|\n",
       "| NJ | 309 |  0.4666667 |  8.452195 |\n",
       "| PA |  75 | -2.2833333 | 10.853628 |\n",
       "\n"
      ],
      "text/plain": [
       "  state n   mean_fte_change sd_fte_change\n",
       "1 NJ    309  0.4666667       8.452195    \n",
       "2 PA     75 -2.2833333      10.853628    "
      ]
     },
     "metadata": {},
     "output_type": "display_data"
    }
   ],
   "source": [
    "fastfood %>% \n",
    "    filter(!is.na(fte_post) & !is.na(fte_pre)) %>%\n",
    "    mutate(fte_change = fte_post - fte_pre) %>%\n",
    "    group_by(state) %>%\n",
    "    summarize(n = n(),\n",
    "              mean_fte_change = mean(fte_change),\n",
    "              sd_fte_change   = sd(fte_change))\n"
   ]
  },
  {
   "cell_type": "markdown",
   "id": "aa09fa18-ecea-48b3-9ed6-15e182d1f6da",
   "metadata": {},
   "source": [
    "**a. Some restaurants are not open either before the minimum wage change or after the minimum wage change. These restaurants have FTE coded as `NA` in the periods they aren't open. Given that is the case, what does the line beginning with `filter` do?**\n",
    "\n",
    "##### START\n",
    "This line keeps only the restaurants that are open prior to the minimum wage change AND are open after the minimum wage change. These are the only restaurants for which we can calculate the change in employment. \n",
    "##### END"
   ]
  },
  {
   "cell_type": "markdown",
   "id": "fe079051-a2e5-42ad-b0e5-1e91e75fa47b",
   "metadata": {},
   "source": [
    "**b. What do the remaining lines do? Interpret the output.**\n",
    "\n",
    "##### START\n",
    "- `mutate(fte_change = fte_post - fte_pre)`\n",
    "\n",
    "This line adds a variable to the data that is equal to the change in full-time-equivalent workers after the implementation of the minimum wage change in New Jersey. \n",
    "\n",
    "- `group_by(state)`\n",
    "\n",
    "This line groups observations by state. This means that the following commands will aggregate statistics at the state level rather than calculating the mean of all restaurants.\n",
    "\n",
    "- `summarize(n = n(), mean_fte_change = mean(fte_change), sd_fte_change = sd(fte_change))`\n",
    "\n",
    "This line collapses the data by state, calculating three statistics for each state: `n`, the number of restaurants in that state; `mean_fte_change`, the average change in FTE for restaurants in that state; and `sd_fte_change`, the standard deviation of the change in FTE for restaurants in that state.\n",
    "\n",
    "The output indicates that there were 309 restaurants in New Jersey and 75 in Pennsylvania that were surveyed both before and after the minimum wage change. The average change in FTE was and increase of 0.47 in New Jersey and a decrease of 2.28 in Pennsylvania. The standard deviation of these changes was 8.45 workers in New Jersey and 10.85 in Pennsylvania.\n",
    "\n",
    "##### END"
   ]
  },
  {
   "cell_type": "markdown",
   "id": "4563f53a-3013-45e8-8375-871944a1ef7f",
   "metadata": {},
   "source": [
    "**c. Calculate a 95% confidence interval for the difference in pre-post changes in FTE. Note that this is often called the _difference in differences_. Under certain assumptions you'll learn in API-202, it reflects the causal effect of the policy.**\n",
    "\n",
    "##### START\n",
    "\n",
    "The difference in differences is $0.467 - -2.283 = 2.75$. \n",
    "\n",
    "The standard error is $\\sqrt{\\frac{8.45^2}{309} + \\frac{10.85^2}{75}} = 1.342$.\n",
    "\n",
    "The 95% confidence interval is $2.75 \\pm 2 \\times 1.342 = [0.065, 5.434]$.\n",
    "\n",
    "##### END"
   ]
  },
  {
   "cell_type": "markdown",
   "id": "dca99a98-b6c6-4864-a168-037f6217fded",
   "metadata": {},
   "source": [
    "**d. What null hypothesis would allow you to test whether there is a statistically significant difference in average changes in FTE? Calculate the correspoding Z-score and p-value. Do you reject the null hypothesis?**"
   ]
  },
  {
   "cell_type": "code",
   "execution_count": 12,
   "id": "48b4b64c-689c-4c3d-bf42-d6ac9c42a44a",
   "metadata": {},
   "outputs": [
    {
     "data": {
      "text/html": [
       "<style>\n",
       ".dl-inline {width: auto; margin:0; padding: 0}\n",
       ".dl-inline>dt, .dl-inline>dd {float: none; width: auto; display: inline-block}\n",
       ".dl-inline>dt::after {content: \":\\0020\"; padding-right: .5ex}\n",
       ".dl-inline>dt:not(:first-of-type) {padding-left: .5ex}\n",
       "</style><dl class=dl-inline><dt>Z-score</dt><dd>2.04918032786885</dd><dt>p-value</dt><dd>0.0404444849579226</dd></dl>\n"
      ],
      "text/latex": [
       "\\begin{description*}\n",
       "\\item[Z-score] 2.04918032786885\n",
       "\\item[p-value] 0.0404444849579226\n",
       "\\end{description*}\n"
      ],
      "text/markdown": [
       "Z-score\n",
       ":   2.04918032786885p-value\n",
       ":   0.0404444849579226\n",
       "\n"
      ],
      "text/plain": [
       "   Z-score    p-value \n",
       "2.04918033 0.04044448 "
      ]
     },
     "metadata": {},
     "output_type": "display_data"
    }
   ],
   "source": [
    "# Your answer here!\n",
    "\n",
    "# START\n",
    "z <- (2.75 - 0) / 1.342\n",
    "\n",
    "p <- 2 * pnorm(-abs(z))\n",
    "\n",
    "c(\"Z-score\" = z, \"p-value\" = p)\n",
    "# END"
   ]
  },
  {
   "cell_type": "markdown",
   "id": "de9d18b1-c9ff-4cec-9594-c843ce520723",
   "metadata": {},
   "source": [
    "##### START\n",
    "\n",
    "The null hypothesis is written as $H_0: \\hat\\mu_{NJ} - \\hat\\mu_{PA} = 0$.\n",
    "\n",
    "The p-value is 0.04. This is less than 0.05, so we reject the null hypothesis.\n",
    "##### END"
   ]
  },
  {
   "cell_type": "markdown",
   "id": "f8d1226a-2077-4618-9c86-de4ab8ce4724",
   "metadata": {},
   "source": [
    "**e. On average, New Jersey restaurants had 20 full-time-equivalent workers prior to the minimum wage increase. Assess the practical significance of the effect relative to this baseline.**\n",
    "\n",
    "##### START\n",
    "Card and Krueger estimate an increase of 2.75 full-time-equivalent workers. This is an increase of 13.75 percent, a modest increase, but notable considering classical models predict a decrease in employment. \n",
    "##### END"
   ]
  },
  {
   "cell_type": "markdown",
   "id": "4d333e66-ff9e-4dbe-a3ef-0813efb4eb85",
   "metadata": {},
   "source": [
    "**f. Imagine Card and Krueger surveyed restaurants on far more topics than just employment. Perhaps they asked about revenues, capital expenditures, process innovation, input costs, and more, each measured in multiple ways, and then tested the relative change in New Jersey and Pennsylvania on each measure. They then only reported their findings on full-time-equivalent workers. Would this make you question the validity of their results?** \n",
    "\n",
    "##### START\n",
    "Testing this many hypotheses should make you rightly skeptical of the results. Recall that if the null hypothesis is true, we reject it 5 percent of the time. As the number of hypotheses tested increases, the probability of rejecting at least one increases rapidly. If Card and Krueger tested 20 true null hypotheses, they should expect to reject one. If you notice or suspect that a study tested many hypotheses, you should adjust your expectations accordingly.\n",
    "##### END"
   ]
  },
  {
   "cell_type": "markdown",
   "id": "f5d7711f-93b5-4651-9128-5457d3dc0fc9",
   "metadata": {},
   "source": [
    "**f. Next semester, you'll learn how to critically evaluate whether this study is \"internally valid\" — whether it yields an unbiased estimate of the causal effect. For now, assume it does. Based on this analysis alone, would you recommend your candidate come out in favor of a $15 minimum wage? If so, would you recommend they advocate for it by saying that \"minimum wages actually increase employment?\"**\n",
    "\n",
    "##### START\n",
    "Card and Krueger produced some of the first methodologically sound evidence on the minimum wage, playing a large role in the credibility revolution in economics. However, before getting too excited about the results, you may want to keep a few things in mind:\n",
    "\n",
    "- It is generally unwise to make policy decisions based off of one study, especially if that study is fairly limited in scope like this one which evaluated the effect of a single minimum wage change in the fast food industry in New Jersey. To glean more generalizable insights, a survey of the literature would be appropriate.\n",
    "\n",
    "- The setting evaluated by Card and Krueger is quite different from the setting that concerns your candidate. For instance:\n",
    "    * i. Card and Krueger studied a minimum wage change 30 years ago.\n",
    "    * ii. Card and Krueger studied a minimum wage change in New Jersey not Michigan.\n",
    "    * iii. Card and Krueger only studied 4 fast food chains. Your candidate is concerned with the effect of a minimum wage not just in the whole restaurant sector but in _all sectors_.\n",
    "    * iv. Card and Krueger studied the effect of an \\\\$0.80 increase in the minimum wage. The increase in Michigan would be a \\\\$5 increase.\n",
    "\n",
    "- While we reject the null hypothesis, it is still possible these results are due to sampling fluctuations. The p-value is just below 0.05 — p-values from published studies are known to cluster in this range due to publication bias. \n",
    "\n",
    "##### END"
   ]
  },
  {
   "cell_type": "markdown",
   "id": "49cc8a49-4d13-4eb1-8b11-0c2170c3ffb2",
   "metadata": {},
   "source": [
    "# Goodbyes"
   ]
  },
  {
   "cell_type": "markdown",
   "id": "594a3b71-8f10-4ea9-a67a-992c438582c3",
   "metadata": {},
   "source": [
    "**Thank you all for a great semester!**\n",
    "\n",
    "Next semester I will be the TF for API-202Z with Professor Tim Layton. If you are interested and want to know whether 202Z may be right for you, please come talk to me.\n",
    "\n",
    "I'm always happy to discuss research, the health care system, Ph.D. student life, politics, my dog, photography, and cool birds, so say hi if you see me around or reach out by email: benjamin_berger@hks.harvard.edu.\n",
    "\n",
    "**Good luck on the exam, and I'll see you around in the Spring!**"
   ]
  }
 ],
 "metadata": {
  "colab": {
   "collapsed_sections": [],
   "provenance": []
  },
  "kernelspec": {
   "display_name": "R",
   "language": "R",
   "name": "ir"
  },
  "language_info": {
   "codemirror_mode": "r",
   "file_extension": ".r",
   "mimetype": "text/x-r-source",
   "name": "R",
   "pygments_lexer": "r",
   "version": "4.1.2"
  }
 },
 "nbformat": 4,
 "nbformat_minor": 5
}

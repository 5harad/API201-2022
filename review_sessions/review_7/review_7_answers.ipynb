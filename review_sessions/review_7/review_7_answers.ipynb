{
 "cells": [
  {
   "cell_type": "markdown",
   "id": "4839cd02-22e6-4e06-9617-eccba2b91eb8",
   "metadata": {
    "id": "4839cd02-22e6-4e06-9617-eccba2b91eb8",
    "tags": []
   },
   "source": [
    "# API-201 ABC REVIEW SESSION #7\n",
    "\n",
    "**Friday, October 28**"
   ]
  },
  {
   "cell_type": "markdown",
   "id": "TpMW4e3jQarq",
   "metadata": {
    "id": "TpMW4e3jQarq"
   },
   "source": [
    "# Table of Contents\n",
    "1. [Lecture Recap](#Lecture-Recap)\n",
    "2. [Exercises](#Exercises)"
   ]
  },
  {
   "cell_type": "markdown",
   "id": "G7rWjus2gvIV",
   "metadata": {
    "id": "G7rWjus2gvIV"
   },
   "source": [
    "# Lecture Recap <a class=\"anchor\" id=\"Lecture-Recap\"></a>"
   ]
  },
  {
   "cell_type": "markdown",
   "id": "4d55d0e1-c2fe-4843-b135-02eff977f881",
   "metadata": {
    "id": "Nrdsx61qeOTu"
   },
   "source": [
    "# Exercise: Project STAR Part 2<a class=\"anchor\" id=\"Exercises\"></a>"
   ]
  },
  {
   "cell_type": "markdown",
   "id": "fb85f192-e80a-4c97-a3fe-1a72973dd9a6",
   "metadata": {
    "id": "hR1Oc6jve7ui"
   },
   "source": [
    "**From last week:** The Project STAR (for Student-Teacher Achievement Ratio) was designed to determine the effect of smaller class size in the earliest grades on short-term and long-term pupil performance ([source](https://dataverse.harvard.edu/dataset.xhtml?persistentId=hdl:1902.1/10766)). Over 7,000 students in 79 schools across the state of Tennessee were randomly assigned into one of three interventions: small class (13 to 17 students per teacher), regular class (22 to 25 students per teacher), and regular-with-aide class (22 to 25 students with a full-time teacher's aide). Classroom teachers were also randomly assigned to the classes they would teach. The interventions were initiated as the students entered school in kindergarten and continued through third grade. \n",
    "\n"
   ]
  },
  {
   "cell_type": "markdown",
   "id": "8e17448d-d3b1-48b7-9682-2dc34c2d7847",
   "metadata": {
    "id": "IR0kIBTihABJ"
   },
   "source": [
    "In this exercise, we are going to use data from Project STAR to assess whether there is a statistically significant impact of class sizes on learn about the pupils involved in the project through visualization and measure the association between classroom size and student achievement.\n",
    "\n",
    "Unlike last class, the data has been aggregated at the teacher level so that scores are averages across all students taught by that teacher. \n",
    "\n",
    "[Download the data using this link.](https://github.com/5harad/API201-students/raw/main/review_sessions/review_7/STAR_teachers.xlsx)"
   ]
  },
  {
   "cell_type": "markdown",
   "id": "ec71c973-faaa-40e6-8511-5c2bd4d206b2",
   "metadata": {},
   "source": [
    "## Data Dictionary\n",
    "* `gktchid`: kindergarten teacher ID\n",
    "* `gkclasstype`: kindergarten class type; S - Small, R - Regular/Large\n",
    "* `gktreadss`: average kindergarten reading score\n",
    "* `gktmathss`: average kindergarten math score\n",
    "* `hsactmath`: average high school ACT math score\n",
    "* `hsactread`: average high school ACT reading score"
   ]
  },
  {
   "cell_type": "markdown",
   "id": "7f2a8923-f4b9-4202-8069-f0ef3bd2932a",
   "metadata": {
    "id": "uITJCSSUgv7E"
   },
   "source": [
    "**1. Upload the Excel file `STAR_teachers.xlsx` to Google Colab and use `read_excel` to read its first worksheet as a new table called `star_teachers`. Examine the first 10 rows of the data.**"
   ]
  },
  {
   "cell_type": "code",
   "execution_count": 86,
   "id": "wkttULQHcYYW",
   "metadata": {
    "colab": {
     "base_uri": "https://localhost:8080/",
     "height": 444
    },
    "id": "wkttULQHcYYW",
    "outputId": "9545672a-2ec6-41e1-b5ad-694fb7ab51e1"
   },
   "outputs": [
    {
     "data": {
      "text/html": [
       "<table class=\"dataframe\">\n",
       "<caption>A tibble: 10 × 6</caption>\n",
       "<thead>\n",
       "\t<tr><th scope=col>gktchid</th><th scope=col>gkclasstype</th><th scope=col>gktreadss</th><th scope=col>gktmathss</th><th scope=col>hsactread</th><th scope=col>hsactmath</th></tr>\n",
       "\t<tr><th scope=col>&lt;dbl&gt;</th><th scope=col>&lt;chr&gt;</th><th scope=col>&lt;dbl&gt;</th><th scope=col>&lt;dbl&gt;</th><th scope=col>&lt;dbl&gt;</th><th scope=col>&lt;dbl&gt;</th></tr>\n",
       "</thead>\n",
       "<tbody>\n",
       "\t<tr><td>11203801</td><td>S</td><td>406.500</td><td>448.5000</td><td>18.50000</td><td>19.50000</td></tr>\n",
       "\t<tr><td>11203802</td><td>R</td><td>410.000</td><td>454.0000</td><td>25.00000</td><td>20.00000</td></tr>\n",
       "\t<tr><td>11203803</td><td>R</td><td>410.200</td><td>479.4000</td><td>19.40000</td><td>20.60000</td></tr>\n",
       "\t<tr><td>12305601</td><td>R</td><td>437.875</td><td>477.8750</td><td>23.12500</td><td>19.75000</td></tr>\n",
       "\t<tr><td>12305602</td><td>S</td><td>418.500</td><td>472.7500</td><td>19.50000</td><td>19.50000</td></tr>\n",
       "\t<tr><td>12305603</td><td>R</td><td>429.500</td><td>480.0000</td><td>19.70000</td><td>16.50000</td></tr>\n",
       "\t<tr><td>12806801</td><td>S</td><td>454.000</td><td>503.3333</td><td>26.33333</td><td>22.66667</td></tr>\n",
       "\t<tr><td>12806802</td><td>R</td><td>444.500</td><td>492.7500</td><td>22.50000</td><td>19.75000</td></tr>\n",
       "\t<tr><td>12806803</td><td>R</td><td>444.400</td><td>513.4000</td><td>22.40000</td><td>20.00000</td></tr>\n",
       "\t<tr><td>12807601</td><td>S</td><td>430.500</td><td>469.8333</td><td>19.50000</td><td>17.50000</td></tr>\n",
       "</tbody>\n",
       "</table>\n"
      ],
      "text/latex": [
       "A tibble: 10 × 6\n",
       "\\begin{tabular}{llllll}\n",
       " gktchid & gkclasstype & gktreadss & gktmathss & hsactread & hsactmath\\\\\n",
       " <dbl> & <chr> & <dbl> & <dbl> & <dbl> & <dbl>\\\\\n",
       "\\hline\n",
       "\t 11203801 & S & 406.500 & 448.5000 & 18.50000 & 19.50000\\\\\n",
       "\t 11203802 & R & 410.000 & 454.0000 & 25.00000 & 20.00000\\\\\n",
       "\t 11203803 & R & 410.200 & 479.4000 & 19.40000 & 20.60000\\\\\n",
       "\t 12305601 & R & 437.875 & 477.8750 & 23.12500 & 19.75000\\\\\n",
       "\t 12305602 & S & 418.500 & 472.7500 & 19.50000 & 19.50000\\\\\n",
       "\t 12305603 & R & 429.500 & 480.0000 & 19.70000 & 16.50000\\\\\n",
       "\t 12806801 & S & 454.000 & 503.3333 & 26.33333 & 22.66667\\\\\n",
       "\t 12806802 & R & 444.500 & 492.7500 & 22.50000 & 19.75000\\\\\n",
       "\t 12806803 & R & 444.400 & 513.4000 & 22.40000 & 20.00000\\\\\n",
       "\t 12807601 & S & 430.500 & 469.8333 & 19.50000 & 17.50000\\\\\n",
       "\\end{tabular}\n"
      ],
      "text/markdown": [
       "\n",
       "A tibble: 10 × 6\n",
       "\n",
       "| gktchid &lt;dbl&gt; | gkclasstype &lt;chr&gt; | gktreadss &lt;dbl&gt; | gktmathss &lt;dbl&gt; | hsactread &lt;dbl&gt; | hsactmath &lt;dbl&gt; |\n",
       "|---|---|---|---|---|---|\n",
       "| 11203801 | S | 406.500 | 448.5000 | 18.50000 | 19.50000 |\n",
       "| 11203802 | R | 410.000 | 454.0000 | 25.00000 | 20.00000 |\n",
       "| 11203803 | R | 410.200 | 479.4000 | 19.40000 | 20.60000 |\n",
       "| 12305601 | R | 437.875 | 477.8750 | 23.12500 | 19.75000 |\n",
       "| 12305602 | S | 418.500 | 472.7500 | 19.50000 | 19.50000 |\n",
       "| 12305603 | R | 429.500 | 480.0000 | 19.70000 | 16.50000 |\n",
       "| 12806801 | S | 454.000 | 503.3333 | 26.33333 | 22.66667 |\n",
       "| 12806802 | R | 444.500 | 492.7500 | 22.50000 | 19.75000 |\n",
       "| 12806803 | R | 444.400 | 513.4000 | 22.40000 | 20.00000 |\n",
       "| 12807601 | S | 430.500 | 469.8333 | 19.50000 | 17.50000 |\n",
       "\n"
      ],
      "text/plain": [
       "   gktchid  gkclasstype gktreadss gktmathss hsactread hsactmath\n",
       "1  11203801 S           406.500   448.5000  18.50000  19.50000 \n",
       "2  11203802 R           410.000   454.0000  25.00000  20.00000 \n",
       "3  11203803 R           410.200   479.4000  19.40000  20.60000 \n",
       "4  12305601 R           437.875   477.8750  23.12500  19.75000 \n",
       "5  12305602 S           418.500   472.7500  19.50000  19.50000 \n",
       "6  12305603 R           429.500   480.0000  19.70000  16.50000 \n",
       "7  12806801 S           454.000   503.3333  26.33333  22.66667 \n",
       "8  12806802 R           444.500   492.7500  22.50000  19.75000 \n",
       "9  12806803 R           444.400   513.4000  22.40000  20.00000 \n",
       "10 12807601 S           430.500   469.8333  19.50000  17.50000 "
      ]
     },
     "metadata": {},
     "output_type": "display_data"
    }
   ],
   "source": [
    "library(tidyverse)\n",
    "library(readxl)\n",
    "\n",
    "# Your answer here!\n",
    "\n",
    "# START\n",
    "star_teachers <- read_excel(path = \"STAR_teachers.xlsx\", sheet = 1)\n",
    "head(star_data, 10)\n",
    "# END  "
   ]
  },
  {
   "cell_type": "markdown",
   "id": "298df12a-1ae7-4255-84f4-0add994e2451",
   "metadata": {},
   "source": [
    "**2. Calculate the number of teachers and the mean and variance of reading score by class type. Which class type has a higher average reading score? Which class type has greater variance in reading score?** \n"
   ]
  },
  {
   "cell_type": "code",
   "execution_count": 15,
   "id": "e3264aa0-e9ef-4b5c-a471-2b3910204019",
   "metadata": {},
   "outputs": [
    {
     "data": {
      "text/html": [
       "<table class=\"dataframe\">\n",
       "<caption>A tibble: 2 × 4</caption>\n",
       "<thead>\n",
       "\t<tr><th scope=col>gkclasstype</th><th scope=col>n</th><th scope=col>mean</th><th scope=col>var</th></tr>\n",
       "\t<tr><th scope=col>&lt;chr&gt;</th><th scope=col>&lt;int&gt;</th><th scope=col>&lt;dbl&gt;</th><th scope=col>&lt;dbl&gt;</th></tr>\n",
       "</thead>\n",
       "<tbody>\n",
       "\t<tr><td>R</td><td>196</td><td>445.8346</td><td>362.3407</td></tr>\n",
       "\t<tr><td>S</td><td>126</td><td>451.6607</td><td>548.6109</td></tr>\n",
       "</tbody>\n",
       "</table>\n"
      ],
      "text/latex": [
       "A tibble: 2 × 4\n",
       "\\begin{tabular}{llll}\n",
       " gkclasstype & n & mean & var\\\\\n",
       " <chr> & <int> & <dbl> & <dbl>\\\\\n",
       "\\hline\n",
       "\t R & 196 & 445.8346 & 362.3407\\\\\n",
       "\t S & 126 & 451.6607 & 548.6109\\\\\n",
       "\\end{tabular}\n"
      ],
      "text/markdown": [
       "\n",
       "A tibble: 2 × 4\n",
       "\n",
       "| gkclasstype &lt;chr&gt; | n &lt;int&gt; | mean &lt;dbl&gt; | var &lt;dbl&gt; |\n",
       "|---|---|---|---|\n",
       "| R | 196 | 445.8346 | 362.3407 |\n",
       "| S | 126 | 451.6607 | 548.6109 |\n",
       "\n"
      ],
      "text/plain": [
       "  gkclasstype n   mean     var     \n",
       "1 R           196 445.8346 362.3407\n",
       "2 S           126 451.6607 548.6109"
      ]
     },
     "metadata": {},
     "output_type": "display_data"
    }
   ],
   "source": [
    "# Your answer here!\n",
    "\n",
    "# START\n",
    "star_teachers %>%\n",
    "    group_by(gkclasstype) %>%\n",
    "    summarize(n = n(),\n",
    "              mean = mean(gktreadss),\n",
    "              var = var(gktreadss))\n",
    "# END"
   ]
  },
  {
   "cell_type": "markdown",
   "id": "4a50b7be-4231-43df-a68d-801c57641267",
   "metadata": {},
   "source": [
    "**3. Suppose $\\hat\\mu_R$ is the sample mean of the reading score in regular classes and $\\hat\\mu_S$ is the sample mean in small classes. Using your results from (2), calculate the difference in sample means and the standard error of $\\hat\\mu_S - \\hat\\mu_R$.**\n",
    "\n",
    "Recall that $SE(\\hat\\mu_S - \\hat\\mu_R) = \\sqrt{\\frac{\\hat\\sigma_S^2}{n_S} + \\frac{\\hat\\sigma_R^2}{n_R}}$ where $\\hat\\sigma_S^2$ and $\\hat\\sigma_R^2$ are the sample variances and $n_S$ and $n_R$ are the sample sizes."
   ]
  },
  {
   "cell_type": "code",
   "execution_count": 36,
   "id": "0455a804-8e97-40ce-b860-ddb5656cd2ea",
   "metadata": {},
   "outputs": [
    {
     "data": {
      "text/html": [
       "<style>\n",
       ".dl-inline {width: auto; margin:0; padding: 0}\n",
       ".dl-inline>dt, .dl-inline>dd {float: none; width: auto; display: inline-block}\n",
       ".dl-inline>dt::after {content: \":\\0020\"; padding-right: .5ex}\n",
       ".dl-inline>dt:not(:first-of-type) {padding-left: .5ex}\n",
       "</style><dl class=dl-inline><dt>Difference in Means</dt><dd>5.89999999999998</dd><dt>Standard error</dt><dd>2.49046936173151</dd></dl>\n"
      ],
      "text/latex": [
       "\\begin{description*}\n",
       "\\item[Difference in Means] 5.89999999999998\n",
       "\\item[Standard error] 2.49046936173151\n",
       "\\end{description*}\n"
      ],
      "text/markdown": [
       "Difference in Means\n",
       ":   5.89999999999998Standard error\n",
       ":   2.49046936173151\n",
       "\n"
      ],
      "text/plain": [
       "Difference in Means      Standard error \n",
       "           5.900000            2.490469 "
      ]
     },
     "metadata": {},
     "output_type": "display_data"
    }
   ],
   "source": [
    "# Your answer here!\n",
    "\n",
    "# START\n",
    "diff <- 451.7 - 445.8\n",
    "se <- sqrt(548.6 / 126 + 362.3 / 196)\n",
    "c(\"Difference in Means\" = diff, \"Standard error\" = se)\n",
    "# END"
   ]
  },
  {
   "cell_type": "markdown",
   "id": "e2097ccf-05ae-4394-84e6-24f5ba8cbb1e",
   "metadata": {},
   "source": [
    "**4. What is the 95% confidence interval of $\\mu_S - \\mu_R$?**"
   ]
  },
  {
   "cell_type": "code",
   "execution_count": 63,
   "id": "0bb9741e-7445-456c-8dcd-96b9dcc106fe",
   "metadata": {},
   "outputs": [
    {
     "data": {
      "text/html": [
       "<style>\n",
       ".dl-inline {width: auto; margin:0; padding: 0}\n",
       ".dl-inline>dt, .dl-inline>dd {float: none; width: auto; display: inline-block}\n",
       ".dl-inline>dt::after {content: \":\\0020\"; padding-right: .5ex}\n",
       ".dl-inline>dt:not(:first-of-type) {padding-left: .5ex}\n",
       "</style><dl class=dl-inline><dt>Lower Bound</dt><dd>0.919061276536956</dd><dt>Upper Bound</dt><dd>10.880938723463</dd></dl>\n"
      ],
      "text/latex": [
       "\\begin{description*}\n",
       "\\item[Lower Bound] 0.919061276536956\n",
       "\\item[Upper Bound] 10.880938723463\n",
       "\\end{description*}\n"
      ],
      "text/markdown": [
       "Lower Bound\n",
       ":   0.919061276536956Upper Bound\n",
       ":   10.880938723463\n",
       "\n"
      ],
      "text/plain": [
       "Lower Bound Upper Bound \n",
       "  0.9190613  10.8809387 "
      ]
     },
     "metadata": {},
     "output_type": "display_data"
    }
   ],
   "source": [
    "# Your answer here!\n",
    "\n",
    "# START\n",
    "c(\"Lower Bound\" = diff - 2 * se, \n",
    "  \"Upper Bound\" = diff + 2 * se)\n",
    "# END"
   ]
  },
  {
   "cell_type": "markdown",
   "id": "d80ffbc6-de30-4c00-b339-f63683acd57c",
   "metadata": {},
   "source": [
    "**5. What is the Z-score corresponding to the null hypothesis $\\mu_S - \\mu_R = 0$?**"
   ]
  },
  {
   "cell_type": "code",
   "execution_count": 87,
   "id": "5631c07f-f615-44ac-abec-11f605cbc997",
   "metadata": {},
   "outputs": [
    {
     "data": {
      "text/html": [
       "<strong>Z-score:</strong> 2.36903135234636"
      ],
      "text/latex": [
       "\\textbf{Z-score:} 2.36903135234636"
      ],
      "text/markdown": [
       "**Z-score:** 2.36903135234636"
      ],
      "text/plain": [
       " Z-score \n",
       "2.369031 "
      ]
     },
     "metadata": {},
     "output_type": "display_data"
    }
   ],
   "source": [
    "# Your answer here!\n",
    "\n",
    "# START\n",
    "z <- (diff - 0) / se\n",
    "c(\"Z-score\" = z)\n",
    "# END"
   ]
  },
  {
   "cell_type": "markdown",
   "id": "1815bfd6-d857-4c28-89f8-b6c9045699a1",
   "metadata": {},
   "source": [
    "**6. What is the p-value corresponding to the Z-score? Is the difference in means statistically significant?**"
   ]
  },
  {
   "cell_type": "code",
   "execution_count": 85,
   "id": "2d0e2cd8-d7a7-41ae-9f09-b62d6a0b3ad6",
   "metadata": {},
   "outputs": [
    {
     "data": {
      "text/html": [
       "<strong>p-value:</strong> 0.0178347415382212"
      ],
      "text/latex": [
       "\\textbf{p-value:} 0.0178347415382212"
      ],
      "text/markdown": [
       "**p-value:** 0.0178347415382212"
      ],
      "text/plain": [
       "   p-value \n",
       "0.01783474 "
      ]
     },
     "metadata": {},
     "output_type": "display_data"
    },
    {
     "data": {
      "text/html": [
       "<strong>Reject null hypothesis?:</strong> TRUE"
      ],
      "text/latex": [
       "\\textbf{Reject null hypothesis?:} TRUE"
      ],
      "text/markdown": [
       "**Reject null hypothesis?:** TRUE"
      ],
      "text/plain": [
       "Reject null hypothesis? \n",
       "                   TRUE "
      ]
     },
     "metadata": {},
     "output_type": "display_data"
    }
   ],
   "source": [
    "# Your answer here!\n",
    "\n",
    "# START\n",
    "p <- 2 * pnorm(-abs(z))\n",
    "c(\"p-value\" = p)\n",
    "c(\"Reject null hypothesis?\" = p < .05)\n",
    "# END"
   ]
  }
 ],
 "metadata": {
  "colab": {
   "collapsed_sections": [],
   "provenance": []
  },
  "kernelspec": {
   "display_name": "R",
   "language": "R",
   "name": "ir"
  },
  "language_info": {
   "codemirror_mode": "r",
   "file_extension": ".r",
   "mimetype": "text/x-r-source",
   "name": "R",
   "pygments_lexer": "r",
   "version": "4.1.2"
  }
 },
 "nbformat": 4,
 "nbformat_minor": 5
}

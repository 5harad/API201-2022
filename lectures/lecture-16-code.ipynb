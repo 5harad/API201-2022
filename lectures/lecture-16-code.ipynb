{
  "cells": [
    {
      "cell_type": "markdown",
      "metadata": {
        "id": "view-in-github",
        "colab_type": "text"
      },
      "source": [
        "<a href=\"https://colab.research.google.com/github/5harad/API201-students/blob/main/lectures/lecture-16-code.ipynb\" target=\"_parent\"><img src=\"https://colab.research.google.com/assets/colab-badge.svg\" alt=\"Open In Colab\"/></a>"
      ]
    },
    {
      "cell_type": "markdown",
      "id": "c8f6d4f7",
      "metadata": {
        "id": "c8f6d4f7"
      },
      "source": [
        "# Lecture 16: Difference in means\n",
        "\n"
      ]
    },
    {
      "cell_type": "code",
      "execution_count": null,
      "id": "1b211e6c",
      "metadata": {
        "id": "1b211e6c",
        "colab": {
          "base_uri": "https://localhost:8080/"
        },
        "outputId": "c4a143bb-34e6-4f1a-fa04-366c6901ed59"
      },
      "outputs": [
        {
          "output_type": "stream",
          "name": "stderr",
          "text": [
            "Warning message in system(\"timedatectl\", intern = TRUE):\n",
            "“running command 'timedatectl' had status 1”\n",
            "── \u001b[1mAttaching packages\u001b[22m ─────────────────────────────────────── tidyverse 1.3.1 ──\n",
            "\n",
            "\u001b[32m✔\u001b[39m \u001b[34mggplot2\u001b[39m 3.3.6      \u001b[32m✔\u001b[39m \u001b[34mpurrr  \u001b[39m 0.3.5 \n",
            "\u001b[32m✔\u001b[39m \u001b[34mtibble \u001b[39m 3.1.7      \u001b[32m✔\u001b[39m \u001b[34mdplyr  \u001b[39m 1.0.10\n",
            "\u001b[32m✔\u001b[39m \u001b[34mtidyr  \u001b[39m 1.2.1      \u001b[32m✔\u001b[39m \u001b[34mstringr\u001b[39m 1.4.1 \n",
            "\u001b[32m✔\u001b[39m \u001b[34mreadr  \u001b[39m 2.1.3      \u001b[32m✔\u001b[39m \u001b[34mforcats\u001b[39m 0.5.2 \n",
            "\n",
            "── \u001b[1mConflicts\u001b[22m ────────────────────────────────────────── tidyverse_conflicts() ──\n",
            "\u001b[31m✖\u001b[39m \u001b[34mdplyr\u001b[39m::\u001b[32mfilter()\u001b[39m masks \u001b[34mstats\u001b[39m::filter()\n",
            "\u001b[31m✖\u001b[39m \u001b[34mdplyr\u001b[39m::\u001b[32mlag()\u001b[39m    masks \u001b[34mstats\u001b[39m::lag()\n",
            "\n"
          ]
        }
      ],
      "source": [
        "library(tidyverse)\n",
        "\n",
        "theme_set(theme_bw())"
      ]
    },
    {
      "cell_type": "code",
      "source": [
        "n1 <- 220\n",
        "\n",
        "p1_hat <- 50 / 220\n",
        "p1_hat"
      ],
      "metadata": {
        "colab": {
          "base_uri": "https://localhost:8080/",
          "height": 34
        },
        "id": "3wckYKmr4dnq",
        "outputId": "78e45b2e-0283-42b0-a4f7-9bfde46af908"
      },
      "id": "3wckYKmr4dnq",
      "execution_count": null,
      "outputs": [
        {
          "output_type": "display_data",
          "data": {
            "text/html": [
              "0.227272727272727"
            ],
            "text/markdown": "0.227272727272727",
            "text/latex": "0.227272727272727",
            "text/plain": [
              "[1] 0.2272727"
            ]
          },
          "metadata": {}
        }
      ]
    },
    {
      "cell_type": "code",
      "source": [
        "n2 <- 250\n",
        "\n",
        "p2_hat <- 20 / 250\n",
        "p2_hat"
      ],
      "metadata": {
        "colab": {
          "base_uri": "https://localhost:8080/",
          "height": 34
        },
        "id": "uMElP_Xm4d81",
        "outputId": "0cb489ed-7875-43ab-e41e-246970945e73"
      },
      "id": "uMElP_Xm4d81",
      "execution_count": null,
      "outputs": [
        {
          "output_type": "display_data",
          "data": {
            "text/html": [
              "0.08"
            ],
            "text/markdown": "0.08",
            "text/latex": "0.08",
            "text/plain": [
              "[1] 0.08"
            ]
          },
          "metadata": {}
        }
      ]
    },
    {
      "cell_type": "code",
      "source": [
        "p1_hat - p2_hat"
      ],
      "metadata": {
        "colab": {
          "base_uri": "https://localhost:8080/",
          "height": 34
        },
        "id": "coqOTYDL4e8O",
        "outputId": "0a8581dc-2285-4cb0-a0f5-77ed9576fb5a"
      },
      "id": "coqOTYDL4e8O",
      "execution_count": null,
      "outputs": [
        {
          "output_type": "display_data",
          "data": {
            "text/html": [
              "0.147272727272727"
            ],
            "text/markdown": "0.147272727272727",
            "text/latex": "0.147272727272727",
            "text/plain": [
              "[1] 0.1472727"
            ]
          },
          "metadata": {}
        }
      ]
    },
    {
      "cell_type": "code",
      "source": [
        "s <- sqrt(p1_hat * (1-p1_hat) / n1 + p2_hat * (1-p2_hat) / n2)\n",
        "s"
      ],
      "metadata": {
        "colab": {
          "base_uri": "https://localhost:8080/",
          "height": 34
        },
        "id": "hdQ3wVPP4kXq",
        "outputId": "2ba888ed-04f1-4c79-f3ce-2d2c1d6bca9f"
      },
      "id": "hdQ3wVPP4kXq",
      "execution_count": null,
      "outputs": [
        {
          "output_type": "display_data",
          "data": {
            "text/html": [
              "0.0330555891788049"
            ],
            "text/markdown": "0.0330555891788049",
            "text/latex": "0.0330555891788049",
            "text/plain": [
              "[1] 0.03305559"
            ]
          },
          "metadata": {}
        }
      ]
    },
    {
      "cell_type": "code",
      "source": [
        "lwr <- p1_hat - p2_hat - 2*s\n",
        "lwr\n",
        "\n",
        "upr <- p1_hat - p2_hat + 2*s\n",
        "upr"
      ],
      "metadata": {
        "colab": {
          "base_uri": "https://localhost:8080/",
          "height": 52
        },
        "id": "K8nuh1X_4vzf",
        "outputId": "aa24f42f-eb5b-4937-b647-192df899df90"
      },
      "id": "K8nuh1X_4vzf",
      "execution_count": null,
      "outputs": [
        {
          "output_type": "display_data",
          "data": {
            "text/html": [
              "0.0811615489151174"
            ],
            "text/markdown": "0.0811615489151174",
            "text/latex": "0.0811615489151174",
            "text/plain": [
              "[1] 0.08116155"
            ]
          },
          "metadata": {}
        },
        {
          "output_type": "display_data",
          "data": {
            "text/html": [
              "0.213383905630337"
            ],
            "text/markdown": "0.213383905630337",
            "text/latex": "0.213383905630337",
            "text/plain": [
              "[1] 0.2133839"
            ]
          },
          "metadata": {}
        }
      ]
    },
    {
      "cell_type": "code",
      "source": [
        "set.seed(1)"
      ],
      "metadata": {
        "id": "tiC2K2yp-nVp"
      },
      "id": "tiC2K2yp-nVp",
      "execution_count": null,
      "outputs": []
    },
    {
      "cell_type": "code",
      "source": [
        "n1 <- 220\n",
        "n2 <- 250\n",
        "\n",
        "p1 <- 0.2\n",
        "p2 <- 0.1\n",
        "\n",
        "estimates <- replicate(1e5, mean(rbernoulli(n1, p1)) - mean(rbernoulli(n2, p2)))"
      ],
      "metadata": {
        "id": "Q3HCEmrr8tYR"
      },
      "id": "Q3HCEmrr8tYR",
      "execution_count": null,
      "outputs": []
    },
    {
      "cell_type": "code",
      "source": [
        "ggplot(tibble(Estimate = estimates), aes(x = Estimate)) +\n",
        "  geom_histogram(bins=30) +\n",
        "  scale_y_continuous('Number of worlds')\n",
        "ggsave('diff-in-proportions.png', width=4, height=4)"
      ],
      "metadata": {
        "colab": {
          "base_uri": "https://localhost:8080/",
          "height": 437
        },
        "id": "mfH6m1T-9eOA",
        "outputId": "fb7669d9-c62f-485b-fea9-597f4a2f0932"
      },
      "id": "mfH6m1T-9eOA",
      "execution_count": null,
      "outputs": [
        {
          "output_type": "display_data",
          "data": {
            "text/plain": [
              "plot without title"
            ],
            "image/png": "[encoded data removed]"
          },
          "metadata": {
            "image/png": {
              "width": 420,
              "height": 420
            }
          }
        }
      ]
    },
    {
      "cell_type": "code",
      "source": [
        "n1 <- 400\n",
        "mu1_hat <- 1457\n",
        "s1 <- 750\n",
        "\n",
        "n2 <- 625\n",
        "mu2_hat <- 1420\n",
        "s2 <- 700"
      ],
      "metadata": {
        "id": "RodvYl2n9su9"
      },
      "id": "RodvYl2n9su9",
      "execution_count": null,
      "outputs": []
    },
    {
      "cell_type": "code",
      "source": [
        "s <- sqrt(s1^2 / n1 + s2^2/n2)\n",
        "s"
      ],
      "metadata": {
        "colab": {
          "base_uri": "https://localhost:8080/",
          "height": 34
        },
        "id": "HZv897VPMZrp",
        "outputId": "f4228bd4-4d72-4540-f7f2-54f629c96a5a"
      },
      "id": "HZv897VPMZrp",
      "execution_count": null,
      "outputs": [
        {
          "output_type": "display_data",
          "data": {
            "text/html": [
              "46.8001068374849"
            ],
            "text/markdown": "46.8001068374849",
            "text/latex": "46.8001068374849",
            "text/plain": [
              "[1] 46.80011"
            ]
          },
          "metadata": {}
        }
      ]
    },
    {
      "cell_type": "code",
      "source": [
        "est <- mu1_hat - mu2_hat\n",
        "est"
      ],
      "metadata": {
        "colab": {
          "base_uri": "https://localhost:8080/",
          "height": 34
        },
        "id": "t_AYIkyWMyRJ",
        "outputId": "53ba402e-32f8-47c7-cb3a-d52cf5414e08"
      },
      "id": "t_AYIkyWMyRJ",
      "execution_count": null,
      "outputs": [
        {
          "output_type": "display_data",
          "data": {
            "text/html": [
              "37"
            ],
            "text/markdown": "37",
            "text/latex": "37",
            "text/plain": [
              "[1] 37"
            ]
          },
          "metadata": {}
        }
      ]
    },
    {
      "cell_type": "code",
      "source": [
        "lwr <- est - 2*s\n",
        "lwr\n",
        "\n",
        "upr <- est + 2*s\n",
        "upr"
      ],
      "metadata": {
        "colab": {
          "base_uri": "https://localhost:8080/",
          "height": 52
        },
        "id": "2rJF-8YPNCUt",
        "outputId": "6b98a2f6-0866-4789-8182-fbb45937e8d0"
      },
      "id": "2rJF-8YPNCUt",
      "execution_count": null,
      "outputs": [
        {
          "output_type": "display_data",
          "data": {
            "text/html": [
              "-56.6002136749698"
            ],
            "text/markdown": "-56.6002136749698",
            "text/latex": "-56.6002136749698",
            "text/plain": [
              "[1] -56.60021"
            ]
          },
          "metadata": {}
        },
        {
          "output_type": "display_data",
          "data": {
            "text/html": [
              "130.60021367497"
            ],
            "text/markdown": "130.60021367497",
            "text/latex": "130.60021367497",
            "text/plain": [
              "[1] 130.6002"
            ]
          },
          "metadata": {}
        }
      ]
    }
  ],
  "metadata": {
    "colab": {
      "provenance": [],
      "collapsed_sections": [],
      "include_colab_link": true
    },
    "kernelspec": {
      "display_name": "R",
      "language": "R",
      "name": "ir"
    },
    "language_info": {
      "codemirror_mode": "r",
      "file_extension": ".r",
      "mimetype": "text/x-r-source",
      "name": "R",
      "pygments_lexer": "r",
      "version": "4.2.1"
    }
  },
  "nbformat": 4,
  "nbformat_minor": 5
}
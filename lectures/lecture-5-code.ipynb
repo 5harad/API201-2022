{
  "cells": [
    {
      "cell_type": "markdown",
      "metadata": {
        "id": "view-in-github",
        "colab_type": "text"
      },
      "source": [
        "<a href=\"https://colab.research.google.com/github/5harad/API201-students/blob/main/lectures/lecture-5-code.ipynb\" target=\"_parent\"><img src=\"https://colab.research.google.com/assets/colab-badge.svg\" alt=\"Open In Colab\"/></a>"
      ]
    },
    {
      "cell_type": "markdown",
      "id": "c8f6d4f7",
      "metadata": {
        "id": "c8f6d4f7"
      },
      "source": [
        "# Lecture 5: Bayes' rule"
      ]
    },
    {
      "cell_type": "code",
      "execution_count": 1,
      "id": "1b211e6c",
      "metadata": {
        "colab": {
          "base_uri": "https://localhost:8080/"
        },
        "id": "1b211e6c",
        "outputId": "6fccb131-bdb0-44a0-a799-4dc9532aaa7c"
      },
      "outputs": [
        {
          "output_type": "stream",
          "name": "stderr",
          "text": [
            "Warning message in system(\"timedatectl\", intern = TRUE):\n",
            "“running command 'timedatectl' had status 1”\n",
            "── \u001b[1mAttaching packages\u001b[22m ─────────────────────────────────────── tidyverse 1.3.1 ──\n",
            "\n",
            "\u001b[32m✔\u001b[39m \u001b[34mggplot2\u001b[39m 3.3.6      \u001b[32m✔\u001b[39m \u001b[34mpurrr  \u001b[39m 0.3.4 \n",
            "\u001b[32m✔\u001b[39m \u001b[34mtibble \u001b[39m 3.1.7      \u001b[32m✔\u001b[39m \u001b[34mdplyr  \u001b[39m 1.0.10\n",
            "\u001b[32m✔\u001b[39m \u001b[34mtidyr  \u001b[39m 1.2.0      \u001b[32m✔\u001b[39m \u001b[34mstringr\u001b[39m 1.4.1 \n",
            "\u001b[32m✔\u001b[39m \u001b[34mreadr  \u001b[39m 2.1.2      \u001b[32m✔\u001b[39m \u001b[34mforcats\u001b[39m 0.5.2 \n",
            "\n",
            "── \u001b[1mConflicts\u001b[22m ────────────────────────────────────────── tidyverse_conflicts() ──\n",
            "\u001b[31m✖\u001b[39m \u001b[34mdplyr\u001b[39m::\u001b[32mfilter()\u001b[39m masks \u001b[34mstats\u001b[39m::filter()\n",
            "\u001b[31m✖\u001b[39m \u001b[34mdplyr\u001b[39m::\u001b[32mlag()\u001b[39m    masks \u001b[34mstats\u001b[39m::lag()\n",
            "\n"
          ]
        }
      ],
      "source": [
        "library(tidyverse)"
      ]
    },
    {
      "cell_type": "markdown",
      "id": "c8813e64",
      "metadata": {
        "id": "c8813e64"
      },
      "source": [
        "## Part 1: Simulating cancer testing "
      ]
    },
    {
      "cell_type": "code",
      "execution_count": 2,
      "id": "49f2d3bd",
      "metadata": {
        "id": "49f2d3bd"
      },
      "outputs": [],
      "source": [
        "set.seed(1)"
      ]
    },
    {
      "cell_type": "code",
      "execution_count": 3,
      "id": "a9f37d2b",
      "metadata": {
        "colab": {
          "base_uri": "https://localhost:8080/",
          "height": 34
        },
        "id": "a9f37d2b",
        "outputId": "aaf14509-e613-459c-d88d-6adaf7d890d7"
      },
      "outputs": [
        {
          "output_type": "display_data",
          "data": {
            "text/html": [
              "<style>\n",
              ".list-inline {list-style: none; margin:0; padding: 0}\n",
              ".list-inline>li {display: inline-block}\n",
              ".list-inline>li:not(:last-child)::after {content: \"\\00b7\"; padding: 0 .5ex}\n",
              "</style>\n",
              "<ol class=list-inline><li>FALSE</li><li>FALSE</li><li>TRUE</li><li>TRUE</li><li>FALSE</li></ol>\n"
            ],
            "text/markdown": "1. FALSE\n2. FALSE\n3. TRUE\n4. TRUE\n5. FALSE\n\n\n",
            "text/latex": "\\begin{enumerate*}\n\\item FALSE\n\\item FALSE\n\\item TRUE\n\\item TRUE\n\\item FALSE\n\\end{enumerate*}\n",
            "text/plain": [
              "[1] FALSE FALSE  TRUE  TRUE FALSE"
            ]
          },
          "metadata": {}
        }
      ],
      "source": [
        "rbernoulli(5, 0.5)"
      ]
    },
    {
      "cell_type": "code",
      "execution_count": 4,
      "id": "78682b05",
      "metadata": {
        "colab": {
          "base_uri": "https://localhost:8080/",
          "height": 34
        },
        "id": "78682b05",
        "outputId": "15da6b38-a9ce-49f3-af05-55c992eb9651"
      },
      "outputs": [
        {
          "output_type": "display_data",
          "data": {
            "text/html": [
              "<style>\n",
              ".list-inline {list-style: none; margin:0; padding: 0}\n",
              ".list-inline>li {display: inline-block}\n",
              ".list-inline>li:not(:last-child)::after {content: \"\\00b7\"; padding: 0 .5ex}\n",
              "</style>\n",
              "<ol class=list-inline><li>TRUE</li><li>TRUE</li><li>TRUE</li><li>TRUE</li><li>FALSE</li></ol>\n"
            ],
            "text/markdown": "1. TRUE\n2. TRUE\n3. TRUE\n4. TRUE\n5. FALSE\n\n\n",
            "text/latex": "\\begin{enumerate*}\n\\item TRUE\n\\item TRUE\n\\item TRUE\n\\item TRUE\n\\item FALSE\n\\end{enumerate*}\n",
            "text/plain": [
              "[1]  TRUE  TRUE  TRUE  TRUE FALSE"
            ]
          },
          "metadata": {}
        }
      ],
      "source": [
        "rbernoulli(5, 0.5)"
      ]
    },
    {
      "cell_type": "code",
      "execution_count": 5,
      "id": "3fabaa94",
      "metadata": {
        "colab": {
          "base_uri": "https://localhost:8080/",
          "height": 34
        },
        "id": "3fabaa94",
        "outputId": "b3775638-680f-479f-82f0-2882450a6330"
      },
      "outputs": [
        {
          "output_type": "display_data",
          "data": {
            "text/html": [
              "<style>\n",
              ".list-inline {list-style: none; margin:0; padding: 0}\n",
              ".list-inline>li {display: inline-block}\n",
              ".list-inline>li:not(:last-child)::after {content: \"\\00b7\"; padding: 0 .5ex}\n",
              "</style>\n",
              "<ol class=list-inline><li>FALSE</li><li>FALSE</li><li>FALSE</li><li>TRUE</li><li>FALSE</li></ol>\n"
            ],
            "text/markdown": "1. FALSE\n2. FALSE\n3. FALSE\n4. TRUE\n5. FALSE\n\n\n",
            "text/latex": "\\begin{enumerate*}\n\\item FALSE\n\\item FALSE\n\\item FALSE\n\\item TRUE\n\\item FALSE\n\\end{enumerate*}\n",
            "text/plain": [
              "[1] FALSE FALSE FALSE  TRUE FALSE"
            ]
          },
          "metadata": {}
        }
      ],
      "source": [
        "rbernoulli(5, c(0.75, 0.1, 0.1, .75, 0.1))"
      ]
    },
    {
      "cell_type": "code",
      "execution_count": 6,
      "id": "86226d1b",
      "metadata": {
        "colab": {
          "base_uri": "https://localhost:8080/",
          "height": 34
        },
        "id": "86226d1b",
        "outputId": "84e2a83b-ebf0-455a-b07d-9039787b2e7b"
      },
      "outputs": [
        {
          "output_type": "display_data",
          "data": {
            "text/html": [
              "<style>\n",
              ".list-inline {list-style: none; margin:0; padding: 0}\n",
              ".list-inline>li {display: inline-block}\n",
              ".list-inline>li:not(:last-child)::after {content: \"\\00b7\"; padding: 0 .5ex}\n",
              "</style>\n",
              "<ol class=list-inline><li>TRUE</li><li>FALSE</li><li>TRUE</li><li>TRUE</li><li>FALSE</li></ol>\n"
            ],
            "text/markdown": "1. TRUE\n2. FALSE\n3. TRUE\n4. TRUE\n5. FALSE\n\n\n",
            "text/latex": "\\begin{enumerate*}\n\\item TRUE\n\\item FALSE\n\\item TRUE\n\\item TRUE\n\\item FALSE\n\\end{enumerate*}\n",
            "text/plain": [
              "[1]  TRUE FALSE  TRUE  TRUE FALSE"
            ]
          },
          "metadata": {}
        }
      ],
      "source": [
        "rbernoulli(5, c(0.75, 0.1, 0.1, .75, 0.1))"
      ]
    },
    {
      "cell_type": "code",
      "execution_count": 7,
      "id": "b166aa35",
      "metadata": {
        "id": "b166aa35"
      },
      "outputs": [],
      "source": [
        "num_patients <- 1e6\n",
        "incidence <- 0.009\n",
        "tpr <- 0.75\n",
        "tnr <- 0.9"
      ]
    },
    {
      "cell_type": "code",
      "source": [
        "set.seed(22)"
      ],
      "metadata": {
        "id": "RPxA5A9fhUzx"
      },
      "id": "RPxA5A9fhUzx",
      "execution_count": 8,
      "outputs": []
    },
    {
      "cell_type": "code",
      "source": [
        "cancer <- rbernoulli(num_patients, incidence)\n",
        "head(cancer)"
      ],
      "metadata": {
        "colab": {
          "base_uri": "https://localhost:8080/",
          "height": 34
        },
        "id": "7Q6zYkHPg45B",
        "outputId": "095b899f-bff5-4533-dc7b-09636221acf2"
      },
      "id": "7Q6zYkHPg45B",
      "execution_count": 9,
      "outputs": [
        {
          "output_type": "display_data",
          "data": {
            "text/html": [
              "<style>\n",
              ".list-inline {list-style: none; margin:0; padding: 0}\n",
              ".list-inline>li {display: inline-block}\n",
              ".list-inline>li:not(:last-child)::after {content: \"\\00b7\"; padding: 0 .5ex}\n",
              "</style>\n",
              "<ol class=list-inline><li>FALSE</li><li>FALSE</li><li>TRUE</li><li>FALSE</li><li>FALSE</li><li>FALSE</li></ol>\n"
            ],
            "text/markdown": "1. FALSE\n2. FALSE\n3. TRUE\n4. FALSE\n5. FALSE\n6. FALSE\n\n\n",
            "text/latex": "\\begin{enumerate*}\n\\item FALSE\n\\item FALSE\n\\item TRUE\n\\item FALSE\n\\item FALSE\n\\item FALSE\n\\end{enumerate*}\n",
            "text/plain": [
              "[1] FALSE FALSE  TRUE FALSE FALSE FALSE"
            ]
          },
          "metadata": {}
        }
      ]
    },
    {
      "cell_type": "code",
      "source": [
        "p_pos <- if_else(cancer, tpr, 1-tnr)\n",
        "head(p_pos)"
      ],
      "metadata": {
        "colab": {
          "base_uri": "https://localhost:8080/",
          "height": 34
        },
        "id": "w9faLSoOg8xu",
        "outputId": "6c11f111-fcb0-4f70-d1be-85713f71bf6f"
      },
      "id": "w9faLSoOg8xu",
      "execution_count": 10,
      "outputs": [
        {
          "output_type": "display_data",
          "data": {
            "text/html": [
              "<style>\n",
              ".list-inline {list-style: none; margin:0; padding: 0}\n",
              ".list-inline>li {display: inline-block}\n",
              ".list-inline>li:not(:last-child)::after {content: \"\\00b7\"; padding: 0 .5ex}\n",
              "</style>\n",
              "<ol class=list-inline><li>0.1</li><li>0.1</li><li>0.75</li><li>0.1</li><li>0.1</li><li>0.1</li></ol>\n"
            ],
            "text/markdown": "1. 0.1\n2. 0.1\n3. 0.75\n4. 0.1\n5. 0.1\n6. 0.1\n\n\n",
            "text/latex": "\\begin{enumerate*}\n\\item 0.1\n\\item 0.1\n\\item 0.75\n\\item 0.1\n\\item 0.1\n\\item 0.1\n\\end{enumerate*}\n",
            "text/plain": [
              "[1] 0.10 0.10 0.75 0.10 0.10 0.10"
            ]
          },
          "metadata": {}
        }
      ]
    },
    {
      "cell_type": "code",
      "execution_count": 11,
      "id": "9b7b0cec",
      "metadata": {
        "id": "9b7b0cec"
      },
      "outputs": [],
      "source": [
        "set.seed(22)"
      ]
    },
    {
      "cell_type": "code",
      "execution_count": 12,
      "id": "6b6f8940",
      "metadata": {
        "id": "6b6f8940"
      },
      "outputs": [],
      "source": [
        "patients <- tibble(\n",
        "    cancer = rbernoulli(num_patients, incidence),\n",
        "    test = rbernoulli(num_patients, if_else(cancer, tpr, 1-tnr))\n",
        ")"
      ]
    },
    {
      "cell_type": "code",
      "execution_count": 13,
      "id": "06eacd6d",
      "metadata": {
        "colab": {
          "base_uri": "https://localhost:8080/",
          "height": 286
        },
        "id": "06eacd6d",
        "outputId": "4cc6696d-35a8-4c10-cd98-83cd501a78b4"
      },
      "outputs": [
        {
          "output_type": "display_data",
          "data": {
            "text/html": [
              "<table class=\"dataframe\">\n",
              "<caption>A tibble: 6 × 2</caption>\n",
              "<thead>\n",
              "\t<tr><th scope=col>cancer</th><th scope=col>test</th></tr>\n",
              "\t<tr><th scope=col>&lt;lgl&gt;</th><th scope=col>&lt;lgl&gt;</th></tr>\n",
              "</thead>\n",
              "<tbody>\n",
              "\t<tr><td>FALSE</td><td>FALSE</td></tr>\n",
              "\t<tr><td>FALSE</td><td> TRUE</td></tr>\n",
              "\t<tr><td> TRUE</td><td> TRUE</td></tr>\n",
              "\t<tr><td>FALSE</td><td>FALSE</td></tr>\n",
              "\t<tr><td>FALSE</td><td>FALSE</td></tr>\n",
              "\t<tr><td>FALSE</td><td>FALSE</td></tr>\n",
              "</tbody>\n",
              "</table>\n"
            ],
            "text/markdown": "\nA tibble: 6 × 2\n\n| cancer &lt;lgl&gt; | test &lt;lgl&gt; |\n|---|---|\n| FALSE | FALSE |\n| FALSE |  TRUE |\n|  TRUE |  TRUE |\n| FALSE | FALSE |\n| FALSE | FALSE |\n| FALSE | FALSE |\n\n",
            "text/latex": "A tibble: 6 × 2\n\\begin{tabular}{ll}\n cancer & test\\\\\n <lgl> & <lgl>\\\\\n\\hline\n\t FALSE & FALSE\\\\\n\t FALSE &  TRUE\\\\\n\t  TRUE &  TRUE\\\\\n\t FALSE & FALSE\\\\\n\t FALSE & FALSE\\\\\n\t FALSE & FALSE\\\\\n\\end{tabular}\n",
            "text/plain": [
              "  cancer test \n",
              "1 FALSE  FALSE\n",
              "2 FALSE   TRUE\n",
              "3  TRUE   TRUE\n",
              "4 FALSE  FALSE\n",
              "5 FALSE  FALSE\n",
              "6 FALSE  FALSE"
            ]
          },
          "metadata": {}
        }
      ],
      "source": [
        "head(patients)"
      ]
    },
    {
      "cell_type": "code",
      "execution_count": 14,
      "id": "eec9fd2c",
      "metadata": {
        "colab": {
          "base_uri": "https://localhost:8080/",
          "height": 129
        },
        "id": "eec9fd2c",
        "outputId": "e044fed5-6f6f-4100-81e3-b79eacc17168"
      },
      "outputs": [
        {
          "output_type": "display_data",
          "data": {
            "text/html": [
              "<table class=\"dataframe\">\n",
              "<caption>A tibble: 1 × 1</caption>\n",
              "<thead>\n",
              "\t<tr><th scope=col>p</th></tr>\n",
              "\t<tr><th scope=col>&lt;dbl&gt;</th></tr>\n",
              "</thead>\n",
              "<tbody>\n",
              "\t<tr><td>0.06453958</td></tr>\n",
              "</tbody>\n",
              "</table>\n"
            ],
            "text/markdown": "\nA tibble: 1 × 1\n\n| p &lt;dbl&gt; |\n|---|\n| 0.06453958 |\n\n",
            "text/latex": "A tibble: 1 × 1\n\\begin{tabular}{l}\n p\\\\\n <dbl>\\\\\n\\hline\n\t 0.06453958\\\\\n\\end{tabular}\n",
            "text/plain": [
              "  p         \n",
              "1 0.06453958"
            ]
          },
          "metadata": {}
        }
      ],
      "source": [
        "patients %>%\n",
        "    filter(test) %>%\n",
        "    summarize(p = mean(cancer))"
      ]
    }
  ],
  "metadata": {
    "kernelspec": {
      "display_name": "R",
      "language": "R",
      "name": "ir"
    },
    "language_info": {
      "codemirror_mode": "r",
      "file_extension": ".r",
      "mimetype": "text/x-r-source",
      "name": "R",
      "pygments_lexer": "r",
      "version": "4.1.3"
    },
    "colab": {
      "provenance": [],
      "include_colab_link": true
    }
  },
  "nbformat": 4,
  "nbformat_minor": 5
}
{
  "cells": [
    {
      "cell_type": "markdown",
      "metadata": {
        "id": "view-in-github",
        "colab_type": "text"
      },
      "source": [
        "<a href=\"https://colab.research.google.com/github/5harad/API201-students/blob/main/lectures/lecture-7-code.ipynb\" target=\"_parent\"><img src=\"https://colab.research.google.com/assets/colab-badge.svg\" alt=\"Open In Colab\"/></a>"
      ]
    },
    {
      "cell_type": "markdown",
      "id": "c8f6d4f7",
      "metadata": {
        "id": "c8f6d4f7"
      },
      "source": [
        "# Lecture 7: Discrete probability distributions"
      ]
    },
    {
      "cell_type": "code",
      "execution_count": 1,
      "id": "1b211e6c",
      "metadata": {
        "id": "1b211e6c",
        "colab": {
          "base_uri": "https://localhost:8080/"
        },
        "outputId": "2a874fa2-b96e-47d4-fd9e-43f66b9eb7c2"
      },
      "outputs": [
        {
          "output_type": "stream",
          "name": "stderr",
          "text": [
            "Warning message in system(\"timedatectl\", intern = TRUE):\n",
            "“running command 'timedatectl' had status 1”\n",
            "── \u001b[1mAttaching packages\u001b[22m ─────────────────────────────────────── tidyverse 1.3.1 ──\n",
            "\n",
            "\u001b[32m✔\u001b[39m \u001b[34mggplot2\u001b[39m 3.3.6      \u001b[32m✔\u001b[39m \u001b[34mpurrr  \u001b[39m 0.3.4 \n",
            "\u001b[32m✔\u001b[39m \u001b[34mtibble \u001b[39m 3.1.7      \u001b[32m✔\u001b[39m \u001b[34mdplyr  \u001b[39m 1.0.10\n",
            "\u001b[32m✔\u001b[39m \u001b[34mtidyr  \u001b[39m 1.2.1      \u001b[32m✔\u001b[39m \u001b[34mstringr\u001b[39m 1.4.1 \n",
            "\u001b[32m✔\u001b[39m \u001b[34mreadr  \u001b[39m 2.1.2      \u001b[32m✔\u001b[39m \u001b[34mforcats\u001b[39m 0.5.2 \n",
            "\n",
            "── \u001b[1mConflicts\u001b[22m ────────────────────────────────────────── tidyverse_conflicts() ──\n",
            "\u001b[31m✖\u001b[39m \u001b[34mdplyr\u001b[39m::\u001b[32mfilter()\u001b[39m masks \u001b[34mstats\u001b[39m::filter()\n",
            "\u001b[31m✖\u001b[39m \u001b[34mdplyr\u001b[39m::\u001b[32mlag()\u001b[39m    masks \u001b[34mstats\u001b[39m::lag()\n",
            "\n"
          ]
        }
      ],
      "source": [
        "library(tidyverse)\n",
        "\n",
        "# set a simple black & white theme for our plots\n",
        "theme_set(theme_bw())"
      ]
    },
    {
      "cell_type": "markdown",
      "id": "c8813e64",
      "metadata": {
        "id": "c8813e64"
      },
      "source": [
        "## Part 1: Tornadoes "
      ]
    },
    {
      "cell_type": "code",
      "execution_count": 2,
      "id": "49f2d3bd",
      "metadata": {
        "id": "49f2d3bd"
      },
      "outputs": [],
      "source": [
        "set.seed(1)"
      ]
    },
    {
      "cell_type": "code",
      "execution_count": 3,
      "id": "a9f37d2b",
      "metadata": {
        "colab": {
          "base_uri": "https://localhost:8080/",
          "height": 34
        },
        "id": "a9f37d2b",
        "outputId": "8671e4f1-7f3e-46a8-e9d4-7a7669999796"
      },
      "outputs": [
        {
          "output_type": "display_data",
          "data": {
            "text/html": [
              "2"
            ],
            "text/markdown": "2",
            "text/latex": "2",
            "text/plain": [
              "[1] 2"
            ]
          },
          "metadata": {}
        }
      ],
      "source": [
        "num_tornadoes <- c(0, 1, 2, 3, 4, 5)\n",
        "p <- c(.1, .15, .4, .2, .1, .05)\n",
        "\n",
        "sample(num_tornadoes, 1, prob=p)"
      ]
    },
    {
      "cell_type": "code",
      "source": [
        "sample(num_tornadoes, 1, prob=p)"
      ],
      "metadata": {
        "colab": {
          "base_uri": "https://localhost:8080/",
          "height": 34
        },
        "id": "eleZloJAJkjl",
        "outputId": "41c4f95b-f82e-47de-8cb3-3ee698ccb677"
      },
      "id": "eleZloJAJkjl",
      "execution_count": 4,
      "outputs": [
        {
          "output_type": "display_data",
          "data": {
            "text/html": [
              "2"
            ],
            "text/markdown": "2",
            "text/latex": "2",
            "text/plain": [
              "[1] 2"
            ]
          },
          "metadata": {}
        }
      ]
    },
    {
      "cell_type": "code",
      "source": [
        "sample(num_tornadoes, 1, prob=p)"
      ],
      "metadata": {
        "colab": {
          "base_uri": "https://localhost:8080/",
          "height": 34
        },
        "id": "GUOvKgvgJmXJ",
        "outputId": "27562cfd-4ddb-4e18-bd07-a74e31f05362"
      },
      "id": "GUOvKgvgJmXJ",
      "execution_count": 5,
      "outputs": [
        {
          "output_type": "display_data",
          "data": {
            "text/html": [
              "3"
            ],
            "text/markdown": "3",
            "text/latex": "3",
            "text/plain": [
              "[1] 3"
            ]
          },
          "metadata": {}
        }
      ]
    },
    {
      "cell_type": "code",
      "source": [
        "sample(num_tornadoes, 10, prob=p, replace = TRUE)"
      ],
      "metadata": {
        "colab": {
          "base_uri": "https://localhost:8080/",
          "height": 34
        },
        "id": "OkA_ofh0JsLB",
        "outputId": "0aadeb8c-c091-4cfd-f481-62aef156e9b2"
      },
      "id": "OkA_ofh0JsLB",
      "execution_count": 6,
      "outputs": [
        {
          "output_type": "display_data",
          "data": {
            "text/html": [
              "<style>\n",
              ".list-inline {list-style: none; margin:0; padding: 0}\n",
              ".list-inline>li {display: inline-block}\n",
              ".list-inline>li:not(:last-child)::after {content: \"\\00b7\"; padding: 0 .5ex}\n",
              "</style>\n",
              "<ol class=list-inline><li>4</li><li>2</li><li>4</li><li>4</li><li>1</li><li>1</li><li>2</li><li>2</li><li>2</li><li>1</li></ol>\n"
            ],
            "text/markdown": "1. 4\n2. 2\n3. 4\n4. 4\n5. 1\n6. 1\n7. 2\n8. 2\n9. 2\n10. 1\n\n\n",
            "text/latex": "\\begin{enumerate*}\n\\item 4\n\\item 2\n\\item 4\n\\item 4\n\\item 1\n\\item 1\n\\item 2\n\\item 2\n\\item 2\n\\item 1\n\\end{enumerate*}\n",
            "text/plain": [
              " [1] 4 2 4 4 1 1 2 2 2 1"
            ]
          },
          "metadata": {}
        }
      ]
    },
    {
      "cell_type": "code",
      "source": [
        "sample(num_tornadoes, 10, prob=p, replace = TRUE)"
      ],
      "metadata": {
        "colab": {
          "base_uri": "https://localhost:8080/",
          "height": 34
        },
        "outputId": "b28cc491-b5e1-4727-cb48-1a5e90dcfb0a",
        "id": "c_RufWzmJ51B"
      },
      "execution_count": 7,
      "outputs": [
        {
          "output_type": "display_data",
          "data": {
            "text/html": [
              "<style>\n",
              ".list-inline {list-style: none; margin:0; padding: 0}\n",
              ".list-inline>li {display: inline-block}\n",
              ".list-inline>li:not(:last-child)::after {content: \"\\00b7\"; padding: 0 .5ex}\n",
              "</style>\n",
              "<ol class=list-inline><li>2</li><li>0</li><li>3</li><li>1</li><li>5</li><li>2</li><li>0</li><li>4</li><li>2</li><li>1</li></ol>\n"
            ],
            "text/markdown": "1. 2\n2. 0\n3. 3\n4. 1\n5. 5\n6. 2\n7. 0\n8. 4\n9. 2\n10. 1\n\n\n",
            "text/latex": "\\begin{enumerate*}\n\\item 2\n\\item 0\n\\item 3\n\\item 1\n\\item 5\n\\item 2\n\\item 0\n\\item 4\n\\item 2\n\\item 1\n\\end{enumerate*}\n",
            "text/plain": [
              " [1] 2 0 3 1 5 2 0 4 2 1"
            ]
          },
          "metadata": {}
        }
      ],
      "id": "c_RufWzmJ51B"
    },
    {
      "cell_type": "code",
      "source": [
        "many_worlds <- sample(num_tornadoes, 1e5, prob = p, replace = TRUE)"
      ],
      "metadata": {
        "id": "-BlqP1OkKEaD"
      },
      "id": "-BlqP1OkKEaD",
      "execution_count": 8,
      "outputs": []
    },
    {
      "cell_type": "code",
      "source": [
        "ggplot(tibble(num_tornadoes = many_worlds), aes(x = num_tornadoes)) + \n",
        "  geom_histogram(bins=30) +\n",
        "  scale_y_continuous('Number of worlds') +\n",
        "  scale_x_continuous('Number of tornadoes', breaks=0:5) +\n",
        "  theme(axis.text.x = element_text(color=\"black\"),\n",
        "          axis.text.y = element_text(color=\"black\"))\n",
        "\n",
        "ggsave('tornadoes.png', width=4, height=4)"
      ],
      "metadata": {
        "colab": {
          "base_uri": "https://localhost:8080/",
          "height": 437
        },
        "id": "nVITLY8yKnRH",
        "outputId": "bbf1684e-a7cd-4ea2-ccc8-0ae0bc6b0d43"
      },
      "id": "nVITLY8yKnRH",
      "execution_count": 9,
      "outputs": [
        {
          "output_type": "display_data",
          "data": {
            "text/plain": [
              "plot without title"
            ],
            "image/png": "[encoded data removed]"
          },
          "metadata": {
            "image/png": {
              "width": 420,
              "height": 420
            }
          }
        }
      ]
    },
    {
      "cell_type": "markdown",
      "source": [
        "Bernoulli random variables indicate whether an event happens, for example whether there was _at least_ one tornado in a given year."
      ],
      "metadata": {
        "id": "5KuH3qrShGag"
      },
      "id": "5KuH3qrShGag"
    },
    {
      "cell_type": "code",
      "source": [
        "rbernoulli(10, 0.9)"
      ],
      "metadata": {
        "colab": {
          "base_uri": "https://localhost:8080/",
          "height": 34
        },
        "id": "oJOKO2K2eKLZ",
        "outputId": "34bf9f8a-414d-4d77-deeb-1426455ac012"
      },
      "id": "oJOKO2K2eKLZ",
      "execution_count": 10,
      "outputs": [
        {
          "output_type": "display_data",
          "data": {
            "text/html": [
              "<style>\n",
              ".list-inline {list-style: none; margin:0; padding: 0}\n",
              ".list-inline>li {display: inline-block}\n",
              ".list-inline>li:not(:last-child)::after {content: \"\\00b7\"; padding: 0 .5ex}\n",
              "</style>\n",
              "<ol class=list-inline><li>TRUE</li><li>TRUE</li><li>TRUE</li><li>TRUE</li><li>TRUE</li><li>TRUE</li><li>TRUE</li><li>TRUE</li><li>TRUE</li><li>TRUE</li></ol>\n"
            ],
            "text/markdown": "1. TRUE\n2. TRUE\n3. TRUE\n4. TRUE\n5. TRUE\n6. TRUE\n7. TRUE\n8. TRUE\n9. TRUE\n10. TRUE\n\n\n",
            "text/latex": "\\begin{enumerate*}\n\\item TRUE\n\\item TRUE\n\\item TRUE\n\\item TRUE\n\\item TRUE\n\\item TRUE\n\\item TRUE\n\\item TRUE\n\\item TRUE\n\\item TRUE\n\\end{enumerate*}\n",
            "text/plain": [
              " [1] TRUE TRUE TRUE TRUE TRUE TRUE TRUE TRUE TRUE TRUE"
            ]
          },
          "metadata": {}
        }
      ]
    },
    {
      "cell_type": "code",
      "source": [
        "rbernoulli(10, 0.9)"
      ],
      "metadata": {
        "colab": {
          "base_uri": "https://localhost:8080/",
          "height": 34
        },
        "id": "OkhwlcKSeTVU",
        "outputId": "a7febb53-0820-402f-8f78-2e8250678e1d"
      },
      "id": "OkhwlcKSeTVU",
      "execution_count": 11,
      "outputs": [
        {
          "output_type": "display_data",
          "data": {
            "text/html": [
              "<style>\n",
              ".list-inline {list-style: none; margin:0; padding: 0}\n",
              ".list-inline>li {display: inline-block}\n",
              ".list-inline>li:not(:last-child)::after {content: \"\\00b7\"; padding: 0 .5ex}\n",
              "</style>\n",
              "<ol class=list-inline><li>FALSE</li><li>TRUE</li><li>TRUE</li><li>TRUE</li><li>TRUE</li><li>TRUE</li><li>TRUE</li><li>TRUE</li><li>TRUE</li><li>TRUE</li></ol>\n"
            ],
            "text/markdown": "1. FALSE\n2. TRUE\n3. TRUE\n4. TRUE\n5. TRUE\n6. TRUE\n7. TRUE\n8. TRUE\n9. TRUE\n10. TRUE\n\n\n",
            "text/latex": "\\begin{enumerate*}\n\\item FALSE\n\\item TRUE\n\\item TRUE\n\\item TRUE\n\\item TRUE\n\\item TRUE\n\\item TRUE\n\\item TRUE\n\\item TRUE\n\\item TRUE\n\\end{enumerate*}\n",
            "text/plain": [
              " [1] FALSE  TRUE  TRUE  TRUE  TRUE  TRUE  TRUE  TRUE  TRUE  TRUE"
            ]
          },
          "metadata": {}
        }
      ]
    },
    {
      "cell_type": "markdown",
      "source": [
        "We can add up Bernoulli random variables to model the number of events that happen over a certain number of trials, like the number of years over a 50-year span, in which there's at least one tornado."
      ],
      "metadata": {
        "id": "bsCi_CDchoaj"
      },
      "id": "bsCi_CDchoaj"
    },
    {
      "cell_type": "code",
      "source": [
        "Xs <- rbernoulli(50, 0.9)\n",
        "Xs"
      ],
      "metadata": {
        "colab": {
          "base_uri": "https://localhost:8080/",
          "height": 52
        },
        "id": "oaHzOAQah8Mt",
        "outputId": "4a0a7e80-4b59-4fbf-f4a1-66fa42a98f0f"
      },
      "id": "oaHzOAQah8Mt",
      "execution_count": 12,
      "outputs": [
        {
          "output_type": "display_data",
          "data": {
            "text/html": [
              "<style>\n",
              ".list-inline {list-style: none; margin:0; padding: 0}\n",
              ".list-inline>li {display: inline-block}\n",
              ".list-inline>li:not(:last-child)::after {content: \"\\00b7\"; padding: 0 .5ex}\n",
              "</style>\n",
              "<ol class=list-inline><li>TRUE</li><li>TRUE</li><li>TRUE</li><li>TRUE</li><li>TRUE</li><li>TRUE</li><li>FALSE</li><li>TRUE</li><li>TRUE</li><li>TRUE</li><li>TRUE</li><li>TRUE</li><li>FALSE</li><li>FALSE</li><li>TRUE</li><li>TRUE</li><li>TRUE</li><li>TRUE</li><li>FALSE</li><li>TRUE</li><li>TRUE</li><li>TRUE</li><li>TRUE</li><li>TRUE</li><li>FALSE</li><li>TRUE</li><li>TRUE</li><li>TRUE</li><li>TRUE</li><li>FALSE</li><li>TRUE</li><li>TRUE</li><li>FALSE</li><li>TRUE</li><li>FALSE</li><li>TRUE</li><li>TRUE</li><li>TRUE</li><li>TRUE</li><li>TRUE</li><li>TRUE</li><li>TRUE</li><li>TRUE</li><li>TRUE</li><li>TRUE</li><li>TRUE</li><li>TRUE</li><li>TRUE</li><li>TRUE</li><li>TRUE</li></ol>\n"
            ],
            "text/markdown": "1. TRUE\n2. TRUE\n3. TRUE\n4. TRUE\n5. TRUE\n6. TRUE\n7. FALSE\n8. TRUE\n9. TRUE\n10. TRUE\n11. TRUE\n12. TRUE\n13. FALSE\n14. FALSE\n15. TRUE\n16. TRUE\n17. TRUE\n18. TRUE\n19. FALSE\n20. TRUE\n21. TRUE\n22. TRUE\n23. TRUE\n24. TRUE\n25. FALSE\n26. TRUE\n27. TRUE\n28. TRUE\n29. TRUE\n30. FALSE\n31. TRUE\n32. TRUE\n33. FALSE\n34. TRUE\n35. FALSE\n36. TRUE\n37. TRUE\n38. TRUE\n39. TRUE\n40. TRUE\n41. TRUE\n42. TRUE\n43. TRUE\n44. TRUE\n45. TRUE\n46. TRUE\n47. TRUE\n48. TRUE\n49. TRUE\n50. TRUE\n\n\n",
            "text/latex": "\\begin{enumerate*}\n\\item TRUE\n\\item TRUE\n\\item TRUE\n\\item TRUE\n\\item TRUE\n\\item TRUE\n\\item FALSE\n\\item TRUE\n\\item TRUE\n\\item TRUE\n\\item TRUE\n\\item TRUE\n\\item FALSE\n\\item FALSE\n\\item TRUE\n\\item TRUE\n\\item TRUE\n\\item TRUE\n\\item FALSE\n\\item TRUE\n\\item TRUE\n\\item TRUE\n\\item TRUE\n\\item TRUE\n\\item FALSE\n\\item TRUE\n\\item TRUE\n\\item TRUE\n\\item TRUE\n\\item FALSE\n\\item TRUE\n\\item TRUE\n\\item FALSE\n\\item TRUE\n\\item FALSE\n\\item TRUE\n\\item TRUE\n\\item TRUE\n\\item TRUE\n\\item TRUE\n\\item TRUE\n\\item TRUE\n\\item TRUE\n\\item TRUE\n\\item TRUE\n\\item TRUE\n\\item TRUE\n\\item TRUE\n\\item TRUE\n\\item TRUE\n\\end{enumerate*}\n",
            "text/plain": [
              " [1]  TRUE  TRUE  TRUE  TRUE  TRUE  TRUE FALSE  TRUE  TRUE  TRUE  TRUE  TRUE\n",
              "[13] FALSE FALSE  TRUE  TRUE  TRUE  TRUE FALSE  TRUE  TRUE  TRUE  TRUE  TRUE\n",
              "[25] FALSE  TRUE  TRUE  TRUE  TRUE FALSE  TRUE  TRUE FALSE  TRUE FALSE  TRUE\n",
              "[37]  TRUE  TRUE  TRUE  TRUE  TRUE  TRUE  TRUE  TRUE  TRUE  TRUE  TRUE  TRUE\n",
              "[49]  TRUE  TRUE"
            ]
          },
          "metadata": {}
        }
      ]
    },
    {
      "cell_type": "code",
      "source": [
        "Z = sum(Xs)\n",
        "Z"
      ],
      "metadata": {
        "colab": {
          "base_uri": "https://localhost:8080/",
          "height": 34
        },
        "id": "rJM0gMbAh_lF",
        "outputId": "fdb45c78-4e67-4e17-aa17-0c116d8d9516"
      },
      "id": "rJM0gMbAh_lF",
      "execution_count": 13,
      "outputs": [
        {
          "output_type": "display_data",
          "data": {
            "text/html": [
              "42"
            ],
            "text/markdown": "42",
            "text/latex": "42",
            "text/plain": [
              "[1] 42"
            ]
          },
          "metadata": {}
        }
      ]
    },
    {
      "cell_type": "code",
      "source": [
        "sum(rbernoulli(50, 0.9))"
      ],
      "metadata": {
        "colab": {
          "base_uri": "https://localhost:8080/",
          "height": 34
        },
        "id": "Wya8yukgiWxw",
        "outputId": "6b615000-1fe9-488f-aa0e-f511020968c1"
      },
      "id": "Wya8yukgiWxw",
      "execution_count": 14,
      "outputs": [
        {
          "output_type": "display_data",
          "data": {
            "text/html": [
              "43"
            ],
            "text/markdown": "43",
            "text/latex": "43",
            "text/plain": [
              "[1] 43"
            ]
          },
          "metadata": {}
        }
      ]
    },
    {
      "cell_type": "code",
      "source": [
        "sum(rbernoulli(50, 0.9))"
      ],
      "metadata": {
        "colab": {
          "base_uri": "https://localhost:8080/",
          "height": 34
        },
        "id": "YE8yhhvAiYAp",
        "outputId": "306204d7-a965-4669-d371-96eda60e6612"
      },
      "id": "YE8yhhvAiYAp",
      "execution_count": 15,
      "outputs": [
        {
          "output_type": "display_data",
          "data": {
            "text/html": [
              "43"
            ],
            "text/markdown": "43",
            "text/latex": "43",
            "text/plain": [
              "[1] 43"
            ]
          },
          "metadata": {}
        }
      ]
    },
    {
      "cell_type": "code",
      "source": [
        "many_worlds <- replicate(1e5, sum(rbernoulli(50, 0.9)))"
      ],
      "metadata": {
        "id": "TirWT2j4D8cU"
      },
      "id": "TirWT2j4D8cU",
      "execution_count": 16,
      "outputs": []
    },
    {
      "cell_type": "code",
      "source": [
        "ggplot(tibble(num_tornadoes = many_worlds), aes(x = num_tornadoes)) + \n",
        "  geom_histogram(bins=100) +\n",
        "  scale_y_continuous('Number of worlds') +\n",
        "  scale_x_continuous('Number of years with at least one tornado') +\n",
        "  theme(axis.text.x = element_text(color=\"black\"),\n",
        "          axis.text.y = element_text(color=\"black\"))\n",
        "\n",
        "ggsave('tornadoes2.png', width=4, height=4)"
      ],
      "metadata": {
        "colab": {
          "base_uri": "https://localhost:8080/",
          "height": 437
        },
        "id": "DnQ_tvpJEN7m",
        "outputId": "d04a2f58-eedd-481a-f67c-79bf65b9ce4a"
      },
      "id": "DnQ_tvpJEN7m",
      "execution_count": 17,
      "outputs": [
        {
          "output_type": "display_data",
          "data": {
            "text/plain": [
              "plot without title"
            ],
            "image/png": "[encoded data removed]"
          },
          "metadata": {
            "image/png": {
              "width": 420,
              "height": 420
            }
          }
        }
      ]
    },
    {
      "cell_type": "markdown",
      "source": [
        "##Part 2: Expectation"
      ],
      "metadata": {
        "id": "eneai7zQAqqn"
      },
      "id": "eneai7zQAqqn"
    },
    {
      "cell_type": "code",
      "source": [
        "set.seed(2)\n",
        "\n",
        "num_tornadoes <- c(0, 1, 2, 3, 4, 5)\n",
        "p <- c(.1, .15, .4, .2, .1, .05)\n",
        "\n",
        "many_worlds <- sample(num_tornadoes, 1e5, prob = p, replace = TRUE)"
      ],
      "metadata": {
        "id": "HooLhyufAsT2"
      },
      "id": "HooLhyufAsT2",
      "execution_count": 18,
      "outputs": []
    },
    {
      "cell_type": "code",
      "source": [
        "mean(many_worlds)"
      ],
      "metadata": {
        "colab": {
          "base_uri": "https://localhost:8080/",
          "height": 34
        },
        "id": "2PE4f_SCFCjN",
        "outputId": "0fef0b20-febe-4853-e2cf-fb1c223385b8"
      },
      "id": "2PE4f_SCFCjN",
      "execution_count": 19,
      "outputs": [
        {
          "output_type": "display_data",
          "data": {
            "text/html": [
              "2.20134"
            ],
            "text/markdown": "2.20134",
            "text/latex": "2.20134",
            "text/plain": [
              "[1] 2.20134"
            ]
          },
          "metadata": {}
        }
      ]
    },
    {
      "cell_type": "code",
      "source": [
        "ggplot(tibble(outcome = many_worlds), aes(x = outcome)) + \n",
        "  geom_histogram(bins=30) +\n",
        "  scale_y_continuous('Number of worlds') +\n",
        "  scale_x_continuous('Number of tornadoes', breaks=0:5) +\n",
        "  theme(axis.text.x = element_text(color=\"black\"),\n",
        "          axis.text.y = element_text(color=\"black\"))\n",
        "\n",
        "ggsave('tornadoes.png', width=4, height=4)"
      ],
      "metadata": {
        "colab": {
          "base_uri": "https://localhost:8080/",
          "height": 437
        },
        "id": "pPwjop-LE2nQ",
        "outputId": "213fad6d-aca0-467c-b896-3f260d05c422"
      },
      "id": "pPwjop-LE2nQ",
      "execution_count": 20,
      "outputs": [
        {
          "output_type": "display_data",
          "data": {
            "text/plain": [
              "plot without title"
            ],
            "image/png": "[encoded data removed]"
          },
          "metadata": {
            "image/png": {
              "width": 420,
              "height": 420
            }
          }
        }
      ]
    },
    {
      "cell_type": "code",
      "source": [
        "tibble(num_tornadoes = many_worlds) %>%\n",
        "  count(num_tornadoes) %>%\n",
        "  mutate(fraction = n / 1e5)"
      ],
      "metadata": {
        "colab": {
          "base_uri": "https://localhost:8080/",
          "height": 286
        },
        "id": "11IIElU-GNX-",
        "outputId": "08cf4a4f-fb49-4fa1-8296-85a99f5c8f40"
      },
      "id": "11IIElU-GNX-",
      "execution_count": 21,
      "outputs": [
        {
          "output_type": "display_data",
          "data": {
            "text/html": [
              "<table class=\"dataframe\">\n",
              "<caption>A tibble: 6 × 3</caption>\n",
              "<thead>\n",
              "\t<tr><th scope=col>num_tornadoes</th><th scope=col>n</th><th scope=col>fraction</th></tr>\n",
              "\t<tr><th scope=col>&lt;dbl&gt;</th><th scope=col>&lt;int&gt;</th><th scope=col>&lt;dbl&gt;</th></tr>\n",
              "</thead>\n",
              "<tbody>\n",
              "\t<tr><td>0</td><td>10168</td><td>0.10168</td></tr>\n",
              "\t<tr><td>1</td><td>14886</td><td>0.14886</td></tr>\n",
              "\t<tr><td>2</td><td>39838</td><td>0.39838</td></tr>\n",
              "\t<tr><td>3</td><td>19954</td><td>0.19954</td></tr>\n",
              "\t<tr><td>4</td><td>10060</td><td>0.10060</td></tr>\n",
              "\t<tr><td>5</td><td> 5094</td><td>0.05094</td></tr>\n",
              "</tbody>\n",
              "</table>\n"
            ],
            "text/markdown": "\nA tibble: 6 × 3\n\n| num_tornadoes &lt;dbl&gt; | n &lt;int&gt; | fraction &lt;dbl&gt; |\n|---|---|---|\n| 0 | 10168 | 0.10168 |\n| 1 | 14886 | 0.14886 |\n| 2 | 39838 | 0.39838 |\n| 3 | 19954 | 0.19954 |\n| 4 | 10060 | 0.10060 |\n| 5 |  5094 | 0.05094 |\n\n",
            "text/latex": "A tibble: 6 × 3\n\\begin{tabular}{lll}\n num\\_tornadoes & n & fraction\\\\\n <dbl> & <int> & <dbl>\\\\\n\\hline\n\t 0 & 10168 & 0.10168\\\\\n\t 1 & 14886 & 0.14886\\\\\n\t 2 & 39838 & 0.39838\\\\\n\t 3 & 19954 & 0.19954\\\\\n\t 4 & 10060 & 0.10060\\\\\n\t 5 &  5094 & 0.05094\\\\\n\\end{tabular}\n",
            "text/plain": [
              "  num_tornadoes n     fraction\n",
              "1 0             10168 0.10168 \n",
              "2 1             14886 0.14886 \n",
              "3 2             39838 0.39838 \n",
              "4 3             19954 0.19954 \n",
              "5 4             10060 0.10060 \n",
              "6 5              5094 0.05094 "
            ]
          },
          "metadata": {}
        }
      ]
    },
    {
      "cell_type": "code",
      "source": [
        "0 * 0.10168 + 1 * 0.14886 + 2 * 0.39838 + 3 * 0.19954 + 4 * 0.10060 + 5 * 0.05094\n"
      ],
      "metadata": {
        "colab": {
          "base_uri": "https://localhost:8080/",
          "height": 34
        },
        "id": "0fSNUud-I9Kr",
        "outputId": "0b375228-bbfb-4db1-f987-a0b800e71084"
      },
      "id": "0fSNUud-I9Kr",
      "execution_count": 22,
      "outputs": [
        {
          "output_type": "display_data",
          "data": {
            "text/html": [
              "2.20134"
            ],
            "text/markdown": "2.20134",
            "text/latex": "2.20134",
            "text/plain": [
              "[1] 2.20134"
            ]
          },
          "metadata": {}
        }
      ]
    },
    {
      "cell_type": "markdown",
      "source": [
        "Now we compute the expected number of years in which there's at least 1 tornado"
      ],
      "metadata": {
        "id": "Rdf4dcWMw_i5"
      },
      "id": "Rdf4dcWMw_i5"
    },
    {
      "cell_type": "code",
      "source": [
        "many_worlds <- replicate(1e5, sum(rbernoulli(50, 0.9)))\n",
        "head(many_worlds)"
      ],
      "metadata": {
        "colab": {
          "base_uri": "https://localhost:8080/",
          "height": 34
        },
        "id": "nt9JGwMyw1KV",
        "outputId": "94f44265-6ae3-4c36-f9ab-9d1e6ccc3329"
      },
      "id": "nt9JGwMyw1KV",
      "execution_count": 23,
      "outputs": [
        {
          "output_type": "display_data",
          "data": {
            "text/html": [
              "<style>\n",
              ".list-inline {list-style: none; margin:0; padding: 0}\n",
              ".list-inline>li {display: inline-block}\n",
              ".list-inline>li:not(:last-child)::after {content: \"\\00b7\"; padding: 0 .5ex}\n",
              "</style>\n",
              "<ol class=list-inline><li>46</li><li>44</li><li>47</li><li>46</li><li>43</li><li>49</li></ol>\n"
            ],
            "text/markdown": "1. 46\n2. 44\n3. 47\n4. 46\n5. 43\n6. 49\n\n\n",
            "text/latex": "\\begin{enumerate*}\n\\item 46\n\\item 44\n\\item 47\n\\item 46\n\\item 43\n\\item 49\n\\end{enumerate*}\n",
            "text/plain": [
              "[1] 46 44 47 46 43 49"
            ]
          },
          "metadata": {}
        }
      ]
    },
    {
      "cell_type": "code",
      "source": [
        "mean(many_worlds)"
      ],
      "metadata": {
        "colab": {
          "base_uri": "https://localhost:8080/",
          "height": 34
        },
        "id": "_0tt3kBmw8Y0",
        "outputId": "2eb4fb07-a3a0-42ec-8547-2ecf4d084c51"
      },
      "id": "_0tt3kBmw8Y0",
      "execution_count": 24,
      "outputs": [
        {
          "output_type": "display_data",
          "data": {
            "text/html": [
              "44.99123"
            ],
            "text/markdown": "44.99123",
            "text/latex": "44.99123",
            "text/plain": [
              "[1] 44.99123"
            ]
          },
          "metadata": {}
        }
      ]
    },
    {
      "cell_type": "markdown",
      "source": [
        "## Part 3: Intergenerational mobility"
      ],
      "metadata": {
        "id": "r7HfZDg_Kpe2"
      },
      "id": "r7HfZDg_Kpe2"
    },
    {
      "cell_type": "code",
      "source": [
        "mobility <- tibble(\n",
        "  parent_q = c('parent_q1', 'parent_q2', 'parent_q3', 'parent_q4', 'parent_q5'),\n",
        "  child_q1 = c(0.064, 0.047, 0.035, 0.028, 0.025),\n",
        "  child_q2 = c(0.055, 0.047, 0.039, 0.032, 0.027),\n",
        "  child_q3 = c(0.039, 0.044, 0.043, 0.041, 0.034),\n",
        "  child_q4 = c(0.026, 0.036, 0.044, 0.047, 0.047),\n",
        "  child_q5 = c(0.016, 0.026, 0.039, 0.052, 0.068)\n",
        ") %>%\n",
        "  column_to_rownames(\"parent_q\")\n",
        "mobility"
      ],
      "metadata": {
        "colab": {
          "base_uri": "https://localhost:8080/",
          "height": 255
        },
        "id": "hCsYyrdJKthH",
        "outputId": "dabcdd1e-d3c1-4fca-fcc6-c3a17c67c180"
      },
      "id": "hCsYyrdJKthH",
      "execution_count": 25,
      "outputs": [
        {
          "output_type": "display_data",
          "data": {
            "text/html": [
              "<table class=\"dataframe\">\n",
              "<caption>A data.frame: 5 × 5</caption>\n",
              "<thead>\n",
              "\t<tr><th></th><th scope=col>child_q1</th><th scope=col>child_q2</th><th scope=col>child_q3</th><th scope=col>child_q4</th><th scope=col>child_q5</th></tr>\n",
              "\t<tr><th></th><th scope=col>&lt;dbl&gt;</th><th scope=col>&lt;dbl&gt;</th><th scope=col>&lt;dbl&gt;</th><th scope=col>&lt;dbl&gt;</th><th scope=col>&lt;dbl&gt;</th></tr>\n",
              "</thead>\n",
              "<tbody>\n",
              "\t<tr><th scope=row>parent_q1</th><td>0.064</td><td>0.055</td><td>0.039</td><td>0.026</td><td>0.016</td></tr>\n",
              "\t<tr><th scope=row>parent_q2</th><td>0.047</td><td>0.047</td><td>0.044</td><td>0.036</td><td>0.026</td></tr>\n",
              "\t<tr><th scope=row>parent_q3</th><td>0.035</td><td>0.039</td><td>0.043</td><td>0.044</td><td>0.039</td></tr>\n",
              "\t<tr><th scope=row>parent_q4</th><td>0.028</td><td>0.032</td><td>0.041</td><td>0.047</td><td>0.052</td></tr>\n",
              "\t<tr><th scope=row>parent_q5</th><td>0.025</td><td>0.027</td><td>0.034</td><td>0.047</td><td>0.068</td></tr>\n",
              "</tbody>\n",
              "</table>\n"
            ],
            "text/markdown": "\nA data.frame: 5 × 5\n\n| <!--/--> | child_q1 &lt;dbl&gt; | child_q2 &lt;dbl&gt; | child_q3 &lt;dbl&gt; | child_q4 &lt;dbl&gt; | child_q5 &lt;dbl&gt; |\n|---|---|---|---|---|---|\n| parent_q1 | 0.064 | 0.055 | 0.039 | 0.026 | 0.016 |\n| parent_q2 | 0.047 | 0.047 | 0.044 | 0.036 | 0.026 |\n| parent_q3 | 0.035 | 0.039 | 0.043 | 0.044 | 0.039 |\n| parent_q4 | 0.028 | 0.032 | 0.041 | 0.047 | 0.052 |\n| parent_q5 | 0.025 | 0.027 | 0.034 | 0.047 | 0.068 |\n\n",
            "text/latex": "A data.frame: 5 × 5\n\\begin{tabular}{r|lllll}\n  & child\\_q1 & child\\_q2 & child\\_q3 & child\\_q4 & child\\_q5\\\\\n  & <dbl> & <dbl> & <dbl> & <dbl> & <dbl>\\\\\n\\hline\n\tparent\\_q1 & 0.064 & 0.055 & 0.039 & 0.026 & 0.016\\\\\n\tparent\\_q2 & 0.047 & 0.047 & 0.044 & 0.036 & 0.026\\\\\n\tparent\\_q3 & 0.035 & 0.039 & 0.043 & 0.044 & 0.039\\\\\n\tparent\\_q4 & 0.028 & 0.032 & 0.041 & 0.047 & 0.052\\\\\n\tparent\\_q5 & 0.025 & 0.027 & 0.034 & 0.047 & 0.068\\\\\n\\end{tabular}\n",
            "text/plain": [
              "          child_q1 child_q2 child_q3 child_q4 child_q5\n",
              "parent_q1 0.064    0.055    0.039    0.026    0.016   \n",
              "parent_q2 0.047    0.047    0.044    0.036    0.026   \n",
              "parent_q3 0.035    0.039    0.043    0.044    0.039   \n",
              "parent_q4 0.028    0.032    0.041    0.047    0.052   \n",
              "parent_q5 0.025    0.027    0.034    0.047    0.068   "
            ]
          },
          "metadata": {}
        }
      ]
    },
    {
      "cell_type": "code",
      "source": [
        "cond_mobility <- mobility / 0.2\n",
        "cond_mobility"
      ],
      "metadata": {
        "colab": {
          "base_uri": "https://localhost:8080/",
          "height": 255
        },
        "id": "eHNqWCvfLmkF",
        "outputId": "fb1e0275-11b7-4c55-f57b-4e7c17a63701"
      },
      "id": "eHNqWCvfLmkF",
      "execution_count": 26,
      "outputs": [
        {
          "output_type": "display_data",
          "data": {
            "text/html": [
              "<table class=\"dataframe\">\n",
              "<caption>A data.frame: 5 × 5</caption>\n",
              "<thead>\n",
              "\t<tr><th></th><th scope=col>child_q1</th><th scope=col>child_q2</th><th scope=col>child_q3</th><th scope=col>child_q4</th><th scope=col>child_q5</th></tr>\n",
              "\t<tr><th></th><th scope=col>&lt;dbl&gt;</th><th scope=col>&lt;dbl&gt;</th><th scope=col>&lt;dbl&gt;</th><th scope=col>&lt;dbl&gt;</th><th scope=col>&lt;dbl&gt;</th></tr>\n",
              "</thead>\n",
              "<tbody>\n",
              "\t<tr><th scope=row>parent_q1</th><td>0.320</td><td>0.275</td><td>0.195</td><td>0.130</td><td>0.080</td></tr>\n",
              "\t<tr><th scope=row>parent_q2</th><td>0.235</td><td>0.235</td><td>0.220</td><td>0.180</td><td>0.130</td></tr>\n",
              "\t<tr><th scope=row>parent_q3</th><td>0.175</td><td>0.195</td><td>0.215</td><td>0.220</td><td>0.195</td></tr>\n",
              "\t<tr><th scope=row>parent_q4</th><td>0.140</td><td>0.160</td><td>0.205</td><td>0.235</td><td>0.260</td></tr>\n",
              "\t<tr><th scope=row>parent_q5</th><td>0.125</td><td>0.135</td><td>0.170</td><td>0.235</td><td>0.340</td></tr>\n",
              "</tbody>\n",
              "</table>\n"
            ],
            "text/markdown": "\nA data.frame: 5 × 5\n\n| <!--/--> | child_q1 &lt;dbl&gt; | child_q2 &lt;dbl&gt; | child_q3 &lt;dbl&gt; | child_q4 &lt;dbl&gt; | child_q5 &lt;dbl&gt; |\n|---|---|---|---|---|---|\n| parent_q1 | 0.320 | 0.275 | 0.195 | 0.130 | 0.080 |\n| parent_q2 | 0.235 | 0.235 | 0.220 | 0.180 | 0.130 |\n| parent_q3 | 0.175 | 0.195 | 0.215 | 0.220 | 0.195 |\n| parent_q4 | 0.140 | 0.160 | 0.205 | 0.235 | 0.260 |\n| parent_q5 | 0.125 | 0.135 | 0.170 | 0.235 | 0.340 |\n\n",
            "text/latex": "A data.frame: 5 × 5\n\\begin{tabular}{r|lllll}\n  & child\\_q1 & child\\_q2 & child\\_q3 & child\\_q4 & child\\_q5\\\\\n  & <dbl> & <dbl> & <dbl> & <dbl> & <dbl>\\\\\n\\hline\n\tparent\\_q1 & 0.320 & 0.275 & 0.195 & 0.130 & 0.080\\\\\n\tparent\\_q2 & 0.235 & 0.235 & 0.220 & 0.180 & 0.130\\\\\n\tparent\\_q3 & 0.175 & 0.195 & 0.215 & 0.220 & 0.195\\\\\n\tparent\\_q4 & 0.140 & 0.160 & 0.205 & 0.235 & 0.260\\\\\n\tparent\\_q5 & 0.125 & 0.135 & 0.170 & 0.235 & 0.340\\\\\n\\end{tabular}\n",
            "text/plain": [
              "          child_q1 child_q2 child_q3 child_q4 child_q5\n",
              "parent_q1 0.320    0.275    0.195    0.130    0.080   \n",
              "parent_q2 0.235    0.235    0.220    0.180    0.130   \n",
              "parent_q3 0.175    0.195    0.215    0.220    0.195   \n",
              "parent_q4 0.140    0.160    0.205    0.235    0.260   \n",
              "parent_q5 0.125    0.135    0.170    0.235    0.340   "
            ]
          },
          "metadata": {}
        }
      ]
    },
    {
      "cell_type": "code",
      "source": [
        "cond_mobility %>%\n",
        "  mutate(expected_quintile = 1*child_q1 + 2*child_q2 + 3*child_q3 + 4*child_q4 + 5*child_q5)\n",
        "\n"
      ],
      "metadata": {
        "colab": {
          "base_uri": "https://localhost:8080/",
          "height": 255
        },
        "id": "a8mbflAFMAi2",
        "outputId": "6d4f108d-2381-452f-9ad7-16abec12a991"
      },
      "id": "a8mbflAFMAi2",
      "execution_count": 27,
      "outputs": [
        {
          "output_type": "display_data",
          "data": {
            "text/html": [
              "<table class=\"dataframe\">\n",
              "<caption>A data.frame: 5 × 6</caption>\n",
              "<thead>\n",
              "\t<tr><th></th><th scope=col>child_q1</th><th scope=col>child_q2</th><th scope=col>child_q3</th><th scope=col>child_q4</th><th scope=col>child_q5</th><th scope=col>expected_quintile</th></tr>\n",
              "\t<tr><th></th><th scope=col>&lt;dbl&gt;</th><th scope=col>&lt;dbl&gt;</th><th scope=col>&lt;dbl&gt;</th><th scope=col>&lt;dbl&gt;</th><th scope=col>&lt;dbl&gt;</th><th scope=col>&lt;dbl&gt;</th></tr>\n",
              "</thead>\n",
              "<tbody>\n",
              "\t<tr><th scope=row>parent_q1</th><td>0.320</td><td>0.275</td><td>0.195</td><td>0.130</td><td>0.080</td><td>2.375</td></tr>\n",
              "\t<tr><th scope=row>parent_q2</th><td>0.235</td><td>0.235</td><td>0.220</td><td>0.180</td><td>0.130</td><td>2.735</td></tr>\n",
              "\t<tr><th scope=row>parent_q3</th><td>0.175</td><td>0.195</td><td>0.215</td><td>0.220</td><td>0.195</td><td>3.065</td></tr>\n",
              "\t<tr><th scope=row>parent_q4</th><td>0.140</td><td>0.160</td><td>0.205</td><td>0.235</td><td>0.260</td><td>3.315</td></tr>\n",
              "\t<tr><th scope=row>parent_q5</th><td>0.125</td><td>0.135</td><td>0.170</td><td>0.235</td><td>0.340</td><td>3.545</td></tr>\n",
              "</tbody>\n",
              "</table>\n"
            ],
            "text/markdown": "\nA data.frame: 5 × 6\n\n| <!--/--> | child_q1 &lt;dbl&gt; | child_q2 &lt;dbl&gt; | child_q3 &lt;dbl&gt; | child_q4 &lt;dbl&gt; | child_q5 &lt;dbl&gt; | expected_quintile &lt;dbl&gt; |\n|---|---|---|---|---|---|---|\n| parent_q1 | 0.320 | 0.275 | 0.195 | 0.130 | 0.080 | 2.375 |\n| parent_q2 | 0.235 | 0.235 | 0.220 | 0.180 | 0.130 | 2.735 |\n| parent_q3 | 0.175 | 0.195 | 0.215 | 0.220 | 0.195 | 3.065 |\n| parent_q4 | 0.140 | 0.160 | 0.205 | 0.235 | 0.260 | 3.315 |\n| parent_q5 | 0.125 | 0.135 | 0.170 | 0.235 | 0.340 | 3.545 |\n\n",
            "text/latex": "A data.frame: 5 × 6\n\\begin{tabular}{r|llllll}\n  & child\\_q1 & child\\_q2 & child\\_q3 & child\\_q4 & child\\_q5 & expected\\_quintile\\\\\n  & <dbl> & <dbl> & <dbl> & <dbl> & <dbl> & <dbl>\\\\\n\\hline\n\tparent\\_q1 & 0.320 & 0.275 & 0.195 & 0.130 & 0.080 & 2.375\\\\\n\tparent\\_q2 & 0.235 & 0.235 & 0.220 & 0.180 & 0.130 & 2.735\\\\\n\tparent\\_q3 & 0.175 & 0.195 & 0.215 & 0.220 & 0.195 & 3.065\\\\\n\tparent\\_q4 & 0.140 & 0.160 & 0.205 & 0.235 & 0.260 & 3.315\\\\\n\tparent\\_q5 & 0.125 & 0.135 & 0.170 & 0.235 & 0.340 & 3.545\\\\\n\\end{tabular}\n",
            "text/plain": [
              "          child_q1 child_q2 child_q3 child_q4 child_q5 expected_quintile\n",
              "parent_q1 0.320    0.275    0.195    0.130    0.080    2.375            \n",
              "parent_q2 0.235    0.235    0.220    0.180    0.130    2.735            \n",
              "parent_q3 0.175    0.195    0.215    0.220    0.195    3.065            \n",
              "parent_q4 0.140    0.160    0.205    0.235    0.260    3.315            \n",
              "parent_q5 0.125    0.135    0.170    0.235    0.340    3.545            "
            ]
          },
          "metadata": {}
        }
      ]
    },
    {
      "cell_type": "code",
      "source": [
        "cond_mobility %>% \n",
        "  slice(c(1,5)) %>%\n",
        "  rownames_to_column('parent_quintile') %>%\n",
        "   pivot_longer(starts_with('child'), names_to = 'child_quintile') %>%\n",
        "   mutate(\n",
        "     parent_quintile = recode_factor(parent_quintile, \n",
        "      parent_q1 = \"Born into poorest quintile\",\n",
        "      parent_q5 = \"Born into richest quintile\"),\n",
        "     child_quintile = c(1:5, 1:5)\n",
        "    ) %>%\n",
        "   ggplot(aes(x=child_quintile, y=value)) +\n",
        "   geom_bar(stat='identity') + \n",
        "   facet_grid(~parent_quintile) + \n",
        "   scale_y_continuous('Probability') +\n",
        "   scale_x_continuous(\"Eventual income quintile\")\n",
        "\n",
        "   ggsave('income_quintiles.png', width = 7, height = 4)"
      ],
      "metadata": {
        "colab": {
          "base_uri": "https://localhost:8080/",
          "height": 437
        },
        "id": "Y22T6M2ihz4U",
        "outputId": "ea380dfa-9c3c-45a9-92e0-5e6dc4d191be"
      },
      "id": "Y22T6M2ihz4U",
      "execution_count": 28,
      "outputs": [
        {
          "output_type": "display_data",
          "data": {
            "text/plain": [
              "plot without title"
            ],
            "image/png": "[encoded data removed]"
          },
          "metadata": {
            "image/png": {
              "width": 420,
              "height": 420
            }
          }
        }
      ]
    }
  ],
  "metadata": {
    "colab": {
      "provenance": [],
      "collapsed_sections": [],
      "include_colab_link": true
    },
    "kernelspec": {
      "display_name": "R",
      "language": "R",
      "name": "ir"
    },
    "language_info": {
      "codemirror_mode": "r",
      "file_extension": ".r",
      "mimetype": "text/x-r-source",
      "name": "R",
      "pygments_lexer": "r",
      "version": "4.2.1"
    }
  },
  "nbformat": 4,
  "nbformat_minor": 5
}
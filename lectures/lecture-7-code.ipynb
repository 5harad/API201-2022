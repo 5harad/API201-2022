{
  "cells": [
    {
      "cell_type": "markdown",
      "metadata": {
        "id": "view-in-github",
        "colab_type": "text"
      },
      "source": [
        "<a href=\"https://colab.research.google.com/github/5harad/API201-students/blob/main/lectures/lecture-7-code.ipynb\" target=\"_parent\"><img src=\"https://colab.research.google.com/assets/colab-badge.svg\" alt=\"Open In Colab\"/></a>"
      ]
    },
    {
      "cell_type": "markdown",
      "id": "c8f6d4f7",
      "metadata": {
        "id": "c8f6d4f7"
      },
      "source": [
        "# Lecture 7: Probability distributions I"
      ]
    },
    {
      "cell_type": "code",
      "execution_count": 167,
      "id": "1b211e6c",
      "metadata": {
        "id": "1b211e6c"
      },
      "outputs": [],
      "source": [
        "library(tidyverse)\n",
        "\n",
        "# set a simple black & white theme for our plots\n",
        "theme_set(theme_bw())"
      ]
    },
    {
      "cell_type": "markdown",
      "id": "c8813e64",
      "metadata": {
        "id": "c8813e64"
      },
      "source": [
        "## Part 1: Rolling dice "
      ]
    },
    {
      "cell_type": "code",
      "execution_count": 168,
      "id": "49f2d3bd",
      "metadata": {
        "id": "49f2d3bd"
      },
      "outputs": [],
      "source": [
        "set.seed(1)"
      ]
    },
    {
      "cell_type": "code",
      "execution_count": 169,
      "id": "a9f37d2b",
      "metadata": {
        "colab": {
          "base_uri": "https://localhost:8080/",
          "height": 34
        },
        "id": "a9f37d2b",
        "outputId": "a4abdb22-d08e-47fd-c98e-dd7f41fa27e7"
      },
      "outputs": [
        {
          "output_type": "display_data",
          "data": {
            "text/html": [
              "3"
            ],
            "text/markdown": "3",
            "text/latex": "3",
            "text/plain": [
              "[1] 3"
            ]
          },
          "metadata": {}
        }
      ],
      "source": [
        "outcomes <- c(1, 2, 3, 4, 5, 6)\n",
        "p <- c(1/6, 1/6, 1/6, 1/6, 1/6, 1/6)\n",
        "\n",
        "sample(outcomes, 1, prob=p)"
      ]
    },
    {
      "cell_type": "code",
      "source": [
        "sample(outcomes, 1, prob=p)"
      ],
      "metadata": {
        "colab": {
          "base_uri": "https://localhost:8080/",
          "height": 34
        },
        "id": "eleZloJAJkjl",
        "outputId": "9c7fbb07-e2f2-4db9-fe12-37ba131776af"
      },
      "id": "eleZloJAJkjl",
      "execution_count": 170,
      "outputs": [
        {
          "output_type": "display_data",
          "data": {
            "text/html": [
              "4"
            ],
            "text/markdown": "4",
            "text/latex": "4",
            "text/plain": [
              "[1] 4"
            ]
          },
          "metadata": {}
        }
      ]
    },
    {
      "cell_type": "code",
      "source": [
        "sample(outcomes, 1, prob=p)"
      ],
      "metadata": {
        "colab": {
          "base_uri": "https://localhost:8080/",
          "height": 34
        },
        "id": "GUOvKgvgJmXJ",
        "outputId": "27bc318c-2bb2-4fcd-8ab4-02b1b48a3f69"
      },
      "id": "GUOvKgvgJmXJ",
      "execution_count": 171,
      "outputs": [
        {
          "output_type": "display_data",
          "data": {
            "text/html": [
              "5"
            ],
            "text/markdown": "5",
            "text/latex": "5",
            "text/plain": [
              "[1] 5"
            ]
          },
          "metadata": {}
        }
      ]
    },
    {
      "cell_type": "code",
      "source": [
        "sample(outcomes, 10, prob=p, replace = TRUE)"
      ],
      "metadata": {
        "colab": {
          "base_uri": "https://localhost:8080/",
          "height": 34
        },
        "id": "OkA_ofh0JsLB",
        "outputId": "e30c5976-2cb2-4744-985d-9f47bf1ba585"
      },
      "id": "OkA_ofh0JsLB",
      "execution_count": 172,
      "outputs": [
        {
          "output_type": "display_data",
          "data": {
            "text/html": [
              "<style>\n",
              ".list-inline {list-style: none; margin:0; padding: 0}\n",
              ".list-inline>li {display: inline-block}\n",
              ".list-inline>li:not(:last-child)::after {content: \"\\00b7\"; padding: 0 .5ex}\n",
              "</style>\n",
              "<ol class=list-inline><li>1</li><li>3</li><li>1</li><li>1</li><li>5</li><li>5</li><li>2</li><li>3</li><li>3</li><li>6</li></ol>\n"
            ],
            "text/markdown": "1. 1\n2. 3\n3. 1\n4. 1\n5. 5\n6. 5\n7. 2\n8. 3\n9. 3\n10. 6\n\n\n",
            "text/latex": "\\begin{enumerate*}\n\\item 1\n\\item 3\n\\item 1\n\\item 1\n\\item 5\n\\item 5\n\\item 2\n\\item 3\n\\item 3\n\\item 6\n\\end{enumerate*}\n",
            "text/plain": [
              " [1] 1 3 1 1 5 5 2 3 3 6"
            ]
          },
          "metadata": {}
        }
      ]
    },
    {
      "cell_type": "code",
      "source": [
        "sample(outcomes, 10, prob=p, replace = TRUE)"
      ],
      "metadata": {
        "colab": {
          "base_uri": "https://localhost:8080/",
          "height": 34
        },
        "outputId": "a2f81030-f15d-4ae9-ad19-0f369675db4e",
        "id": "c_RufWzmJ51B"
      },
      "execution_count": 173,
      "outputs": [
        {
          "output_type": "display_data",
          "data": {
            "text/html": [
              "<style>\n",
              ".list-inline {list-style: none; margin:0; padding: 0}\n",
              ".list-inline>li {display: inline-block}\n",
              ".list-inline>li:not(:last-child)::after {content: \"\\00b7\"; padding: 0 .5ex}\n",
              "</style>\n",
              "<ol class=list-inline><li>4</li><li>6</li><li>4</li><li>6</li><li>1</li><li>4</li><li>6</li><li>1</li><li>3</li><li>5</li></ol>\n"
            ],
            "text/markdown": "1. 4\n2. 6\n3. 4\n4. 6\n5. 1\n6. 4\n7. 6\n8. 1\n9. 3\n10. 5\n\n\n",
            "text/latex": "\\begin{enumerate*}\n\\item 4\n\\item 6\n\\item 4\n\\item 6\n\\item 1\n\\item 4\n\\item 6\n\\item 1\n\\item 3\n\\item 5\n\\end{enumerate*}\n",
            "text/plain": [
              " [1] 4 6 4 6 1 4 6 1 3 5"
            ]
          },
          "metadata": {}
        }
      ],
      "id": "c_RufWzmJ51B"
    },
    {
      "cell_type": "code",
      "source": [
        "set.seed(1)\n",
        "\n",
        "rolls <- tibble(\n",
        "  outcome = sample(outcomes, 1e3, prob=p, replace = TRUE)\n",
        ")\n",
        "\n",
        "ggplot(rolls, aes(x = outcome)) + \n",
        "  geom_histogram(bins=30) +\n",
        "  scale_y_continuous('Number of rolls') +\n",
        "  scale_x_continuous('Outcome', breaks=1:6) +\n",
        "  theme(axis.text.x = element_text(color=\"black\"),\n",
        "          axis.text.y = element_text(color=\"black\"))\n",
        "\n",
        "ggsave('rolls.png', width=4, height=4)"
      ],
      "metadata": {
        "colab": {
          "base_uri": "https://localhost:8080/",
          "height": 437
        },
        "id": "-BlqP1OkKEaD",
        "outputId": "06996323-7ada-4f79-a806-8ba5fbe328fe"
      },
      "id": "-BlqP1OkKEaD",
      "execution_count": 174,
      "outputs": [
        {
          "output_type": "display_data",
          "data": {
            "text/plain": [
              "plot without title"
            ],
            "image/png": "[encoded data removed]"
          },
          "metadata": {
            "image/png": {
              "width": 420,
              "height": 420
            }
          }
        }
      ]
    },
    {
      "cell_type": "markdown",
      "source": [
        "We can also simulate rolling a _loaded_ die"
      ],
      "metadata": {
        "id": "6lI-O38wLCd8"
      },
      "id": "6lI-O38wLCd8"
    },
    {
      "cell_type": "code",
      "source": [
        "outcomes <- c(1, 2, 3, 4, 5, 6)\n",
        "p <- c(1/10, 1/10, 1/10, 1/10, 1/10, 1/2)\n",
        "\n",
        "sample(outcomes, 10, prob=p, replace = TRUE)"
      ],
      "metadata": {
        "colab": {
          "base_uri": "https://localhost:8080/",
          "height": 34
        },
        "id": "pHDStKL8KflK",
        "outputId": "98e9c3b3-fdad-42ac-ff9e-5f8861700a11"
      },
      "id": "pHDStKL8KflK",
      "execution_count": 175,
      "outputs": [
        {
          "output_type": "display_data",
          "data": {
            "text/html": [
              "<style>\n",
              ".list-inline {list-style: none; margin:0; padding: 0}\n",
              ".list-inline>li {display: inline-block}\n",
              ".list-inline>li:not(:last-child)::after {content: \"\\00b7\"; padding: 0 .5ex}\n",
              "</style>\n",
              "<ol class=list-inline><li>3</li><li>4</li><li>6</li><li>1</li><li>6</li><li>6</li><li>3</li><li>3</li><li>2</li><li>4</li></ol>\n"
            ],
            "text/markdown": "1. 3\n2. 4\n3. 6\n4. 1\n5. 6\n6. 6\n7. 3\n8. 3\n9. 2\n10. 4\n\n\n",
            "text/latex": "\\begin{enumerate*}\n\\item 3\n\\item 4\n\\item 6\n\\item 1\n\\item 6\n\\item 6\n\\item 3\n\\item 3\n\\item 2\n\\item 4\n\\end{enumerate*}\n",
            "text/plain": [
              " [1] 3 4 6 1 6 6 3 3 2 4"
            ]
          },
          "metadata": {}
        }
      ]
    },
    {
      "cell_type": "code",
      "source": [
        "set.seed(1)\n",
        "\n",
        "rolls <- tibble(\n",
        "  outcome = sample(outcomes, 1e3, prob=p, replace = TRUE)\n",
        ")\n",
        "\n",
        "ggplot(rolls, aes(x = outcome)) + \n",
        "  geom_histogram(bins=30) +\n",
        "  scale_y_continuous('Number of rolls') +\n",
        "  scale_x_continuous('Outcome', breaks=1:6) +\n",
        "  theme(axis.text.x = element_text(color=\"black\"),\n",
        "          axis.text.y = element_text(color=\"black\"))\n",
        "\n",
        "ggsave('loaded_rolls.png', width=4, height=4)"
      ],
      "metadata": {
        "colab": {
          "base_uri": "https://localhost:8080/",
          "height": 437
        },
        "id": "0K_b1GrdLvjD",
        "outputId": "5aa8afe6-8147-4224-afe8-b2cc295ca654"
      },
      "id": "0K_b1GrdLvjD",
      "execution_count": 176,
      "outputs": [
        {
          "output_type": "display_data",
          "data": {
            "text/plain": [
              "plot without title"
            ],
            "image/png": "[encoded data removed]"
          },
          "metadata": {
            "image/png": {
              "width": 420,
              "height": 420
            }
          }
        }
      ]
    },
    {
      "cell_type": "markdown",
      "source": [
        "Part 2: Expectation"
      ],
      "metadata": {
        "id": "eneai7zQAqqn"
      },
      "id": "eneai7zQAqqn"
    },
    {
      "cell_type": "code",
      "source": [
        "set.seed(2)\n",
        "\n",
        "outcomes <- c(0, 1, 2, 3, 4, 5)\n",
        "p <- c(.1, .15, .4, .2, .1, .05)\n",
        "\n",
        "X <- sample(outcomes, 1, prob = p)\n",
        "X"
      ],
      "metadata": {
        "colab": {
          "base_uri": "https://localhost:8080/",
          "height": 34
        },
        "id": "HooLhyufAsT2",
        "outputId": "04f9324a-c7e0-4329-e186-53e20a307e74"
      },
      "id": "HooLhyufAsT2",
      "execution_count": 177,
      "outputs": [
        {
          "output_type": "display_data",
          "data": {
            "text/html": [
              "2"
            ],
            "text/markdown": "2",
            "text/latex": "2",
            "text/plain": [
              "[1] 2"
            ]
          },
          "metadata": {}
        }
      ]
    },
    {
      "cell_type": "code",
      "source": [
        "X <- sample(outcomes, 1, prob = p)\n",
        "X"
      ],
      "metadata": {
        "colab": {
          "base_uri": "https://localhost:8080/",
          "height": 34
        },
        "id": "kPJ-qefRBbGH",
        "outputId": "0edac485-5f93-4a68-8e7d-e1d07820c2cf"
      },
      "id": "kPJ-qefRBbGH",
      "execution_count": 178,
      "outputs": [
        {
          "output_type": "display_data",
          "data": {
            "text/html": [
              "1"
            ],
            "text/markdown": "1",
            "text/latex": "1",
            "text/plain": [
              "[1] 1"
            ]
          },
          "metadata": {}
        }
      ]
    },
    {
      "cell_type": "code",
      "source": [
        "many_X <- sample(outcomes, 1e5, prob = p, replace = TRUE)"
      ],
      "metadata": {
        "id": "rkhig7KvBnH3"
      },
      "id": "rkhig7KvBnH3",
      "execution_count": 179,
      "outputs": []
    },
    {
      "cell_type": "code",
      "source": [
        "mean(many_X)"
      ],
      "metadata": {
        "colab": {
          "base_uri": "https://localhost:8080/",
          "height": 34
        },
        "id": "2PE4f_SCFCjN",
        "outputId": "38eec10f-852b-4d27-cc73-bce82debe4c1"
      },
      "id": "2PE4f_SCFCjN",
      "execution_count": 180,
      "outputs": [
        {
          "output_type": "display_data",
          "data": {
            "text/html": [
              "2.20134"
            ],
            "text/markdown": "2.20134",
            "text/latex": "2.20134",
            "text/plain": [
              "[1] 2.20134"
            ]
          },
          "metadata": {}
        }
      ]
    },
    {
      "cell_type": "code",
      "source": [
        "ggplot(tibble(outcome = many_X), aes(x = outcome)) + \n",
        "  geom_histogram(bins=30) +\n",
        "  scale_y_continuous('Number of rolls') +\n",
        "  scale_x_continuous('Outcome', breaks=0:5) +\n",
        "  theme(axis.text.x = element_text(color=\"black\"),\n",
        "          axis.text.y = element_text(color=\"black\"))\n",
        "\n",
        "ggsave('tornadoes.png', width=4, height=4)"
      ],
      "metadata": {
        "colab": {
          "base_uri": "https://localhost:8080/",
          "height": 437
        },
        "id": "pPwjop-LE2nQ",
        "outputId": "46bffde5-b4b8-4e35-8146-24b7a044dd73"
      },
      "id": "pPwjop-LE2nQ",
      "execution_count": 181,
      "outputs": [
        {
          "output_type": "display_data",
          "data": {
            "text/plain": [
              "plot without title"
            ],
            "image/png": "[encoded data removed]"
          },
          "metadata": {
            "image/png": {
              "width": 420,
              "height": 420
            }
          }
        }
      ]
    },
    {
      "cell_type": "code",
      "source": [
        "tibble(num_tornadoes = many_X) %>%\n",
        "  count(num_tornadoes) %>%\n",
        "  mutate(fraction = n / 1e5)"
      ],
      "metadata": {
        "colab": {
          "base_uri": "https://localhost:8080/",
          "height": 286
        },
        "id": "11IIElU-GNX-",
        "outputId": "d2873b9e-5285-4ba7-aa99-47b91440d49f"
      },
      "id": "11IIElU-GNX-",
      "execution_count": 182,
      "outputs": [
        {
          "output_type": "display_data",
          "data": {
            "text/html": [
              "<table class=\"dataframe\">\n",
              "<caption>A tibble: 6 × 3</caption>\n",
              "<thead>\n",
              "\t<tr><th scope=col>num_tornadoes</th><th scope=col>n</th><th scope=col>fraction</th></tr>\n",
              "\t<tr><th scope=col>&lt;dbl&gt;</th><th scope=col>&lt;int&gt;</th><th scope=col>&lt;dbl&gt;</th></tr>\n",
              "</thead>\n",
              "<tbody>\n",
              "\t<tr><td>0</td><td>10168</td><td>0.10168</td></tr>\n",
              "\t<tr><td>1</td><td>14886</td><td>0.14886</td></tr>\n",
              "\t<tr><td>2</td><td>39838</td><td>0.39838</td></tr>\n",
              "\t<tr><td>3</td><td>19954</td><td>0.19954</td></tr>\n",
              "\t<tr><td>4</td><td>10060</td><td>0.10060</td></tr>\n",
              "\t<tr><td>5</td><td> 5094</td><td>0.05094</td></tr>\n",
              "</tbody>\n",
              "</table>\n"
            ],
            "text/markdown": "\nA tibble: 6 × 3\n\n| num_tornadoes &lt;dbl&gt; | n &lt;int&gt; | fraction &lt;dbl&gt; |\n|---|---|---|\n| 0 | 10168 | 0.10168 |\n| 1 | 14886 | 0.14886 |\n| 2 | 39838 | 0.39838 |\n| 3 | 19954 | 0.19954 |\n| 4 | 10060 | 0.10060 |\n| 5 |  5094 | 0.05094 |\n\n",
            "text/latex": "A tibble: 6 × 3\n\\begin{tabular}{lll}\n num\\_tornadoes & n & fraction\\\\\n <dbl> & <int> & <dbl>\\\\\n\\hline\n\t 0 & 10168 & 0.10168\\\\\n\t 1 & 14886 & 0.14886\\\\\n\t 2 & 39838 & 0.39838\\\\\n\t 3 & 19954 & 0.19954\\\\\n\t 4 & 10060 & 0.10060\\\\\n\t 5 &  5094 & 0.05094\\\\\n\\end{tabular}\n",
            "text/plain": [
              "  num_tornadoes n     fraction\n",
              "1 0             10168 0.10168 \n",
              "2 1             14886 0.14886 \n",
              "3 2             39838 0.39838 \n",
              "4 3             19954 0.19954 \n",
              "5 4             10060 0.10060 \n",
              "6 5              5094 0.05094 "
            ]
          },
          "metadata": {}
        }
      ]
    },
    {
      "cell_type": "code",
      "source": [
        "0 * 0.10168 + 1 * 0.14886 + 2 * 0.39838 + 3 * 0.19954 + 4 * 0.10060 + 5 * 0.05094\n"
      ],
      "metadata": {
        "colab": {
          "base_uri": "https://localhost:8080/",
          "height": 34
        },
        "id": "0fSNUud-I9Kr",
        "outputId": "3d50f95c-6c14-49af-9ac2-6b182d396a6f"
      },
      "id": "0fSNUud-I9Kr",
      "execution_count": 183,
      "outputs": [
        {
          "output_type": "display_data",
          "data": {
            "text/html": [
              "2.20134"
            ],
            "text/markdown": "2.20134",
            "text/latex": "2.20134",
            "text/plain": [
              "[1] 2.20134"
            ]
          },
          "metadata": {}
        }
      ]
    },
    {
      "cell_type": "code",
      "source": [
        "many_X <- rbernoulli(1e5, p=1/3)\n",
        "mean(many_X)"
      ],
      "metadata": {
        "colab": {
          "base_uri": "https://localhost:8080/",
          "height": 34
        },
        "id": "6_QzEJ0ZRS3_",
        "outputId": "2613a9e5-b632-4041-a3a6-6bfccfb240b2"
      },
      "id": "6_QzEJ0ZRS3_",
      "execution_count": 186,
      "outputs": [
        {
          "output_type": "display_data",
          "data": {
            "text/html": [
              "0.33312"
            ],
            "text/markdown": "0.33312",
            "text/latex": "0.33312",
            "text/plain": [
              "[1] 0.33312"
            ]
          },
          "metadata": {}
        }
      ]
    }
  ],
  "metadata": {
    "colab": {
      "provenance": [],
      "collapsed_sections": [],
      "include_colab_link": true
    },
    "kernelspec": {
      "display_name": "R",
      "language": "R",
      "name": "ir"
    },
    "language_info": {
      "codemirror_mode": "r",
      "file_extension": ".r",
      "mimetype": "text/x-r-source",
      "name": "R",
      "pygments_lexer": "r",
      "version": "4.2.1"
    }
  },
  "nbformat": 4,
  "nbformat_minor": 5
}
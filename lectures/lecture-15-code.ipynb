{
  "cells": [
    {
      "cell_type": "markdown",
      "metadata": {
        "id": "view-in-github",
        "colab_type": "text"
      },
      "source": [
        "<a href=\"https://colab.research.google.com/github/5harad/API201-students/blob/main/lectures/lecture-15-code.ipynb\" target=\"_parent\"><img src=\"https://colab.research.google.com/assets/colab-badge.svg\" alt=\"Open In Colab\"/></a>"
      ]
    },
    {
      "cell_type": "markdown",
      "id": "c8f6d4f7",
      "metadata": {
        "id": "c8f6d4f7"
      },
      "source": [
        "# Lecture 15: Confidence intervals"
      ]
    },
    {
      "cell_type": "code",
      "execution_count": 1,
      "id": "1b211e6c",
      "metadata": {
        "id": "1b211e6c",
        "colab": {
          "base_uri": "https://localhost:8080/"
        },
        "outputId": "825a9cab-d395-4bb3-9c5a-d543d98669c0"
      },
      "outputs": [
        {
          "output_type": "stream",
          "name": "stderr",
          "text": [
            "Warning message in system(\"timedatectl\", intern = TRUE):\n",
            "“running command 'timedatectl' had status 1”\n",
            "── \u001b[1mAttaching packages\u001b[22m ─────────────────────────────────────── tidyverse 1.3.1 ──\n",
            "\n",
            "\u001b[32m✔\u001b[39m \u001b[34mggplot2\u001b[39m 3.3.6      \u001b[32m✔\u001b[39m \u001b[34mpurrr  \u001b[39m 0.3.5 \n",
            "\u001b[32m✔\u001b[39m \u001b[34mtibble \u001b[39m 3.1.7      \u001b[32m✔\u001b[39m \u001b[34mdplyr  \u001b[39m 1.0.10\n",
            "\u001b[32m✔\u001b[39m \u001b[34mtidyr  \u001b[39m 1.2.1      \u001b[32m✔\u001b[39m \u001b[34mstringr\u001b[39m 1.4.1 \n",
            "\u001b[32m✔\u001b[39m \u001b[34mreadr  \u001b[39m 2.1.3      \u001b[32m✔\u001b[39m \u001b[34mforcats\u001b[39m 0.5.2 \n",
            "\n",
            "── \u001b[1mConflicts\u001b[22m ────────────────────────────────────────── tidyverse_conflicts() ──\n",
            "\u001b[31m✖\u001b[39m \u001b[34mdplyr\u001b[39m::\u001b[32mfilter()\u001b[39m masks \u001b[34mstats\u001b[39m::filter()\n",
            "\u001b[31m✖\u001b[39m \u001b[34mdplyr\u001b[39m::\u001b[32mlag()\u001b[39m    masks \u001b[34mstats\u001b[39m::lag()\n",
            "\n"
          ]
        }
      ],
      "source": [
        "library(tidyverse)\n",
        "\n",
        "theme_set(theme_bw())"
      ]
    },
    {
      "cell_type": "code",
      "source": [
        "set.seed(1)"
      ],
      "metadata": {
        "id": "tiC2K2yp-nVp"
      },
      "id": "tiC2K2yp-nVp",
      "execution_count": 2,
      "outputs": []
    },
    {
      "cell_type": "code",
      "source": [
        "my_sample <- rbernoulli(1500, .45)\n",
        "head(my_sample)"
      ],
      "metadata": {
        "colab": {
          "base_uri": "https://localhost:8080/",
          "height": 34
        },
        "id": "8XbvSmci9GRb",
        "outputId": "2348860c-87bd-4b86-c2d4-015cbd7310e7"
      },
      "id": "8XbvSmci9GRb",
      "execution_count": 3,
      "outputs": [
        {
          "output_type": "display_data",
          "data": {
            "text/html": [
              "<style>\n",
              ".list-inline {list-style: none; margin:0; padding: 0}\n",
              ".list-inline>li {display: inline-block}\n",
              ".list-inline>li:not(:last-child)::after {content: \"\\00b7\"; padding: 0 .5ex}\n",
              "</style>\n",
              "<ol class=list-inline><li>FALSE</li><li>FALSE</li><li>TRUE</li><li>TRUE</li><li>FALSE</li><li>TRUE</li></ol>\n"
            ],
            "text/markdown": "1. FALSE\n2. FALSE\n3. TRUE\n4. TRUE\n5. FALSE\n6. TRUE\n\n\n",
            "text/latex": "\\begin{enumerate*}\n\\item FALSE\n\\item FALSE\n\\item TRUE\n\\item TRUE\n\\item FALSE\n\\item TRUE\n\\end{enumerate*}\n",
            "text/plain": [
              "[1] FALSE FALSE  TRUE  TRUE FALSE  TRUE"
            ]
          },
          "metadata": {}
        }
      ]
    },
    {
      "cell_type": "code",
      "source": [
        "CI <- function(iter) {\n",
        "  my_sample <- rbernoulli(1500, .45)\n",
        "  est <- mean(my_sample)\n",
        "  moe <- 2 * sqrt(est*(1-est)/1500)\n",
        "  c(estimate = est, lwr = est - moe, upr = est + moe)\n",
        "}"
      ],
      "metadata": {
        "id": "_ig9NZ1zv-0K"
      },
      "id": "_ig9NZ1zv-0K",
      "execution_count": 4,
      "outputs": []
    },
    {
      "cell_type": "code",
      "source": [
        "set.seed(16)\n",
        "\n",
        "many_worlds <- map_dfr(1:1e4, CI) %>%\n",
        "  mutate(across(.fns = ~round(.x, 4)))\n",
        "  \n",
        "head(many_worlds)"
      ],
      "metadata": {
        "colab": {
          "base_uri": "https://localhost:8080/",
          "height": 286
        },
        "id": "is2LuM53xhIh",
        "outputId": "f12435d6-ae0f-45cc-d39c-b8044c93b45b"
      },
      "id": "is2LuM53xhIh",
      "execution_count": 14,
      "outputs": [
        {
          "output_type": "display_data",
          "data": {
            "text/html": [
              "<table class=\"dataframe\">\n",
              "<caption>A tibble: 6 × 3</caption>\n",
              "<thead>\n",
              "\t<tr><th scope=col>estimate</th><th scope=col>lwr</th><th scope=col>upr</th></tr>\n",
              "\t<tr><th scope=col>&lt;dbl&gt;</th><th scope=col>&lt;dbl&gt;</th><th scope=col>&lt;dbl&gt;</th></tr>\n",
              "</thead>\n",
              "<tbody>\n",
              "\t<tr><td>0.4760</td><td>0.4502</td><td>0.5018</td></tr>\n",
              "\t<tr><td>0.4527</td><td>0.4270</td><td>0.4784</td></tr>\n",
              "\t<tr><td>0.4647</td><td>0.4389</td><td>0.4904</td></tr>\n",
              "\t<tr><td>0.4533</td><td>0.4276</td><td>0.4790</td></tr>\n",
              "\t<tr><td>0.4253</td><td>0.3998</td><td>0.4509</td></tr>\n",
              "\t<tr><td>0.4533</td><td>0.4276</td><td>0.4790</td></tr>\n",
              "</tbody>\n",
              "</table>\n"
            ],
            "text/markdown": "\nA tibble: 6 × 3\n\n| estimate &lt;dbl&gt; | lwr &lt;dbl&gt; | upr &lt;dbl&gt; |\n|---|---|---|\n| 0.4760 | 0.4502 | 0.5018 |\n| 0.4527 | 0.4270 | 0.4784 |\n| 0.4647 | 0.4389 | 0.4904 |\n| 0.4533 | 0.4276 | 0.4790 |\n| 0.4253 | 0.3998 | 0.4509 |\n| 0.4533 | 0.4276 | 0.4790 |\n\n",
            "text/latex": "A tibble: 6 × 3\n\\begin{tabular}{lll}\n estimate & lwr & upr\\\\\n <dbl> & <dbl> & <dbl>\\\\\n\\hline\n\t 0.4760 & 0.4502 & 0.5018\\\\\n\t 0.4527 & 0.4270 & 0.4784\\\\\n\t 0.4647 & 0.4389 & 0.4904\\\\\n\t 0.4533 & 0.4276 & 0.4790\\\\\n\t 0.4253 & 0.3998 & 0.4509\\\\\n\t 0.4533 & 0.4276 & 0.4790\\\\\n\\end{tabular}\n",
            "text/plain": [
              "  estimate lwr    upr   \n",
              "1 0.4760   0.4502 0.5018\n",
              "2 0.4527   0.4270 0.4784\n",
              "3 0.4647   0.4389 0.4904\n",
              "4 0.4533   0.4276 0.4790\n",
              "5 0.4253   0.3998 0.4509\n",
              "6 0.4533   0.4276 0.4790"
            ]
          },
          "metadata": {}
        }
      ]
    },
    {
      "cell_type": "code",
      "source": [
        "many_worlds <- many_worlds %>%\n",
        "  mutate(true_p_in_interval = (lwr <= 0.45 & 0.45 <= upr))\n",
        "head(many_worlds)"
      ],
      "metadata": {
        "colab": {
          "base_uri": "https://localhost:8080/",
          "height": 286
        },
        "id": "LysY4Vo4xhxa",
        "outputId": "6875b008-6b2c-4760-9a54-492c3466dbdf"
      },
      "id": "LysY4Vo4xhxa",
      "execution_count": 6,
      "outputs": [
        {
          "output_type": "display_data",
          "data": {
            "text/html": [
              "<table class=\"dataframe\">\n",
              "<caption>A tibble: 6 × 4</caption>\n",
              "<thead>\n",
              "\t<tr><th scope=col>estimate</th><th scope=col>lwr</th><th scope=col>upr</th><th scope=col>true_p_in_interval</th></tr>\n",
              "\t<tr><th scope=col>&lt;dbl&gt;</th><th scope=col>&lt;dbl&gt;</th><th scope=col>&lt;dbl&gt;</th><th scope=col>&lt;lgl&gt;</th></tr>\n",
              "</thead>\n",
              "<tbody>\n",
              "\t<tr><td>0.4760</td><td>0.4502</td><td>0.5018</td><td>FALSE</td></tr>\n",
              "\t<tr><td>0.4527</td><td>0.4270</td><td>0.4784</td><td> TRUE</td></tr>\n",
              "\t<tr><td>0.4647</td><td>0.4389</td><td>0.4904</td><td> TRUE</td></tr>\n",
              "\t<tr><td>0.4533</td><td>0.4276</td><td>0.4790</td><td> TRUE</td></tr>\n",
              "\t<tr><td>0.4253</td><td>0.3998</td><td>0.4509</td><td> TRUE</td></tr>\n",
              "\t<tr><td>0.4533</td><td>0.4276</td><td>0.4790</td><td> TRUE</td></tr>\n",
              "</tbody>\n",
              "</table>\n"
            ],
            "text/markdown": "\nA tibble: 6 × 4\n\n| estimate &lt;dbl&gt; | lwr &lt;dbl&gt; | upr &lt;dbl&gt; | true_p_in_interval &lt;lgl&gt; |\n|---|---|---|---|\n| 0.4760 | 0.4502 | 0.5018 | FALSE |\n| 0.4527 | 0.4270 | 0.4784 |  TRUE |\n| 0.4647 | 0.4389 | 0.4904 |  TRUE |\n| 0.4533 | 0.4276 | 0.4790 |  TRUE |\n| 0.4253 | 0.3998 | 0.4509 |  TRUE |\n| 0.4533 | 0.4276 | 0.4790 |  TRUE |\n\n",
            "text/latex": "A tibble: 6 × 4\n\\begin{tabular}{llll}\n estimate & lwr & upr & true\\_p\\_in\\_interval\\\\\n <dbl> & <dbl> & <dbl> & <lgl>\\\\\n\\hline\n\t 0.4760 & 0.4502 & 0.5018 & FALSE\\\\\n\t 0.4527 & 0.4270 & 0.4784 &  TRUE\\\\\n\t 0.4647 & 0.4389 & 0.4904 &  TRUE\\\\\n\t 0.4533 & 0.4276 & 0.4790 &  TRUE\\\\\n\t 0.4253 & 0.3998 & 0.4509 &  TRUE\\\\\n\t 0.4533 & 0.4276 & 0.4790 &  TRUE\\\\\n\\end{tabular}\n",
            "text/plain": [
              "  estimate lwr    upr    true_p_in_interval\n",
              "1 0.4760   0.4502 0.5018 FALSE             \n",
              "2 0.4527   0.4270 0.4784  TRUE             \n",
              "3 0.4647   0.4389 0.4904  TRUE             \n",
              "4 0.4533   0.4276 0.4790  TRUE             \n",
              "5 0.4253   0.3998 0.4509  TRUE             \n",
              "6 0.4533   0.4276 0.4790  TRUE             "
            ]
          },
          "metadata": {}
        }
      ]
    },
    {
      "cell_type": "code",
      "source": [
        "mean(many_worlds$true_p_in_interval)"
      ],
      "metadata": {
        "colab": {
          "base_uri": "https://localhost:8080/",
          "height": 34
        },
        "id": "06U2Ug3py0iO",
        "outputId": "5d3b7380-dc14-4951-cc9c-35064ed38405"
      },
      "id": "06U2Ug3py0iO",
      "execution_count": 7,
      "outputs": [
        {
          "output_type": "display_data",
          "data": {
            "text/html": [
              "0.9532"
            ],
            "text/markdown": "0.9532",
            "text/latex": "0.9532",
            "text/plain": [
              "[1] 0.9532"
            ]
          },
          "metadata": {}
        }
      ]
    },
    {
      "cell_type": "code",
      "source": [
        "income <- 1000 * pmin(exp(rnorm(1e6, 3, 1)))\n",
        "income <- ifelse(income <= 1e5, income, 0)"
      ],
      "metadata": {
        "id": "0DR3ljw-ytTg"
      },
      "id": "0DR3ljw-ytTg",
      "execution_count": 8,
      "outputs": []
    },
    {
      "cell_type": "code",
      "source": [
        "mean(income)\n",
        "sd(income)"
      ],
      "metadata": {
        "colab": {
          "base_uri": "https://localhost:8080/",
          "height": 52
        },
        "id": "pLafmTUE40gL",
        "outputId": "8a8a9a2e-0ad7-4b41-a986-0f29f8b1166b"
      },
      "id": "pLafmTUE40gL",
      "execution_count": 9,
      "outputs": [
        {
          "output_type": "display_data",
          "data": {
            "text/html": [
              "24099.7661817611"
            ],
            "text/markdown": "24099.7661817611",
            "text/latex": "24099.7661817611",
            "text/plain": [
              "[1] 24099.77"
            ]
          },
          "metadata": {}
        },
        {
          "output_type": "display_data",
          "data": {
            "text/html": [
              "21267.7109457366"
            ],
            "text/markdown": "21267.7109457366",
            "text/latex": "21267.7109457366",
            "text/plain": [
              "[1] 21267.71"
            ]
          },
          "metadata": {}
        }
      ]
    },
    {
      "cell_type": "code",
      "source": [
        "ggplot(data.frame(Income=income), aes(x=Income)) +\n",
        "  geom_histogram(bins=20) +\n",
        "  scale_y_continuous('Number of people')\n",
        "ggsave('income.png', width=4, height=4)"
      ],
      "metadata": {
        "colab": {
          "base_uri": "https://localhost:8080/",
          "height": 437
        },
        "id": "UQAGMLQ6zPb8",
        "outputId": "08136784-2bcb-41df-db3e-ce4109e2b0fe"
      },
      "id": "UQAGMLQ6zPb8",
      "execution_count": 10,
      "outputs": [
        {
          "output_type": "display_data",
          "data": {
            "text/plain": [
              "plot without title"
            ],
            "image/png": "[encoded data removed]"
          },
          "metadata": {
            "image/png": {
              "width": 420,
              "height": 420
            }
          }
        }
      ]
    },
    {
      "cell_type": "code",
      "source": [
        "sample_500 <- sample(income, 500)\n",
        "ggplot(data.frame(Income=sample_500), aes(x=Income)) +\n",
        "  geom_histogram(bins=20) +\n",
        "  scale_y_continuous('Number of people')\n",
        "ggsave('income_sample.png', width=4, height=4)"
      ],
      "metadata": {
        "id": "J2b_xB89o_Nf",
        "outputId": "bac355d9-2099-4d7e-e2c8-4a772db94539",
        "colab": {
          "base_uri": "https://localhost:8080/",
          "height": 437
        }
      },
      "id": "J2b_xB89o_Nf",
      "execution_count": 11,
      "outputs": [
        {
          "output_type": "display_data",
          "data": {
            "text/plain": [
              "plot without title"
            ],
            "image/png": "[encoded data removed]"
          },
          "metadata": {
            "image/png": {
              "width": 420,
              "height": 420
            }
          }
        }
      ]
    },
    {
      "cell_type": "code",
      "source": [
        "many_worlds <- replicate(1e4, mean(sample(income, 500, replace = TRUE)))"
      ],
      "metadata": {
        "id": "xRVr2BGN0mI3"
      },
      "id": "xRVr2BGN0mI3",
      "execution_count": 12,
      "outputs": []
    },
    {
      "cell_type": "code",
      "source": [
        "ggplot(data.frame(Estimate=many_worlds), aes(x=Estimate)) +\n",
        "  geom_histogram(bins=20) +\n",
        "  scale_y_continuous('Number of worlds')\n",
        "ggsave('income-sample-mean.png', width=4, height=4)"
      ],
      "metadata": {
        "colab": {
          "base_uri": "https://localhost:8080/",
          "height": 437
        },
        "id": "HuE-plQ2zU-Y",
        "outputId": "8ed0336e-bd95-4ac8-8cb0-e12d40eb7f17"
      },
      "id": "HuE-plQ2zU-Y",
      "execution_count": 13,
      "outputs": [
        {
          "output_type": "display_data",
          "data": {
            "text/plain": [
              "plot without title"
            ],
            "image/png": "[encoded data removed]"
          },
          "metadata": {
            "image/png": {
              "width": 420,
              "height": 420
            }
          }
        }
      ]
    }
  ],
  "metadata": {
    "colab": {
      "provenance": [],
      "collapsed_sections": [],
      "include_colab_link": true
    },
    "kernelspec": {
      "display_name": "R",
      "language": "R",
      "name": "ir"
    },
    "language_info": {
      "codemirror_mode": "r",
      "file_extension": ".r",
      "mimetype": "text/x-r-source",
      "name": "R",
      "pygments_lexer": "r",
      "version": "4.2.1"
    }
  },
  "nbformat": 4,
  "nbformat_minor": 5
}
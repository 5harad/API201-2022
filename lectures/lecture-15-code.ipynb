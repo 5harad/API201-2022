{
  "cells": [
    {
      "cell_type": "markdown",
      "metadata": {
        "id": "view-in-github",
        "colab_type": "text"
      },
      "source": [
        "<a href=\"https://colab.research.google.com/github/5harad/API201-students/blob/main/lectures/lecture-15-code.ipynb\" target=\"_parent\"><img src=\"https://colab.research.google.com/assets/colab-badge.svg\" alt=\"Open In Colab\"/></a>"
      ]
    },
    {
      "cell_type": "markdown",
      "id": "c8f6d4f7",
      "metadata": {
        "id": "c8f6d4f7"
      },
      "source": [
        "# Lecture 15: Confidence intervals"
      ]
    },
    {
      "cell_type": "code",
      "execution_count": 1,
      "id": "1b211e6c",
      "metadata": {
        "id": "1b211e6c",
        "colab": {
          "base_uri": "https://localhost:8080/"
        },
        "outputId": "e50169d2-4e06-40ce-8e94-54ec015b899e"
      },
      "outputs": [
        {
          "output_type": "stream",
          "name": "stderr",
          "text": [
            "Warning message in system(\"timedatectl\", intern = TRUE):\n",
            "“running command 'timedatectl' had status 1”\n",
            "── \u001b[1mAttaching packages\u001b[22m ─────────────────────────────────────── tidyverse 1.3.1 ──\n",
            "\n",
            "\u001b[32m✔\u001b[39m \u001b[34mggplot2\u001b[39m 3.3.6      \u001b[32m✔\u001b[39m \u001b[34mpurrr  \u001b[39m 0.3.4 \n",
            "\u001b[32m✔\u001b[39m \u001b[34mtibble \u001b[39m 3.1.7      \u001b[32m✔\u001b[39m \u001b[34mdplyr  \u001b[39m 1.0.10\n",
            "\u001b[32m✔\u001b[39m \u001b[34mtidyr  \u001b[39m 1.2.1      \u001b[32m✔\u001b[39m \u001b[34mstringr\u001b[39m 1.4.1 \n",
            "\u001b[32m✔\u001b[39m \u001b[34mreadr  \u001b[39m 2.1.3      \u001b[32m✔\u001b[39m \u001b[34mforcats\u001b[39m 0.5.2 \n",
            "\n",
            "── \u001b[1mConflicts\u001b[22m ────────────────────────────────────────── tidyverse_conflicts() ──\n",
            "\u001b[31m✖\u001b[39m \u001b[34mdplyr\u001b[39m::\u001b[32mfilter()\u001b[39m masks \u001b[34mstats\u001b[39m::filter()\n",
            "\u001b[31m✖\u001b[39m \u001b[34mdplyr\u001b[39m::\u001b[32mlag()\u001b[39m    masks \u001b[34mstats\u001b[39m::lag()\n",
            "\n"
          ]
        }
      ],
      "source": [
        "library(tidyverse)\n",
        "\n",
        "theme_set(theme_bw())"
      ]
    },
    {
      "cell_type": "code",
      "source": [
        "set.seed(1)"
      ],
      "metadata": {
        "id": "tiC2K2yp-nVp"
      },
      "id": "tiC2K2yp-nVp",
      "execution_count": 2,
      "outputs": []
    },
    {
      "cell_type": "code",
      "source": [
        "my_sample <- rbernoulli(1500, .45)\n",
        "head(my_sample)"
      ],
      "metadata": {
        "colab": {
          "base_uri": "https://localhost:8080/",
          "height": 34
        },
        "id": "8XbvSmci9GRb",
        "outputId": "f0b081b2-cb0b-4514-fb62-6ae90897fb0e"
      },
      "id": "8XbvSmci9GRb",
      "execution_count": 3,
      "outputs": [
        {
          "output_type": "display_data",
          "data": {
            "text/html": [
              "<style>\n",
              ".list-inline {list-style: none; margin:0; padding: 0}\n",
              ".list-inline>li {display: inline-block}\n",
              ".list-inline>li:not(:last-child)::after {content: \"\\00b7\"; padding: 0 .5ex}\n",
              "</style>\n",
              "<ol class=list-inline><li>FALSE</li><li>FALSE</li><li>TRUE</li><li>TRUE</li><li>FALSE</li><li>TRUE</li></ol>\n"
            ],
            "text/markdown": "1. FALSE\n2. FALSE\n3. TRUE\n4. TRUE\n5. FALSE\n6. TRUE\n\n\n",
            "text/latex": "\\begin{enumerate*}\n\\item FALSE\n\\item FALSE\n\\item TRUE\n\\item TRUE\n\\item FALSE\n\\item TRUE\n\\end{enumerate*}\n",
            "text/plain": [
              "[1] FALSE FALSE  TRUE  TRUE FALSE  TRUE"
            ]
          },
          "metadata": {}
        }
      ]
    },
    {
      "cell_type": "code",
      "source": [
        "CI <- function(iter) {\n",
        "  my_sample <- rbernoulli(1500, .45)\n",
        "  est <- mean(my_sample)\n",
        "  moe <- 2 * sqrt(est*(1-est)/1500)\n",
        "  c(estimate = est, lwr = est - moe, upr = est + moe)\n",
        "}"
      ],
      "metadata": {
        "id": "_ig9NZ1zv-0K"
      },
      "id": "_ig9NZ1zv-0K",
      "execution_count": 4,
      "outputs": []
    },
    {
      "cell_type": "code",
      "source": [
        "set.seed(16)\n",
        "\n",
        "many_worlds <- map_dfr(1:1e4, CI)\n",
        "head(many_worlds)"
      ],
      "metadata": {
        "colab": {
          "base_uri": "https://localhost:8080/",
          "height": 286
        },
        "id": "is2LuM53xhIh",
        "outputId": "3a627bc8-20a0-4838-8398-d5ab880b4d36"
      },
      "id": "is2LuM53xhIh",
      "execution_count": 5,
      "outputs": [
        {
          "output_type": "display_data",
          "data": {
            "text/html": [
              "<table class=\"dataframe\">\n",
              "<caption>A tibble: 6 × 3</caption>\n",
              "<thead>\n",
              "\t<tr><th scope=col>estimate</th><th scope=col>lwr</th><th scope=col>upr</th></tr>\n",
              "\t<tr><th scope=col>&lt;dbl&gt;</th><th scope=col>&lt;dbl&gt;</th><th scope=col>&lt;dbl&gt;</th></tr>\n",
              "</thead>\n",
              "<tbody>\n",
              "\t<tr><td>0.4760000</td><td>0.4502099</td><td>0.5017901</td></tr>\n",
              "\t<tr><td>0.4526667</td><td>0.4269627</td><td>0.4783706</td></tr>\n",
              "\t<tr><td>0.4646667</td><td>0.4389113</td><td>0.4904220</td></tr>\n",
              "\t<tr><td>0.4533333</td><td>0.4276262</td><td>0.4790405</td></tr>\n",
              "\t<tr><td>0.4253333</td><td>0.3998030</td><td>0.4508637</td></tr>\n",
              "\t<tr><td>0.4533333</td><td>0.4276262</td><td>0.4790405</td></tr>\n",
              "</tbody>\n",
              "</table>\n"
            ],
            "text/markdown": "\nA tibble: 6 × 3\n\n| estimate &lt;dbl&gt; | lwr &lt;dbl&gt; | upr &lt;dbl&gt; |\n|---|---|---|\n| 0.4760000 | 0.4502099 | 0.5017901 |\n| 0.4526667 | 0.4269627 | 0.4783706 |\n| 0.4646667 | 0.4389113 | 0.4904220 |\n| 0.4533333 | 0.4276262 | 0.4790405 |\n| 0.4253333 | 0.3998030 | 0.4508637 |\n| 0.4533333 | 0.4276262 | 0.4790405 |\n\n",
            "text/latex": "A tibble: 6 × 3\n\\begin{tabular}{lll}\n estimate & lwr & upr\\\\\n <dbl> & <dbl> & <dbl>\\\\\n\\hline\n\t 0.4760000 & 0.4502099 & 0.5017901\\\\\n\t 0.4526667 & 0.4269627 & 0.4783706\\\\\n\t 0.4646667 & 0.4389113 & 0.4904220\\\\\n\t 0.4533333 & 0.4276262 & 0.4790405\\\\\n\t 0.4253333 & 0.3998030 & 0.4508637\\\\\n\t 0.4533333 & 0.4276262 & 0.4790405\\\\\n\\end{tabular}\n",
            "text/plain": [
              "  estimate  lwr       upr      \n",
              "1 0.4760000 0.4502099 0.5017901\n",
              "2 0.4526667 0.4269627 0.4783706\n",
              "3 0.4646667 0.4389113 0.4904220\n",
              "4 0.4533333 0.4276262 0.4790405\n",
              "5 0.4253333 0.3998030 0.4508637\n",
              "6 0.4533333 0.4276262 0.4790405"
            ]
          },
          "metadata": {}
        }
      ]
    },
    {
      "cell_type": "code",
      "source": [
        "many_worlds <- many_worlds %>%\n",
        "  mutate(true_p_in_interval = (lwr <= 0.45 & 0.45 <= upr))\n",
        "head(many_worlds)"
      ],
      "metadata": {
        "colab": {
          "base_uri": "https://localhost:8080/",
          "height": 286
        },
        "id": "LysY4Vo4xhxa",
        "outputId": "bf30acec-57d1-4596-9a96-8d15965a2b66"
      },
      "id": "LysY4Vo4xhxa",
      "execution_count": 6,
      "outputs": [
        {
          "output_type": "display_data",
          "data": {
            "text/html": [
              "<table class=\"dataframe\">\n",
              "<caption>A tibble: 6 × 4</caption>\n",
              "<thead>\n",
              "\t<tr><th scope=col>estimate</th><th scope=col>lwr</th><th scope=col>upr</th><th scope=col>true_p_in_interval</th></tr>\n",
              "\t<tr><th scope=col>&lt;dbl&gt;</th><th scope=col>&lt;dbl&gt;</th><th scope=col>&lt;dbl&gt;</th><th scope=col>&lt;lgl&gt;</th></tr>\n",
              "</thead>\n",
              "<tbody>\n",
              "\t<tr><td>0.4760000</td><td>0.4502099</td><td>0.5017901</td><td>FALSE</td></tr>\n",
              "\t<tr><td>0.4526667</td><td>0.4269627</td><td>0.4783706</td><td> TRUE</td></tr>\n",
              "\t<tr><td>0.4646667</td><td>0.4389113</td><td>0.4904220</td><td> TRUE</td></tr>\n",
              "\t<tr><td>0.4533333</td><td>0.4276262</td><td>0.4790405</td><td> TRUE</td></tr>\n",
              "\t<tr><td>0.4253333</td><td>0.3998030</td><td>0.4508637</td><td> TRUE</td></tr>\n",
              "\t<tr><td>0.4533333</td><td>0.4276262</td><td>0.4790405</td><td> TRUE</td></tr>\n",
              "</tbody>\n",
              "</table>\n"
            ],
            "text/markdown": "\nA tibble: 6 × 4\n\n| estimate &lt;dbl&gt; | lwr &lt;dbl&gt; | upr &lt;dbl&gt; | true_p_in_interval &lt;lgl&gt; |\n|---|---|---|---|\n| 0.4760000 | 0.4502099 | 0.5017901 | FALSE |\n| 0.4526667 | 0.4269627 | 0.4783706 |  TRUE |\n| 0.4646667 | 0.4389113 | 0.4904220 |  TRUE |\n| 0.4533333 | 0.4276262 | 0.4790405 |  TRUE |\n| 0.4253333 | 0.3998030 | 0.4508637 |  TRUE |\n| 0.4533333 | 0.4276262 | 0.4790405 |  TRUE |\n\n",
            "text/latex": "A tibble: 6 × 4\n\\begin{tabular}{llll}\n estimate & lwr & upr & true\\_p\\_in\\_interval\\\\\n <dbl> & <dbl> & <dbl> & <lgl>\\\\\n\\hline\n\t 0.4760000 & 0.4502099 & 0.5017901 & FALSE\\\\\n\t 0.4526667 & 0.4269627 & 0.4783706 &  TRUE\\\\\n\t 0.4646667 & 0.4389113 & 0.4904220 &  TRUE\\\\\n\t 0.4533333 & 0.4276262 & 0.4790405 &  TRUE\\\\\n\t 0.4253333 & 0.3998030 & 0.4508637 &  TRUE\\\\\n\t 0.4533333 & 0.4276262 & 0.4790405 &  TRUE\\\\\n\\end{tabular}\n",
            "text/plain": [
              "  estimate  lwr       upr       true_p_in_interval\n",
              "1 0.4760000 0.4502099 0.5017901 FALSE             \n",
              "2 0.4526667 0.4269627 0.4783706  TRUE             \n",
              "3 0.4646667 0.4389113 0.4904220  TRUE             \n",
              "4 0.4533333 0.4276262 0.4790405  TRUE             \n",
              "5 0.4253333 0.3998030 0.4508637  TRUE             \n",
              "6 0.4533333 0.4276262 0.4790405  TRUE             "
            ]
          },
          "metadata": {}
        }
      ]
    },
    {
      "cell_type": "code",
      "source": [
        "mean(many_worlds$true_p_in_interval)"
      ],
      "metadata": {
        "colab": {
          "base_uri": "https://localhost:8080/",
          "height": 34
        },
        "id": "06U2Ug3py0iO",
        "outputId": "0bdcc251-04be-4c9b-e41f-32f1ea8a98cd"
      },
      "id": "06U2Ug3py0iO",
      "execution_count": 7,
      "outputs": [
        {
          "output_type": "display_data",
          "data": {
            "text/html": [
              "0.9532"
            ],
            "text/markdown": "0.9532",
            "text/latex": "0.9532",
            "text/plain": [
              "[1] 0.9532"
            ]
          },
          "metadata": {}
        }
      ]
    },
    {
      "cell_type": "code",
      "source": [
        "income <- 1000 * pmin(exp(rnorm(1e6, 3, 1)))\n",
        "income <- ifelse(income <= 1e5, income, 0)"
      ],
      "metadata": {
        "id": "0DR3ljw-ytTg"
      },
      "id": "0DR3ljw-ytTg",
      "execution_count": 8,
      "outputs": []
    },
    {
      "cell_type": "code",
      "source": [
        "mean(income)\n",
        "sd(income)"
      ],
      "metadata": {
        "colab": {
          "base_uri": "https://localhost:8080/",
          "height": 52
        },
        "id": "pLafmTUE40gL",
        "outputId": "d0148fda-ac97-437b-c7a2-60a82af4f793"
      },
      "id": "pLafmTUE40gL",
      "execution_count": 9,
      "outputs": [
        {
          "output_type": "display_data",
          "data": {
            "text/html": [
              "24099.7661817611"
            ],
            "text/markdown": "24099.7661817611",
            "text/latex": "24099.7661817611",
            "text/plain": [
              "[1] 24099.77"
            ]
          },
          "metadata": {}
        },
        {
          "output_type": "display_data",
          "data": {
            "text/html": [
              "21267.7109457366"
            ],
            "text/markdown": "21267.7109457366",
            "text/latex": "21267.7109457366",
            "text/plain": [
              "[1] 21267.71"
            ]
          },
          "metadata": {}
        }
      ]
    },
    {
      "cell_type": "code",
      "source": [
        "ggplot(data.frame(Income=income), aes(x=Income)) +\n",
        "  geom_histogram(bins=20) +\n",
        "  scale_y_continuous('Number of people')\n",
        "ggsave('income.png', width=4, height=4)"
      ],
      "metadata": {
        "colab": {
          "base_uri": "https://localhost:8080/",
          "height": 437
        },
        "id": "UQAGMLQ6zPb8",
        "outputId": "c72bed36-cd9c-4ba6-c8fb-10fd93a866f7"
      },
      "id": "UQAGMLQ6zPb8",
      "execution_count": 10,
      "outputs": [
        {
          "output_type": "display_data",
          "data": {
            "text/plain": [
              "plot without title"
            ],
            "image/png": "[encoded data removed]"
          },
          "metadata": {
            "image/png": {
              "width": 420,
              "height": 420
            }
          }
        }
      ]
    },
    {
      "cell_type": "code",
      "source": [
        "many_worlds <- replicate(1e4, mean(sample(income, 500, replace = TRUE)))"
      ],
      "metadata": {
        "id": "xRVr2BGN0mI3"
      },
      "id": "xRVr2BGN0mI3",
      "execution_count": 11,
      "outputs": []
    },
    {
      "cell_type": "code",
      "source": [
        "ggplot(data.frame(Estimate=many_worlds), aes(x=Estimate)) +\n",
        "  geom_histogram(bins=20) +\n",
        "  scale_y_continuous('Number of worlds')\n",
        "ggsave('income-sample-mean.png', width=4, height=4)"
      ],
      "metadata": {
        "colab": {
          "base_uri": "https://localhost:8080/",
          "height": 437
        },
        "id": "HuE-plQ2zU-Y",
        "outputId": "1278fdec-095a-416f-cfcd-138800c6a47c"
      },
      "id": "HuE-plQ2zU-Y",
      "execution_count": 12,
      "outputs": [
        {
          "output_type": "display_data",
          "data": {
            "text/plain": [
              "plot without title"
            ],
            "image/png": "[encoded data removed]"
          },
          "metadata": {
            "image/png": {
              "width": 420,
              "height": 420
            }
          }
        }
      ]
    }
  ],
  "metadata": {
    "colab": {
      "provenance": [],
      "collapsed_sections": [],
      "include_colab_link": true
    },
    "kernelspec": {
      "display_name": "R",
      "language": "R",
      "name": "ir"
    },
    "language_info": {
      "codemirror_mode": "r",
      "file_extension": ".r",
      "mimetype": "text/x-r-source",
      "name": "R",
      "pygments_lexer": "r",
      "version": "4.2.1"
    }
  },
  "nbformat": 4,
  "nbformat_minor": 5
}
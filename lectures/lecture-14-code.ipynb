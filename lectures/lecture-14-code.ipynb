{
  "cells": [
    {
      "cell_type": "markdown",
      "metadata": {
        "id": "view-in-github",
        "colab_type": "text"
      },
      "source": [
        "<a href=\"https://colab.research.google.com/github/5harad/API201-students/blob/main/lectures/lecture-14-code.ipynb\" target=\"_parent\"><img src=\"https://colab.research.google.com/assets/colab-badge.svg\" alt=\"Open In Colab\"/></a>"
      ]
    },
    {
      "cell_type": "markdown",
      "id": "c8f6d4f7",
      "metadata": {
        "id": "c8f6d4f7"
      },
      "source": [
        "# Lecture 14: Bias and standard deviation of the sample proportion"
      ]
    },
    {
      "cell_type": "code",
      "execution_count": 1,
      "id": "1b211e6c",
      "metadata": {
        "id": "1b211e6c",
        "colab": {
          "base_uri": "https://localhost:8080/"
        },
        "outputId": "c9b800f0-7b89-49c5-9264-33a6ee071e8f"
      },
      "outputs": [
        {
          "output_type": "stream",
          "name": "stderr",
          "text": [
            "Warning message in system(\"timedatectl\", intern = TRUE):\n",
            "“running command 'timedatectl' had status 1”\n",
            "── \u001b[1mAttaching packages\u001b[22m ─────────────────────────────────────── tidyverse 1.3.1 ──\n",
            "\n",
            "\u001b[32m✔\u001b[39m \u001b[34mggplot2\u001b[39m 3.3.6      \u001b[32m✔\u001b[39m \u001b[34mpurrr  \u001b[39m 0.3.4 \n",
            "\u001b[32m✔\u001b[39m \u001b[34mtibble \u001b[39m 3.1.7      \u001b[32m✔\u001b[39m \u001b[34mdplyr  \u001b[39m 1.0.10\n",
            "\u001b[32m✔\u001b[39m \u001b[34mtidyr  \u001b[39m 1.2.1      \u001b[32m✔\u001b[39m \u001b[34mstringr\u001b[39m 1.4.1 \n",
            "\u001b[32m✔\u001b[39m \u001b[34mreadr  \u001b[39m 2.1.3      \u001b[32m✔\u001b[39m \u001b[34mforcats\u001b[39m 0.5.2 \n",
            "\n",
            "── \u001b[1mConflicts\u001b[22m ────────────────────────────────────────── tidyverse_conflicts() ──\n",
            "\u001b[31m✖\u001b[39m \u001b[34mdplyr\u001b[39m::\u001b[32mfilter()\u001b[39m masks \u001b[34mstats\u001b[39m::filter()\n",
            "\u001b[31m✖\u001b[39m \u001b[34mdplyr\u001b[39m::\u001b[32mlag()\u001b[39m    masks \u001b[34mstats\u001b[39m::lag()\n",
            "\n"
          ]
        }
      ],
      "source": [
        "library(tidyverse)\n",
        "\n",
        "theme_set(theme_bw())"
      ]
    },
    {
      "cell_type": "code",
      "source": [
        "set.seed(1)"
      ],
      "metadata": {
        "id": "tiC2K2yp-nVp"
      },
      "id": "tiC2K2yp-nVp",
      "execution_count": 2,
      "outputs": []
    },
    {
      "cell_type": "code",
      "source": [
        "my_sample <- rbernoulli(15, .75)\n",
        "my_sample"
      ],
      "metadata": {
        "colab": {
          "base_uri": "https://localhost:8080/",
          "height": 34
        },
        "id": "8XbvSmci9GRb",
        "outputId": "e84ba8c2-aee6-4a98-b700-89f30fbc91aa"
      },
      "id": "8XbvSmci9GRb",
      "execution_count": 3,
      "outputs": [
        {
          "output_type": "display_data",
          "data": {
            "text/html": [
              "<style>\n",
              ".list-inline {list-style: none; margin:0; padding: 0}\n",
              ".list-inline>li {display: inline-block}\n",
              ".list-inline>li:not(:last-child)::after {content: \"\\00b7\"; padding: 0 .5ex}\n",
              "</style>\n",
              "<ol class=list-inline><li>TRUE</li><li>TRUE</li><li>TRUE</li><li>TRUE</li><li>FALSE</li><li>TRUE</li><li>TRUE</li><li>TRUE</li><li>TRUE</li><li>FALSE</li><li>FALSE</li><li>FALSE</li><li>TRUE</li><li>TRUE</li><li>TRUE</li></ol>\n"
            ],
            "text/markdown": "1. TRUE\n2. TRUE\n3. TRUE\n4. TRUE\n5. FALSE\n6. TRUE\n7. TRUE\n8. TRUE\n9. TRUE\n10. FALSE\n11. FALSE\n12. FALSE\n13. TRUE\n14. TRUE\n15. TRUE\n\n\n",
            "text/latex": "\\begin{enumerate*}\n\\item TRUE\n\\item TRUE\n\\item TRUE\n\\item TRUE\n\\item FALSE\n\\item TRUE\n\\item TRUE\n\\item TRUE\n\\item TRUE\n\\item FALSE\n\\item FALSE\n\\item FALSE\n\\item TRUE\n\\item TRUE\n\\item TRUE\n\\end{enumerate*}\n",
            "text/plain": [
              " [1]  TRUE  TRUE  TRUE  TRUE FALSE  TRUE  TRUE  TRUE  TRUE FALSE FALSE FALSE\n",
              "[13]  TRUE  TRUE  TRUE"
            ]
          },
          "metadata": {}
        }
      ]
    },
    {
      "cell_type": "code",
      "source": [
        "mean(my_sample)"
      ],
      "metadata": {
        "colab": {
          "base_uri": "https://localhost:8080/",
          "height": 34
        },
        "id": "S068auhp-rji",
        "outputId": "9a22af22-c685-4530-b944-f8ee38051df0"
      },
      "id": "S068auhp-rji",
      "execution_count": 4,
      "outputs": [
        {
          "output_type": "display_data",
          "data": {
            "text/html": [
              "0.733333333333333"
            ],
            "text/markdown": "0.733333333333333",
            "text/latex": "0.733333333333333",
            "text/plain": [
              "[1] 0.7333333"
            ]
          },
          "metadata": {}
        }
      ]
    },
    {
      "cell_type": "code",
      "source": [
        "mean(rbernoulli(15, .75))"
      ],
      "metadata": {
        "colab": {
          "base_uri": "https://localhost:8080/",
          "height": 34
        },
        "id": "Fk2AhJm4-RCT",
        "outputId": "3d330b46-932a-4e80-e6eb-69f7e67b799b"
      },
      "id": "Fk2AhJm4-RCT",
      "execution_count": 5,
      "outputs": [
        {
          "output_type": "display_data",
          "data": {
            "text/html": [
              "0.8"
            ],
            "text/markdown": "0.8",
            "text/latex": "0.8",
            "text/plain": [
              "[1] 0.8"
            ]
          },
          "metadata": {}
        }
      ]
    },
    {
      "cell_type": "code",
      "source": [
        "mean(rbernoulli(15, .75))"
      ],
      "metadata": {
        "colab": {
          "base_uri": "https://localhost:8080/",
          "height": 34
        },
        "id": "IyBhHOGu-pLb",
        "outputId": "2a4d1d36-5fd3-49a0-be73-fadffe966ea8"
      },
      "id": "IyBhHOGu-pLb",
      "execution_count": 6,
      "outputs": [
        {
          "output_type": "display_data",
          "data": {
            "text/html": [
              "0.866666666666667"
            ],
            "text/markdown": "0.866666666666667",
            "text/latex": "0.866666666666667",
            "text/plain": [
              "[1] 0.8666667"
            ]
          },
          "metadata": {}
        }
      ]
    },
    {
      "cell_type": "code",
      "source": [
        "estimates <- replicate(1e5, mean(rbernoulli(15, .75)))"
      ],
      "metadata": {
        "id": "OJtwskqc-7L4"
      },
      "id": "OJtwskqc-7L4",
      "execution_count": 7,
      "outputs": []
    },
    {
      "cell_type": "code",
      "source": [
        "ggplot(tibble(Estimate = estimates), aes(x=Estimate)) +\n",
        "  geom_histogram(bins=50) + \n",
        "  scale_x_continuous(limits=c(0,1)) +\n",
        "  scale_y_continuous('Number of worlds') +\n",
        "  theme(axis.text.x = element_text(color=\"black\"),\n",
        "    axis.text.y = element_text(color=\"black\"))\n",
        "\n",
        "ggsave('polling-1.png', height=4, width=4)"
      ],
      "metadata": {
        "colab": {
          "base_uri": "https://localhost:8080/",
          "height": 508
        },
        "id": "3ROE2D0J_DN8",
        "outputId": "dd4c9434-6747-4e6b-9563-903d17bf940f"
      },
      "id": "3ROE2D0J_DN8",
      "execution_count": 8,
      "outputs": [
        {
          "output_type": "stream",
          "name": "stderr",
          "text": [
            "Warning message:\n",
            "“Removed 2 rows containing missing values (geom_bar).”\n",
            "Warning message:\n",
            "“Removed 2 rows containing missing values (geom_bar).”\n"
          ]
        },
        {
          "output_type": "display_data",
          "data": {
            "text/plain": [
              "plot without title"
            ],
            "image/png": "[encoded data removed]"
          },
          "metadata": {
            "image/png": {
              "width": 420,
              "height": 420
            }
          }
        }
      ]
    },
    {
      "cell_type": "code",
      "source": [
        "mean(estimates)"
      ],
      "metadata": {
        "colab": {
          "base_uri": "https://localhost:8080/",
          "height": 34
        },
        "id": "lmlBR00n6qKv",
        "outputId": "2e59b823-b412-4776-d5f8-6d9f3b4d1f7e"
      },
      "id": "lmlBR00n6qKv",
      "execution_count": 9,
      "outputs": [
        {
          "output_type": "display_data",
          "data": {
            "text/html": [
              "0.749855333333333"
            ],
            "text/markdown": "0.749855333333333",
            "text/latex": "0.749855333333333",
            "text/plain": [
              "[1] 0.7498553"
            ]
          },
          "metadata": {}
        }
      ]
    },
    {
      "cell_type": "code",
      "source": [
        "ev <- mean(estimates)\n",
        "ev"
      ],
      "metadata": {
        "colab": {
          "base_uri": "https://localhost:8080/",
          "height": 34
        },
        "id": "URKT4VopuUoz",
        "outputId": "98238b0b-576f-4c1a-b7cf-9333fc37616c"
      },
      "id": "URKT4VopuUoz",
      "execution_count": 10,
      "outputs": [
        {
          "output_type": "display_data",
          "data": {
            "text/html": [
              "0.749855333333333"
            ],
            "text/markdown": "0.749855333333333",
            "text/latex": "0.749855333333333",
            "text/plain": [
              "[1] 0.7498553"
            ]
          },
          "metadata": {}
        }
      ]
    },
    {
      "cell_type": "code",
      "source": [
        "mean( (estimates - ev)^2 )"
      ],
      "metadata": {
        "colab": {
          "base_uri": "https://localhost:8080/",
          "height": 34
        },
        "id": "mVpYUzDUuiHr",
        "outputId": "4a843f30-950c-425b-f0f7-5c087aa4adee"
      },
      "id": "mVpYUzDUuiHr",
      "execution_count": 11,
      "outputs": [
        {
          "output_type": "display_data",
          "data": {
            "text/html": [
              "0.0125216457382222"
            ],
            "text/markdown": "0.0125216457382222",
            "text/latex": "0.0125216457382222",
            "text/plain": [
              "[1] 0.01252165"
            ]
          },
          "metadata": {}
        }
      ]
    },
    {
      "cell_type": "code",
      "source": [
        "var(estimates)"
      ],
      "metadata": {
        "colab": {
          "base_uri": "https://localhost:8080/",
          "height": 34
        },
        "id": "3eQ-71jXLh6N",
        "outputId": "c744ef44-b820-467e-db7b-52d7963c443f"
      },
      "id": "3eQ-71jXLh6N",
      "execution_count": 12,
      "outputs": [
        {
          "output_type": "display_data",
          "data": {
            "text/html": [
              "0.0125217709559318"
            ],
            "text/markdown": "0.0125217709559318",
            "text/latex": "0.0125217709559318",
            "text/plain": [
              "[1] 0.01252177"
            ]
          },
          "metadata": {}
        }
      ]
    },
    {
      "cell_type": "code",
      "source": [
        "p <- 0.75\n",
        "n <- 15\n",
        "\n",
        "p * (1-p) / n"
      ],
      "metadata": {
        "colab": {
          "base_uri": "https://localhost:8080/",
          "height": 34
        },
        "id": "Ysq9Ao5E8rPi",
        "outputId": "dd73c5a2-6fe6-4307-cd83-007af8c3495c"
      },
      "id": "Ysq9Ao5E8rPi",
      "execution_count": 13,
      "outputs": [
        {
          "output_type": "display_data",
          "data": {
            "text/html": [
              "0.0125"
            ],
            "text/markdown": "0.0125",
            "text/latex": "0.0125",
            "text/plain": [
              "[1] 0.0125"
            ]
          },
          "metadata": {}
        }
      ]
    },
    {
      "cell_type": "code",
      "source": [
        "p <- 0.75\n",
        "n <- 15\n",
        "\n",
        "sqrt(p * (1-p) / n)"
      ],
      "metadata": {
        "colab": {
          "base_uri": "https://localhost:8080/",
          "height": 34
        },
        "id": "yEsrQ3znLrXr",
        "outputId": "06ca0549-a07d-4650-f72a-ff40b8cdaf3d"
      },
      "id": "yEsrQ3znLrXr",
      "execution_count": 14,
      "outputs": [
        {
          "output_type": "display_data",
          "data": {
            "text/html": [
              "0.111803398874989"
            ],
            "text/markdown": "0.111803398874989",
            "text/latex": "0.111803398874989",
            "text/plain": [
              "[1] 0.1118034"
            ]
          },
          "metadata": {}
        }
      ]
    },
    {
      "cell_type": "code",
      "source": [
        "sd(estimates)"
      ],
      "metadata": {
        "colab": {
          "base_uri": "https://localhost:8080/",
          "height": 34
        },
        "id": "0sl428v0Ll36",
        "outputId": "7af51bbd-b813-42a8-98d2-866d42fe32c1"
      },
      "id": "0sl428v0Ll36",
      "execution_count": 15,
      "outputs": [
        {
          "output_type": "display_data",
          "data": {
            "text/html": [
              "0.111900719193095"
            ],
            "text/markdown": "0.111900719193095",
            "text/latex": "0.111900719193095",
            "text/plain": [
              "[1] 0.1119007"
            ]
          },
          "metadata": {}
        }
      ]
    },
    {
      "cell_type": "code",
      "source": [
        "estimates <- replicate(1e5, mean(rbernoulli(50, .75)))"
      ],
      "metadata": {
        "id": "ca95zO_0_diq"
      },
      "id": "ca95zO_0_diq",
      "execution_count": 16,
      "outputs": []
    },
    {
      "cell_type": "code",
      "source": [
        "ggplot(tibble(Estimate = estimates), aes(x=Estimate)) +\n",
        "  geom_histogram(bins=50) + \n",
        "  scale_x_continuous(limits=c(0,1)) +\n",
        "  scale_y_continuous('Number of worlds') +\n",
        "  theme(axis.text.x = element_text(color=\"black\"),\n",
        "    axis.text.y = element_text(color=\"black\"))\n",
        "\n",
        "ggsave('polling-2.png', height=4, width=4)"
      ],
      "metadata": {
        "colab": {
          "base_uri": "https://localhost:8080/",
          "height": 508
        },
        "id": "UDNt5i16Asea",
        "outputId": "dee8cae1-5914-4e54-ccb2-39a964a21ca2"
      },
      "id": "UDNt5i16Asea",
      "execution_count": 17,
      "outputs": [
        {
          "output_type": "stream",
          "name": "stderr",
          "text": [
            "Warning message:\n",
            "“Removed 2 rows containing missing values (geom_bar).”\n",
            "Warning message:\n",
            "“Removed 2 rows containing missing values (geom_bar).”\n"
          ]
        },
        {
          "output_type": "display_data",
          "data": {
            "text/plain": [
              "plot without title"
            ],
            "image/png": "[encoded data removed]"
          },
          "metadata": {
            "image/png": {
              "width": 420,
              "height": 420
            }
          }
        }
      ]
    },
    {
      "cell_type": "code",
      "source": [
        "estimates <- replicate(1e5, mean(rbernoulli(100, .75)))"
      ],
      "metadata": {
        "id": "iwFDMA_DA_jI"
      },
      "id": "iwFDMA_DA_jI",
      "execution_count": 18,
      "outputs": []
    },
    {
      "cell_type": "code",
      "source": [
        "ggplot(tibble(Estimate = estimates), aes(x=Estimate)) +\n",
        "  geom_histogram(bins=50) + \n",
        "  scale_x_continuous(limits=c(0,1)) +\n",
        "  scale_y_continuous('Number of worlds') +\n",
        "  theme(axis.text.x = element_text(color=\"black\"),\n",
        "    axis.text.y = element_text(color=\"black\"))\n",
        "\n",
        "ggsave('polling-3.png', height=4, width=4)"
      ],
      "metadata": {
        "colab": {
          "base_uri": "https://localhost:8080/",
          "height": 508
        },
        "id": "YWNW-duoBDSx",
        "outputId": "c8f343a1-d620-408e-c869-94f989aca189"
      },
      "id": "YWNW-duoBDSx",
      "execution_count": 19,
      "outputs": [
        {
          "output_type": "stream",
          "name": "stderr",
          "text": [
            "Warning message:\n",
            "“Removed 2 rows containing missing values (geom_bar).”\n",
            "Warning message:\n",
            "“Removed 2 rows containing missing values (geom_bar).”\n"
          ]
        },
        {
          "output_type": "display_data",
          "data": {
            "text/plain": [
              "plot without title"
            ],
            "image/png": "[encoded data removed]"
          },
          "metadata": {
            "image/png": {
              "width": 420,
              "height": 420
            }
          }
        }
      ]
    },
    {
      "cell_type": "code",
      "source": [
        "estimates <- replicate(1e5, mean(rbernoulli(1000, .75)))"
      ],
      "metadata": {
        "id": "c4c4L61nBBNX"
      },
      "id": "c4c4L61nBBNX",
      "execution_count": 20,
      "outputs": []
    },
    {
      "cell_type": "code",
      "source": [
        "ggplot(tibble(Estimate = estimates), aes(x=Estimate)) +\n",
        "  geom_histogram(bins=50) + \n",
        "  scale_x_continuous(limits=c(0,1)) +\n",
        "  scale_y_continuous('Number of worlds') +\n",
        "  theme(axis.text.x = element_text(color=\"black\"),\n",
        "    axis.text.y = element_text(color=\"black\"))\n",
        "\n",
        "ggsave('polling-4.png', height=4, width=4)"
      ],
      "metadata": {
        "colab": {
          "base_uri": "https://localhost:8080/",
          "height": 508
        },
        "id": "mpbwS67PBGqf",
        "outputId": "d65f1a9a-4645-4f6f-a008-65b3ad6327b8"
      },
      "id": "mpbwS67PBGqf",
      "execution_count": 21,
      "outputs": [
        {
          "output_type": "stream",
          "name": "stderr",
          "text": [
            "Warning message:\n",
            "“Removed 2 rows containing missing values (geom_bar).”\n",
            "Warning message:\n",
            "“Removed 2 rows containing missing values (geom_bar).”\n"
          ]
        },
        {
          "output_type": "display_data",
          "data": {
            "text/plain": [
              "plot without title"
            ],
            "image/png": "[encoded data removed]"
          },
          "metadata": {
            "image/png": {
              "width": 420,
              "height": 420
            }
          }
        }
      ]
    }
  ],
  "metadata": {
    "colab": {
      "provenance": [],
      "collapsed_sections": [],
      "include_colab_link": true
    },
    "kernelspec": {
      "display_name": "R",
      "language": "R",
      "name": "ir"
    },
    "language_info": {
      "codemirror_mode": "r",
      "file_extension": ".r",
      "mimetype": "text/x-r-source",
      "name": "R",
      "pygments_lexer": "r",
      "version": "4.2.1"
    }
  },
  "nbformat": 4,
  "nbformat_minor": 5
}
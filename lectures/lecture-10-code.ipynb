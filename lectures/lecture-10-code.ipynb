{
  "cells": [
    {
      "cell_type": "markdown",
      "metadata": {
        "id": "view-in-github",
        "colab_type": "text"
      },
      "source": [
        "<a href=\"https://colab.research.google.com/github/5harad/API201-students/blob/main/lectures/lecture-10-code.ipynb\" target=\"_parent\"><img src=\"https://colab.research.google.com/assets/colab-badge.svg\" alt=\"Open In Colab\"/></a>"
      ]
    },
    {
      "cell_type": "markdown",
      "id": "c8f6d4f7",
      "metadata": {
        "id": "c8f6d4f7"
      },
      "source": [
        "# Lecture 10: R review"
      ]
    },
    {
      "cell_type": "code",
      "execution_count": 1,
      "id": "1b211e6c",
      "metadata": {
        "id": "1b211e6c",
        "colab": {
          "base_uri": "https://localhost:8080/"
        },
        "outputId": "8929caa0-ed5b-4932-d098-6f2fbc10e7e5"
      },
      "outputs": [
        {
          "output_type": "stream",
          "name": "stderr",
          "text": [
            "Warning message in system(\"timedatectl\", intern = TRUE):\n",
            "“running command 'timedatectl' had status 1”\n",
            "── \u001b[1mAttaching packages\u001b[22m ─────────────────────────────────────── tidyverse 1.3.1 ──\n",
            "\n",
            "\u001b[32m✔\u001b[39m \u001b[34mggplot2\u001b[39m 3.3.6      \u001b[32m✔\u001b[39m \u001b[34mpurrr  \u001b[39m 0.3.4 \n",
            "\u001b[32m✔\u001b[39m \u001b[34mtibble \u001b[39m 3.1.7      \u001b[32m✔\u001b[39m \u001b[34mdplyr  \u001b[39m 1.0.10\n",
            "\u001b[32m✔\u001b[39m \u001b[34mtidyr  \u001b[39m 1.2.1      \u001b[32m✔\u001b[39m \u001b[34mstringr\u001b[39m 1.4.1 \n",
            "\u001b[32m✔\u001b[39m \u001b[34mreadr  \u001b[39m 2.1.2      \u001b[32m✔\u001b[39m \u001b[34mforcats\u001b[39m 0.5.2 \n",
            "\n",
            "── \u001b[1mConflicts\u001b[22m ────────────────────────────────────────── tidyverse_conflicts() ──\n",
            "\u001b[31m✖\u001b[39m \u001b[34mdplyr\u001b[39m::\u001b[32mfilter()\u001b[39m masks \u001b[34mstats\u001b[39m::filter()\n",
            "\u001b[31m✖\u001b[39m \u001b[34mdplyr\u001b[39m::\u001b[32mlag()\u001b[39m    masks \u001b[34mstats\u001b[39m::lag()\n",
            "\n"
          ]
        }
      ],
      "source": [
        "library(tidyverse)\n",
        "\n",
        "# set a simple black & white theme for our plots\n",
        "theme_set(theme_bw())"
      ]
    },
    {
      "cell_type": "markdown",
      "id": "c8813e64",
      "metadata": {
        "id": "c8813e64"
      },
      "source": [
        "## Part 1: Fundamentals\n",
        "\n",
        "---\n",
        "\n"
      ]
    },
    {
      "cell_type": "code",
      "source": [
        "age <- 25\n",
        "age"
      ],
      "metadata": {
        "colab": {
          "base_uri": "https://localhost:8080/",
          "height": 34
        },
        "id": "UdQylLjU1rKF",
        "outputId": "d08be24c-8016-4d64-e287-aac1d92f7045"
      },
      "id": "UdQylLjU1rKF",
      "execution_count": 2,
      "outputs": [
        {
          "output_type": "display_data",
          "data": {
            "text/html": [
              "25"
            ],
            "text/markdown": "25",
            "text/latex": "25",
            "text/plain": [
              "[1] 25"
            ]
          },
          "metadata": {}
        }
      ]
    },
    {
      "cell_type": "code",
      "source": [
        "dogs <- c('wolfie', 'bella')\n",
        "dogs"
      ],
      "metadata": {
        "colab": {
          "base_uri": "https://localhost:8080/",
          "height": 34
        },
        "id": "x3VKpX4W1t75",
        "outputId": "4ee9909a-a39a-4e8e-f17b-476822b6a90f"
      },
      "id": "x3VKpX4W1t75",
      "execution_count": 3,
      "outputs": [
        {
          "output_type": "display_data",
          "data": {
            "text/html": [
              "<style>\n",
              ".list-inline {list-style: none; margin:0; padding: 0}\n",
              ".list-inline>li {display: inline-block}\n",
              ".list-inline>li:not(:last-child)::after {content: \"\\00b7\"; padding: 0 .5ex}\n",
              "</style>\n",
              "<ol class=list-inline><li>'wolfie'</li><li>'bella'</li></ol>\n"
            ],
            "text/markdown": "1. 'wolfie'\n2. 'bella'\n\n\n",
            "text/latex": "\\begin{enumerate*}\n\\item 'wolfie'\n\\item 'bella'\n\\end{enumerate*}\n",
            "text/plain": [
              "[1] \"wolfie\" \"bella\" "
            ]
          },
          "metadata": {}
        }
      ]
    },
    {
      "cell_type": "code",
      "source": [
        "cats <- c('blue', 'elmo')\n",
        "cats"
      ],
      "metadata": {
        "colab": {
          "base_uri": "https://localhost:8080/",
          "height": 34
        },
        "id": "qnILGdgl1xud",
        "outputId": "bb644919-db9f-4d8f-caea-2ae139ec4bf9"
      },
      "id": "qnILGdgl1xud",
      "execution_count": 4,
      "outputs": [
        {
          "output_type": "display_data",
          "data": {
            "text/html": [
              "<style>\n",
              ".list-inline {list-style: none; margin:0; padding: 0}\n",
              ".list-inline>li {display: inline-block}\n",
              ".list-inline>li:not(:last-child)::after {content: \"\\00b7\"; padding: 0 .5ex}\n",
              "</style>\n",
              "<ol class=list-inline><li>'blue'</li><li>'elmo'</li></ol>\n"
            ],
            "text/markdown": "1. 'blue'\n2. 'elmo'\n\n\n",
            "text/latex": "\\begin{enumerate*}\n\\item 'blue'\n\\item 'elmo'\n\\end{enumerate*}\n",
            "text/plain": [
              "[1] \"blue\" \"elmo\""
            ]
          },
          "metadata": {}
        }
      ]
    },
    {
      "cell_type": "code",
      "source": [
        "pets <- c(dogs, cats)\n",
        "pets"
      ],
      "metadata": {
        "colab": {
          "base_uri": "https://localhost:8080/",
          "height": 34
        },
        "id": "DULKa8rY2FzI",
        "outputId": "ef2ca054-96e3-43c1-e1cf-fe4f0afcc4f8"
      },
      "id": "DULKa8rY2FzI",
      "execution_count": 5,
      "outputs": [
        {
          "output_type": "display_data",
          "data": {
            "text/html": [
              "<style>\n",
              ".list-inline {list-style: none; margin:0; padding: 0}\n",
              ".list-inline>li {display: inline-block}\n",
              ".list-inline>li:not(:last-child)::after {content: \"\\00b7\"; padding: 0 .5ex}\n",
              "</style>\n",
              "<ol class=list-inline><li>'wolfie'</li><li>'bella'</li><li>'blue'</li><li>'elmo'</li></ol>\n"
            ],
            "text/markdown": "1. 'wolfie'\n2. 'bella'\n3. 'blue'\n4. 'elmo'\n\n\n",
            "text/latex": "\\begin{enumerate*}\n\\item 'wolfie'\n\\item 'bella'\n\\item 'blue'\n\\item 'elmo'\n\\end{enumerate*}\n",
            "text/plain": [
              "[1] \"wolfie\" \"bella\"  \"blue\"   \"elmo\"  "
            ]
          },
          "metadata": {}
        }
      ]
    },
    {
      "cell_type": "code",
      "source": [
        "(2+3)*5/4"
      ],
      "metadata": {
        "colab": {
          "base_uri": "https://localhost:8080/",
          "height": 34
        },
        "id": "0uIagTtu2MNn",
        "outputId": "d782530b-b8a1-4dcd-8969-0b5577aecaa3"
      },
      "id": "0uIagTtu2MNn",
      "execution_count": 6,
      "outputs": [
        {
          "output_type": "display_data",
          "data": {
            "text/html": [
              "6.25"
            ],
            "text/markdown": "6.25",
            "text/latex": "6.25",
            "text/plain": [
              "[1] 6.25"
            ]
          },
          "metadata": {}
        }
      ]
    },
    {
      "cell_type": "code",
      "source": [
        "my_var <- c(TRUE, FALSE)\n",
        "my_var"
      ],
      "metadata": {
        "colab": {
          "base_uri": "https://localhost:8080/",
          "height": 34
        },
        "id": "JWZ_SS2e2Ml_",
        "outputId": "e8de4ac9-9710-4a33-e462-fb6a1cc9211e"
      },
      "id": "JWZ_SS2e2Ml_",
      "execution_count": 7,
      "outputs": [
        {
          "output_type": "display_data",
          "data": {
            "text/html": [
              "<style>\n",
              ".list-inline {list-style: none; margin:0; padding: 0}\n",
              ".list-inline>li {display: inline-block}\n",
              ".list-inline>li:not(:last-child)::after {content: \"\\00b7\"; padding: 0 .5ex}\n",
              "</style>\n",
              "<ol class=list-inline><li>TRUE</li><li>FALSE</li></ol>\n"
            ],
            "text/markdown": "1. TRUE\n2. FALSE\n\n\n",
            "text/latex": "\\begin{enumerate*}\n\\item TRUE\n\\item FALSE\n\\end{enumerate*}\n",
            "text/plain": [
              "[1]  TRUE FALSE"
            ]
          },
          "metadata": {}
        }
      ]
    },
    {
      "cell_type": "code",
      "source": [
        "2 == 3"
      ],
      "metadata": {
        "colab": {
          "base_uri": "https://localhost:8080/",
          "height": 34
        },
        "id": "m7xv-J4t2Ta1",
        "outputId": "a0e90dd8-6001-4fae-c6b5-c0e978d62924"
      },
      "id": "m7xv-J4t2Ta1",
      "execution_count": 8,
      "outputs": [
        {
          "output_type": "display_data",
          "data": {
            "text/html": [
              "FALSE"
            ],
            "text/markdown": "FALSE",
            "text/latex": "FALSE",
            "text/plain": [
              "[1] FALSE"
            ]
          },
          "metadata": {}
        }
      ]
    },
    {
      "cell_type": "code",
      "source": [
        "3 >= 1"
      ],
      "metadata": {
        "colab": {
          "base_uri": "https://localhost:8080/",
          "height": 34
        },
        "id": "GaLp7IA02XX6",
        "outputId": "64b2c68b-a698-4023-cdf3-39b136217e68"
      },
      "id": "GaLp7IA02XX6",
      "execution_count": 9,
      "outputs": [
        {
          "output_type": "display_data",
          "data": {
            "text/html": [
              "TRUE"
            ],
            "text/markdown": "TRUE",
            "text/latex": "TRUE",
            "text/plain": [
              "[1] TRUE"
            ]
          },
          "metadata": {}
        }
      ]
    },
    {
      "cell_type": "code",
      "source": [
        "seq(5,10)"
      ],
      "metadata": {
        "colab": {
          "base_uri": "https://localhost:8080/",
          "height": 34
        },
        "id": "-w9l-SXN2l_E",
        "outputId": "28df3ddf-1eba-4f2f-c9b2-2becfb8b9045"
      },
      "id": "-w9l-SXN2l_E",
      "execution_count": 10,
      "outputs": [
        {
          "output_type": "display_data",
          "data": {
            "text/html": [
              "<style>\n",
              ".list-inline {list-style: none; margin:0; padding: 0}\n",
              ".list-inline>li {display: inline-block}\n",
              ".list-inline>li:not(:last-child)::after {content: \"\\00b7\"; padding: 0 .5ex}\n",
              "</style>\n",
              "<ol class=list-inline><li>5</li><li>6</li><li>7</li><li>8</li><li>9</li><li>10</li></ol>\n"
            ],
            "text/markdown": "1. 5\n2. 6\n3. 7\n4. 8\n5. 9\n6. 10\n\n\n",
            "text/latex": "\\begin{enumerate*}\n\\item 5\n\\item 6\n\\item 7\n\\item 8\n\\item 9\n\\item 10\n\\end{enumerate*}\n",
            "text/plain": [
              "[1]  5  6  7  8  9 10"
            ]
          },
          "metadata": {}
        }
      ]
    },
    {
      "cell_type": "code",
      "source": [
        "5:10"
      ],
      "metadata": {
        "colab": {
          "base_uri": "https://localhost:8080/",
          "height": 34
        },
        "id": "p9F2cyS02mUw",
        "outputId": "44a1adb7-a3c0-41ca-b0fe-200980d4ff66"
      },
      "id": "p9F2cyS02mUw",
      "execution_count": 11,
      "outputs": [
        {
          "output_type": "display_data",
          "data": {
            "text/html": [
              "<style>\n",
              ".list-inline {list-style: none; margin:0; padding: 0}\n",
              ".list-inline>li {display: inline-block}\n",
              ".list-inline>li:not(:last-child)::after {content: \"\\00b7\"; padding: 0 .5ex}\n",
              "</style>\n",
              "<ol class=list-inline><li>5</li><li>6</li><li>7</li><li>8</li><li>9</li><li>10</li></ol>\n"
            ],
            "text/markdown": "1. 5\n2. 6\n3. 7\n4. 8\n5. 9\n6. 10\n\n\n",
            "text/latex": "\\begin{enumerate*}\n\\item 5\n\\item 6\n\\item 7\n\\item 8\n\\item 9\n\\item 10\n\\end{enumerate*}\n",
            "text/plain": [
              "[1]  5  6  7  8  9 10"
            ]
          },
          "metadata": {}
        }
      ]
    },
    {
      "cell_type": "code",
      "source": [
        "long_list <- seq(1,100)\n",
        "head(long_list)"
      ],
      "metadata": {
        "colab": {
          "base_uri": "https://localhost:8080/",
          "height": 34
        },
        "id": "nhqkxVu02orU",
        "outputId": "7dba124a-e384-4c91-b0dd-9e97766227d5"
      },
      "id": "nhqkxVu02orU",
      "execution_count": 12,
      "outputs": [
        {
          "output_type": "display_data",
          "data": {
            "text/html": [
              "<style>\n",
              ".list-inline {list-style: none; margin:0; padding: 0}\n",
              ".list-inline>li {display: inline-block}\n",
              ".list-inline>li:not(:last-child)::after {content: \"\\00b7\"; padding: 0 .5ex}\n",
              "</style>\n",
              "<ol class=list-inline><li>1</li><li>2</li><li>3</li><li>4</li><li>5</li><li>6</li></ol>\n"
            ],
            "text/markdown": "1. 1\n2. 2\n3. 3\n4. 4\n5. 5\n6. 6\n\n\n",
            "text/latex": "\\begin{enumerate*}\n\\item 1\n\\item 2\n\\item 3\n\\item 4\n\\item 5\n\\item 6\n\\end{enumerate*}\n",
            "text/plain": [
              "[1] 1 2 3 4 5 6"
            ]
          },
          "metadata": {}
        }
      ]
    },
    {
      "cell_type": "code",
      "source": [
        "length(long_list)"
      ],
      "metadata": {
        "colab": {
          "base_uri": "https://localhost:8080/",
          "height": 34
        },
        "id": "csDKg3zYfgi_",
        "outputId": "ac10ea71-f4d9-4909-852a-db3dd744ac77"
      },
      "id": "csDKg3zYfgi_",
      "execution_count": 13,
      "outputs": [
        {
          "output_type": "display_data",
          "data": {
            "text/html": [
              "100"
            ],
            "text/markdown": "100",
            "text/latex": "100",
            "text/plain": [
              "[1] 100"
            ]
          },
          "metadata": {}
        }
      ]
    },
    {
      "cell_type": "code",
      "source": [
        "my_vec <- seq(5,10)\n",
        "my_vec"
      ],
      "metadata": {
        "colab": {
          "base_uri": "https://localhost:8080/",
          "height": 34
        },
        "id": "jxPd69dY2xAJ",
        "outputId": "91383223-285e-421e-f73a-53b2ba31c94c"
      },
      "id": "jxPd69dY2xAJ",
      "execution_count": 14,
      "outputs": [
        {
          "output_type": "display_data",
          "data": {
            "text/html": [
              "<style>\n",
              ".list-inline {list-style: none; margin:0; padding: 0}\n",
              ".list-inline>li {display: inline-block}\n",
              ".list-inline>li:not(:last-child)::after {content: \"\\00b7\"; padding: 0 .5ex}\n",
              "</style>\n",
              "<ol class=list-inline><li>5</li><li>6</li><li>7</li><li>8</li><li>9</li><li>10</li></ol>\n"
            ],
            "text/markdown": "1. 5\n2. 6\n3. 7\n4. 8\n5. 9\n6. 10\n\n\n",
            "text/latex": "\\begin{enumerate*}\n\\item 5\n\\item 6\n\\item 7\n\\item 8\n\\item 9\n\\item 10\n\\end{enumerate*}\n",
            "text/plain": [
              "[1]  5  6  7  8  9 10"
            ]
          },
          "metadata": {}
        }
      ]
    },
    {
      "cell_type": "code",
      "source": [
        "sum(my_vec)"
      ],
      "metadata": {
        "colab": {
          "base_uri": "https://localhost:8080/",
          "height": 34
        },
        "id": "lNrSnE3BgBgY",
        "outputId": "d315ee62-0b5c-4e73-c03e-2493f8335edf"
      },
      "id": "lNrSnE3BgBgY",
      "execution_count": 15,
      "outputs": [
        {
          "output_type": "display_data",
          "data": {
            "text/html": [
              "45"
            ],
            "text/markdown": "45",
            "text/latex": "45",
            "text/plain": [
              "[1] 45"
            ]
          },
          "metadata": {}
        }
      ]
    },
    {
      "cell_type": "code",
      "source": [
        "mean(my_vec)"
      ],
      "metadata": {
        "colab": {
          "base_uri": "https://localhost:8080/",
          "height": 34
        },
        "id": "323wMzAugFcu",
        "outputId": "ca5d76b5-4c49-4ac0-904b-fff7cbdb6cf5"
      },
      "id": "323wMzAugFcu",
      "execution_count": 16,
      "outputs": [
        {
          "output_type": "display_data",
          "data": {
            "text/html": [
              "7.5"
            ],
            "text/markdown": "7.5",
            "text/latex": "7.5",
            "text/plain": [
              "[1] 7.5"
            ]
          },
          "metadata": {}
        }
      ]
    },
    {
      "cell_type": "code",
      "source": [
        "b_vec <- c(TRUE, TRUE, FALSE)\n",
        "sum(b_vec)"
      ],
      "metadata": {
        "colab": {
          "base_uri": "https://localhost:8080/",
          "height": 34
        },
        "id": "fhwGqD998KN6",
        "outputId": "076a94b4-239a-488a-ddf9-ab517524b7ea"
      },
      "id": "fhwGqD998KN6",
      "execution_count": 17,
      "outputs": [
        {
          "output_type": "display_data",
          "data": {
            "text/html": [
              "2"
            ],
            "text/markdown": "2",
            "text/latex": "2",
            "text/plain": [
              "[1] 2"
            ]
          },
          "metadata": {}
        }
      ]
    },
    {
      "cell_type": "code",
      "source": [
        "mean(b_vec)"
      ],
      "metadata": {
        "colab": {
          "base_uri": "https://localhost:8080/",
          "height": 34
        },
        "id": "CKgEyPfj8WDW",
        "outputId": "7af24fd5-a74b-4c60-df66-910c89d48918"
      },
      "id": "CKgEyPfj8WDW",
      "execution_count": 18,
      "outputs": [
        {
          "output_type": "display_data",
          "data": {
            "text/html": [
              "0.666666666666667"
            ],
            "text/markdown": "0.666666666666667",
            "text/latex": "0.666666666666667",
            "text/plain": [
              "[1] 0.6666667"
            ]
          },
          "metadata": {}
        }
      ]
    },
    {
      "cell_type": "code",
      "source": [
        "ages <- c(28, 45, 15, 8, 83, 3, 42, 35, 12, 50)"
      ],
      "metadata": {
        "id": "hX2JaTRFcwdP"
      },
      "id": "hX2JaTRFcwdP",
      "execution_count": 19,
      "outputs": []
    },
    {
      "cell_type": "code",
      "source": [
        "ages >= 25"
      ],
      "metadata": {
        "colab": {
          "base_uri": "https://localhost:8080/",
          "height": 34
        },
        "id": "MBAS3_vtcwSS",
        "outputId": "41b246e2-e0e7-42cc-9c88-fdcf777a4998"
      },
      "id": "MBAS3_vtcwSS",
      "execution_count": 20,
      "outputs": [
        {
          "output_type": "display_data",
          "data": {
            "text/html": [
              "<style>\n",
              ".list-inline {list-style: none; margin:0; padding: 0}\n",
              ".list-inline>li {display: inline-block}\n",
              ".list-inline>li:not(:last-child)::after {content: \"\\00b7\"; padding: 0 .5ex}\n",
              "</style>\n",
              "<ol class=list-inline><li>TRUE</li><li>TRUE</li><li>FALSE</li><li>FALSE</li><li>TRUE</li><li>FALSE</li><li>TRUE</li><li>TRUE</li><li>FALSE</li><li>TRUE</li></ol>\n"
            ],
            "text/markdown": "1. TRUE\n2. TRUE\n3. FALSE\n4. FALSE\n5. TRUE\n6. FALSE\n7. TRUE\n8. TRUE\n9. FALSE\n10. TRUE\n\n\n",
            "text/latex": "\\begin{enumerate*}\n\\item TRUE\n\\item TRUE\n\\item FALSE\n\\item FALSE\n\\item TRUE\n\\item FALSE\n\\item TRUE\n\\item TRUE\n\\item FALSE\n\\item TRUE\n\\end{enumerate*}\n",
            "text/plain": [
              " [1]  TRUE  TRUE FALSE FALSE  TRUE FALSE  TRUE  TRUE FALSE  TRUE"
            ]
          },
          "metadata": {}
        }
      ]
    },
    {
      "cell_type": "code",
      "source": [
        "mean(ages >= 25)"
      ],
      "metadata": {
        "colab": {
          "base_uri": "https://localhost:8080/",
          "height": 34
        },
        "id": "LIep6cJmdCiU",
        "outputId": "1246d4f3-4298-41b8-8c66-a36a6c8f3f28"
      },
      "id": "LIep6cJmdCiU",
      "execution_count": 21,
      "outputs": [
        {
          "output_type": "display_data",
          "data": {
            "text/html": [
              "0.6"
            ],
            "text/markdown": "0.6",
            "text/latex": "0.6",
            "text/plain": [
              "[1] 0.6"
            ]
          },
          "metadata": {}
        }
      ]
    },
    {
      "cell_type": "markdown",
      "source": [
        "## Part 2: Data frames\n"
      ],
      "metadata": {
        "id": "wkZRi8WBxpK3"
      },
      "id": "wkZRi8WBxpK3"
    },
    {
      "cell_type": "code",
      "source": [
        "pets <- tibble(\n",
        "  name = c('wolfie','bella','blue','elmo'),\n",
        "  is_dog = c(TRUE, TRUE, FALSE, FALSE),\n",
        "  age = c(2, 3, 1.5, 4)\n",
        ")\n",
        "pets"
      ],
      "metadata": {
        "colab": {
          "base_uri": "https://localhost:8080/",
          "height": 224
        },
        "id": "TtXuHBId8YGV",
        "outputId": "57e93680-44f2-4bed-e9cc-7f2102dbf4ac"
      },
      "id": "TtXuHBId8YGV",
      "execution_count": 22,
      "outputs": [
        {
          "output_type": "display_data",
          "data": {
            "text/html": [
              "<table class=\"dataframe\">\n",
              "<caption>A tibble: 4 × 3</caption>\n",
              "<thead>\n",
              "\t<tr><th scope=col>name</th><th scope=col>is_dog</th><th scope=col>age</th></tr>\n",
              "\t<tr><th scope=col>&lt;chr&gt;</th><th scope=col>&lt;lgl&gt;</th><th scope=col>&lt;dbl&gt;</th></tr>\n",
              "</thead>\n",
              "<tbody>\n",
              "\t<tr><td>wolfie</td><td> TRUE</td><td>2.0</td></tr>\n",
              "\t<tr><td>bella </td><td> TRUE</td><td>3.0</td></tr>\n",
              "\t<tr><td>blue  </td><td>FALSE</td><td>1.5</td></tr>\n",
              "\t<tr><td>elmo  </td><td>FALSE</td><td>4.0</td></tr>\n",
              "</tbody>\n",
              "</table>\n"
            ],
            "text/markdown": "\nA tibble: 4 × 3\n\n| name &lt;chr&gt; | is_dog &lt;lgl&gt; | age &lt;dbl&gt; |\n|---|---|---|\n| wolfie |  TRUE | 2.0 |\n| bella  |  TRUE | 3.0 |\n| blue   | FALSE | 1.5 |\n| elmo   | FALSE | 4.0 |\n\n",
            "text/latex": "A tibble: 4 × 3\n\\begin{tabular}{lll}\n name & is\\_dog & age\\\\\n <chr> & <lgl> & <dbl>\\\\\n\\hline\n\t wolfie &  TRUE & 2.0\\\\\n\t bella  &  TRUE & 3.0\\\\\n\t blue   & FALSE & 1.5\\\\\n\t elmo   & FALSE & 4.0\\\\\n\\end{tabular}\n",
            "text/plain": [
              "  name   is_dog age\n",
              "1 wolfie  TRUE  2.0\n",
              "2 bella   TRUE  3.0\n",
              "3 blue   FALSE  1.5\n",
              "4 elmo   FALSE  4.0"
            ]
          },
          "metadata": {}
        }
      ]
    },
    {
      "cell_type": "code",
      "source": [
        "dogs <- pets %>%\n",
        "  filter(is_dog == TRUE)\n",
        "\n",
        "dogs"
      ],
      "metadata": {
        "colab": {
          "base_uri": "https://localhost:8080/",
          "height": 161
        },
        "id": "wFF9zkbsA2HF",
        "outputId": "9c88a3b9-011e-49a3-8703-71b6ad38c0d4"
      },
      "id": "wFF9zkbsA2HF",
      "execution_count": 23,
      "outputs": [
        {
          "output_type": "display_data",
          "data": {
            "text/html": [
              "<table class=\"dataframe\">\n",
              "<caption>A tibble: 2 × 3</caption>\n",
              "<thead>\n",
              "\t<tr><th scope=col>name</th><th scope=col>is_dog</th><th scope=col>age</th></tr>\n",
              "\t<tr><th scope=col>&lt;chr&gt;</th><th scope=col>&lt;lgl&gt;</th><th scope=col>&lt;dbl&gt;</th></tr>\n",
              "</thead>\n",
              "<tbody>\n",
              "\t<tr><td>wolfie</td><td>TRUE</td><td>2</td></tr>\n",
              "\t<tr><td>bella </td><td>TRUE</td><td>3</td></tr>\n",
              "</tbody>\n",
              "</table>\n"
            ],
            "text/markdown": "\nA tibble: 2 × 3\n\n| name &lt;chr&gt; | is_dog &lt;lgl&gt; | age &lt;dbl&gt; |\n|---|---|---|\n| wolfie | TRUE | 2 |\n| bella  | TRUE | 3 |\n\n",
            "text/latex": "A tibble: 2 × 3\n\\begin{tabular}{lll}\n name & is\\_dog & age\\\\\n <chr> & <lgl> & <dbl>\\\\\n\\hline\n\t wolfie & TRUE & 2\\\\\n\t bella  & TRUE & 3\\\\\n\\end{tabular}\n",
            "text/plain": [
              "  name   is_dog age\n",
              "1 wolfie TRUE   2  \n",
              "2 bella  TRUE   3  "
            ]
          },
          "metadata": {}
        }
      ]
    },
    {
      "cell_type": "code",
      "source": [
        "dogs <- pets %>%\n",
        "  filter(is_dog == TRUE) %>%\n",
        "  mutate(dog_years = age * 7)\n",
        "\n",
        "dogs"
      ],
      "metadata": {
        "colab": {
          "base_uri": "https://localhost:8080/",
          "height": 161
        },
        "id": "wpZWysNfEVEJ",
        "outputId": "07873752-1557-42d2-e1e2-5766ab399544"
      },
      "id": "wpZWysNfEVEJ",
      "execution_count": 24,
      "outputs": [
        {
          "output_type": "display_data",
          "data": {
            "text/html": [
              "<table class=\"dataframe\">\n",
              "<caption>A tibble: 2 × 4</caption>\n",
              "<thead>\n",
              "\t<tr><th scope=col>name</th><th scope=col>is_dog</th><th scope=col>age</th><th scope=col>dog_years</th></tr>\n",
              "\t<tr><th scope=col>&lt;chr&gt;</th><th scope=col>&lt;lgl&gt;</th><th scope=col>&lt;dbl&gt;</th><th scope=col>&lt;dbl&gt;</th></tr>\n",
              "</thead>\n",
              "<tbody>\n",
              "\t<tr><td>wolfie</td><td>TRUE</td><td>2</td><td>14</td></tr>\n",
              "\t<tr><td>bella </td><td>TRUE</td><td>3</td><td>21</td></tr>\n",
              "</tbody>\n",
              "</table>\n"
            ],
            "text/markdown": "\nA tibble: 2 × 4\n\n| name &lt;chr&gt; | is_dog &lt;lgl&gt; | age &lt;dbl&gt; | dog_years &lt;dbl&gt; |\n|---|---|---|---|\n| wolfie | TRUE | 2 | 14 |\n| bella  | TRUE | 3 | 21 |\n\n",
            "text/latex": "A tibble: 2 × 4\n\\begin{tabular}{llll}\n name & is\\_dog & age & dog\\_years\\\\\n <chr> & <lgl> & <dbl> & <dbl>\\\\\n\\hline\n\t wolfie & TRUE & 2 & 14\\\\\n\t bella  & TRUE & 3 & 21\\\\\n\\end{tabular}\n",
            "text/plain": [
              "  name   is_dog age dog_years\n",
              "1 wolfie TRUE   2   14       \n",
              "2 bella  TRUE   3   21       "
            ]
          },
          "metadata": {}
        }
      ]
    },
    {
      "cell_type": "code",
      "source": [
        "avg_ages <- pets %>%\n",
        "  group_by(is_dog) %>%\n",
        "  summarize(avg_age = mean(age))\n",
        "\n",
        "avg_ages"
      ],
      "metadata": {
        "colab": {
          "base_uri": "https://localhost:8080/",
          "height": 161
        },
        "id": "ZlI_ibLZFzH8",
        "outputId": "1dde873a-d942-4a6a-dbe3-45d74e0d6b76"
      },
      "id": "ZlI_ibLZFzH8",
      "execution_count": 25,
      "outputs": [
        {
          "output_type": "display_data",
          "data": {
            "text/html": [
              "<table class=\"dataframe\">\n",
              "<caption>A tibble: 2 × 2</caption>\n",
              "<thead>\n",
              "\t<tr><th scope=col>is_dog</th><th scope=col>avg_age</th></tr>\n",
              "\t<tr><th scope=col>&lt;lgl&gt;</th><th scope=col>&lt;dbl&gt;</th></tr>\n",
              "</thead>\n",
              "<tbody>\n",
              "\t<tr><td>FALSE</td><td>2.75</td></tr>\n",
              "\t<tr><td> TRUE</td><td>2.50</td></tr>\n",
              "</tbody>\n",
              "</table>\n"
            ],
            "text/markdown": "\nA tibble: 2 × 2\n\n| is_dog &lt;lgl&gt; | avg_age &lt;dbl&gt; |\n|---|---|\n| FALSE | 2.75 |\n|  TRUE | 2.50 |\n\n",
            "text/latex": "A tibble: 2 × 2\n\\begin{tabular}{ll}\n is\\_dog & avg\\_age\\\\\n <lgl> & <dbl>\\\\\n\\hline\n\t FALSE & 2.75\\\\\n\t  TRUE & 2.50\\\\\n\\end{tabular}\n",
            "text/plain": [
              "  is_dog avg_age\n",
              "1 FALSE  2.75   \n",
              "2  TRUE  2.50   "
            ]
          },
          "metadata": {}
        }
      ]
    },
    {
      "cell_type": "markdown",
      "source": [
        "## Part 3: Simulation\n"
      ],
      "metadata": {
        "id": "RzKFsDSaxtLZ"
      },
      "id": "RzKFsDSaxtLZ"
    },
    {
      "cell_type": "code",
      "source": [
        "set.seed(1)"
      ],
      "metadata": {
        "id": "7slLkmhyx0xj"
      },
      "id": "7slLkmhyx0xj",
      "execution_count": 26,
      "outputs": []
    },
    {
      "cell_type": "code",
      "source": [
        "num_tornadoes <- c(0, 1, 2, 3, 4, 5)\n",
        "p <- c(.1, .15, .4, .2, .1, .05)\n",
        "\n",
        "sample(num_tornadoes, 10, prob=p, replace=TRUE)"
      ],
      "metadata": {
        "id": "DpXzmhPnLkqh",
        "colab": {
          "base_uri": "https://localhost:8080/",
          "height": 34
        },
        "outputId": "13fd75f9-88f2-42b0-aa30-203b6d521cd6"
      },
      "id": "DpXzmhPnLkqh",
      "execution_count": 27,
      "outputs": [
        {
          "output_type": "display_data",
          "data": {
            "text/html": [
              "<style>\n",
              ".list-inline {list-style: none; margin:0; padding: 0}\n",
              ".list-inline>li {display: inline-block}\n",
              ".list-inline>li:not(:last-child)::after {content: \"\\00b7\"; padding: 0 .5ex}\n",
              "</style>\n",
              "<ol class=list-inline><li>2</li><li>2</li><li>3</li><li>4</li><li>2</li><li>4</li><li>4</li><li>1</li><li>1</li><li>2</li></ol>\n"
            ],
            "text/markdown": "1. 2\n2. 2\n3. 3\n4. 4\n5. 2\n6. 4\n7. 4\n8. 1\n9. 1\n10. 2\n\n\n",
            "text/latex": "\\begin{enumerate*}\n\\item 2\n\\item 2\n\\item 3\n\\item 4\n\\item 2\n\\item 4\n\\item 4\n\\item 1\n\\item 1\n\\item 2\n\\end{enumerate*}\n",
            "text/plain": [
              " [1] 2 2 3 4 2 4 4 1 1 2"
            ]
          },
          "metadata": {}
        }
      ]
    },
    {
      "cell_type": "code",
      "source": [
        "p <- .25\n",
        "\n",
        "rbernoulli(10, p)"
      ],
      "metadata": {
        "colab": {
          "base_uri": "https://localhost:8080/",
          "height": 34
        },
        "id": "LK2VefRP1LHt",
        "outputId": "eb3e6815-ac5d-4541-8c92-53de72856931"
      },
      "id": "LK2VefRP1LHt",
      "execution_count": 28,
      "outputs": [
        {
          "output_type": "display_data",
          "data": {
            "text/html": [
              "<style>\n",
              ".list-inline {list-style: none; margin:0; padding: 0}\n",
              ".list-inline>li {display: inline-block}\n",
              ".list-inline>li:not(:last-child)::after {content: \"\\00b7\"; padding: 0 .5ex}\n",
              "</style>\n",
              "<ol class=list-inline><li>FALSE</li><li>FALSE</li><li>FALSE</li><li>FALSE</li><li>TRUE</li><li>FALSE</li><li>FALSE</li><li>TRUE</li><li>FALSE</li><li>TRUE</li></ol>\n"
            ],
            "text/markdown": "1. FALSE\n2. FALSE\n3. FALSE\n4. FALSE\n5. TRUE\n6. FALSE\n7. FALSE\n8. TRUE\n9. FALSE\n10. TRUE\n\n\n",
            "text/latex": "\\begin{enumerate*}\n\\item FALSE\n\\item FALSE\n\\item FALSE\n\\item FALSE\n\\item TRUE\n\\item FALSE\n\\item FALSE\n\\item TRUE\n\\item FALSE\n\\item TRUE\n\\end{enumerate*}\n",
            "text/plain": [
              " [1] FALSE FALSE FALSE FALSE  TRUE FALSE FALSE  TRUE FALSE  TRUE"
            ]
          },
          "metadata": {}
        }
      ]
    },
    {
      "cell_type": "code",
      "source": [
        "p <- c(.2, .2, .9, .9, .9, .2, .2, .2, .2, .2)\n",
        "\n",
        "rbernoulli(10, p)"
      ],
      "metadata": {
        "colab": {
          "base_uri": "https://localhost:8080/",
          "height": 34
        },
        "id": "UUUtfali1Yba",
        "outputId": "a364608a-55d3-45ab-f0ff-c0b0d35c083e"
      },
      "id": "UUUtfali1Yba",
      "execution_count": 29,
      "outputs": [
        {
          "output_type": "display_data",
          "data": {
            "text/html": [
              "<style>\n",
              ".list-inline {list-style: none; margin:0; padding: 0}\n",
              ".list-inline>li {display: inline-block}\n",
              ".list-inline>li:not(:last-child)::after {content: \"\\00b7\"; padding: 0 .5ex}\n",
              "</style>\n",
              "<ol class=list-inline><li>TRUE</li><li>FALSE</li><li>TRUE</li><li>TRUE</li><li>TRUE</li><li>FALSE</li><li>FALSE</li><li>FALSE</li><li>TRUE</li><li>FALSE</li></ol>\n"
            ],
            "text/markdown": "1. TRUE\n2. FALSE\n3. TRUE\n4. TRUE\n5. TRUE\n6. FALSE\n7. FALSE\n8. FALSE\n9. TRUE\n10. FALSE\n\n\n",
            "text/latex": "\\begin{enumerate*}\n\\item TRUE\n\\item FALSE\n\\item TRUE\n\\item TRUE\n\\item TRUE\n\\item FALSE\n\\item FALSE\n\\item FALSE\n\\item TRUE\n\\item FALSE\n\\end{enumerate*}\n",
            "text/plain": [
              " [1]  TRUE FALSE  TRUE  TRUE  TRUE FALSE FALSE FALSE  TRUE FALSE"
            ]
          },
          "metadata": {}
        }
      ]
    },
    {
      "cell_type": "code",
      "source": [
        "rnorm(5, 25, 10)"
      ],
      "metadata": {
        "colab": {
          "base_uri": "https://localhost:8080/",
          "height": 34
        },
        "id": "GRLj9roD5aCN",
        "outputId": "a9313b33-2af7-48b2-acb3-ce0a5acf75b5"
      },
      "id": "GRLj9roD5aCN",
      "execution_count": 30,
      "outputs": [
        {
          "output_type": "display_data",
          "data": {
            "text/html": [
              "<style>\n",
              ".list-inline {list-style: none; margin:0; padding: 0}\n",
              ".list-inline>li {display: inline-block}\n",
              ".list-inline>li:not(:last-child)::after {content: \"\\00b7\"; padding: 0 .5ex}\n",
              "</style>\n",
              "<ol class=list-inline><li>24.5506639098477</li><li>24.8380973690105</li><li>34.438362106853</li><li>33.2122119509809</li><li>30.9390132121751</li></ol>\n"
            ],
            "text/markdown": "1. 24.5506639098477\n2. 24.8380973690105\n3. 34.438362106853\n4. 33.2122119509809\n5. 30.9390132121751\n\n\n",
            "text/latex": "\\begin{enumerate*}\n\\item 24.5506639098477\n\\item 24.8380973690105\n\\item 34.438362106853\n\\item 33.2122119509809\n\\item 30.9390132121751\n\\end{enumerate*}\n",
            "text/plain": [
              "[1] 24.55066 24.83810 34.43836 33.21221 30.93901"
            ]
          },
          "metadata": {}
        }
      ]
    },
    {
      "cell_type": "code",
      "source": [
        "sample(c(1,2,7), 5, p=c(1/3, 1/3, 1/3), replace=TRUE)"
      ],
      "metadata": {
        "colab": {
          "base_uri": "https://localhost:8080/",
          "height": 34
        },
        "id": "2NeO7Ih1iM8Y",
        "outputId": "e65c4291-810e-4635-ea27-3076e7fad3f2"
      },
      "id": "2NeO7Ih1iM8Y",
      "execution_count": 31,
      "outputs": [
        {
          "output_type": "display_data",
          "data": {
            "text/html": [
              "<style>\n",
              ".list-inline {list-style: none; margin:0; padding: 0}\n",
              ".list-inline>li {display: inline-block}\n",
              ".list-inline>li:not(:last-child)::after {content: \"\\00b7\"; padding: 0 .5ex}\n",
              "</style>\n",
              "<ol class=list-inline><li>1</li><li>7</li><li>1</li><li>7</li><li>7</li></ol>\n"
            ],
            "text/markdown": "1. 1\n2. 7\n3. 1\n4. 7\n5. 7\n\n\n",
            "text/latex": "\\begin{enumerate*}\n\\item 1\n\\item 7\n\\item 1\n\\item 7\n\\item 7\n\\end{enumerate*}\n",
            "text/plain": [
              "[1] 1 7 1 7 7"
            ]
          },
          "metadata": {}
        }
      ]
    },
    {
      "cell_type": "code",
      "source": [
        "rnorm(10, 0, 3) > 0"
      ],
      "metadata": {
        "colab": {
          "base_uri": "https://localhost:8080/",
          "height": 34
        },
        "id": "Xfq29FbYB6oS",
        "outputId": "457694de-13ae-47b6-9d8f-d0463c450799"
      },
      "id": "Xfq29FbYB6oS",
      "execution_count": 32,
      "outputs": [
        {
          "output_type": "display_data",
          "data": {
            "text/html": [
              "<style>\n",
              ".list-inline {list-style: none; margin:0; padding: 0}\n",
              ".list-inline>li {display: inline-block}\n",
              ".list-inline>li:not(:last-child)::after {content: \"\\00b7\"; padding: 0 .5ex}\n",
              "</style>\n",
              "<ol class=list-inline><li>TRUE</li><li>FALSE</li><li>TRUE</li><li>TRUE</li><li>FALSE</li><li>FALSE</li><li>TRUE</li><li>FALSE</li><li>FALSE</li><li>FALSE</li></ol>\n"
            ],
            "text/markdown": "1. TRUE\n2. FALSE\n3. TRUE\n4. TRUE\n5. FALSE\n6. FALSE\n7. TRUE\n8. FALSE\n9. FALSE\n10. FALSE\n\n\n",
            "text/latex": "\\begin{enumerate*}\n\\item TRUE\n\\item FALSE\n\\item TRUE\n\\item TRUE\n\\item FALSE\n\\item FALSE\n\\item TRUE\n\\item FALSE\n\\item FALSE\n\\item FALSE\n\\end{enumerate*}\n",
            "text/plain": [
              " [1]  TRUE FALSE  TRUE  TRUE FALSE FALSE  TRUE FALSE FALSE FALSE"
            ]
          },
          "metadata": {}
        }
      ]
    },
    {
      "cell_type": "code",
      "source": [
        "rbernoulli(10, 0.5)"
      ],
      "metadata": {
        "colab": {
          "base_uri": "https://localhost:8080/",
          "height": 34
        },
        "id": "MwqG2P3ICMqy",
        "outputId": "dfb68ed0-99eb-4c3e-fae0-805a534c3b40"
      },
      "id": "MwqG2P3ICMqy",
      "execution_count": 33,
      "outputs": [
        {
          "output_type": "display_data",
          "data": {
            "text/html": [
              "<style>\n",
              ".list-inline {list-style: none; margin:0; padding: 0}\n",
              ".list-inline>li {display: inline-block}\n",
              ".list-inline>li:not(:last-child)::after {content: \"\\00b7\"; padding: 0 .5ex}\n",
              "</style>\n",
              "<ol class=list-inline><li>FALSE</li><li>FALSE</li><li>TRUE</li><li>FALSE</li><li>TRUE</li><li>FALSE</li><li>TRUE</li><li>FALSE</li><li>FALSE</li><li>FALSE</li></ol>\n"
            ],
            "text/markdown": "1. FALSE\n2. FALSE\n3. TRUE\n4. FALSE\n5. TRUE\n6. FALSE\n7. TRUE\n8. FALSE\n9. FALSE\n10. FALSE\n\n\n",
            "text/latex": "\\begin{enumerate*}\n\\item FALSE\n\\item FALSE\n\\item TRUE\n\\item FALSE\n\\item TRUE\n\\item FALSE\n\\item TRUE\n\\item FALSE\n\\item FALSE\n\\item FALSE\n\\end{enumerate*}\n",
            "text/plain": [
              " [1] FALSE FALSE  TRUE FALSE  TRUE FALSE  TRUE FALSE FALSE FALSE"
            ]
          },
          "metadata": {}
        }
      ]
    },
    {
      "cell_type": "code",
      "source": [
        "p_sick = 0.5\n",
        "p_pos_if_sick <- 0.8\n",
        "p_pos_if_healthy <- 0.1\n",
        "\n",
        "cases <- tibble(\n",
        "  is_sick = rbernoulli(10, p_sick)\n",
        ")\n",
        "cases"
      ],
      "metadata": {
        "colab": {
          "base_uri": "https://localhost:8080/",
          "height": 429
        },
        "id": "6B_qYZyQjUw9",
        "outputId": "7e2bb49f-a628-4674-e8ab-c481e645211a"
      },
      "id": "6B_qYZyQjUw9",
      "execution_count": 34,
      "outputs": [
        {
          "output_type": "display_data",
          "data": {
            "text/html": [
              "<table class=\"dataframe\">\n",
              "<caption>A tibble: 10 × 1</caption>\n",
              "<thead>\n",
              "\t<tr><th scope=col>is_sick</th></tr>\n",
              "\t<tr><th scope=col>&lt;lgl&gt;</th></tr>\n",
              "</thead>\n",
              "<tbody>\n",
              "\t<tr><td> TRUE</td></tr>\n",
              "\t<tr><td> TRUE</td></tr>\n",
              "\t<tr><td>FALSE</td></tr>\n",
              "\t<tr><td> TRUE</td></tr>\n",
              "\t<tr><td> TRUE</td></tr>\n",
              "\t<tr><td>FALSE</td></tr>\n",
              "\t<tr><td> TRUE</td></tr>\n",
              "\t<tr><td>FALSE</td></tr>\n",
              "\t<tr><td>FALSE</td></tr>\n",
              "\t<tr><td> TRUE</td></tr>\n",
              "</tbody>\n",
              "</table>\n"
            ],
            "text/markdown": "\nA tibble: 10 × 1\n\n| is_sick &lt;lgl&gt; |\n|---|\n|  TRUE |\n|  TRUE |\n| FALSE |\n|  TRUE |\n|  TRUE |\n| FALSE |\n|  TRUE |\n| FALSE |\n| FALSE |\n|  TRUE |\n\n",
            "text/latex": "A tibble: 10 × 1\n\\begin{tabular}{l}\n is\\_sick\\\\\n <lgl>\\\\\n\\hline\n\t  TRUE\\\\\n\t  TRUE\\\\\n\t FALSE\\\\\n\t  TRUE\\\\\n\t  TRUE\\\\\n\t FALSE\\\\\n\t  TRUE\\\\\n\t FALSE\\\\\n\t FALSE\\\\\n\t  TRUE\\\\\n\\end{tabular}\n",
            "text/plain": [
              "   is_sick\n",
              "1   TRUE  \n",
              "2   TRUE  \n",
              "3  FALSE  \n",
              "4   TRUE  \n",
              "5   TRUE  \n",
              "6  FALSE  \n",
              "7   TRUE  \n",
              "8  FALSE  \n",
              "9  FALSE  \n",
              "10  TRUE  "
            ]
          },
          "metadata": {}
        }
      ]
    },
    {
      "cell_type": "code",
      "source": [
        "cases %>% \n",
        "  mutate(\n",
        "    p_pos = if_else(is_sick, p_pos_if_sick, p_pos_if_healthy),\n",
        "    pos = rbernoulli(10, p_pos)\n",
        "  )"
      ],
      "metadata": {
        "colab": {
          "base_uri": "https://localhost:8080/",
          "height": 412
        },
        "id": "drLVDmHnku6K",
        "outputId": "a8d0f917-f9db-48fb-d051-93d549155655"
      },
      "id": "drLVDmHnku6K",
      "execution_count": 35,
      "outputs": [
        {
          "output_type": "display_data",
          "data": {
            "text/html": [
              "<table class=\"dataframe\">\n",
              "<caption>A tibble: 10 × 3</caption>\n",
              "<thead>\n",
              "\t<tr><th scope=col>is_sick</th><th scope=col>p_pos</th><th scope=col>pos</th></tr>\n",
              "\t<tr><th scope=col>&lt;lgl&gt;</th><th scope=col>&lt;dbl&gt;</th><th scope=col>&lt;lgl&gt;</th></tr>\n",
              "</thead>\n",
              "<tbody>\n",
              "\t<tr><td> TRUE</td><td>0.8</td><td> TRUE</td></tr>\n",
              "\t<tr><td> TRUE</td><td>0.8</td><td> TRUE</td></tr>\n",
              "\t<tr><td>FALSE</td><td>0.1</td><td>FALSE</td></tr>\n",
              "\t<tr><td> TRUE</td><td>0.8</td><td> TRUE</td></tr>\n",
              "\t<tr><td> TRUE</td><td>0.8</td><td>FALSE</td></tr>\n",
              "\t<tr><td>FALSE</td><td>0.1</td><td>FALSE</td></tr>\n",
              "\t<tr><td> TRUE</td><td>0.8</td><td>FALSE</td></tr>\n",
              "\t<tr><td>FALSE</td><td>0.1</td><td>FALSE</td></tr>\n",
              "\t<tr><td>FALSE</td><td>0.1</td><td>FALSE</td></tr>\n",
              "\t<tr><td> TRUE</td><td>0.8</td><td> TRUE</td></tr>\n",
              "</tbody>\n",
              "</table>\n"
            ],
            "text/markdown": "\nA tibble: 10 × 3\n\n| is_sick &lt;lgl&gt; | p_pos &lt;dbl&gt; | pos &lt;lgl&gt; |\n|---|---|---|\n|  TRUE | 0.8 |  TRUE |\n|  TRUE | 0.8 |  TRUE |\n| FALSE | 0.1 | FALSE |\n|  TRUE | 0.8 |  TRUE |\n|  TRUE | 0.8 | FALSE |\n| FALSE | 0.1 | FALSE |\n|  TRUE | 0.8 | FALSE |\n| FALSE | 0.1 | FALSE |\n| FALSE | 0.1 | FALSE |\n|  TRUE | 0.8 |  TRUE |\n\n",
            "text/latex": "A tibble: 10 × 3\n\\begin{tabular}{lll}\n is\\_sick & p\\_pos & pos\\\\\n <lgl> & <dbl> & <lgl>\\\\\n\\hline\n\t  TRUE & 0.8 &  TRUE\\\\\n\t  TRUE & 0.8 &  TRUE\\\\\n\t FALSE & 0.1 & FALSE\\\\\n\t  TRUE & 0.8 &  TRUE\\\\\n\t  TRUE & 0.8 & FALSE\\\\\n\t FALSE & 0.1 & FALSE\\\\\n\t  TRUE & 0.8 & FALSE\\\\\n\t FALSE & 0.1 & FALSE\\\\\n\t FALSE & 0.1 & FALSE\\\\\n\t  TRUE & 0.8 &  TRUE\\\\\n\\end{tabular}\n",
            "text/plain": [
              "   is_sick p_pos pos  \n",
              "1   TRUE   0.8    TRUE\n",
              "2   TRUE   0.8    TRUE\n",
              "3  FALSE   0.1   FALSE\n",
              "4   TRUE   0.8    TRUE\n",
              "5   TRUE   0.8   FALSE\n",
              "6  FALSE   0.1   FALSE\n",
              "7   TRUE   0.8   FALSE\n",
              "8  FALSE   0.1   FALSE\n",
              "9  FALSE   0.1   FALSE\n",
              "10  TRUE   0.8    TRUE"
            ]
          },
          "metadata": {}
        }
      ]
    },
    {
      "cell_type": "code",
      "source": [
        "cases %>%\n",
        "  mutate(\n",
        "    pos_if_sick = rbernoulli(10, p_pos_if_sick),\n",
        "    pos_if_healthy = rbernoulli(10, p_pos_if_healthy),\n",
        "    pos = if_else(is_sick, pos_if_sick, pos_if_healthy)\n",
        "  )"
      ],
      "metadata": {
        "colab": {
          "base_uri": "https://localhost:8080/",
          "height": 412
        },
        "id": "wZhbRSCyk1E5",
        "outputId": "0734834a-cf76-4276-da0e-893960c65ffc"
      },
      "id": "wZhbRSCyk1E5",
      "execution_count": 36,
      "outputs": [
        {
          "output_type": "display_data",
          "data": {
            "text/html": [
              "<table class=\"dataframe\">\n",
              "<caption>A tibble: 10 × 4</caption>\n",
              "<thead>\n",
              "\t<tr><th scope=col>is_sick</th><th scope=col>pos_if_sick</th><th scope=col>pos_if_healthy</th><th scope=col>pos</th></tr>\n",
              "\t<tr><th scope=col>&lt;lgl&gt;</th><th scope=col>&lt;lgl&gt;</th><th scope=col>&lt;lgl&gt;</th><th scope=col>&lt;lgl&gt;</th></tr>\n",
              "</thead>\n",
              "<tbody>\n",
              "\t<tr><td> TRUE</td><td>TRUE</td><td>FALSE</td><td> TRUE</td></tr>\n",
              "\t<tr><td> TRUE</td><td>TRUE</td><td>FALSE</td><td> TRUE</td></tr>\n",
              "\t<tr><td>FALSE</td><td>TRUE</td><td>FALSE</td><td>FALSE</td></tr>\n",
              "\t<tr><td> TRUE</td><td>TRUE</td><td> TRUE</td><td> TRUE</td></tr>\n",
              "\t<tr><td> TRUE</td><td>TRUE</td><td>FALSE</td><td> TRUE</td></tr>\n",
              "\t<tr><td>FALSE</td><td>TRUE</td><td> TRUE</td><td> TRUE</td></tr>\n",
              "\t<tr><td> TRUE</td><td>TRUE</td><td>FALSE</td><td> TRUE</td></tr>\n",
              "\t<tr><td>FALSE</td><td>TRUE</td><td>FALSE</td><td>FALSE</td></tr>\n",
              "\t<tr><td>FALSE</td><td>TRUE</td><td>FALSE</td><td>FALSE</td></tr>\n",
              "\t<tr><td> TRUE</td><td>TRUE</td><td>FALSE</td><td> TRUE</td></tr>\n",
              "</tbody>\n",
              "</table>\n"
            ],
            "text/markdown": "\nA tibble: 10 × 4\n\n| is_sick &lt;lgl&gt; | pos_if_sick &lt;lgl&gt; | pos_if_healthy &lt;lgl&gt; | pos &lt;lgl&gt; |\n|---|---|---|---|\n|  TRUE | TRUE | FALSE |  TRUE |\n|  TRUE | TRUE | FALSE |  TRUE |\n| FALSE | TRUE | FALSE | FALSE |\n|  TRUE | TRUE |  TRUE |  TRUE |\n|  TRUE | TRUE | FALSE |  TRUE |\n| FALSE | TRUE |  TRUE |  TRUE |\n|  TRUE | TRUE | FALSE |  TRUE |\n| FALSE | TRUE | FALSE | FALSE |\n| FALSE | TRUE | FALSE | FALSE |\n|  TRUE | TRUE | FALSE |  TRUE |\n\n",
            "text/latex": "A tibble: 10 × 4\n\\begin{tabular}{llll}\n is\\_sick & pos\\_if\\_sick & pos\\_if\\_healthy & pos\\\\\n <lgl> & <lgl> & <lgl> & <lgl>\\\\\n\\hline\n\t  TRUE & TRUE & FALSE &  TRUE\\\\\n\t  TRUE & TRUE & FALSE &  TRUE\\\\\n\t FALSE & TRUE & FALSE & FALSE\\\\\n\t  TRUE & TRUE &  TRUE &  TRUE\\\\\n\t  TRUE & TRUE & FALSE &  TRUE\\\\\n\t FALSE & TRUE &  TRUE &  TRUE\\\\\n\t  TRUE & TRUE & FALSE &  TRUE\\\\\n\t FALSE & TRUE & FALSE & FALSE\\\\\n\t FALSE & TRUE & FALSE & FALSE\\\\\n\t  TRUE & TRUE & FALSE &  TRUE\\\\\n\\end{tabular}\n",
            "text/plain": [
              "   is_sick pos_if_sick pos_if_healthy pos  \n",
              "1   TRUE   TRUE        FALSE           TRUE\n",
              "2   TRUE   TRUE        FALSE           TRUE\n",
              "3  FALSE   TRUE        FALSE          FALSE\n",
              "4   TRUE   TRUE         TRUE           TRUE\n",
              "5   TRUE   TRUE        FALSE           TRUE\n",
              "6  FALSE   TRUE         TRUE           TRUE\n",
              "7   TRUE   TRUE        FALSE           TRUE\n",
              "8  FALSE   TRUE        FALSE          FALSE\n",
              "9  FALSE   TRUE        FALSE          FALSE\n",
              "10  TRUE   TRUE        FALSE           TRUE"
            ]
          },
          "metadata": {}
        }
      ]
    },
    {
      "cell_type": "code",
      "source": [
        "sum(rbernoulli(50, 0.9))"
      ],
      "metadata": {
        "colab": {
          "base_uri": "https://localhost:8080/",
          "height": 34
        },
        "id": "MKvUeMaR1Gjm",
        "outputId": "7bf6344f-8141-4ae4-e3d6-8702f5fd07f8"
      },
      "id": "MKvUeMaR1Gjm",
      "execution_count": 37,
      "outputs": [
        {
          "output_type": "display_data",
          "data": {
            "text/html": [
              "46"
            ],
            "text/markdown": "46",
            "text/latex": "46",
            "text/plain": [
              "[1] 46"
            ]
          },
          "metadata": {}
        }
      ]
    },
    {
      "cell_type": "code",
      "source": [
        "sum(rbernoulli(50, 0.9))"
      ],
      "metadata": {
        "colab": {
          "base_uri": "https://localhost:8080/",
          "height": 34
        },
        "id": "Um3AW4QK1LNG",
        "outputId": "50f040a4-9c70-422f-a3ad-15bfcd628491"
      },
      "id": "Um3AW4QK1LNG",
      "execution_count": 38,
      "outputs": [
        {
          "output_type": "display_data",
          "data": {
            "text/html": [
              "49"
            ],
            "text/markdown": "49",
            "text/latex": "49",
            "text/plain": [
              "[1] 49"
            ]
          },
          "metadata": {}
        }
      ]
    },
    {
      "cell_type": "code",
      "source": [
        "many_worlds <- replicate(1e5, sum(rbernoulli(50, 0.9)))\n",
        "head(many_worlds)"
      ],
      "metadata": {
        "colab": {
          "base_uri": "https://localhost:8080/",
          "height": 34
        },
        "id": "Ctr-XODL1N2j",
        "outputId": "9451b33f-72aa-4f37-ab0e-a7b8a943c432"
      },
      "id": "Ctr-XODL1N2j",
      "execution_count": 39,
      "outputs": [
        {
          "output_type": "display_data",
          "data": {
            "text/html": [
              "<style>\n",
              ".list-inline {list-style: none; margin:0; padding: 0}\n",
              ".list-inline>li {display: inline-block}\n",
              ".list-inline>li:not(:last-child)::after {content: \"\\00b7\"; padding: 0 .5ex}\n",
              "</style>\n",
              "<ol class=list-inline><li>49</li><li>42</li><li>46</li><li>48</li><li>42</li><li>46</li></ol>\n"
            ],
            "text/markdown": "1. 49\n2. 42\n3. 46\n4. 48\n5. 42\n6. 46\n\n\n",
            "text/latex": "\\begin{enumerate*}\n\\item 49\n\\item 42\n\\item 46\n\\item 48\n\\item 42\n\\item 46\n\\end{enumerate*}\n",
            "text/plain": [
              "[1] 49 42 46 48 42 46"
            ]
          },
          "metadata": {}
        }
      ]
    },
    {
      "cell_type": "code",
      "source": [
        "mean(many_worlds)"
      ],
      "metadata": {
        "colab": {
          "base_uri": "https://localhost:8080/",
          "height": 34
        },
        "id": "hWoBuMEZLLNF",
        "outputId": "925aeba2-5627-4223-8fc2-a6c4f273619e"
      },
      "id": "hWoBuMEZLLNF",
      "execution_count": 40,
      "outputs": [
        {
          "output_type": "display_data",
          "data": {
            "text/html": [
              "44.98734"
            ],
            "text/markdown": "44.98734",
            "text/latex": "44.98734",
            "text/plain": [
              "[1] 44.98734"
            ]
          },
          "metadata": {}
        }
      ]
    },
    {
      "cell_type": "code",
      "source": [],
      "metadata": {
        "id": "uiIoh0KQLNl5"
      },
      "id": "uiIoh0KQLNl5",
      "execution_count": 41,
      "outputs": []
    }
  ],
  "metadata": {
    "colab": {
      "provenance": [],
      "collapsed_sections": [],
      "include_colab_link": true
    },
    "kernelspec": {
      "display_name": "R",
      "language": "R",
      "name": "ir"
    },
    "language_info": {
      "codemirror_mode": "r",
      "file_extension": ".r",
      "mimetype": "text/x-r-source",
      "name": "R",
      "pygments_lexer": "r",
      "version": "4.2.1"
    }
  },
  "nbformat": 4,
  "nbformat_minor": 5
}
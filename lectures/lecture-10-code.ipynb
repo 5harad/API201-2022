{
  "cells": [
    {
      "cell_type": "markdown",
      "metadata": {
        "id": "view-in-github",
        "colab_type": "text"
      },
      "source": [
        "<a href=\"https://colab.research.google.com/github/5harad/API201-students/blob/main/lectures/lecture-10-code.ipynb\" target=\"_parent\"><img src=\"https://colab.research.google.com/assets/colab-badge.svg\" alt=\"Open In Colab\"/></a>"
      ]
    },
    {
      "cell_type": "markdown",
      "id": "c8f6d4f7",
      "metadata": {
        "id": "c8f6d4f7"
      },
      "source": [
        "# Lecture 10: R review"
      ]
    },
    {
      "cell_type": "code",
      "execution_count": 1,
      "id": "1b211e6c",
      "metadata": {
        "id": "1b211e6c",
        "colab": {
          "base_uri": "https://localhost:8080/"
        },
        "outputId": "135bf675-a400-4026-efd7-0ed377afe98e"
      },
      "outputs": [
        {
          "output_type": "stream",
          "name": "stderr",
          "text": [
            "Warning message in system(\"timedatectl\", intern = TRUE):\n",
            "“running command 'timedatectl' had status 1”\n",
            "── \u001b[1mAttaching packages\u001b[22m ─────────────────────────────────────── tidyverse 1.3.1 ──\n",
            "\n",
            "\u001b[32m✔\u001b[39m \u001b[34mggplot2\u001b[39m 3.3.6      \u001b[32m✔\u001b[39m \u001b[34mpurrr  \u001b[39m 0.3.4 \n",
            "\u001b[32m✔\u001b[39m \u001b[34mtibble \u001b[39m 3.1.7      \u001b[32m✔\u001b[39m \u001b[34mdplyr  \u001b[39m 1.0.10\n",
            "\u001b[32m✔\u001b[39m \u001b[34mtidyr  \u001b[39m 1.2.1      \u001b[32m✔\u001b[39m \u001b[34mstringr\u001b[39m 1.4.1 \n",
            "\u001b[32m✔\u001b[39m \u001b[34mreadr  \u001b[39m 2.1.2      \u001b[32m✔\u001b[39m \u001b[34mforcats\u001b[39m 0.5.2 \n",
            "\n",
            "── \u001b[1mConflicts\u001b[22m ────────────────────────────────────────── tidyverse_conflicts() ──\n",
            "\u001b[31m✖\u001b[39m \u001b[34mdplyr\u001b[39m::\u001b[32mfilter()\u001b[39m masks \u001b[34mstats\u001b[39m::filter()\n",
            "\u001b[31m✖\u001b[39m \u001b[34mdplyr\u001b[39m::\u001b[32mlag()\u001b[39m    masks \u001b[34mstats\u001b[39m::lag()\n",
            "\n"
          ]
        }
      ],
      "source": [
        "library(tidyverse)\n",
        "\n",
        "# set a simple black & white theme for our plots\n",
        "theme_set(theme_bw())\n",
        "\n",
        "# load the WEO data\n",
        "load(url('https://github.com/5harad/API201-students/blob/main/data/weo.Rdata?raw=true'))\n",
        "weo <- weo %>%\n",
        "  select(country, continent, pop_2020, rgdp_2020)"
      ]
    },
    {
      "cell_type": "markdown",
      "id": "c8813e64",
      "metadata": {
        "id": "c8813e64"
      },
      "source": [
        "## Part 1: Fundamentals\n",
        "\n",
        "---\n",
        "\n"
      ]
    },
    {
      "cell_type": "code",
      "source": [
        "age <- 25\n",
        "age"
      ],
      "metadata": {
        "colab": {
          "base_uri": "https://localhost:8080/",
          "height": 34
        },
        "id": "UdQylLjU1rKF",
        "outputId": "fe9ee3e2-97e4-46c7-db13-59881b16c232"
      },
      "id": "UdQylLjU1rKF",
      "execution_count": 2,
      "outputs": [
        {
          "output_type": "display_data",
          "data": {
            "text/html": [
              "25"
            ],
            "text/markdown": "25",
            "text/latex": "25",
            "text/plain": [
              "[1] 25"
            ]
          },
          "metadata": {}
        }
      ]
    },
    {
      "cell_type": "code",
      "source": [
        "dogs <- c('wolfie', 'bmo')\n",
        "dogs"
      ],
      "metadata": {
        "colab": {
          "base_uri": "https://localhost:8080/",
          "height": 34
        },
        "id": "x3VKpX4W1t75",
        "outputId": "25b3a1f5-b1b7-4ad2-c958-3568232ccf8b"
      },
      "id": "x3VKpX4W1t75",
      "execution_count": 3,
      "outputs": [
        {
          "output_type": "display_data",
          "data": {
            "text/html": [
              "<style>\n",
              ".list-inline {list-style: none; margin:0; padding: 0}\n",
              ".list-inline>li {display: inline-block}\n",
              ".list-inline>li:not(:last-child)::after {content: \"\\00b7\"; padding: 0 .5ex}\n",
              "</style>\n",
              "<ol class=list-inline><li>'wolfie'</li><li>'bmo'</li></ol>\n"
            ],
            "text/markdown": "1. 'wolfie'\n2. 'bmo'\n\n\n",
            "text/latex": "\\begin{enumerate*}\n\\item 'wolfie'\n\\item 'bmo'\n\\end{enumerate*}\n",
            "text/plain": [
              "[1] \"wolfie\" \"bmo\"   "
            ]
          },
          "metadata": {}
        }
      ]
    },
    {
      "cell_type": "code",
      "source": [
        "cats <- c('blue', 'elmo')\n",
        "cats"
      ],
      "metadata": {
        "colab": {
          "base_uri": "https://localhost:8080/",
          "height": 34
        },
        "id": "qnILGdgl1xud",
        "outputId": "c9807369-36bc-4b80-d516-8d067c8338ea"
      },
      "id": "qnILGdgl1xud",
      "execution_count": 4,
      "outputs": [
        {
          "output_type": "display_data",
          "data": {
            "text/html": [
              "<style>\n",
              ".list-inline {list-style: none; margin:0; padding: 0}\n",
              ".list-inline>li {display: inline-block}\n",
              ".list-inline>li:not(:last-child)::after {content: \"\\00b7\"; padding: 0 .5ex}\n",
              "</style>\n",
              "<ol class=list-inline><li>'blue'</li><li>'elmo'</li></ol>\n"
            ],
            "text/markdown": "1. 'blue'\n2. 'elmo'\n\n\n",
            "text/latex": "\\begin{enumerate*}\n\\item 'blue'\n\\item 'elmo'\n\\end{enumerate*}\n",
            "text/plain": [
              "[1] \"blue\" \"elmo\""
            ]
          },
          "metadata": {}
        }
      ]
    },
    {
      "cell_type": "code",
      "source": [
        "pets <- c(dogs, cats)\n",
        "pets"
      ],
      "metadata": {
        "colab": {
          "base_uri": "https://localhost:8080/",
          "height": 34
        },
        "id": "DULKa8rY2FzI",
        "outputId": "3425ee39-27b3-427d-8764-c4b3f67b9324"
      },
      "id": "DULKa8rY2FzI",
      "execution_count": 5,
      "outputs": [
        {
          "output_type": "display_data",
          "data": {
            "text/html": [
              "<style>\n",
              ".list-inline {list-style: none; margin:0; padding: 0}\n",
              ".list-inline>li {display: inline-block}\n",
              ".list-inline>li:not(:last-child)::after {content: \"\\00b7\"; padding: 0 .5ex}\n",
              "</style>\n",
              "<ol class=list-inline><li>'wolfie'</li><li>'bmo'</li><li>'blue'</li><li>'elmo'</li></ol>\n"
            ],
            "text/markdown": "1. 'wolfie'\n2. 'bmo'\n3. 'blue'\n4. 'elmo'\n\n\n",
            "text/latex": "\\begin{enumerate*}\n\\item 'wolfie'\n\\item 'bmo'\n\\item 'blue'\n\\item 'elmo'\n\\end{enumerate*}\n",
            "text/plain": [
              "[1] \"wolfie\" \"bmo\"    \"blue\"   \"elmo\"  "
            ]
          },
          "metadata": {}
        }
      ]
    },
    {
      "cell_type": "code",
      "source": [
        "(2+3)*5/4"
      ],
      "metadata": {
        "colab": {
          "base_uri": "https://localhost:8080/",
          "height": 34
        },
        "id": "0uIagTtu2MNn",
        "outputId": "8158046a-f801-4e84-ffe4-6b1a93bda54e"
      },
      "id": "0uIagTtu2MNn",
      "execution_count": 6,
      "outputs": [
        {
          "output_type": "display_data",
          "data": {
            "text/html": [
              "6.25"
            ],
            "text/markdown": "6.25",
            "text/latex": "6.25",
            "text/plain": [
              "[1] 6.25"
            ]
          },
          "metadata": {}
        }
      ]
    },
    {
      "cell_type": "code",
      "source": [
        "my_var <- c(TRUE, FALSE)\n",
        "my_var"
      ],
      "metadata": {
        "colab": {
          "base_uri": "https://localhost:8080/",
          "height": 34
        },
        "id": "JWZ_SS2e2Ml_",
        "outputId": "391b6f8e-8daf-42ae-b134-6919736b3e48"
      },
      "id": "JWZ_SS2e2Ml_",
      "execution_count": 7,
      "outputs": [
        {
          "output_type": "display_data",
          "data": {
            "text/html": [
              "<style>\n",
              ".list-inline {list-style: none; margin:0; padding: 0}\n",
              ".list-inline>li {display: inline-block}\n",
              ".list-inline>li:not(:last-child)::after {content: \"\\00b7\"; padding: 0 .5ex}\n",
              "</style>\n",
              "<ol class=list-inline><li>TRUE</li><li>FALSE</li></ol>\n"
            ],
            "text/markdown": "1. TRUE\n2. FALSE\n\n\n",
            "text/latex": "\\begin{enumerate*}\n\\item TRUE\n\\item FALSE\n\\end{enumerate*}\n",
            "text/plain": [
              "[1]  TRUE FALSE"
            ]
          },
          "metadata": {}
        }
      ]
    },
    {
      "cell_type": "code",
      "source": [
        "2 == 3"
      ],
      "metadata": {
        "colab": {
          "base_uri": "https://localhost:8080/",
          "height": 34
        },
        "id": "m7xv-J4t2Ta1",
        "outputId": "cd2e4d02-d811-4ae7-9f53-4d27dcb96e93"
      },
      "id": "m7xv-J4t2Ta1",
      "execution_count": 8,
      "outputs": [
        {
          "output_type": "display_data",
          "data": {
            "text/html": [
              "FALSE"
            ],
            "text/markdown": "FALSE",
            "text/latex": "FALSE",
            "text/plain": [
              "[1] FALSE"
            ]
          },
          "metadata": {}
        }
      ]
    },
    {
      "cell_type": "code",
      "source": [
        "3 >= 1"
      ],
      "metadata": {
        "colab": {
          "base_uri": "https://localhost:8080/",
          "height": 34
        },
        "id": "GaLp7IA02XX6",
        "outputId": "6e5e2cc1-0150-42c4-9213-efea499a605e"
      },
      "id": "GaLp7IA02XX6",
      "execution_count": 9,
      "outputs": [
        {
          "output_type": "display_data",
          "data": {
            "text/html": [
              "TRUE"
            ],
            "text/markdown": "TRUE",
            "text/latex": "TRUE",
            "text/plain": [
              "[1] TRUE"
            ]
          },
          "metadata": {}
        }
      ]
    },
    {
      "cell_type": "code",
      "source": [
        "seq(5,10)"
      ],
      "metadata": {
        "colab": {
          "base_uri": "https://localhost:8080/",
          "height": 34
        },
        "id": "-w9l-SXN2l_E",
        "outputId": "101084f6-7e1e-46f7-96ee-75acebee5747"
      },
      "id": "-w9l-SXN2l_E",
      "execution_count": 10,
      "outputs": [
        {
          "output_type": "display_data",
          "data": {
            "text/html": [
              "<style>\n",
              ".list-inline {list-style: none; margin:0; padding: 0}\n",
              ".list-inline>li {display: inline-block}\n",
              ".list-inline>li:not(:last-child)::after {content: \"\\00b7\"; padding: 0 .5ex}\n",
              "</style>\n",
              "<ol class=list-inline><li>5</li><li>6</li><li>7</li><li>8</li><li>9</li><li>10</li></ol>\n"
            ],
            "text/markdown": "1. 5\n2. 6\n3. 7\n4. 8\n5. 9\n6. 10\n\n\n",
            "text/latex": "\\begin{enumerate*}\n\\item 5\n\\item 6\n\\item 7\n\\item 8\n\\item 9\n\\item 10\n\\end{enumerate*}\n",
            "text/plain": [
              "[1]  5  6  7  8  9 10"
            ]
          },
          "metadata": {}
        }
      ]
    },
    {
      "cell_type": "code",
      "source": [
        "5:10"
      ],
      "metadata": {
        "colab": {
          "base_uri": "https://localhost:8080/",
          "height": 34
        },
        "id": "p9F2cyS02mUw",
        "outputId": "a8313967-914a-4a78-df43-a62574a46469"
      },
      "id": "p9F2cyS02mUw",
      "execution_count": 11,
      "outputs": [
        {
          "output_type": "display_data",
          "data": {
            "text/html": [
              "<style>\n",
              ".list-inline {list-style: none; margin:0; padding: 0}\n",
              ".list-inline>li {display: inline-block}\n",
              ".list-inline>li:not(:last-child)::after {content: \"\\00b7\"; padding: 0 .5ex}\n",
              "</style>\n",
              "<ol class=list-inline><li>5</li><li>6</li><li>7</li><li>8</li><li>9</li><li>10</li></ol>\n"
            ],
            "text/markdown": "1. 5\n2. 6\n3. 7\n4. 8\n5. 9\n6. 10\n\n\n",
            "text/latex": "\\begin{enumerate*}\n\\item 5\n\\item 6\n\\item 7\n\\item 8\n\\item 9\n\\item 10\n\\end{enumerate*}\n",
            "text/plain": [
              "[1]  5  6  7  8  9 10"
            ]
          },
          "metadata": {}
        }
      ]
    },
    {
      "cell_type": "code",
      "source": [
        "long_list <- seq(1,100)\n",
        "head(long_list)"
      ],
      "metadata": {
        "colab": {
          "base_uri": "https://localhost:8080/",
          "height": 34
        },
        "id": "nhqkxVu02orU",
        "outputId": "ea763660-1b3d-4abf-fa18-ed6928b34822"
      },
      "id": "nhqkxVu02orU",
      "execution_count": 12,
      "outputs": [
        {
          "output_type": "display_data",
          "data": {
            "text/html": [
              "<style>\n",
              ".list-inline {list-style: none; margin:0; padding: 0}\n",
              ".list-inline>li {display: inline-block}\n",
              ".list-inline>li:not(:last-child)::after {content: \"\\00b7\"; padding: 0 .5ex}\n",
              "</style>\n",
              "<ol class=list-inline><li>1</li><li>2</li><li>3</li><li>4</li><li>5</li><li>6</li></ol>\n"
            ],
            "text/markdown": "1. 1\n2. 2\n3. 3\n4. 4\n5. 5\n6. 6\n\n\n",
            "text/latex": "\\begin{enumerate*}\n\\item 1\n\\item 2\n\\item 3\n\\item 4\n\\item 5\n\\item 6\n\\end{enumerate*}\n",
            "text/plain": [
              "[1] 1 2 3 4 5 6"
            ]
          },
          "metadata": {}
        }
      ]
    },
    {
      "cell_type": "code",
      "source": [
        "length(long_list)"
      ],
      "metadata": {
        "colab": {
          "base_uri": "https://localhost:8080/",
          "height": 34
        },
        "id": "csDKg3zYfgi_",
        "outputId": "77d45802-131b-4814-d2ca-36455f51ec39"
      },
      "id": "csDKg3zYfgi_",
      "execution_count": 13,
      "outputs": [
        {
          "output_type": "display_data",
          "data": {
            "text/html": [
              "100"
            ],
            "text/markdown": "100",
            "text/latex": "100",
            "text/plain": [
              "[1] 100"
            ]
          },
          "metadata": {}
        }
      ]
    },
    {
      "cell_type": "code",
      "source": [
        "my_vec <- seq(5,10)\n",
        "my_vec"
      ],
      "metadata": {
        "colab": {
          "base_uri": "https://localhost:8080/",
          "height": 34
        },
        "id": "jxPd69dY2xAJ",
        "outputId": "c0bdf924-59f8-4ec2-8b8e-df59b22a5fdd"
      },
      "id": "jxPd69dY2xAJ",
      "execution_count": 14,
      "outputs": [
        {
          "output_type": "display_data",
          "data": {
            "text/html": [
              "<style>\n",
              ".list-inline {list-style: none; margin:0; padding: 0}\n",
              ".list-inline>li {display: inline-block}\n",
              ".list-inline>li:not(:last-child)::after {content: \"\\00b7\"; padding: 0 .5ex}\n",
              "</style>\n",
              "<ol class=list-inline><li>5</li><li>6</li><li>7</li><li>8</li><li>9</li><li>10</li></ol>\n"
            ],
            "text/markdown": "1. 5\n2. 6\n3. 7\n4. 8\n5. 9\n6. 10\n\n\n",
            "text/latex": "\\begin{enumerate*}\n\\item 5\n\\item 6\n\\item 7\n\\item 8\n\\item 9\n\\item 10\n\\end{enumerate*}\n",
            "text/plain": [
              "[1]  5  6  7  8  9 10"
            ]
          },
          "metadata": {}
        }
      ]
    },
    {
      "cell_type": "code",
      "source": [
        "sum(my_vec)"
      ],
      "metadata": {
        "colab": {
          "base_uri": "https://localhost:8080/",
          "height": 34
        },
        "id": "lNrSnE3BgBgY",
        "outputId": "1f32f297-1418-4f82-aa58-339b9f65a6a7"
      },
      "id": "lNrSnE3BgBgY",
      "execution_count": 15,
      "outputs": [
        {
          "output_type": "display_data",
          "data": {
            "text/html": [
              "45"
            ],
            "text/markdown": "45",
            "text/latex": "45",
            "text/plain": [
              "[1] 45"
            ]
          },
          "metadata": {}
        }
      ]
    },
    {
      "cell_type": "code",
      "source": [
        "mean(my_vec)"
      ],
      "metadata": {
        "colab": {
          "base_uri": "https://localhost:8080/",
          "height": 34
        },
        "id": "323wMzAugFcu",
        "outputId": "1f69dc6c-16d6-44c8-a639-e4c1b17e8b66"
      },
      "id": "323wMzAugFcu",
      "execution_count": 16,
      "outputs": [
        {
          "output_type": "display_data",
          "data": {
            "text/html": [
              "7.5"
            ],
            "text/markdown": "7.5",
            "text/latex": "7.5",
            "text/plain": [
              "[1] 7.5"
            ]
          },
          "metadata": {}
        }
      ]
    },
    {
      "cell_type": "code",
      "source": [
        "b_vec <- c(TRUE, TRUE, FALSE)\n",
        "sum(b_vec)"
      ],
      "metadata": {
        "colab": {
          "base_uri": "https://localhost:8080/",
          "height": 34
        },
        "id": "fhwGqD998KN6",
        "outputId": "0cbe939f-0b5b-44ec-8d4a-36135a8aec93"
      },
      "id": "fhwGqD998KN6",
      "execution_count": 17,
      "outputs": [
        {
          "output_type": "display_data",
          "data": {
            "text/html": [
              "2"
            ],
            "text/markdown": "2",
            "text/latex": "2",
            "text/plain": [
              "[1] 2"
            ]
          },
          "metadata": {}
        }
      ]
    },
    {
      "cell_type": "code",
      "source": [
        "mean(b_vec)"
      ],
      "metadata": {
        "colab": {
          "base_uri": "https://localhost:8080/",
          "height": 34
        },
        "id": "CKgEyPfj8WDW",
        "outputId": "78b9a3d8-d55c-4623-a425-1be2a48eb0cc"
      },
      "id": "CKgEyPfj8WDW",
      "execution_count": 18,
      "outputs": [
        {
          "output_type": "display_data",
          "data": {
            "text/html": [
              "0.666666666666667"
            ],
            "text/markdown": "0.666666666666667",
            "text/latex": "0.666666666666667",
            "text/plain": [
              "[1] 0.6666667"
            ]
          },
          "metadata": {}
        }
      ]
    },
    {
      "cell_type": "code",
      "source": [
        "ages <- c(28, 45, 15, 8, 83, 3, 42, 35, 12, 50)"
      ],
      "metadata": {
        "id": "hX2JaTRFcwdP"
      },
      "id": "hX2JaTRFcwdP",
      "execution_count": 19,
      "outputs": []
    },
    {
      "cell_type": "code",
      "source": [
        "ages >= 25"
      ],
      "metadata": {
        "colab": {
          "base_uri": "https://localhost:8080/",
          "height": 34
        },
        "id": "MBAS3_vtcwSS",
        "outputId": "1d669d1b-88cd-4888-8e31-39b07db0ef19"
      },
      "id": "MBAS3_vtcwSS",
      "execution_count": 20,
      "outputs": [
        {
          "output_type": "display_data",
          "data": {
            "text/html": [
              "<style>\n",
              ".list-inline {list-style: none; margin:0; padding: 0}\n",
              ".list-inline>li {display: inline-block}\n",
              ".list-inline>li:not(:last-child)::after {content: \"\\00b7\"; padding: 0 .5ex}\n",
              "</style>\n",
              "<ol class=list-inline><li>TRUE</li><li>TRUE</li><li>FALSE</li><li>FALSE</li><li>TRUE</li><li>FALSE</li><li>TRUE</li><li>TRUE</li><li>FALSE</li><li>TRUE</li></ol>\n"
            ],
            "text/markdown": "1. TRUE\n2. TRUE\n3. FALSE\n4. FALSE\n5. TRUE\n6. FALSE\n7. TRUE\n8. TRUE\n9. FALSE\n10. TRUE\n\n\n",
            "text/latex": "\\begin{enumerate*}\n\\item TRUE\n\\item TRUE\n\\item FALSE\n\\item FALSE\n\\item TRUE\n\\item FALSE\n\\item TRUE\n\\item TRUE\n\\item FALSE\n\\item TRUE\n\\end{enumerate*}\n",
            "text/plain": [
              " [1]  TRUE  TRUE FALSE FALSE  TRUE FALSE  TRUE  TRUE FALSE  TRUE"
            ]
          },
          "metadata": {}
        }
      ]
    },
    {
      "cell_type": "code",
      "source": [
        "mean(ages >= 25)"
      ],
      "metadata": {
        "colab": {
          "base_uri": "https://localhost:8080/",
          "height": 34
        },
        "id": "LIep6cJmdCiU",
        "outputId": "de11d6f8-49a9-431d-991b-abdef78bb703"
      },
      "id": "LIep6cJmdCiU",
      "execution_count": 21,
      "outputs": [
        {
          "output_type": "display_data",
          "data": {
            "text/html": [
              "0.6"
            ],
            "text/markdown": "0.6",
            "text/latex": "0.6",
            "text/plain": [
              "[1] 0.6"
            ]
          },
          "metadata": {}
        }
      ]
    },
    {
      "cell_type": "markdown",
      "source": [
        "## Part 2: Data frames\n"
      ],
      "metadata": {
        "id": "wkZRi8WBxpK3"
      },
      "id": "wkZRi8WBxpK3"
    },
    {
      "cell_type": "code",
      "source": [
        "pets <- tibble(\n",
        "  name = c('wolfie','bmo','blue','elmo'),\n",
        "  is_dog = c(TRUE, TRUE, FALSE, FALSE),\n",
        "  age = c(2, 3, 1.5, 4)\n",
        ")\n",
        "pets"
      ],
      "metadata": {
        "colab": {
          "base_uri": "https://localhost:8080/",
          "height": 224
        },
        "id": "TtXuHBId8YGV",
        "outputId": "9cefbda2-5da3-4630-9121-31ce1a839d3f"
      },
      "id": "TtXuHBId8YGV",
      "execution_count": 22,
      "outputs": [
        {
          "output_type": "display_data",
          "data": {
            "text/html": [
              "<table class=\"dataframe\">\n",
              "<caption>A tibble: 4 × 3</caption>\n",
              "<thead>\n",
              "\t<tr><th scope=col>name</th><th scope=col>is_dog</th><th scope=col>age</th></tr>\n",
              "\t<tr><th scope=col>&lt;chr&gt;</th><th scope=col>&lt;lgl&gt;</th><th scope=col>&lt;dbl&gt;</th></tr>\n",
              "</thead>\n",
              "<tbody>\n",
              "\t<tr><td>wolfie</td><td> TRUE</td><td>2.0</td></tr>\n",
              "\t<tr><td>bmo   </td><td> TRUE</td><td>3.0</td></tr>\n",
              "\t<tr><td>blue  </td><td>FALSE</td><td>1.5</td></tr>\n",
              "\t<tr><td>elmo  </td><td>FALSE</td><td>4.0</td></tr>\n",
              "</tbody>\n",
              "</table>\n"
            ],
            "text/markdown": "\nA tibble: 4 × 3\n\n| name &lt;chr&gt; | is_dog &lt;lgl&gt; | age &lt;dbl&gt; |\n|---|---|---|\n| wolfie |  TRUE | 2.0 |\n| bmo    |  TRUE | 3.0 |\n| blue   | FALSE | 1.5 |\n| elmo   | FALSE | 4.0 |\n\n",
            "text/latex": "A tibble: 4 × 3\n\\begin{tabular}{lll}\n name & is\\_dog & age\\\\\n <chr> & <lgl> & <dbl>\\\\\n\\hline\n\t wolfie &  TRUE & 2.0\\\\\n\t bmo    &  TRUE & 3.0\\\\\n\t blue   & FALSE & 1.5\\\\\n\t elmo   & FALSE & 4.0\\\\\n\\end{tabular}\n",
            "text/plain": [
              "  name   is_dog age\n",
              "1 wolfie  TRUE  2.0\n",
              "2 bmo     TRUE  3.0\n",
              "3 blue   FALSE  1.5\n",
              "4 elmo   FALSE  4.0"
            ]
          },
          "metadata": {}
        }
      ]
    },
    {
      "cell_type": "code",
      "source": [
        "head(weo)"
      ],
      "metadata": {
        "colab": {
          "base_uri": "https://localhost:8080/",
          "height": 286
        },
        "id": "2Qcx0PnzQBQ4",
        "outputId": "a944bdd3-76d8-4464-8beb-8e63e1e70f0d"
      },
      "id": "2Qcx0PnzQBQ4",
      "execution_count": 23,
      "outputs": [
        {
          "output_type": "display_data",
          "data": {
            "text/html": [
              "<table class=\"dataframe\">\n",
              "<caption>A tibble: 6 × 4</caption>\n",
              "<thead>\n",
              "\t<tr><th scope=col>country</th><th scope=col>continent</th><th scope=col>pop_2020</th><th scope=col>rgdp_2020</th></tr>\n",
              "\t<tr><th scope=col>&lt;chr&gt;</th><th scope=col>&lt;chr&gt;</th><th scope=col>&lt;dbl&gt;</th><th scope=col>&lt;dbl&gt;</th></tr>\n",
              "</thead>\n",
              "<tbody>\n",
              "\t<tr><td>Afghanistan        </td><td>Asia         </td><td>37.000</td><td> 69202.210</td></tr>\n",
              "\t<tr><td>Albania            </td><td>Europe       </td><td> 2.865</td><td> 36628.799</td></tr>\n",
              "\t<tr><td>Algeria            </td><td>Africa       </td><td>43.863</td><td>621442.475</td></tr>\n",
              "\t<tr><td>Angola             </td><td>Africa       </td><td>30.793</td><td>187947.539</td></tr>\n",
              "\t<tr><td>Antigua and Barbuda</td><td>North America</td><td> 0.094</td><td>  2376.677</td></tr>\n",
              "\t<tr><td>Argentina          </td><td>South America</td><td>45.561</td><td>909620.490</td></tr>\n",
              "</tbody>\n",
              "</table>\n"
            ],
            "text/markdown": "\nA tibble: 6 × 4\n\n| country &lt;chr&gt; | continent &lt;chr&gt; | pop_2020 &lt;dbl&gt; | rgdp_2020 &lt;dbl&gt; |\n|---|---|---|---|\n| Afghanistan         | Asia          | 37.000 |  69202.210 |\n| Albania             | Europe        |  2.865 |  36628.799 |\n| Algeria             | Africa        | 43.863 | 621442.475 |\n| Angola              | Africa        | 30.793 | 187947.539 |\n| Antigua and Barbuda | North America |  0.094 |   2376.677 |\n| Argentina           | South America | 45.561 | 909620.490 |\n\n",
            "text/latex": "A tibble: 6 × 4\n\\begin{tabular}{llll}\n country & continent & pop\\_2020 & rgdp\\_2020\\\\\n <chr> & <chr> & <dbl> & <dbl>\\\\\n\\hline\n\t Afghanistan         & Asia          & 37.000 &  69202.210\\\\\n\t Albania             & Europe        &  2.865 &  36628.799\\\\\n\t Algeria             & Africa        & 43.863 & 621442.475\\\\\n\t Angola              & Africa        & 30.793 & 187947.539\\\\\n\t Antigua and Barbuda & North America &  0.094 &   2376.677\\\\\n\t Argentina           & South America & 45.561 & 909620.490\\\\\n\\end{tabular}\n",
            "text/plain": [
              "  country             continent     pop_2020 rgdp_2020 \n",
              "1 Afghanistan         Asia          37.000    69202.210\n",
              "2 Albania             Europe         2.865    36628.799\n",
              "3 Algeria             Africa        43.863   621442.475\n",
              "4 Angola              Africa        30.793   187947.539\n",
              "5 Antigua and Barbuda North America  0.094     2376.677\n",
              "6 Argentina           South America 45.561   909620.490"
            ]
          },
          "metadata": {}
        }
      ]
    },
    {
      "cell_type": "code",
      "source": [
        "asian_countries <- weo %>%\n",
        "  filter(continent == 'Asia')\n",
        "\n",
        "head(asian_countries)"
      ],
      "metadata": {
        "colab": {
          "base_uri": "https://localhost:8080/",
          "height": 286
        },
        "id": "tS8iwEZDQB_u",
        "outputId": "41b39be1-06eb-4a92-cea9-fd72f98fb5a7"
      },
      "id": "tS8iwEZDQB_u",
      "execution_count": 24,
      "outputs": [
        {
          "output_type": "display_data",
          "data": {
            "text/html": [
              "<table class=\"dataframe\">\n",
              "<caption>A tibble: 6 × 4</caption>\n",
              "<thead>\n",
              "\t<tr><th scope=col>country</th><th scope=col>continent</th><th scope=col>pop_2020</th><th scope=col>rgdp_2020</th></tr>\n",
              "\t<tr><th scope=col>&lt;chr&gt;</th><th scope=col>&lt;chr&gt;</th><th scope=col>&lt;dbl&gt;</th><th scope=col>&lt;dbl&gt;</th></tr>\n",
              "</thead>\n",
              "<tbody>\n",
              "\t<tr><td>Afghanistan</td><td>Asia</td><td> 37.000</td><td> 69202.210</td></tr>\n",
              "\t<tr><td>Armenia    </td><td>Asia</td><td>  2.992</td><td> 28537.651</td></tr>\n",
              "\t<tr><td>Azerbaijan </td><td>Asia</td><td> 10.180</td><td>171843.704</td></tr>\n",
              "\t<tr><td>Bahrain    </td><td>Asia</td><td>  1.541</td><td> 69104.633</td></tr>\n",
              "\t<tr><td>Bangladesh </td><td>Asia</td><td>168.312</td><td>766751.712</td></tr>\n",
              "\t<tr><td>Bhutan     </td><td>Asia</td><td>  0.844</td><td>  8060.906</td></tr>\n",
              "</tbody>\n",
              "</table>\n"
            ],
            "text/markdown": "\nA tibble: 6 × 4\n\n| country &lt;chr&gt; | continent &lt;chr&gt; | pop_2020 &lt;dbl&gt; | rgdp_2020 &lt;dbl&gt; |\n|---|---|---|---|\n| Afghanistan | Asia |  37.000 |  69202.210 |\n| Armenia     | Asia |   2.992 |  28537.651 |\n| Azerbaijan  | Asia |  10.180 | 171843.704 |\n| Bahrain     | Asia |   1.541 |  69104.633 |\n| Bangladesh  | Asia | 168.312 | 766751.712 |\n| Bhutan      | Asia |   0.844 |   8060.906 |\n\n",
            "text/latex": "A tibble: 6 × 4\n\\begin{tabular}{llll}\n country & continent & pop\\_2020 & rgdp\\_2020\\\\\n <chr> & <chr> & <dbl> & <dbl>\\\\\n\\hline\n\t Afghanistan & Asia &  37.000 &  69202.210\\\\\n\t Armenia     & Asia &   2.992 &  28537.651\\\\\n\t Azerbaijan  & Asia &  10.180 & 171843.704\\\\\n\t Bahrain     & Asia &   1.541 &  69104.633\\\\\n\t Bangladesh  & Asia & 168.312 & 766751.712\\\\\n\t Bhutan      & Asia &   0.844 &   8060.906\\\\\n\\end{tabular}\n",
            "text/plain": [
              "  country     continent pop_2020 rgdp_2020 \n",
              "1 Afghanistan Asia       37.000   69202.210\n",
              "2 Armenia     Asia        2.992   28537.651\n",
              "3 Azerbaijan  Asia       10.180  171843.704\n",
              "4 Bahrain     Asia        1.541   69104.633\n",
              "5 Bangladesh  Asia      168.312  766751.712\n",
              "6 Bhutan      Asia        0.844    8060.906"
            ]
          },
          "metadata": {}
        }
      ]
    },
    {
      "cell_type": "code",
      "source": [
        "asian_countries <- weo %>%\n",
        "  filter(continent == 'Asia') %>%\n",
        "  mutate(rgdp_per_capita = rgdp_2020 / pop_2020)\n",
        "\n",
        "head(asian_countries)"
      ],
      "metadata": {
        "colab": {
          "base_uri": "https://localhost:8080/",
          "height": 286
        },
        "id": "U6DGST7SQIrA",
        "outputId": "882601e6-01ed-4970-b421-90f0ff63c833"
      },
      "id": "U6DGST7SQIrA",
      "execution_count": 25,
      "outputs": [
        {
          "output_type": "display_data",
          "data": {
            "text/html": [
              "<table class=\"dataframe\">\n",
              "<caption>A tibble: 6 × 5</caption>\n",
              "<thead>\n",
              "\t<tr><th scope=col>country</th><th scope=col>continent</th><th scope=col>pop_2020</th><th scope=col>rgdp_2020</th><th scope=col>rgdp_per_capita</th></tr>\n",
              "\t<tr><th scope=col>&lt;chr&gt;</th><th scope=col>&lt;chr&gt;</th><th scope=col>&lt;dbl&gt;</th><th scope=col>&lt;dbl&gt;</th><th scope=col>&lt;dbl&gt;</th></tr>\n",
              "</thead>\n",
              "<tbody>\n",
              "\t<tr><td>Afghanistan</td><td>Asia</td><td> 37.000</td><td> 69202.210</td><td> 1870.330</td></tr>\n",
              "\t<tr><td>Armenia    </td><td>Asia</td><td>  2.992</td><td> 28537.651</td><td> 9537.985</td></tr>\n",
              "\t<tr><td>Azerbaijan </td><td>Asia</td><td> 10.180</td><td>171843.704</td><td>16880.521</td></tr>\n",
              "\t<tr><td>Bahrain    </td><td>Asia</td><td>  1.541</td><td> 69104.633</td><td>44844.019</td></tr>\n",
              "\t<tr><td>Bangladesh </td><td>Asia</td><td>168.312</td><td>766751.712</td><td> 4555.538</td></tr>\n",
              "\t<tr><td>Bhutan     </td><td>Asia</td><td>  0.844</td><td>  8060.906</td><td> 9550.836</td></tr>\n",
              "</tbody>\n",
              "</table>\n"
            ],
            "text/markdown": "\nA tibble: 6 × 5\n\n| country &lt;chr&gt; | continent &lt;chr&gt; | pop_2020 &lt;dbl&gt; | rgdp_2020 &lt;dbl&gt; | rgdp_per_capita &lt;dbl&gt; |\n|---|---|---|---|---|\n| Afghanistan | Asia |  37.000 |  69202.210 |  1870.330 |\n| Armenia     | Asia |   2.992 |  28537.651 |  9537.985 |\n| Azerbaijan  | Asia |  10.180 | 171843.704 | 16880.521 |\n| Bahrain     | Asia |   1.541 |  69104.633 | 44844.019 |\n| Bangladesh  | Asia | 168.312 | 766751.712 |  4555.538 |\n| Bhutan      | Asia |   0.844 |   8060.906 |  9550.836 |\n\n",
            "text/latex": "A tibble: 6 × 5\n\\begin{tabular}{lllll}\n country & continent & pop\\_2020 & rgdp\\_2020 & rgdp\\_per\\_capita\\\\\n <chr> & <chr> & <dbl> & <dbl> & <dbl>\\\\\n\\hline\n\t Afghanistan & Asia &  37.000 &  69202.210 &  1870.330\\\\\n\t Armenia     & Asia &   2.992 &  28537.651 &  9537.985\\\\\n\t Azerbaijan  & Asia &  10.180 & 171843.704 & 16880.521\\\\\n\t Bahrain     & Asia &   1.541 &  69104.633 & 44844.019\\\\\n\t Bangladesh  & Asia & 168.312 & 766751.712 &  4555.538\\\\\n\t Bhutan      & Asia &   0.844 &   8060.906 &  9550.836\\\\\n\\end{tabular}\n",
            "text/plain": [
              "  country     continent pop_2020 rgdp_2020  rgdp_per_capita\n",
              "1 Afghanistan Asia       37.000   69202.210  1870.330      \n",
              "2 Armenia     Asia        2.992   28537.651  9537.985      \n",
              "3 Azerbaijan  Asia       10.180  171843.704 16880.521      \n",
              "4 Bahrain     Asia        1.541   69104.633 44844.019      \n",
              "5 Bangladesh  Asia      168.312  766751.712  4555.538      \n",
              "6 Bhutan      Asia        0.844    8060.906  9550.836      "
            ]
          },
          "metadata": {}
        }
      ]
    },
    {
      "cell_type": "code",
      "source": [
        "weo %>%\n",
        "  group_by(continent) %>%\n",
        "  summarize(avg_gdp = mean(rgdp_2020))"
      ],
      "metadata": {
        "colab": {
          "base_uri": "https://localhost:8080/",
          "height": 286
        },
        "id": "6zUGTUaYQI--",
        "outputId": "b650fc0b-2baf-4ee7-895f-fcbe7b6e3103"
      },
      "id": "6zUGTUaYQI--",
      "execution_count": 26,
      "outputs": [
        {
          "output_type": "display_data",
          "data": {
            "text/html": [
              "<table class=\"dataframe\">\n",
              "<caption>A tibble: 6 × 2</caption>\n",
              "<thead>\n",
              "\t<tr><th scope=col>continent</th><th scope=col>avg_gdp</th></tr>\n",
              "\t<tr><th scope=col>&lt;chr&gt;</th><th scope=col>&lt;dbl&gt;</th></tr>\n",
              "</thead>\n",
              "<tbody>\n",
              "\t<tr><td>Africa       </td><td> 119386.4</td></tr>\n",
              "\t<tr><td>Asia         </td><td>1455622.4</td></tr>\n",
              "\t<tr><td>Europe       </td><td> 632969.9</td></tr>\n",
              "\t<tr><td>North America</td><td>1090272.2</td></tr>\n",
              "\t<tr><td>Oceania      </td><td> 113128.8</td></tr>\n",
              "\t<tr><td>South America</td><td> 494061.2</td></tr>\n",
              "</tbody>\n",
              "</table>\n"
            ],
            "text/markdown": "\nA tibble: 6 × 2\n\n| continent &lt;chr&gt; | avg_gdp &lt;dbl&gt; |\n|---|---|\n| Africa        |  119386.4 |\n| Asia          | 1455622.4 |\n| Europe        |  632969.9 |\n| North America | 1090272.2 |\n| Oceania       |  113128.8 |\n| South America |  494061.2 |\n\n",
            "text/latex": "A tibble: 6 × 2\n\\begin{tabular}{ll}\n continent & avg\\_gdp\\\\\n <chr> & <dbl>\\\\\n\\hline\n\t Africa        &  119386.4\\\\\n\t Asia          & 1455622.4\\\\\n\t Europe        &  632969.9\\\\\n\t North America & 1090272.2\\\\\n\t Oceania       &  113128.8\\\\\n\t South America &  494061.2\\\\\n\\end{tabular}\n",
            "text/plain": [
              "  continent     avg_gdp  \n",
              "1 Africa         119386.4\n",
              "2 Asia          1455622.4\n",
              "3 Europe         632969.9\n",
              "4 North America 1090272.2\n",
              "5 Oceania        113128.8\n",
              "6 South America  494061.2"
            ]
          },
          "metadata": {}
        }
      ]
    },
    {
      "cell_type": "markdown",
      "source": [
        "## Part 3: Simulation\n"
      ],
      "metadata": {
        "id": "RzKFsDSaxtLZ"
      },
      "id": "RzKFsDSaxtLZ"
    },
    {
      "cell_type": "code",
      "source": [
        "set.seed(1)"
      ],
      "metadata": {
        "id": "7slLkmhyx0xj"
      },
      "id": "7slLkmhyx0xj",
      "execution_count": 27,
      "outputs": []
    },
    {
      "cell_type": "code",
      "source": [
        "num_tornadoes <- c(0, 1, 2, 3, 4, 5)\n",
        "p <- c(.1, .15, .4, .2, .1, .05)\n",
        "\n",
        "sample(num_tornadoes, 10, prob=p, replace=TRUE)"
      ],
      "metadata": {
        "id": "DpXzmhPnLkqh",
        "colab": {
          "base_uri": "https://localhost:8080/",
          "height": 34
        },
        "outputId": "dc4c919d-870a-4adb-db1e-c3bd62a9ed9f"
      },
      "id": "DpXzmhPnLkqh",
      "execution_count": 28,
      "outputs": [
        {
          "output_type": "display_data",
          "data": {
            "text/html": [
              "<style>\n",
              ".list-inline {list-style: none; margin:0; padding: 0}\n",
              ".list-inline>li {display: inline-block}\n",
              ".list-inline>li:not(:last-child)::after {content: \"\\00b7\"; padding: 0 .5ex}\n",
              "</style>\n",
              "<ol class=list-inline><li>2</li><li>2</li><li>3</li><li>4</li><li>2</li><li>4</li><li>4</li><li>1</li><li>1</li><li>2</li></ol>\n"
            ],
            "text/markdown": "1. 2\n2. 2\n3. 3\n4. 4\n5. 2\n6. 4\n7. 4\n8. 1\n9. 1\n10. 2\n\n\n",
            "text/latex": "\\begin{enumerate*}\n\\item 2\n\\item 2\n\\item 3\n\\item 4\n\\item 2\n\\item 4\n\\item 4\n\\item 1\n\\item 1\n\\item 2\n\\end{enumerate*}\n",
            "text/plain": [
              " [1] 2 2 3 4 2 4 4 1 1 2"
            ]
          },
          "metadata": {}
        }
      ]
    },
    {
      "cell_type": "code",
      "source": [
        "p <- .25\n",
        "\n",
        "rbernoulli(10, p)"
      ],
      "metadata": {
        "colab": {
          "base_uri": "https://localhost:8080/",
          "height": 34
        },
        "id": "LK2VefRP1LHt",
        "outputId": "5706caf7-4666-44d4-bd35-df6fed6a9cb1"
      },
      "id": "LK2VefRP1LHt",
      "execution_count": 29,
      "outputs": [
        {
          "output_type": "display_data",
          "data": {
            "text/html": [
              "<style>\n",
              ".list-inline {list-style: none; margin:0; padding: 0}\n",
              ".list-inline>li {display: inline-block}\n",
              ".list-inline>li:not(:last-child)::after {content: \"\\00b7\"; padding: 0 .5ex}\n",
              "</style>\n",
              "<ol class=list-inline><li>FALSE</li><li>FALSE</li><li>FALSE</li><li>FALSE</li><li>TRUE</li><li>FALSE</li><li>FALSE</li><li>TRUE</li><li>FALSE</li><li>TRUE</li></ol>\n"
            ],
            "text/markdown": "1. FALSE\n2. FALSE\n3. FALSE\n4. FALSE\n5. TRUE\n6. FALSE\n7. FALSE\n8. TRUE\n9. FALSE\n10. TRUE\n\n\n",
            "text/latex": "\\begin{enumerate*}\n\\item FALSE\n\\item FALSE\n\\item FALSE\n\\item FALSE\n\\item TRUE\n\\item FALSE\n\\item FALSE\n\\item TRUE\n\\item FALSE\n\\item TRUE\n\\end{enumerate*}\n",
            "text/plain": [
              " [1] FALSE FALSE FALSE FALSE  TRUE FALSE FALSE  TRUE FALSE  TRUE"
            ]
          },
          "metadata": {}
        }
      ]
    },
    {
      "cell_type": "code",
      "source": [
        "p <- c(.2, .2, .9, .9, .9, .2, .2, .2, .2, .2)\n",
        "\n",
        "rbernoulli(10, p)"
      ],
      "metadata": {
        "colab": {
          "base_uri": "https://localhost:8080/",
          "height": 34
        },
        "id": "UUUtfali1Yba",
        "outputId": "6ec42520-a453-4fde-ecc4-7ca442c79370"
      },
      "id": "UUUtfali1Yba",
      "execution_count": 30,
      "outputs": [
        {
          "output_type": "display_data",
          "data": {
            "text/html": [
              "<style>\n",
              ".list-inline {list-style: none; margin:0; padding: 0}\n",
              ".list-inline>li {display: inline-block}\n",
              ".list-inline>li:not(:last-child)::after {content: \"\\00b7\"; padding: 0 .5ex}\n",
              "</style>\n",
              "<ol class=list-inline><li>TRUE</li><li>FALSE</li><li>TRUE</li><li>TRUE</li><li>TRUE</li><li>FALSE</li><li>FALSE</li><li>FALSE</li><li>TRUE</li><li>FALSE</li></ol>\n"
            ],
            "text/markdown": "1. TRUE\n2. FALSE\n3. TRUE\n4. TRUE\n5. TRUE\n6. FALSE\n7. FALSE\n8. FALSE\n9. TRUE\n10. FALSE\n\n\n",
            "text/latex": "\\begin{enumerate*}\n\\item TRUE\n\\item FALSE\n\\item TRUE\n\\item TRUE\n\\item TRUE\n\\item FALSE\n\\item FALSE\n\\item FALSE\n\\item TRUE\n\\item FALSE\n\\end{enumerate*}\n",
            "text/plain": [
              " [1]  TRUE FALSE  TRUE  TRUE  TRUE FALSE FALSE FALSE  TRUE FALSE"
            ]
          },
          "metadata": {}
        }
      ]
    },
    {
      "cell_type": "code",
      "source": [
        "rnorm(5, 25, 10)"
      ],
      "metadata": {
        "colab": {
          "base_uri": "https://localhost:8080/",
          "height": 34
        },
        "id": "GRLj9roD5aCN",
        "outputId": "6bcff48e-c8e4-4f42-aa6d-6e259dcda674"
      },
      "id": "GRLj9roD5aCN",
      "execution_count": 31,
      "outputs": [
        {
          "output_type": "display_data",
          "data": {
            "text/html": [
              "<style>\n",
              ".list-inline {list-style: none; margin:0; padding: 0}\n",
              ".list-inline>li {display: inline-block}\n",
              ".list-inline>li:not(:last-child)::after {content: \"\\00b7\"; padding: 0 .5ex}\n",
              "</style>\n",
              "<ol class=list-inline><li>24.5506639098477</li><li>24.8380973690105</li><li>34.438362106853</li><li>33.2122119509809</li><li>30.9390132121751</li></ol>\n"
            ],
            "text/markdown": "1. 24.5506639098477\n2. 24.8380973690105\n3. 34.438362106853\n4. 33.2122119509809\n5. 30.9390132121751\n\n\n",
            "text/latex": "\\begin{enumerate*}\n\\item 24.5506639098477\n\\item 24.8380973690105\n\\item 34.438362106853\n\\item 33.2122119509809\n\\item 30.9390132121751\n\\end{enumerate*}\n",
            "text/plain": [
              "[1] 24.55066 24.83810 34.43836 33.21221 30.93901"
            ]
          },
          "metadata": {}
        }
      ]
    },
    {
      "cell_type": "code",
      "source": [
        "sample(c(1,2,7), 5, p=c(1/3, 1/3, 1/3), replace=TRUE)"
      ],
      "metadata": {
        "colab": {
          "base_uri": "https://localhost:8080/",
          "height": 34
        },
        "id": "2NeO7Ih1iM8Y",
        "outputId": "cd77b39f-c206-4966-80c2-6b28bcaecc2f"
      },
      "id": "2NeO7Ih1iM8Y",
      "execution_count": 32,
      "outputs": [
        {
          "output_type": "display_data",
          "data": {
            "text/html": [
              "<style>\n",
              ".list-inline {list-style: none; margin:0; padding: 0}\n",
              ".list-inline>li {display: inline-block}\n",
              ".list-inline>li:not(:last-child)::after {content: \"\\00b7\"; padding: 0 .5ex}\n",
              "</style>\n",
              "<ol class=list-inline><li>1</li><li>7</li><li>1</li><li>7</li><li>7</li></ol>\n"
            ],
            "text/markdown": "1. 1\n2. 7\n3. 1\n4. 7\n5. 7\n\n\n",
            "text/latex": "\\begin{enumerate*}\n\\item 1\n\\item 7\n\\item 1\n\\item 7\n\\item 7\n\\end{enumerate*}\n",
            "text/plain": [
              "[1] 1 7 1 7 7"
            ]
          },
          "metadata": {}
        }
      ]
    },
    {
      "cell_type": "code",
      "source": [
        "rnorm(10, 0, 3) > 0"
      ],
      "metadata": {
        "colab": {
          "base_uri": "https://localhost:8080/",
          "height": 34
        },
        "id": "Xfq29FbYB6oS",
        "outputId": "0a3d71b1-ce47-4385-d34f-92690adcc399"
      },
      "id": "Xfq29FbYB6oS",
      "execution_count": 33,
      "outputs": [
        {
          "output_type": "display_data",
          "data": {
            "text/html": [
              "<style>\n",
              ".list-inline {list-style: none; margin:0; padding: 0}\n",
              ".list-inline>li {display: inline-block}\n",
              ".list-inline>li:not(:last-child)::after {content: \"\\00b7\"; padding: 0 .5ex}\n",
              "</style>\n",
              "<ol class=list-inline><li>TRUE</li><li>FALSE</li><li>TRUE</li><li>TRUE</li><li>FALSE</li><li>FALSE</li><li>TRUE</li><li>FALSE</li><li>FALSE</li><li>FALSE</li></ol>\n"
            ],
            "text/markdown": "1. TRUE\n2. FALSE\n3. TRUE\n4. TRUE\n5. FALSE\n6. FALSE\n7. TRUE\n8. FALSE\n9. FALSE\n10. FALSE\n\n\n",
            "text/latex": "\\begin{enumerate*}\n\\item TRUE\n\\item FALSE\n\\item TRUE\n\\item TRUE\n\\item FALSE\n\\item FALSE\n\\item TRUE\n\\item FALSE\n\\item FALSE\n\\item FALSE\n\\end{enumerate*}\n",
            "text/plain": [
              " [1]  TRUE FALSE  TRUE  TRUE FALSE FALSE  TRUE FALSE FALSE FALSE"
            ]
          },
          "metadata": {}
        }
      ]
    },
    {
      "cell_type": "code",
      "source": [
        "rbernoulli(10, 0.5)"
      ],
      "metadata": {
        "colab": {
          "base_uri": "https://localhost:8080/",
          "height": 34
        },
        "id": "MwqG2P3ICMqy",
        "outputId": "96ee9bfb-e1e3-4a2a-8b4b-556e8ee831c7"
      },
      "id": "MwqG2P3ICMqy",
      "execution_count": 34,
      "outputs": [
        {
          "output_type": "display_data",
          "data": {
            "text/html": [
              "<style>\n",
              ".list-inline {list-style: none; margin:0; padding: 0}\n",
              ".list-inline>li {display: inline-block}\n",
              ".list-inline>li:not(:last-child)::after {content: \"\\00b7\"; padding: 0 .5ex}\n",
              "</style>\n",
              "<ol class=list-inline><li>FALSE</li><li>FALSE</li><li>TRUE</li><li>FALSE</li><li>TRUE</li><li>FALSE</li><li>TRUE</li><li>FALSE</li><li>FALSE</li><li>FALSE</li></ol>\n"
            ],
            "text/markdown": "1. FALSE\n2. FALSE\n3. TRUE\n4. FALSE\n5. TRUE\n6. FALSE\n7. TRUE\n8. FALSE\n9. FALSE\n10. FALSE\n\n\n",
            "text/latex": "\\begin{enumerate*}\n\\item FALSE\n\\item FALSE\n\\item TRUE\n\\item FALSE\n\\item TRUE\n\\item FALSE\n\\item TRUE\n\\item FALSE\n\\item FALSE\n\\item FALSE\n\\end{enumerate*}\n",
            "text/plain": [
              " [1] FALSE FALSE  TRUE FALSE  TRUE FALSE  TRUE FALSE FALSE FALSE"
            ]
          },
          "metadata": {}
        }
      ]
    },
    {
      "cell_type": "code",
      "source": [
        "p_sick = 0.5\n",
        "p_pos_if_sick <- 0.8\n",
        "p_pos_if_healthy <- 0.1\n",
        "\n",
        "cases <- tibble(\n",
        "  is_sick = rbernoulli(10, p_sick)\n",
        ")\n",
        "cases"
      ],
      "metadata": {
        "colab": {
          "base_uri": "https://localhost:8080/",
          "height": 429
        },
        "id": "6B_qYZyQjUw9",
        "outputId": "8d39d647-d342-4ba9-a143-ddbd9911fcfe"
      },
      "id": "6B_qYZyQjUw9",
      "execution_count": 35,
      "outputs": [
        {
          "output_type": "display_data",
          "data": {
            "text/html": [
              "<table class=\"dataframe\">\n",
              "<caption>A tibble: 10 × 1</caption>\n",
              "<thead>\n",
              "\t<tr><th scope=col>is_sick</th></tr>\n",
              "\t<tr><th scope=col>&lt;lgl&gt;</th></tr>\n",
              "</thead>\n",
              "<tbody>\n",
              "\t<tr><td> TRUE</td></tr>\n",
              "\t<tr><td> TRUE</td></tr>\n",
              "\t<tr><td>FALSE</td></tr>\n",
              "\t<tr><td> TRUE</td></tr>\n",
              "\t<tr><td> TRUE</td></tr>\n",
              "\t<tr><td>FALSE</td></tr>\n",
              "\t<tr><td> TRUE</td></tr>\n",
              "\t<tr><td>FALSE</td></tr>\n",
              "\t<tr><td>FALSE</td></tr>\n",
              "\t<tr><td> TRUE</td></tr>\n",
              "</tbody>\n",
              "</table>\n"
            ],
            "text/markdown": "\nA tibble: 10 × 1\n\n| is_sick &lt;lgl&gt; |\n|---|\n|  TRUE |\n|  TRUE |\n| FALSE |\n|  TRUE |\n|  TRUE |\n| FALSE |\n|  TRUE |\n| FALSE |\n| FALSE |\n|  TRUE |\n\n",
            "text/latex": "A tibble: 10 × 1\n\\begin{tabular}{l}\n is\\_sick\\\\\n <lgl>\\\\\n\\hline\n\t  TRUE\\\\\n\t  TRUE\\\\\n\t FALSE\\\\\n\t  TRUE\\\\\n\t  TRUE\\\\\n\t FALSE\\\\\n\t  TRUE\\\\\n\t FALSE\\\\\n\t FALSE\\\\\n\t  TRUE\\\\\n\\end{tabular}\n",
            "text/plain": [
              "   is_sick\n",
              "1   TRUE  \n",
              "2   TRUE  \n",
              "3  FALSE  \n",
              "4   TRUE  \n",
              "5   TRUE  \n",
              "6  FALSE  \n",
              "7   TRUE  \n",
              "8  FALSE  \n",
              "9  FALSE  \n",
              "10  TRUE  "
            ]
          },
          "metadata": {}
        }
      ]
    },
    {
      "cell_type": "code",
      "source": [
        "cases %>% \n",
        "  mutate(\n",
        "    p_pos = if_else(is_sick, p_pos_if_sick, p_pos_if_healthy),\n",
        "    pos = rbernoulli(10, p_pos)\n",
        "  )"
      ],
      "metadata": {
        "colab": {
          "base_uri": "https://localhost:8080/",
          "height": 412
        },
        "id": "drLVDmHnku6K",
        "outputId": "1bfe3f25-8791-4df3-a505-20da3ed37b0e"
      },
      "id": "drLVDmHnku6K",
      "execution_count": 36,
      "outputs": [
        {
          "output_type": "display_data",
          "data": {
            "text/html": [
              "<table class=\"dataframe\">\n",
              "<caption>A tibble: 10 × 3</caption>\n",
              "<thead>\n",
              "\t<tr><th scope=col>is_sick</th><th scope=col>p_pos</th><th scope=col>pos</th></tr>\n",
              "\t<tr><th scope=col>&lt;lgl&gt;</th><th scope=col>&lt;dbl&gt;</th><th scope=col>&lt;lgl&gt;</th></tr>\n",
              "</thead>\n",
              "<tbody>\n",
              "\t<tr><td> TRUE</td><td>0.8</td><td> TRUE</td></tr>\n",
              "\t<tr><td> TRUE</td><td>0.8</td><td> TRUE</td></tr>\n",
              "\t<tr><td>FALSE</td><td>0.1</td><td>FALSE</td></tr>\n",
              "\t<tr><td> TRUE</td><td>0.8</td><td> TRUE</td></tr>\n",
              "\t<tr><td> TRUE</td><td>0.8</td><td>FALSE</td></tr>\n",
              "\t<tr><td>FALSE</td><td>0.1</td><td>FALSE</td></tr>\n",
              "\t<tr><td> TRUE</td><td>0.8</td><td>FALSE</td></tr>\n",
              "\t<tr><td>FALSE</td><td>0.1</td><td>FALSE</td></tr>\n",
              "\t<tr><td>FALSE</td><td>0.1</td><td>FALSE</td></tr>\n",
              "\t<tr><td> TRUE</td><td>0.8</td><td> TRUE</td></tr>\n",
              "</tbody>\n",
              "</table>\n"
            ],
            "text/markdown": "\nA tibble: 10 × 3\n\n| is_sick &lt;lgl&gt; | p_pos &lt;dbl&gt; | pos &lt;lgl&gt; |\n|---|---|---|\n|  TRUE | 0.8 |  TRUE |\n|  TRUE | 0.8 |  TRUE |\n| FALSE | 0.1 | FALSE |\n|  TRUE | 0.8 |  TRUE |\n|  TRUE | 0.8 | FALSE |\n| FALSE | 0.1 | FALSE |\n|  TRUE | 0.8 | FALSE |\n| FALSE | 0.1 | FALSE |\n| FALSE | 0.1 | FALSE |\n|  TRUE | 0.8 |  TRUE |\n\n",
            "text/latex": "A tibble: 10 × 3\n\\begin{tabular}{lll}\n is\\_sick & p\\_pos & pos\\\\\n <lgl> & <dbl> & <lgl>\\\\\n\\hline\n\t  TRUE & 0.8 &  TRUE\\\\\n\t  TRUE & 0.8 &  TRUE\\\\\n\t FALSE & 0.1 & FALSE\\\\\n\t  TRUE & 0.8 &  TRUE\\\\\n\t  TRUE & 0.8 & FALSE\\\\\n\t FALSE & 0.1 & FALSE\\\\\n\t  TRUE & 0.8 & FALSE\\\\\n\t FALSE & 0.1 & FALSE\\\\\n\t FALSE & 0.1 & FALSE\\\\\n\t  TRUE & 0.8 &  TRUE\\\\\n\\end{tabular}\n",
            "text/plain": [
              "   is_sick p_pos pos  \n",
              "1   TRUE   0.8    TRUE\n",
              "2   TRUE   0.8    TRUE\n",
              "3  FALSE   0.1   FALSE\n",
              "4   TRUE   0.8    TRUE\n",
              "5   TRUE   0.8   FALSE\n",
              "6  FALSE   0.1   FALSE\n",
              "7   TRUE   0.8   FALSE\n",
              "8  FALSE   0.1   FALSE\n",
              "9  FALSE   0.1   FALSE\n",
              "10  TRUE   0.8    TRUE"
            ]
          },
          "metadata": {}
        }
      ]
    },
    {
      "cell_type": "code",
      "source": [
        "cases %>%\n",
        "  mutate(\n",
        "    pos_if_sick = rbernoulli(10, p_pos_if_sick),\n",
        "    pos_if_healthy = rbernoulli(10, p_pos_if_healthy),\n",
        "    pos = if_else(is_sick, pos_if_sick, pos_if_healthy)\n",
        "  )"
      ],
      "metadata": {
        "colab": {
          "base_uri": "https://localhost:8080/",
          "height": 412
        },
        "id": "wZhbRSCyk1E5",
        "outputId": "5541478d-9edb-4194-d319-122e059afb09"
      },
      "id": "wZhbRSCyk1E5",
      "execution_count": 37,
      "outputs": [
        {
          "output_type": "display_data",
          "data": {
            "text/html": [
              "<table class=\"dataframe\">\n",
              "<caption>A tibble: 10 × 4</caption>\n",
              "<thead>\n",
              "\t<tr><th scope=col>is_sick</th><th scope=col>pos_if_sick</th><th scope=col>pos_if_healthy</th><th scope=col>pos</th></tr>\n",
              "\t<tr><th scope=col>&lt;lgl&gt;</th><th scope=col>&lt;lgl&gt;</th><th scope=col>&lt;lgl&gt;</th><th scope=col>&lt;lgl&gt;</th></tr>\n",
              "</thead>\n",
              "<tbody>\n",
              "\t<tr><td> TRUE</td><td>TRUE</td><td>FALSE</td><td> TRUE</td></tr>\n",
              "\t<tr><td> TRUE</td><td>TRUE</td><td>FALSE</td><td> TRUE</td></tr>\n",
              "\t<tr><td>FALSE</td><td>TRUE</td><td>FALSE</td><td>FALSE</td></tr>\n",
              "\t<tr><td> TRUE</td><td>TRUE</td><td> TRUE</td><td> TRUE</td></tr>\n",
              "\t<tr><td> TRUE</td><td>TRUE</td><td>FALSE</td><td> TRUE</td></tr>\n",
              "\t<tr><td>FALSE</td><td>TRUE</td><td> TRUE</td><td> TRUE</td></tr>\n",
              "\t<tr><td> TRUE</td><td>TRUE</td><td>FALSE</td><td> TRUE</td></tr>\n",
              "\t<tr><td>FALSE</td><td>TRUE</td><td>FALSE</td><td>FALSE</td></tr>\n",
              "\t<tr><td>FALSE</td><td>TRUE</td><td>FALSE</td><td>FALSE</td></tr>\n",
              "\t<tr><td> TRUE</td><td>TRUE</td><td>FALSE</td><td> TRUE</td></tr>\n",
              "</tbody>\n",
              "</table>\n"
            ],
            "text/markdown": "\nA tibble: 10 × 4\n\n| is_sick &lt;lgl&gt; | pos_if_sick &lt;lgl&gt; | pos_if_healthy &lt;lgl&gt; | pos &lt;lgl&gt; |\n|---|---|---|---|\n|  TRUE | TRUE | FALSE |  TRUE |\n|  TRUE | TRUE | FALSE |  TRUE |\n| FALSE | TRUE | FALSE | FALSE |\n|  TRUE | TRUE |  TRUE |  TRUE |\n|  TRUE | TRUE | FALSE |  TRUE |\n| FALSE | TRUE |  TRUE |  TRUE |\n|  TRUE | TRUE | FALSE |  TRUE |\n| FALSE | TRUE | FALSE | FALSE |\n| FALSE | TRUE | FALSE | FALSE |\n|  TRUE | TRUE | FALSE |  TRUE |\n\n",
            "text/latex": "A tibble: 10 × 4\n\\begin{tabular}{llll}\n is\\_sick & pos\\_if\\_sick & pos\\_if\\_healthy & pos\\\\\n <lgl> & <lgl> & <lgl> & <lgl>\\\\\n\\hline\n\t  TRUE & TRUE & FALSE &  TRUE\\\\\n\t  TRUE & TRUE & FALSE &  TRUE\\\\\n\t FALSE & TRUE & FALSE & FALSE\\\\\n\t  TRUE & TRUE &  TRUE &  TRUE\\\\\n\t  TRUE & TRUE & FALSE &  TRUE\\\\\n\t FALSE & TRUE &  TRUE &  TRUE\\\\\n\t  TRUE & TRUE & FALSE &  TRUE\\\\\n\t FALSE & TRUE & FALSE & FALSE\\\\\n\t FALSE & TRUE & FALSE & FALSE\\\\\n\t  TRUE & TRUE & FALSE &  TRUE\\\\\n\\end{tabular}\n",
            "text/plain": [
              "   is_sick pos_if_sick pos_if_healthy pos  \n",
              "1   TRUE   TRUE        FALSE           TRUE\n",
              "2   TRUE   TRUE        FALSE           TRUE\n",
              "3  FALSE   TRUE        FALSE          FALSE\n",
              "4   TRUE   TRUE         TRUE           TRUE\n",
              "5   TRUE   TRUE        FALSE           TRUE\n",
              "6  FALSE   TRUE         TRUE           TRUE\n",
              "7   TRUE   TRUE        FALSE           TRUE\n",
              "8  FALSE   TRUE        FALSE          FALSE\n",
              "9  FALSE   TRUE        FALSE          FALSE\n",
              "10  TRUE   TRUE        FALSE           TRUE"
            ]
          },
          "metadata": {}
        }
      ]
    },
    {
      "cell_type": "code",
      "source": [
        "sum(rbernoulli(50, 0.9))"
      ],
      "metadata": {
        "colab": {
          "base_uri": "https://localhost:8080/",
          "height": 34
        },
        "id": "MKvUeMaR1Gjm",
        "outputId": "5d84e6a3-d2df-4203-9e99-88ea788c8f15"
      },
      "id": "MKvUeMaR1Gjm",
      "execution_count": 38,
      "outputs": [
        {
          "output_type": "display_data",
          "data": {
            "text/html": [
              "46"
            ],
            "text/markdown": "46",
            "text/latex": "46",
            "text/plain": [
              "[1] 46"
            ]
          },
          "metadata": {}
        }
      ]
    },
    {
      "cell_type": "code",
      "source": [
        "sum(rbernoulli(50, 0.9))"
      ],
      "metadata": {
        "colab": {
          "base_uri": "https://localhost:8080/",
          "height": 34
        },
        "id": "Um3AW4QK1LNG",
        "outputId": "36c4eefd-a9ed-4bab-c9ef-bd05c55bc804"
      },
      "id": "Um3AW4QK1LNG",
      "execution_count": 39,
      "outputs": [
        {
          "output_type": "display_data",
          "data": {
            "text/html": [
              "49"
            ],
            "text/markdown": "49",
            "text/latex": "49",
            "text/plain": [
              "[1] 49"
            ]
          },
          "metadata": {}
        }
      ]
    },
    {
      "cell_type": "code",
      "source": [
        "many_worlds <- replicate(1e5, sum(rbernoulli(50, 0.9)))\n",
        "head(many_worlds)"
      ],
      "metadata": {
        "colab": {
          "base_uri": "https://localhost:8080/",
          "height": 34
        },
        "id": "Ctr-XODL1N2j",
        "outputId": "d8a529db-b8a4-4784-81e4-c64d41747b35"
      },
      "id": "Ctr-XODL1N2j",
      "execution_count": 40,
      "outputs": [
        {
          "output_type": "display_data",
          "data": {
            "text/html": [
              "<style>\n",
              ".list-inline {list-style: none; margin:0; padding: 0}\n",
              ".list-inline>li {display: inline-block}\n",
              ".list-inline>li:not(:last-child)::after {content: \"\\00b7\"; padding: 0 .5ex}\n",
              "</style>\n",
              "<ol class=list-inline><li>49</li><li>42</li><li>46</li><li>48</li><li>42</li><li>46</li></ol>\n"
            ],
            "text/markdown": "1. 49\n2. 42\n3. 46\n4. 48\n5. 42\n6. 46\n\n\n",
            "text/latex": "\\begin{enumerate*}\n\\item 49\n\\item 42\n\\item 46\n\\item 48\n\\item 42\n\\item 46\n\\end{enumerate*}\n",
            "text/plain": [
              "[1] 49 42 46 48 42 46"
            ]
          },
          "metadata": {}
        }
      ]
    },
    {
      "cell_type": "code",
      "source": [
        "mean(many_worlds)"
      ],
      "metadata": {
        "colab": {
          "base_uri": "https://localhost:8080/",
          "height": 34
        },
        "id": "hWoBuMEZLLNF",
        "outputId": "7c123838-7204-44e1-b760-e4ed4288af27"
      },
      "id": "hWoBuMEZLLNF",
      "execution_count": 41,
      "outputs": [
        {
          "output_type": "display_data",
          "data": {
            "text/html": [
              "44.98734"
            ],
            "text/markdown": "44.98734",
            "text/latex": "44.98734",
            "text/plain": [
              "[1] 44.98734"
            ]
          },
          "metadata": {}
        }
      ]
    }
  ],
  "metadata": {
    "colab": {
      "provenance": [],
      "collapsed_sections": [],
      "include_colab_link": true
    },
    "kernelspec": {
      "display_name": "R",
      "language": "R",
      "name": "ir"
    },
    "language_info": {
      "codemirror_mode": "r",
      "file_extension": ".r",
      "mimetype": "text/x-r-source",
      "name": "R",
      "pygments_lexer": "r",
      "version": "4.2.1"
    }
  },
  "nbformat": 4,
  "nbformat_minor": 5
}
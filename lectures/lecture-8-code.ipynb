{
  "cells": [
    {
      "cell_type": "markdown",
      "metadata": {
        "id": "view-in-github",
        "colab_type": "text"
      },
      "source": [
        "<a href=\"https://colab.research.google.com/github/5harad/API201-students/blob/main/lectures/lecture-8-code.ipynb\" target=\"_parent\"><img src=\"https://colab.research.google.com/assets/colab-badge.svg\" alt=\"Open In Colab\"/></a>"
      ]
    },
    {
      "cell_type": "markdown",
      "id": "c8f6d4f7",
      "metadata": {
        "id": "c8f6d4f7"
      },
      "source": [
        "# Lecture 8: Continuous probability distributions"
      ]
    },
    {
      "cell_type": "code",
      "execution_count": 1,
      "id": "1b211e6c",
      "metadata": {
        "id": "1b211e6c",
        "colab": {
          "base_uri": "https://localhost:8080/"
        },
        "outputId": "5bf11c44-a432-4e0c-8c2f-b56d71a082de"
      },
      "outputs": [
        {
          "output_type": "stream",
          "name": "stderr",
          "text": [
            "Warning message in system(\"timedatectl\", intern = TRUE):\n",
            "“running command 'timedatectl' had status 1”\n",
            "── \u001b[1mAttaching packages\u001b[22m ─────────────────────────────────────── tidyverse 1.3.1 ──\n",
            "\n",
            "\u001b[32m✔\u001b[39m \u001b[34mggplot2\u001b[39m 3.3.6      \u001b[32m✔\u001b[39m \u001b[34mpurrr  \u001b[39m 0.3.4 \n",
            "\u001b[32m✔\u001b[39m \u001b[34mtibble \u001b[39m 3.1.7      \u001b[32m✔\u001b[39m \u001b[34mdplyr  \u001b[39m 1.0.10\n",
            "\u001b[32m✔\u001b[39m \u001b[34mtidyr  \u001b[39m 1.2.1      \u001b[32m✔\u001b[39m \u001b[34mstringr\u001b[39m 1.4.1 \n",
            "\u001b[32m✔\u001b[39m \u001b[34mreadr  \u001b[39m 2.1.2      \u001b[32m✔\u001b[39m \u001b[34mforcats\u001b[39m 0.5.2 \n",
            "\n",
            "── \u001b[1mConflicts\u001b[22m ────────────────────────────────────────── tidyverse_conflicts() ──\n",
            "\u001b[31m✖\u001b[39m \u001b[34mdplyr\u001b[39m::\u001b[32mfilter()\u001b[39m masks \u001b[34mstats\u001b[39m::filter()\n",
            "\u001b[31m✖\u001b[39m \u001b[34mdplyr\u001b[39m::\u001b[32mlag()\u001b[39m    masks \u001b[34mstats\u001b[39m::lag()\n",
            "\n"
          ]
        }
      ],
      "source": [
        "library(tidyverse)\n",
        "\n",
        "# set a simple black & white theme for our plots\n",
        "theme_set(theme_bw())"
      ]
    },
    {
      "cell_type": "markdown",
      "id": "c8813e64",
      "metadata": {
        "id": "c8813e64"
      },
      "source": [
        "## Part 1: Rainfall in Burkina Faso "
      ]
    },
    {
      "cell_type": "code",
      "execution_count": 2,
      "id": "49f2d3bd",
      "metadata": {
        "id": "49f2d3bd"
      },
      "outputs": [],
      "source": [
        "set.seed(1)"
      ]
    },
    {
      "cell_type": "code",
      "source": [
        "many_worlds <- rnorm(1e5, 600, 50)\n",
        "head(many_worlds)"
      ],
      "metadata": {
        "id": "-BlqP1OkKEaD",
        "colab": {
          "base_uri": "https://localhost:8080/",
          "height": 34
        },
        "outputId": "6a0f50be-7899-4dca-cd95-7b903cbb1aca"
      },
      "id": "-BlqP1OkKEaD",
      "execution_count": 3,
      "outputs": [
        {
          "output_type": "display_data",
          "data": {
            "text/html": [
              "<style>\n",
              ".list-inline {list-style: none; margin:0; padding: 0}\n",
              ".list-inline>li {display: inline-block}\n",
              ".list-inline>li:not(:last-child)::after {content: \"\\00b7\"; padding: 0 .5ex}\n",
              "</style>\n",
              "<ol class=list-inline><li>568.677309462883</li><li>609.182166211104</li><li>558.218569379498</li><li>679.76404010689</li><li>616.475388590768</li><li>558.976580794099</li></ol>\n"
            ],
            "text/markdown": "1. 568.677309462883\n2. 609.182166211104\n3. 558.218569379498\n4. 679.76404010689\n5. 616.475388590768\n6. 558.976580794099\n\n\n",
            "text/latex": "\\begin{enumerate*}\n\\item 568.677309462883\n\\item 609.182166211104\n\\item 558.218569379498\n\\item 679.76404010689\n\\item 616.475388590768\n\\item 558.976580794099\n\\end{enumerate*}\n",
            "text/plain": [
              "[1] 568.6773 609.1822 558.2186 679.7640 616.4754 558.9766"
            ]
          },
          "metadata": {}
        }
      ]
    },
    {
      "cell_type": "code",
      "source": [
        "ggplot(tibble(Rainfall = many_worlds), aes(x = Rainfall)) + \n",
        "  geom_histogram(bins=50) +\n",
        "  scale_y_continuous('Number of worlds') +\n",
        "  scale_x_continuous(limits=c(400,800)) +\n",
        "  theme(axis.text.x = element_text(color=\"black\"),\n",
        "          axis.text.y = element_text(color=\"black\"))\n",
        "\n",
        "ggsave('rainfall-100k.png', width=4, height=4)"
      ],
      "metadata": {
        "colab": {
          "base_uri": "https://localhost:8080/",
          "height": 580
        },
        "id": "TxpOjhKI0LjN",
        "outputId": "00bb6bfc-d839-4e4c-8015-f4558ba98b95"
      },
      "id": "TxpOjhKI0LjN",
      "execution_count": 4,
      "outputs": [
        {
          "output_type": "stream",
          "name": "stderr",
          "text": [
            "Warning message:\n",
            "“Removed 6 rows containing non-finite values (stat_bin).”\n",
            "Warning message:\n",
            "“Removed 2 rows containing missing values (geom_bar).”\n",
            "Warning message:\n",
            "“Removed 6 rows containing non-finite values (stat_bin).”\n",
            "Warning message:\n",
            "“Removed 2 rows containing missing values (geom_bar).”\n"
          ]
        },
        {
          "output_type": "display_data",
          "data": {
            "text/plain": [
              "plot without title"
            ],
            "image/png": "[encoded data removed]"
          },
          "metadata": {
            "image/png": {
              "width": 420,
              "height": 420
            }
          }
        }
      ]
    },
    {
      "cell_type": "code",
      "source": [
        "head(many_worlds)"
      ],
      "metadata": {
        "colab": {
          "base_uri": "https://localhost:8080/",
          "height": 34
        },
        "id": "T3ZN7uhes4rU",
        "outputId": "b2fc7e06-422c-4c88-aeca-1a83e5ce9346"
      },
      "id": "T3ZN7uhes4rU",
      "execution_count": 5,
      "outputs": [
        {
          "output_type": "display_data",
          "data": {
            "text/html": [
              "<style>\n",
              ".list-inline {list-style: none; margin:0; padding: 0}\n",
              ".list-inline>li {display: inline-block}\n",
              ".list-inline>li:not(:last-child)::after {content: \"\\00b7\"; padding: 0 .5ex}\n",
              "</style>\n",
              "<ol class=list-inline><li>568.677309462883</li><li>609.182166211104</li><li>558.218569379498</li><li>679.76404010689</li><li>616.475388590768</li><li>558.976580794099</li></ol>\n"
            ],
            "text/markdown": "1. 568.677309462883\n2. 609.182166211104\n3. 558.218569379498\n4. 679.76404010689\n5. 616.475388590768\n6. 558.976580794099\n\n\n",
            "text/latex": "\\begin{enumerate*}\n\\item 568.677309462883\n\\item 609.182166211104\n\\item 558.218569379498\n\\item 679.76404010689\n\\item 616.475388590768\n\\item 558.976580794099\n\\end{enumerate*}\n",
            "text/plain": [
              "[1] 568.6773 609.1822 558.2186 679.7640 616.4754 558.9766"
            ]
          },
          "metadata": {}
        }
      ]
    },
    {
      "cell_type": "code",
      "source": [
        "millet_succeeds <- many_worlds > 600\n",
        "head(millet_succeeds)"
      ],
      "metadata": {
        "colab": {
          "base_uri": "https://localhost:8080/",
          "height": 34
        },
        "id": "aBQ6q2jZ8UeX",
        "outputId": "99fcadf5-921d-45ce-e45a-fe8c71d223a4"
      },
      "id": "aBQ6q2jZ8UeX",
      "execution_count": 6,
      "outputs": [
        {
          "output_type": "display_data",
          "data": {
            "text/html": [
              "<style>\n",
              ".list-inline {list-style: none; margin:0; padding: 0}\n",
              ".list-inline>li {display: inline-block}\n",
              ".list-inline>li:not(:last-child)::after {content: \"\\00b7\"; padding: 0 .5ex}\n",
              "</style>\n",
              "<ol class=list-inline><li>FALSE</li><li>TRUE</li><li>FALSE</li><li>TRUE</li><li>TRUE</li><li>FALSE</li></ol>\n"
            ],
            "text/markdown": "1. FALSE\n2. TRUE\n3. FALSE\n4. TRUE\n5. TRUE\n6. FALSE\n\n\n",
            "text/latex": "\\begin{enumerate*}\n\\item FALSE\n\\item TRUE\n\\item FALSE\n\\item TRUE\n\\item TRUE\n\\item FALSE\n\\end{enumerate*}\n",
            "text/plain": [
              "[1] FALSE  TRUE FALSE  TRUE  TRUE FALSE"
            ]
          },
          "metadata": {}
        }
      ]
    },
    {
      "cell_type": "code",
      "source": [
        "mean(millet_succeeds)"
      ],
      "metadata": {
        "colab": {
          "base_uri": "https://localhost:8080/",
          "height": 34
        },
        "id": "n0bWCyvUskvQ",
        "outputId": "58a21f72-228c-4a9d-fef6-01368b6b2b08"
      },
      "id": "n0bWCyvUskvQ",
      "execution_count": 7,
      "outputs": [
        {
          "output_type": "display_data",
          "data": {
            "text/html": [
              "0.50026"
            ],
            "text/markdown": "0.50026",
            "text/latex": "0.50026",
            "text/plain": [
              "[1] 0.50026"
            ]
          },
          "metadata": {}
        }
      ]
    },
    {
      "cell_type": "code",
      "source": [
        "cotton_succeeds <- (many_worlds >= 500) & (many_worlds <= 600)\n",
        "head(cotton_succeeds)"
      ],
      "metadata": {
        "colab": {
          "base_uri": "https://localhost:8080/",
          "height": 34
        },
        "id": "EDigki9I8eCP",
        "outputId": "d41a803b-b160-4089-b2de-ef9d6cccabd6"
      },
      "id": "EDigki9I8eCP",
      "execution_count": 8,
      "outputs": [
        {
          "output_type": "display_data",
          "data": {
            "text/html": [
              "<style>\n",
              ".list-inline {list-style: none; margin:0; padding: 0}\n",
              ".list-inline>li {display: inline-block}\n",
              ".list-inline>li:not(:last-child)::after {content: \"\\00b7\"; padding: 0 .5ex}\n",
              "</style>\n",
              "<ol class=list-inline><li>TRUE</li><li>FALSE</li><li>TRUE</li><li>FALSE</li><li>FALSE</li><li>TRUE</li></ol>\n"
            ],
            "text/markdown": "1. TRUE\n2. FALSE\n3. TRUE\n4. FALSE\n5. FALSE\n6. TRUE\n\n\n",
            "text/latex": "\\begin{enumerate*}\n\\item TRUE\n\\item FALSE\n\\item TRUE\n\\item FALSE\n\\item FALSE\n\\item TRUE\n\\end{enumerate*}\n",
            "text/plain": [
              "[1]  TRUE FALSE  TRUE FALSE FALSE  TRUE"
            ]
          },
          "metadata": {}
        }
      ]
    },
    {
      "cell_type": "code",
      "source": [
        "mean(cotton_succeeds)"
      ],
      "metadata": {
        "colab": {
          "base_uri": "https://localhost:8080/",
          "height": 34
        },
        "id": "6XGQ6CKw87og",
        "outputId": "d6d4d08a-9d9c-41b0-c850-93fa137ccea8"
      },
      "id": "6XGQ6CKw87og",
      "execution_count": 9,
      "outputs": [
        {
          "output_type": "display_data",
          "data": {
            "text/html": [
              "0.47633"
            ],
            "text/markdown": "0.47633",
            "text/latex": "0.47633",
            "text/plain": [
              "[1] 0.47633"
            ]
          },
          "metadata": {}
        }
      ]
    },
    {
      "cell_type": "markdown",
      "source": [
        "##Part 2: Expectation of sums of random variables"
      ],
      "metadata": {
        "id": "eneai7zQAqqn"
      },
      "id": "eneai7zQAqqn"
    },
    {
      "cell_type": "code",
      "source": [
        "young <- abs(rnorm(1e5, 0, 12500))\n",
        "old <- abs(rnorm(1e5, 0, 25000))\n",
        "\n",
        "payments <- tibble(\n",
        "  age = factor(\n",
        "    c(rep('Younger clients', length(young)), \n",
        "      rep('Older clients', length(old))),\n",
        "    levels = c(\"Younger clients\", \"Older clients\")),\n",
        "  payment = c(young, old)\n",
        ")\n",
        "\n",
        "payments %>% \n",
        "  group_by(age) %>%\n",
        "  summarize(avg = mean(payment))\n",
        "\n",
        "ggplot(payments, aes(x = payment)) + \n",
        "  geom_histogram(bins=30) +\n",
        "  scale_y_continuous('Number of worlds') +\n",
        "  scale_x_continuous('Payment', limits=c(0, 1e5)) +\n",
        "  facet_wrap(.~age) +\n",
        "  theme(axis.text.x = element_text(color=\"black\"),\n",
        "          axis.text.y = element_text(color=\"black\"))\n",
        "  \n",
        "ggsave('medical-payments.png', width=6, height=4)\n"
      ],
      "metadata": {
        "colab": {
          "base_uri": "https://localhost:8080/",
          "height": 724
        },
        "id": "ujcnFW4calT3",
        "outputId": "b7a92d34-4307-49df-ee7a-7ecf6dfc5260"
      },
      "id": "ujcnFW4calT3",
      "execution_count": 10,
      "outputs": [
        {
          "output_type": "display_data",
          "data": {
            "text/html": [
              "<table class=\"dataframe\">\n",
              "<caption>A tibble: 2 × 2</caption>\n",
              "<thead>\n",
              "\t<tr><th scope=col>age</th><th scope=col>avg</th></tr>\n",
              "\t<tr><th scope=col>&lt;fct&gt;</th><th scope=col>&lt;dbl&gt;</th></tr>\n",
              "</thead>\n",
              "<tbody>\n",
              "\t<tr><td>Younger clients</td><td> 9985.633</td></tr>\n",
              "\t<tr><td>Older clients  </td><td>19895.240</td></tr>\n",
              "</tbody>\n",
              "</table>\n"
            ],
            "text/markdown": "\nA tibble: 2 × 2\n\n| age &lt;fct&gt; | avg &lt;dbl&gt; |\n|---|---|\n| Younger clients |  9985.633 |\n| Older clients   | 19895.240 |\n\n",
            "text/latex": "A tibble: 2 × 2\n\\begin{tabular}{ll}\n age & avg\\\\\n <fct> & <dbl>\\\\\n\\hline\n\t Younger clients &  9985.633\\\\\n\t Older clients   & 19895.240\\\\\n\\end{tabular}\n",
            "text/plain": [
              "  age             avg      \n",
              "1 Younger clients  9985.633\n",
              "2 Older clients   19895.240"
            ]
          },
          "metadata": {}
        },
        {
          "output_type": "stream",
          "name": "stderr",
          "text": [
            "Warning message:\n",
            "“Removed 7 rows containing non-finite values (stat_bin).”\n",
            "Warning message:\n",
            "“Removed 4 rows containing missing values (geom_bar).”\n",
            "Warning message:\n",
            "“Removed 7 rows containing non-finite values (stat_bin).”\n",
            "Warning message:\n",
            "“Removed 4 rows containing missing values (geom_bar).”\n"
          ]
        },
        {
          "output_type": "display_data",
          "data": {
            "text/plain": [
              "plot without title"
            ],
            "image/png": "[encoded data removed]"
          },
          "metadata": {
            "image/png": {
              "width": 420,
              "height": 420
            }
          }
        }
      ]
    },
    {
      "cell_type": "markdown",
      "source": [
        "Part 3: Variance"
      ],
      "metadata": {
        "id": "keU-vFKczX3U"
      },
      "id": "keU-vFKczX3U"
    },
    {
      "cell_type": "code",
      "source": [
        "set.seed(1)"
      ],
      "metadata": {
        "id": "nqLkOwqR9UtF"
      },
      "id": "nqLkOwqR9UtF",
      "execution_count": 11,
      "outputs": []
    },
    {
      "cell_type": "code",
      "source": [
        "sum(rbernoulli(10, 0.5))"
      ],
      "metadata": {
        "colab": {
          "base_uri": "https://localhost:8080/",
          "height": 34
        },
        "id": "oC2_mG4N8uex",
        "outputId": "e5bc068c-c190-43fa-976f-296426831b8f"
      },
      "id": "oC2_mG4N8uex",
      "execution_count": 12,
      "outputs": [
        {
          "output_type": "display_data",
          "data": {
            "text/html": [
              "6"
            ],
            "text/markdown": "6",
            "text/latex": "6",
            "text/plain": [
              "[1] 6"
            ]
          },
          "metadata": {}
        }
      ]
    },
    {
      "cell_type": "code",
      "source": [
        "sum(rbernoulli(10, 0.5))"
      ],
      "metadata": {
        "colab": {
          "base_uri": "https://localhost:8080/",
          "height": 34
        },
        "id": "bc_5xhPi8vRh",
        "outputId": "9cddf53d-d795-4250-e99e-008469aa9b3e"
      },
      "id": "bc_5xhPi8vRh",
      "execution_count": 13,
      "outputs": [
        {
          "output_type": "display_data",
          "data": {
            "text/html": [
              "5"
            ],
            "text/markdown": "5",
            "text/latex": "5",
            "text/plain": [
              "[1] 5"
            ]
          },
          "metadata": {}
        }
      ]
    },
    {
      "cell_type": "code",
      "source": [
        "many_worlds <- replicate(1e5, sum(rbernoulli(10, 0.5)))"
      ],
      "metadata": {
        "id": "prw4m95ifZ1g"
      },
      "id": "prw4m95ifZ1g",
      "execution_count": 14,
      "outputs": []
    },
    {
      "cell_type": "code",
      "source": [
        "ggplot(tibble(Years = many_worlds), aes(x = Years)) + \n",
        "  geom_histogram(bins=50) +\n",
        "  scale_y_continuous('Number of worlds') +\n",
        "  scale_x_continuous(limits=c(0,10), breaks = 0:10) +\n",
        "  theme(axis.text.x = element_text(color=\"black\"),\n",
        "          axis.text.y = element_text(color=\"black\"))\n",
        "\n",
        "ggsave('crop-yield.png', width=4, height=4)"
      ],
      "metadata": {
        "colab": {
          "base_uri": "https://localhost:8080/",
          "height": 508
        },
        "id": "m027Kvpp8x7i",
        "outputId": "d05f86ae-d686-4c28-cedf-401f40e3a7fb"
      },
      "id": "m027Kvpp8x7i",
      "execution_count": 15,
      "outputs": [
        {
          "output_type": "stream",
          "name": "stderr",
          "text": [
            "Warning message:\n",
            "“Removed 2 rows containing missing values (geom_bar).”\n",
            "Warning message:\n",
            "“Removed 2 rows containing missing values (geom_bar).”\n"
          ]
        },
        {
          "output_type": "display_data",
          "data": {
            "text/plain": [
              "plot without title"
            ],
            "image/png": "[encoded data removed]"
          },
          "metadata": {
            "image/png": {
              "width": 420,
              "height": 420
            }
          }
        }
      ]
    },
    {
      "cell_type": "code",
      "source": [
        "mean(many_worlds)"
      ],
      "metadata": {
        "colab": {
          "base_uri": "https://localhost:8080/",
          "height": 34
        },
        "id": "-o8Z50Qn_PAX",
        "outputId": "efbfbb61-cc87-41c8-f65b-c2fe9dc446ae"
      },
      "id": "-o8Z50Qn_PAX",
      "execution_count": 16,
      "outputs": [
        {
          "output_type": "display_data",
          "data": {
            "text/html": [
              "5.00368"
            ],
            "text/markdown": "5.00368",
            "text/latex": "5.00368",
            "text/plain": [
              "[1] 5.00368"
            ]
          },
          "metadata": {}
        }
      ]
    },
    {
      "cell_type": "code",
      "source": [
        "sd(many_worlds)"
      ],
      "metadata": {
        "colab": {
          "base_uri": "https://localhost:8080/",
          "height": 34
        },
        "id": "Da6iTmik_R1C",
        "outputId": "5afd07eb-70ed-425a-8b2e-01e71799f24d"
      },
      "id": "Da6iTmik_R1C",
      "execution_count": 17,
      "outputs": [
        {
          "output_type": "display_data",
          "data": {
            "text/html": [
              "1.5762713294078"
            ],
            "text/markdown": "1.5762713294078",
            "text/latex": "1.5762713294078",
            "text/plain": [
              "[1] 1.576271"
            ]
          },
          "metadata": {}
        }
      ]
    }
  ],
  "metadata": {
    "colab": {
      "provenance": [],
      "collapsed_sections": [],
      "include_colab_link": true
    },
    "kernelspec": {
      "display_name": "R",
      "language": "R",
      "name": "ir"
    },
    "language_info": {
      "codemirror_mode": "r",
      "file_extension": ".r",
      "mimetype": "text/x-r-source",
      "name": "R",
      "pygments_lexer": "r",
      "version": "4.2.1"
    }
  },
  "nbformat": 4,
  "nbformat_minor": 5
}
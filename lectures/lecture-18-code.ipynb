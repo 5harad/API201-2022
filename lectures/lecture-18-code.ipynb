{
  "cells": [
    {
      "cell_type": "markdown",
      "metadata": {
        "id": "view-in-github",
        "colab_type": "text"
      },
      "source": [
        "<a href=\"https://colab.research.google.com/github/5harad/API201-students/blob/main/lectures/lecture-18-code.ipynb\" target=\"_parent\"><img src=\"https://colab.research.google.com/assets/colab-badge.svg\" alt=\"Open In Colab\"/></a>"
      ]
    },
    {
      "cell_type": "markdown",
      "id": "c8f6d4f7",
      "metadata": {
        "id": "c8f6d4f7"
      },
      "source": [
        "# Lecture 17: Statistical significance\n",
        "\n"
      ]
    },
    {
      "cell_type": "code",
      "execution_count": 1,
      "id": "1b211e6c",
      "metadata": {
        "id": "1b211e6c",
        "colab": {
          "base_uri": "https://localhost:8080/"
        },
        "outputId": "173c71e9-a83a-4cea-ba29-55a5149ec839"
      },
      "outputs": [
        {
          "output_type": "stream",
          "name": "stderr",
          "text": [
            "Warning message in system(\"timedatectl\", intern = TRUE):\n",
            "“running command 'timedatectl' had status 1”\n",
            "── \u001b[1mAttaching packages\u001b[22m ─────────────────────────────────────── tidyverse 1.3.1 ──\n",
            "\n",
            "\u001b[32m✔\u001b[39m \u001b[34mggplot2\u001b[39m 3.3.6      \u001b[32m✔\u001b[39m \u001b[34mpurrr  \u001b[39m 0.3.5 \n",
            "\u001b[32m✔\u001b[39m \u001b[34mtibble \u001b[39m 3.1.7      \u001b[32m✔\u001b[39m \u001b[34mdplyr  \u001b[39m 1.0.10\n",
            "\u001b[32m✔\u001b[39m \u001b[34mtidyr  \u001b[39m 1.2.1      \u001b[32m✔\u001b[39m \u001b[34mstringr\u001b[39m 1.4.1 \n",
            "\u001b[32m✔\u001b[39m \u001b[34mreadr  \u001b[39m 2.1.3      \u001b[32m✔\u001b[39m \u001b[34mforcats\u001b[39m 0.5.2 \n",
            "\n",
            "── \u001b[1mConflicts\u001b[22m ────────────────────────────────────────── tidyverse_conflicts() ──\n",
            "\u001b[31m✖\u001b[39m \u001b[34mdplyr\u001b[39m::\u001b[32mfilter()\u001b[39m masks \u001b[34mstats\u001b[39m::filter()\n",
            "\u001b[31m✖\u001b[39m \u001b[34mdplyr\u001b[39m::\u001b[32mlag()\u001b[39m    masks \u001b[34mstats\u001b[39m::lag()\n",
            "\n"
          ]
        }
      ],
      "source": [
        "library(tidyverse)\n",
        "\n",
        "theme_set(theme_bw())"
      ]
    },
    {
      "cell_type": "code",
      "source": [
        "set.seed(1)"
      ],
      "metadata": {
        "id": "tiC2K2yp-nVp"
      },
      "id": "tiC2K2yp-nVp",
      "execution_count": 2,
      "outputs": []
    },
    {
      "cell_type": "code",
      "source": [
        "n1 <- 3000\n",
        "p1_hat <- 201 / 3000\n",
        "\n",
        "n2 <- 3000\n",
        "p2_hat <- 141 / 3000\n",
        "\n",
        "p1_hat - p2_hat"
      ],
      "metadata": {
        "colab": {
          "base_uri": "https://localhost:8080/",
          "height": 34
        },
        "id": "b63Cbpiv9fSc",
        "outputId": "46bbf6e0-a5cd-4192-a2ee-2f1ec480727d"
      },
      "id": "b63Cbpiv9fSc",
      "execution_count": 3,
      "outputs": [
        {
          "output_type": "display_data",
          "data": {
            "text/html": [
              "0.02"
            ],
            "text/markdown": "0.02",
            "text/latex": "0.02",
            "text/plain": [
              "[1] 0.02"
            ]
          },
          "metadata": {}
        }
      ]
    },
    {
      "cell_type": "code",
      "source": [
        "s <- sqrt(p1_hat*(1-p1_hat)/n1 + p2_hat*(1-p2_hat)/n2)\n",
        "s"
      ],
      "metadata": {
        "colab": {
          "base_uri": "https://localhost:8080/",
          "height": 34
        },
        "id": "Q994xsdA99Nk",
        "outputId": "7107c962-4ff5-4bd2-afd1-5f57292c33e2"
      },
      "id": "Q994xsdA99Nk",
      "execution_count": 4,
      "outputs": [
        {
          "output_type": "display_data",
          "data": {
            "text/html": [
              "0.00598057968204867"
            ],
            "text/markdown": "0.00598057968204867",
            "text/latex": "0.00598057968204867",
            "text/plain": [
              "[1] 0.00598058"
            ]
          },
          "metadata": {}
        }
      ]
    },
    {
      "cell_type": "code",
      "source": [
        "estimates <- rnorm(1e6, mean = 0, sd = s)"
      ],
      "metadata": {
        "id": "6eF2HSdoGZut"
      },
      "id": "6eF2HSdoGZut",
      "execution_count": 5,
      "outputs": []
    },
    {
      "cell_type": "code",
      "source": [
        "ggplot(tibble(Estimate = estimates), aes(x = Estimate)) +\n",
        "  geom_histogram(bins=50) +\n",
        "  scale_y_continuous('Number of worlds') +\n",
        "  scale_x_continuous(limits=c(-.03, .03)) +\n",
        "  geom_vline(xintercept = -2*s, color='red', linetype='dashed') +\n",
        "  geom_vline(xintercept = 2*s, color='red', linetype='dashed')\n",
        "ggsave('null-diff-in-prop.png', width=4, height=4)"
      ],
      "metadata": {
        "colab": {
          "base_uri": "https://localhost:8080/",
          "height": 437
        },
        "id": "gRwJVONOYujf",
        "outputId": "a5a15f1f-f879-4489-968d-768df51278f3"
      },
      "id": "gRwJVONOYujf",
      "execution_count": 6,
      "outputs": [
        {
          "output_type": "display_data",
          "data": {
            "text/plain": [
              "plot without title"
            ],
            "image/png": "[encoded data removed]"
          },
          "metadata": {
            "image/png": {
              "width": 420,
              "height": 420
            }
          }
        }
      ]
    },
    {
      "cell_type": "code",
      "source": [
        "z <- ( (p1_hat - p2_hat) - 0 ) / s\n",
        "z"
      ],
      "metadata": {
        "colab": {
          "base_uri": "https://localhost:8080/",
          "height": 34
        },
        "id": "rM_jA6uhOusA",
        "outputId": "1a9f157e-606b-49ad-becc-9a53489f562f"
      },
      "id": "rM_jA6uhOusA",
      "execution_count": 7,
      "outputs": [
        {
          "output_type": "display_data",
          "data": {
            "text/html": [
              "3.34415743343945"
            ],
            "text/markdown": "3.34415743343945",
            "text/latex": "3.34415743343945",
            "text/plain": [
              "[1] 3.344157"
            ]
          },
          "metadata": {}
        }
      ]
    },
    {
      "cell_type": "code",
      "source": [
        "p_value <- 2*pnorm(-abs(z))\n",
        "p_value"
      ],
      "metadata": {
        "colab": {
          "base_uri": "https://localhost:8080/",
          "height": 34
        },
        "id": "U4zon7_hO-dx",
        "outputId": "6383133b-57d6-45f4-9c66-9fdbc6c689aa"
      },
      "id": "U4zon7_hO-dx",
      "execution_count": 8,
      "outputs": [
        {
          "output_type": "display_data",
          "data": {
            "text/html": [
              "0.000825328874622567"
            ],
            "text/markdown": "0.000825328874622567",
            "text/latex": "0.000825328874622567",
            "text/plain": [
              "[1] 0.0008253289"
            ]
          },
          "metadata": {}
        }
      ]
    }
  ],
  "metadata": {
    "colab": {
      "provenance": [],
      "collapsed_sections": [],
      "include_colab_link": true
    },
    "kernelspec": {
      "display_name": "R",
      "language": "R",
      "name": "ir"
    },
    "language_info": {
      "codemirror_mode": "r",
      "file_extension": ".r",
      "mimetype": "text/x-r-source",
      "name": "R",
      "pygments_lexer": "r",
      "version": "4.2.1"
    }
  },
  "nbformat": 4,
  "nbformat_minor": 5
}
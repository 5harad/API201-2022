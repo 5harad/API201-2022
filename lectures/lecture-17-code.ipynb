{
 "cells": [
  {
   "cell_type": "markdown",
   "id": "bd532d67-f8d9-4266-b4ba-d63d1b49b76f",
   "metadata": {
    "colab_type": "text",
    "id": "view-in-github"
   },
   "source": [
    "<a href=\"https://colab.research.google.com/github/5harad/API201-students/blob/main/lectures/lecture-17-code.ipynb\" target=\"_parent\"><img src=\"https://colab.research.google.com/assets/colab-badge.svg\" alt=\"Open In Colab\"/></a>"
   ]
  },
  {
   "cell_type": "markdown",
   "id": "c8f6d4f7",
   "metadata": {
    "id": "c8f6d4f7"
   },
   "source": [
    "# Lecture 17: Statistical significance\n",
    "\n"
   ]
  },
  {
   "cell_type": "code",
   "execution_count": 1,
   "id": "1b211e6c",
   "metadata": {
    "colab": {
     "base_uri": "https://localhost:8080/"
    },
    "id": "1b211e6c",
    "outputId": "1e57155d-8d13-4a33-cd67-8beb6c07ab1d"
   },
   "outputs": [
    {
     "name": "stderr",
     "output_type": "stream",
     "text": [
      "Warning message in system(\"timedatectl\", intern = TRUE):\n",
      "“running command 'timedatectl' had status 1”\n",
      "── \u001b[1mAttaching packages\u001b[22m ─────────────────────────────────────── tidyverse 1.3.1 ──\n",
      "\n",
      "\u001b[32m✔\u001b[39m \u001b[34mggplot2\u001b[39m 3.3.6      \u001b[32m✔\u001b[39m \u001b[34mpurrr  \u001b[39m 0.3.5 \n",
      "\u001b[32m✔\u001b[39m \u001b[34mtibble \u001b[39m 3.1.7      \u001b[32m✔\u001b[39m \u001b[34mdplyr  \u001b[39m 1.0.10\n",
      "\u001b[32m✔\u001b[39m \u001b[34mtidyr  \u001b[39m 1.2.1      \u001b[32m✔\u001b[39m \u001b[34mstringr\u001b[39m 1.4.1 \n",
      "\u001b[32m✔\u001b[39m \u001b[34mreadr  \u001b[39m 2.1.3      \u001b[32m✔\u001b[39m \u001b[34mforcats\u001b[39m 0.5.2 \n",
      "\n",
      "── \u001b[1mConflicts\u001b[22m ────────────────────────────────────────── tidyverse_conflicts() ──\n",
      "\u001b[31m✖\u001b[39m \u001b[34mdplyr\u001b[39m::\u001b[32mfilter()\u001b[39m masks \u001b[34mstats\u001b[39m::filter()\n",
      "\u001b[31m✖\u001b[39m \u001b[34mdplyr\u001b[39m::\u001b[32mlag()\u001b[39m    masks \u001b[34mstats\u001b[39m::lag()\n",
      "\n"
     ]
    }
   ],
   "source": [
    "library(tidyverse)\n",
    "\n",
    "theme_set(theme_bw())"
   ]
  },
  {
   "cell_type": "code",
   "execution_count": 2,
   "id": "tiC2K2yp-nVp",
   "metadata": {
    "id": "tiC2K2yp-nVp"
   },
   "outputs": [],
   "source": [
    "set.seed(1)"
   ]
  },
  {
   "cell_type": "code",
   "execution_count": 3,
   "id": "mfH6m1T-9eOA",
   "metadata": {
    "colab": {
     "base_uri": "https://localhost:8080/",
     "height": 508
    },
    "id": "mfH6m1T-9eOA",
    "outputId": "7c5bf54d-b384-49c3-9997-0d58cbe988a7"
   },
   "outputs": [
    {
     "name": "stderr",
     "output_type": "stream",
     "text": [
      "Warning message:\n",
      "“Removed 1 rows containing missing values (geom_bar).”\n",
      "Warning message:\n",
      "“Removed 1 rows containing missing values (geom_bar).”\n"
     ]
    },
    {
     "data": {
      "image/png": "[encoded data removed]",
      "text/plain": [
       "plot without title"
      ]
     },
     "metadata": {
      "image/png": {
       "height": 420,
       "width": 420
      }
     },
     "output_type": "display_data"
    }
   ],
   "source": [
    "estimates <- rnorm(1e4, mean=0, sd=47)\n",
    "\n",
    "ggplot(tibble(Estimate = estimates), aes(x = Estimate)) +\n",
    "  geom_histogram(bins=30) +\n",
    "  scale_y_continuous('Number of worlds') +\n",
    "  scale_x_continuous(limits=c(-200, 200))\n",
    "ggsave('null-diff-in-means.png', width=4, height=4)"
   ]
  },
  {
   "cell_type": "code",
   "execution_count": 4,
   "id": "J8VFMeHeDNC6",
   "metadata": {
    "colab": {
     "base_uri": "https://localhost:8080/",
     "height": 34
    },
    "id": "J8VFMeHeDNC6",
    "outputId": "1e8dda13-6471-4fb7-857a-e63ed2a97521"
   },
   "outputs": [
    {
     "data": {
      "text/html": [
       "0.4351"
      ],
      "text/latex": [
       "0.4351"
      ],
      "text/markdown": [
       "0.4351"
      ],
      "text/plain": [
       "[1] 0.4351"
      ]
     },
     "metadata": {},
     "output_type": "display_data"
    }
   ],
   "source": [
    "obs <- 37\n",
    "pvalue <- mean(estimates >= obs | estimates <= -obs)\n",
    "pvalue"
   ]
  },
  {
   "cell_type": "code",
   "execution_count": 2,
   "id": "nfoBIHRaVgB-",
   "metadata": {
    "colab": {
     "base_uri": "https://localhost:8080/",
     "height": 34
    },
    "id": "nfoBIHRaVgB-",
    "outputId": "832f9b51-a3f0-440b-bd93-f09e849a4840"
   },
   "outputs": [
    {
     "data": {
      "text/html": [
       "0.787234042553192"
      ],
      "text/latex": [
       "0.787234042553192"
      ],
      "text/markdown": [
       "0.787234042553192"
      ],
      "text/plain": [
       "[1] 0.787234"
      ]
     },
     "metadata": {},
     "output_type": "display_data"
    }
   ],
   "source": [
    "z <- (37 - 0) / 47\n",
    "z"
   ]
  },
  {
   "cell_type": "code",
   "execution_count": 3,
   "id": "9wt7Ea2tVuvT",
   "metadata": {
    "colab": {
     "base_uri": "https://localhost:8080/",
     "height": 34
    },
    "id": "9wt7Ea2tVuvT",
    "outputId": "12961e8a-e24c-48bf-dc26-aeeb1ab14367"
   },
   "outputs": [
    {
     "data": {
      "text/html": [
       "0.431144872452264"
      ],
      "text/latex": [
       "0.431144872452264"
      ],
      "text/markdown": [
       "0.431144872452264"
      ],
      "text/plain": [
       "[1] 0.4311449"
      ]
     },
     "metadata": {},
     "output_type": "display_data"
    }
   ],
   "source": [
    "pvalue <- 2*pnorm(-abs(z))\n",
    "pvalue"
   ]
  },
  {
   "cell_type": "code",
   "execution_count": 7,
   "id": "9Jsz8NbSDbwA",
   "metadata": {
    "colab": {
     "base_uri": "https://localhost:8080/",
     "height": 34
    },
    "id": "9Jsz8NbSDbwA",
    "outputId": "1eae004c-f3cf-43c1-e3e2-2acd537538e1"
   },
   "outputs": [
    {
     "data": {
      "text/html": [
       "0.0369"
      ],
      "text/latex": [
       "0.0369"
      ],
      "text/markdown": [
       "0.0369"
      ],
      "text/plain": [
       "[1] 0.0369"
      ]
     },
     "metadata": {},
     "output_type": "display_data"
    }
   ],
   "source": [
    "obs <- 100\n",
    "pvalue <- mean(estimates >= obs | estimates <= -obs)\n",
    "pvalue"
   ]
  },
  {
   "cell_type": "code",
   "execution_count": 4,
   "id": "o8L3MrtvV-mr",
   "metadata": {
    "colab": {
     "base_uri": "https://localhost:8080/",
     "height": 34
    },
    "id": "o8L3MrtvV-mr",
    "outputId": "ff08a5e0-6bbd-4114-a092-1444e7a56140"
   },
   "outputs": [
    {
     "data": {
      "text/html": [
       "2.12765957446809"
      ],
      "text/latex": [
       "2.12765957446809"
      ],
      "text/markdown": [
       "2.12765957446809"
      ],
      "text/plain": [
       "[1] 2.12766"
      ]
     },
     "metadata": {},
     "output_type": "display_data"
    }
   ],
   "source": [
    "z <- (100 - 0) / 47\n",
    "z"
   ]
  },
  {
   "cell_type": "code",
   "execution_count": 5,
   "id": "cboJqg7bWCgJ",
   "metadata": {
    "colab": {
     "base_uri": "https://localhost:8080/",
     "height": 34
    },
    "id": "cboJqg7bWCgJ",
    "outputId": "cbf9f4bd-45c7-4ce2-c56c-7a59ef6f733e"
   },
   "outputs": [
    {
     "data": {
      "text/html": [
       "0.0333653189448041"
      ],
      "text/latex": [
       "0.0333653189448041"
      ],
      "text/markdown": [
       "0.0333653189448041"
      ],
      "text/plain": [
       "[1] 0.03336532"
      ]
     },
     "metadata": {},
     "output_type": "display_data"
    }
   ],
   "source": [
    "pvalue <- 2*pnorm(-abs(z))\n",
    "pvalue"
   ]
  },
  {
   "cell_type": "code",
   "execution_count": 10,
   "id": "jNUgdyOuYDGN",
   "metadata": {
    "colab": {
     "base_uri": "https://localhost:8080/",
     "height": 34
    },
    "id": "jNUgdyOuYDGN",
    "outputId": "aa889e13-ae73-4446-8f13-6349cb21273e"
   },
   "outputs": [
    {
     "data": {
      "text/html": [
       "0.080528"
      ],
      "text/latex": [
       "0.080528"
      ],
      "text/markdown": [
       "0.080528"
      ],
      "text/plain": [
       "[1] 0.080528"
      ]
     },
     "metadata": {},
     "output_type": "display_data"
    }
   ],
   "source": [
    "estimates <- rnorm(1e6, mean=0.42, sd=0.02)\n",
    "\n",
    "obs <- 0.385\n",
    "pvalue <- mean(abs(estimates - 0.42) >= abs(0.42 - obs))\n",
    "pvalue\n"
   ]
  },
  {
   "cell_type": "code",
   "execution_count": 11,
   "id": "gRwJVONOYujf",
   "metadata": {
    "colab": {
     "base_uri": "https://localhost:8080/",
     "height": 508
    },
    "id": "gRwJVONOYujf",
    "outputId": "05ae5a72-c2ae-4e65-ef50-d07fa7d6c04b"
   },
   "outputs": [
    {
     "name": "stderr",
     "output_type": "stream",
     "text": [
      "Warning message:\n",
      "“Removed 2 rows containing missing values (geom_bar).”\n",
      "Warning message:\n",
      "“Removed 2 rows containing missing values (geom_bar).”\n"
     ]
    },
    {
     "data": {
      "image/png": "[encoded data removed]",
      "text/plain": [
       "plot without title"
      ]
     },
     "metadata": {
      "image/png": {
       "height": 420,
       "width": 420
      }
     },
     "output_type": "display_data"
    }
   ],
   "source": [
    "ggplot(tibble(Estimate = estimates), aes(x = Estimate)) +\n",
    "  geom_histogram(bins=30) +\n",
    "  scale_y_continuous('Number of worlds') +\n",
    "  scale_x_continuous(limits=c(.32, .52)) +\n",
    "  geom_vline(xintercept = 0.455, color='red') +\n",
    "  geom_vline(xintercept = 0.385, color='red') +\n",
    "  geom_vline(xintercept = 0.46, color='red', linetype='dashed') +\n",
    "  geom_vline(xintercept = 0.38, color='red', linetype='dashed')\n",
    "ggsave('null-diff-in-prop.png', width=4, height=4)"
   ]
  },
  {
   "cell_type": "code",
   "execution_count": 12,
   "id": "aQYpExjgef1e",
   "metadata": {
    "colab": {
     "base_uri": "https://localhost:8080/",
     "height": 34
    },
    "id": "aQYpExjgef1e",
    "outputId": "437ce56f-f795-497d-ce99-0125660d60df"
   },
   "outputs": [
    {
     "data": {
      "text/html": [
       "0.019625"
      ],
      "text/latex": [
       "0.019625"
      ],
      "text/markdown": [
       "0.019625"
      ],
      "text/plain": [
       "[1] 0.019625"
      ]
     },
     "metadata": {},
     "output_type": "display_data"
    }
   ],
   "source": [
    "estimates <- rnorm(1e6, mean=0.42, sd=0.015)\n",
    "\n",
    "obs <- 0.385\n",
    "pvalue <- mean(abs(estimates - 0.42) >= abs(0.42 - obs))\n",
    "pvalue"
   ]
  },
  {
   "cell_type": "code",
   "execution_count": 13,
   "id": "MmmzrZbmejZU",
   "metadata": {
    "colab": {
     "base_uri": "https://localhost:8080/",
     "height": 508
    },
    "id": "MmmzrZbmejZU",
    "outputId": "bb9ec8a2-ca92-49c4-a049-d81acc6c1e00"
   },
   "outputs": [
    {
     "name": "stderr",
     "output_type": "stream",
     "text": [
      "Warning message:\n",
      "“Removed 2 rows containing missing values (geom_bar).”\n",
      "Warning message:\n",
      "“Removed 2 rows containing missing values (geom_bar).”\n"
     ]
    },
    {
     "data": {
      "image/png": "[encoded data removed]",
      "text/plain": [
       "plot without title"
      ]
     },
     "metadata": {
      "image/png": {
       "height": 420,
       "width": 420
      }
     },
     "output_type": "display_data"
    }
   ],
   "source": [
    "ggplot(tibble(Estimate = estimates), aes(x = Estimate)) +\n",
    "  geom_histogram(bins=30) +\n",
    "  scale_y_continuous('Number of worlds') +\n",
    "  scale_x_continuous(limits=c(.32, .52)) +\n",
    "  geom_vline(xintercept = 0.455, color='red') +\n",
    "  geom_vline(xintercept = 0.385, color='red') +\n",
    "  geom_vline(xintercept = 0.45, color='red', linetype='dashed') +\n",
    "  geom_vline(xintercept = 0.39, color='red', linetype='dashed')\n",
    "ggsave('null-diff-in-prop2.png', width=4, height=4)"
   ]
  },
  {
   "cell_type": "code",
   "execution_count": 14,
   "id": "2sDUWlaSM_Hf",
   "metadata": {
    "colab": {
     "base_uri": "https://localhost:8080/",
     "height": 34
    },
    "id": "2sDUWlaSM_Hf",
    "outputId": "dc29b8f0-037b-4393-8656-259bff554ea2"
   },
   "outputs": [
    {
     "data": {
      "text/html": [
       "<style>\n",
       ".list-inline {list-style: none; margin:0; padding: 0}\n",
       ".list-inline>li {display: inline-block}\n",
       ".list-inline>li:not(:last-child)::after {content: \"\\00b7\"; padding: 0 .5ex}\n",
       "</style>\n",
       "<ol class=list-inline><li>0.345269658949362</li><li>0.424730341050638</li></ol>\n"
      ],
      "text/latex": [
       "\\begin{enumerate*}\n",
       "\\item 0.345269658949362\n",
       "\\item 0.424730341050638\n",
       "\\end{enumerate*}\n"
      ],
      "text/markdown": [
       "1. 0.345269658949362\n",
       "2. 0.424730341050638\n",
       "\n",
       "\n"
      ],
      "text/plain": [
       "[1] 0.3452697 0.4247303"
      ]
     },
     "metadata": {},
     "output_type": "display_data"
    }
   ],
   "source": [
    "n <- 600\n",
    "p_hat <- 231 / 600\n",
    "\n",
    "s <- sqrt(p_hat*(1-p_hat)/n)\n",
    "\n",
    "c(p_hat - 2*s, p_hat + 2*s)"
   ]
  },
  {
   "cell_type": "code",
   "execution_count": 15,
   "id": "_heUzrKmNV7m",
   "metadata": {
    "colab": {
     "base_uri": "https://localhost:8080/",
     "height": 34
    },
    "id": "_heUzrKmNV7m",
    "outputId": "e4bcd8d3-826c-44d0-9d0b-71ad6a112002"
   },
   "outputs": [
    {
     "data": {
      "text/html": [
       "<style>\n",
       ".list-inline {list-style: none; margin:0; padding: 0}\n",
       ".list-inline>li {display: inline-block}\n",
       ".list-inline>li:not(:last-child)::after {content: \"\\00b7\"; padding: 0 .5ex}\n",
       "</style>\n",
       "<ol class=list-inline><li>0.35690640642424</li><li>0.41309359357576</li></ol>\n"
      ],
      "text/latex": [
       "\\begin{enumerate*}\n",
       "\\item 0.35690640642424\n",
       "\\item 0.41309359357576\n",
       "\\end{enumerate*}\n"
      ],
      "text/markdown": [
       "1. 0.35690640642424\n",
       "2. 0.41309359357576\n",
       "\n",
       "\n"
      ],
      "text/plain": [
       "[1] 0.3569064 0.4130936"
      ]
     },
     "metadata": {},
     "output_type": "display_data"
    }
   ],
   "source": [
    "n <- 1200\n",
    "p_hat <- 462 / 1200\n",
    "\n",
    "s <- sqrt(p_hat*(1-p_hat)/n)\n",
    "\n",
    "c(p_hat - 2*s, p_hat + 2*s)"
   ]
  }
 ],
 "metadata": {
  "colab": {
   "collapsed_sections": [],
   "include_colab_link": true,
   "provenance": []
  },
  "kernelspec": {
   "display_name": "R",
   "language": "R",
   "name": "ir"
  },
  "language_info": {
   "codemirror_mode": "r",
   "file_extension": ".r",
   "mimetype": "text/x-r-source",
   "name": "R",
   "pygments_lexer": "r",
   "version": "4.2.1"
  }
 },
 "nbformat": 4,
 "nbformat_minor": 5
}
